{
 "cells": [
  {
   "cell_type": "code",
   "execution_count": null,
   "id": "0eb7b096-6d18-4745-8f30-6c8ab628cf69",
   "metadata": {},
   "outputs": [],
   "source": [
    "!pip install fastparquet"
   ]
  },
  {
   "cell_type": "code",
   "execution_count": null,
   "id": "2bbf7e9f-7400-4fde-942f-69bf2d274bd6",
   "metadata": {},
   "outputs": [],
   "source": [
    "!pip install awswrangler"
   ]
  },
  {
   "cell_type": "code",
   "execution_count": null,
   "id": "325ec03d-feb3-4abe-a6a5-811e5bb7a7e2",
   "metadata": {},
   "outputs": [],
   "source": []
  },
  {
   "cell_type": "code",
   "execution_count": 5,
   "id": "39846bae-7a19-4287-be9f-9b6d701bbada",
   "metadata": {},
   "outputs": [],
   "source": [
    "import boto3\n",
    "import pandas as pd\n",
    "import numpy as np\n",
    "import re\n",
    "from sagemaker import get_execution_role\n",
    "import awswrangler as wr\n",
    "import os, sys\n",
    "import tqdm\n",
    "role = get_execution_role()\n",
    "s3 = boto3.resource('s3')"
   ]
  },
  {
   "cell_type": "code",
   "execution_count": 6,
   "id": "74759f6b-1bc7-4e90-91c3-9aebae12f31a",
   "metadata": {},
   "outputs": [],
   "source": [
    "icusics_db_patients = wr.s3.read_parquet(path=\"s3://icusics-db/patients/patients.parquet\")\n",
    "scr= pd.read_csv(\"scr_all_hosp.csv\")\n",
    "uo = pd.read_csv(\"uo_all_hosp.csv\")"
   ]
  },
  {
   "cell_type": "markdown",
   "id": "66c71654-0ebf-48ea-95bf-8deb30b0e5f4",
   "metadata": {},
   "source": [
    "CREATININE - KDIGO AKI STAGE "
   ]
  },
  {
   "cell_type": "code",
   "execution_count": 15,
   "id": "01c112e5-f013-4408-8b39-7f98d0ffe676",
   "metadata": {},
   "outputs": [],
   "source": [
    "cols = {'a_patientid':'a_patientid', 'time':'time_48', 'value':'value_48'}\n",
    "cr48 = scr.loc[:, cols.keys()].rename(columns=cols)"
   ]
  },
  {
   "cell_type": "code",
   "execution_count": 16,
   "id": "0875b896-0666-4423-bdf4-9b0920256b8f",
   "metadata": {},
   "outputs": [],
   "source": [
    "m_48 = scr.merge(cr48, how='left', on=['a_patientid'])\n",
    "m_48 = m_48.query(\"time_48 < time and time_48 > time - 2880\")\n",
    "m_48 = m_48.merge(scr, how='right', on=scr.columns.tolist())\n",
    "m_48 = m_48.groupby(['a_patientid','a_variableid','time','value']).value_48.min().reset_index()\n",
    "\n",
    "cols = {'a_patientid':'a_patientid', 'time':'time_7', 'value':'value_7'}\n",
    "cr7 = scr.loc[:, cols.keys()].rename(columns=cols)\n",
    "\n",
    "m_7 = scr.merge(cr7, how='left', on=['a_patientid'])\n",
    "m_7 = m_7.query(\"time_7 < time and time_7 > time - 10080\")\n",
    "m_7 = m_7.merge(scr, how='right', on=scr.columns.tolist())\n",
    "m_7 = m_7.groupby(['a_patientid','a_variableid','time','value']).value_7.min().reset_index()\n",
    "\n",
    "kdigo_creatinine = m_48.merge(m_7, how='inner', on=['a_patientid', 'a_variableid', 'time', 'value'])"
   ]
  },
  {
   "cell_type": "code",
   "execution_count": 9,
   "id": "ca7dd605-029c-4ba3-a26a-734a9ea32786",
   "metadata": {},
   "outputs": [
    {
     "data": {
      "text/html": [
       "<div>\n",
       "<style scoped>\n",
       "    .dataframe tbody tr th:only-of-type {\n",
       "        vertical-align: middle;\n",
       "    }\n",
       "\n",
       "    .dataframe tbody tr th {\n",
       "        vertical-align: top;\n",
       "    }\n",
       "\n",
       "    .dataframe thead th {\n",
       "        text-align: right;\n",
       "    }\n",
       "</style>\n",
       "<table border=\"1\" class=\"dataframe\">\n",
       "  <thead>\n",
       "    <tr style=\"text-align: right;\">\n",
       "      <th></th>\n",
       "      <th>a_patientid</th>\n",
       "      <th>a_variableid</th>\n",
       "      <th>time</th>\n",
       "      <th>value</th>\n",
       "      <th>value_48</th>\n",
       "      <th>value_7</th>\n",
       "    </tr>\n",
       "  </thead>\n",
       "  <tbody>\n",
       "    <tr>\n",
       "      <th>0</th>\n",
       "      <td>1000091</td>\n",
       "      <td>1020000600</td>\n",
       "      <td>1216</td>\n",
       "      <td>0.86</td>\n",
       "      <td>NaN</td>\n",
       "      <td>NaN</td>\n",
       "    </tr>\n",
       "    <tr>\n",
       "      <th>1</th>\n",
       "      <td>1000091</td>\n",
       "      <td>1020000600</td>\n",
       "      <td>2685</td>\n",
       "      <td>0.75</td>\n",
       "      <td>0.86</td>\n",
       "      <td>0.86</td>\n",
       "    </tr>\n",
       "    <tr>\n",
       "      <th>2</th>\n",
       "      <td>1000091</td>\n",
       "      <td>1020000600</td>\n",
       "      <td>4185</td>\n",
       "      <td>0.65</td>\n",
       "      <td>0.75</td>\n",
       "      <td>0.75</td>\n",
       "    </tr>\n",
       "    <tr>\n",
       "      <th>3</th>\n",
       "      <td>1000109</td>\n",
       "      <td>1020000600</td>\n",
       "      <td>-6115</td>\n",
       "      <td>1.28</td>\n",
       "      <td>NaN</td>\n",
       "      <td>NaN</td>\n",
       "    </tr>\n",
       "    <tr>\n",
       "      <th>4</th>\n",
       "      <td>1000109</td>\n",
       "      <td>1020000600</td>\n",
       "      <td>-4870</td>\n",
       "      <td>1.43</td>\n",
       "      <td>1.28</td>\n",
       "      <td>1.28</td>\n",
       "    </tr>\n",
       "    <tr>\n",
       "      <th>...</th>\n",
       "      <td>...</td>\n",
       "      <td>...</td>\n",
       "      <td>...</td>\n",
       "      <td>...</td>\n",
       "      <td>...</td>\n",
       "      <td>...</td>\n",
       "    </tr>\n",
       "    <tr>\n",
       "      <th>126687</th>\n",
       "      <td>6998846</td>\n",
       "      <td>6020000600</td>\n",
       "      <td>988</td>\n",
       "      <td>0.75</td>\n",
       "      <td>0.82</td>\n",
       "      <td>0.82</td>\n",
       "    </tr>\n",
       "    <tr>\n",
       "      <th>126688</th>\n",
       "      <td>6999255</td>\n",
       "      <td>6020000600</td>\n",
       "      <td>134</td>\n",
       "      <td>0.60</td>\n",
       "      <td>NaN</td>\n",
       "      <td>NaN</td>\n",
       "    </tr>\n",
       "    <tr>\n",
       "      <th>126689</th>\n",
       "      <td>6999255</td>\n",
       "      <td>6020000600</td>\n",
       "      <td>1444</td>\n",
       "      <td>0.57</td>\n",
       "      <td>0.60</td>\n",
       "      <td>0.60</td>\n",
       "    </tr>\n",
       "    <tr>\n",
       "      <th>126690</th>\n",
       "      <td>6999255</td>\n",
       "      <td>6020000600</td>\n",
       "      <td>2874</td>\n",
       "      <td>0.56</td>\n",
       "      <td>0.57</td>\n",
       "      <td>0.57</td>\n",
       "    </tr>\n",
       "    <tr>\n",
       "      <th>126691</th>\n",
       "      <td>6999255</td>\n",
       "      <td>6020000600</td>\n",
       "      <td>4332</td>\n",
       "      <td>0.50</td>\n",
       "      <td>0.56</td>\n",
       "      <td>0.56</td>\n",
       "    </tr>\n",
       "  </tbody>\n",
       "</table>\n",
       "<p>126692 rows × 6 columns</p>\n",
       "</div>"
      ],
      "text/plain": [
       "        a_patientid  a_variableid  time  value  value_48  value_7\n",
       "0           1000091    1020000600  1216   0.86       NaN      NaN\n",
       "1           1000091    1020000600  2685   0.75      0.86     0.86\n",
       "2           1000091    1020000600  4185   0.65      0.75     0.75\n",
       "3           1000109    1020000600 -6115   1.28       NaN      NaN\n",
       "4           1000109    1020000600 -4870   1.43      1.28     1.28\n",
       "...             ...           ...   ...    ...       ...      ...\n",
       "126687      6998846    6020000600   988   0.75      0.82     0.82\n",
       "126688      6999255    6020000600   134   0.60       NaN      NaN\n",
       "126689      6999255    6020000600  1444   0.57      0.60     0.60\n",
       "126690      6999255    6020000600  2874   0.56      0.57     0.57\n",
       "126691      6999255    6020000600  4332   0.50      0.56     0.56\n",
       "\n",
       "[126692 rows x 6 columns]"
      ]
     },
     "execution_count": 9,
     "metadata": {},
     "output_type": "execute_result"
    }
   ],
   "source": [
    "kdigo_creatinine"
   ]
  },
  {
   "cell_type": "markdown",
   "id": "38fc072b-d722-49a1-abce-1baca3af7c01",
   "metadata": {},
   "source": [
    "DIURESIS - KDIGO AKI STAGE"
   ]
  },
  {
   "cell_type": "code",
   "execution_count": 10,
   "id": "c1c0b134-4190-4aed-a482-42ef1bbff39d",
   "metadata": {},
   "outputs": [],
   "source": [
    "def get_lag(df, l, merge_idx=['a_patientid'], agg_fnc=np.sum, agg_col='value'):\n",
    "    orig_cols = df.columns.tolist()\n",
    "    custom_cols = list(map(lambda x: x + '_' + str(l) if x not in merge_idx else x, orig_cols))\n",
    "\n",
    "    cols = {'time': f'time_{l}', 'value': f'value_{l}'}\n",
    "    df_l = df.rename(columns=cols)\n",
    "\n",
    "    m_l = df.merge(df_l, how='left', on=merge_idx)\n",
    "    lhr = l * 60\n",
    "    q_str = f\"{cols['time']} < time and {cols['time']} > time - {lhr}\"\n",
    "    m_l = m_l.query(q_str)\n",
    "    m_l = m_l.merge(df, how='right', on=df.columns.tolist())\n",
    "    m_l = m_l.groupby(df.columns.tolist())[cols[agg_col]].apply(agg_fnc).reset_index()\n",
    "    return m_l"
   ]
  },
  {
   "cell_type": "code",
   "execution_count": 11,
   "id": "2132337c-077b-493b-a7a3-317e9693e5d0",
   "metadata": {},
   "outputs": [
    {
     "name": "stderr",
     "output_type": "stream",
     "text": [
      "100%|██████████| 209/209 [18:21<00:00,  5.27s/it]\n"
     ]
    }
   ],
   "source": [
    "u_patients = uo.a_patientid.unique()\n",
    "\n",
    "l6 = []\n",
    "t6 = []\n",
    "l12 = []\n",
    "t12 = []\n",
    "l24 = []\n",
    "t24 = []\n",
    "\n",
    "delta = 100\n",
    "for i in tqdm.tqdm(range(0, u_patients.shape[0], delta)):\n",
    "    p_round = u_patients[i:i+delta]\n",
    "    df = uo[uo.a_patientid.isin(p_round)].loc[:, ['a_patientid', 'time', 'value']]\n",
    "    i6 = get_lag(df, l=6)\n",
    "    i12 = get_lag(df, l=12)\n",
    "    i24 = get_lag(df, l=24)\n",
    "    j6 = get_lag(df, l=6, agg_col='time', agg_fnc=np.min)\n",
    "    j12 = get_lag(df, l=12, agg_col='time', agg_fnc=np.min)\n",
    "    j24 = get_lag(df, l=24, agg_col='time', agg_fnc=np.min)\n",
    "    l6.append(i6)\n",
    "    l12.append(i12)\n",
    "    l24.append(i24)\n",
    "    t6.append(j6)\n",
    "    t12.append(j12)\n",
    "    t24.append(j24)"
   ]
  },
  {
   "cell_type": "code",
   "execution_count": 13,
   "id": "b62eff47-655a-489f-8072-011e50a45379",
   "metadata": {},
   "outputs": [],
   "source": [
    "uo_l6 = pd.concat(l6, ignore_index=True)\n",
    "uo_l12 = pd.concat(l12, ignore_index=True)\n",
    "uo_l24 = pd.concat(l24, ignore_index=True)\n",
    "\n",
    "uo_t6 = pd.concat(t6, ignore_index=True)\n",
    "uo_t12 = pd.concat(t12, ignore_index=True)\n",
    "uo_t24 = pd.concat(t24, ignore_index=True)\n",
    "\n",
    "uo_t6['uo_tm_6hr'] = (uo_t6.time - uo_t6.time_6) / 60\n",
    "uo_t12['uo_tm_12hr'] = (uo_t12.time - uo_t12.time_12) / 60\n",
    "uo_t24['uo_tm_24hr'] = (uo_t24.time - uo_t24.time_24) / 60\n",
    "\n",
    "uo_t6 = uo_t6.drop(columns='time_6')\n",
    "uo_t12 = uo_t12.drop(columns='time_12')\n",
    "uo_t24 = uo_t24.drop(columns='time_24')"
   ]
  },
  {
   "cell_type": "code",
   "execution_count": 14,
   "id": "36c76f58-08f7-4553-90fc-aa7a33fdc4cd",
   "metadata": {},
   "outputs": [],
   "source": [
    "uo_m1 = uo_l6.merge(uo_l12, on=['a_patientid','time','value'])\n",
    "uo_m2 = uo_m1.merge(uo_l24, on=['a_patientid','time','value'])\n",
    "uo_m3 = uo_m2.merge(uo_t6, on=['a_patientid','time','value'])\n",
    "uo_m4 = uo_m3.merge(uo_t12, on=['a_patientid','time','value'])\n",
    "uo_m5 = uo_m4.merge(uo_t24, on=['a_patientid','time','value'])"
   ]
  },
  {
   "cell_type": "code",
   "execution_count": 32,
   "id": "df905995-4e8b-4a9a-b4a8-e9b69ca7c8ce",
   "metadata": {},
   "outputs": [],
   "source": [
    "#uo_m5.to_csv(\"tmp.csv\", index=True)"
   ]
  },
  {
   "cell_type": "code",
   "execution_count": 8,
   "id": "0a19f887-6444-42ce-ab1b-736acb2e3d54",
   "metadata": {},
   "outputs": [],
   "source": [
    "uo_m5=pd.read_csv(\"tmp.csv\")"
   ]
  },
  {
   "cell_type": "code",
   "execution_count": 9,
   "id": "7e218815-072b-465c-9933-6a853b366926",
   "metadata": {},
   "outputs": [],
   "source": [
    "patients = icusics_db_patients[['a_patientid','weight']]"
   ]
  },
  {
   "cell_type": "code",
   "execution_count": 10,
   "id": "dde10212-91a5-4194-af95-13c8d69092c9",
   "metadata": {},
   "outputs": [
    {
     "data": {
      "text/html": [
       "<div>\n",
       "<style scoped>\n",
       "    .dataframe tbody tr th:only-of-type {\n",
       "        vertical-align: middle;\n",
       "    }\n",
       "\n",
       "    .dataframe tbody tr th {\n",
       "        vertical-align: top;\n",
       "    }\n",
       "\n",
       "    .dataframe thead th {\n",
       "        text-align: right;\n",
       "    }\n",
       "</style>\n",
       "<table border=\"1\" class=\"dataframe\">\n",
       "  <thead>\n",
       "    <tr style=\"text-align: right;\">\n",
       "      <th></th>\n",
       "      <th>a_patientid</th>\n",
       "      <th>weight</th>\n",
       "    </tr>\n",
       "  </thead>\n",
       "  <tbody>\n",
       "    <tr>\n",
       "      <th>0</th>\n",
       "      <td>1000091</td>\n",
       "      <td>50</td>\n",
       "    </tr>\n",
       "    <tr>\n",
       "      <th>1</th>\n",
       "      <td>1000109</td>\n",
       "      <td>80</td>\n",
       "    </tr>\n",
       "    <tr>\n",
       "      <th>2</th>\n",
       "      <td>1000211</td>\n",
       "      <td>60</td>\n",
       "    </tr>\n",
       "    <tr>\n",
       "      <th>3</th>\n",
       "      <td>1000999</td>\n",
       "      <td>60</td>\n",
       "    </tr>\n",
       "    <tr>\n",
       "      <th>4</th>\n",
       "      <td>1001000</td>\n",
       "      <td>80</td>\n",
       "    </tr>\n",
       "    <tr>\n",
       "      <th>...</th>\n",
       "      <td>...</td>\n",
       "      <td>...</td>\n",
       "    </tr>\n",
       "    <tr>\n",
       "      <th>21134</th>\n",
       "      <td>6998109</td>\n",
       "      <td>70</td>\n",
       "    </tr>\n",
       "    <tr>\n",
       "      <th>21135</th>\n",
       "      <td>6998382</td>\n",
       "      <td>100</td>\n",
       "    </tr>\n",
       "    <tr>\n",
       "      <th>21136</th>\n",
       "      <td>6998565</td>\n",
       "      <td>90</td>\n",
       "    </tr>\n",
       "    <tr>\n",
       "      <th>21137</th>\n",
       "      <td>6998846</td>\n",
       "      <td>80</td>\n",
       "    </tr>\n",
       "    <tr>\n",
       "      <th>21138</th>\n",
       "      <td>6999255</td>\n",
       "      <td>120</td>\n",
       "    </tr>\n",
       "  </tbody>\n",
       "</table>\n",
       "<p>21139 rows × 2 columns</p>\n",
       "</div>"
      ],
      "text/plain": [
       "       a_patientid  weight\n",
       "0          1000091      50\n",
       "1          1000109      80\n",
       "2          1000211      60\n",
       "3          1000999      60\n",
       "4          1001000      80\n",
       "...            ...     ...\n",
       "21134      6998109      70\n",
       "21135      6998382     100\n",
       "21136      6998565      90\n",
       "21137      6998846      80\n",
       "21138      6999255     120\n",
       "\n",
       "[21139 rows x 2 columns]"
      ]
     },
     "execution_count": 10,
     "metadata": {},
     "output_type": "execute_result"
    }
   ],
   "source": [
    "patients"
   ]
  },
  {
   "cell_type": "code",
   "execution_count": 11,
   "id": "41aa4178-8b87-4730-92ba-7abee5cbaf84",
   "metadata": {},
   "outputs": [],
   "source": [
    "uo_m6 = uo_m5.merge(patients, how='inner', on='a_patientid')\n"
   ]
  },
  {
   "cell_type": "code",
   "execution_count": 12,
   "id": "e187d303-019f-4db1-8f81-39c1b04daec8",
   "metadata": {},
   "outputs": [],
   "source": [
    "uo_m6['uo_rt_6hr'] = uo_m6.value_6 / uo_m6.weight / uo_m6.uo_tm_6hr\n",
    "uo_m6['uo_rt_12hr'] = uo_m6.value_12 / uo_m6.weight / uo_m6.uo_tm_12hr\n",
    "uo_m6['uo_rt_24hr'] = uo_m6.value_24 / uo_m6.weight / uo_m6.uo_tm_24hr\n",
    "\n",
    "kdigo_uo = uo_m6.copy()"
   ]
  },
  {
   "cell_type": "code",
   "execution_count": 13,
   "id": "d464060f-0bdd-46b0-92ef-6319a8dd8722",
   "metadata": {},
   "outputs": [],
   "source": [
    "def creatine_stage(v, v48, v7):\n",
    "    if (v >= v7*3) or ((v >= 4) and ((v48 <= 3.7) or (v >= 1.5*v7))):\n",
    "        stage = 3\n",
    "    elif (v >= v7*2):\n",
    "        stage = 2\n",
    "    elif (v >= v48+0.3) or (v >= 1.5*v7):\n",
    "        stage = 1\n",
    "    else:\n",
    "        stage = 0\n",
    "    return stage"
   ]
  },
  {
   "cell_type": "code",
   "execution_count": 17,
   "id": "0a688f79-63ae-42cb-90ed-201f19536d87",
   "metadata": {},
   "outputs": [],
   "source": [
    "aki_creat = list(map(lambda v,v48,v7: creatine_stage(v, v48, v7), kdigo_creatinine.value, kdigo_creatinine.value_48, kdigo_creatinine.value_7))\n",
    "kdigo_creatinine['aki_stage_creat'] = aki_creat"
   ]
  },
  {
   "cell_type": "code",
   "execution_count": 18,
   "id": "0c32f783-6d3f-4de3-9bca-d38c48666341",
   "metadata": {},
   "outputs": [],
   "source": [
    "cols = {'a_patientid':'a_patientid', 'time':'time', \n",
    "        'value':'creat', 'value_48':'creat_48hr', 'value_7':'creat_7days',\n",
    "       'aki_stage_creat':'aki_stage_creat'}\n",
    "kdigo_creatinine = kdigo_creatinine.loc[:, cols.keys()].rename(columns=cols)"
   ]
  },
  {
   "cell_type": "code",
   "execution_count": 19,
   "id": "6d253f09-0182-4c3a-88fe-62db92b2ec41",
   "metadata": {},
   "outputs": [],
   "source": [
    "def urineOut_stage(time, uo_tm_6hr, uo_tm_12hr, uo_tm_24hr, uo_rt_6hr, uo_rt_12hr, uo_rt_24hr):\n",
    "    if (uo_rt_6hr  is None):\n",
    "        stage = None\n",
    "    elif time < 360:\n",
    "        stage = 0\n",
    "    elif ((uo_tm_24hr >= 11) and (uo_rt_24hr < 0.3)) or ((uo_tm_12hr >= 5) and (uo_rt_12hr == 0)):\n",
    "        stage = 3\n",
    "    elif (uo_tm_12hr >= 5) and (uo_rt_12hr < 0.5):\n",
    "        stage = 2\n",
    "    elif (uo_tm_6hr >= 2) and (uo_rt_6hr  < 0.5):\n",
    "        stage = 1\n",
    "    else:\n",
    "        stage = 0\n",
    "    return stage"
   ]
  },
  {
   "cell_type": "code",
   "execution_count": null,
   "id": "93fe5b5b-1ec2-4d7e-869d-831977bc0872",
   "metadata": {},
   "outputs": [],
   "source": [
    "kdigo_uo['aki_stage_uo'] = list(map(lambda t,tm6,tm12,tm24,rt6,rt12,rt24: urineOut_stage(t,tm6,tm12,tm24,rt6,rt12,rt24), \n",
    "        uo_m6.time, \n",
    "        uo_m6.uo_tm_6hr,\n",
    "        uo_m6.uo_tm_12hr,\n",
    "        uo_m6.uo_tm_24hr,\n",
    "        uo_m6.uo_rt_6hr,\n",
    "        uo_m6.uo_rt_12hr,\n",
    "        uo_m6.uo_rt_24hr))"
   ]
  },
  {
   "cell_type": "code",
   "execution_count": null,
   "id": "484de183-c332-4e88-ac1c-5cb078b7f07a",
   "metadata": {},
   "outputs": [],
   "source": [
    "tm_stg = pd.concat(\n",
    "    [kdigo_creatinine.loc[:, ['a_patientid','time']],\n",
    "     kdigo_uo.loc[:, ['a_patientid','time']]\n",
    "    ], ignore_index=True\n",
    ")"
   ]
  },
  {
   "cell_type": "code",
   "execution_count": null,
   "id": "8f54ecbd-56be-4b74-b605-3eede4299f5f",
   "metadata": {},
   "outputs": [],
   "source": [
    "kdigo_stages = patients.loc[:, ['a_patientid']].merge(tm_stg, how='left', on='a_patientid')\n",
    "kdigo_stages = kdigo_stages.merge(kdigo_creatinine, how='left', on=['a_patientid','time'])\n",
    "uo_cols = ['a_patientid','time','uo_rt_6hr','uo_rt_12hr','uo_rt_24hr','aki_stage_uo']\n",
    "kdigo_stages = kdigo_stages.merge(kdigo_uo.loc[:, uo_cols], how='left', on=['a_patientid','time'])\n",
    "\n",
    "kdigo_stages['aki_stage'] = list(map(lambda x,y: max(x,y), kdigo_stages.aki_stage_creat.fillna(0).astype(float), kdigo_stages.aki_stage_uo.fillna(0).astype(float)))\n",
    "\n",
    "kdigo_stages"
   ]
  },
  {
   "cell_type": "code",
   "execution_count": null,
   "id": "a26dce58-431f-481f-ab8e-fd5400c63857",
   "metadata": {},
   "outputs": [],
   "source": [
    "kdigo_stages.to_csv('kdigo_stages_all_hosp.csv')"
   ]
  },
  {
   "cell_type": "code",
   "execution_count": null,
   "id": "a813f9a9-c0d8-43a5-aa86-f97fcf673d05",
   "metadata": {},
   "outputs": [],
   "source": []
  },
  {
   "cell_type": "code",
   "execution_count": null,
   "id": "38b9c98b-a676-4788-ae18-ac118ade0307",
   "metadata": {},
   "outputs": [],
   "source": []
  }
 ],
 "metadata": {
  "instance_type": "ml.t3.medium",
  "kernelspec": {
   "display_name": "Python 3 (Data Science)",
   "language": "python",
   "name": "python3__SAGEMAKER_INTERNAL__arn:aws:sagemaker:eu-west-1:470317259841:image/datascience-1.0"
  },
  "language_info": {
   "codemirror_mode": {
    "name": "ipython",
    "version": 3
   },
   "file_extension": ".py",
   "mimetype": "text/x-python",
   "name": "python",
   "nbconvert_exporter": "python",
   "pygments_lexer": "ipython3",
   "version": "3.7.10"
  }
 },
 "nbformat": 4,
 "nbformat_minor": 5
}
