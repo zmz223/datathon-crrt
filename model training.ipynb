{
 "cells": [
  {
   "cell_type": "code",
   "execution_count": 8,
   "id": "71454740",
   "metadata": {},
   "outputs": [],
   "source": [
    "from sklearn.model_selection import train_test_split\n",
    "from sklearn.linear_model import LogisticRegression\n",
    "from sklearn.model_selection import GridSearchCV\n",
    "from sklearn.preprocessing import LabelEncoder, OneHotEncoder, StandardScaler\n",
    "from sklearn.metrics import roc_curve, roc_auc_score, classification_report, confusion_matrix, auc\n",
    "import seaborn as sns\n",
    "import matplotlib.pyplot as plt\n",
    "import pandas as pd\n",
    "import numpy as np"
   ]
  },
  {
   "cell_type": "code",
   "execution_count": 22,
   "id": "40f8f017",
   "metadata": {},
   "outputs": [],
   "source": [
    "# Load Data\n",
    "data = pd.read_csv('final_cohort.csv')"
   ]
  },
  {
   "cell_type": "code",
   "execution_count": 55,
   "id": "7e4e39de",
   "metadata": {},
   "outputs": [],
   "source": [
    "data = data.dropna()"
   ]
  },
  {
   "cell_type": "code",
   "execution_count": 23,
   "id": "a372e7a3",
   "metadata": {},
   "outputs": [
    {
     "data": {
      "text/plain": [
       "['subject_id',\n",
       " 'hadm_id',\n",
       " 'stay_id',\n",
       " 'charttime',\n",
       " 'creat_low_past_7day',\n",
       " 'creat_low_past_48hr',\n",
       " 'creat',\n",
       " 'aki_stage_creat',\n",
       " 'uo_rt_6hr',\n",
       " 'uo_rt_12hr',\n",
       " 'uo_rt_24hr',\n",
       " 'aki_stage_uo',\n",
       " 'aki_stage',\n",
       " 'admittime',\n",
       " 'dischtime',\n",
       " 'deathtime',\n",
       " 'admission_type',\n",
       " 'admission_location',\n",
       " 'discharge_location',\n",
       " 'insurance',\n",
       " 'language',\n",
       " 'marital_status',\n",
       " 'race',\n",
       " 'edregtime',\n",
       " 'edouttime',\n",
       " 'hospital_expire_flag',\n",
       " 'gender',\n",
       " 'anchor_age',\n",
       " 'anchor_year',\n",
       " 'anchor_year_group',\n",
       " 'dod',\n",
       " 'first_careunit',\n",
       " 'last_careunit',\n",
       " 'intime_x',\n",
       " 'outtime',\n",
       " 'los',\n",
       " 'creat_24',\n",
       " 'urine_24',\n",
       " 'nanmin_valuenum_Albumin',\n",
       " 'nanmin_valuenum_Bicarbonate',\n",
       " 'nanmin_valuenum_Calculated Bicarbonate, Whole Blood',\n",
       " 'nanmin_valuenum_Creatinine',\n",
       " 'nanmin_valuenum_Hematocrit',\n",
       " 'nanmin_valuenum_Hematocrit, Calculated',\n",
       " 'nanmin_valuenum_Potassium',\n",
       " 'nanmin_valuenum_Potassium, Whole Blood',\n",
       " 'nanmin_valuenum_Urea Nitrogen',\n",
       " 'nanmin_valuenum_pH',\n",
       " 'nanmax_valuenum_Albumin',\n",
       " 'nanmax_valuenum_Bicarbonate',\n",
       " 'nanmax_valuenum_Calculated Bicarbonate, Whole Blood',\n",
       " 'nanmax_valuenum_Creatinine',\n",
       " 'nanmax_valuenum_Hematocrit',\n",
       " 'nanmax_valuenum_Hematocrit, Calculated',\n",
       " 'nanmax_valuenum_Potassium',\n",
       " 'nanmax_valuenum_Potassium, Whole Blood',\n",
       " 'nanmax_valuenum_Urea Nitrogen',\n",
       " 'nanmax_valuenum_pH',\n",
       " 'suspected_infection_time',\n",
       " 'sepsis3',\n",
       " 'hr',\n",
       " 'sofa_24hours',\n",
       " 'min_hour',\n",
       " 'intime_y',\n",
       " 'antibiotic',\n",
       " 'starttime',\n",
       " 'delta_days',\n",
       " 'min_heart_rate',\n",
       " 'min_mbp',\n",
       " 'min_mbp_ni',\n",
       " 'min_resp_rate',\n",
       " 'min_spo2',\n",
       " 'max_heart_rate',\n",
       " 'max_mbp',\n",
       " 'max_mbp_ni',\n",
       " 'max_resp_rate',\n",
       " 'max_spo2',\n",
       " 'CKD',\n",
       " 'DM',\n",
       " 'Hypertension',\n",
       " 'Heart Failure',\n",
       " 'crrt']"
      ]
     },
     "execution_count": 23,
     "metadata": {},
     "output_type": "execute_result"
    }
   ],
   "source": [
    "list(data)"
   ]
  },
  {
   "cell_type": "code",
   "execution_count": 24,
   "id": "fbe907e3",
   "metadata": {},
   "outputs": [
    {
     "data": {
      "text/plain": [
       "(10192, 82)"
      ]
     },
     "execution_count": 24,
     "metadata": {},
     "output_type": "execute_result"
    }
   ],
   "source": [
    "data.shape"
   ]
  },
  {
   "cell_type": "code",
   "execution_count": 38,
   "id": "0fc4f30b",
   "metadata": {},
   "outputs": [],
   "source": [
    "columns = [\n",
    " 'min_spo2',\n",
    " 'max_spo2',\n",
    "'nanmin_valuenum_Albumin',\n",
    " 'nanmin_valuenum_Creatinine',\n",
    " 'nanmin_valuenum_Hematocrit',\n",
    " 'nanmin_valuenum_Potassium',\n",
    " 'nanmin_valuenum_Potassium, Whole Blood',\n",
    " 'nanmin_valuenum_Urea Nitrogen',\n",
    " 'nanmin_valuenum_pH',\n",
    " 'nanmax_valuenum_Albumin',\n",
    " 'nanmax_valuenum_Creatinine',\n",
    " 'nanmax_valuenum_Hematocrit',\n",
    " 'nanmax_valuenum_Hematocrit, Calculated',\n",
    " 'nanmax_valuenum_Potassium',\n",
    " 'nanmax_valuenum_Potassium, Whole Blood',\n",
    " 'nanmax_valuenum_Urea Nitrogen',\n",
    " 'nanmax_valuenum_pH',\n",
    "'CKD' ,                                                     \n",
    "  'DM',                                                    \n",
    " 'Hypertension',                                     \n",
    " 'Heart Failure'\n",
    "\n",
    "]\n",
    "categorical = ['CKD' ,                                                     \n",
    "  'DM',                                                    \n",
    " 'Hypertension',                                     \n",
    " 'Heart Failure'\n",
    "]\n",
    "\n",
    "numerical = [x for x in columns if x not in categorical]"
   ]
  },
  {
   "cell_type": "code",
   "execution_count": 39,
   "id": "d2fa8ca5",
   "metadata": {},
   "outputs": [],
   "source": [
    "sc = StandardScaler()\n",
    "oh = OneHotEncoder()"
   ]
  },
  {
   "cell_type": "code",
   "execution_count": 40,
   "id": "49b698be",
   "metadata": {},
   "outputs": [],
   "source": [
    "X = data[columns]\n",
    "y = np.array(data[['crrt']]).ravel()"
   ]
  },
  {
   "cell_type": "code",
   "execution_count": 58,
   "id": "3e916646",
   "metadata": {},
   "outputs": [],
   "source": [
    "X = X.fillna(-1)"
   ]
  },
  {
   "cell_type": "code",
   "execution_count": 59,
   "id": "3bf1b700",
   "metadata": {},
   "outputs": [],
   "source": [
    "X_train, X_test, y_train, y_test = train_test_split(X, y, test_size=0.3, random_state=2022, stratify=y)"
   ]
  },
  {
   "cell_type": "code",
   "execution_count": 60,
   "id": "46637979",
   "metadata": {},
   "outputs": [],
   "source": [
    "X_num_train = sc.fit_transform(X_train[numerical])\n",
    "X_num_test = sc.transform(X_test[numerical])\n",
    "X_cat_train = X_train[categorical]\n",
    "X_cat_test = X_test[categorical]"
   ]
  },
  {
   "cell_type": "code",
   "execution_count": 61,
   "id": "b777a7ef",
   "metadata": {},
   "outputs": [
    {
     "data": {
      "text/plain": [
       "(3058, 17)"
      ]
     },
     "execution_count": 61,
     "metadata": {},
     "output_type": "execute_result"
    }
   ],
   "source": [
    "X_num_test.shape"
   ]
  },
  {
   "cell_type": "code",
   "execution_count": 62,
   "id": "f162c73a",
   "metadata": {},
   "outputs": [],
   "source": [
    "X_train_proc = np.hstack((X_num_train, X_cat_train))\n",
    "X_test_proc = np.hstack((X_num_test, X_cat_test))"
   ]
  },
  {
   "cell_type": "code",
   "execution_count": 63,
   "id": "296ea748",
   "metadata": {},
   "outputs": [],
   "source": [
    "clf = LogisticRegression(max_iter=1000, class_weight='balanced')"
   ]
  },
  {
   "cell_type": "code",
   "execution_count": 64,
   "id": "a18d8a18",
   "metadata": {},
   "outputs": [
    {
     "data": {
      "text/plain": [
       "LogisticRegression(class_weight='balanced', max_iter=1000)"
      ]
     },
     "execution_count": 64,
     "metadata": {},
     "output_type": "execute_result"
    }
   ],
   "source": [
    "clf.fit(X_train_proc, y_train)"
   ]
  },
  {
   "cell_type": "code",
   "execution_count": 65,
   "id": "8b087a7e",
   "metadata": {},
   "outputs": [],
   "source": [
    "yHat = clf.predict_proba(X_test_proc)"
   ]
  },
  {
   "cell_type": "code",
   "execution_count": 69,
   "id": "d4a4858c",
   "metadata": {},
   "outputs": [
    {
     "data": {
      "text/plain": [
       "(array([982., 729., 325., 232., 161., 118.,  98., 119., 135., 159.]),\n",
       " array([6.73982874e-04, 1.00604710e-01, 2.00535438e-01, 3.00466166e-01,\n",
       "        4.00396893e-01, 5.00327621e-01, 6.00258348e-01, 7.00189076e-01,\n",
       "        8.00119804e-01, 9.00050531e-01, 9.99981259e-01]),\n",
       " <BarContainer object of 10 artists>)"
      ]
     },
     "execution_count": 69,
     "metadata": {},
     "output_type": "execute_result"
    },
    {
     "data": {
      "image/png": "[encoded data removed]",
      "text/plain": [
       "<Figure size 432x288 with 1 Axes>"
      ]
     },
     "metadata": {
      "needs_background": "light"
     },
     "output_type": "display_data"
    }
   ],
   "source": [
    "plt.hist(yHat[:, 1])"
   ]
  },
  {
   "cell_type": "code",
   "execution_count": 81,
   "id": "b8d9f818",
   "metadata": {},
   "outputs": [],
   "source": [
    "ypred = (yHat[:, 1] >= 0.5)"
   ]
  },
  {
   "cell_type": "code",
   "execution_count": 75,
   "id": "4b345d31",
   "metadata": {},
   "outputs": [],
   "source": [
    "fpr, tpr, _ = roc_curve(y_test, yHat[:,1])\n",
    "rocauc = auc(fpr, tpr)"
   ]
  },
  {
   "cell_type": "code",
   "execution_count": 86,
   "id": "4a4b6a01",
   "metadata": {},
   "outputs": [
    {
     "data": {
      "text/plain": [
       "<matplotlib.legend.Legend at 0x7f0a732c3828>"
      ]
     },
     "execution_count": 86,
     "metadata": {},
     "output_type": "execute_result"
    },
    {
     "data": {
      "image/png": "[encoded data removed]",
      "text/plain": [
       "<Figure size 720x720 with 1 Axes>"
      ]
     },
     "metadata": {
      "needs_background": "light"
     },
     "output_type": "display_data"
    }
   ],
   "source": [
    "\n",
    "plt.figure(figsize=(10, 10))\n",
    "plt.title('ROC AUC Curve')\n",
    "plt.plot(fpr, tpr, label=f'auc={round(rocauc, 3)}')\n",
    "plt.legend(loc=4)"
   ]
  },
  {
   "cell_type": "code",
   "execution_count": 83,
   "id": "250048a6",
   "metadata": {},
   "outputs": [
    {
     "name": "stdout",
     "output_type": "stream",
     "text": [
      "              precision    recall  f1-score   support\n",
      "\n",
      "         0.0       0.98      0.84      0.90      2853\n",
      "         1.0       0.26      0.81      0.40       205\n",
      "\n",
      "    accuracy                           0.84      3058\n",
      "   macro avg       0.62      0.82      0.65      3058\n",
      "weighted avg       0.94      0.84      0.87      3058\n",
      "\n"
     ]
    }
   ],
   "source": [
    "print(classification_report(y_test, ypred))"
   ]
  },
  {
   "cell_type": "code",
   "execution_count": null,
   "id": "6f9e9412",
   "metadata": {},
   "outputs": [],
   "source": []
  }
 ],
 "metadata": {
  "kernelspec": {
   "display_name": "conda_python3",
   "language": "python",
   "name": "conda_python3"
  },
  "language_info": {
   "codemirror_mode": {
    "name": "ipython",
    "version": 3
   },
   "file_extension": ".py",
   "mimetype": "text/x-python",
   "name": "python",
   "nbconvert_exporter": "python",
   "pygments_lexer": "ipython3",
   "version": "3.6.13"
  }
 },
 "nbformat": 4,
 "nbformat_minor": 5
}
