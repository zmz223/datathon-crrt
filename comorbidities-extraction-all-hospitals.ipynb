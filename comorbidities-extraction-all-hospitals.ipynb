{
 "cells": [
  {
   "cell_type": "code",
   "execution_count": null,
   "id": "d29df5c0-7738-423d-b70d-b0814ea1e656",
   "metadata": {},
   "outputs": [],
   "source": [
    "!pip install awswrangler"
   ]
  },
  {
   "cell_type": "code",
   "execution_count": null,
   "id": "2a714856-b99e-4858-a12f-7e6f78b9bf4b",
   "metadata": {},
   "outputs": [],
   "source": [
    "!pip install fastparquet"
   ]
  },
  {
   "cell_type": "code",
   "execution_count": 306,
   "id": "40617406-302a-459a-a746-6ab7a72ad33a",
   "metadata": {},
   "outputs": [],
   "source": [
    "import boto3\n",
    "import pandas as pd\n",
    "import numpy as np\n",
    "import re\n",
    "from sagemaker import get_execution_role\n",
    "import awswrangler as wr\n",
    "import os, sys\n",
    "role = get_execution_role()\n",
    "s3 = boto3.resource('s3')"
   ]
  },
  {
   "cell_type": "code",
   "execution_count": 307,
   "id": "5cdf00cc-e7cf-434d-ad62-5eab04d61a5b",
   "metadata": {},
   "outputs": [],
   "source": [
    "icusics_db_patients = wr.s3.read_parquet(path=\"s3://icusics-db/patients/patients.parquet\")\n"
   ]
  },
  {
   "cell_type": "code",
   "execution_count": 308,
   "id": "bf17e162-e083-4cd5-bdd0-6e15eae09b5c",
   "metadata": {},
   "outputs": [],
   "source": [
    "icd_codes=[]\n",
    "for h in icusics_db_patients.hospital_coded.unique():\n",
    "    diagnoses = wr.s3.read_parquet(path=\"s3://icusics-db/diagnoses/diagnoses_h%s.parquet\"%h)\n",
    "    icd_codes.append(diagnoses)\n",
    "\n",
    "icd_codes= pd.concat(icd_codes)\n"
   ]
  },
  {
   "cell_type": "markdown",
   "id": "ea3036a1-0745-4fa9-8104-1a096f939c8f",
   "metadata": {},
   "source": [
    "DIABETES II, I, other"
   ]
  },
  {
   "cell_type": "code",
   "execution_count": 309,
   "id": "51897c9e-ee77-4b32-8e8a-857bc7797c9b",
   "metadata": {},
   "outputs": [],
   "source": [
    "name = \"diabetes\""
   ]
  },
  {
   "cell_type": "code",
   "execution_count": 310,
   "id": "1d9c02c7-a010-4b9b-83e8-d09c7c8cb670",
   "metadata": {},
   "outputs": [],
   "source": [
    "idx = np.where(icd_codes.referencecodename.str.contains(\"Diabetis mellitus|diabetes mellitus|Diabetis\", case=False))[0]\n",
    "comorbidity = icd_codes.iloc[idx].drop_duplicates(subset=[\"referencecode\"])"
   ]
  },
  {
   "cell_type": "code",
   "execution_count": 311,
   "id": "c09cd22e-2fc3-4945-a77e-23f0f373f8f5",
   "metadata": {},
   "outputs": [
    {
     "data": {
      "text/plain": [
       "166"
      ]
     },
     "execution_count": 311,
     "metadata": {},
     "output_type": "execute_result"
    }
   ],
   "source": [
    "comorbidity= list(comorbidity.referencecode.unique())\n",
    "len(comorbidity)"
   ]
  },
  {
   "cell_type": "code",
   "execution_count": 312,
   "id": "afba4e68-cb4d-4f10-8eb3-7cdd41f1053f",
   "metadata": {},
   "outputs": [],
   "source": [
    "comorbidity = icd_codes[icd_codes[\"referencecode\"].isin(comorbidity)]"
   ]
  },
  {
   "cell_type": "code",
   "execution_count": 313,
   "id": "0df893da-79b7-410a-94a2-9e492ef5c9b5",
   "metadata": {},
   "outputs": [
    {
     "data": {
      "text/plain": [
       "2298"
      ]
     },
     "execution_count": 313,
     "metadata": {},
     "output_type": "execute_result"
    }
   ],
   "source": [
    "comorbidity.a_patientid.nunique()"
   ]
  },
  {
   "cell_type": "code",
   "execution_count": 314,
   "id": "78a3ca26-928c-45de-8eec-20bf125f17f7",
   "metadata": {},
   "outputs": [],
   "source": [
    "dm= comorbidity.groupby(\"a_patientid\").referencecode.count().reset_index().rename(columns={\"referencecode\": name})"
   ]
  },
  {
   "cell_type": "code",
   "execution_count": 315,
   "id": "32ac0642-d453-4190-8a2d-4f219d8fed90",
   "metadata": {},
   "outputs": [
    {
     "data": {
      "text/html": [
       "<div>\n",
       "<style scoped>\n",
       "    .dataframe tbody tr th:only-of-type {\n",
       "        vertical-align: middle;\n",
       "    }\n",
       "\n",
       "    .dataframe tbody tr th {\n",
       "        vertical-align: top;\n",
       "    }\n",
       "\n",
       "    .dataframe thead th {\n",
       "        text-align: right;\n",
       "    }\n",
       "</style>\n",
       "<table border=\"1\" class=\"dataframe\">\n",
       "  <thead>\n",
       "    <tr style=\"text-align: right;\">\n",
       "      <th></th>\n",
       "      <th>a_patientid</th>\n",
       "      <th>diabetes</th>\n",
       "    </tr>\n",
       "  </thead>\n",
       "  <tbody>\n",
       "    <tr>\n",
       "      <th>0</th>\n",
       "      <td>1001773</td>\n",
       "      <td>1</td>\n",
       "    </tr>\n",
       "    <tr>\n",
       "      <th>1</th>\n",
       "      <td>1002304</td>\n",
       "      <td>1</td>\n",
       "    </tr>\n",
       "    <tr>\n",
       "      <th>2</th>\n",
       "      <td>1002515</td>\n",
       "      <td>1</td>\n",
       "    </tr>\n",
       "    <tr>\n",
       "      <th>3</th>\n",
       "      <td>1002635</td>\n",
       "      <td>1</td>\n",
       "    </tr>\n",
       "    <tr>\n",
       "      <th>4</th>\n",
       "      <td>1003351</td>\n",
       "      <td>1</td>\n",
       "    </tr>\n",
       "    <tr>\n",
       "      <th>...</th>\n",
       "      <td>...</td>\n",
       "      <td>...</td>\n",
       "    </tr>\n",
       "    <tr>\n",
       "      <th>2293</th>\n",
       "      <td>6960538</td>\n",
       "      <td>1</td>\n",
       "    </tr>\n",
       "    <tr>\n",
       "      <th>2294</th>\n",
       "      <td>6980223</td>\n",
       "      <td>1</td>\n",
       "    </tr>\n",
       "    <tr>\n",
       "      <th>2295</th>\n",
       "      <td>6980759</td>\n",
       "      <td>1</td>\n",
       "    </tr>\n",
       "    <tr>\n",
       "      <th>2296</th>\n",
       "      <td>6982644</td>\n",
       "      <td>1</td>\n",
       "    </tr>\n",
       "    <tr>\n",
       "      <th>2297</th>\n",
       "      <td>6986777</td>\n",
       "      <td>1</td>\n",
       "    </tr>\n",
       "  </tbody>\n",
       "</table>\n",
       "<p>2298 rows × 2 columns</p>\n",
       "</div>"
      ],
      "text/plain": [
       "      a_patientid  diabetes\n",
       "0         1001773         1\n",
       "1         1002304         1\n",
       "2         1002515         1\n",
       "3         1002635         1\n",
       "4         1003351         1\n",
       "...           ...       ...\n",
       "2293      6960538         1\n",
       "2294      6980223         1\n",
       "2295      6980759         1\n",
       "2296      6982644         1\n",
       "2297      6986777         1\n",
       "\n",
       "[2298 rows x 2 columns]"
      ]
     },
     "execution_count": 315,
     "metadata": {},
     "output_type": "execute_result"
    }
   ],
   "source": [
    "dm[name] = 1\n",
    "dm"
   ]
  },
  {
   "cell_type": "markdown",
   "id": "0a2bcea5-d28f-4131-a2e1-ed9cd882d3d6",
   "metadata": {},
   "source": [
    "HEART FAILURE\n"
   ]
  },
  {
   "cell_type": "code",
   "execution_count": 316,
   "id": "3e2f9999-8e8f-4ce2-a55c-99bbb9254757",
   "metadata": {},
   "outputs": [],
   "source": [
    "name ='heart failure'"
   ]
  },
  {
   "cell_type": "code",
   "execution_count": 317,
   "id": "a480cb97-4a3f-40fc-9fb5-39709ef1f9c8",
   "metadata": {},
   "outputs": [],
   "source": [
    "#idx = np.where(icd_codes.referencecodename.str.contains(\"insuficiencia cardiaca|atac de cor|heart|Cardiopatia|card|Insuficiència cardíaca\", case=False))[0]\n",
    "#comorbidity = icd_codes.iloc[idx].drop_duplicates(subset=[\"referencecode\"])"
   ]
  },
  {
   "cell_type": "code",
   "execution_count": 318,
   "id": "1c732a4b-5d97-427c-ab4c-3acc652deb90",
   "metadata": {},
   "outputs": [],
   "source": [
    "comorbidity=icd_codes[icd_codes[\"referencecode\"].str.startswith((\"I50\", \"428\", \"408\", \"I11\"))] # codes in the excel file \"Predictors_IDS\""
   ]
  },
  {
   "cell_type": "code",
   "execution_count": 319,
   "id": "fef0d7b6-f54d-47c5-b6fb-5841a2b9bd11",
   "metadata": {},
   "outputs": [
    {
     "data": {
      "text/plain": [
       "625"
      ]
     },
     "execution_count": 319,
     "metadata": {},
     "output_type": "execute_result"
    }
   ],
   "source": [
    "comorbidity.a_patientid.nunique()"
   ]
  },
  {
   "cell_type": "code",
   "execution_count": 320,
   "id": "9a125547-45a8-469a-be22-a90d5fa27dd2",
   "metadata": {},
   "outputs": [],
   "source": [
    "hf= comorbidity.groupby(\"a_patientid\").referencecode.count().reset_index().rename(columns={\"referencecode\": name})"
   ]
  },
  {
   "cell_type": "code",
   "execution_count": 321,
   "id": "16fd0186-25b7-4c56-8d72-eb79de36b7d7",
   "metadata": {},
   "outputs": [],
   "source": [
    "hf[name] = 1"
   ]
  },
  {
   "cell_type": "code",
   "execution_count": 322,
   "id": "e529a7a8-737c-47cf-96c5-3c8a11471792",
   "metadata": {},
   "outputs": [
    {
     "data": {
      "text/plain": [
       "625"
      ]
     },
     "execution_count": 322,
     "metadata": {},
     "output_type": "execute_result"
    }
   ],
   "source": [
    "hf.a_patientid.nunique()"
   ]
  },
  {
   "cell_type": "markdown",
   "id": "27de201d-1855-41c9-a8fd-0391a9c098b7",
   "metadata": {},
   "source": [
    "HYPERTENSION"
   ]
  },
  {
   "cell_type": "code",
   "execution_count": 323,
   "id": "fe862f68-b842-4580-ba95-d7eda7687e24",
   "metadata": {},
   "outputs": [],
   "source": [
    "name ='hypertension'"
   ]
  },
  {
   "cell_type": "code",
   "execution_count": 324,
   "id": "018ded8e-3295-40ba-bb27-eebbf356881d",
   "metadata": {},
   "outputs": [],
   "source": [
    "comorbidity=icd_codes[icd_codes[\"referencecode\"].str.startswith((\"I10\", \"401\", \"402\", \"I15\",\"I13\", \"I11\"))] # codes in the excel file \"Predictors_IDS\""
   ]
  },
  {
   "cell_type": "code",
   "execution_count": 325,
   "id": "7b98cf98-53b1-4715-8398-73abf42d3ec8",
   "metadata": {},
   "outputs": [
    {
     "data": {
      "text/plain": [
       "4346"
      ]
     },
     "execution_count": 325,
     "metadata": {},
     "output_type": "execute_result"
    }
   ],
   "source": [
    "comorbidity.a_patientid.nunique()"
   ]
  },
  {
   "cell_type": "code",
   "execution_count": 326,
   "id": "b6b2012c-c6a6-4860-9dd4-8bd7932c2da8",
   "metadata": {},
   "outputs": [],
   "source": [
    "hyp= comorbidity.groupby(\"a_patientid\").referencecode.count().reset_index().rename(columns={\"referencecode\": name})"
   ]
  },
  {
   "cell_type": "code",
   "execution_count": 327,
   "id": "bcd65f47-f563-4ebe-8a1a-13f064900ab7",
   "metadata": {},
   "outputs": [],
   "source": [
    "hyp[name] = 1"
   ]
  },
  {
   "cell_type": "code",
   "execution_count": 328,
   "id": "c227d05a-44a7-4355-95ee-4af61426e236",
   "metadata": {},
   "outputs": [
    {
     "data": {
      "text/plain": [
       "4346"
      ]
     },
     "execution_count": 328,
     "metadata": {},
     "output_type": "execute_result"
    }
   ],
   "source": [
    "hyp.a_patientid.nunique()"
   ]
  },
  {
   "cell_type": "markdown",
   "id": "01c7bf21-adb6-4884-8260-20006e4e4e79",
   "metadata": {},
   "source": [
    "CKD"
   ]
  },
  {
   "cell_type": "code",
   "execution_count": 329,
   "id": "bc058ebe-766e-46b1-9793-cbe57dcbc28e",
   "metadata": {},
   "outputs": [],
   "source": [
    "name ='chronic kidney disease'"
   ]
  },
  {
   "cell_type": "code",
   "execution_count": 330,
   "id": "9d58ff7f-3f4f-4adc-b3b9-dc8602331dde",
   "metadata": {},
   "outputs": [],
   "source": [
    "comorbidity=icd_codes[icd_codes[\"referencecode\"].str.startswith((\"I13\", \"N18\", \"585\", \"D63\"))] # codes in the excel file \"Predictors_IDS\""
   ]
  },
  {
   "cell_type": "code",
   "execution_count": 331,
   "id": "c8b17e0a-2ad9-4f0d-ae90-175c9069d466",
   "metadata": {},
   "outputs": [],
   "source": [
    "ids_to_exclude = [\"585.6\",\"585.6/2\"]\n",
    "comorbidity=comorbidity[~comorbidity.referencecode.isin(ids_to_exclude)]"
   ]
  },
  {
   "cell_type": "code",
   "execution_count": 332,
   "id": "3a876358-24a1-4140-b0ec-daa9542dcfa1",
   "metadata": {},
   "outputs": [
    {
     "data": {
      "text/plain": [
       "903"
      ]
     },
     "execution_count": 332,
     "metadata": {},
     "output_type": "execute_result"
    }
   ],
   "source": [
    "comorbidity.a_patientid.nunique()"
   ]
  },
  {
   "cell_type": "code",
   "execution_count": 333,
   "id": "bdfa921c-ee97-4b7d-b9bb-ffd76faf5212",
   "metadata": {},
   "outputs": [],
   "source": [
    "ckd= comorbidity.groupby(\"a_patientid\").referencecode.count().reset_index().rename(columns={\"referencecode\": name})"
   ]
  },
  {
   "cell_type": "code",
   "execution_count": 334,
   "id": "31405381-f3a4-4693-be19-28f0741bad7b",
   "metadata": {},
   "outputs": [],
   "source": [
    "ckd[name] = 1"
   ]
  },
  {
   "cell_type": "code",
   "execution_count": 335,
   "id": "bf14c4c3-d996-4b09-ae7f-579c5afe1929",
   "metadata": {},
   "outputs": [
    {
     "data": {
      "text/plain": [
       "903"
      ]
     },
     "execution_count": 335,
     "metadata": {},
     "output_type": "execute_result"
    }
   ],
   "source": [
    "ckd.a_patientid.nunique()"
   ]
  },
  {
   "cell_type": "markdown",
   "id": "bd706e17-95bb-41e4-a487-44f8898c32fa",
   "metadata": {},
   "source": [
    "RRT"
   ]
  },
  {
   "cell_type": "code",
   "execution_count": 336,
   "id": "0b5c9614-3013-4595-a456-f115b7cc389b",
   "metadata": {},
   "outputs": [],
   "source": [
    "name ='RRT'"
   ]
  },
  {
   "cell_type": "code",
   "execution_count": 337,
   "id": "7d060ed2-ebd4-424b-9a4c-3603ccaf6d52",
   "metadata": {},
   "outputs": [],
   "source": [
    "comorbidity=icd_codes[icd_codes[\"referencecode\"].isin([\"N18.6\",\"Z99.2\"])] # codes in the excel file \"Predictors_IDS\""
   ]
  },
  {
   "cell_type": "code",
   "execution_count": 338,
   "id": "6dc80594-5b31-4904-b0ab-a065a3c7d823",
   "metadata": {},
   "outputs": [
    {
     "data": {
      "text/plain": [
       "10"
      ]
     },
     "execution_count": 338,
     "metadata": {},
     "output_type": "execute_result"
    }
   ],
   "source": [
    "comorbidity.a_patientid.nunique()"
   ]
  },
  {
   "cell_type": "code",
   "execution_count": 339,
   "id": "554e3171-d8af-43d7-bae7-f318401694cc",
   "metadata": {},
   "outputs": [],
   "source": [
    "rrt= comorbidity.groupby(\"a_patientid\").referencecode.count().reset_index().rename(columns={\"referencecode\": name})"
   ]
  },
  {
   "cell_type": "code",
   "execution_count": 340,
   "id": "e834407f-c057-4323-9b7e-c12ae3c84491",
   "metadata": {},
   "outputs": [],
   "source": [
    "rrt[name] = 1"
   ]
  },
  {
   "cell_type": "code",
   "execution_count": 341,
   "id": "38191ace-bf0c-4177-8c53-d152a984bfeb",
   "metadata": {},
   "outputs": [
    {
     "data": {
      "text/plain": [
       "10"
      ]
     },
     "execution_count": 341,
     "metadata": {},
     "output_type": "execute_result"
    }
   ],
   "source": [
    "rrt.a_patientid.nunique()"
   ]
  },
  {
   "cell_type": "markdown",
   "id": "21cc6be8-cc31-4ff9-90ac-733cdd007f06",
   "metadata": {},
   "source": [
    "MERGE ALL COMORBIDITIES AND CREATE A DATAFRAME WITH BOOLEAN COLUMNS INDINCATING THE PRESENCE OR NOT OF EACH COMORBIDITY"
   ]
  },
  {
   "cell_type": "code",
   "execution_count": 342,
   "id": "abde2ace-3981-490c-b9dd-38362be88907",
   "metadata": {},
   "outputs": [
    {
     "data": {
      "text/html": [
       "<div>\n",
       "<style scoped>\n",
       "    .dataframe tbody tr th:only-of-type {\n",
       "        vertical-align: middle;\n",
       "    }\n",
       "\n",
       "    .dataframe tbody tr th {\n",
       "        vertical-align: top;\n",
       "    }\n",
       "\n",
       "    .dataframe thead th {\n",
       "        text-align: right;\n",
       "    }\n",
       "</style>\n",
       "<table border=\"1\" class=\"dataframe\">\n",
       "  <thead>\n",
       "    <tr style=\"text-align: right;\">\n",
       "      <th></th>\n",
       "      <th>a_patientid</th>\n",
       "      <th>diabetes</th>\n",
       "      <th>heart failure</th>\n",
       "      <th>hypertension</th>\n",
       "      <th>chronic kidney disease</th>\n",
       "      <th>RRT</th>\n",
       "    </tr>\n",
       "  </thead>\n",
       "  <tbody>\n",
       "    <tr>\n",
       "      <th>0</th>\n",
       "      <td>1001773</td>\n",
       "      <td>1.0</td>\n",
       "      <td>0.0</td>\n",
       "      <td>1.0</td>\n",
       "      <td>1.0</td>\n",
       "      <td>0.0</td>\n",
       "    </tr>\n",
       "    <tr>\n",
       "      <th>1</th>\n",
       "      <td>1002304</td>\n",
       "      <td>1.0</td>\n",
       "      <td>1.0</td>\n",
       "      <td>1.0</td>\n",
       "      <td>1.0</td>\n",
       "      <td>0.0</td>\n",
       "    </tr>\n",
       "    <tr>\n",
       "      <th>2</th>\n",
       "      <td>1002515</td>\n",
       "      <td>1.0</td>\n",
       "      <td>0.0</td>\n",
       "      <td>0.0</td>\n",
       "      <td>0.0</td>\n",
       "      <td>0.0</td>\n",
       "    </tr>\n",
       "    <tr>\n",
       "      <th>3</th>\n",
       "      <td>1002635</td>\n",
       "      <td>1.0</td>\n",
       "      <td>0.0</td>\n",
       "      <td>0.0</td>\n",
       "      <td>0.0</td>\n",
       "      <td>0.0</td>\n",
       "    </tr>\n",
       "    <tr>\n",
       "      <th>4</th>\n",
       "      <td>1003351</td>\n",
       "      <td>1.0</td>\n",
       "      <td>0.0</td>\n",
       "      <td>1.0</td>\n",
       "      <td>1.0</td>\n",
       "      <td>0.0</td>\n",
       "    </tr>\n",
       "    <tr>\n",
       "      <th>...</th>\n",
       "      <td>...</td>\n",
       "      <td>...</td>\n",
       "      <td>...</td>\n",
       "      <td>...</td>\n",
       "      <td>...</td>\n",
       "      <td>...</td>\n",
       "    </tr>\n",
       "    <tr>\n",
       "      <th>5705</th>\n",
       "      <td>6834415</td>\n",
       "      <td>0.0</td>\n",
       "      <td>0.0</td>\n",
       "      <td>0.0</td>\n",
       "      <td>1.0</td>\n",
       "      <td>0.0</td>\n",
       "    </tr>\n",
       "    <tr>\n",
       "      <th>5706</th>\n",
       "      <td>6858536</td>\n",
       "      <td>0.0</td>\n",
       "      <td>0.0</td>\n",
       "      <td>0.0</td>\n",
       "      <td>1.0</td>\n",
       "      <td>0.0</td>\n",
       "    </tr>\n",
       "    <tr>\n",
       "      <th>5707</th>\n",
       "      <td>6882314</td>\n",
       "      <td>0.0</td>\n",
       "      <td>0.0</td>\n",
       "      <td>0.0</td>\n",
       "      <td>1.0</td>\n",
       "      <td>0.0</td>\n",
       "    </tr>\n",
       "    <tr>\n",
       "      <th>5708</th>\n",
       "      <td>6924180</td>\n",
       "      <td>0.0</td>\n",
       "      <td>0.0</td>\n",
       "      <td>0.0</td>\n",
       "      <td>1.0</td>\n",
       "      <td>0.0</td>\n",
       "    </tr>\n",
       "    <tr>\n",
       "      <th>5709</th>\n",
       "      <td>1601194</td>\n",
       "      <td>0.0</td>\n",
       "      <td>0.0</td>\n",
       "      <td>0.0</td>\n",
       "      <td>0.0</td>\n",
       "      <td>1.0</td>\n",
       "    </tr>\n",
       "  </tbody>\n",
       "</table>\n",
       "<p>5710 rows × 6 columns</p>\n",
       "</div>"
      ],
      "text/plain": [
       "      a_patientid  diabetes  heart failure  hypertension  \\\n",
       "0         1001773       1.0            0.0           1.0   \n",
       "1         1002304       1.0            1.0           1.0   \n",
       "2         1002515       1.0            0.0           0.0   \n",
       "3         1002635       1.0            0.0           0.0   \n",
       "4         1003351       1.0            0.0           1.0   \n",
       "...           ...       ...            ...           ...   \n",
       "5705      6834415       0.0            0.0           0.0   \n",
       "5706      6858536       0.0            0.0           0.0   \n",
       "5707      6882314       0.0            0.0           0.0   \n",
       "5708      6924180       0.0            0.0           0.0   \n",
       "5709      1601194       0.0            0.0           0.0   \n",
       "\n",
       "      chronic kidney disease  RRT  \n",
       "0                        1.0  0.0  \n",
       "1                        1.0  0.0  \n",
       "2                        0.0  0.0  \n",
       "3                        0.0  0.0  \n",
       "4                        1.0  0.0  \n",
       "...                      ...  ...  \n",
       "5705                     1.0  0.0  \n",
       "5706                     1.0  0.0  \n",
       "5707                     1.0  0.0  \n",
       "5708                     1.0  0.0  \n",
       "5709                     0.0  1.0  \n",
       "\n",
       "[5710 rows x 6 columns]"
      ]
     },
     "execution_count": 342,
     "metadata": {},
     "output_type": "execute_result"
    }
   ],
   "source": [
    "comorbidity = dm.merge(hf, how=\"outer\")\n",
    "comorbidity = comorbidity.merge(hyp, how=\"outer\")\n",
    "comorbidity = comorbidity.merge(ckd, how=\"outer\")\n",
    "comorbidity = comorbidity.merge(rrt, how=\"outer\")\n",
    "\n",
    "comorbidity = comorbidity.fillna(0)\n",
    "comorbidity"
   ]
  },
  {
   "cell_type": "code",
   "execution_count": 343,
   "id": "7661f795-2aaf-4af8-88c3-a66f4e4c7804",
   "metadata": {},
   "outputs": [
    {
     "data": {
      "text/html": [
       "<div>\n",
       "<style scoped>\n",
       "    .dataframe tbody tr th:only-of-type {\n",
       "        vertical-align: middle;\n",
       "    }\n",
       "\n",
       "    .dataframe tbody tr th {\n",
       "        vertical-align: top;\n",
       "    }\n",
       "\n",
       "    .dataframe thead th {\n",
       "        text-align: right;\n",
       "    }\n",
       "</style>\n",
       "<table border=\"1\" class=\"dataframe\">\n",
       "  <thead>\n",
       "    <tr style=\"text-align: right;\">\n",
       "      <th></th>\n",
       "      <th>a_patientid</th>\n",
       "      <th>diabetes</th>\n",
       "      <th>heart failure</th>\n",
       "      <th>hypertension</th>\n",
       "      <th>chronic kidney disease</th>\n",
       "      <th>RRT</th>\n",
       "      <th>hospital_coded</th>\n",
       "    </tr>\n",
       "  </thead>\n",
       "  <tbody>\n",
       "    <tr>\n",
       "      <th>0</th>\n",
       "      <td>1001773</td>\n",
       "      <td>1.0</td>\n",
       "      <td>0.0</td>\n",
       "      <td>1.0</td>\n",
       "      <td>1.0</td>\n",
       "      <td>0.0</td>\n",
       "      <td>1</td>\n",
       "    </tr>\n",
       "    <tr>\n",
       "      <th>1</th>\n",
       "      <td>1002304</td>\n",
       "      <td>1.0</td>\n",
       "      <td>1.0</td>\n",
       "      <td>1.0</td>\n",
       "      <td>1.0</td>\n",
       "      <td>0.0</td>\n",
       "      <td>1</td>\n",
       "    </tr>\n",
       "    <tr>\n",
       "      <th>2</th>\n",
       "      <td>1002515</td>\n",
       "      <td>1.0</td>\n",
       "      <td>0.0</td>\n",
       "      <td>0.0</td>\n",
       "      <td>0.0</td>\n",
       "      <td>0.0</td>\n",
       "      <td>1</td>\n",
       "    </tr>\n",
       "    <tr>\n",
       "      <th>3</th>\n",
       "      <td>1002635</td>\n",
       "      <td>1.0</td>\n",
       "      <td>0.0</td>\n",
       "      <td>0.0</td>\n",
       "      <td>0.0</td>\n",
       "      <td>0.0</td>\n",
       "      <td>1</td>\n",
       "    </tr>\n",
       "    <tr>\n",
       "      <th>4</th>\n",
       "      <td>1003351</td>\n",
       "      <td>1.0</td>\n",
       "      <td>0.0</td>\n",
       "      <td>1.0</td>\n",
       "      <td>1.0</td>\n",
       "      <td>0.0</td>\n",
       "      <td>1</td>\n",
       "    </tr>\n",
       "    <tr>\n",
       "      <th>...</th>\n",
       "      <td>...</td>\n",
       "      <td>...</td>\n",
       "      <td>...</td>\n",
       "      <td>...</td>\n",
       "      <td>...</td>\n",
       "      <td>...</td>\n",
       "      <td>...</td>\n",
       "    </tr>\n",
       "    <tr>\n",
       "      <th>5705</th>\n",
       "      <td>6834415</td>\n",
       "      <td>0.0</td>\n",
       "      <td>0.0</td>\n",
       "      <td>0.0</td>\n",
       "      <td>1.0</td>\n",
       "      <td>0.0</td>\n",
       "      <td>6</td>\n",
       "    </tr>\n",
       "    <tr>\n",
       "      <th>5706</th>\n",
       "      <td>6858536</td>\n",
       "      <td>0.0</td>\n",
       "      <td>0.0</td>\n",
       "      <td>0.0</td>\n",
       "      <td>1.0</td>\n",
       "      <td>0.0</td>\n",
       "      <td>6</td>\n",
       "    </tr>\n",
       "    <tr>\n",
       "      <th>5707</th>\n",
       "      <td>6882314</td>\n",
       "      <td>0.0</td>\n",
       "      <td>0.0</td>\n",
       "      <td>0.0</td>\n",
       "      <td>1.0</td>\n",
       "      <td>0.0</td>\n",
       "      <td>6</td>\n",
       "    </tr>\n",
       "    <tr>\n",
       "      <th>5708</th>\n",
       "      <td>6924180</td>\n",
       "      <td>0.0</td>\n",
       "      <td>0.0</td>\n",
       "      <td>0.0</td>\n",
       "      <td>1.0</td>\n",
       "      <td>0.0</td>\n",
       "      <td>6</td>\n",
       "    </tr>\n",
       "    <tr>\n",
       "      <th>5709</th>\n",
       "      <td>1601194</td>\n",
       "      <td>0.0</td>\n",
       "      <td>0.0</td>\n",
       "      <td>0.0</td>\n",
       "      <td>0.0</td>\n",
       "      <td>1.0</td>\n",
       "      <td>1</td>\n",
       "    </tr>\n",
       "  </tbody>\n",
       "</table>\n",
       "<p>5710 rows × 7 columns</p>\n",
       "</div>"
      ],
      "text/plain": [
       "      a_patientid  diabetes  heart failure  hypertension  \\\n",
       "0         1001773       1.0            0.0           1.0   \n",
       "1         1002304       1.0            1.0           1.0   \n",
       "2         1002515       1.0            0.0           0.0   \n",
       "3         1002635       1.0            0.0           0.0   \n",
       "4         1003351       1.0            0.0           1.0   \n",
       "...           ...       ...            ...           ...   \n",
       "5705      6834415       0.0            0.0           0.0   \n",
       "5706      6858536       0.0            0.0           0.0   \n",
       "5707      6882314       0.0            0.0           0.0   \n",
       "5708      6924180       0.0            0.0           0.0   \n",
       "5709      1601194       0.0            0.0           0.0   \n",
       "\n",
       "      chronic kidney disease  RRT  hospital_coded  \n",
       "0                        1.0  0.0               1  \n",
       "1                        1.0  0.0               1  \n",
       "2                        0.0  0.0               1  \n",
       "3                        0.0  0.0               1  \n",
       "4                        1.0  0.0               1  \n",
       "...                      ...  ...             ...  \n",
       "5705                     1.0  0.0               6  \n",
       "5706                     1.0  0.0               6  \n",
       "5707                     1.0  0.0               6  \n",
       "5708                     1.0  0.0               6  \n",
       "5709                     0.0  1.0               1  \n",
       "\n",
       "[5710 rows x 7 columns]"
      ]
     },
     "execution_count": 343,
     "metadata": {},
     "output_type": "execute_result"
    }
   ],
   "source": [
    "comorbidity = comorbidity.merge(icusics_db_patients[[\"a_patientid\", \"hospital_coded\"]], how=\"inner\")\n",
    "comorbidity"
   ]
  },
  {
   "cell_type": "markdown",
   "id": "52c2c54b-83aa-4acf-a44b-0edfb441e280",
   "metadata": {},
   "source": [
    "N° of patients with comorbidities over differnt hospitals"
   ]
  },
  {
   "cell_type": "code",
   "execution_count": 344,
   "id": "52721260-a2ea-4047-8460-d38e4b3b816d",
   "metadata": {},
   "outputs": [
    {
     "data": {
      "text/plain": [
       "3    1931\n",
       "1    1768\n",
       "4     943\n",
       "2     647\n",
       "6     385\n",
       "5      36\n",
       "Name: hospital_coded, dtype: Int64"
      ]
     },
     "execution_count": 344,
     "metadata": {},
     "output_type": "execute_result"
    }
   ],
   "source": [
    "comorbidity.hospital_coded.value_counts()"
   ]
  },
  {
   "cell_type": "code",
   "execution_count": 345,
   "id": "646ba7f8-2b40-48eb-8162-8b734421529b",
   "metadata": {},
   "outputs": [],
   "source": [
    "comorbidity.to_csv(\"comorbidities_all_hosp.csv\", index=False)"
   ]
  },
  {
   "cell_type": "code",
   "execution_count": null,
   "id": "47fa3043-65e5-4c66-a946-ce7ec769ae9d",
   "metadata": {},
   "outputs": [],
   "source": []
  }
 ],
 "metadata": {
  "instance_type": "ml.t3.medium",
  "kernelspec": {
   "display_name": "Python 3 (Data Science)",
   "language": "python",
   "name": "python3__SAGEMAKER_INTERNAL__arn:aws:sagemaker:eu-west-1:470317259841:image/datascience-1.0"
  },
  "language_info": {
   "codemirror_mode": {
    "name": "ipython",
    "version": 3
   },
   "file_extension": ".py",
   "mimetype": "text/x-python",
   "name": "python",
   "nbconvert_exporter": "python",
   "pygments_lexer": "ipython3",
   "version": "3.7.10"
  }
 },
 "nbformat": 4,
 "nbformat_minor": 5
}
