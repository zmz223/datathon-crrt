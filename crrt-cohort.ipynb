{
 "cells": [
  {
   "cell_type": "code",
   "execution_count": 1,
   "id": "bce0fff5",
   "metadata": {},
   "outputs": [],
   "source": [
    "# !pip install awswrangler\n",
    "# !pip install tableone\n",
    "# !pip install tqdm"
   ]
  },
  {
   "cell_type": "code",
   "execution_count": 2,
   "id": "12e84bb5",
   "metadata": {},
   "outputs": [],
   "source": [
    "import awswrangler as wr\n",
    "import pandas as pd\n",
    "import numpy as np\n",
    "import matplotlib.pyplot as plt\n",
    "import seaborn as sns\n",
    "from tqdm import tqdm\n",
    "from tableone import TableOne"
   ]
  },
  {
   "cell_type": "code",
   "execution_count": 3,
   "id": "b20e673b",
   "metadata": {},
   "outputs": [],
   "source": [
    "creatinine = wr.athena.read_sql_query(\"SELECT * from kdigo_creatinine\", database=\"mimiciv\")\n",
    "crrt = wr.athena.read_sql_query(\"SELECT * from crrt\", database=\"mimiciv\")\n",
    "uo = wr.athena.read_sql_query(\"SELECT * from urine_output\", database=\"mimiciv\")\n",
    "aki = wr.athena.read_sql_query(\"SELECT * from kdigo_aki\", database=\"mimiciv\")\n",
    "icustays = wr.athena.read_sql_query(\"SELECT * from icustays\", database=\"mimiciv\")\n",
    "demo = wr.athena.read_sql_query(\"SELECT * from patients\", database=\"mimiciv\")\n",
    "admissions = wr.athena.read_sql_query(\"SELECT * from admissions\", database=\"mimiciv\")\n",
    "diag = wr.athena.read_sql_query(\"SELECT * from diagnoses_icd\", database=\"mimiciv\")\n",
    "dnr = wr.athena.read_sql_query(\"SELECT hadm_id from chartevents where itemid=22378 or itemid=228687\", database=\"mimiciv\")\n",
    "kdigo_creat = wr.athena.read_sql_query(\"SELECT * from kdigo_creatinine\", database=\"mimiciv\")\n",
    "kdigo_uo = wr.athena.read_sql_query(\"SELECT * from kdigo_uo\", database=\"mimiciv\")"
   ]
  },
  {
   "cell_type": "code",
   "execution_count": 4,
   "id": "2accfab0",
   "metadata": {},
   "outputs": [
    {
     "data": {
      "text/plain": [
       "(4103559, 13)"
      ]
     },
     "execution_count": 4,
     "metadata": {},
     "output_type": "execute_result"
    }
   ],
   "source": [
    "aki.shape"
   ]
  },
  {
   "cell_type": "code",
   "execution_count": 5,
   "id": "58e5dc09",
   "metadata": {},
   "outputs": [
    {
     "data": {
      "text/plain": [
       "subject_id               53569\n",
       "hadm_id                  69639\n",
       "stay_id                  76943\n",
       "charttime              1684027\n",
       "creat_low_past_7day        280\n",
       "creat_low_past_48hr        290\n",
       "creat                      317\n",
       "aki_stage_creat              4\n",
       "uo_rt_6hr               174772\n",
       "uo_rt_12hr              143392\n",
       "uo_rt_24hr              134629\n",
       "aki_stage_uo                 1\n",
       "aki_stage                    4\n",
       "dtype: int64"
      ]
     },
     "execution_count": 5,
     "metadata": {},
     "output_type": "execute_result"
    }
   ],
   "source": [
    "aki.nunique()"
   ]
  },
  {
   "cell_type": "code",
   "execution_count": 6,
   "id": "b223ab8a",
   "metadata": {},
   "outputs": [
    {
     "data": {
      "text/plain": [
       "0    3977653\n",
       "1      76799\n",
       "3      24624\n",
       "2      24483\n",
       "Name: aki_stage, dtype: Int64"
      ]
     },
     "execution_count": 6,
     "metadata": {},
     "output_type": "execute_result"
    }
   ],
   "source": [
    "aki['aki_stage'].value_counts()"
   ]
  },
  {
   "cell_type": "code",
   "execution_count": 7,
   "id": "6d5119fd",
   "metadata": {},
   "outputs": [],
   "source": [
    "# Merge on hadm_id and not subject_id to get the exact encounters.\n",
    "aki = aki.merge(admissions, on=['hadm_id', 'subject_id'])\n",
    "aki = aki.merge(demo)"
   ]
  },
  {
   "cell_type": "code",
   "execution_count": 8,
   "id": "ff7d1677",
   "metadata": {},
   "outputs": [
    {
     "data": {
      "text/plain": [
       "(4103559, 31)"
      ]
     },
     "execution_count": 8,
     "metadata": {},
     "output_type": "execute_result"
    }
   ],
   "source": [
    "aki.shape"
   ]
  },
  {
   "cell_type": "markdown",
   "id": "bb2d45a6",
   "metadata": {},
   "source": [
    "## Inclusion / Exclusion Criteria \n",
    "1. Patients > 18\n",
    "2. 1st ICU stay\n",
    "3. Measurement of creatinine and urine ouput within 24 hours\n",
    "4. aki stage 2 \n",
    "5. not a CEER ICD 10-N18\n",
    "6. No DNR"
   ]
  },
  {
   "cell_type": "code",
   "execution_count": 9,
   "id": "dfc0fc87",
   "metadata": {},
   "outputs": [],
   "source": [
    "# Filter aki for stage 2\n",
    "aki2 = aki[aki['aki_stage'] != 0].reset_index(drop=True)"
   ]
  },
  {
   "cell_type": "code",
   "execution_count": 10,
   "id": "8bc5fe95",
   "metadata": {},
   "outputs": [
    {
     "data": {
      "text/plain": [
       "(125906, 31)"
      ]
     },
     "execution_count": 10,
     "metadata": {},
     "output_type": "execute_result"
    }
   ],
   "source": [
    "aki2.shape"
   ]
  },
  {
   "cell_type": "code",
   "execution_count": 11,
   "id": "5a9a41de",
   "metadata": {},
   "outputs": [],
   "source": [
    "# Patients > 18\n",
    "aki_18 = aki2[aki2['anchor_age'] >= 18]"
   ]
  },
  {
   "cell_type": "code",
   "execution_count": 12,
   "id": "6a1a83be",
   "metadata": {},
   "outputs": [
    {
     "data": {
      "text/plain": [
       "(125906, 31)"
      ]
     },
     "execution_count": 12,
     "metadata": {},
     "output_type": "execute_result"
    }
   ],
   "source": [
    "aki_18.shape"
   ]
  },
  {
   "cell_type": "code",
   "execution_count": 13,
   "id": "765f0347",
   "metadata": {},
   "outputs": [],
   "source": [
    "# Get the first ICU stay.\n",
    "def get_first_icu_stay(df):\n",
    "    result = pd.DataFrame()\n",
    "    for pat in tqdm(df['subject_id'].unique()):\n",
    "        tmp = df[df['subject_id'] == pat].reset_index(drop=True)\n",
    "        min_stay = tmp[tmp['admittime'] == min(tmp['admittime'])]\n",
    "        result = result.append(min_stay)\n",
    "        \n",
    "    return result"
   ]
  },
  {
   "cell_type": "code",
   "execution_count": 14,
   "id": "bf606f03",
   "metadata": {},
   "outputs": [
    {
     "name": "stderr",
     "output_type": "stream",
     "text": [
      "100%|██████████| 17667/17667 [12:13<00:00, 24.10it/s]\n"
     ]
    }
   ],
   "source": [
    "aki_first = get_first_icu_stay(aki_18)"
   ]
  },
  {
   "cell_type": "code",
   "execution_count": 15,
   "id": "dfc0a059",
   "metadata": {},
   "outputs": [
    {
     "data": {
      "text/plain": [
       "(104358, 31)"
      ]
     },
     "execution_count": 15,
     "metadata": {},
     "output_type": "execute_result"
    }
   ],
   "source": [
    "aki_first.shape"
   ]
  },
  {
   "cell_type": "code",
   "execution_count": 16,
   "id": "ab089f1b",
   "metadata": {},
   "outputs": [
    {
     "data": {
      "text/html": [
       "<div>\n",
       "<style scoped>\n",
       "    .dataframe tbody tr th:only-of-type {\n",
       "        vertical-align: middle;\n",
       "    }\n",
       "\n",
       "    .dataframe tbody tr th {\n",
       "        vertical-align: top;\n",
       "    }\n",
       "\n",
       "    .dataframe thead th {\n",
       "        text-align: right;\n",
       "    }\n",
       "</style>\n",
       "<table border=\"1\" class=\"dataframe\">\n",
       "  <thead>\n",
       "    <tr style=\"text-align: right;\">\n",
       "      <th></th>\n",
       "      <th>subject_id</th>\n",
       "      <th>hadm_id</th>\n",
       "      <th>ca_admittime</th>\n",
       "    </tr>\n",
       "  </thead>\n",
       "  <tbody>\n",
       "    <tr>\n",
       "      <th>0</th>\n",
       "      <td>10003400</td>\n",
       "      <td>23559586</td>\n",
       "      <td>2137-08-04 00:07:00</td>\n",
       "    </tr>\n",
       "    <tr>\n",
       "      <th>1</th>\n",
       "      <td>10003637</td>\n",
       "      <td>28484061</td>\n",
       "      <td>2149-05-13 15:41:00</td>\n",
       "    </tr>\n",
       "    <tr>\n",
       "      <th>2</th>\n",
       "      <td>10070201</td>\n",
       "      <td>24609173</td>\n",
       "      <td>2140-08-15 18:08:00</td>\n",
       "    </tr>\n",
       "    <tr>\n",
       "      <th>3</th>\n",
       "      <td>10070539</td>\n",
       "      <td>21243910</td>\n",
       "      <td>2179-12-04 18:12:00</td>\n",
       "    </tr>\n",
       "    <tr>\n",
       "      <th>4</th>\n",
       "      <td>10070594</td>\n",
       "      <td>20956461</td>\n",
       "      <td>2174-02-03 21:09:00</td>\n",
       "    </tr>\n",
       "  </tbody>\n",
       "</table>\n",
       "</div>"
      ],
      "text/plain": [
       "   subject_id   hadm_id        ca_admittime\n",
       "0    10003400  23559586 2137-08-04 00:07:00\n",
       "1    10003637  28484061 2149-05-13 15:41:00\n",
       "2    10070201  24609173 2140-08-15 18:08:00\n",
       "3    10070539  21243910 2179-12-04 18:12:00\n",
       "4    10070594  20956461 2174-02-03 21:09:00"
      ]
     },
     "execution_count": 16,
     "metadata": {},
     "output_type": "execute_result"
    }
   ],
   "source": [
    "# Find people with chronic kidney diease. \n",
    "# Drop all encounters after the diagnosis\n",
    "chronic_kidney = diag[diag['icd_code'].str.contains('n18', case=False)]\n",
    "chronic_kidney_time = chronic_kidney.merge(admissions)\n",
    "chronic_kidney_time = chronic_kidney_time[['subject_id', 'hadm_id', 'admittime']]\n",
    "chronic_kidney_time.rename({'admittime' : 'ca_admittime'}, axis=1, inplace=True)\n",
    "chronic_kidney_time.head()"
   ]
  },
  {
   "cell_type": "code",
   "execution_count": 17,
   "id": "7ed9e742",
   "metadata": {},
   "outputs": [],
   "source": [
    "# Check this.\n",
    "to_drop = aki_first.merge(chronic_kidney_time, on=['subject_id'])\n",
    "to_drop = to_drop[to_drop['ca_admittime'] >= to_drop['admittime']]"
   ]
  },
  {
   "cell_type": "code",
   "execution_count": 18,
   "id": "b3783063",
   "metadata": {},
   "outputs": [
    {
     "data": {
      "text/html": [
       "<div>\n",
       "<style scoped>\n",
       "    .dataframe tbody tr th:only-of-type {\n",
       "        vertical-align: middle;\n",
       "    }\n",
       "\n",
       "    .dataframe tbody tr th {\n",
       "        vertical-align: top;\n",
       "    }\n",
       "\n",
       "    .dataframe thead th {\n",
       "        text-align: right;\n",
       "    }\n",
       "</style>\n",
       "<table border=\"1\" class=\"dataframe\">\n",
       "  <thead>\n",
       "    <tr style=\"text-align: right;\">\n",
       "      <th></th>\n",
       "      <th>subject_id</th>\n",
       "      <th>hadm_id_x</th>\n",
       "      <th>stay_id</th>\n",
       "      <th>charttime</th>\n",
       "      <th>creat_low_past_7day</th>\n",
       "      <th>creat_low_past_48hr</th>\n",
       "      <th>creat</th>\n",
       "      <th>aki_stage_creat</th>\n",
       "      <th>uo_rt_6hr</th>\n",
       "      <th>uo_rt_12hr</th>\n",
       "      <th>...</th>\n",
       "      <th>edregtime</th>\n",
       "      <th>edouttime</th>\n",
       "      <th>hospital_expire_flag</th>\n",
       "      <th>gender</th>\n",
       "      <th>anchor_age</th>\n",
       "      <th>anchor_year</th>\n",
       "      <th>anchor_year_group</th>\n",
       "      <th>dod</th>\n",
       "      <th>hadm_id_y</th>\n",
       "      <th>ca_admittime</th>\n",
       "    </tr>\n",
       "  </thead>\n",
       "  <tbody>\n",
       "    <tr>\n",
       "      <th>0</th>\n",
       "      <td>13774759</td>\n",
       "      <td>24895324</td>\n",
       "      <td>32355634</td>\n",
       "      <td>2207-08-21 18:30:00</td>\n",
       "      <td>0.9</td>\n",
       "      <td>0.9</td>\n",
       "      <td>1.4</td>\n",
       "      <td>1</td>\n",
       "      <td>NaN</td>\n",
       "      <td>NaN</td>\n",
       "      <td>...</td>\n",
       "      <td>2207-08-12 15:55:00</td>\n",
       "      <td>2207-08-12 20:32:00</td>\n",
       "      <td>0</td>\n",
       "      <td>F</td>\n",
       "      <td>49</td>\n",
       "      <td>2202</td>\n",
       "      <td>2011 - 2013</td>\n",
       "      <td>None</td>\n",
       "      <td>20132626</td>\n",
       "      <td>2207-12-02 00:00:00</td>\n",
       "    </tr>\n",
       "    <tr>\n",
       "      <th>1</th>\n",
       "      <td>13774759</td>\n",
       "      <td>24895324</td>\n",
       "      <td>32355634</td>\n",
       "      <td>2207-08-21 18:30:00</td>\n",
       "      <td>0.9</td>\n",
       "      <td>0.9</td>\n",
       "      <td>1.4</td>\n",
       "      <td>1</td>\n",
       "      <td>NaN</td>\n",
       "      <td>NaN</td>\n",
       "      <td>...</td>\n",
       "      <td>2207-08-12 15:55:00</td>\n",
       "      <td>2207-08-12 20:32:00</td>\n",
       "      <td>0</td>\n",
       "      <td>F</td>\n",
       "      <td>49</td>\n",
       "      <td>2202</td>\n",
       "      <td>2011 - 2013</td>\n",
       "      <td>None</td>\n",
       "      <td>20611153</td>\n",
       "      <td>2208-06-30 11:49:00</td>\n",
       "    </tr>\n",
       "    <tr>\n",
       "      <th>2</th>\n",
       "      <td>13774759</td>\n",
       "      <td>24895324</td>\n",
       "      <td>32355634</td>\n",
       "      <td>2207-08-21 18:30:00</td>\n",
       "      <td>0.9</td>\n",
       "      <td>0.9</td>\n",
       "      <td>1.4</td>\n",
       "      <td>1</td>\n",
       "      <td>NaN</td>\n",
       "      <td>NaN</td>\n",
       "      <td>...</td>\n",
       "      <td>2207-08-12 15:55:00</td>\n",
       "      <td>2207-08-12 20:32:00</td>\n",
       "      <td>0</td>\n",
       "      <td>F</td>\n",
       "      <td>49</td>\n",
       "      <td>2202</td>\n",
       "      <td>2011 - 2013</td>\n",
       "      <td>None</td>\n",
       "      <td>23494931</td>\n",
       "      <td>2209-09-01 16:27:00</td>\n",
       "    </tr>\n",
       "    <tr>\n",
       "      <th>3</th>\n",
       "      <td>13774759</td>\n",
       "      <td>24895324</td>\n",
       "      <td>32355634</td>\n",
       "      <td>2207-08-21 18:30:00</td>\n",
       "      <td>0.9</td>\n",
       "      <td>0.9</td>\n",
       "      <td>1.4</td>\n",
       "      <td>1</td>\n",
       "      <td>NaN</td>\n",
       "      <td>NaN</td>\n",
       "      <td>...</td>\n",
       "      <td>2207-08-12 15:55:00</td>\n",
       "      <td>2207-08-12 20:32:00</td>\n",
       "      <td>0</td>\n",
       "      <td>F</td>\n",
       "      <td>49</td>\n",
       "      <td>2202</td>\n",
       "      <td>2011 - 2013</td>\n",
       "      <td>None</td>\n",
       "      <td>24895324</td>\n",
       "      <td>2207-08-12 19:09:00</td>\n",
       "    </tr>\n",
       "    <tr>\n",
       "      <th>4</th>\n",
       "      <td>13774759</td>\n",
       "      <td>24895324</td>\n",
       "      <td>32355634</td>\n",
       "      <td>2207-08-21 18:30:00</td>\n",
       "      <td>0.9</td>\n",
       "      <td>0.9</td>\n",
       "      <td>1.4</td>\n",
       "      <td>1</td>\n",
       "      <td>NaN</td>\n",
       "      <td>NaN</td>\n",
       "      <td>...</td>\n",
       "      <td>2207-08-12 15:55:00</td>\n",
       "      <td>2207-08-12 20:32:00</td>\n",
       "      <td>0</td>\n",
       "      <td>F</td>\n",
       "      <td>49</td>\n",
       "      <td>2202</td>\n",
       "      <td>2011 - 2013</td>\n",
       "      <td>None</td>\n",
       "      <td>25710791</td>\n",
       "      <td>2207-09-15 02:25:00</td>\n",
       "    </tr>\n",
       "    <tr>\n",
       "      <th>...</th>\n",
       "      <td>...</td>\n",
       "      <td>...</td>\n",
       "      <td>...</td>\n",
       "      <td>...</td>\n",
       "      <td>...</td>\n",
       "      <td>...</td>\n",
       "      <td>...</td>\n",
       "      <td>...</td>\n",
       "      <td>...</td>\n",
       "      <td>...</td>\n",
       "      <td>...</td>\n",
       "      <td>...</td>\n",
       "      <td>...</td>\n",
       "      <td>...</td>\n",
       "      <td>...</td>\n",
       "      <td>...</td>\n",
       "      <td>...</td>\n",
       "      <td>...</td>\n",
       "      <td>...</td>\n",
       "      <td>...</td>\n",
       "      <td>...</td>\n",
       "    </tr>\n",
       "    <tr>\n",
       "      <th>69159</th>\n",
       "      <td>17306044</td>\n",
       "      <td>26040460</td>\n",
       "      <td>38290791</td>\n",
       "      <td>2152-06-11 02:03:00</td>\n",
       "      <td>2.5</td>\n",
       "      <td>2.5</td>\n",
       "      <td>2.9</td>\n",
       "      <td>1</td>\n",
       "      <td>NaN</td>\n",
       "      <td>NaN</td>\n",
       "      <td>...</td>\n",
       "      <td>2152-06-09 19:17:00</td>\n",
       "      <td>2152-06-09 21:42:00</td>\n",
       "      <td>0</td>\n",
       "      <td>M</td>\n",
       "      <td>78</td>\n",
       "      <td>2152</td>\n",
       "      <td>2014 - 2016</td>\n",
       "      <td>2154-04-19</td>\n",
       "      <td>21367111</td>\n",
       "      <td>2154-02-04 19:08:00</td>\n",
       "    </tr>\n",
       "    <tr>\n",
       "      <th>69160</th>\n",
       "      <td>17306044</td>\n",
       "      <td>26040460</td>\n",
       "      <td>38290791</td>\n",
       "      <td>2152-06-11 02:03:00</td>\n",
       "      <td>2.5</td>\n",
       "      <td>2.5</td>\n",
       "      <td>2.9</td>\n",
       "      <td>1</td>\n",
       "      <td>NaN</td>\n",
       "      <td>NaN</td>\n",
       "      <td>...</td>\n",
       "      <td>2152-06-09 19:17:00</td>\n",
       "      <td>2152-06-09 21:42:00</td>\n",
       "      <td>0</td>\n",
       "      <td>M</td>\n",
       "      <td>78</td>\n",
       "      <td>2152</td>\n",
       "      <td>2014 - 2016</td>\n",
       "      <td>2154-04-19</td>\n",
       "      <td>26040460</td>\n",
       "      <td>2152-06-09 20:08:00</td>\n",
       "    </tr>\n",
       "    <tr>\n",
       "      <th>69161</th>\n",
       "      <td>17306044</td>\n",
       "      <td>26040460</td>\n",
       "      <td>38290791</td>\n",
       "      <td>2152-06-11 14:02:00</td>\n",
       "      <td>2.5</td>\n",
       "      <td>2.5</td>\n",
       "      <td>3.0</td>\n",
       "      <td>1</td>\n",
       "      <td>NaN</td>\n",
       "      <td>NaN</td>\n",
       "      <td>...</td>\n",
       "      <td>2152-06-09 19:17:00</td>\n",
       "      <td>2152-06-09 21:42:00</td>\n",
       "      <td>0</td>\n",
       "      <td>M</td>\n",
       "      <td>78</td>\n",
       "      <td>2152</td>\n",
       "      <td>2014 - 2016</td>\n",
       "      <td>2154-04-19</td>\n",
       "      <td>20392805</td>\n",
       "      <td>2152-10-18 07:15:00</td>\n",
       "    </tr>\n",
       "    <tr>\n",
       "      <th>69162</th>\n",
       "      <td>17306044</td>\n",
       "      <td>26040460</td>\n",
       "      <td>38290791</td>\n",
       "      <td>2152-06-11 14:02:00</td>\n",
       "      <td>2.5</td>\n",
       "      <td>2.5</td>\n",
       "      <td>3.0</td>\n",
       "      <td>1</td>\n",
       "      <td>NaN</td>\n",
       "      <td>NaN</td>\n",
       "      <td>...</td>\n",
       "      <td>2152-06-09 19:17:00</td>\n",
       "      <td>2152-06-09 21:42:00</td>\n",
       "      <td>0</td>\n",
       "      <td>M</td>\n",
       "      <td>78</td>\n",
       "      <td>2152</td>\n",
       "      <td>2014 - 2016</td>\n",
       "      <td>2154-04-19</td>\n",
       "      <td>21367111</td>\n",
       "      <td>2154-02-04 19:08:00</td>\n",
       "    </tr>\n",
       "    <tr>\n",
       "      <th>69163</th>\n",
       "      <td>17306044</td>\n",
       "      <td>26040460</td>\n",
       "      <td>38290791</td>\n",
       "      <td>2152-06-11 14:02:00</td>\n",
       "      <td>2.5</td>\n",
       "      <td>2.5</td>\n",
       "      <td>3.0</td>\n",
       "      <td>1</td>\n",
       "      <td>NaN</td>\n",
       "      <td>NaN</td>\n",
       "      <td>...</td>\n",
       "      <td>2152-06-09 19:17:00</td>\n",
       "      <td>2152-06-09 21:42:00</td>\n",
       "      <td>0</td>\n",
       "      <td>M</td>\n",
       "      <td>78</td>\n",
       "      <td>2152</td>\n",
       "      <td>2014 - 2016</td>\n",
       "      <td>2154-04-19</td>\n",
       "      <td>26040460</td>\n",
       "      <td>2152-06-09 20:08:00</td>\n",
       "    </tr>\n",
       "  </tbody>\n",
       "</table>\n",
       "<p>55688 rows × 33 columns</p>\n",
       "</div>"
      ],
      "text/plain": [
       "       subject_id  hadm_id_x   stay_id           charttime  \\\n",
       "0        13774759   24895324  32355634 2207-08-21 18:30:00   \n",
       "1        13774759   24895324  32355634 2207-08-21 18:30:00   \n",
       "2        13774759   24895324  32355634 2207-08-21 18:30:00   \n",
       "3        13774759   24895324  32355634 2207-08-21 18:30:00   \n",
       "4        13774759   24895324  32355634 2207-08-21 18:30:00   \n",
       "...           ...        ...       ...                 ...   \n",
       "69159    17306044   26040460  38290791 2152-06-11 02:03:00   \n",
       "69160    17306044   26040460  38290791 2152-06-11 02:03:00   \n",
       "69161    17306044   26040460  38290791 2152-06-11 14:02:00   \n",
       "69162    17306044   26040460  38290791 2152-06-11 14:02:00   \n",
       "69163    17306044   26040460  38290791 2152-06-11 14:02:00   \n",
       "\n",
       "       creat_low_past_7day  creat_low_past_48hr  creat  aki_stage_creat  \\\n",
       "0                      0.9                  0.9    1.4                1   \n",
       "1                      0.9                  0.9    1.4                1   \n",
       "2                      0.9                  0.9    1.4                1   \n",
       "3                      0.9                  0.9    1.4                1   \n",
       "4                      0.9                  0.9    1.4                1   \n",
       "...                    ...                  ...    ...              ...   \n",
       "69159                  2.5                  2.5    2.9                1   \n",
       "69160                  2.5                  2.5    2.9                1   \n",
       "69161                  2.5                  2.5    3.0                1   \n",
       "69162                  2.5                  2.5    3.0                1   \n",
       "69163                  2.5                  2.5    3.0                1   \n",
       "\n",
       "       uo_rt_6hr  uo_rt_12hr  ...           edregtime           edouttime  \\\n",
       "0            NaN         NaN  ... 2207-08-12 15:55:00 2207-08-12 20:32:00   \n",
       "1            NaN         NaN  ... 2207-08-12 15:55:00 2207-08-12 20:32:00   \n",
       "2            NaN         NaN  ... 2207-08-12 15:55:00 2207-08-12 20:32:00   \n",
       "3            NaN         NaN  ... 2207-08-12 15:55:00 2207-08-12 20:32:00   \n",
       "4            NaN         NaN  ... 2207-08-12 15:55:00 2207-08-12 20:32:00   \n",
       "...          ...         ...  ...                 ...                 ...   \n",
       "69159        NaN         NaN  ... 2152-06-09 19:17:00 2152-06-09 21:42:00   \n",
       "69160        NaN         NaN  ... 2152-06-09 19:17:00 2152-06-09 21:42:00   \n",
       "69161        NaN         NaN  ... 2152-06-09 19:17:00 2152-06-09 21:42:00   \n",
       "69162        NaN         NaN  ... 2152-06-09 19:17:00 2152-06-09 21:42:00   \n",
       "69163        NaN         NaN  ... 2152-06-09 19:17:00 2152-06-09 21:42:00   \n",
       "\n",
       "       hospital_expire_flag gender anchor_age anchor_year anchor_year_group  \\\n",
       "0                         0      F         49        2202       2011 - 2013   \n",
       "1                         0      F         49        2202       2011 - 2013   \n",
       "2                         0      F         49        2202       2011 - 2013   \n",
       "3                         0      F         49        2202       2011 - 2013   \n",
       "4                         0      F         49        2202       2011 - 2013   \n",
       "...                     ...    ...        ...         ...               ...   \n",
       "69159                     0      M         78        2152       2014 - 2016   \n",
       "69160                     0      M         78        2152       2014 - 2016   \n",
       "69161                     0      M         78        2152       2014 - 2016   \n",
       "69162                     0      M         78        2152       2014 - 2016   \n",
       "69163                     0      M         78        2152       2014 - 2016   \n",
       "\n",
       "              dod hadm_id_y        ca_admittime  \n",
       "0            None  20132626 2207-12-02 00:00:00  \n",
       "1            None  20611153 2208-06-30 11:49:00  \n",
       "2            None  23494931 2209-09-01 16:27:00  \n",
       "3            None  24895324 2207-08-12 19:09:00  \n",
       "4            None  25710791 2207-09-15 02:25:00  \n",
       "...           ...       ...                 ...  \n",
       "69159  2154-04-19  21367111 2154-02-04 19:08:00  \n",
       "69160  2154-04-19  26040460 2152-06-09 20:08:00  \n",
       "69161  2154-04-19  20392805 2152-10-18 07:15:00  \n",
       "69162  2154-04-19  21367111 2154-02-04 19:08:00  \n",
       "69163  2154-04-19  26040460 2152-06-09 20:08:00  \n",
       "\n",
       "[55688 rows x 33 columns]"
      ]
     },
     "execution_count": 18,
     "metadata": {},
     "output_type": "execute_result"
    }
   ],
   "source": [
    "to_drop"
   ]
  },
  {
   "cell_type": "code",
   "execution_count": 19,
   "id": "12ef8bcf",
   "metadata": {},
   "outputs": [
    {
     "data": {
      "text/plain": [
       "(80767, 31)"
      ]
     },
     "execution_count": 19,
     "metadata": {},
     "output_type": "execute_result"
    }
   ],
   "source": [
    "aki_no_ck = aki_first[~aki_first['hadm_id'].isin(to_drop['hadm_id_x'].values)]\n",
    "aki_no_ck.shape"
   ]
  },
  {
   "cell_type": "code",
   "execution_count": 20,
   "id": "0825e572",
   "metadata": {},
   "outputs": [],
   "source": [
    "# DNR/DNI Item ID 22378 and 228687 in chart events."
   ]
  },
  {
   "cell_type": "code",
   "execution_count": 21,
   "id": "dc32bcc1",
   "metadata": {},
   "outputs": [
    {
     "data": {
      "text/plain": [
       "(80767, 31)"
      ]
     },
     "execution_count": 21,
     "metadata": {},
     "output_type": "execute_result"
    }
   ],
   "source": [
    "aki_no_ck.shape"
   ]
  },
  {
   "cell_type": "code",
   "execution_count": 22,
   "id": "e9af5979",
   "metadata": {},
   "outputs": [
    {
     "data": {
      "text/plain": [
       "(80767, 31)"
      ]
     },
     "execution_count": 22,
     "metadata": {},
     "output_type": "execute_result"
    }
   ],
   "source": [
    "aki_no_dnr = aki_no_ck[~aki_no_ck.isin(dnr['hadm_id'].values)]\n",
    "aki_no_dnr.shape"
   ]
  },
  {
   "cell_type": "code",
   "execution_count": 23,
   "id": "3729a513",
   "metadata": {},
   "outputs": [
    {
     "data": {
      "text/plain": [
       "(80767, 31)"
      ]
     },
     "execution_count": 23,
     "metadata": {},
     "output_type": "execute_result"
    }
   ],
   "source": [
    "aki_no_dnr.shape"
   ]
  },
  {
   "cell_type": "code",
   "execution_count": 24,
   "id": "4da11d0d",
   "metadata": {},
   "outputs": [],
   "source": [
    "kdigo_creat.rename({'charttime' : 'creattime'}, axis=1, inplace=True)"
   ]
  },
  {
   "cell_type": "code",
   "execution_count": 25,
   "id": "43e4c29c",
   "metadata": {},
   "outputs": [],
   "source": [
    "def creat_24(y):\n",
    "    tmp = kdigo_creat[kdigo_creat['hadm_id'] == y['hadm_id']]\n",
    "    if tmp.shape[0] == 0:\n",
    "        return 0\n",
    "    tmp['24'] = tmp.apply(lambda x: 1 if x['creattime'] >= y['admittime'] and x['creattime'] <= (y['admittime'] + np.timedelta64(1, 'D')) else 0, axis=1)\n",
    "    if max(tmp['24']) == 1:\n",
    "        return 1\n",
    "    else: \n",
    "        return 0\n",
    "    \n",
    "def uo_24(y):\n",
    "    tmp = kdigo_uo[kdigo_uo['stay_id'] == y['stay_id']]\n",
    "    if tmp.shape[0] == 0:\n",
    "        return 0\n",
    "    \n",
    "    if max(pd.isnull(tmp['urineoutput_24hr'])) == 1:\n",
    "        return 0\n",
    "    else:\n",
    "        return 1"
   ]
  },
  {
   "cell_type": "code",
   "execution_count": null,
   "id": "adabaa63",
   "metadata": {},
   "outputs": [],
   "source": [
    "# 24 hour urine output and model.\n",
    "aki_no_dnr['creat_24'] = aki_no_dnr.apply(creat_24, axis=1)\n",
    "aki_no_dnr['urine_24'] = aki_no_dnr.apply(uo_24, axis=1)"
   ]
  },
  {
   "cell_type": "code",
   "execution_count": null,
   "id": "eeb20ec6",
   "metadata": {},
   "outputs": [],
   "source": [
    "aki_no_dnr['creat_24'].value_counts()"
   ]
  },
  {
   "cell_type": "code",
   "execution_count": null,
   "id": "7fc3268d",
   "metadata": {},
   "outputs": [],
   "source": [
    "aki_no_dnr['urine_24'].value_counts()"
   ]
  },
  {
   "cell_type": "code",
   "execution_count": null,
   "id": "69e979b1",
   "metadata": {},
   "outputs": [],
   "source": [
    "aki_creat_uo_24 = aki_no_dnr[(aki_no_dnr['urine_24'] == 1) & (aki_no_dnr['creat_24'] == 1)]"
   ]
  },
  {
   "cell_type": "code",
   "execution_count": null,
   "id": "74693e2d",
   "metadata": {},
   "outputs": [],
   "source": [
    "aki_creat_uo_24 = aki_creat_uo_24.reset_index(drop=True)\n",
    "aki_creat_uo_24.shape"
   ]
  },
  {
   "cell_type": "code",
   "execution_count": null,
   "id": "d6b6a1a0",
   "metadata": {},
   "outputs": [],
   "source": [
    "cols = ['gender', 'anchor_age', 'race', 'hospital_expire_flag']\n",
    "categorical = ['gender', 'race', 'hospital_expire_flag']\n",
    "tab = TableOne(aki_creat_uo_24, columns=cols, categorical=categorical, groupby='aki_stage', pval=True)"
   ]
  },
  {
   "cell_type": "code",
   "execution_count": null,
   "id": "0fa254ed",
   "metadata": {},
   "outputs": [],
   "source": []
  },
  {
   "cell_type": "code",
   "execution_count": null,
   "id": "7db6e507",
   "metadata": {},
   "outputs": [],
   "source": []
  },
  {
   "cell_type": "code",
   "execution_count": null,
   "id": "60bda9c9",
   "metadata": {},
   "outputs": [],
   "source": []
  },
  {
   "cell_type": "code",
   "execution_count": null,
   "id": "a4d64078",
   "metadata": {},
   "outputs": [],
   "source": []
  },
  {
   "cell_type": "code",
   "execution_count": null,
   "id": "378d645c",
   "metadata": {},
   "outputs": [],
   "source": []
  },
  {
   "cell_type": "code",
   "execution_count": null,
   "id": "0f7c13e6",
   "metadata": {},
   "outputs": [],
   "source": []
  }
 ],
 "metadata": {
  "kernelspec": {
   "display_name": "conda_python3",
   "language": "python",
   "name": "conda_python3"
  },
  "language_info": {
   "codemirror_mode": {
    "name": "ipython",
    "version": 3
   },
   "file_extension": ".py",
   "mimetype": "text/x-python",
   "name": "python",
   "nbconvert_exporter": "python",
   "pygments_lexer": "ipython3",
   "version": "3.6.13"
  },
  "vscode": {
   "interpreter": {
    "hash": "8dd4a9027f561a0023857f4640bc54d91ed591d3caf9c5743307b8f6a9989ef9"
   }
  }
 },
 "nbformat": 4,
 "nbformat_minor": 5
}
