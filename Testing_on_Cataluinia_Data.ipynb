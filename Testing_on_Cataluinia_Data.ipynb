{
 "cells": [
  {
   "cell_type": "code",
   "execution_count": null,
   "id": "cf2c4844-f540-4266-b0cf-638a2f627ff9",
   "metadata": {},
   "outputs": [],
   "source": [
    "!pip install awswrangler\n",
    "import awswrangler as wr\n",
    "import boto3\n",
    "import pandas as pd\n",
    "import numpy as np\n",
    "import re\n",
    "from sagemaker import get_execution_role\n",
    "import matplotlib.pyplot as plt\n",
    "from tqdm import tqdm \n",
    "from sklearn.linear_model import LogisticRegression\n",
    "from sklearn.preprocessing import LabelEncoder, OneHotEncoder, StandardScaler\n",
    "from sklearn.metrics import roc_curve, roc_auc_score, classification_report, confusion_matrix, auc\n",
    "\n",
    "role = get_execution_role()\n",
    "s3 = boto3.resource('s3')"
   ]
  },
  {
   "cell_type": "code",
   "execution_count": null,
   "id": "9f233262-7b1d-450d-8f1a-e611087cb352",
   "metadata": {},
   "outputs": [],
   "source": [
    "pip install --upgrade pip"
   ]
  },
  {
   "cell_type": "code",
   "execution_count": null,
   "id": "eff23dbc-8823-437b-9e19-4920d0ef11d4",
   "metadata": {},
   "outputs": [],
   "source": [
    "pip install scikit-learn==0.24.2"
   ]
  },
  {
   "cell_type": "code",
   "execution_count": 5,
   "id": "a40aa144-a2c5-4375-9df7-c58a132f9832",
   "metadata": {},
   "outputs": [],
   "source": [
    "import pickle "
   ]
  },
  {
   "cell_type": "markdown",
   "id": "7f00a83e-afbd-458d-b270-52aaf742e3a4",
   "metadata": {},
   "source": [
    "Load trained model and Cataluinia dataset\n"
   ]
  },
  {
   "cell_type": "code",
   "execution_count": 6,
   "id": "40f3b120-e624-4451-acb1-e51ba2d8500f",
   "metadata": {},
   "outputs": [],
   "source": [
    "with open(\"./crr_model.pkl\", 'rb') as f:\n",
    "       model = pickle.load(f)\n",
    "        \n",
    "        "
   ]
  },
  {
   "cell_type": "code",
   "execution_count": 18,
   "id": "0df1ae7c-a0dc-4456-9878-aff48ae6206e",
   "metadata": {},
   "outputs": [
    {
     "data": {
      "text/plain": [
       "18"
      ]
     },
     "execution_count": 18,
     "metadata": {},
     "output_type": "execute_result"
    }
   ],
   "source": [
    "model.n_features_in_"
   ]
  },
  {
   "cell_type": "code",
   "execution_count": 23,
   "id": "2363146e-4474-42ac-aa8f-7d3519cc8eab",
   "metadata": {},
   "outputs": [
    {
     "data": {
      "text/plain": [
       "Index(['a_patientid', 'RRT', 'crrt_time', 'aki_stage', 'crrt_24_134_h',\n",
       "       'spo2_min', 'spo2_max', 'albumine_min', 'scr_min', 'haematocrit_min',\n",
       "       'potassium_min', 'bun_min', 'ph_min', 'albumine_max', 'scr_max',\n",
       "       'haematocrit_max', 'potassium_max', 'bun_max', 'ph_max',\n",
       "       'chronic kidney disease', 'diabetes', 'hypertension', 'heart failure',\n",
       "       'exclude_per_crrt', 'exclude_per_stage'],\n",
       "      dtype='object')"
      ]
     },
     "execution_count": 23,
     "metadata": {},
     "output_type": "execute_result"
    }
   ],
   "source": [
    "data= pd.read_csv('catalunia_dataset_cleaned.csv')\n",
    "data.columns"
   ]
  },
  {
   "cell_type": "markdown",
   "id": "e80311bf-a23d-4918-8251-16d37b57a868",
   "metadata": {},
   "source": [
    "SELECT RIGHT COLUMNS AND MAKE PREDICTIONS"
   ]
  },
  {
   "cell_type": "code",
   "execution_count": 24,
   "id": "6d0751c7-4198-437e-b126-399483c5e0ff",
   "metadata": {},
   "outputs": [],
   "source": [
    "# Select variables for the model.\n",
    "columns = [\n",
    "    'spo2_min', \n",
    "    'spo2_max', \n",
    "    'albumine_min', \n",
    "    'scr_min', \n",
    "    'haematocrit_min',\n",
    "    'potassium_min', \n",
    "    'bun_min',\n",
    "    'ph_min', \n",
    "    'albumine_max', \n",
    "    'scr_max',\n",
    "    'haematocrit_max', \n",
    "    'potassium_max', \n",
    "    'bun_max', \n",
    "    'ph_max',\n",
    "    'chronic kidney disease',\n",
    "    'diabetes', \n",
    "    'hypertension', \n",
    "    'heart failure',\n",
    "]\n",
    "\n",
    "categorical = [\n",
    "    'chronic kidney disease',\n",
    "    'diabetes', \n",
    "    'hypertension', \n",
    "    'heart failure',\n",
    "]\n",
    "\n",
    "numerical = [x for x in columns if x not in categorical]"
   ]
  },
  {
   "cell_type": "code",
   "execution_count": 80,
   "id": "b71a4331-a313-41f0-bc31-9e69136df442",
   "metadata": {},
   "outputs": [],
   "source": [
    "sc = StandardScaler()"
   ]
  },
  {
   "cell_type": "code",
   "execution_count": 81,
   "id": "df4df9a4-f366-40a7-baa5-92d6a1943a0b",
   "metadata": {},
   "outputs": [
    {
     "data": {
      "text/html": [
       "<div>\n",
       "<style scoped>\n",
       "    .dataframe tbody tr th:only-of-type {\n",
       "        vertical-align: middle;\n",
       "    }\n",
       "\n",
       "    .dataframe tbody tr th {\n",
       "        vertical-align: top;\n",
       "    }\n",
       "\n",
       "    .dataframe thead th {\n",
       "        text-align: right;\n",
       "    }\n",
       "</style>\n",
       "<table border=\"1\" class=\"dataframe\">\n",
       "  <thead>\n",
       "    <tr style=\"text-align: right;\">\n",
       "      <th></th>\n",
       "      <th>spo2_min</th>\n",
       "      <th>spo2_max</th>\n",
       "      <th>albumine_min</th>\n",
       "      <th>scr_min</th>\n",
       "      <th>haematocrit_min</th>\n",
       "      <th>potassium_min</th>\n",
       "      <th>bun_min</th>\n",
       "      <th>ph_min</th>\n",
       "      <th>albumine_max</th>\n",
       "      <th>scr_max</th>\n",
       "      <th>haematocrit_max</th>\n",
       "      <th>potassium_max</th>\n",
       "      <th>bun_max</th>\n",
       "      <th>ph_max</th>\n",
       "      <th>chronic kidney disease</th>\n",
       "      <th>diabetes</th>\n",
       "      <th>hypertension</th>\n",
       "      <th>heart failure</th>\n",
       "    </tr>\n",
       "  </thead>\n",
       "  <tbody>\n",
       "    <tr>\n",
       "      <th>0</th>\n",
       "      <td>90.0</td>\n",
       "      <td>100.0</td>\n",
       "      <td>2.68</td>\n",
       "      <td>1.07</td>\n",
       "      <td>29.0</td>\n",
       "      <td>2.50</td>\n",
       "      <td>21.777</td>\n",
       "      <td>7.46</td>\n",
       "      <td>2.68</td>\n",
       "      <td>1.07</td>\n",
       "      <td>33.0</td>\n",
       "      <td>3.20</td>\n",
       "      <td>21.777</td>\n",
       "      <td>7.49</td>\n",
       "      <td>0.0</td>\n",
       "      <td>0.0</td>\n",
       "      <td>0.0</td>\n",
       "      <td>0.0</td>\n",
       "    </tr>\n",
       "    <tr>\n",
       "      <th>1</th>\n",
       "      <td>78.0</td>\n",
       "      <td>100.0</td>\n",
       "      <td>2.39</td>\n",
       "      <td>4.15</td>\n",
       "      <td>23.7</td>\n",
       "      <td>3.20</td>\n",
       "      <td>44.625</td>\n",
       "      <td>7.35</td>\n",
       "      <td>2.39</td>\n",
       "      <td>4.15</td>\n",
       "      <td>27.0</td>\n",
       "      <td>4.40</td>\n",
       "      <td>44.625</td>\n",
       "      <td>7.51</td>\n",
       "      <td>0.0</td>\n",
       "      <td>0.0</td>\n",
       "      <td>0.0</td>\n",
       "      <td>0.0</td>\n",
       "    </tr>\n",
       "    <tr>\n",
       "      <th>2</th>\n",
       "      <td>88.0</td>\n",
       "      <td>100.0</td>\n",
       "      <td>2.53</td>\n",
       "      <td>1.16</td>\n",
       "      <td>27.8</td>\n",
       "      <td>3.92</td>\n",
       "      <td>23.205</td>\n",
       "      <td>7.46</td>\n",
       "      <td>2.53</td>\n",
       "      <td>1.16</td>\n",
       "      <td>29.0</td>\n",
       "      <td>3.92</td>\n",
       "      <td>23.205</td>\n",
       "      <td>7.46</td>\n",
       "      <td>0.0</td>\n",
       "      <td>1.0</td>\n",
       "      <td>1.0</td>\n",
       "      <td>0.0</td>\n",
       "    </tr>\n",
       "    <tr>\n",
       "      <th>3</th>\n",
       "      <td>73.0</td>\n",
       "      <td>100.0</td>\n",
       "      <td>2.13</td>\n",
       "      <td>0.45</td>\n",
       "      <td>25.0</td>\n",
       "      <td>3.10</td>\n",
       "      <td>11.067</td>\n",
       "      <td>7.50</td>\n",
       "      <td>2.13</td>\n",
       "      <td>0.45</td>\n",
       "      <td>29.5</td>\n",
       "      <td>3.50</td>\n",
       "      <td>11.067</td>\n",
       "      <td>7.57</td>\n",
       "      <td>0.0</td>\n",
       "      <td>0.0</td>\n",
       "      <td>0.0</td>\n",
       "      <td>0.0</td>\n",
       "    </tr>\n",
       "    <tr>\n",
       "      <th>4</th>\n",
       "      <td>92.0</td>\n",
       "      <td>100.0</td>\n",
       "      <td>2.89</td>\n",
       "      <td>0.85</td>\n",
       "      <td>36.2</td>\n",
       "      <td>4.49</td>\n",
       "      <td>16.422</td>\n",
       "      <td>7.36</td>\n",
       "      <td>2.89</td>\n",
       "      <td>0.85</td>\n",
       "      <td>36.5</td>\n",
       "      <td>4.49</td>\n",
       "      <td>16.422</td>\n",
       "      <td>7.36</td>\n",
       "      <td>0.0</td>\n",
       "      <td>0.0</td>\n",
       "      <td>1.0</td>\n",
       "      <td>0.0</td>\n",
       "    </tr>\n",
       "    <tr>\n",
       "      <th>...</th>\n",
       "      <td>...</td>\n",
       "      <td>...</td>\n",
       "      <td>...</td>\n",
       "      <td>...</td>\n",
       "      <td>...</td>\n",
       "      <td>...</td>\n",
       "      <td>...</td>\n",
       "      <td>...</td>\n",
       "      <td>...</td>\n",
       "      <td>...</td>\n",
       "      <td>...</td>\n",
       "      <td>...</td>\n",
       "      <td>...</td>\n",
       "      <td>...</td>\n",
       "      <td>...</td>\n",
       "      <td>...</td>\n",
       "      <td>...</td>\n",
       "      <td>...</td>\n",
       "    </tr>\n",
       "    <tr>\n",
       "      <th>2580</th>\n",
       "      <td>91.0</td>\n",
       "      <td>100.0</td>\n",
       "      <td>2.50</td>\n",
       "      <td>1.06</td>\n",
       "      <td>31.9</td>\n",
       "      <td>3.48</td>\n",
       "      <td>13.566</td>\n",
       "      <td>7.37</td>\n",
       "      <td>2.90</td>\n",
       "      <td>1.18</td>\n",
       "      <td>34.7</td>\n",
       "      <td>4.49</td>\n",
       "      <td>13.923</td>\n",
       "      <td>7.39</td>\n",
       "      <td>0.0</td>\n",
       "      <td>0.0</td>\n",
       "      <td>0.0</td>\n",
       "      <td>0.0</td>\n",
       "    </tr>\n",
       "    <tr>\n",
       "      <th>2581</th>\n",
       "      <td>84.0</td>\n",
       "      <td>100.0</td>\n",
       "      <td>2.90</td>\n",
       "      <td>1.53</td>\n",
       "      <td>34.2</td>\n",
       "      <td>3.42</td>\n",
       "      <td>7.140</td>\n",
       "      <td>7.23</td>\n",
       "      <td>2.90</td>\n",
       "      <td>2.58</td>\n",
       "      <td>44.2</td>\n",
       "      <td>4.81</td>\n",
       "      <td>13.923</td>\n",
       "      <td>7.31</td>\n",
       "      <td>0.0</td>\n",
       "      <td>0.0</td>\n",
       "      <td>0.0</td>\n",
       "      <td>0.0</td>\n",
       "    </tr>\n",
       "    <tr>\n",
       "      <th>2582</th>\n",
       "      <td>88.0</td>\n",
       "      <td>100.0</td>\n",
       "      <td>3.40</td>\n",
       "      <td>1.04</td>\n",
       "      <td>29.6</td>\n",
       "      <td>3.92</td>\n",
       "      <td>19.635</td>\n",
       "      <td>7.37</td>\n",
       "      <td>3.40</td>\n",
       "      <td>1.21</td>\n",
       "      <td>30.6</td>\n",
       "      <td>4.62</td>\n",
       "      <td>20.349</td>\n",
       "      <td>7.37</td>\n",
       "      <td>0.0</td>\n",
       "      <td>0.0</td>\n",
       "      <td>1.0</td>\n",
       "      <td>0.0</td>\n",
       "    </tr>\n",
       "    <tr>\n",
       "      <th>2583</th>\n",
       "      <td>91.0</td>\n",
       "      <td>100.0</td>\n",
       "      <td>2.70</td>\n",
       "      <td>0.81</td>\n",
       "      <td>23.7</td>\n",
       "      <td>3.74</td>\n",
       "      <td>14.280</td>\n",
       "      <td>7.42</td>\n",
       "      <td>2.70</td>\n",
       "      <td>0.84</td>\n",
       "      <td>25.2</td>\n",
       "      <td>4.04</td>\n",
       "      <td>16.065</td>\n",
       "      <td>7.42</td>\n",
       "      <td>0.0</td>\n",
       "      <td>0.0</td>\n",
       "      <td>0.0</td>\n",
       "      <td>0.0</td>\n",
       "    </tr>\n",
       "    <tr>\n",
       "      <th>2584</th>\n",
       "      <td>93.0</td>\n",
       "      <td>100.0</td>\n",
       "      <td>3.40</td>\n",
       "      <td>1.18</td>\n",
       "      <td>41.5</td>\n",
       "      <td>4.48</td>\n",
       "      <td>22.848</td>\n",
       "      <td>7.37</td>\n",
       "      <td>3.40</td>\n",
       "      <td>1.38</td>\n",
       "      <td>42.1</td>\n",
       "      <td>4.63</td>\n",
       "      <td>26.061</td>\n",
       "      <td>7.37</td>\n",
       "      <td>0.0</td>\n",
       "      <td>0.0</td>\n",
       "      <td>1.0</td>\n",
       "      <td>0.0</td>\n",
       "    </tr>\n",
       "  </tbody>\n",
       "</table>\n",
       "<p>2585 rows × 18 columns</p>\n",
       "</div>"
      ],
      "text/plain": [
       "      spo2_min  spo2_max  albumine_min  scr_min  haematocrit_min  \\\n",
       "0         90.0     100.0          2.68     1.07             29.0   \n",
       "1         78.0     100.0          2.39     4.15             23.7   \n",
       "2         88.0     100.0          2.53     1.16             27.8   \n",
       "3         73.0     100.0          2.13     0.45             25.0   \n",
       "4         92.0     100.0          2.89     0.85             36.2   \n",
       "...        ...       ...           ...      ...              ...   \n",
       "2580      91.0     100.0          2.50     1.06             31.9   \n",
       "2581      84.0     100.0          2.90     1.53             34.2   \n",
       "2582      88.0     100.0          3.40     1.04             29.6   \n",
       "2583      91.0     100.0          2.70     0.81             23.7   \n",
       "2584      93.0     100.0          3.40     1.18             41.5   \n",
       "\n",
       "      potassium_min  bun_min  ph_min  albumine_max  scr_max  haematocrit_max  \\\n",
       "0              2.50   21.777    7.46          2.68     1.07             33.0   \n",
       "1              3.20   44.625    7.35          2.39     4.15             27.0   \n",
       "2              3.92   23.205    7.46          2.53     1.16             29.0   \n",
       "3              3.10   11.067    7.50          2.13     0.45             29.5   \n",
       "4              4.49   16.422    7.36          2.89     0.85             36.5   \n",
       "...             ...      ...     ...           ...      ...              ...   \n",
       "2580           3.48   13.566    7.37          2.90     1.18             34.7   \n",
       "2581           3.42    7.140    7.23          2.90     2.58             44.2   \n",
       "2582           3.92   19.635    7.37          3.40     1.21             30.6   \n",
       "2583           3.74   14.280    7.42          2.70     0.84             25.2   \n",
       "2584           4.48   22.848    7.37          3.40     1.38             42.1   \n",
       "\n",
       "      potassium_max  bun_max  ph_max  chronic kidney disease  diabetes  \\\n",
       "0              3.20   21.777    7.49                     0.0       0.0   \n",
       "1              4.40   44.625    7.51                     0.0       0.0   \n",
       "2              3.92   23.205    7.46                     0.0       1.0   \n",
       "3              3.50   11.067    7.57                     0.0       0.0   \n",
       "4              4.49   16.422    7.36                     0.0       0.0   \n",
       "...             ...      ...     ...                     ...       ...   \n",
       "2580           4.49   13.923    7.39                     0.0       0.0   \n",
       "2581           4.81   13.923    7.31                     0.0       0.0   \n",
       "2582           4.62   20.349    7.37                     0.0       0.0   \n",
       "2583           4.04   16.065    7.42                     0.0       0.0   \n",
       "2584           4.63   26.061    7.37                     0.0       0.0   \n",
       "\n",
       "      hypertension  heart failure  \n",
       "0              0.0            0.0  \n",
       "1              0.0            0.0  \n",
       "2              1.0            0.0  \n",
       "3              0.0            0.0  \n",
       "4              1.0            0.0  \n",
       "...            ...            ...  \n",
       "2580           0.0            0.0  \n",
       "2581           0.0            0.0  \n",
       "2582           1.0            0.0  \n",
       "2583           0.0            0.0  \n",
       "2584           1.0            0.0  \n",
       "\n",
       "[2585 rows x 18 columns]"
      ]
     },
     "execution_count": 81,
     "metadata": {},
     "output_type": "execute_result"
    }
   ],
   "source": [
    "X_test = data[columns]\n",
    "X_test"
   ]
  },
  {
   "cell_type": "code",
   "execution_count": 82,
   "id": "7da732ad-a0d6-4dac-a8c2-620def9ba91e",
   "metadata": {},
   "outputs": [
    {
     "data": {
      "text/plain": [
       "array([0, 0, 0, ..., 0, 0, 0])"
      ]
     },
     "execution_count": 82,
     "metadata": {},
     "output_type": "execute_result"
    }
   ],
   "source": [
    "y_test = data['crrt_24_134_h'].ravel()\n",
    "y_test"
   ]
  },
  {
   "cell_type": "code",
   "execution_count": 83,
   "id": "7e6ece24-ed57-481f-978c-2bf4bed34d98",
   "metadata": {},
   "outputs": [
    {
     "data": {
      "text/plain": [
       "(2585, 18)"
      ]
     },
     "execution_count": 83,
     "metadata": {},
     "output_type": "execute_result"
    }
   ],
   "source": [
    "X_num_test = sc.fit_transform(X_test[numerical])\n",
    "X_cat_test = X_test[categorical]\n",
    "    \n",
    "X_test_proc = np.hstack((X_num_test, X_cat_test))\n",
    "X_test_proc.shape"
   ]
  },
  {
   "cell_type": "code",
   "execution_count": 84,
   "id": "d2e40d28-58f6-4e28-bb3c-092f9239f2b4",
   "metadata": {},
   "outputs": [
    {
     "data": {
      "text/plain": [
       "array([0.3083389 , 0.92874958, 0.37772958, ..., 0.40643033, 0.27083247,\n",
       "       0.27090543])"
      ]
     },
     "execution_count": 84,
     "metadata": {},
     "output_type": "execute_result"
    }
   ],
   "source": [
    "yHat = model.predict_proba(X_test_proc)[:,1]\n",
    "yHat"
   ]
  },
  {
   "cell_type": "markdown",
   "id": "d760d6e5-143b-4e2a-b37d-21e99f4ad8bf",
   "metadata": {},
   "source": [
    "INCIDENCE"
   ]
  },
  {
   "cell_type": "code",
   "execution_count": 85,
   "id": "b57fc5e4-41ec-434f-9c19-dcde4ced6b43",
   "metadata": {},
   "outputs": [
    {
     "data": {
      "text/plain": [
       "4.332688588007737"
      ]
     },
     "execution_count": 85,
     "metadata": {},
     "output_type": "execute_result"
    }
   ],
   "source": [
    "100*(y_test.sum()/X_test_proc.shape[0])"
   ]
  },
  {
   "cell_type": "markdown",
   "id": "44d35b94-d0f2-4eea-beb5-22dcb87e242f",
   "metadata": {},
   "source": [
    "n° patients in class 1"
   ]
  },
  {
   "cell_type": "code",
   "execution_count": 86,
   "id": "4e686629-9bf9-487d-8bc2-16755ff7278d",
   "metadata": {},
   "outputs": [
    {
     "data": {
      "text/plain": [
       "112"
      ]
     },
     "execution_count": 86,
     "metadata": {},
     "output_type": "execute_result"
    }
   ],
   "source": [
    "y_test.sum()"
   ]
  },
  {
   "cell_type": "markdown",
   "id": "bd8bea64-7e37-4058-98f0-18196e730713",
   "metadata": {},
   "source": [
    "n° patients (Total)"
   ]
  },
  {
   "cell_type": "code",
   "execution_count": 87,
   "id": "5ec2550e-54b8-4a07-9d6c-6d776419c22c",
   "metadata": {},
   "outputs": [
    {
     "data": {
      "text/plain": [
       "2585"
      ]
     },
     "execution_count": 87,
     "metadata": {},
     "output_type": "execute_result"
    }
   ],
   "source": [
    "X_test_proc.shape[0]"
   ]
  },
  {
   "cell_type": "markdown",
   "id": "501094f5-be70-4e0f-8bfa-90531dafcb4d",
   "metadata": {},
   "source": [
    "COMPUTE ROC CURVE"
   ]
  },
  {
   "cell_type": "code",
   "execution_count": 88,
   "id": "d51d60ff-976b-45b6-871e-d224ae52ad20",
   "metadata": {},
   "outputs": [],
   "source": [
    "fpr, tpr, _ = roc_curve(y_test, yHat)\n",
    "rocauc = auc(fpr, tpr)"
   ]
  },
  {
   "cell_type": "code",
   "execution_count": 89,
   "id": "1b66181f-660c-4863-a4a1-80d6dc133acd",
   "metadata": {},
   "outputs": [
    {
     "data": {
      "image/png": "[encoded data removed]",
      "text/plain": [
       "<Figure size 500x500 with 1 Axes>"
      ]
     },
     "metadata": {},
     "output_type": "display_data"
    }
   ],
   "source": [
    "plt.figure(figsize=(5,5))\n",
    "plt.title('ROC AUC Curve')\n",
    "plt.plot(fpr, tpr, label=f'auc={round(rocauc, 3)}')\n",
    "plt.legend(loc=4)\n",
    "plt.show()"
   ]
  },
  {
   "cell_type": "code",
   "execution_count": 90,
   "id": "3665dd9c-6127-4f72-8d75-1564af3801b0",
   "metadata": {},
   "outputs": [
    {
     "data": {
      "image/png": "[encoded data removed]",
      "text/plain": [
       "<Figure size 500x500 with 1 Axes>"
      ]
     },
     "metadata": {},
     "output_type": "display_data"
    }
   ],
   "source": [
    "plt.figure(figsize=(5,5))\n",
    "plt.hist(yHat)\n",
    "plt.show()"
   ]
  },
  {
   "cell_type": "code",
   "execution_count": 91,
   "id": "b271589e-365a-4c0b-93a0-f75df0e60658",
   "metadata": {},
   "outputs": [],
   "source": [
    "ypred = (yHat>= 0.5)"
   ]
  },
  {
   "cell_type": "markdown",
   "id": "0c94f5bc-9d44-4e55-b39c-89ff5f9df79b",
   "metadata": {},
   "source": [
    "PLOT CLASSIFICATION REPORT"
   ]
  },
  {
   "cell_type": "code",
   "execution_count": 65,
   "id": "7ea8bccf-549f-40ab-89fc-2f8cad0fbf6e",
   "metadata": {},
   "outputs": [
    {
     "name": "stdout",
     "output_type": "stream",
     "text": [
      "              precision    recall  f1-score   support\n",
      "\n",
      "           0       0.97      0.64      0.77      2473\n",
      "           1       0.07      0.58      0.12       112\n",
      "\n",
      "    accuracy                           0.64      2585\n",
      "   macro avg       0.52      0.61      0.45      2585\n",
      "weighted avg       0.93      0.64      0.75      2585\n",
      "\n"
     ]
    }
   ],
   "source": [
    "print(classification_report(y_test, ypred))"
   ]
  },
  {
   "cell_type": "markdown",
   "id": "7f7f71e9-d72a-4858-abc3-a4d6b398ce12",
   "metadata": {},
   "source": [
    "Plot ROC curves for AKI stratified by stage.\n"
   ]
  },
  {
   "cell_type": "code",
   "execution_count": 92,
   "id": "f2eb48cf-e4e2-43af-941e-781cd2ec751f",
   "metadata": {},
   "outputs": [
    {
     "data": {
      "text/plain": [
       "array([1., 2., 3.])"
      ]
     },
     "execution_count": 92,
     "metadata": {},
     "output_type": "execute_result"
    }
   ],
   "source": [
    "data['aki_stage'].unique()"
   ]
  },
  {
   "cell_type": "code",
   "execution_count": 93,
   "id": "d70dd4e5-e978-49f2-bf26-626323dd16ea",
   "metadata": {},
   "outputs": [],
   "source": [
    "data['prediction'] = yHat"
   ]
  },
  {
   "cell_type": "code",
   "execution_count": 94,
   "id": "03c1ef05-e43d-46b9-a1e8-78def739a240",
   "metadata": {},
   "outputs": [
    {
     "data": {
      "image/png": "[encoded data removed]",
      "text/plain": [
       "<Figure size 500x500 with 1 Axes>"
      ]
     },
     "metadata": {},
     "output_type": "display_data"
    }
   ],
   "source": [
    "# Plot ROC curves for AKI stratified by stage.\n",
    "plt.figure(figsize=(5,5))\n",
    "for aki in data['aki_stage'].unique():\n",
    "    tmp = data[data['aki_stage'] == aki]\n",
    "    ytest = tmp['crrt_24_134_h'].ravel()\n",
    "    ypred = tmp['prediction'].values\n",
    "    fpr, tpr, _ = roc_curve(ytest, ypred)\n",
    "    rocauc = auc(fpr, tpr)\n",
    "    plt.plot(fpr, tpr, label=f'AKI Stage: {aki}, ROCAUC={round(rocauc, 3)}')\n",
    "plt.legend(loc=4)\n",
    "plt.title(\"Performance by AKI\")\n",
    "plt.show()"
   ]
  },
  {
   "cell_type": "code",
   "execution_count": null,
   "id": "f5c0cc92-fc6c-4231-9a46-ff9a5de30650",
   "metadata": {},
   "outputs": [],
   "source": []
  }
 ],
 "metadata": {
  "instance_type": "ml.t3.medium",
  "kernelspec": {
   "display_name": "Python 3 (Data Science)",
   "language": "python",
   "name": "python3__SAGEMAKER_INTERNAL__arn:aws:sagemaker:eu-west-1:470317259841:image/datascience-1.0"
  },
  "language_info": {
   "codemirror_mode": {
    "name": "ipython",
    "version": 3
   },
   "file_extension": ".py",
   "mimetype": "text/x-python",
   "name": "python",
   "nbconvert_exporter": "python",
   "pygments_lexer": "ipython3",
   "version": "3.7.10"
  }
 },
 "nbformat": 4,
 "nbformat_minor": 5
}
