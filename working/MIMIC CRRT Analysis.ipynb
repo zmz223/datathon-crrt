{
 "cells": [
  {
   "cell_type": "markdown",
   "id": "f52d5d56",
   "metadata": {},
   "source": [
    "## Import Dependencies"
   ]
  },
  {
   "cell_type": "markdown",
   "id": "1bfa5d5a",
   "metadata": {},
   "source": [
    " Could you please include age, gender and BMI to the model and Table 1, please?\n",
    "- Can you filter the lab values based on the probable ranges for lab and vital signs to make sure we don't have any implausible values included?\n",
    "- Francesca noticed in your code that at one point you imputed missing values with -1, is that correct? If so, should we rather impute with mean/median or other imputation methods that are more robust?\n",
    "- Could you please add the feature importance so we can see if they differ for Mimic/Catalunya if we build a new model in Catalunya?"
   ]
  },
  {
   "cell_type": "code",
   "execution_count": 1,
   "id": "68a210f1",
   "metadata": {},
   "outputs": [],
   "source": [
    "import pandas as pd\n",
    "import numpy as np\n",
    "import matplotlib.pyplot as plt\n",
    "import seaborn as sns\n",
    "from tqdm import tqdm\n",
    "from tableone import TableOne\n",
    "from sklearn.model_selection import train_test_split\n",
    "from sklearn.linear_model import LogisticRegression\n",
    "from sklearn.model_selection import GridSearchCV, KFold\n",
    "from sklearn.preprocessing import LabelEncoder, OneHotEncoder, StandardScaler\n",
    "from sklearn.metrics import roc_curve, roc_auc_score, classification_report, confusion_matrix, auc\n",
    "import os\n",
    "import pydata_google_auth\n",
    "import pickle"
   ]
  },
  {
   "cell_type": "markdown",
   "id": "e8e66836",
   "metadata": {},
   "source": [
    "## Authenticate with GCP to access MIMIC"
   ]
  },
  {
   "cell_type": "code",
   "execution_count": 2,
   "id": "ce9e492d",
   "metadata": {},
   "outputs": [],
   "source": [
    "project_id = 'authentic-light-375118'\n",
    "os.environ['GOOGLE_CLOUD_PROJECT'] = project_id\n",
    "\n",
    "credentials = pydata_google_auth.get_user_credentials(\n",
    "    ['https://www.googleapis.com/auth/bigquery'],\n",
    "    use_local_webserver=False\n",
    ")\n",
    "\n",
    "def run_query(query):\n",
    "    return pd.io.gbq.read_gbq(\n",
    "      query,\n",
    "      project_id=project_id,\n",
    "      credentials=credentials,\n",
    "      configuration={'query': {\n",
    "          'useLegacySql': False\n",
    "      }})"
   ]
  },
  {
   "cell_type": "markdown",
   "id": "e0981a36",
   "metadata": {},
   "source": [
    "## Cohort Curation\n",
    "#### Inclusion/Exclusion Criteria\n",
    "1. Patients > 18\n",
    "2. 1st ICU stay\n",
    "3. Measurement of creatinine and urine ouput within 24 hours\n",
    "4. aki stage 2 \n",
    "5. not a CEER ICD 10-N18\n",
    "6. No DNR"
   ]
  },
  {
   "cell_type": "markdown",
   "id": "e866d084",
   "metadata": {},
   "source": [
    "#### AKI Stage > 0"
   ]
  },
  {
   "cell_type": "code",
   "execution_count": 3,
   "id": "68e413df",
   "metadata": {},
   "outputs": [],
   "source": [
    "# Base the cohort off of patients with aki_stage > 0.\n",
    "aki = run_query(\n",
    "    \"\"\"SELECT * FROM `physionet-data.mimiciv_derived.kdigo_stages` WHERE aki_stage <> 0\"\"\"\n",
    ")"
   ]
  },
  {
   "cell_type": "code",
   "execution_count": 4,
   "id": "cf495f37",
   "metadata": {},
   "outputs": [
    {
     "data": {
      "text/plain": [
       "34862"
      ]
     },
     "execution_count": 4,
     "metadata": {},
     "output_type": "execute_result"
    }
   ],
   "source": [
    "aki_pats = aki['subject_id'].unique()\n",
    "len(aki_pats)"
   ]
  },
  {
   "cell_type": "markdown",
   "id": "93ccf5ff",
   "metadata": {},
   "source": [
    "#### First ICU Stay"
   ]
  },
  {
   "cell_type": "code",
   "execution_count": 5,
   "id": "afd9db79",
   "metadata": {},
   "outputs": [
    {
     "data": {
      "text/plain": [
       "(55223, 8)"
      ]
     },
     "execution_count": 5,
     "metadata": {},
     "output_type": "execute_result"
    }
   ],
   "source": [
    "# Get the ICU stays of the AKI patients and select the first one.\n",
    "icustays = run_query(\n",
    "    f\"\"\"SELECT * FROM `physionet-data.mimiciv_icu.icustays` WHERE subject_id IN {str(tuple(aki_pats))}\"\"\"\n",
    ")\n",
    "icustays.shape"
   ]
  },
  {
   "cell_type": "code",
   "execution_count": 6,
   "id": "99090cc6",
   "metadata": {},
   "outputs": [
    {
     "data": {
      "text/plain": [
       "(34862, 8)"
      ]
     },
     "execution_count": 6,
     "metadata": {},
     "output_type": "execute_result"
    }
   ],
   "source": [
    "# Returns the first ICU stay for each patient.\n",
    "def get_first_icu_stay(df):\n",
    "    min_stay = df.groupby(by='subject_id')['intime'].min().reset_index()\n",
    "    result = df.merge(min_stay)\n",
    "    return result\n",
    "\n",
    "icu_first = get_first_icu_stay(icustays)\n",
    "icu_first.shape"
   ]
  },
  {
   "cell_type": "code",
   "execution_count": 7,
   "id": "03181e60",
   "metadata": {},
   "outputs": [
    {
     "data": {
      "text/plain": [
       "subject_id        34862\n",
       "hadm_id           34862\n",
       "stay_id           34862\n",
       "first_careunit        9\n",
       "last_careunit         9\n",
       "intime            34861\n",
       "outtime           34862\n",
       "los               33653\n",
       "dtype: int64"
      ]
     },
     "execution_count": 7,
     "metadata": {},
     "output_type": "execute_result"
    }
   ],
   "source": [
    "icu_first.nunique()"
   ]
  },
  {
   "cell_type": "code",
   "execution_count": 8,
   "id": "5f404ceb",
   "metadata": {},
   "outputs": [
    {
     "data": {
      "text/plain": [
       "(632562, 20)"
      ]
     },
     "execution_count": 8,
     "metadata": {},
     "output_type": "execute_result"
    }
   ],
   "source": [
    "aki_icu = aki.merge(icu_first, on=['subject_id', 'hadm_id', 'stay_id'])\n",
    "aki_icu.shape"
   ]
  },
  {
   "cell_type": "markdown",
   "id": "ee7b4508",
   "metadata": {},
   "source": [
    "aki_icu"
   ]
  },
  {
   "cell_type": "code",
   "execution_count": 9,
   "id": "2bf4ae5b",
   "metadata": {},
   "outputs": [
    {
     "data": {
      "text/plain": [
       "subject_id              32032\n",
       "hadm_id                 32032\n",
       "stay_id                 32032\n",
       "charttime              502668\n",
       "creat_low_past_7day       183\n",
       "creat_low_past_48hr       190\n",
       "creat                     219\n",
       "aki_stage_creat             4\n",
       "uo_rt_6hr               10782\n",
       "uo_rt_12hr              15925\n",
       "uo_rt_24hr              18348\n",
       "aki_stage_uo                4\n",
       "aki_stage_crrt              1\n",
       "aki_stage                   3\n",
       "aki_stage_smoothed          3\n",
       "first_careunit              9\n",
       "last_careunit               9\n",
       "intime                  32031\n",
       "outtime                 32032\n",
       "los                     31037\n",
       "dtype: int64"
      ]
     },
     "execution_count": 9,
     "metadata": {},
     "output_type": "execute_result"
    }
   ],
   "source": [
    "aki_icu.nunique()"
   ]
  },
  {
   "cell_type": "markdown",
   "id": "09fbbfaa",
   "metadata": {},
   "source": [
    "#### Filter out patients with DNR request"
   ]
  },
  {
   "cell_type": "code",
   "execution_count": 10,
   "id": "020180d2",
   "metadata": {},
   "outputs": [],
   "source": [
    "aki_icu_enc = aki_icu['hadm_id'].unique()"
   ]
  },
  {
   "cell_type": "code",
   "execution_count": 11,
   "id": "a4470153",
   "metadata": {},
   "outputs": [
    {
     "data": {
      "text/plain": [
       "(2421, 1)"
      ]
     },
     "execution_count": 11,
     "metadata": {},
     "output_type": "execute_result"
    }
   ],
   "source": [
    "# Get patients with DNR in the current cohort.\n",
    "dnr = run_query(\n",
    "    f\"\"\"SELECT hadm_id from `physionet-data.mimiciv_icu.chartevents` WHERE itemid=22378 or itemid=228687 \n",
    "    AND hadm_id IN {str(tuple(aki_icu_enc))}\"\"\"\n",
    ")\n",
    "dnr.shape"
   ]
  },
  {
   "cell_type": "code",
   "execution_count": 12,
   "id": "fa2f1da5",
   "metadata": {},
   "outputs": [
    {
     "data": {
      "text/plain": [
       "(632562, 20)"
      ]
     },
     "execution_count": 12,
     "metadata": {},
     "output_type": "execute_result"
    }
   ],
   "source": [
    "aki_no_dnr = aki_icu[~aki_icu.isin(dnr['hadm_id'].values)]\n",
    "aki_icu.shape"
   ]
  },
  {
   "cell_type": "markdown",
   "id": "61915cc8",
   "metadata": {},
   "source": [
    "#### Creatinine and Urine Output within 24 hours of admission"
   ]
  },
  {
   "cell_type": "code",
   "execution_count": 13,
   "id": "6aad2729",
   "metadata": {},
   "outputs": [],
   "source": [
    "aki_no_dnr_sid = aki_no_dnr['stay_id'].unique()"
   ]
  },
  {
   "cell_type": "code",
   "execution_count": 14,
   "id": "fcf5d69a",
   "metadata": {},
   "outputs": [],
   "source": [
    "# Get creatinine and urine output values for the current cohort.\n",
    "creatinine = run_query(\n",
    "    f\"\"\"SELECT * FROM `physionet-data.mimiciv_derived.kdigo_creatinine` WHERE stay_id IN \n",
    "    {str(tuple(aki_no_dnr_sid))}\"\"\"\n",
    ")\n",
    "uo = run_query(\n",
    "    f\"\"\"SELECT * FROM `physionet-data.mimiciv_derived.kdigo_uo` WHERE stay_id IN \n",
    "    {str(tuple(aki_no_dnr_sid))}\n",
    "    \"\"\"\n",
    ")"
   ]
  },
  {
   "cell_type": "code",
   "execution_count": 15,
   "id": "7b0d07c1",
   "metadata": {},
   "outputs": [
    {
     "data": {
      "text/plain": [
       "(32032, 2)"
      ]
     },
     "execution_count": 15,
     "metadata": {},
     "output_type": "execute_result"
    }
   ],
   "source": [
    "# Find stay_ids that do not have a creatinine or uo value within 24 hours.\n",
    "cohort_sid_intime = aki_no_dnr[['stay_id', 'intime']].drop_duplicates()\n",
    "cohort_sid_intime.shape"
   ]
  },
  {
   "cell_type": "code",
   "execution_count": 16,
   "id": "b3212fd1",
   "metadata": {},
   "outputs": [
    {
     "data": {
      "text/plain": [
       "stay_id    32032\n",
       "intime     32031\n",
       "dtype: int64"
      ]
     },
     "execution_count": 16,
     "metadata": {},
     "output_type": "execute_result"
    }
   ],
   "source": [
    "cohort_sid_intime.nunique()"
   ]
  },
  {
   "cell_type": "code",
   "execution_count": 17,
   "id": "f9730695",
   "metadata": {},
   "outputs": [
    {
     "name": "stdout",
     "output_type": "stream",
     "text": [
      "stay_id                 32032\n",
      "intime                  32031\n",
      "hadm_id                 32032\n",
      "charttime              297575\n",
      "creat                     286\n",
      "creat_low_past_48hr       251\n",
      "creat_low_past_7day       242\n",
      "dtype: int64\n",
      "stay_id              32032\n",
      "intime               32031\n",
      "charttime           879527\n",
      "weight                1714\n",
      "urineoutput_6hr       3372\n",
      "urineoutput_12hr      5376\n",
      "urineoutput_24hr      9117\n",
      "uo_rt_6hr            54988\n",
      "uo_rt_12hr           50338\n",
      "uo_rt_24hr           46278\n",
      "uo_tm_6hr             4158\n",
      "uo_tm_12hr            4942\n",
      "uo_tm_24hr            6239\n",
      "dtype: int64\n"
     ]
    }
   ],
   "source": [
    "# Merge with intime\n",
    "creatinine_icu = cohort_sid_intime.merge(creatinine, on='stay_id', how='left')\n",
    "uo_icu = cohort_sid_intime.merge(uo, on='stay_id', how='left')\n",
    "print(creatinine_icu.nunique())\n",
    "print(uo_icu.nunique())"
   ]
  },
  {
   "cell_type": "code",
   "execution_count": 18,
   "id": "a3294681",
   "metadata": {},
   "outputs": [],
   "source": [
    "# Calculate delta between intime and charttime in days.\n",
    "creatinine_icu['delta_days'] = (creatinine_icu['charttime'] - creatinine_icu['intime']) / np.timedelta64(1, 'D')\n",
    "uo_icu['delta_days'] = (uo_icu['charttime'] - uo_icu['intime']) / np.timedelta64(1, 'D')"
   ]
  },
  {
   "cell_type": "code",
   "execution_count": 19,
   "id": "08e9e995",
   "metadata": {},
   "outputs": [
    {
     "data": {
      "text/plain": [
       "count    299546.000000\n",
       "mean          3.655584\n",
       "std           7.258433\n",
       "min          -6.999803\n",
       "25%           0.095747\n",
       "50%           1.411806\n",
       "75%           4.845139\n",
       "max         101.209722\n",
       "Name: delta_days, dtype: float64"
      ]
     },
     "execution_count": 19,
     "metadata": {},
     "output_type": "execute_result"
    }
   ],
   "source": [
    "creatinine_icu['delta_days'].describe()"
   ]
  },
  {
   "cell_type": "code",
   "execution_count": 20,
   "id": "50842def",
   "metadata": {},
   "outputs": [
    {
     "data": {
      "text/plain": [
       "count    1.977128e+06\n",
       "mean     5.343388e+00\n",
       "std      7.336680e+00\n",
       "min     -2.981181e+01\n",
       "25%      1.086042e+00\n",
       "50%      2.748628e+00\n",
       "75%      6.687266e+00\n",
       "max      1.015424e+02\n",
       "Name: delta_days, dtype: float64"
      ]
     },
     "execution_count": 20,
     "metadata": {},
     "output_type": "execute_result"
    }
   ],
   "source": [
    "uo_icu['delta_days'].describe()"
   ]
  },
  {
   "cell_type": "code",
   "execution_count": 21,
   "id": "a055839c",
   "metadata": {},
   "outputs": [],
   "source": [
    "# Filter for measurements within 48 hours.\n",
    "creatinine_icu_48 = creatinine_icu[(creatinine_icu['delta_days'] >= 0) & (creatinine_icu['delta_days'] <= 2)]\n",
    "uo_icu_48 = uo_icu[(uo_icu['delta_days'] >= 0) & (uo_icu['delta_days'] <= 2)]"
   ]
  },
  {
   "cell_type": "code",
   "execution_count": 22,
   "id": "14177c12",
   "metadata": {
    "scrolled": true
   },
   "outputs": [
    {
     "data": {
      "text/plain": [
       "31177"
      ]
     },
     "execution_count": 22,
     "metadata": {},
     "output_type": "execute_result"
    }
   ],
   "source": [
    "# Use set intersection to find ids that match by criterion. \n",
    "sids_48 = list(set(creatinine_icu_48['stay_id'].unique()).intersection(set(uo_icu_48['stay_id'].unique())))\n",
    "len(sids_48)"
   ]
  },
  {
   "cell_type": "code",
   "execution_count": 23,
   "id": "266e8150",
   "metadata": {},
   "outputs": [
    {
     "data": {
      "text/plain": [
       "855"
      ]
     },
     "execution_count": 23,
     "metadata": {},
     "output_type": "execute_result"
    }
   ],
   "source": [
    "# Stays lost\n",
    "len(aki_no_dnr_sid) - len(sids_48)"
   ]
  },
  {
   "cell_type": "code",
   "execution_count": 24,
   "id": "eb22f70a",
   "metadata": {},
   "outputs": [
    {
     "data": {
      "text/plain": [
       "(623592, 20)"
      ]
     },
     "execution_count": 24,
     "metadata": {},
     "output_type": "execute_result"
    }
   ],
   "source": [
    "aki_creat_uo_48 = aki_no_dnr[aki_no_dnr['stay_id'].isin(sids_48)].reset_index(drop=True)\n",
    "aki_creat_uo_48.shape"
   ]
  },
  {
   "cell_type": "markdown",
   "id": "16114f3b",
   "metadata": {},
   "source": [
    "#### Patients greater than 18"
   ]
  },
  {
   "cell_type": "code",
   "execution_count": 25,
   "id": "9d67f987",
   "metadata": {},
   "outputs": [],
   "source": [
    "aki_creat_uo_48_pats = aki_creat_uo_48['subject_id'].unique()"
   ]
  },
  {
   "cell_type": "code",
   "execution_count": 26,
   "id": "b30c6351",
   "metadata": {},
   "outputs": [],
   "source": [
    "# Query patients in our current cohort under 18.\n",
    "demo = run_query(\n",
    "    f\"\"\"SELECT * FROM `physionet-data.mimiciv_hosp.patients` WHERE subject_id IN {str(tuple(aki_creat_uo_48_pats))} \"\"\"\n",
    ")"
   ]
  },
  {
   "cell_type": "code",
   "execution_count": 27,
   "id": "2b49355c",
   "metadata": {},
   "outputs": [],
   "source": [
    "demo_18 = demo[demo['anchor_age'] < 18]"
   ]
  },
  {
   "cell_type": "code",
   "execution_count": 28,
   "id": "1522a7b1",
   "metadata": {},
   "outputs": [
    {
     "data": {
      "text/plain": [
       "0"
      ]
     },
     "execution_count": 28,
     "metadata": {},
     "output_type": "execute_result"
    }
   ],
   "source": [
    "# No patients match so we can ignore this criteria.\n",
    "demo_18.shape[0]"
   ]
  },
  {
   "cell_type": "markdown",
   "id": "b5d06084",
   "metadata": {},
   "source": [
    "#### Filter to a single sample per patient.\n",
    "Idea: Max AKI stage in the 1st 48 hours of the stay.\n",
    "If duplicates, take the one closest to the intime."
   ]
  },
  {
   "cell_type": "code",
   "execution_count": 29,
   "id": "ee075aac",
   "metadata": {},
   "outputs": [],
   "source": [
    "# Calculate delta days.\n",
    "aki_creat_uo_48['delta_hours_aki'] = (aki_creat_uo_48['charttime'] - aki_creat_uo_48['intime']) / np.timedelta64(1, 'h')"
   ]
  },
  {
   "cell_type": "code",
   "execution_count": 30,
   "id": "a88ac60e",
   "metadata": {},
   "outputs": [
    {
     "data": {
      "text/plain": [
       "count    623592.000000\n",
       "mean        127.298270\n",
       "std         182.414859\n",
       "min        -691.454722\n",
       "25%          26.302986\n",
       "50%          59.040000\n",
       "75%         150.716667\n",
       "max        2286.089722\n",
       "Name: delta_hours_aki, dtype: float64"
      ]
     },
     "execution_count": 30,
     "metadata": {},
     "output_type": "execute_result"
    }
   ],
   "source": [
    "aki_creat_uo_48['delta_hours_aki'].describe()"
   ]
  },
  {
   "cell_type": "code",
   "execution_count": 31,
   "id": "8f075212",
   "metadata": {},
   "outputs": [],
   "source": [
    "cohort_48 = aki_creat_uo_48[(aki_creat_uo_48['delta_hours_aki'] >= 0) & (aki_creat_uo_48['delta_hours_aki'] <= 12)].reset_index(drop=True)"
   ]
  },
  {
   "cell_type": "code",
   "execution_count": 32,
   "id": "8b7153e9",
   "metadata": {},
   "outputs": [],
   "source": [
    "max_aki_48 = cohort_48.groupby(by='stay_id')['aki_stage'].max().reset_index().rename({'index' : 'stay_id'}, axis=1)"
   ]
  },
  {
   "cell_type": "code",
   "execution_count": 33,
   "id": "8bc27af2",
   "metadata": {},
   "outputs": [],
   "source": [
    "cohort_max_aki = aki_creat_uo_48.merge(max_aki_48)"
   ]
  },
  {
   "cell_type": "code",
   "execution_count": 34,
   "id": "f92a2dfb",
   "metadata": {},
   "outputs": [],
   "source": [
    "# Select the min chart time.\n",
    "min_chart = cohort_max_aki.groupby('stay_id')['charttime'].min().reset_index().rename({'index' : 'stay_id'}, axis=1)"
   ]
  },
  {
   "cell_type": "code",
   "execution_count": 35,
   "id": "bc881070",
   "metadata": {},
   "outputs": [],
   "source": [
    "cohort = cohort_max_aki.merge(min_chart)"
   ]
  },
  {
   "cell_type": "code",
   "execution_count": 36,
   "id": "e1e2c4f7",
   "metadata": {},
   "outputs": [
    {
     "data": {
      "text/plain": [
       "(12437, 21)"
      ]
     },
     "execution_count": 36,
     "metadata": {},
     "output_type": "execute_result"
    }
   ],
   "source": [
    "# Drop NaN on hadm_id as NaN hadm_id's represent outpatients.\n",
    "cohort = cohort.dropna(subset=['hadm_id'])\n",
    "cohort.shape"
   ]
  },
  {
   "cell_type": "markdown",
   "id": "8dda49f6",
   "metadata": {},
   "source": [
    "## Add Covariates"
   ]
  },
  {
   "cell_type": "markdown",
   "id": "e33a8314",
   "metadata": {},
   "source": [
    "#### Labs\n",
    "- K+\n",
    "- pH\n",
    "- BUN\n",
    "- HCO3"
   ]
  },
  {
   "cell_type": "code",
   "execution_count": 37,
   "id": "411cf9cb",
   "metadata": {},
   "outputs": [],
   "source": [
    "cohort_enc = cohort['hadm_id'].unique()\n",
    "labs = run_query(\n",
    "    f\"\"\"SELECT * FROM (select l.*, d.label from `physionet-data.mimiciv_hosp.labevents` AS l\n",
    "        JOIN `physionet-data.mimiciv_hosp.d_labitems` d ON l.itemid = d.itemid WHERE \n",
    "        l.itemid IN (51006, 50822, 50971, 50810, 51221, 50912, 50862, 50820, 50882, 50803)\n",
    "        ) \n",
    "        WHERE hadm_id IN {str(tuple(cohort_enc))}\"\"\"\n",
    ")"
   ]
  },
  {
   "cell_type": "code",
   "execution_count": 38,
   "id": "d81bce92",
   "metadata": {},
   "outputs": [
    {
     "data": {
      "text/plain": [
       "(1233458, 17)"
      ]
     },
     "execution_count": 38,
     "metadata": {},
     "output_type": "execute_result"
    }
   ],
   "source": [
    "labs.shape"
   ]
  },
  {
   "cell_type": "code",
   "execution_count": 39,
   "id": "0a05cbcc",
   "metadata": {},
   "outputs": [],
   "source": [
    "cohort_ts = cohort[['stay_id', 'hadm_id', 'intime', 'outtime']].drop_duplicates()"
   ]
  },
  {
   "cell_type": "code",
   "execution_count": 40,
   "id": "6a6a07e1",
   "metadata": {},
   "outputs": [],
   "source": [
    "# Convert dates to datetime.\n",
    "cohort_ts['intime'] = pd.to_datetime(cohort_ts['intime'])\n",
    "cohort_ts['outtime'] = pd.to_datetime(cohort_ts['outtime'])\n",
    "labs['charttime'] = pd.to_datetime(labs['charttime'])"
   ]
  },
  {
   "cell_type": "code",
   "execution_count": 41,
   "id": "2669d820",
   "metadata": {},
   "outputs": [
    {
     "data": {
      "text/plain": [
       "(672786, 20)"
      ]
     },
     "execution_count": 41,
     "metadata": {},
     "output_type": "execute_result"
    }
   ],
   "source": [
    "# Filter labs to only keep those whose charttime is between an admissions intime and outtime. \n",
    "labs_merged = labs.merge(cohort_ts, on='hadm_id')\n",
    "labs_filt = labs_merged[(labs_merged['charttime'] >= labs_merged['intime']) & (labs_merged['charttime'] <= labs_merged['outtime'])]\n",
    "labs_filt.shape"
   ]
  },
  {
   "cell_type": "code",
   "execution_count": 42,
   "id": "6c0f2d4d",
   "metadata": {},
   "outputs": [],
   "source": [
    "# Pivot table to get the min and max values of labs. \n",
    "lab_description = pd.pivot_table(labs, values=['valuenum'], index=['hadm_id'], columns=['label'], aggfunc=[np.nanmin, np.nanmax])\n",
    "lab_description = lab_description.reset_index()\n",
    "# Restore correct columns.\n",
    "cols = [\"_\".join(x) for x in list(lab_description)]\n",
    "cols[0] = 'hadm_id'\n",
    "lab_description.columns = cols"
   ]
  },
  {
   "cell_type": "code",
   "execution_count": 43,
   "id": "c1a39b73",
   "metadata": {},
   "outputs": [
    {
     "data": {
      "text/html": [
       "<div>\n",
       "<style scoped>\n",
       "    .dataframe tbody tr th:only-of-type {\n",
       "        vertical-align: middle;\n",
       "    }\n",
       "\n",
       "    .dataframe tbody tr th {\n",
       "        vertical-align: top;\n",
       "    }\n",
       "\n",
       "    .dataframe thead th {\n",
       "        text-align: right;\n",
       "    }\n",
       "</style>\n",
       "<table border=\"1\" class=\"dataframe\">\n",
       "  <thead>\n",
       "    <tr style=\"text-align: right;\">\n",
       "      <th></th>\n",
       "      <th>hadm_id</th>\n",
       "      <th>nanmin_valuenum_Albumin</th>\n",
       "      <th>nanmin_valuenum_Bicarbonate</th>\n",
       "      <th>nanmin_valuenum_Calculated Bicarbonate, Whole Blood</th>\n",
       "      <th>nanmin_valuenum_Creatinine</th>\n",
       "      <th>nanmin_valuenum_Hematocrit</th>\n",
       "      <th>nanmin_valuenum_Hematocrit, Calculated</th>\n",
       "      <th>nanmin_valuenum_Potassium</th>\n",
       "      <th>nanmin_valuenum_Potassium, Whole Blood</th>\n",
       "      <th>nanmin_valuenum_Urea Nitrogen</th>\n",
       "      <th>...</th>\n",
       "      <th>nanmax_valuenum_Albumin</th>\n",
       "      <th>nanmax_valuenum_Bicarbonate</th>\n",
       "      <th>nanmax_valuenum_Calculated Bicarbonate, Whole Blood</th>\n",
       "      <th>nanmax_valuenum_Creatinine</th>\n",
       "      <th>nanmax_valuenum_Hematocrit</th>\n",
       "      <th>nanmax_valuenum_Hematocrit, Calculated</th>\n",
       "      <th>nanmax_valuenum_Potassium</th>\n",
       "      <th>nanmax_valuenum_Potassium, Whole Blood</th>\n",
       "      <th>nanmax_valuenum_Urea Nitrogen</th>\n",
       "      <th>nanmax_valuenum_pH</th>\n",
       "    </tr>\n",
       "  </thead>\n",
       "  <tbody>\n",
       "    <tr>\n",
       "      <th>0</th>\n",
       "      <td>20000094</td>\n",
       "      <td>3.1</td>\n",
       "      <td>19.0</td>\n",
       "      <td>NaN</td>\n",
       "      <td>3.8</td>\n",
       "      <td>40.1</td>\n",
       "      <td>NaN</td>\n",
       "      <td>4.3</td>\n",
       "      <td>NaN</td>\n",
       "      <td>99.0</td>\n",
       "      <td>...</td>\n",
       "      <td>3.6</td>\n",
       "      <td>28.0</td>\n",
       "      <td>NaN</td>\n",
       "      <td>3.9</td>\n",
       "      <td>42.1</td>\n",
       "      <td>NaN</td>\n",
       "      <td>4.6</td>\n",
       "      <td>NaN</td>\n",
       "      <td>99.0</td>\n",
       "      <td>7.41</td>\n",
       "    </tr>\n",
       "    <tr>\n",
       "      <th>1</th>\n",
       "      <td>20001305</td>\n",
       "      <td>2.6</td>\n",
       "      <td>21.0</td>\n",
       "      <td>NaN</td>\n",
       "      <td>0.8</td>\n",
       "      <td>31.4</td>\n",
       "      <td>NaN</td>\n",
       "      <td>4.1</td>\n",
       "      <td>NaN</td>\n",
       "      <td>47.0</td>\n",
       "      <td>...</td>\n",
       "      <td>2.6</td>\n",
       "      <td>25.0</td>\n",
       "      <td>NaN</td>\n",
       "      <td>1.2</td>\n",
       "      <td>34.5</td>\n",
       "      <td>NaN</td>\n",
       "      <td>4.7</td>\n",
       "      <td>NaN</td>\n",
       "      <td>59.0</td>\n",
       "      <td>7.46</td>\n",
       "    </tr>\n",
       "    <tr>\n",
       "      <th>2</th>\n",
       "      <td>20001361</td>\n",
       "      <td>3.0</td>\n",
       "      <td>20.0</td>\n",
       "      <td>NaN</td>\n",
       "      <td>1.6</td>\n",
       "      <td>30.6</td>\n",
       "      <td>NaN</td>\n",
       "      <td>3.4</td>\n",
       "      <td>NaN</td>\n",
       "      <td>24.0</td>\n",
       "      <td>...</td>\n",
       "      <td>3.2</td>\n",
       "      <td>26.0</td>\n",
       "      <td>NaN</td>\n",
       "      <td>4.2</td>\n",
       "      <td>37.2</td>\n",
       "      <td>NaN</td>\n",
       "      <td>5.8</td>\n",
       "      <td>NaN</td>\n",
       "      <td>49.0</td>\n",
       "      <td>7.48</td>\n",
       "    </tr>\n",
       "    <tr>\n",
       "      <th>3</th>\n",
       "      <td>20001770</td>\n",
       "      <td>2.0</td>\n",
       "      <td>15.0</td>\n",
       "      <td>NaN</td>\n",
       "      <td>0.7</td>\n",
       "      <td>19.9</td>\n",
       "      <td>NaN</td>\n",
       "      <td>3.4</td>\n",
       "      <td>3.4</td>\n",
       "      <td>9.0</td>\n",
       "      <td>...</td>\n",
       "      <td>3.0</td>\n",
       "      <td>22.0</td>\n",
       "      <td>NaN</td>\n",
       "      <td>1.7</td>\n",
       "      <td>28.4</td>\n",
       "      <td>NaN</td>\n",
       "      <td>5.2</td>\n",
       "      <td>3.4</td>\n",
       "      <td>23.0</td>\n",
       "      <td>7.26</td>\n",
       "    </tr>\n",
       "    <tr>\n",
       "      <th>4</th>\n",
       "      <td>20002506</td>\n",
       "      <td>4.9</td>\n",
       "      <td>22.0</td>\n",
       "      <td>NaN</td>\n",
       "      <td>0.6</td>\n",
       "      <td>33.7</td>\n",
       "      <td>NaN</td>\n",
       "      <td>3.4</td>\n",
       "      <td>NaN</td>\n",
       "      <td>6.0</td>\n",
       "      <td>...</td>\n",
       "      <td>4.9</td>\n",
       "      <td>26.0</td>\n",
       "      <td>NaN</td>\n",
       "      <td>0.7</td>\n",
       "      <td>40.0</td>\n",
       "      <td>NaN</td>\n",
       "      <td>4.1</td>\n",
       "      <td>NaN</td>\n",
       "      <td>13.0</td>\n",
       "      <td>NaN</td>\n",
       "    </tr>\n",
       "  </tbody>\n",
       "</table>\n",
       "<p>5 rows × 21 columns</p>\n",
       "</div>"
      ],
      "text/plain": [
       "    hadm_id  nanmin_valuenum_Albumin  nanmin_valuenum_Bicarbonate  \\\n",
       "0  20000094                      3.1                         19.0   \n",
       "1  20001305                      2.6                         21.0   \n",
       "2  20001361                      3.0                         20.0   \n",
       "3  20001770                      2.0                         15.0   \n",
       "4  20002506                      4.9                         22.0   \n",
       "\n",
       "   nanmin_valuenum_Calculated Bicarbonate, Whole Blood  \\\n",
       "0                                                NaN     \n",
       "1                                                NaN     \n",
       "2                                                NaN     \n",
       "3                                                NaN     \n",
       "4                                                NaN     \n",
       "\n",
       "   nanmin_valuenum_Creatinine  nanmin_valuenum_Hematocrit  \\\n",
       "0                         3.8                        40.1   \n",
       "1                         0.8                        31.4   \n",
       "2                         1.6                        30.6   \n",
       "3                         0.7                        19.9   \n",
       "4                         0.6                        33.7   \n",
       "\n",
       "   nanmin_valuenum_Hematocrit, Calculated  nanmin_valuenum_Potassium  \\\n",
       "0                                     NaN                        4.3   \n",
       "1                                     NaN                        4.1   \n",
       "2                                     NaN                        3.4   \n",
       "3                                     NaN                        3.4   \n",
       "4                                     NaN                        3.4   \n",
       "\n",
       "   nanmin_valuenum_Potassium, Whole Blood  nanmin_valuenum_Urea Nitrogen  ...  \\\n",
       "0                                     NaN                           99.0  ...   \n",
       "1                                     NaN                           47.0  ...   \n",
       "2                                     NaN                           24.0  ...   \n",
       "3                                     3.4                            9.0  ...   \n",
       "4                                     NaN                            6.0  ...   \n",
       "\n",
       "   nanmax_valuenum_Albumin  nanmax_valuenum_Bicarbonate  \\\n",
       "0                      3.6                         28.0   \n",
       "1                      2.6                         25.0   \n",
       "2                      3.2                         26.0   \n",
       "3                      3.0                         22.0   \n",
       "4                      4.9                         26.0   \n",
       "\n",
       "   nanmax_valuenum_Calculated Bicarbonate, Whole Blood  \\\n",
       "0                                                NaN     \n",
       "1                                                NaN     \n",
       "2                                                NaN     \n",
       "3                                                NaN     \n",
       "4                                                NaN     \n",
       "\n",
       "   nanmax_valuenum_Creatinine  nanmax_valuenum_Hematocrit  \\\n",
       "0                         3.9                        42.1   \n",
       "1                         1.2                        34.5   \n",
       "2                         4.2                        37.2   \n",
       "3                         1.7                        28.4   \n",
       "4                         0.7                        40.0   \n",
       "\n",
       "   nanmax_valuenum_Hematocrit, Calculated  nanmax_valuenum_Potassium  \\\n",
       "0                                     NaN                        4.6   \n",
       "1                                     NaN                        4.7   \n",
       "2                                     NaN                        5.8   \n",
       "3                                     NaN                        5.2   \n",
       "4                                     NaN                        4.1   \n",
       "\n",
       "   nanmax_valuenum_Potassium, Whole Blood  nanmax_valuenum_Urea Nitrogen  \\\n",
       "0                                     NaN                           99.0   \n",
       "1                                     NaN                           59.0   \n",
       "2                                     NaN                           49.0   \n",
       "3                                     3.4                           23.0   \n",
       "4                                     NaN                           13.0   \n",
       "\n",
       "   nanmax_valuenum_pH  \n",
       "0                7.41  \n",
       "1                7.46  \n",
       "2                7.48  \n",
       "3                7.26  \n",
       "4                 NaN  \n",
       "\n",
       "[5 rows x 21 columns]"
      ]
     },
     "execution_count": 43,
     "metadata": {},
     "output_type": "execute_result"
    }
   ],
   "source": [
    "lab_description.head()"
   ]
  },
  {
   "cell_type": "code",
   "execution_count": 44,
   "id": "a8b537b2",
   "metadata": {},
   "outputs": [],
   "source": [
    "cohort_icu_labs = cohort.merge(lab_description, on='hadm_id')"
   ]
  },
  {
   "cell_type": "code",
   "execution_count": 45,
   "id": "bf2ee17c",
   "metadata": {},
   "outputs": [
    {
     "data": {
      "text/plain": [
       "(12432, 41)"
      ]
     },
     "execution_count": 45,
     "metadata": {},
     "output_type": "execute_result"
    }
   ],
   "source": [
    "cohort_icu_labs.shape"
   ]
  },
  {
   "cell_type": "markdown",
   "id": "931e17b0",
   "metadata": {},
   "source": [
    "#### SOFA Score\n",
    "Select SOFA closest to icu admission."
   ]
  },
  {
   "cell_type": "code",
   "execution_count": 46,
   "id": "e718478f",
   "metadata": {},
   "outputs": [],
   "source": [
    "cohort_sid = cohort_icu_labs['stay_id'].unique()"
   ]
  },
  {
   "cell_type": "code",
   "execution_count": 47,
   "id": "1d5bc193",
   "metadata": {},
   "outputs": [],
   "source": [
    "# Query SOFA scores for the selected stays.\n",
    "sofa = run_query(\n",
    "    f\"\"\"SELECT stay_id, hr, starttime, endtime, sofa_24hours\n",
    "    FROM `physionet-data.mimiciv_derived.sofa` WHERE stay_id IN {str(tuple(cohort_sid))}\"\"\"\n",
    ")"
   ]
  },
  {
   "cell_type": "code",
   "execution_count": 48,
   "id": "8625ba35",
   "metadata": {},
   "outputs": [
    {
     "data": {
      "text/plain": [
       "(1328389, 5)"
      ]
     },
     "execution_count": 48,
     "metadata": {},
     "output_type": "execute_result"
    }
   ],
   "source": [
    "sofa.shape"
   ]
  },
  {
   "cell_type": "code",
   "execution_count": 49,
   "id": "1cdd4e4e",
   "metadata": {},
   "outputs": [],
   "source": [
    "sofa_48 = sofa[sofa['hr'] <= 48]"
   ]
  },
  {
   "cell_type": "code",
   "execution_count": 50,
   "id": "d88e81c7",
   "metadata": {},
   "outputs": [],
   "source": [
    "sofa_48_min = dict(sofa_48.groupby(by='stay_id')['hr'].min())"
   ]
  },
  {
   "cell_type": "code",
   "execution_count": 51,
   "id": "cbb75cfb",
   "metadata": {},
   "outputs": [],
   "source": [
    "sofa['min_hour'] = sofa['stay_id'].map(sofa_48_min)"
   ]
  },
  {
   "cell_type": "code",
   "execution_count": 52,
   "id": "c597a850",
   "metadata": {},
   "outputs": [
    {
     "data": {
      "text/plain": [
       "(12432, 6)"
      ]
     },
     "execution_count": 52,
     "metadata": {},
     "output_type": "execute_result"
    }
   ],
   "source": [
    "sofa = sofa[sofa['min_hour'] == sofa['hr']]\n",
    "sofa.shape"
   ]
  },
  {
   "cell_type": "code",
   "execution_count": 53,
   "id": "293e5199",
   "metadata": {},
   "outputs": [
    {
     "data": {
      "text/plain": [
       "(12432, 46)"
      ]
     },
     "execution_count": 53,
     "metadata": {},
     "output_type": "execute_result"
    }
   ],
   "source": [
    "cohort_sofa = cohort_icu_labs.merge(sofa, on='stay_id', how='left')\n",
    "cohort_sofa.shape"
   ]
  },
  {
   "cell_type": "markdown",
   "id": "31b7560c",
   "metadata": {},
   "source": [
    "#### Antibiotics"
   ]
  },
  {
   "cell_type": "code",
   "execution_count": 54,
   "id": "ca188652",
   "metadata": {},
   "outputs": [],
   "source": [
    "## Use lowercase first\n",
    "# modify quesry to with % % "
   ]
  },
  {
   "cell_type": "code",
   "execution_count": 55,
   "id": "81b8faaa",
   "metadata": {},
   "outputs": [
    {
     "data": {
      "text/plain": [
       "(17525, 4)"
      ]
     },
     "execution_count": 55,
     "metadata": {},
     "output_type": "execute_result"
    }
   ],
   "source": [
    "antib = run_query(\n",
    "    f\"\"\"\n",
    "    SELECT a.stay_id, a.starttime, a.route, a.antibiotic FROM `physionet-data.mimiciv_derived.antibiotic` AS a\n",
    "    where (lower(a.antibiotic) like \"vancomycin\" or a.antibiotic like \n",
    "    \"Gentamicin\" or a.antibiotic like \"vancocin\" \n",
    "    or a.antibiotic like \"Gentamicin (Bulk)\" or a.antibiotic like 'NEO*IV*Gentamicin' \n",
    "    or a.antibiotic like 'NEO*IV*Vancomycin' or a.antibiotic like 'Gentamicin Sulfate') AND\n",
    "    a.stay_id IN {str(tuple(cohort_sid))}\n",
    "    \"\"\"\n",
    ")\n",
    "antib.shape"
   ]
  },
  {
   "cell_type": "code",
   "execution_count": 56,
   "id": "27a96519",
   "metadata": {},
   "outputs": [],
   "source": [
    "antib['antibiotic'] = 1"
   ]
  },
  {
   "cell_type": "code",
   "execution_count": 57,
   "id": "1b2bbd94",
   "metadata": {},
   "outputs": [
    {
     "data": {
      "text/plain": [
       "(12432, 47)"
      ]
     },
     "execution_count": 57,
     "metadata": {},
     "output_type": "execute_result"
    }
   ],
   "source": [
    "cohort_stay_intime = cohort_sofa[['stay_id', 'intime']].drop_duplicates()\n",
    "antib['starttime'] = pd.to_datetime(antib['starttime'])\n",
    "antib = antib.dropna(subset='stay_id')\n",
    "antib_intime_stayid = cohort_stay_intime.merge(antib, on='stay_id')\n",
    "antib_intime_stayid['delta_days'] = (antib_intime_stayid['starttime'] - antib_intime_stayid['intime']) / np.timedelta64(1, 'D')\n",
    "antib_intime_stayid_48 = antib_intime_stayid[antib_intime_stayid['delta_days'] <= 2]\n",
    "antib_intime_stayid_48 = antib_intime_stayid_48.drop_duplicates(subset=['stay_id'])\n",
    "antib_intime_stayid_48 = antib_intime_stayid_48[['stay_id', 'antibiotic']]\n",
    "cohort_antib = cohort_sofa.merge(antib_intime_stayid_48, on='stay_id', how='left')\n",
    "cohort_antib['antibiotic'].fillna(0, inplace=True)\n",
    "cohort_antib.shape"
   ]
  },
  {
   "cell_type": "code",
   "execution_count": 58,
   "id": "2f7f6d34",
   "metadata": {},
   "outputs": [
    {
     "data": {
      "text/plain": [
       "0.0    7436\n",
       "1.0    4996\n",
       "Name: antibiotic, dtype: int64"
      ]
     },
     "execution_count": 58,
     "metadata": {},
     "output_type": "execute_result"
    }
   ],
   "source": [
    "cohort_antib['antibiotic'].value_counts()"
   ]
  },
  {
   "cell_type": "markdown",
   "id": "3eb088e4",
   "metadata": {},
   "source": [
    "#### Sepsis"
   ]
  },
  {
   "cell_type": "code",
   "execution_count": 59,
   "id": "00a501f2",
   "metadata": {},
   "outputs": [
    {
     "data": {
      "text/plain": [
       "(7308, 2)"
      ]
     },
     "execution_count": 59,
     "metadata": {},
     "output_type": "execute_result"
    }
   ],
   "source": [
    "sepsis = run_query(\n",
    "    f\"\"\"\n",
    "    SELECT stay_id, sepsis3 FROM `physionet-data.mimiciv_derived.sepsis3` WHERE\n",
    "    stay_id IN {str(tuple(cohort_sid))}\n",
    "    \"\"\"\n",
    ")\n",
    "sepsis.shape"
   ]
  },
  {
   "cell_type": "code",
   "execution_count": 60,
   "id": "7ee927f4",
   "metadata": {},
   "outputs": [
    {
     "data": {
      "text/plain": [
       "(7308, 2)"
      ]
     },
     "execution_count": 60,
     "metadata": {},
     "output_type": "execute_result"
    }
   ],
   "source": [
    "sepsis.drop_duplicates(inplace=True)\n",
    "sepsis.shape"
   ]
  },
  {
   "cell_type": "code",
   "execution_count": 61,
   "id": "d611b635",
   "metadata": {},
   "outputs": [
    {
     "data": {
      "text/plain": [
       "(12432, 48)"
      ]
     },
     "execution_count": 61,
     "metadata": {},
     "output_type": "execute_result"
    }
   ],
   "source": [
    "cohort_sepsis = cohort_antib.merge(sepsis, on='stay_id', how='left')\n",
    "cohort_sepsis['sepsis3'].value_counts(dropna=False)\n",
    "cohort_sepsis['sepsis3'].fillna(False, inplace=True)\n",
    "cohort_sepsis.shape"
   ]
  },
  {
   "cell_type": "markdown",
   "id": "bf695f5f",
   "metadata": {},
   "source": [
    "#### Vitals\n",
    "- Heart Rate\n",
    "- MBP\n",
    "- MBP_NI\n",
    "- Resp Rate\n",
    "- SPo2"
   ]
  },
  {
   "cell_type": "code",
   "execution_count": 62,
   "id": "3a7ea276",
   "metadata": {},
   "outputs": [],
   "source": [
    "# Query requested vitals attributes for the cohort.\n",
    "cohort_sids = cohort_sepsis['stay_id'].unique()\n",
    "vitals = run_query(\n",
    "    f\"\"\"\n",
    "    SELECT stay_id, charttime, heart_rate, mbp, mbp_ni, resp_rate, spo2\n",
    "    FROM `physionet-data.mimiciv_derived.vitalsign` WHERE stay_id IN \n",
    "    {str(tuple(cohort_sids))}\n",
    "    \"\"\"\n",
    ")"
   ]
  },
  {
   "cell_type": "code",
   "execution_count": 63,
   "id": "0a15e74b",
   "metadata": {},
   "outputs": [],
   "source": [
    "# Get min and max vitals.\n",
    "agg_cols = ['heart_rate', 'mbp', 'mbp_ni', 'resp_rate', 'spo2']\n",
    "vitals_min = vitals.groupby('stay_id')[agg_cols].min().reset_index()\n",
    "vitals_min.rename(dict(zip(agg_cols, ['min_' + x for x in agg_cols])), axis=1, inplace=True)\n",
    "vitals_max = vitals.groupby('stay_id')[agg_cols].max().reset_index()\n",
    "vitals_max.rename(dict(zip(agg_cols, ['max_' + x for x in agg_cols])), axis=1, inplace=True)"
   ]
  },
  {
   "cell_type": "code",
   "execution_count": 64,
   "id": "f013d2d8",
   "metadata": {},
   "outputs": [],
   "source": [
    "cohort_vitals = cohort_sepsis.merge(vitals_min, on='stay_id', how='left')\n",
    "cohort_vitals = cohort_vitals.merge(vitals_max, on='stay_id', how='left')"
   ]
  },
  {
   "cell_type": "code",
   "execution_count": 65,
   "id": "6e27dff4",
   "metadata": {},
   "outputs": [
    {
     "data": {
      "text/plain": [
       "(12432, 58)"
      ]
     },
     "execution_count": 65,
     "metadata": {},
     "output_type": "execute_result"
    }
   ],
   "source": [
    "cohort_vitals.shape"
   ]
  },
  {
   "cell_type": "markdown",
   "id": "0be9f2b7",
   "metadata": {},
   "source": [
    "#### Comorbdities\n",
    "- CKD\n",
    "- Hypotension\n",
    "- Heart Failure\n",
    "- Diabetes"
   ]
  },
  {
   "cell_type": "code",
   "execution_count": 66,
   "id": "be04a22b",
   "metadata": {},
   "outputs": [
    {
     "data": {
      "text/plain": [
       "(242334, 5)"
      ]
     },
     "execution_count": 66,
     "metadata": {},
     "output_type": "execute_result"
    }
   ],
   "source": [
    "# Query all icd codes for our cohort.\n",
    "cohort_enc = cohort_vitals['hadm_id'].unique()\n",
    "icdcodes = run_query(\n",
    "    f\"\"\"\n",
    "    SELECT * FROM `physionet-data.mimiciv_hosp.diagnoses_icd` WHERE \n",
    "    hadm_id IN {str(tuple(cohort_enc))}\n",
    "    \"\"\"\n",
    ")\n",
    "icdcodes.shape"
   ]
  },
  {
   "cell_type": "code",
   "execution_count": 67,
   "id": "77a30722",
   "metadata": {},
   "outputs": [],
   "source": [
    "\"\"\"\n",
    "Functions for calculating comorbidities based on ICD9/10 codes.\n",
    "\"\"\"\n",
    "def is_DM(row):\n",
    "    \n",
    "    if row.icd_version== 9:\n",
    "        if row.icd_code == 7751:\n",
    "            return 1 \n",
    "        if pd.to_numeric(row.icd_code, errors= \"coerce\") >= 25000 and pd.to_numeric(row.icd_code, errors= \"coerce\") <= 25033:\n",
    "            return 1      \n",
    "        if pd.to_numeric(row.icd_code, errors= \"coerce\") >= 64800 and pd.to_numeric(row.icd_code, errors= \"coerce\") <= 64804:\n",
    "            return 1\n",
    "        if pd.to_numeric(row.icd_code, errors= \"coerce\") >= 24900 and pd.to_numeric(row.icd_code, errors= \"coerce\") <= 24931:\n",
    "            return 1      \n",
    "        if pd.to_numeric(row.icd_code, errors= \"coerce\") >= 25040 and pd.to_numeric(row.icd_code, errors= \"coerce\") <= 25093:\n",
    "            return 1\n",
    "        if pd.to_numeric(row.icd_code, errors= \"coerce\") >= 24940 and pd.to_numeric(row.icd_code, errors= \"coerce\") <= 24991:\n",
    "            return 1\n",
    "        else:\n",
    "            return 0 \n",
    "        \n",
    "    if row.icd_version== 10:       \n",
    "        if row.icd_code.startswith('E08') or row.icd_code.startswith('E09') or row.icd_code.startswith('E10') or row.icd_code.startswith('E11') or row.icd_code.startswith('E12') or row.icd_code.startswith('E13'):\n",
    "            return 1      \n",
    "        else:\n",
    "            return 0\n",
    "\n",
    "def is_HF(row): #heart failure\n",
    "    if row.icd_version== 9:\n",
    "        if pd.to_numeric(row.icd_code, errors= \"coerce\") == 4280 or pd.to_numeric(row.icd_code, errors= \"coerce\") == 4281 or pd.to_numeric(row.icd_code, errors= \"coerce\") == 4289 or pd.to_numeric(row.icd_code, errors= \"coerce\")==39891:\n",
    "            return 1      \n",
    "        if pd.to_numeric(row.icd_code, errors= \"coerce\") >= 42820 and pd.to_numeric(row.icd_code, errors= \"coerce\") <= 42823:\n",
    "            return 1\n",
    "        if pd.to_numeric(row.icd_code, errors= \"coerce\") >= 42830 and pd.to_numeric(row.icd_code, errors= \"coerce\") <= 42832:\n",
    "            return 1      \n",
    "        if pd.to_numeric(row.icd_code, errors= \"coerce\") >= 42840 and pd.to_numeric(row.icd_code, errors= \"coerce\") <= 42843:\n",
    "            return 1\n",
    "        else:\n",
    "            return 0 \n",
    "        \n",
    "    if row.icd_version== 10:\n",
    "        if row.icd_code.startswith('I13') or row.icd_code.startswith('I11') or row.icd_code.startswith('I25') or row.icd_code.startswith('I46') or row.icd_code.startswith('I50') or row.icd_code.startswith('I42') or row.icd_code.startswith('I43')  or row.icd_code.startswith('I44'):\n",
    "            return 1      \n",
    "        else:\n",
    "            return 0\n",
    "\n",
    "# Hypertension -icd 9 and 10 \n",
    "def is_Hypert(row): \n",
    "    \n",
    "    l=[4010,4011,4019,4372,40200,40210,40290,40509,40519,40201,40211,40291,40310,40300,40390,40501,40511,\n",
    "       40591,40301,40311,40391,40400,40410,40490,40401,40411,40491,40402,40412,40492,40403,40413,40493]\n",
    "    \n",
    "    if row.icd_version== 9:\n",
    "\n",
    "        if pd.to_numeric(row.icd_code, errors= \"coerce\") in l:\n",
    "            return 1      \n",
    "        if pd.to_numeric(row.icd_code, errors= \"coerce\") >= 64200 and pd.to_numeric(row.icd_code, errors= \"coerce\") <= 64204:\n",
    "            return 1\n",
    "        if pd.to_numeric(row.icd_code, errors= \"coerce\") >= 64220 and pd.to_numeric(row.icd_code, errors= \"coerce\") <= 64224:\n",
    "            return 1      \n",
    "        if pd.to_numeric(row.icd_code, errors= \"coerce\") >= 64210 and pd.to_numeric(row.icd_code, errors= \"coerce\") <= 64214:\n",
    "            return 1\n",
    "        if pd.to_numeric(row.icd_code, errors= \"coerce\") >= 64270 and pd.to_numeric(row.icd_code, errors= \"coerce\") <= 64274:\n",
    "            return 1   \n",
    "        if pd.to_numeric(row.icd_code, errors= \"coerce\") >= 64290 and pd.to_numeric(row.icd_code, errors= \"coerce\") <= 64294:\n",
    "            return 1   \n",
    "        else:\n",
    "            return 0 \n",
    "        \n",
    "    if row.icd_version== 10:\n",
    "        if row.icd_code.startswith('I10') or row.icd_code.startswith('I15') or row.icd_code.startswith('I16'):\n",
    "            return 1      \n",
    "        else:\n",
    "            return 0\n",
    "\n",
    "def is_CKD(row):\n",
    "    if row.icd_version== 9:\n",
    "        \n",
    "        if pd.to_numeric(row.icd_code, errors= \"coerce\") >= 5851 and pd.to_numeric(row.icd_code, errors= \"coerce\") <= 5856:\n",
    "            return 1     \n",
    "        if pd.to_numeric(row.icd_code, errors= \"coerce\") == 5859:\n",
    "            return 1   \n",
    "        else:\n",
    "            return 0 \n",
    "        \n",
    "    if row.icd_version== 10:\n",
    "        if row.icd_code.startswith('I12') or row.icd_code.startswith('I12') or row.icd_code.startswith('N01') or row.icd_code.startswith('N02') or row.icd_code.startswith('N03') or row.icd_code.startswith('N04') or row.icd_code.startswith('N05') or row.icd_code.startswith('N06') or row.icd_code.startswith('N07') or row.icd_code.startswith('N08') or row.icd_code.startswith('N11') or row.icd_code.startswith('N13')     or row.icd_code.startswith('N14') or row.icd_code.startswith('N15') or row.icd_code.startswith('N18') or row.icd_code.startswith('N19') or row.icd_code.startswith('N25') or row.icd_code.startswith('N26') or row.icd_code.startswith('N27') or row.icd_code.startswith('N28') or row.icd_code.startswith('N29'):\n",
    "            return 1      \n",
    "        else:\n",
    "            return 0  "
   ]
  },
  {
   "cell_type": "code",
   "execution_count": 68,
   "id": "d9da5909",
   "metadata": {},
   "outputs": [],
   "source": [
    "# Calculate binary labels on icd codes.\n",
    "icdcodes['dm'] = icdcodes.apply(is_DM, axis=1)\n",
    "icdcodes['heartfailure'] = icdcodes.apply(is_HF, axis=1)\n",
    "icdcodes['hypertension'] = icdcodes.apply(is_Hypert, axis=1)\n",
    "icdcodes['ckd'] = icdcodes.apply(is_CKD, axis=1)"
   ]
  },
  {
   "cell_type": "code",
   "execution_count": 69,
   "id": "d72c73fb",
   "metadata": {},
   "outputs": [],
   "source": [
    "# Get one value for every stay ID.\n",
    "ckd   = icdcodes.groupby('hadm_id')['ckd'].max().reset_index()\n",
    "dm    = icdcodes.groupby('hadm_id')['dm'].max().reset_index()\n",
    "hyper = icdcodes.groupby('hadm_id')['hypertension'].max().reset_index()\n",
    "hf    = icdcodes.groupby('hadm_id')['heartfailure'].max().reset_index()"
   ]
  },
  {
   "cell_type": "code",
   "execution_count": 70,
   "id": "8ef39c3c",
   "metadata": {},
   "outputs": [],
   "source": [
    "# Construct comorbdities dataframe.\n",
    "comorbidities = ckd.merge(dm, on='hadm_id', how='left')\n",
    "comorbidities = comorbidities.merge(hyper, on='hadm_id', how='left')\n",
    "comorbidities = comorbidities.merge(hf, on='hadm_id', how='left')\n",
    "comorbidities = comorbidities.fillna(0)"
   ]
  },
  {
   "cell_type": "code",
   "execution_count": 71,
   "id": "1df0f4e3",
   "metadata": {},
   "outputs": [],
   "source": [
    "cohort_covariates = cohort_vitals.merge(comorbidities, on='hadm_id', how='left')"
   ]
  },
  {
   "cell_type": "markdown",
   "id": "28e467e2",
   "metadata": {},
   "source": [
    "## Merge with CRRT Labels\n",
    "Criteria - Only consider patients that recieved CRRT after the first 12 hours and before the first 5 days of their ICU stay "
   ]
  },
  {
   "cell_type": "code",
   "execution_count": 72,
   "id": "0fe892a9",
   "metadata": {},
   "outputs": [],
   "source": [
    "cohort_sid = cohort_covariates['stay_id'].unique()"
   ]
  },
  {
   "cell_type": "code",
   "execution_count": 73,
   "id": "ab4dc808",
   "metadata": {},
   "outputs": [
    {
     "data": {
      "text/plain": [
       "(111719, 24)"
      ]
     },
     "execution_count": 73,
     "metadata": {},
     "output_type": "execute_result"
    }
   ],
   "source": [
    "crrt = run_query(\n",
    "    f\"\"\"\n",
    "    SELECT * FROM `physionet-data.mimiciv_derived.crrt` \n",
    "    WHERE stay_id IN {str(tuple(cohort_sid))}\n",
    "    \"\"\"\n",
    ")\n",
    "crrt.shape"
   ]
  },
  {
   "cell_type": "code",
   "execution_count": 74,
   "id": "73dd0866",
   "metadata": {},
   "outputs": [],
   "source": [
    "cohort_ts = cohort_covariates[['stay_id', 'intime']].drop_duplicates()"
   ]
  },
  {
   "cell_type": "code",
   "execution_count": 75,
   "id": "240c13ee",
   "metadata": {},
   "outputs": [
    {
     "data": {
      "text/plain": [
       "(921, 26)"
      ]
     },
     "execution_count": 75,
     "metadata": {},
     "output_type": "execute_result"
    }
   ],
   "source": [
    "crrt['charttime'] = pd.to_datetime(crrt['charttime'])\n",
    "crrt_icu = crrt.merge(cohort_ts, on='stay_id')\n",
    "crrt_icu['time_delta'] = (crrt_icu['charttime'] - crrt_icu['intime']) / np.timedelta64(1, 'h')\n",
    "crrt_icu = crrt_icu[crrt_icu['charttime'] > crrt_icu['intime']].reset_index(drop=True)\n",
    "min_crrt = crrt_icu.groupby('stay_id')['charttime'].min().reset_index()\n",
    "crrt_min = crrt_icu.merge(min_crrt)\n",
    "crrt_min.shape"
   ]
  },
  {
   "cell_type": "code",
   "execution_count": 76,
   "id": "cd1c461c",
   "metadata": {},
   "outputs": [
    {
     "data": {
      "text/plain": [
       "Text(0.5, 1.0, 'CRRT Incidence Distribution')"
      ]
     },
     "execution_count": 76,
     "metadata": {},
     "output_type": "execute_result"
    },
    {
     "data": {
      "image/png": "[encoded data removed]",
      "text/plain": [
       "<Figure size 432x288 with 1 Axes>"
      ]
     },
     "metadata": {
      "needs_background": "light"
     },
     "output_type": "display_data"
    }
   ],
   "source": [
    "b= np.linspace(0, 180, 100)\n",
    "plt.hist(crrt_min['time_delta'], bins=b)\n",
    "plt.xlabel('Hours')\n",
    "plt.ylabel('Number of Patients with CRRT')\n",
    "plt.title('CRRT Incidence Distribution')"
   ]
  },
  {
   "cell_type": "code",
   "execution_count": 77,
   "id": "38d16eb6",
   "metadata": {},
   "outputs": [
    {
     "data": {
      "text/plain": [
       "(440, 26)"
      ]
     },
     "execution_count": 77,
     "metadata": {},
     "output_type": "execute_result"
    }
   ],
   "source": [
    "# Keep patients [0.5 days to 5 day window]\n",
    "crrt_filt = crrt_min[(crrt_min['time_delta'] >= 24) &  (crrt_min['time_delta'] <= 144)].reset_index(drop=True)\n",
    "crrt_filt.shape"
   ]
  },
  {
   "cell_type": "code",
   "execution_count": 78,
   "id": "790bceb7",
   "metadata": {},
   "outputs": [],
   "source": [
    "# Merge with CRRT Labels\n",
    "crrt_filt['crrt'] = 1\n",
    "crrt_filt = crrt_filt[['stay_id', 'crrt', 'time_delta']].drop_duplicates()\n",
    "cohort_final = cohort_covariates.merge(crrt_filt, on='stay_id', how='left')\n",
    "cohort_final['crrt'].fillna(0, inplace=True)"
   ]
  },
  {
   "cell_type": "markdown",
   "id": "9d3bb5d4",
   "metadata": {},
   "source": [
    "#### Merge with Demographics"
   ]
  },
  {
   "cell_type": "code",
   "execution_count": 79,
   "id": "78a3c87f",
   "metadata": {},
   "outputs": [],
   "source": [
    "cohort_pats = cohort_final['subject_id'].unique()\n",
    "demo = run_query(\n",
    "    f\"\"\"\n",
    "        SELECT * from `physionet-data.mimiciv_hosp.patients` \n",
    "        WHERE subject_id IN {str(tuple(cohort_pats))}\n",
    "    \"\"\"\n",
    ")\n",
    "# Some demographic data is stored in admissions.\n",
    "admissions = run_query(\n",
    "    f\"\"\"\n",
    "        SELECT * from `physionet-data.mimiciv_hosp.admissions` \n",
    "        WHERE subject_id IN {str(tuple(cohort_pats))}\n",
    "    \"\"\"\n",
    ")"
   ]
  },
  {
   "cell_type": "code",
   "execution_count": 80,
   "id": "019104e7",
   "metadata": {},
   "outputs": [],
   "source": [
    "cohort_final = cohort_final.merge(demo, on='subject_id')\n",
    "cohort_final = cohort_final.merge(admissions, on=['subject_id', 'hadm_id'])"
   ]
  },
  {
   "cell_type": "code",
   "execution_count": 81,
   "id": "de0bd5e7",
   "metadata": {},
   "outputs": [],
   "source": [
    "# Cluster Races\n",
    "targets = ['WHITE', 'BLACK', 'ASIAN', 'HISPANIC', 'OTHER']\n",
    "for group in cohort_final['race'].unique():\n",
    "    if 'WHITE' in group:\n",
    "        cohort_final['race'] = cohort_final['race'].replace(group, 'WHITE')\n",
    "    elif 'BLACK' in group:\n",
    "        cohort_final['race'] = cohort_final['race'].replace(group, 'BLACK')\n",
    "    elif 'ASIAN' in group:\n",
    "        cohort_final['race'] = cohort_final['race'].replace(group, 'ASIAN')\n",
    "    elif 'HISPANIC' in group:\n",
    "        cohort_final['race'] = cohort_final['race'].replace(group, 'HISPANIC')\n",
    "    elif 'UNKNOWN' in group:\n",
    "        continue\n",
    "    else:\n",
    "        cohort_final['race'] = cohort_final['race'].replace(group, 'OTHER')\n",
    "        "
   ]
  },
  {
   "cell_type": "code",
   "execution_count": 82,
   "id": "e076ab47",
   "metadata": {},
   "outputs": [
    {
     "data": {
      "text/plain": [
       "WHITE       8346\n",
       "UNKNOWN     1547\n",
       "BLACK       1151\n",
       "OTHER        749\n",
       "HISPANIC     359\n",
       "ASIAN        280\n",
       "Name: race, dtype: int64"
      ]
     },
     "execution_count": 82,
     "metadata": {},
     "output_type": "execute_result"
    }
   ],
   "source": [
    "cohort_final['race'].value_counts()"
   ]
  },
  {
   "cell_type": "code",
   "execution_count": 83,
   "id": "863e7a11",
   "metadata": {},
   "outputs": [
    {
     "data": {
      "text/plain": [
       "(12432, 83)"
      ]
     },
     "execution_count": 83,
     "metadata": {},
     "output_type": "execute_result"
    }
   ],
   "source": [
    "cohort_final.shape"
   ]
  },
  {
   "cell_type": "markdown",
   "id": "131ea561",
   "metadata": {},
   "source": [
    "### Calculate BMI using FirstDayWeight and FirstDayHeight"
   ]
  },
  {
   "cell_type": "code",
   "execution_count": 84,
   "id": "975831e1",
   "metadata": {},
   "outputs": [],
   "source": [
    "height = run_query(\n",
    "    f\"\"\"\n",
    "        SELECT * from `physionet-data.mimiciv_hosp.patients` \n",
    "        WHERE subject_id IN {str(tuple(cohort_pats))}\n",
    "    \"\"\"\n",
    ")\n",
    "# Some demographic data is stored in admissions.\n",
    "weight = run_query(\n",
    "    f\"\"\"\n",
    "        SELECT * from `physionet-data.mimiciv_hosp.admissions` \n",
    "        WHERE subject_id IN {str(tuple(cohort_pats))}\n",
    "    \"\"\"\n",
    ")"
   ]
  },
  {
   "cell_type": "code",
   "execution_count": 85,
   "id": "2630fab6",
   "metadata": {},
   "outputs": [],
   "source": [
    "cohort_sid = cohort_final['stay_id'].unique()\n",
    "bmi = run_query(f\"\"\"\n",
    " WITH bmi as (SELECT height.stay_id, POW(( weight.weight_admit / height.height), 2) as BMI\n",
    " FROM `physionet-data.mimiciv_derived.first_day_height` height JOIN\n",
    " `physionet-data.mimiciv_derived.first_day_weight` weight ON \n",
    " height.stay_id = weight.stay_id)\n",
    " SELECT bmi.stay_id, bmi.BMI\n",
    " FROM bmi WHERE bmi.BMI is NOT NULL AND bmi.stay_id IN {str(tuple(cohort_sid))}\n",
    "\"\"\")\n",
    "\n"
   ]
  },
  {
   "cell_type": "code",
   "execution_count": 86,
   "id": "0d7e845f",
   "metadata": {},
   "outputs": [
    {
     "data": {
      "text/plain": [
       "(12432, 83)"
      ]
     },
     "execution_count": 86,
     "metadata": {},
     "output_type": "execute_result"
    }
   ],
   "source": [
    "cohort_final.shape"
   ]
  },
  {
   "cell_type": "code",
   "execution_count": 87,
   "id": "7ad03dbe",
   "metadata": {},
   "outputs": [],
   "source": [
    "# Merge with bmi\n",
    "cohort_final = cohort_final.merge(bmi, on='stay_id', how='left')"
   ]
  },
  {
   "cell_type": "code",
   "execution_count": 88,
   "id": "c6efbb64",
   "metadata": {},
   "outputs": [
    {
     "data": {
      "text/plain": [
       "(12432, 84)"
      ]
     },
     "execution_count": 88,
     "metadata": {},
     "output_type": "execute_result"
    }
   ],
   "source": [
    "cohort_final.shape"
   ]
  },
  {
   "cell_type": "code",
   "execution_count": 89,
   "id": "18600f01",
   "metadata": {},
   "outputs": [],
   "source": [
    "cohort_final.to_csv('final_crrt_cohort.csv', index=False)"
   ]
  },
  {
   "cell_type": "markdown",
   "id": "4903d911",
   "metadata": {},
   "source": [
    "## Table 1"
   ]
  },
  {
   "cell_type": "code",
   "execution_count": 90,
   "id": "05efc061",
   "metadata": {},
   "outputs": [
    {
     "name": "stderr",
     "output_type": "stream",
     "text": [
      "/home/jupyter-zaiman/.local/lib/python3.9/site-packages/tableone/tableone.py:991: FutureWarning: Using the level keyword in DataFrame and Series aggregations is deprecated and will be removed in a future version. Use groupby instead. df.sum(level=1) should use df.groupby(level=1).sum().\n",
      "  df['percent'] = df['freq'].div(df.freq.sum(level=0),\n",
      "/home/jupyter-zaiman/.local/lib/python3.9/site-packages/tableone/tableone.py:991: FutureWarning: Using the level keyword in DataFrame and Series aggregations is deprecated and will be removed in a future version. Use groupby instead. df.sum(level=1) should use df.groupby(level=1).sum().\n",
      "  df['percent'] = df['freq'].div(df.freq.sum(level=0),\n",
      "/home/jupyter-zaiman/.local/lib/python3.9/site-packages/tableone/tableone.py:991: FutureWarning: Using the level keyword in DataFrame and Series aggregations is deprecated and will be removed in a future version. Use groupby instead. df.sum(level=1) should use df.groupby(level=1).sum().\n",
      "  df['percent'] = df['freq'].div(df.freq.sum(level=0),\n"
     ]
    }
   ],
   "source": [
    "columns_all = ['first_careunit', 'creat_low_past_48hr', 'aki_stage', 'race','min_heart_rate',\n",
    " 'min_mbp',\n",
    " 'min_mbp_ni',\n",
    " 'min_resp_rate',\n",
    " 'min_spo2',\n",
    " 'max_heart_rate',\n",
    " 'max_mbp',\n",
    " 'max_mbp_ni',\n",
    " 'max_resp_rate',\n",
    " 'max_spo2',\n",
    " 'ckd',\n",
    " 'dm',\n",
    " 'hypertension',\n",
    " 'heartfailure',\n",
    "'nanmin_valuenum_Albumin',\n",
    " 'nanmin_valuenum_Bicarbonate',\n",
    " 'nanmin_valuenum_Calculated Bicarbonate, Whole Blood',\n",
    " 'nanmin_valuenum_Creatinine',\n",
    " 'nanmin_valuenum_Hematocrit',\n",
    " 'nanmin_valuenum_Hematocrit, Calculated',\n",
    " 'nanmin_valuenum_Potassium',\n",
    " 'nanmin_valuenum_Potassium, Whole Blood',\n",
    " 'nanmin_valuenum_Urea Nitrogen',\n",
    " 'nanmin_valuenum_pH',\n",
    " 'nanmax_valuenum_Albumin',\n",
    " 'nanmax_valuenum_Bicarbonate',\n",
    " 'nanmax_valuenum_Calculated Bicarbonate, Whole Blood',\n",
    " 'nanmax_valuenum_Creatinine',\n",
    " 'nanmax_valuenum_Hematocrit',\n",
    " 'nanmax_valuenum_Hematocrit, Calculated',\n",
    " 'nanmax_valuenum_Potassium',\n",
    " 'nanmax_valuenum_Potassium, Whole Blood',\n",
    " 'nanmax_valuenum_Urea Nitrogen',\n",
    " 'nanmax_valuenum_pH',\n",
    " 'sepsis3',\n",
    " 'sofa_24hours',\n",
    " 'antibiotic',\n",
    " 'gender','BMI']\n",
    "\n",
    "numerical_all =[\n",
    "    'creat_low_past_48hr',\n",
    "    'min_heart_rate',\n",
    "    'min_mbp',\n",
    " 'min_mbp_ni',\n",
    " 'min_resp_rate',\n",
    " 'min_spo2',\n",
    " 'max_heart_rate',\n",
    " 'max_mbp',\n",
    " 'max_mbp_ni',\n",
    " 'max_resp_rate',\n",
    " 'max_spo2','nanmin_valuenum_Albumin',\n",
    " 'nanmin_valuenum_Bicarbonate',\n",
    " 'nanmin_valuenum_Calculated Bicarbonate, Whole Blood',\n",
    " 'nanmin_valuenum_Creatinine',\n",
    " 'nanmin_valuenum_Hematocrit',\n",
    " 'nanmin_valuenum_Hematocrit, Calculated',\n",
    " 'nanmin_valuenum_Potassium',\n",
    " 'nanmin_valuenum_Potassium, Whole Blood',\n",
    " 'nanmin_valuenum_Urea Nitrogen',\n",
    " 'nanmin_valuenum_pH',\n",
    " 'nanmax_valuenum_Albumin',\n",
    " 'nanmax_valuenum_Bicarbonate',\n",
    " 'nanmax_valuenum_Calculated Bicarbonate, Whole Blood',\n",
    " 'nanmax_valuenum_Creatinine',\n",
    " 'nanmax_valuenum_Hematocrit',\n",
    " 'nanmax_valuenum_Hematocrit, Calculated',\n",
    " 'nanmax_valuenum_Potassium',\n",
    " 'nanmax_valuenum_Potassium, Whole Blood',\n",
    " 'nanmax_valuenum_Urea Nitrogen',\n",
    " 'nanmax_valuenum_pH',\n",
    "        'sofa_24hours','BMI']\n",
    "\n",
    "for col in numerical_all:\n",
    "    cohort_final[col] = cohort_final[col].astype(np.float64)\n",
    "\n",
    "categorical_all = [x for x in columns_all if x not in numerical_all]\n",
    "\n",
    "tab = TableOne(cohort_final, columns=columns_all,categorical=categorical_all, groupby='crrt')"
   ]
  },
  {
   "cell_type": "code",
   "execution_count": 91,
   "id": "936d418b",
   "metadata": {},
   "outputs": [],
   "source": [
    "# Display entire dataframe.\n",
    "pd.set_option('display.max_rows', None)\n",
    "pd.set_option('display.max_columns', None)\n",
    "pd.set_option('display.width', 100)\n",
    "pd.set_option('display.colheader_justify', 'left')\n",
    "pd.set_option('display.precision', 5)"
   ]
  },
  {
   "cell_type": "code",
   "execution_count": 92,
   "id": "216999bb",
   "metadata": {
    "scrolled": true
   },
   "outputs": [
    {
     "data": {
      "text/html": [
       "<div>\n",
       "<style scoped>\n",
       "    .dataframe tbody tr th:only-of-type {\n",
       "        vertical-align: middle;\n",
       "    }\n",
       "\n",
       "    .dataframe tbody tr th {\n",
       "        vertical-align: top;\n",
       "    }\n",
       "\n",
       "    .dataframe thead tr th {\n",
       "        text-align: left;\n",
       "    }\n",
       "</style>\n",
       "<table border=\"1\" class=\"dataframe\">\n",
       "  <thead>\n",
       "    <tr>\n",
       "      <th></th>\n",
       "      <th></th>\n",
       "      <th colspan=\"4\" halign=\"left\">Grouped by crrt</th>\n",
       "    </tr>\n",
       "    <tr>\n",
       "      <th></th>\n",
       "      <th></th>\n",
       "      <th>Missing</th>\n",
       "      <th>Overall</th>\n",
       "      <th>0.0</th>\n",
       "      <th>1.0</th>\n",
       "    </tr>\n",
       "  </thead>\n",
       "  <tbody>\n",
       "    <tr>\n",
       "      <th>n</th>\n",
       "      <th></th>\n",
       "      <td></td>\n",
       "      <td>12432</td>\n",
       "      <td>11992</td>\n",
       "      <td>440</td>\n",
       "    </tr>\n",
       "    <tr>\n",
       "      <th rowspan=\"9\" valign=\"top\">first_careunit, n (%)</th>\n",
       "      <th>Cardiac Vascular Intensive Care Unit (CVICU)</th>\n",
       "      <td>0</td>\n",
       "      <td>1515 (12.2)</td>\n",
       "      <td>1443 (12.0)</td>\n",
       "      <td>72 (16.4)</td>\n",
       "    </tr>\n",
       "    <tr>\n",
       "      <th>Coronary Care Unit (CCU)</th>\n",
       "      <td></td>\n",
       "      <td>1510 (12.1)</td>\n",
       "      <td>1457 (12.1)</td>\n",
       "      <td>53 (12.0)</td>\n",
       "    </tr>\n",
       "    <tr>\n",
       "      <th>Medical Intensive Care Unit (MICU)</th>\n",
       "      <td></td>\n",
       "      <td>2869 (23.1)</td>\n",
       "      <td>2728 (22.7)</td>\n",
       "      <td>141 (32.0)</td>\n",
       "    </tr>\n",
       "    <tr>\n",
       "      <th>Medical/Surgical Intensive Care Unit (MICU/SICU)</th>\n",
       "      <td></td>\n",
       "      <td>2276 (18.3)</td>\n",
       "      <td>2206 (18.4)</td>\n",
       "      <td>70 (15.9)</td>\n",
       "    </tr>\n",
       "    <tr>\n",
       "      <th>Neuro Intermediate</th>\n",
       "      <td></td>\n",
       "      <td>88 (0.7)</td>\n",
       "      <td>88 (0.7)</td>\n",
       "      <td></td>\n",
       "    </tr>\n",
       "    <tr>\n",
       "      <th>Neuro Stepdown</th>\n",
       "      <td></td>\n",
       "      <td>49 (0.4)</td>\n",
       "      <td>49 (0.4)</td>\n",
       "      <td></td>\n",
       "    </tr>\n",
       "    <tr>\n",
       "      <th>Neuro Surgical Intensive Care Unit (Neuro SICU)</th>\n",
       "      <td></td>\n",
       "      <td>290 (2.3)</td>\n",
       "      <td>286 (2.4)</td>\n",
       "      <td>4 (0.9)</td>\n",
       "    </tr>\n",
       "    <tr>\n",
       "      <th>Surgical Intensive Care Unit (SICU)</th>\n",
       "      <td></td>\n",
       "      <td>1974 (15.9)</td>\n",
       "      <td>1911 (15.9)</td>\n",
       "      <td>63 (14.3)</td>\n",
       "    </tr>\n",
       "    <tr>\n",
       "      <th>Trauma SICU (TSICU)</th>\n",
       "      <td></td>\n",
       "      <td>1861 (15.0)</td>\n",
       "      <td>1824 (15.2)</td>\n",
       "      <td>37 (8.4)</td>\n",
       "    </tr>\n",
       "    <tr>\n",
       "      <th>creat_low_past_48hr, mean (SD)</th>\n",
       "      <th></th>\n",
       "      <td>8444</td>\n",
       "      <td>2.0 (2.3)</td>\n",
       "      <td>2.0 (2.2)</td>\n",
       "      <td>3.0 (2.7)</td>\n",
       "    </tr>\n",
       "    <tr>\n",
       "      <th rowspan=\"3\" valign=\"top\">aki_stage, n (%)</th>\n",
       "      <th>1</th>\n",
       "      <td>0</td>\n",
       "      <td>10268 (82.6)</td>\n",
       "      <td>9955 (83.0)</td>\n",
       "      <td>313 (71.1)</td>\n",
       "    </tr>\n",
       "    <tr>\n",
       "      <th>2</th>\n",
       "      <td></td>\n",
       "      <td>1542 (12.4)</td>\n",
       "      <td>1470 (12.3)</td>\n",
       "      <td>72 (16.4)</td>\n",
       "    </tr>\n",
       "    <tr>\n",
       "      <th>3</th>\n",
       "      <td></td>\n",
       "      <td>622 (5.0)</td>\n",
       "      <td>567 (4.7)</td>\n",
       "      <td>55 (12.5)</td>\n",
       "    </tr>\n",
       "    <tr>\n",
       "      <th rowspan=\"6\" valign=\"top\">race, n (%)</th>\n",
       "      <th>ASIAN</th>\n",
       "      <td>0</td>\n",
       "      <td>280 (2.3)</td>\n",
       "      <td>270 (2.3)</td>\n",
       "      <td>10 (2.3)</td>\n",
       "    </tr>\n",
       "    <tr>\n",
       "      <th>BLACK</th>\n",
       "      <td></td>\n",
       "      <td>1151 (9.3)</td>\n",
       "      <td>1110 (9.3)</td>\n",
       "      <td>41 (9.3)</td>\n",
       "    </tr>\n",
       "    <tr>\n",
       "      <th>HISPANIC</th>\n",
       "      <td></td>\n",
       "      <td>359 (2.9)</td>\n",
       "      <td>342 (2.9)</td>\n",
       "      <td>17 (3.9)</td>\n",
       "    </tr>\n",
       "    <tr>\n",
       "      <th>OTHER</th>\n",
       "      <td></td>\n",
       "      <td>749 (6.0)</td>\n",
       "      <td>716 (6.0)</td>\n",
       "      <td>33 (7.5)</td>\n",
       "    </tr>\n",
       "    <tr>\n",
       "      <th>UNKNOWN</th>\n",
       "      <td></td>\n",
       "      <td>1547 (12.4)</td>\n",
       "      <td>1472 (12.3)</td>\n",
       "      <td>75 (17.0)</td>\n",
       "    </tr>\n",
       "    <tr>\n",
       "      <th>WHITE</th>\n",
       "      <td></td>\n",
       "      <td>8346 (67.1)</td>\n",
       "      <td>8082 (67.4)</td>\n",
       "      <td>264 (60.0)</td>\n",
       "    </tr>\n",
       "    <tr>\n",
       "      <th>min_heart_rate, mean (SD)</th>\n",
       "      <th></th>\n",
       "      <td>1</td>\n",
       "      <td>64.9 (15.3)</td>\n",
       "      <td>65.1 (15.2)</td>\n",
       "      <td>59.6 (15.8)</td>\n",
       "    </tr>\n",
       "    <tr>\n",
       "      <th>min_mbp, mean (SD)</th>\n",
       "      <th></th>\n",
       "      <td>3</td>\n",
       "      <td>51.2 (15.8)</td>\n",
       "      <td>51.7 (15.6)</td>\n",
       "      <td>37.6 (16.4)</td>\n",
       "    </tr>\n",
       "    <tr>\n",
       "      <th>min_mbp_ni, mean (SD)</th>\n",
       "      <th></th>\n",
       "      <td>168</td>\n",
       "      <td>55.2 (13.5)</td>\n",
       "      <td>55.5 (13.5)</td>\n",
       "      <td>48.2 (12.6)</td>\n",
       "    </tr>\n",
       "    <tr>\n",
       "      <th>min_resp_rate, mean (SD)</th>\n",
       "      <th></th>\n",
       "      <td>2</td>\n",
       "      <td>10.6 (3.7)</td>\n",
       "      <td>10.7 (3.7)</td>\n",
       "      <td>8.0 (3.5)</td>\n",
       "    </tr>\n",
       "    <tr>\n",
       "      <th>min_spo2, mean (SD)</th>\n",
       "      <th></th>\n",
       "      <td>1</td>\n",
       "      <td>86.4 (12.0)</td>\n",
       "      <td>86.7 (11.7)</td>\n",
       "      <td>78.8 (16.6)</td>\n",
       "    </tr>\n",
       "    <tr>\n",
       "      <th>max_heart_rate, mean (SD)</th>\n",
       "      <th></th>\n",
       "      <td>1</td>\n",
       "      <td>114.0 (24.4)</td>\n",
       "      <td>113.4 (24.1)</td>\n",
       "      <td>131.8 (24.5)</td>\n",
       "    </tr>\n",
       "    <tr>\n",
       "      <th>max_mbp, mean (SD)</th>\n",
       "      <th></th>\n",
       "      <td>3</td>\n",
       "      <td>122.3 (40.4)</td>\n",
       "      <td>121.5 (39.4)</td>\n",
       "      <td>145.8 (57.6)</td>\n",
       "    </tr>\n",
       "    <tr>\n",
       "      <th>max_mbp_ni, mean (SD)</th>\n",
       "      <th></th>\n",
       "      <td>168</td>\n",
       "      <td>108.5 (23.5)</td>\n",
       "      <td>108.5 (23.4)</td>\n",
       "      <td>107.9 (24.8)</td>\n",
       "    </tr>\n",
       "    <tr>\n",
       "      <th>max_resp_rate, mean (SD)</th>\n",
       "      <th></th>\n",
       "      <td>2</td>\n",
       "      <td>32.1 (8.2)</td>\n",
       "      <td>31.9 (8.1)</td>\n",
       "      <td>38.4 (9.0)</td>\n",
       "    </tr>\n",
       "    <tr>\n",
       "      <th>max_spo2, mean (SD)</th>\n",
       "      <th></th>\n",
       "      <td>1</td>\n",
       "      <td>99.7 (1.0)</td>\n",
       "      <td>99.7 (1.0)</td>\n",
       "      <td>100.0 (0.3)</td>\n",
       "    </tr>\n",
       "    <tr>\n",
       "      <th rowspan=\"2\" valign=\"top\">ckd, n (%)</th>\n",
       "      <th>0.0</th>\n",
       "      <td>4</td>\n",
       "      <td>9105 (73.3)</td>\n",
       "      <td>8860 (73.9)</td>\n",
       "      <td>245 (55.7)</td>\n",
       "    </tr>\n",
       "    <tr>\n",
       "      <th>1.0</th>\n",
       "      <td></td>\n",
       "      <td>3323 (26.7)</td>\n",
       "      <td>3128 (26.1)</td>\n",
       "      <td>195 (44.3)</td>\n",
       "    </tr>\n",
       "    <tr>\n",
       "      <th rowspan=\"2\" valign=\"top\">dm, n (%)</th>\n",
       "      <th>0.0</th>\n",
       "      <td>4</td>\n",
       "      <td>8272 (66.6)</td>\n",
       "      <td>8006 (66.8)</td>\n",
       "      <td>266 (60.5)</td>\n",
       "    </tr>\n",
       "    <tr>\n",
       "      <th>1.0</th>\n",
       "      <td></td>\n",
       "      <td>4156 (33.4)</td>\n",
       "      <td>3982 (33.2)</td>\n",
       "      <td>174 (39.5)</td>\n",
       "    </tr>\n",
       "    <tr>\n",
       "      <th rowspan=\"2\" valign=\"top\">hypertension, n (%)</th>\n",
       "      <th>0.0</th>\n",
       "      <td>4</td>\n",
       "      <td>5523 (44.4)</td>\n",
       "      <td>5312 (44.3)</td>\n",
       "      <td>211 (48.0)</td>\n",
       "    </tr>\n",
       "    <tr>\n",
       "      <th>1.0</th>\n",
       "      <td></td>\n",
       "      <td>6905 (55.6)</td>\n",
       "      <td>6676 (55.7)</td>\n",
       "      <td>229 (52.0)</td>\n",
       "    </tr>\n",
       "    <tr>\n",
       "      <th rowspan=\"2\" valign=\"top\">heartfailure, n (%)</th>\n",
       "      <th>0.0</th>\n",
       "      <td>4</td>\n",
       "      <td>7753 (62.4)</td>\n",
       "      <td>7520 (62.7)</td>\n",
       "      <td>233 (53.0)</td>\n",
       "    </tr>\n",
       "    <tr>\n",
       "      <th>1.0</th>\n",
       "      <td></td>\n",
       "      <td>4675 (37.6)</td>\n",
       "      <td>4468 (37.3)</td>\n",
       "      <td>207 (47.0)</td>\n",
       "    </tr>\n",
       "    <tr>\n",
       "      <th>nanmin_valuenum_Albumin, mean (SD)</th>\n",
       "      <th></th>\n",
       "      <td>4493</td>\n",
       "      <td>2.8 (0.7)</td>\n",
       "      <td>2.9 (0.7)</td>\n",
       "      <td>2.4 (0.6)</td>\n",
       "    </tr>\n",
       "    <tr>\n",
       "      <th>nanmin_valuenum_Bicarbonate, mean (SD)</th>\n",
       "      <th></th>\n",
       "      <td>2</td>\n",
       "      <td>19.6 (5.0)</td>\n",
       "      <td>19.8 (5.0)</td>\n",
       "      <td>14.6 (4.6)</td>\n",
       "    </tr>\n",
       "    <tr>\n",
       "      <th>nanmin_valuenum_Calculated Bicarbonate, Whole Blood, mean (SD)</th>\n",
       "      <th></th>\n",
       "      <td>11652</td>\n",
       "      <td>22.7 (6.1)</td>\n",
       "      <td>22.7 (6.1)</td>\n",
       "      <td>21.8 (6.8)</td>\n",
       "    </tr>\n",
       "    <tr>\n",
       "      <th>nanmin_valuenum_Creatinine, mean (SD)</th>\n",
       "      <th></th>\n",
       "      <td>1</td>\n",
       "      <td>1.2 (1.1)</td>\n",
       "      <td>1.2 (1.1)</td>\n",
       "      <td>1.6 (1.1)</td>\n",
       "    </tr>\n",
       "    <tr>\n",
       "      <th>nanmin_valuenum_Hematocrit, mean (SD)</th>\n",
       "      <th></th>\n",
       "      <td>13</td>\n",
       "      <td>27.1 (6.3)</td>\n",
       "      <td>27.3 (6.3)</td>\n",
       "      <td>22.3 (4.8)</td>\n",
       "    </tr>\n",
       "    <tr>\n",
       "      <th>nanmin_valuenum_Hematocrit, Calculated, mean (SD)</th>\n",
       "      <th></th>\n",
       "      <td>7886</td>\n",
       "      <td>28.2 (6.8)</td>\n",
       "      <td>28.4 (6.8)</td>\n",
       "      <td>25.3 (6.2)</td>\n",
       "    </tr>\n",
       "    <tr>\n",
       "      <th>nanmin_valuenum_Potassium, mean (SD)</th>\n",
       "      <th></th>\n",
       "      <td>2</td>\n",
       "      <td>3.5 (0.5)</td>\n",
       "      <td>3.5 (0.5)</td>\n",
       "      <td>3.4 (0.5)</td>\n",
       "    </tr>\n",
       "    <tr>\n",
       "      <th>nanmin_valuenum_Potassium, Whole Blood, mean (SD)</th>\n",
       "      <th></th>\n",
       "      <td>6370</td>\n",
       "      <td>3.8 (0.8)</td>\n",
       "      <td>3.8 (0.8)</td>\n",
       "      <td>3.6 (0.7)</td>\n",
       "    </tr>\n",
       "    <tr>\n",
       "      <th>nanmin_valuenum_Urea Nitrogen, mean (SD)</th>\n",
       "      <th></th>\n",
       "      <td>3</td>\n",
       "      <td>19.6 (16.2)</td>\n",
       "      <td>19.6 (16.3)</td>\n",
       "      <td>20.1 (13.1)</td>\n",
       "    </tr>\n",
       "    <tr>\n",
       "      <th>nanmin_valuenum_pH, mean (SD)</th>\n",
       "      <th></th>\n",
       "      <td>2483</td>\n",
       "      <td>7.3 (0.1)</td>\n",
       "      <td>7.3 (0.1)</td>\n",
       "      <td>7.2 (0.1)</td>\n",
       "    </tr>\n",
       "    <tr>\n",
       "      <th>nanmax_valuenum_Albumin, mean (SD)</th>\n",
       "      <th></th>\n",
       "      <td>4493</td>\n",
       "      <td>3.3 (0.7)</td>\n",
       "      <td>3.3 (0.7)</td>\n",
       "      <td>3.2 (0.7)</td>\n",
       "    </tr>\n",
       "    <tr>\n",
       "      <th>nanmax_valuenum_Bicarbonate, mean (SD)</th>\n",
       "      <th></th>\n",
       "      <td>2</td>\n",
       "      <td>28.4 (5.2)</td>\n",
       "      <td>28.4 (5.2)</td>\n",
       "      <td>28.3 (4.5)</td>\n",
       "    </tr>\n",
       "    <tr>\n",
       "      <th>nanmax_valuenum_Calculated Bicarbonate, Whole Blood, mean (SD)</th>\n",
       "      <th></th>\n",
       "      <td>11652</td>\n",
       "      <td>23.3 (6.1)</td>\n",
       "      <td>23.4 (6.1)</td>\n",
       "      <td>22.8 (7.1)</td>\n",
       "    </tr>\n",
       "    <tr>\n",
       "      <th>nanmax_valuenum_Creatinine, mean (SD)</th>\n",
       "      <th></th>\n",
       "      <td>1</td>\n",
       "      <td>2.4 (2.4)</td>\n",
       "      <td>2.3 (2.3)</td>\n",
       "      <td>5.7 (2.8)</td>\n",
       "    </tr>\n",
       "    <tr>\n",
       "      <th>nanmax_valuenum_Hematocrit, mean (SD)</th>\n",
       "      <th></th>\n",
       "      <td>13</td>\n",
       "      <td>36.2 (5.8)</td>\n",
       "      <td>36.2 (5.7)</td>\n",
       "      <td>35.6 (6.3)</td>\n",
       "    </tr>\n",
       "    <tr>\n",
       "      <th>nanmax_valuenum_Hematocrit, Calculated, mean (SD)</th>\n",
       "      <th></th>\n",
       "      <td>7886</td>\n",
       "      <td>33.8 (7.6)</td>\n",
       "      <td>33.9 (7.6)</td>\n",
       "      <td>32.8 (6.2)</td>\n",
       "    </tr>\n",
       "    <tr>\n",
       "      <th>nanmax_valuenum_Potassium, mean (SD)</th>\n",
       "      <th></th>\n",
       "      <td>2</td>\n",
       "      <td>5.0 (0.9)</td>\n",
       "      <td>5.0 (0.9)</td>\n",
       "      <td>5.9 (0.9)</td>\n",
       "    </tr>\n",
       "    <tr>\n",
       "      <th>nanmax_valuenum_Potassium, Whole Blood, mean (SD)</th>\n",
       "      <th></th>\n",
       "      <td>6370</td>\n",
       "      <td>4.7 (4.4)</td>\n",
       "      <td>4.7 (4.5)</td>\n",
       "      <td>5.1 (1.0)</td>\n",
       "    </tr>\n",
       "    <tr>\n",
       "      <th>nanmax_valuenum_Urea Nitrogen, mean (SD)</th>\n",
       "      <th></th>\n",
       "      <td>3</td>\n",
       "      <td>44.7 (32.9)</td>\n",
       "      <td>43.1 (31.6)</td>\n",
       "      <td>87.5 (38.7)</td>\n",
       "    </tr>\n",
       "    <tr>\n",
       "      <th>nanmax_valuenum_pH, mean (SD)</th>\n",
       "      <th></th>\n",
       "      <td>2483</td>\n",
       "      <td>7.4 (0.1)</td>\n",
       "      <td>7.4 (0.1)</td>\n",
       "      <td>7.5 (0.1)</td>\n",
       "    </tr>\n",
       "    <tr>\n",
       "      <th rowspan=\"2\" valign=\"top\">sepsis3, n (%)</th>\n",
       "      <th>False</th>\n",
       "      <td>0</td>\n",
       "      <td>5124 (41.2)</td>\n",
       "      <td>5090 (42.4)</td>\n",
       "      <td>34 (7.7)</td>\n",
       "    </tr>\n",
       "    <tr>\n",
       "      <th>True</th>\n",
       "      <td></td>\n",
       "      <td>7308 (58.8)</td>\n",
       "      <td>6902 (57.6)</td>\n",
       "      <td>406 (92.3)</td>\n",
       "    </tr>\n",
       "    <tr>\n",
       "      <th>sofa_24hours, mean (SD)</th>\n",
       "      <th></th>\n",
       "      <td>0</td>\n",
       "      <td>2.2 (2.5)</td>\n",
       "      <td>2.2 (2.5)</td>\n",
       "      <td>4.1 (3.3)</td>\n",
       "    </tr>\n",
       "    <tr>\n",
       "      <th rowspan=\"2\" valign=\"top\">antibiotic, n (%)</th>\n",
       "      <th>0.0</th>\n",
       "      <td>0</td>\n",
       "      <td>7436 (59.8)</td>\n",
       "      <td>7284 (60.7)</td>\n",
       "      <td>152 (34.5)</td>\n",
       "    </tr>\n",
       "    <tr>\n",
       "      <th>1.0</th>\n",
       "      <td></td>\n",
       "      <td>4996 (40.2)</td>\n",
       "      <td>4708 (39.3)</td>\n",
       "      <td>288 (65.5)</td>\n",
       "    </tr>\n",
       "    <tr>\n",
       "      <th rowspan=\"2\" valign=\"top\">gender, n (%)</th>\n",
       "      <th>F</th>\n",
       "      <td>0</td>\n",
       "      <td>5581 (44.9)</td>\n",
       "      <td>5418 (45.2)</td>\n",
       "      <td>163 (37.0)</td>\n",
       "    </tr>\n",
       "    <tr>\n",
       "      <th>M</th>\n",
       "      <td></td>\n",
       "      <td>6851 (55.1)</td>\n",
       "      <td>6574 (54.8)</td>\n",
       "      <td>277 (63.0)</td>\n",
       "    </tr>\n",
       "    <tr>\n",
       "      <th>BMI, mean (SD)</th>\n",
       "      <th></th>\n",
       "      <td>5807</td>\n",
       "      <td>0.3 (0.2)</td>\n",
       "      <td>0.3 (0.2)</td>\n",
       "      <td>0.3 (0.2)</td>\n",
       "    </tr>\n",
       "  </tbody>\n",
       "</table>\n",
       "</div><br />"
      ],
      "text/plain": [
       "                                                                                                                Grouped by crrt                                          \n",
       "                                                                                                                Missing         Overall       0.0           1.0          \n",
       "n                                                                                                                                       12432         11992           440\n",
       "first_careunit, n (%)                                          Cardiac Vascular Intensive Care Unit (CVICU)          0            1515 (12.2)   1443 (12.0)     72 (16.4)\n",
       "                                                               Coronary Care Unit (CCU)                                           1510 (12.1)   1457 (12.1)     53 (12.0)\n",
       "                                                               Medical Intensive Care Unit (MICU)                                 2869 (23.1)   2728 (22.7)    141 (32.0)\n",
       "                                                               Medical/Surgical Intensive Care Unit (MICU/SICU)                   2276 (18.3)   2206 (18.4)     70 (15.9)\n",
       "                                                               Neuro Intermediate                                                    88 (0.7)      88 (0.7)              \n",
       "                                                               Neuro Stepdown                                                        49 (0.4)      49 (0.4)              \n",
       "                                                               Neuro Surgical Intensive Care Unit (Neuro SICU)                      290 (2.3)     286 (2.4)       4 (0.9)\n",
       "                                                               Surgical Intensive Care Unit (SICU)                                1974 (15.9)   1911 (15.9)     63 (14.3)\n",
       "                                                               Trauma SICU (TSICU)                                                1861 (15.0)   1824 (15.2)      37 (8.4)\n",
       "creat_low_past_48hr, mean (SD)                                                                                    8444              2.0 (2.3)     2.0 (2.2)     3.0 (2.7)\n",
       "aki_stage, n (%)                                               1                                                     0           10268 (82.6)   9955 (83.0)    313 (71.1)\n",
       "                                                               2                                                                  1542 (12.4)   1470 (12.3)     72 (16.4)\n",
       "                                                               3                                                                    622 (5.0)     567 (4.7)     55 (12.5)\n",
       "race, n (%)                                                    ASIAN                                                 0              280 (2.3)     270 (2.3)      10 (2.3)\n",
       "                                                               BLACK                                                               1151 (9.3)    1110 (9.3)      41 (9.3)\n",
       "                                                               HISPANIC                                                             359 (2.9)     342 (2.9)      17 (3.9)\n",
       "                                                               OTHER                                                                749 (6.0)     716 (6.0)      33 (7.5)\n",
       "                                                               UNKNOWN                                                            1547 (12.4)   1472 (12.3)     75 (17.0)\n",
       "                                                               WHITE                                                              8346 (67.1)   8082 (67.4)    264 (60.0)\n",
       "min_heart_rate, mean (SD)                                                                                            1            64.9 (15.3)   65.1 (15.2)   59.6 (15.8)\n",
       "min_mbp, mean (SD)                                                                                                   3            51.2 (15.8)   51.7 (15.6)   37.6 (16.4)\n",
       "min_mbp_ni, mean (SD)                                                                                              168            55.2 (13.5)   55.5 (13.5)   48.2 (12.6)\n",
       "min_resp_rate, mean (SD)                                                                                             2             10.6 (3.7)    10.7 (3.7)     8.0 (3.5)\n",
       "min_spo2, mean (SD)                                                                                                  1            86.4 (12.0)   86.7 (11.7)   78.8 (16.6)\n",
       "max_heart_rate, mean (SD)                                                                                            1           114.0 (24.4)  113.4 (24.1)  131.8 (24.5)\n",
       "max_mbp, mean (SD)                                                                                                   3           122.3 (40.4)  121.5 (39.4)  145.8 (57.6)\n",
       "max_mbp_ni, mean (SD)                                                                                              168           108.5 (23.5)  108.5 (23.4)  107.9 (24.8)\n",
       "max_resp_rate, mean (SD)                                                                                             2             32.1 (8.2)    31.9 (8.1)    38.4 (9.0)\n",
       "max_spo2, mean (SD)                                                                                                  1             99.7 (1.0)    99.7 (1.0)   100.0 (0.3)\n",
       "ckd, n (%)                                                     0.0                                                   4            9105 (73.3)   8860 (73.9)    245 (55.7)\n",
       "                                                               1.0                                                                3323 (26.7)   3128 (26.1)    195 (44.3)\n",
       "dm, n (%)                                                      0.0                                                   4            8272 (66.6)   8006 (66.8)    266 (60.5)\n",
       "                                                               1.0                                                                4156 (33.4)   3982 (33.2)    174 (39.5)\n",
       "hypertension, n (%)                                            0.0                                                   4            5523 (44.4)   5312 (44.3)    211 (48.0)\n",
       "                                                               1.0                                                                6905 (55.6)   6676 (55.7)    229 (52.0)\n",
       "heartfailure, n (%)                                            0.0                                                   4            7753 (62.4)   7520 (62.7)    233 (53.0)\n",
       "                                                               1.0                                                                4675 (37.6)   4468 (37.3)    207 (47.0)\n",
       "nanmin_valuenum_Albumin, mean (SD)                                                                                4493              2.8 (0.7)     2.9 (0.7)     2.4 (0.6)\n",
       "nanmin_valuenum_Bicarbonate, mean (SD)                                                                               2             19.6 (5.0)    19.8 (5.0)    14.6 (4.6)\n",
       "nanmin_valuenum_Calculated Bicarbonate, Whole Blood, mean (SD)                                                   11652             22.7 (6.1)    22.7 (6.1)    21.8 (6.8)\n",
       "nanmin_valuenum_Creatinine, mean (SD)                                                                                1              1.2 (1.1)     1.2 (1.1)     1.6 (1.1)\n",
       "nanmin_valuenum_Hematocrit, mean (SD)                                                                               13             27.1 (6.3)    27.3 (6.3)    22.3 (4.8)\n",
       "nanmin_valuenum_Hematocrit, Calculated, mean (SD)                                                                 7886             28.2 (6.8)    28.4 (6.8)    25.3 (6.2)\n",
       "nanmin_valuenum_Potassium, mean (SD)                                                                                 2              3.5 (0.5)     3.5 (0.5)     3.4 (0.5)\n",
       "nanmin_valuenum_Potassium, Whole Blood, mean (SD)                                                                 6370              3.8 (0.8)     3.8 (0.8)     3.6 (0.7)\n",
       "nanmin_valuenum_Urea Nitrogen, mean (SD)                                                                             3            19.6 (16.2)   19.6 (16.3)   20.1 (13.1)\n",
       "nanmin_valuenum_pH, mean (SD)                                                                                     2483              7.3 (0.1)     7.3 (0.1)     7.2 (0.1)\n",
       "nanmax_valuenum_Albumin, mean (SD)                                                                                4493              3.3 (0.7)     3.3 (0.7)     3.2 (0.7)\n",
       "nanmax_valuenum_Bicarbonate, mean (SD)                                                                               2             28.4 (5.2)    28.4 (5.2)    28.3 (4.5)\n",
       "nanmax_valuenum_Calculated Bicarbonate, Whole Blood, mean (SD)                                                   11652             23.3 (6.1)    23.4 (6.1)    22.8 (7.1)\n",
       "nanmax_valuenum_Creatinine, mean (SD)                                                                                1              2.4 (2.4)     2.3 (2.3)     5.7 (2.8)\n",
       "nanmax_valuenum_Hematocrit, mean (SD)                                                                               13             36.2 (5.8)    36.2 (5.7)    35.6 (6.3)\n",
       "nanmax_valuenum_Hematocrit, Calculated, mean (SD)                                                                 7886             33.8 (7.6)    33.9 (7.6)    32.8 (6.2)\n",
       "nanmax_valuenum_Potassium, mean (SD)                                                                                 2              5.0 (0.9)     5.0 (0.9)     5.9 (0.9)\n",
       "nanmax_valuenum_Potassium, Whole Blood, mean (SD)                                                                 6370              4.7 (4.4)     4.7 (4.5)     5.1 (1.0)\n",
       "nanmax_valuenum_Urea Nitrogen, mean (SD)                                                                             3            44.7 (32.9)   43.1 (31.6)   87.5 (38.7)\n",
       "nanmax_valuenum_pH, mean (SD)                                                                                     2483              7.4 (0.1)     7.4 (0.1)     7.5 (0.1)\n",
       "sepsis3, n (%)                                                 False                                                 0            5124 (41.2)   5090 (42.4)      34 (7.7)\n",
       "                                                               True                                                               7308 (58.8)   6902 (57.6)    406 (92.3)\n",
       "sofa_24hours, mean (SD)                                                                                              0              2.2 (2.5)     2.2 (2.5)     4.1 (3.3)\n",
       "antibiotic, n (%)                                              0.0                                                   0            7436 (59.8)   7284 (60.7)    152 (34.5)\n",
       "                                                               1.0                                                                4996 (40.2)   4708 (39.3)    288 (65.5)\n",
       "gender, n (%)                                                  F                                                     0            5581 (44.9)   5418 (45.2)    163 (37.0)\n",
       "                                                               M                                                                  6851 (55.1)   6574 (54.8)    277 (63.0)\n",
       "BMI, mean (SD)                                                                                                    5807              0.3 (0.2)     0.3 (0.2)     0.3 (0.2)"
      ]
     },
     "execution_count": 92,
     "metadata": {},
     "output_type": "execute_result"
    }
   ],
   "source": [
    "tab"
   ]
  },
  {
   "cell_type": "code",
   "execution_count": 93,
   "id": "3f54d835",
   "metadata": {},
   "outputs": [],
   "source": [
    "tab.to_csv('tableone_full.csv')"
   ]
  },
  {
   "cell_type": "markdown",
   "id": "a4012404",
   "metadata": {},
   "source": [
    "## Model Training"
   ]
  },
  {
   "cell_type": "markdown",
   "id": "fbea14bd",
   "metadata": {},
   "source": [
    "#### Baseline model\n",
    "No strategy to handle class imbalance"
   ]
  },
  {
   "cell_type": "code",
   "execution_count": 94,
   "id": "6358029a",
   "metadata": {},
   "outputs": [],
   "source": [
    "data = cohort_final.copy()"
   ]
  },
  {
   "cell_type": "code",
   "execution_count": 95,
   "id": "0cbfd1dd",
   "metadata": {},
   "outputs": [],
   "source": [
    "# Select variables for the model.\n",
    "columns = [\n",
    " 'min_spo2',\n",
    " 'max_spo2',\n",
    "'nanmin_valuenum_Albumin',\n",
    " 'nanmin_valuenum_Creatinine',\n",
    " 'nanmin_valuenum_Hematocrit',\n",
    " 'nanmin_valuenum_Potassium',\n",
    " 'nanmin_valuenum_Urea Nitrogen',\n",
    " 'nanmin_valuenum_pH',\n",
    " 'nanmax_valuenum_Albumin',\n",
    " 'nanmax_valuenum_Creatinine',\n",
    " 'nanmax_valuenum_Hematocrit',\n",
    " 'nanmax_valuenum_Potassium',\n",
    " 'nanmax_valuenum_Urea Nitrogen',\n",
    " 'nanmax_valuenum_pH',\n",
    "'ckd' ,                                                     \n",
    "  'dm',                                                    \n",
    " 'hypertension',                                     \n",
    " 'heartfailure',\n",
    "    'race', 'gender', 'BMI'\n",
    "]\n",
    "categorical = ['ckd' ,                                                     \n",
    "  'dm',                                                    \n",
    " 'hypertension',                                     \n",
    " 'heartfailure',\n",
    "'race','gender'\n",
    "]\n",
    "\n",
    "numerical = [x for x in columns if x not in categorical]"
   ]
  },
  {
   "cell_type": "code",
   "execution_count": 96,
   "id": "70c02f8a",
   "metadata": {},
   "outputs": [
    {
     "data": {
      "text/plain": [
       "21"
      ]
     },
     "execution_count": 96,
     "metadata": {},
     "output_type": "execute_result"
    }
   ],
   "source": [
    "len(columns)"
   ]
  },
  {
   "cell_type": "code",
   "execution_count": 97,
   "id": "fc6f9361",
   "metadata": {},
   "outputs": [],
   "source": [
    "data = data.dropna(subset=columns, how='any')"
   ]
  },
  {
   "cell_type": "code",
   "execution_count": 98,
   "id": "4aaada91",
   "metadata": {},
   "outputs": [
    {
     "data": {
      "text/html": [
       "<div>\n",
       "<style scoped>\n",
       "    .dataframe tbody tr th:only-of-type {\n",
       "        vertical-align: middle;\n",
       "    }\n",
       "\n",
       "    .dataframe tbody tr th {\n",
       "        vertical-align: top;\n",
       "    }\n",
       "\n",
       "    .dataframe thead th {\n",
       "        text-align: right;\n",
       "    }\n",
       "</style>\n",
       "<table border=\"1\" class=\"dataframe\">\n",
       "  <thead>\n",
       "    <tr style=\"text-align: left;\">\n",
       "      <th></th>\n",
       "      <th>subject_id</th>\n",
       "      <th>hadm_id</th>\n",
       "      <th>stay_id</th>\n",
       "      <th>charttime</th>\n",
       "      <th>creat_low_past_7day</th>\n",
       "      <th>creat_low_past_48hr</th>\n",
       "      <th>creat</th>\n",
       "      <th>aki_stage_creat</th>\n",
       "      <th>uo_rt_6hr</th>\n",
       "      <th>uo_rt_12hr</th>\n",
       "      <th>uo_rt_24hr</th>\n",
       "      <th>aki_stage_uo</th>\n",
       "      <th>aki_stage_crrt</th>\n",
       "      <th>aki_stage</th>\n",
       "      <th>aki_stage_smoothed</th>\n",
       "      <th>first_careunit</th>\n",
       "      <th>last_careunit</th>\n",
       "      <th>intime</th>\n",
       "      <th>outtime</th>\n",
       "      <th>los</th>\n",
       "      <th>delta_hours_aki</th>\n",
       "      <th>nanmin_valuenum_Albumin</th>\n",
       "      <th>nanmin_valuenum_Bicarbonate</th>\n",
       "      <th>nanmin_valuenum_Calculated Bicarbonate, Whole Blood</th>\n",
       "      <th>nanmin_valuenum_Creatinine</th>\n",
       "      <th>nanmin_valuenum_Hematocrit</th>\n",
       "      <th>nanmin_valuenum_Hematocrit, Calculated</th>\n",
       "      <th>nanmin_valuenum_Potassium</th>\n",
       "      <th>nanmin_valuenum_Potassium, Whole Blood</th>\n",
       "      <th>nanmin_valuenum_Urea Nitrogen</th>\n",
       "      <th>nanmin_valuenum_pH</th>\n",
       "      <th>nanmax_valuenum_Albumin</th>\n",
       "      <th>nanmax_valuenum_Bicarbonate</th>\n",
       "      <th>nanmax_valuenum_Calculated Bicarbonate, Whole Blood</th>\n",
       "      <th>nanmax_valuenum_Creatinine</th>\n",
       "      <th>nanmax_valuenum_Hematocrit</th>\n",
       "      <th>nanmax_valuenum_Hematocrit, Calculated</th>\n",
       "      <th>nanmax_valuenum_Potassium</th>\n",
       "      <th>nanmax_valuenum_Potassium, Whole Blood</th>\n",
       "      <th>nanmax_valuenum_Urea Nitrogen</th>\n",
       "      <th>nanmax_valuenum_pH</th>\n",
       "      <th>hr</th>\n",
       "      <th>starttime</th>\n",
       "      <th>endtime</th>\n",
       "      <th>sofa_24hours</th>\n",
       "      <th>min_hour</th>\n",
       "      <th>antibiotic</th>\n",
       "      <th>sepsis3</th>\n",
       "      <th>min_heart_rate</th>\n",
       "      <th>min_mbp</th>\n",
       "      <th>min_mbp_ni</th>\n",
       "      <th>min_resp_rate</th>\n",
       "      <th>min_spo2</th>\n",
       "      <th>max_heart_rate</th>\n",
       "      <th>max_mbp</th>\n",
       "      <th>max_mbp_ni</th>\n",
       "      <th>max_resp_rate</th>\n",
       "      <th>max_spo2</th>\n",
       "      <th>ckd</th>\n",
       "      <th>dm</th>\n",
       "      <th>hypertension</th>\n",
       "      <th>heartfailure</th>\n",
       "      <th>crrt</th>\n",
       "      <th>time_delta</th>\n",
       "      <th>gender</th>\n",
       "      <th>anchor_age</th>\n",
       "      <th>anchor_year</th>\n",
       "      <th>anchor_year_group</th>\n",
       "      <th>dod</th>\n",
       "      <th>admittime</th>\n",
       "      <th>dischtime</th>\n",
       "      <th>deathtime</th>\n",
       "      <th>admission_type</th>\n",
       "      <th>admit_provider_id</th>\n",
       "      <th>admission_location</th>\n",
       "      <th>discharge_location</th>\n",
       "      <th>insurance</th>\n",
       "      <th>language</th>\n",
       "      <th>marital_status</th>\n",
       "      <th>race</th>\n",
       "      <th>edregtime</th>\n",
       "      <th>edouttime</th>\n",
       "      <th>hospital_expire_flag</th>\n",
       "      <th>BMI</th>\n",
       "    </tr>\n",
       "  </thead>\n",
       "  <tbody>\n",
       "    <tr>\n",
       "      <th>0</th>\n",
       "      <td>11818034</td>\n",
       "      <td>22420026</td>\n",
       "      <td>30463812</td>\n",
       "      <td>2185-05-10 06:49:00</td>\n",
       "      <td>3.4</td>\n",
       "      <td>3.4</td>\n",
       "      <td>3.7</td>\n",
       "      <td>1</td>\n",
       "      <td>None</td>\n",
       "      <td>None</td>\n",
       "      <td>None</td>\n",
       "      <td>&lt;NA&gt;</td>\n",
       "      <td>&lt;NA&gt;</td>\n",
       "      <td>1</td>\n",
       "      <td>1</td>\n",
       "      <td>Medical Intensive Care Unit (MICU)</td>\n",
       "      <td>Medical Intensive Care Unit (MICU)</td>\n",
       "      <td>2185-05-09 23:20:28</td>\n",
       "      <td>2185-05-29 17:03:14</td>\n",
       "      <td>19.73803</td>\n",
       "      <td>7.47556</td>\n",
       "      <td>1.6</td>\n",
       "      <td>11.0</td>\n",
       "      <td>14.0</td>\n",
       "      <td>1.0</td>\n",
       "      <td>19.8</td>\n",
       "      <td>NaN</td>\n",
       "      <td>2.5</td>\n",
       "      <td>3.8</td>\n",
       "      <td>12.0</td>\n",
       "      <td>7.16</td>\n",
       "      <td>3.9</td>\n",
       "      <td>27.0</td>\n",
       "      <td>14.0</td>\n",
       "      <td>4.9</td>\n",
       "      <td>35.0</td>\n",
       "      <td>NaN</td>\n",
       "      <td>5.2</td>\n",
       "      <td>4.8</td>\n",
       "      <td>117.0</td>\n",
       "      <td>7.54</td>\n",
       "      <td>0</td>\n",
       "      <td>2185-05-09 23:00:00</td>\n",
       "      <td>2185-05-10 00:00:00</td>\n",
       "      <td>1.0</td>\n",
       "      <td>0</td>\n",
       "      <td>1.0</td>\n",
       "      <td>True</td>\n",
       "      <td>66.0</td>\n",
       "      <td>51.0</td>\n",
       "      <td>51.0</td>\n",
       "      <td>10.0</td>\n",
       "      <td>80.0</td>\n",
       "      <td>142.0</td>\n",
       "      <td>126.0</td>\n",
       "      <td>94.0</td>\n",
       "      <td>50.0</td>\n",
       "      <td>100.0</td>\n",
       "      <td>0.0</td>\n",
       "      <td>0.0</td>\n",
       "      <td>0.0</td>\n",
       "      <td>0.0</td>\n",
       "      <td>1.0</td>\n",
       "      <td>37.17556</td>\n",
       "      <td>F</td>\n",
       "      <td>52</td>\n",
       "      <td>2185</td>\n",
       "      <td>2008 - 2010</td>\n",
       "      <td>NaT</td>\n",
       "      <td>2185-05-09 23:19:00</td>\n",
       "      <td>2185-06-03 18:45:00</td>\n",
       "      <td>NaT</td>\n",
       "      <td>URGENT</td>\n",
       "      <td>P46LSC</td>\n",
       "      <td>TRANSFER FROM HOSPITAL</td>\n",
       "      <td>REHAB</td>\n",
       "      <td>Other</td>\n",
       "      <td>ENGLISH</td>\n",
       "      <td>MARRIED</td>\n",
       "      <td>WHITE</td>\n",
       "      <td>NaT</td>\n",
       "      <td>NaT</td>\n",
       "      <td>0</td>\n",
       "      <td>0.06511</td>\n",
       "    </tr>\n",
       "    <tr>\n",
       "      <th>1</th>\n",
       "      <td>10624561</td>\n",
       "      <td>26744064</td>\n",
       "      <td>30822652</td>\n",
       "      <td>2155-02-19 08:30:00</td>\n",
       "      <td>0.4</td>\n",
       "      <td>0.4</td>\n",
       "      <td>1.0</td>\n",
       "      <td>2</td>\n",
       "      <td>0.965700000</td>\n",
       "      <td>1.087500000</td>\n",
       "      <td>None</td>\n",
       "      <td>0</td>\n",
       "      <td>&lt;NA&gt;</td>\n",
       "      <td>2</td>\n",
       "      <td>2</td>\n",
       "      <td>Coronary Care Unit (CCU)</td>\n",
       "      <td>Medical Intensive Care Unit (MICU)</td>\n",
       "      <td>2155-02-18 20:35:00</td>\n",
       "      <td>2155-03-07 23:55:12</td>\n",
       "      <td>17.13903</td>\n",
       "      <td>11.91667</td>\n",
       "      <td>2.6</td>\n",
       "      <td>19.0</td>\n",
       "      <td>NaN</td>\n",
       "      <td>0.4</td>\n",
       "      <td>23.2</td>\n",
       "      <td>20.0</td>\n",
       "      <td>2.9</td>\n",
       "      <td>3.4</td>\n",
       "      <td>15.0</td>\n",
       "      <td>7.27</td>\n",
       "      <td>4.5</td>\n",
       "      <td>31.0</td>\n",
       "      <td>NaN</td>\n",
       "      <td>1.7</td>\n",
       "      <td>45.7</td>\n",
       "      <td>31.0</td>\n",
       "      <td>5.2</td>\n",
       "      <td>5.3</td>\n",
       "      <td>33.0</td>\n",
       "      <td>7.47</td>\n",
       "      <td>0</td>\n",
       "      <td>2155-02-18 20:00:00</td>\n",
       "      <td>2155-02-18 21:00:00</td>\n",
       "      <td>0.0</td>\n",
       "      <td>0</td>\n",
       "      <td>0.0</td>\n",
       "      <td>True</td>\n",
       "      <td>41.0</td>\n",
       "      <td>62.0</td>\n",
       "      <td>66.0</td>\n",
       "      <td>1.0</td>\n",
       "      <td>82.0</td>\n",
       "      <td>117.0</td>\n",
       "      <td>178.0</td>\n",
       "      <td>146.0</td>\n",
       "      <td>42.0</td>\n",
       "      <td>100.0</td>\n",
       "      <td>0.0</td>\n",
       "      <td>0.0</td>\n",
       "      <td>1.0</td>\n",
       "      <td>0.0</td>\n",
       "      <td>0.0</td>\n",
       "      <td>NaN</td>\n",
       "      <td>M</td>\n",
       "      <td>47</td>\n",
       "      <td>2155</td>\n",
       "      <td>2011 - 2013</td>\n",
       "      <td>NaT</td>\n",
       "      <td>2155-02-18 18:54:00</td>\n",
       "      <td>2155-03-20 18:58:00</td>\n",
       "      <td>NaT</td>\n",
       "      <td>EW EMER.</td>\n",
       "      <td>P46WR5</td>\n",
       "      <td>EMERGENCY ROOM</td>\n",
       "      <td>HOME HEALTH CARE</td>\n",
       "      <td>Other</td>\n",
       "      <td>ENGLISH</td>\n",
       "      <td>DIVORCED</td>\n",
       "      <td>WHITE</td>\n",
       "      <td>2155-02-18 17:33:00</td>\n",
       "      <td>2155-02-18 20:35:00</td>\n",
       "      <td>0</td>\n",
       "      <td>0.26482</td>\n",
       "    </tr>\n",
       "    <tr>\n",
       "      <th>2</th>\n",
       "      <td>11412254</td>\n",
       "      <td>22069290</td>\n",
       "      <td>36715122</td>\n",
       "      <td>2175-11-20 05:25:00</td>\n",
       "      <td>1.9</td>\n",
       "      <td>1.9</td>\n",
       "      <td>2.2</td>\n",
       "      <td>1</td>\n",
       "      <td>None</td>\n",
       "      <td>None</td>\n",
       "      <td>None</td>\n",
       "      <td>&lt;NA&gt;</td>\n",
       "      <td>&lt;NA&gt;</td>\n",
       "      <td>1</td>\n",
       "      <td>1</td>\n",
       "      <td>Surgical Intensive Care Unit (SICU)</td>\n",
       "      <td>Coronary Care Unit (CCU)</td>\n",
       "      <td>2175-11-20 17:20:39</td>\n",
       "      <td>2175-11-27 14:22:50</td>\n",
       "      <td>6.87652</td>\n",
       "      <td>-11.92750</td>\n",
       "      <td>3.3</td>\n",
       "      <td>19.0</td>\n",
       "      <td>NaN</td>\n",
       "      <td>1.9</td>\n",
       "      <td>26.3</td>\n",
       "      <td>NaN</td>\n",
       "      <td>3.3</td>\n",
       "      <td>4.0</td>\n",
       "      <td>41.0</td>\n",
       "      <td>7.34</td>\n",
       "      <td>3.3</td>\n",
       "      <td>28.0</td>\n",
       "      <td>NaN</td>\n",
       "      <td>3.0</td>\n",
       "      <td>30.6</td>\n",
       "      <td>NaN</td>\n",
       "      <td>4.5</td>\n",
       "      <td>4.0</td>\n",
       "      <td>66.0</td>\n",
       "      <td>7.54</td>\n",
       "      <td>0</td>\n",
       "      <td>2175-11-20 17:00:00</td>\n",
       "      <td>2175-11-20 18:00:00</td>\n",
       "      <td>2.0</td>\n",
       "      <td>0</td>\n",
       "      <td>0.0</td>\n",
       "      <td>True</td>\n",
       "      <td>76.0</td>\n",
       "      <td>44.0</td>\n",
       "      <td>44.0</td>\n",
       "      <td>16.0</td>\n",
       "      <td>86.0</td>\n",
       "      <td>120.0</td>\n",
       "      <td>117.0</td>\n",
       "      <td>117.0</td>\n",
       "      <td>34.0</td>\n",
       "      <td>100.0</td>\n",
       "      <td>1.0</td>\n",
       "      <td>0.0</td>\n",
       "      <td>1.0</td>\n",
       "      <td>1.0</td>\n",
       "      <td>0.0</td>\n",
       "      <td>NaN</td>\n",
       "      <td>M</td>\n",
       "      <td>79</td>\n",
       "      <td>2175</td>\n",
       "      <td>2011 - 2013</td>\n",
       "      <td>2175-12-21</td>\n",
       "      <td>2175-11-17 17:24:00</td>\n",
       "      <td>2175-11-30 15:16:00</td>\n",
       "      <td>NaT</td>\n",
       "      <td>URGENT</td>\n",
       "      <td>P39C1O</td>\n",
       "      <td>TRANSFER FROM HOSPITAL</td>\n",
       "      <td>SKILLED NURSING FACILITY</td>\n",
       "      <td>Other</td>\n",
       "      <td>ENGLISH</td>\n",
       "      <td>SINGLE</td>\n",
       "      <td>OTHER</td>\n",
       "      <td>NaT</td>\n",
       "      <td>NaT</td>\n",
       "      <td>0</td>\n",
       "      <td>0.12786</td>\n",
       "    </tr>\n",
       "    <tr>\n",
       "      <th>3</th>\n",
       "      <td>11501310</td>\n",
       "      <td>27305247</td>\n",
       "      <td>30983281</td>\n",
       "      <td>2166-12-29 22:28:00</td>\n",
       "      <td>0.8</td>\n",
       "      <td>0.9</td>\n",
       "      <td>1.3</td>\n",
       "      <td>1</td>\n",
       "      <td>None</td>\n",
       "      <td>None</td>\n",
       "      <td>None</td>\n",
       "      <td>&lt;NA&gt;</td>\n",
       "      <td>&lt;NA&gt;</td>\n",
       "      <td>1</td>\n",
       "      <td>1</td>\n",
       "      <td>Cardiac Vascular Intensive Care Unit (CVICU)</td>\n",
       "      <td>Cardiac Vascular Intensive Care Unit (CVICU)</td>\n",
       "      <td>2166-12-31 10:03:45</td>\n",
       "      <td>2167-01-26 18:08:36</td>\n",
       "      <td>26.33670</td>\n",
       "      <td>-35.59583</td>\n",
       "      <td>3.0</td>\n",
       "      <td>17.0</td>\n",
       "      <td>NaN</td>\n",
       "      <td>0.8</td>\n",
       "      <td>20.7</td>\n",
       "      <td>22.0</td>\n",
       "      <td>2.8</td>\n",
       "      <td>2.9</td>\n",
       "      <td>9.0</td>\n",
       "      <td>7.24</td>\n",
       "      <td>4.0</td>\n",
       "      <td>40.0</td>\n",
       "      <td>NaN</td>\n",
       "      <td>4.0</td>\n",
       "      <td>37.2</td>\n",
       "      <td>35.0</td>\n",
       "      <td>5.9</td>\n",
       "      <td>4.8</td>\n",
       "      <td>57.0</td>\n",
       "      <td>7.49</td>\n",
       "      <td>0</td>\n",
       "      <td>2166-12-31 13:00:00</td>\n",
       "      <td>2166-12-31 14:00:00</td>\n",
       "      <td>5.0</td>\n",
       "      <td>0</td>\n",
       "      <td>1.0</td>\n",
       "      <td>True</td>\n",
       "      <td>75.0</td>\n",
       "      <td>6.0</td>\n",
       "      <td>46.0</td>\n",
       "      <td>3.0</td>\n",
       "      <td>76.0</td>\n",
       "      <td>137.0</td>\n",
       "      <td>214.0</td>\n",
       "      <td>86.0</td>\n",
       "      <td>63.0</td>\n",
       "      <td>100.0</td>\n",
       "      <td>0.0</td>\n",
       "      <td>1.0</td>\n",
       "      <td>0.0</td>\n",
       "      <td>1.0</td>\n",
       "      <td>1.0</td>\n",
       "      <td>105.93750</td>\n",
       "      <td>M</td>\n",
       "      <td>48</td>\n",
       "      <td>2165</td>\n",
       "      <td>2017 - 2019</td>\n",
       "      <td>NaT</td>\n",
       "      <td>2166-12-24 20:38:00</td>\n",
       "      <td>2167-02-14 17:08:00</td>\n",
       "      <td>NaT</td>\n",
       "      <td>DIRECT EMER.</td>\n",
       "      <td>P434W4</td>\n",
       "      <td>PHYSICIAN REFERRAL</td>\n",
       "      <td>HOME HEALTH CARE</td>\n",
       "      <td>Other</td>\n",
       "      <td>ENGLISH</td>\n",
       "      <td>MARRIED</td>\n",
       "      <td>WHITE</td>\n",
       "      <td>NaT</td>\n",
       "      <td>NaT</td>\n",
       "      <td>0</td>\n",
       "      <td>0.58778</td>\n",
       "    </tr>\n",
       "    <tr>\n",
       "      <th>4</th>\n",
       "      <td>18969221</td>\n",
       "      <td>26602659</td>\n",
       "      <td>37667477</td>\n",
       "      <td>2182-07-15 23:52:00</td>\n",
       "      <td>1.0</td>\n",
       "      <td>1.0</td>\n",
       "      <td>1.3</td>\n",
       "      <td>1</td>\n",
       "      <td>None</td>\n",
       "      <td>None</td>\n",
       "      <td>None</td>\n",
       "      <td>&lt;NA&gt;</td>\n",
       "      <td>&lt;NA&gt;</td>\n",
       "      <td>1</td>\n",
       "      <td>1</td>\n",
       "      <td>Cardiac Vascular Intensive Care Unit (CVICU)</td>\n",
       "      <td>Cardiac Vascular Intensive Care Unit (CVICU)</td>\n",
       "      <td>2182-07-15 12:49:19</td>\n",
       "      <td>2182-09-11 15:07:42</td>\n",
       "      <td>58.09610</td>\n",
       "      <td>11.04472</td>\n",
       "      <td>1.7</td>\n",
       "      <td>14.0</td>\n",
       "      <td>NaN</td>\n",
       "      <td>0.8</td>\n",
       "      <td>17.1</td>\n",
       "      <td>19.0</td>\n",
       "      <td>3.1</td>\n",
       "      <td>3.2</td>\n",
       "      <td>11.0</td>\n",
       "      <td>7.15</td>\n",
       "      <td>3.8</td>\n",
       "      <td>32.0</td>\n",
       "      <td>NaN</td>\n",
       "      <td>3.9</td>\n",
       "      <td>34.7</td>\n",
       "      <td>34.0</td>\n",
       "      <td>5.6</td>\n",
       "      <td>6.7</td>\n",
       "      <td>115.0</td>\n",
       "      <td>7.52</td>\n",
       "      <td>0</td>\n",
       "      <td>2182-07-15 20:00:00</td>\n",
       "      <td>2182-07-15 21:00:00</td>\n",
       "      <td>3.0</td>\n",
       "      <td>0</td>\n",
       "      <td>0.0</td>\n",
       "      <td>True</td>\n",
       "      <td>35.0</td>\n",
       "      <td>32.5</td>\n",
       "      <td>43.0</td>\n",
       "      <td>8.0</td>\n",
       "      <td>55.0</td>\n",
       "      <td>153.0</td>\n",
       "      <td>253.0</td>\n",
       "      <td>119.0</td>\n",
       "      <td>41.0</td>\n",
       "      <td>100.0</td>\n",
       "      <td>0.0</td>\n",
       "      <td>0.0</td>\n",
       "      <td>1.0</td>\n",
       "      <td>0.0</td>\n",
       "      <td>1.0</td>\n",
       "      <td>100.42806</td>\n",
       "      <td>M</td>\n",
       "      <td>66</td>\n",
       "      <td>2182</td>\n",
       "      <td>2014 - 2016</td>\n",
       "      <td>NaT</td>\n",
       "      <td>2182-07-15 12:48:00</td>\n",
       "      <td>2182-09-11 13:00:00</td>\n",
       "      <td>NaT</td>\n",
       "      <td>EW EMER.</td>\n",
       "      <td>P47E1G</td>\n",
       "      <td>EMERGENCY ROOM</td>\n",
       "      <td>CHRONIC/LONG TERM ACUTE CARE</td>\n",
       "      <td>Other</td>\n",
       "      <td>ENGLISH</td>\n",
       "      <td>DIVORCED</td>\n",
       "      <td>WHITE</td>\n",
       "      <td>2182-07-15 09:03:00</td>\n",
       "      <td>2182-07-15 12:11:00</td>\n",
       "      <td>0</td>\n",
       "      <td>0.15188</td>\n",
       "    </tr>\n",
       "  </tbody>\n",
       "</table>\n",
       "</div>"
      ],
      "text/plain": [
       "   subject_id  hadm_id   stay_id  charttime            creat_low_past_7day  creat_low_past_48hr  \\\n",
       "0  11818034    22420026  30463812 2185-05-10 06:49:00  3.4                  3.4                   \n",
       "1  10624561    26744064  30822652 2155-02-19 08:30:00  0.4                  0.4                   \n",
       "2  11412254    22069290  36715122 2175-11-20 05:25:00  1.9                  1.9                   \n",
       "3  11501310    27305247  30983281 2166-12-29 22:28:00  0.8                  0.9                   \n",
       "4  18969221    26602659  37667477 2182-07-15 23:52:00  1.0                  1.0                   \n",
       "\n",
       "   creat  aki_stage_creat uo_rt_6hr    uo_rt_12hr   uo_rt_24hr  aki_stage_uo  aki_stage_crrt  \\\n",
       "0  3.7    1                       None         None  None       <NA>          <NA>             \n",
       "1  1.0    2                0.965700000  1.087500000  None          0          <NA>             \n",
       "2  2.2    1                       None         None  None       <NA>          <NA>             \n",
       "3  1.3    1                       None         None  None       <NA>          <NA>             \n",
       "4  1.3    1                       None         None  None       <NA>          <NA>             \n",
       "\n",
       "   aki_stage  aki_stage_smoothed first_careunit                                 \\\n",
       "0  1          1                             Medical Intensive Care Unit (MICU)   \n",
       "1  2          2                                       Coronary Care Unit (CCU)   \n",
       "2  1          1                            Surgical Intensive Care Unit (SICU)   \n",
       "3  1          1                   Cardiac Vascular Intensive Care Unit (CVICU)   \n",
       "4  1          1                   Cardiac Vascular Intensive Care Unit (CVICU)   \n",
       "\n",
       "  last_careunit                                 intime              outtime              los       \\\n",
       "0            Medical Intensive Care Unit (MICU) 2185-05-09 23:20:28 2185-05-29 17:03:14  19.73803   \n",
       "1            Medical Intensive Care Unit (MICU) 2155-02-18 20:35:00 2155-03-07 23:55:12  17.13903   \n",
       "2                      Coronary Care Unit (CCU) 2175-11-20 17:20:39 2175-11-27 14:22:50   6.87652   \n",
       "3  Cardiac Vascular Intensive Care Unit (CVICU) 2166-12-31 10:03:45 2167-01-26 18:08:36  26.33670   \n",
       "4  Cardiac Vascular Intensive Care Unit (CVICU) 2182-07-15 12:49:19 2182-09-11 15:07:42  58.09610   \n",
       "\n",
       "   delta_hours_aki  nanmin_valuenum_Albumin  nanmin_valuenum_Bicarbonate  \\\n",
       "0   7.47556         1.6                      11.0                          \n",
       "1  11.91667         2.6                      19.0                          \n",
       "2 -11.92750         3.3                      19.0                          \n",
       "3 -35.59583         3.0                      17.0                          \n",
       "4  11.04472         1.7                      14.0                          \n",
       "\n",
       "   nanmin_valuenum_Calculated Bicarbonate, Whole Blood  nanmin_valuenum_Creatinine  \\\n",
       "0  14.0                                                 1.0                          \n",
       "1   NaN                                                 0.4                          \n",
       "2   NaN                                                 1.9                          \n",
       "3   NaN                                                 0.8                          \n",
       "4   NaN                                                 0.8                          \n",
       "\n",
       "   nanmin_valuenum_Hematocrit  nanmin_valuenum_Hematocrit, Calculated  nanmin_valuenum_Potassium  \\\n",
       "0  19.8                         NaN                                    2.5                         \n",
       "1  23.2                        20.0                                    2.9                         \n",
       "2  26.3                         NaN                                    3.3                         \n",
       "3  20.7                        22.0                                    2.8                         \n",
       "4  17.1                        19.0                                    3.1                         \n",
       "\n",
       "   nanmin_valuenum_Potassium, Whole Blood  nanmin_valuenum_Urea Nitrogen  nanmin_valuenum_pH  \\\n",
       "0  3.8                                     12.0                           7.16                 \n",
       "1  3.4                                     15.0                           7.27                 \n",
       "2  4.0                                     41.0                           7.34                 \n",
       "3  2.9                                      9.0                           7.24                 \n",
       "4  3.2                                     11.0                           7.15                 \n",
       "\n",
       "   nanmax_valuenum_Albumin  nanmax_valuenum_Bicarbonate  \\\n",
       "0  3.9                      27.0                          \n",
       "1  4.5                      31.0                          \n",
       "2  3.3                      28.0                          \n",
       "3  4.0                      40.0                          \n",
       "4  3.8                      32.0                          \n",
       "\n",
       "   nanmax_valuenum_Calculated Bicarbonate, Whole Blood  nanmax_valuenum_Creatinine  \\\n",
       "0  14.0                                                 4.9                          \n",
       "1   NaN                                                 1.7                          \n",
       "2   NaN                                                 3.0                          \n",
       "3   NaN                                                 4.0                          \n",
       "4   NaN                                                 3.9                          \n",
       "\n",
       "   nanmax_valuenum_Hematocrit  nanmax_valuenum_Hematocrit, Calculated  nanmax_valuenum_Potassium  \\\n",
       "0  35.0                         NaN                                    5.2                         \n",
       "1  45.7                        31.0                                    5.2                         \n",
       "2  30.6                         NaN                                    4.5                         \n",
       "3  37.2                        35.0                                    5.9                         \n",
       "4  34.7                        34.0                                    5.6                         \n",
       "\n",
       "   nanmax_valuenum_Potassium, Whole Blood  nanmax_valuenum_Urea Nitrogen  nanmax_valuenum_pH  hr  \\\n",
       "0  4.8                                     117.0                          7.54                0    \n",
       "1  5.3                                      33.0                          7.47                0    \n",
       "2  4.0                                      66.0                          7.54                0    \n",
       "3  4.8                                      57.0                          7.49                0    \n",
       "4  6.7                                     115.0                          7.52                0    \n",
       "\n",
       "  starttime           endtime              sofa_24hours  min_hour  antibiotic  sepsis3  \\\n",
       "0 2185-05-09 23:00:00 2185-05-10 00:00:00  1.0           0         1.0         True      \n",
       "1 2155-02-18 20:00:00 2155-02-18 21:00:00  0.0           0         0.0         True      \n",
       "2 2175-11-20 17:00:00 2175-11-20 18:00:00  2.0           0         0.0         True      \n",
       "3 2166-12-31 13:00:00 2166-12-31 14:00:00  5.0           0         1.0         True      \n",
       "4 2182-07-15 20:00:00 2182-07-15 21:00:00  3.0           0         0.0         True      \n",
       "\n",
       "   min_heart_rate  min_mbp  min_mbp_ni  min_resp_rate  min_spo2  max_heart_rate  max_mbp  \\\n",
       "0  66.0            51.0     51.0        10.0           80.0      142.0           126.0     \n",
       "1  41.0            62.0     66.0         1.0           82.0      117.0           178.0     \n",
       "2  76.0            44.0     44.0        16.0           86.0      120.0           117.0     \n",
       "3  75.0             6.0     46.0         3.0           76.0      137.0           214.0     \n",
       "4  35.0            32.5     43.0         8.0           55.0      153.0           253.0     \n",
       "\n",
       "   max_mbp_ni  max_resp_rate  max_spo2  ckd  dm   hypertension  heartfailure  crrt  time_delta  \\\n",
       "0   94.0       50.0           100.0     0.0  0.0  0.0           0.0           1.0    37.17556    \n",
       "1  146.0       42.0           100.0     0.0  0.0  1.0           0.0           0.0         NaN    \n",
       "2  117.0       34.0           100.0     1.0  0.0  1.0           1.0           0.0         NaN    \n",
       "3   86.0       63.0           100.0     0.0  1.0  0.0           1.0           1.0   105.93750    \n",
       "4  119.0       41.0           100.0     0.0  0.0  1.0           0.0           1.0   100.42806    \n",
       "\n",
       "  gender  anchor_age  anchor_year anchor_year_group dod         admittime            \\\n",
       "0  F      52          2185         2008 - 2010              NaT 2185-05-09 23:19:00   \n",
       "1  M      47          2155         2011 - 2013              NaT 2155-02-18 18:54:00   \n",
       "2  M      79          2175         2011 - 2013       2175-12-21 2175-11-17 17:24:00   \n",
       "3  M      48          2165         2017 - 2019              NaT 2166-12-24 20:38:00   \n",
       "4  M      66          2182         2014 - 2016              NaT 2182-07-15 12:48:00   \n",
       "\n",
       "  dischtime           deathtime admission_type admit_provider_id admission_location       \\\n",
       "0 2185-06-03 18:45:00 NaT              URGENT   P46LSC            TRANSFER FROM HOSPITAL   \n",
       "1 2155-03-20 18:58:00 NaT            EW EMER.   P46WR5                    EMERGENCY ROOM   \n",
       "2 2175-11-30 15:16:00 NaT              URGENT   P39C1O            TRANSFER FROM HOSPITAL   \n",
       "3 2167-02-14 17:08:00 NaT        DIRECT EMER.   P434W4                PHYSICIAN REFERRAL   \n",
       "4 2182-09-11 13:00:00 NaT            EW EMER.   P47E1G                    EMERGENCY ROOM   \n",
       "\n",
       "  discharge_location            insurance language marital_status race   edregtime            \\\n",
       "0                         REHAB  Other     ENGLISH   MARRIED       WHITE                 NaT   \n",
       "1              HOME HEALTH CARE  Other     ENGLISH  DIVORCED       WHITE 2155-02-18 17:33:00   \n",
       "2      SKILLED NURSING FACILITY  Other     ENGLISH    SINGLE       OTHER                 NaT   \n",
       "3              HOME HEALTH CARE  Other     ENGLISH   MARRIED       WHITE                 NaT   \n",
       "4  CHRONIC/LONG TERM ACUTE CARE  Other     ENGLISH  DIVORCED       WHITE 2182-07-15 09:03:00   \n",
       "\n",
       "  edouttime            hospital_expire_flag  BMI      \n",
       "0                 NaT  0                     0.06511  \n",
       "1 2155-02-18 20:35:00  0                     0.26482  \n",
       "2                 NaT  0                     0.12786  \n",
       "3                 NaT  0                     0.58778  \n",
       "4 2182-07-15 12:11:00  0                     0.15188  "
      ]
     },
     "execution_count": 98,
     "metadata": {},
     "output_type": "execute_result"
    }
   ],
   "source": [
    "data.head()"
   ]
  },
  {
   "cell_type": "code",
   "execution_count": 99,
   "id": "ba0d62ad",
   "metadata": {},
   "outputs": [
    {
     "name": "stderr",
     "output_type": "stream",
     "text": [
      "/home/jupyter-zaiman/.local/lib/python3.9/site-packages/tableone/tableone.py:991: FutureWarning: Using the level keyword in DataFrame and Series aggregations is deprecated and will be removed in a future version. Use groupby instead. df.sum(level=1) should use df.groupby(level=1).sum().\n",
      "  df['percent'] = df['freq'].div(df.freq.sum(level=0),\n",
      "/home/jupyter-zaiman/.local/lib/python3.9/site-packages/tableone/tableone.py:991: FutureWarning: Using the level keyword in DataFrame and Series aggregations is deprecated and will be removed in a future version. Use groupby instead. df.sum(level=1) should use df.groupby(level=1).sum().\n",
      "  df['percent'] = df['freq'].div(df.freq.sum(level=0),\n",
      "/home/jupyter-zaiman/.local/lib/python3.9/site-packages/tableone/tableone.py:991: FutureWarning: Using the level keyword in DataFrame and Series aggregations is deprecated and will be removed in a future version. Use groupby instead. df.sum(level=1) should use df.groupby(level=1).sum().\n",
      "  df['percent'] = df['freq'].div(df.freq.sum(level=0),\n"
     ]
    }
   ],
   "source": [
    "# Create table one after dropping null values.\n",
    "tab = TableOne(data.filter(columns + ['crrt'], axis=1), columns=columns,categorical=categorical, groupby='crrt')"
   ]
  },
  {
   "cell_type": "code",
   "execution_count": 100,
   "id": "ece83fd6",
   "metadata": {},
   "outputs": [
    {
     "data": {
      "text/plain": [
       "(4261, 84)"
      ]
     },
     "execution_count": 100,
     "metadata": {},
     "output_type": "execute_result"
    }
   ],
   "source": [
    "data.shape"
   ]
  },
  {
   "cell_type": "code",
   "execution_count": 101,
   "id": "649cb276",
   "metadata": {},
   "outputs": [
    {
     "data": {
      "text/html": [
       "<div>\n",
       "<style scoped>\n",
       "    .dataframe tbody tr th:only-of-type {\n",
       "        vertical-align: middle;\n",
       "    }\n",
       "\n",
       "    .dataframe tbody tr th {\n",
       "        vertical-align: top;\n",
       "    }\n",
       "\n",
       "    .dataframe thead tr th {\n",
       "        text-align: left;\n",
       "    }\n",
       "</style>\n",
       "<table border=\"1\" class=\"dataframe\">\n",
       "  <thead>\n",
       "    <tr>\n",
       "      <th></th>\n",
       "      <th></th>\n",
       "      <th colspan=\"4\" halign=\"left\">Grouped by crrt</th>\n",
       "    </tr>\n",
       "    <tr>\n",
       "      <th></th>\n",
       "      <th></th>\n",
       "      <th>Missing</th>\n",
       "      <th>Overall</th>\n",
       "      <th>0.0</th>\n",
       "      <th>1.0</th>\n",
       "    </tr>\n",
       "  </thead>\n",
       "  <tbody>\n",
       "    <tr>\n",
       "      <th>n</th>\n",
       "      <th></th>\n",
       "      <td></td>\n",
       "      <td>4261</td>\n",
       "      <td>3918</td>\n",
       "      <td>343</td>\n",
       "    </tr>\n",
       "    <tr>\n",
       "      <th>min_spo2, mean (SD)</th>\n",
       "      <th></th>\n",
       "      <td>0</td>\n",
       "      <td>83.7 (13.9)</td>\n",
       "      <td>84.2 (13.5)</td>\n",
       "      <td>77.6 (17.3)</td>\n",
       "    </tr>\n",
       "    <tr>\n",
       "      <th>max_spo2, mean (SD)</th>\n",
       "      <th></th>\n",
       "      <td>0</td>\n",
       "      <td>99.8 (0.7)</td>\n",
       "      <td>99.8 (0.8)</td>\n",
       "      <td>100.0 (0.3)</td>\n",
       "    </tr>\n",
       "    <tr>\n",
       "      <th>nanmin_valuenum_Albumin, mean (SD)</th>\n",
       "      <th></th>\n",
       "      <td>0</td>\n",
       "      <td>2.8 (0.7)</td>\n",
       "      <td>2.8 (0.7)</td>\n",
       "      <td>2.4 (0.6)</td>\n",
       "    </tr>\n",
       "    <tr>\n",
       "      <th>nanmin_valuenum_Creatinine, mean (SD)</th>\n",
       "      <th></th>\n",
       "      <td>0</td>\n",
       "      <td>1.1 (1.0)</td>\n",
       "      <td>1.1 (1.0)</td>\n",
       "      <td>1.5 (1.1)</td>\n",
       "    </tr>\n",
       "    <tr>\n",
       "      <th>nanmin_valuenum_Hematocrit, mean (SD)</th>\n",
       "      <th></th>\n",
       "      <td>0</td>\n",
       "      <td>25.0 (5.6)</td>\n",
       "      <td>25.2 (5.6)</td>\n",
       "      <td>22.0 (4.5)</td>\n",
       "    </tr>\n",
       "    <tr>\n",
       "      <th>nanmin_valuenum_Potassium, mean (SD)</th>\n",
       "      <th></th>\n",
       "      <td>0</td>\n",
       "      <td>3.4 (0.5)</td>\n",
       "      <td>3.4 (0.5)</td>\n",
       "      <td>3.4 (0.5)</td>\n",
       "    </tr>\n",
       "    <tr>\n",
       "      <th>nanmin_valuenum_Urea Nitrogen, mean (SD)</th>\n",
       "      <th></th>\n",
       "      <td>0</td>\n",
       "      <td>19.5 (15.6)</td>\n",
       "      <td>19.5 (15.8)</td>\n",
       "      <td>19.6 (13.2)</td>\n",
       "    </tr>\n",
       "    <tr>\n",
       "      <th>nanmin_valuenum_pH, mean (SD)</th>\n",
       "      <th></th>\n",
       "      <td>0</td>\n",
       "      <td>7.3 (0.1)</td>\n",
       "      <td>7.3 (0.1)</td>\n",
       "      <td>7.2 (0.1)</td>\n",
       "    </tr>\n",
       "    <tr>\n",
       "      <th>nanmax_valuenum_Albumin, mean (SD)</th>\n",
       "      <th></th>\n",
       "      <td>0</td>\n",
       "      <td>3.3 (0.7)</td>\n",
       "      <td>3.3 (0.7)</td>\n",
       "      <td>3.2 (0.7)</td>\n",
       "    </tr>\n",
       "    <tr>\n",
       "      <th>nanmax_valuenum_Creatinine, mean (SD)</th>\n",
       "      <th></th>\n",
       "      <td>0</td>\n",
       "      <td>2.9 (2.5)</td>\n",
       "      <td>2.6 (2.4)</td>\n",
       "      <td>5.7 (2.7)</td>\n",
       "    </tr>\n",
       "    <tr>\n",
       "      <th>nanmax_valuenum_Hematocrit, mean (SD)</th>\n",
       "      <th></th>\n",
       "      <td>0</td>\n",
       "      <td>36.5 (5.8)</td>\n",
       "      <td>36.5 (5.8)</td>\n",
       "      <td>35.9 (6.4)</td>\n",
       "    </tr>\n",
       "    <tr>\n",
       "      <th>nanmax_valuenum_Potassium, mean (SD)</th>\n",
       "      <th></th>\n",
       "      <td>0</td>\n",
       "      <td>5.3 (1.0)</td>\n",
       "      <td>5.3 (1.0)</td>\n",
       "      <td>5.9 (0.9)</td>\n",
       "    </tr>\n",
       "    <tr>\n",
       "      <th>nanmax_valuenum_Urea Nitrogen, mean (SD)</th>\n",
       "      <th></th>\n",
       "      <td>0</td>\n",
       "      <td>55.2 (36.3)</td>\n",
       "      <td>52.2 (34.6)</td>\n",
       "      <td>88.8 (38.0)</td>\n",
       "    </tr>\n",
       "    <tr>\n",
       "      <th>nanmax_valuenum_pH, mean (SD)</th>\n",
       "      <th></th>\n",
       "      <td>0</td>\n",
       "      <td>7.5 (0.1)</td>\n",
       "      <td>7.5 (0.1)</td>\n",
       "      <td>7.5 (0.1)</td>\n",
       "    </tr>\n",
       "    <tr>\n",
       "      <th rowspan=\"2\" valign=\"top\">ckd, n (%)</th>\n",
       "      <th>0.0</th>\n",
       "      <td>0</td>\n",
       "      <td>3046 (71.5)</td>\n",
       "      <td>2847 (72.7)</td>\n",
       "      <td>199 (58.0)</td>\n",
       "    </tr>\n",
       "    <tr>\n",
       "      <th>1.0</th>\n",
       "      <td></td>\n",
       "      <td>1215 (28.5)</td>\n",
       "      <td>1071 (27.3)</td>\n",
       "      <td>144 (42.0)</td>\n",
       "    </tr>\n",
       "    <tr>\n",
       "      <th rowspan=\"2\" valign=\"top\">dm, n (%)</th>\n",
       "      <th>0.0</th>\n",
       "      <td>0</td>\n",
       "      <td>2752 (64.6)</td>\n",
       "      <td>2540 (64.8)</td>\n",
       "      <td>212 (61.8)</td>\n",
       "    </tr>\n",
       "    <tr>\n",
       "      <th>1.0</th>\n",
       "      <td></td>\n",
       "      <td>1509 (35.4)</td>\n",
       "      <td>1378 (35.2)</td>\n",
       "      <td>131 (38.2)</td>\n",
       "    </tr>\n",
       "    <tr>\n",
       "      <th rowspan=\"2\" valign=\"top\">hypertension, n (%)</th>\n",
       "      <th>0.0</th>\n",
       "      <td>0</td>\n",
       "      <td>2008 (47.1)</td>\n",
       "      <td>1844 (47.1)</td>\n",
       "      <td>164 (47.8)</td>\n",
       "    </tr>\n",
       "    <tr>\n",
       "      <th>1.0</th>\n",
       "      <td></td>\n",
       "      <td>2253 (52.9)</td>\n",
       "      <td>2074 (52.9)</td>\n",
       "      <td>179 (52.2)</td>\n",
       "    </tr>\n",
       "    <tr>\n",
       "      <th rowspan=\"2\" valign=\"top\">heartfailure, n (%)</th>\n",
       "      <th>0.0</th>\n",
       "      <td>0</td>\n",
       "      <td>2416 (56.7)</td>\n",
       "      <td>2227 (56.8)</td>\n",
       "      <td>189 (55.1)</td>\n",
       "    </tr>\n",
       "    <tr>\n",
       "      <th>1.0</th>\n",
       "      <td></td>\n",
       "      <td>1845 (43.3)</td>\n",
       "      <td>1691 (43.2)</td>\n",
       "      <td>154 (44.9)</td>\n",
       "    </tr>\n",
       "    <tr>\n",
       "      <th rowspan=\"6\" valign=\"top\">race, n (%)</th>\n",
       "      <th>ASIAN</th>\n",
       "      <td>0</td>\n",
       "      <td>82 (1.9)</td>\n",
       "      <td>75 (1.9)</td>\n",
       "      <td>7 (2.0)</td>\n",
       "    </tr>\n",
       "    <tr>\n",
       "      <th>BLACK</th>\n",
       "      <td></td>\n",
       "      <td>342 (8.0)</td>\n",
       "      <td>317 (8.1)</td>\n",
       "      <td>25 (7.3)</td>\n",
       "    </tr>\n",
       "    <tr>\n",
       "      <th>HISPANIC</th>\n",
       "      <td></td>\n",
       "      <td>133 (3.1)</td>\n",
       "      <td>118 (3.0)</td>\n",
       "      <td>15 (4.4)</td>\n",
       "    </tr>\n",
       "    <tr>\n",
       "      <th>OTHER</th>\n",
       "      <td></td>\n",
       "      <td>257 (6.0)</td>\n",
       "      <td>232 (5.9)</td>\n",
       "      <td>25 (7.3)</td>\n",
       "    </tr>\n",
       "    <tr>\n",
       "      <th>UNKNOWN</th>\n",
       "      <td></td>\n",
       "      <td>663 (15.6)</td>\n",
       "      <td>599 (15.3)</td>\n",
       "      <td>64 (18.7)</td>\n",
       "    </tr>\n",
       "    <tr>\n",
       "      <th>WHITE</th>\n",
       "      <td></td>\n",
       "      <td>2784 (65.3)</td>\n",
       "      <td>2577 (65.8)</td>\n",
       "      <td>207 (60.3)</td>\n",
       "    </tr>\n",
       "    <tr>\n",
       "      <th rowspan=\"2\" valign=\"top\">gender, n (%)</th>\n",
       "      <th>F</th>\n",
       "      <td>0</td>\n",
       "      <td>1743 (40.9)</td>\n",
       "      <td>1619 (41.3)</td>\n",
       "      <td>124 (36.2)</td>\n",
       "    </tr>\n",
       "    <tr>\n",
       "      <th>M</th>\n",
       "      <td></td>\n",
       "      <td>2518 (59.1)</td>\n",
       "      <td>2299 (58.7)</td>\n",
       "      <td>219 (63.8)</td>\n",
       "    </tr>\n",
       "    <tr>\n",
       "      <th>BMI, mean (SD)</th>\n",
       "      <th></th>\n",
       "      <td>0</td>\n",
       "      <td>0.3 (0.2)</td>\n",
       "      <td>0.3 (0.2)</td>\n",
       "      <td>0.3 (0.2)</td>\n",
       "    </tr>\n",
       "  </tbody>\n",
       "</table>\n",
       "</div><br />"
      ],
      "text/plain": [
       "                                                  Grouped by crrt                                       \n",
       "                                                  Missing         Overall      0.0          1.0         \n",
       "n                                                                         4261         3918          343\n",
       "min_spo2, mean (SD)                                0               83.7 (13.9)  84.2 (13.5)  77.6 (17.3)\n",
       "max_spo2, mean (SD)                                0                99.8 (0.7)   99.8 (0.8)  100.0 (0.3)\n",
       "nanmin_valuenum_Albumin, mean (SD)                 0                 2.8 (0.7)    2.8 (0.7)    2.4 (0.6)\n",
       "nanmin_valuenum_Creatinine, mean (SD)              0                 1.1 (1.0)    1.1 (1.0)    1.5 (1.1)\n",
       "nanmin_valuenum_Hematocrit, mean (SD)              0                25.0 (5.6)   25.2 (5.6)   22.0 (4.5)\n",
       "nanmin_valuenum_Potassium, mean (SD)               0                 3.4 (0.5)    3.4 (0.5)    3.4 (0.5)\n",
       "nanmin_valuenum_Urea Nitrogen, mean (SD)           0               19.5 (15.6)  19.5 (15.8)  19.6 (13.2)\n",
       "nanmin_valuenum_pH, mean (SD)                      0                 7.3 (0.1)    7.3 (0.1)    7.2 (0.1)\n",
       "nanmax_valuenum_Albumin, mean (SD)                 0                 3.3 (0.7)    3.3 (0.7)    3.2 (0.7)\n",
       "nanmax_valuenum_Creatinine, mean (SD)              0                 2.9 (2.5)    2.6 (2.4)    5.7 (2.7)\n",
       "nanmax_valuenum_Hematocrit, mean (SD)              0                36.5 (5.8)   36.5 (5.8)   35.9 (6.4)\n",
       "nanmax_valuenum_Potassium, mean (SD)               0                 5.3 (1.0)    5.3 (1.0)    5.9 (0.9)\n",
       "nanmax_valuenum_Urea Nitrogen, mean (SD)           0               55.2 (36.3)  52.2 (34.6)  88.8 (38.0)\n",
       "nanmax_valuenum_pH, mean (SD)                      0                 7.5 (0.1)    7.5 (0.1)    7.5 (0.1)\n",
       "ckd, n (%)                               0.0       0               3046 (71.5)  2847 (72.7)   199 (58.0)\n",
       "                                         1.0                       1215 (28.5)  1071 (27.3)   144 (42.0)\n",
       "dm, n (%)                                0.0       0               2752 (64.6)  2540 (64.8)   212 (61.8)\n",
       "                                         1.0                       1509 (35.4)  1378 (35.2)   131 (38.2)\n",
       "hypertension, n (%)                      0.0       0               2008 (47.1)  1844 (47.1)   164 (47.8)\n",
       "                                         1.0                       2253 (52.9)  2074 (52.9)   179 (52.2)\n",
       "heartfailure, n (%)                      0.0       0               2416 (56.7)  2227 (56.8)   189 (55.1)\n",
       "                                         1.0                       1845 (43.3)  1691 (43.2)   154 (44.9)\n",
       "race, n (%)                              ASIAN     0                  82 (1.9)     75 (1.9)      7 (2.0)\n",
       "                                         BLACK                       342 (8.0)    317 (8.1)     25 (7.3)\n",
       "                                         HISPANIC                    133 (3.1)    118 (3.0)     15 (4.4)\n",
       "                                         OTHER                       257 (6.0)    232 (5.9)     25 (7.3)\n",
       "                                         UNKNOWN                    663 (15.6)   599 (15.3)    64 (18.7)\n",
       "                                         WHITE                     2784 (65.3)  2577 (65.8)   207 (60.3)\n",
       "gender, n (%)                            F         0               1743 (40.9)  1619 (41.3)   124 (36.2)\n",
       "                                         M                         2518 (59.1)  2299 (58.7)   219 (63.8)\n",
       "BMI, mean (SD)                                     0                 0.3 (0.2)    0.3 (0.2)    0.3 (0.2)"
      ]
     },
     "execution_count": 101,
     "metadata": {},
     "output_type": "execute_result"
    }
   ],
   "source": [
    "tab"
   ]
  },
  {
   "cell_type": "code",
   "execution_count": 102,
   "id": "296dc3b1",
   "metadata": {},
   "outputs": [],
   "source": [
    "def train_predict_lr(data, columns, numerical, categorical):\n",
    "    sc = StandardScaler()\n",
    "    oh = OneHotEncoder()\n",
    "    \n",
    "    train, test = train_test_split(data, test_size=0.3, random_state=2022, stratify=data['crrt'].ravel())\n",
    "    \n",
    "    X_train = train[columns]\n",
    "    X_test = test[columns]\n",
    "    y_train = train['crrt'].ravel()\n",
    "    y_test = test['crrt'].ravel()\n",
    "    \n",
    "    \n",
    "    X_num_train = sc.fit_transform(X_train[numerical])\n",
    "    X_num_test = sc.transform(X_test[numerical])\n",
    "    X_cat_train = oh.fit_transform(X_train[categorical]).toarray()\n",
    "    X_cat_test = oh.transform(X_test[categorical]).toarray()\n",
    "    \n",
    "    \n",
    "    X_train_proc = np.hstack((X_num_train, X_cat_train))\n",
    "    X_test_proc = np.hstack((X_num_test, X_cat_test))\n",
    "    \n",
    "    clf = LogisticRegression(max_iter=1000, class_weight='balanced', random_state=2022)\n",
    "    clf.fit(X_train_proc, y_train)\n",
    "    with open('crr_model.pkl', 'wb') as f:\n",
    "        pickle.dump(clf, f)\n",
    "    print(dict(zip(columns, clf.coef_.ravel())))\n",
    "    yHat = clf.predict_proba(X_test_proc)\n",
    "    return test, y_test, yHat"
   ]
  },
  {
   "cell_type": "code",
   "execution_count": 103,
   "id": "11290ba0",
   "metadata": {},
   "outputs": [
    {
     "name": "stdout",
     "output_type": "stream",
     "text": [
      "{'min_spo2': -0.1817624407578061, 'max_spo2': 0.23257240432922505, 'nanmin_valuenum_Albumin': -0.30831893881687905, 'nanmin_valuenum_Creatinine': -0.06209474185338207, 'nanmin_valuenum_Hematocrit': -0.11557726194538263, 'nanmin_valuenum_Potassium': 0.35145712456186917, 'nanmin_valuenum_Urea Nitrogen': -0.33407366271168426, 'nanmin_valuenum_pH': -0.7111620175199823, 'nanmax_valuenum_Albumin': 0.17453761186120295, 'nanmax_valuenum_Creatinine': 1.152371825810931, 'nanmax_valuenum_Hematocrit': -0.09106927161781202, 'nanmax_valuenum_Potassium': 0.1694972520081189, 'nanmax_valuenum_Urea Nitrogen': 0.24388176815106397, 'nanmax_valuenum_pH': 0.43431299128293044, 'ckd': 0.21285373205388974, 'dm': -0.17286412112879007, 'hypertension': 0.1725234609578314, 'heartfailure': -0.06983661360625766, 'race': 0.06949595343532929, 'gender': -0.1688836581953143, 'BMI': 0.16854299802434675}\n"
     ]
    }
   ],
   "source": [
    "_, y_test, yHat = train_predict_lr(data, columns, numerical, categorical)"
   ]
  },
  {
   "cell_type": "code",
   "execution_count": 104,
   "id": "cb19cf46",
   "metadata": {},
   "outputs": [],
   "source": [
    "ypred = (yHat[:, 1] >= 0.5)"
   ]
  },
  {
   "cell_type": "code",
   "execution_count": 105,
   "id": "cd767941",
   "metadata": {},
   "outputs": [],
   "source": [
    "fpr, tpr, _ = roc_curve(y_test, yHat[:,1])\n",
    "rocauc = auc(fpr, tpr)"
   ]
  },
  {
   "cell_type": "code",
   "execution_count": 106,
   "id": "9a01925b",
   "metadata": {},
   "outputs": [
    {
     "name": "stdout",
     "output_type": "stream",
     "text": [
      "              precision    recall  f1-score   support\n",
      "\n",
      "         0.0       0.97      0.79      0.87      1176\n",
      "         1.0       0.25      0.77      0.37       103\n",
      "\n",
      "    accuracy                           0.79      1279\n",
      "   macro avg       0.61      0.78      0.62      1279\n",
      "weighted avg       0.92      0.79      0.83      1279\n",
      "\n"
     ]
    },
    {
     "data": {
      "image/png": "[encoded data removed]",
      "text/plain": [
       "<Figure size 720x720 with 1 Axes>"
      ]
     },
     "metadata": {
      "needs_background": "light"
     },
     "output_type": "display_data"
    }
   ],
   "source": [
    "plt.figure(figsize=(10, 10))\n",
    "plt.title('ROC AUC Curve')\n",
    "plt.plot(fpr, tpr, label=f'auc={round(rocauc, 3)}')\n",
    "plt.legend(loc=4)\n",
    "\n",
    "print(classification_report(y_test, ypred))"
   ]
  },
  {
   "cell_type": "markdown",
   "id": "853fc978",
   "metadata": {},
   "source": [
    "#### Majority Class Undersampling"
   ]
  },
  {
   "cell_type": "code",
   "execution_count": 107,
   "id": "12676db5",
   "metadata": {},
   "outputs": [
    {
     "data": {
      "text/plain": [
       "(4261, 84)"
      ]
     },
     "execution_count": 107,
     "metadata": {},
     "output_type": "execute_result"
    }
   ],
   "source": [
    "data.shape"
   ]
  },
  {
   "cell_type": "code",
   "execution_count": 108,
   "id": "f6557183",
   "metadata": {},
   "outputs": [
    {
     "data": {
      "text/plain": [
       "0.0    3918\n",
       "1.0     343\n",
       "Name: crrt, dtype: int64"
      ]
     },
     "execution_count": 108,
     "metadata": {},
     "output_type": "execute_result"
    }
   ],
   "source": [
    "data['crrt'].value_counts(dropna=False)"
   ]
  },
  {
   "cell_type": "code",
   "execution_count": 109,
   "id": "62bdd652",
   "metadata": {},
   "outputs": [],
   "source": [
    "nocrrt, crrt = data['crrt'].value_counts()"
   ]
  },
  {
   "cell_type": "code",
   "execution_count": 110,
   "id": "21afc20e",
   "metadata": {},
   "outputs": [],
   "source": [
    "nocrrt_df = data[data['crrt'] == 0].reset_index(drop=True)\n",
    "nocrrt_df_under = nocrrt_df.sample(n=crrt, random_state=2022)"
   ]
  },
  {
   "cell_type": "code",
   "execution_count": 111,
   "id": "83775b0a",
   "metadata": {},
   "outputs": [],
   "source": [
    "crrt_df = data[data['crrt'] == 1].reset_index(drop=True)"
   ]
  },
  {
   "cell_type": "code",
   "execution_count": 112,
   "id": "d37d80c4",
   "metadata": {},
   "outputs": [],
   "source": [
    "under_sampled = pd.concat([crrt_df, nocrrt_df_under], axis=0).sample(frac=1)"
   ]
  },
  {
   "cell_type": "code",
   "execution_count": 113,
   "id": "d40f0974",
   "metadata": {},
   "outputs": [
    {
     "data": {
      "text/plain": [
       "1.0    343\n",
       "0.0    343\n",
       "Name: crrt, dtype: int64"
      ]
     },
     "execution_count": 113,
     "metadata": {},
     "output_type": "execute_result"
    }
   ],
   "source": [
    "under_sampled['crrt'].value_counts()"
   ]
  },
  {
   "cell_type": "code",
   "execution_count": 114,
   "id": "73d6ecc1",
   "metadata": {},
   "outputs": [
    {
     "name": "stdout",
     "output_type": "stream",
     "text": [
      "{'min_spo2': -0.25897498452785783, 'max_spo2': 0.37655559138942446, 'nanmin_valuenum_Albumin': -0.08313514997512735, 'nanmin_valuenum_Creatinine': -0.2763682924497214, 'nanmin_valuenum_Hematocrit': -0.2977995721278287, 'nanmin_valuenum_Potassium': 0.11818285398513934, 'nanmin_valuenum_Urea Nitrogen': -0.3004073779842946, 'nanmin_valuenum_pH': -0.9581853798000997, 'nanmax_valuenum_Albumin': 0.09545573002984058, 'nanmax_valuenum_Creatinine': 1.6427651877266145, 'nanmax_valuenum_Hematocrit': -0.08176838663363271, 'nanmax_valuenum_Potassium': -0.15089975031125905, 'nanmax_valuenum_Urea Nitrogen': -0.06549859119009996, 'nanmax_valuenum_pH': 0.049242873493760525, 'ckd': 0.18702395655659723, 'dm': -0.13150224034686253, 'hypertension': 0.13160136431339772, 'heartfailure': 0.06753971926200047, 'race': -0.06744059529546413, 'gender': 0.0887929887864739, 'BMI': -0.08869386481994254}\n"
     ]
    }
   ],
   "source": [
    "test_under, under_ytest, under_yHat = train_predict_lr(under_sampled, columns, numerical, categorical)"
   ]
  },
  {
   "cell_type": "code",
   "execution_count": 115,
   "id": "f5775571",
   "metadata": {},
   "outputs": [],
   "source": [
    "coef = {'min_spo2': -0.4852047853834246, 'max_spo2': 0.1275742150991979, 'nanmin_valuenum_Albumin': -0.20834890296303632, 'nanmin_valuenum_Creatinine': -0.27070791975477343, 'nanmin_valuenum_Hematocrit': -0.029813067747945267, 'nanmin_valuenum_Potassium': 0.12755607056666335, 'nanmin_valuenum_Potassium, Whole Blood': -0.6214020245588742, 'nanmin_valuenum_Urea Nitrogen': -0.2587734578499637, 'nanmin_valuenum_pH': -1.5201620121199284, 'nanmax_valuenum_Albumin': 0.31521468315400913, 'nanmax_valuenum_Creatinine': 1.524030435521787, 'nanmax_valuenum_Hematocrit': -0.17537377615311694, 'nanmax_valuenum_Hematocrit, Calculated': -0.07035163086763366, 'nanmax_valuenum_Potassium': 0.2538660824177118, 'nanmax_valuenum_Potassium, Whole Blood': 0.9666497534717178, 'nanmax_valuenum_Urea Nitrogen': 0.4160818026598768, 'nanmax_valuenum_pH': 2.0042514398732734, 'ckd': 0.08715115694850646, 'dm': 0.05534529373130768, 'hypertension': 0.06822913953444272, 'heartfailure': 0.02438402149205089}\n"
   ]
  },
  {
   "cell_type": "code",
   "execution_count": 116,
   "id": "a1db0cbd",
   "metadata": {},
   "outputs": [
    {
     "data": {
      "text/plain": [
       "{'min_spo2': -0.4852047853834246,\n",
       " 'max_spo2': 0.1275742150991979,\n",
       " 'nanmin_valuenum_Albumin': -0.20834890296303632,\n",
       " 'nanmin_valuenum_Creatinine': -0.27070791975477343,\n",
       " 'nanmin_valuenum_Hematocrit': -0.029813067747945267,\n",
       " 'nanmin_valuenum_Potassium': 0.12755607056666335,\n",
       " 'nanmin_valuenum_Potassium, Whole Blood': -0.6214020245588742,\n",
       " 'nanmin_valuenum_Urea Nitrogen': -0.2587734578499637,\n",
       " 'nanmin_valuenum_pH': -1.5201620121199284,\n",
       " 'nanmax_valuenum_Albumin': 0.31521468315400913,\n",
       " 'nanmax_valuenum_Creatinine': 1.524030435521787,\n",
       " 'nanmax_valuenum_Hematocrit': -0.17537377615311694,\n",
       " 'nanmax_valuenum_Hematocrit, Calculated': -0.07035163086763366,\n",
       " 'nanmax_valuenum_Potassium': 0.2538660824177118,\n",
       " 'nanmax_valuenum_Potassium, Whole Blood': 0.9666497534717178,\n",
       " 'nanmax_valuenum_Urea Nitrogen': 0.4160818026598768,\n",
       " 'nanmax_valuenum_pH': 2.0042514398732734,\n",
       " 'ckd': 0.08715115694850646,\n",
       " 'dm': 0.05534529373130768,\n",
       " 'hypertension': 0.06822913953444272,\n",
       " 'heartfailure': 0.02438402149205089}"
      ]
     },
     "execution_count": 116,
     "metadata": {},
     "output_type": "execute_result"
    }
   ],
   "source": [
    "coef"
   ]
  },
  {
   "cell_type": "code",
   "execution_count": 117,
   "id": "95b753e4",
   "metadata": {},
   "outputs": [],
   "source": [
    "# ['a_patientid', 'albumine_min', 'albumine_max', 'potassium_min',\n",
    "#        'potassium_max', 'spo2_min', 'spo2_max', 'haematocrit_min',\n",
    "#        'haematocrit_max', 'ph_min', 'ph_max', 'bun_min', 'bun_max', 'diabetes',\n",
    "#        'heart failure', 'hypertension', 'chronic kidney disease', 'RRT',\n",
    "#        'crrt_time', 'aki_stage']"
   ]
  },
  {
   "cell_type": "code",
   "execution_count": 118,
   "id": "0179096b",
   "metadata": {},
   "outputs": [
    {
     "data": {
      "text/plain": [
       "(array([45., 24., 16.,  8., 12., 13., 17., 16., 27., 28.]),\n",
       " array([0.00184949, 0.10141089, 0.20097228, 0.30053368, 0.40009507,\n",
       "        0.49965647, 0.59921786, 0.69877926, 0.79834065, 0.89790204,\n",
       "        0.99746344]),\n",
       " <BarContainer object of 10 artists>)"
      ]
     },
     "execution_count": 118,
     "metadata": {},
     "output_type": "execute_result"
    },
    {
     "data": {
      "image/png": "[encoded data removed]",
      "text/plain": [
       "<Figure size 432x288 with 1 Axes>"
      ]
     },
     "metadata": {
      "needs_background": "light"
     },
     "output_type": "display_data"
    }
   ],
   "source": [
    "plt.hist(under_yHat[:, 1])"
   ]
  },
  {
   "cell_type": "code",
   "execution_count": 119,
   "id": "841e2f1e",
   "metadata": {},
   "outputs": [],
   "source": [
    "fpr, tpr, _ = roc_curve(under_ytest, under_yHat[:,1])\n",
    "rocauc = auc(fpr, tpr)"
   ]
  },
  {
   "cell_type": "code",
   "execution_count": 120,
   "id": "20086cf7",
   "metadata": {},
   "outputs": [],
   "source": [
    "ypred_under = (under_yHat[:, 1] >= 0.5)"
   ]
  },
  {
   "cell_type": "code",
   "execution_count": 121,
   "id": "e269913f",
   "metadata": {},
   "outputs": [
    {
     "name": "stdout",
     "output_type": "stream",
     "text": [
      "              precision    recall  f1-score   support\n",
      "\n",
      "         0.0       0.82      0.83      0.83       103\n",
      "         1.0       0.83      0.82      0.82       103\n",
      "\n",
      "    accuracy                           0.83       206\n",
      "   macro avg       0.83      0.83      0.83       206\n",
      "weighted avg       0.83      0.83      0.83       206\n",
      "\n"
     ]
    },
    {
     "data": {
      "image/png": "[encoded data removed]",
      "text/plain": [
       "<Figure size 720x720 with 1 Axes>"
      ]
     },
     "metadata": {
      "needs_background": "light"
     },
     "output_type": "display_data"
    }
   ],
   "source": [
    "plt.figure(figsize=(10, 10))\n",
    "plt.title('ROC AUC Curve')\n",
    "plt.plot(fpr, tpr, label=f'auc={round(rocauc, 3)}')\n",
    "plt.legend(loc=4)\n",
    "\n",
    "print(classification_report(under_ytest, ypred_under))"
   ]
  },
  {
   "cell_type": "code",
   "execution_count": 122,
   "id": "f309cf76",
   "metadata": {},
   "outputs": [
    {
     "name": "stderr",
     "output_type": "stream",
     "text": [
      "/tmp/ipykernel_54805/532204791.py:2: SettingWithCopyWarning: \n",
      "A value is trying to be set on a copy of a slice from a DataFrame.\n",
      "Try using .loc[row_indexer,col_indexer] = value instead\n",
      "\n",
      "See the caveats in the documentation: https://pandas.pydata.org/pandas-docs/stable/user_guide/indexing.html#returning-a-view-versus-a-copy\n",
      "  test_under['prediction'] = under_yHat[:, 1]\n"
     ]
    }
   ],
   "source": [
    "# Stratify by AKI stage.\n",
    "test_under['prediction'] = under_yHat[:, 1]"
   ]
  },
  {
   "cell_type": "code",
   "execution_count": 123,
   "id": "2fed9f1f",
   "metadata": {},
   "outputs": [
    {
     "data": {
      "text/plain": [
       "Text(0.5, 1.0, 'Performance by AKI')"
      ]
     },
     "execution_count": 123,
     "metadata": {},
     "output_type": "execute_result"
    },
    {
     "data": {
      "image/png": "[encoded data removed]",
      "text/plain": [
       "<Figure size 432x288 with 1 Axes>"
      ]
     },
     "metadata": {
      "needs_background": "light"
     },
     "output_type": "display_data"
    }
   ],
   "source": [
    "# Plot ROC curves for AKI stratified by stage.\n",
    "for aki in test_under['aki_stage'].unique():\n",
    "    tmp = test_under[test_under['aki_stage'] == aki]\n",
    "    ytest = tmp['crrt'].ravel()\n",
    "    ypred = tmp['prediction'].values\n",
    "    fpr, tpr, _ = roc_curve(ytest, ypred)\n",
    "    rocauc = auc(fpr, tpr)\n",
    "    plt.plot(fpr, tpr, label=f'AKI Stage: {aki}, ROCAUC={round(rocauc, 3)}')\n",
    "plt.legend(loc=4)\n",
    "plt.title(\"Performance by AKI\")"
   ]
  },
  {
   "cell_type": "code",
   "execution_count": 124,
   "id": "db7358ee",
   "metadata": {},
   "outputs": [
    {
     "data": {
      "image/png": "[encoded data removed]",
      "text/plain": [
       "<Figure size 1440x360 with 6 Axes>"
      ]
     },
     "metadata": {
      "needs_background": "light"
     },
     "output_type": "display_data"
    }
   ],
   "source": [
    "# Confusion matrices.\n",
    "fig, ax = plt.subplots(1, 3, figsize=(20, 5))\n",
    "for i, aki in enumerate(test_under['aki_stage'].unique()):\n",
    "    tmp = test_under[test_under['aki_stage'] == aki]\n",
    "    ytest = tmp['crrt'].ravel()\n",
    "    ypred = tmp['prediction'].values\n",
    "    ypred = (ypred >= 0.5)\n",
    "    cm = confusion_matrix(ytest, ypred)\n",
    "    sns.heatmap(cm, annot=True, ax=ax[i], cmap='Blues')\n",
    "    ax[i].set_title(f'AKI Stage: {aki}')"
   ]
  },
  {
   "cell_type": "code",
   "execution_count": 125,
   "id": "ec20b9e4",
   "metadata": {},
   "outputs": [
    {
     "data": {
      "text/plain": [
       "count    103.00000\n",
       "mean      62.44835\n",
       "std       32.73720\n",
       "min       24.38472\n",
       "25%       33.57514\n",
       "50%       52.87778\n",
       "75%       81.50833\n",
       "max      142.28611\n",
       "Name: time_delta, dtype: float64"
      ]
     },
     "execution_count": 125,
     "metadata": {},
     "output_type": "execute_result"
    }
   ],
   "source": [
    "test_under['time_delta'].describe()"
   ]
  },
  {
   "cell_type": "code",
   "execution_count": 126,
   "id": "231b520c",
   "metadata": {},
   "outputs": [
    {
     "data": {
      "text/plain": [
       "Text(0.5, 1.0, 'Performance by Time')"
      ]
     },
     "execution_count": 126,
     "metadata": {},
     "output_type": "execute_result"
    },
    {
     "data": {
      "image/png": "[encoded data removed]",
      "text/plain": [
       "<Figure size 432x288 with 1 Axes>"
      ]
     },
     "metadata": {
      "needs_background": "light"
     },
     "output_type": "display_data"
    }
   ],
   "source": [
    "# Plot ROC curves for AKI stratified by stage.\n",
    "step = 36\n",
    "for i in range(12, 120, step):\n",
    "    lower_bound = i\n",
    "    upper_bound = i + step\n",
    "    tmp = test_under[((test_under['time_delta'] >= lower_bound) & (test_under['time_delta'] <= upper_bound)) | (test_under['crrt'] == 0)]\n",
    "    ytest = tmp['crrt'].ravel()\n",
    "    ypred = tmp['prediction'].values\n",
    "    fpr, tpr, _ = roc_curve(ytest, ypred)\n",
    "\n",
    "    rocauc = auc(fpr, tpr)\n",
    "    plt.plot(fpr, tpr, label=f'{i} hours-{i+step} hours, ROCAUC={round(rocauc, 3)}')\n",
    "plt.legend(loc=4)\n",
    "plt.title(\"Performance by Time\")"
   ]
  },
  {
   "cell_type": "code",
   "execution_count": 127,
   "id": "154110ac",
   "metadata": {},
   "outputs": [
    {
     "data": {
      "image/png": "[encoded data removed]",
      "text/plain": [
       "<Figure size 1440x360 with 6 Axes>"
      ]
     },
     "metadata": {
      "needs_background": "light"
     },
     "output_type": "display_data"
    }
   ],
   "source": [
    "# Confusion matrices.\n",
    "step = 36\n",
    "fig, ax = plt.subplots(1, 3, figsize=(20, 5))\n",
    "counter = 0\n",
    "for i in range(12, 120, step):\n",
    "    lower_bound = i\n",
    "    upper_bound = i + step\n",
    "    tmp = test_under[((test_under['time_delta'] >= lower_bound) & (test_under['time_delta'] <= upper_bound)) | (test_under['crrt'] == 0)]\n",
    "    ytest = tmp['crrt'].ravel()\n",
    "    ypred = tmp['prediction'].values\n",
    "    ypred = (ypred >= 0.5)\n",
    "    cm = confusion_matrix(ytest, ypred)\n",
    "    sns.heatmap(cm, annot=True, ax=ax[counter], cmap='Blues')\n",
    "    ax[counter].set_title(f'CRRT between {lower_bound} hours and {upper_bound} hours')\n",
    "    counter+=1"
   ]
  },
  {
   "cell_type": "code",
   "execution_count": null,
   "id": "01cd3292",
   "metadata": {},
   "outputs": [],
   "source": []
  },
  {
   "cell_type": "code",
   "execution_count": null,
   "id": "932ab256",
   "metadata": {},
   "outputs": [],
   "source": []
  },
  {
   "cell_type": "code",
   "execution_count": null,
   "id": "c3b53e1d",
   "metadata": {},
   "outputs": [],
   "source": []
  }
 ],
 "metadata": {
  "kernelspec": {
   "display_name": "hiti",
   "language": "python",
   "name": "hiti"
  },
  "language_info": {
   "codemirror_mode": {
    "name": "ipython",
    "version": 3
   },
   "file_extension": ".py",
   "mimetype": "text/x-python",
   "name": "python",
   "nbconvert_exporter": "python",
   "pygments_lexer": "ipython3",
   "version": "3.9.7"
  }
 },
 "nbformat": 4,
 "nbformat_minor": 5
}
