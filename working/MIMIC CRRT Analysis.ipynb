{
 "cells": [
  {
   "cell_type": "markdown",
   "id": "00c6b3ef",
   "metadata": {},
   "source": [
    "## Import Dependencies"
   ]
  },
  {
   "cell_type": "code",
   "execution_count": 1,
   "id": "fdd9b7ce",
   "metadata": {},
   "outputs": [],
   "source": [
    "import pandas as pd\n",
    "import numpy as np\n",
    "import matplotlib.pyplot as plt\n",
    "import seaborn as sns\n",
    "from tqdm import tqdm\n",
    "from tableone import TableOne\n",
    "from sklearn.model_selection import train_test_split\n",
    "from sklearn.linear_model import LogisticRegression\n",
    "from sklearn.model_selection import GridSearchCV, KFold\n",
    "from sklearn.preprocessing import LabelEncoder, OneHotEncoder, StandardScaler\n",
    "from sklearn.metrics import roc_curve, roc_auc_score, classification_report, confusion_matrix, auc\n",
    "import os\n",
    "import pydata_google_auth"
   ]
  },
  {
   "cell_type": "markdown",
   "id": "9fcbfa1d",
   "metadata": {},
   "source": [
    "## Authenticate with GCP to access MIMIC"
   ]
  },
  {
   "cell_type": "code",
   "execution_count": 2,
   "id": "80cd7f3b",
   "metadata": {},
   "outputs": [],
   "source": [
    "project_id = 'mimic-369422'\n",
    "os.environ['GOOGLE_CLOUD_PROJECT'] = project_id\n",
    "\n",
    "credentials = pydata_google_auth.get_user_credentials(\n",
    "    ['https://www.googleapis.com/auth/bigquery'],\n",
    "    use_local_webserver=False\n",
    ")\n",
    "\n",
    "def run_query(query):\n",
    "    return pd.io.gbq.read_gbq(\n",
    "      query,\n",
    "      project_id=project_id,\n",
    "      credentials=credentials,\n",
    "      configuration={'query': {\n",
    "          'useLegacySql': False\n",
    "      }})"
   ]
  },
  {
   "cell_type": "markdown",
   "id": "eb3ea06e",
   "metadata": {},
   "source": [
    "## Cohort Curation\n",
    "#### Inclusion/Exclusion Criteria\n",
    "1. Patients > 18\n",
    "2. 1st ICU stay\n",
    "3. Measurement of creatinine and urine ouput within 24 hours\n",
    "4. aki stage 2 \n",
    "5. not a CEER ICD 10-N18\n",
    "6. No DNR"
   ]
  },
  {
   "cell_type": "markdown",
   "id": "9ba75b34",
   "metadata": {},
   "source": [
    "#### AKI Stage > 0"
   ]
  },
  {
   "cell_type": "code",
   "execution_count": 3,
   "id": "df3c50a1",
   "metadata": {},
   "outputs": [],
   "source": [
    "# Base the cohort off of patients with aki_stage > 0.\n",
    "aki = run_query(\n",
    "    \"\"\"SELECT * FROM `physionet-data.mimiciv_derived.kdigo_stages` WHERE aki_stage <> 0\"\"\"\n",
    ")"
   ]
  },
  {
   "cell_type": "code",
   "execution_count": 4,
   "id": "4f034b57",
   "metadata": {},
   "outputs": [
    {
     "data": {
      "text/plain": [
       "33146"
      ]
     },
     "execution_count": 4,
     "metadata": {},
     "output_type": "execute_result"
    }
   ],
   "source": [
    "aki_pats = aki['subject_id'].unique()\n",
    "len(aki_pats)"
   ]
  },
  {
   "cell_type": "markdown",
   "id": "1b9c4a3d",
   "metadata": {},
   "source": [
    "#### First ICU Stay"
   ]
  },
  {
   "cell_type": "code",
   "execution_count": 5,
   "id": "8a554f6d",
   "metadata": {},
   "outputs": [
    {
     "data": {
      "text/plain": [
       "(53573, 8)"
      ]
     },
     "execution_count": 5,
     "metadata": {},
     "output_type": "execute_result"
    }
   ],
   "source": [
    "# Get the ICU stays of the AKI patients and select the first one.\n",
    "icustays = run_query(\n",
    "    f\"\"\"SELECT * FROM `physionet-data.mimiciv_icu.icustays` WHERE subject_id IN {str(tuple(aki_pats))}\"\"\"\n",
    ")\n",
    "icustays.shape"
   ]
  },
  {
   "cell_type": "code",
   "execution_count": 6,
   "id": "b6c10663",
   "metadata": {},
   "outputs": [
    {
     "data": {
      "text/plain": [
       "(33146, 8)"
      ]
     },
     "execution_count": 6,
     "metadata": {},
     "output_type": "execute_result"
    }
   ],
   "source": [
    "# Returns the first ICU stay for each patient.\n",
    "def get_first_icu_stay(df):\n",
    "    min_stay = df.groupby(by='subject_id')['intime'].min().reset_index()\n",
    "    result = df.merge(min_stay)\n",
    "    return result\n",
    "\n",
    "icu_first = get_first_icu_stay(icustays)\n",
    "icu_first.shape"
   ]
  },
  {
   "cell_type": "code",
   "execution_count": 7,
   "id": "c0cbaa7a",
   "metadata": {},
   "outputs": [
    {
     "data": {
      "text/plain": [
       "subject_id        33146\n",
       "hadm_id           33146\n",
       "stay_id           33146\n",
       "first_careunit        9\n",
       "last_careunit         9\n",
       "intime            33146\n",
       "outtime           33146\n",
       "los               32077\n",
       "dtype: int64"
      ]
     },
     "execution_count": 7,
     "metadata": {},
     "output_type": "execute_result"
    }
   ],
   "source": [
    "icu_first.nunique()"
   ]
  },
  {
   "cell_type": "code",
   "execution_count": 8,
   "id": "5698e8da",
   "metadata": {},
   "outputs": [
    {
     "data": {
      "text/plain": [
       "(562149, 18)"
      ]
     },
     "execution_count": 8,
     "metadata": {},
     "output_type": "execute_result"
    }
   ],
   "source": [
    "aki_icu = aki.merge(icu_first, on=['subject_id', 'hadm_id', 'stay_id'])\n",
    "aki_icu.shape"
   ]
  },
  {
   "cell_type": "markdown",
   "id": "9b7ddd11",
   "metadata": {},
   "source": [
    "aki_icu"
   ]
  },
  {
   "cell_type": "code",
   "execution_count": 9,
   "id": "340e4732",
   "metadata": {},
   "outputs": [
    {
     "data": {
      "text/plain": [
       "subject_id              29945\n",
       "hadm_id                 29945\n",
       "stay_id                 29945\n",
       "charttime              447065\n",
       "creat_low_past_7day       184\n",
       "creat_low_past_48hr       191\n",
       "creat                     220\n",
       "aki_stage_creat             4\n",
       "uo_rt_6hr               14461\n",
       "uo_rt_12hr              17428\n",
       "uo_rt_24hr              20280\n",
       "aki_stage_uo                4\n",
       "aki_stage                   3\n",
       "first_careunit              9\n",
       "last_careunit               9\n",
       "intime                  29945\n",
       "outtime                 29945\n",
       "los                     29095\n",
       "dtype: int64"
      ]
     },
     "execution_count": 9,
     "metadata": {},
     "output_type": "execute_result"
    }
   ],
   "source": [
    "aki_icu.nunique()"
   ]
  },
  {
   "cell_type": "markdown",
   "id": "0934a17f",
   "metadata": {},
   "source": [
    "#### Filter out patients with DNR request"
   ]
  },
  {
   "cell_type": "code",
   "execution_count": 10,
   "id": "35233be9",
   "metadata": {},
   "outputs": [],
   "source": [
    "aki_icu_enc = aki_icu['hadm_id'].unique()"
   ]
  },
  {
   "cell_type": "code",
   "execution_count": 11,
   "id": "98bd4112",
   "metadata": {},
   "outputs": [
    {
     "data": {
      "text/plain": [
       "(2413, 1)"
      ]
     },
     "execution_count": 11,
     "metadata": {},
     "output_type": "execute_result"
    }
   ],
   "source": [
    "# Get patients with DNR in the current cohort.\n",
    "dnr = run_query(\n",
    "    f\"\"\"SELECT hadm_id from `physionet-data.mimiciv_icu.chartevents` WHERE itemid=22378 or itemid=228687 \n",
    "    AND hadm_id IN {str(tuple(aki_icu_enc))}\"\"\"\n",
    ")\n",
    "dnr.shape"
   ]
  },
  {
   "cell_type": "code",
   "execution_count": 12,
   "id": "1929f0ff",
   "metadata": {},
   "outputs": [
    {
     "data": {
      "text/plain": [
       "(562149, 18)"
      ]
     },
     "execution_count": 12,
     "metadata": {},
     "output_type": "execute_result"
    }
   ],
   "source": [
    "aki_no_dnr = aki_icu[~aki_icu.isin(dnr['hadm_id'].values)]\n",
    "aki_icu.shape"
   ]
  },
  {
   "cell_type": "markdown",
   "id": "95f15dde",
   "metadata": {},
   "source": [
    "#### Creatinine and Urine Output within 24 hours of admission"
   ]
  },
  {
   "cell_type": "code",
   "execution_count": 13,
   "id": "e2f2636b",
   "metadata": {},
   "outputs": [],
   "source": [
    "aki_no_dnr_sid = aki_no_dnr['stay_id'].unique()"
   ]
  },
  {
   "cell_type": "code",
   "execution_count": 14,
   "id": "0782bd0f",
   "metadata": {},
   "outputs": [],
   "source": [
    "# Get creatinine and urine output values for the current cohort.\n",
    "creatinine = run_query(\n",
    "    f\"\"\"SELECT * FROM `physionet-data.mimiciv_derived.kdigo_creatinine` WHERE stay_id IN \n",
    "    {str(tuple(aki_no_dnr_sid))}\"\"\"\n",
    ")\n",
    "uo = run_query(\n",
    "    f\"\"\"SELECT * FROM `physionet-data.mimiciv_derived.kdigo_uo` WHERE stay_id IN \n",
    "    {str(tuple(aki_no_dnr_sid))}\n",
    "    \"\"\"\n",
    ")"
   ]
  },
  {
   "cell_type": "code",
   "execution_count": 15,
   "id": "f9c1be5e",
   "metadata": {},
   "outputs": [
    {
     "data": {
      "text/plain": [
       "(29945, 2)"
      ]
     },
     "execution_count": 15,
     "metadata": {},
     "output_type": "execute_result"
    }
   ],
   "source": [
    "# Find stay_ids that do not have a creatinine or uo value within 24 hours.\n",
    "cohort_sid_intime = aki_no_dnr[['stay_id', 'intime']].drop_duplicates()\n",
    "cohort_sid_intime.shape"
   ]
  },
  {
   "cell_type": "code",
   "execution_count": 16,
   "id": "8c0749dc",
   "metadata": {},
   "outputs": [
    {
     "data": {
      "text/plain": [
       "stay_id    29945\n",
       "intime     29945\n",
       "dtype: int64"
      ]
     },
     "execution_count": 16,
     "metadata": {},
     "output_type": "execute_result"
    }
   ],
   "source": [
    "cohort_sid_intime.nunique()"
   ]
  },
  {
   "cell_type": "code",
   "execution_count": 17,
   "id": "f91cba59",
   "metadata": {},
   "outputs": [
    {
     "name": "stdout",
     "output_type": "stream",
     "text": [
      "stay_id                 29945\n",
      "intime                  29945\n",
      "hadm_id                 29945\n",
      "charttime              294639\n",
      "creat                     288\n",
      "creat_low_past_48hr       252\n",
      "creat_low_past_7day       245\n",
      "dtype: int64\n",
      "stay_id              29945\n",
      "intime               29945\n",
      "charttime           874955\n",
      "weight                1708\n",
      "urineoutput_6hr       3059\n",
      "urineoutput_12hr      5104\n",
      "urineoutput_24hr      8833\n",
      "uo_rt_6hr            67925\n",
      "uo_rt_12hr           61784\n",
      "uo_rt_24hr           58085\n",
      "uo_tm_6hr              301\n",
      "uo_tm_12hr             661\n",
      "uo_tm_24hr            1381\n",
      "dtype: int64\n"
     ]
    }
   ],
   "source": [
    "# Merge with intime\n",
    "creatinine_icu = cohort_sid_intime.merge(creatinine, on='stay_id', how='left')\n",
    "uo_icu = cohort_sid_intime.merge(uo, on='stay_id', how='left')\n",
    "print(creatinine_icu.nunique())\n",
    "print(uo_icu.nunique())"
   ]
  },
  {
   "cell_type": "code",
   "execution_count": 18,
   "id": "b936aa70",
   "metadata": {},
   "outputs": [],
   "source": [
    "# Calculate delta between intime and charttime in days.\n",
    "creatinine_icu['delta_days'] = (creatinine_icu['charttime'] - creatinine_icu['intime']) / np.timedelta64(1, 'D')\n",
    "uo_icu['delta_days'] = (uo_icu['charttime'] - uo_icu['intime']) / np.timedelta64(1, 'D')"
   ]
  },
  {
   "cell_type": "code",
   "execution_count": 19,
   "id": "0e65c017",
   "metadata": {},
   "outputs": [
    {
     "data": {
      "text/plain": [
       "count    296535.000000\n",
       "mean          3.811834\n",
       "std           7.433108\n",
       "min          -6.999803\n",
       "25%           0.111545\n",
       "50%           1.500000\n",
       "75%           5.127760\n",
       "max         101.209722\n",
       "Name: delta_days, dtype: float64"
      ]
     },
     "execution_count": 19,
     "metadata": {},
     "output_type": "execute_result"
    }
   ],
   "source": [
    "creatinine_icu['delta_days'].describe()"
   ]
  },
  {
   "cell_type": "code",
   "execution_count": 20,
   "id": "9c90976c",
   "metadata": {},
   "outputs": [
    {
     "data": {
      "text/plain": [
       "count    2.004746e+06\n",
       "mean     5.443540e+00\n",
       "std      7.443966e+00\n",
       "min     -3.001042e+01\n",
       "25%      1.103646e+00\n",
       "50%      2.807240e+00\n",
       "75%      6.825747e+00\n",
       "max      1.015424e+02\n",
       "Name: delta_days, dtype: float64"
      ]
     },
     "execution_count": 20,
     "metadata": {},
     "output_type": "execute_result"
    }
   ],
   "source": [
    "uo_icu['delta_days'].describe()"
   ]
  },
  {
   "cell_type": "code",
   "execution_count": 21,
   "id": "c840914a",
   "metadata": {},
   "outputs": [],
   "source": [
    "# Filter for measurements within 48 hours.\n",
    "creatinine_icu_48 = creatinine_icu[(creatinine_icu['delta_days'] >= 0) & (creatinine_icu['delta_days'] <= 2)]\n",
    "uo_icu_48 = uo_icu[(uo_icu['delta_days'] >= 0) & (uo_icu['delta_days'] <= 2)]"
   ]
  },
  {
   "cell_type": "code",
   "execution_count": 22,
   "id": "476700e1",
   "metadata": {
    "scrolled": true
   },
   "outputs": [
    {
     "data": {
      "text/plain": [
       "29110"
      ]
     },
     "execution_count": 22,
     "metadata": {},
     "output_type": "execute_result"
    }
   ],
   "source": [
    "# Use set intersection to find ids that match by criterion. \n",
    "sids_48 = list(set(creatinine_icu_48['stay_id'].unique()).intersection(set(uo_icu_48['stay_id'].unique())))\n",
    "len(sids_48)"
   ]
  },
  {
   "cell_type": "code",
   "execution_count": 23,
   "id": "e7d818ce",
   "metadata": {},
   "outputs": [
    {
     "data": {
      "text/plain": [
       "835"
      ]
     },
     "execution_count": 23,
     "metadata": {},
     "output_type": "execute_result"
    }
   ],
   "source": [
    "# Stays lost\n",
    "len(aki_no_dnr_sid) - len(sids_48)"
   ]
  },
  {
   "cell_type": "code",
   "execution_count": 24,
   "id": "cf2b0ab1",
   "metadata": {},
   "outputs": [
    {
     "data": {
      "text/plain": [
       "(555624, 18)"
      ]
     },
     "execution_count": 24,
     "metadata": {},
     "output_type": "execute_result"
    }
   ],
   "source": [
    "aki_creat_uo_48 = aki_no_dnr[aki_no_dnr['stay_id'].isin(sids_48)].reset_index(drop=True)\n",
    "aki_creat_uo_48.shape"
   ]
  },
  {
   "cell_type": "markdown",
   "id": "3b2f5b81",
   "metadata": {},
   "source": [
    "#### Patients greater than 18"
   ]
  },
  {
   "cell_type": "code",
   "execution_count": 25,
   "id": "745f829d",
   "metadata": {},
   "outputs": [],
   "source": [
    "aki_creat_uo_48_pats = aki_creat_uo_48['subject_id'].unique()"
   ]
  },
  {
   "cell_type": "code",
   "execution_count": 26,
   "id": "e64d39d4",
   "metadata": {},
   "outputs": [],
   "source": [
    "# Query patients in our current cohort under 18.\n",
    "demo = run_query(\n",
    "    f\"\"\"SELECT * FROM `physionet-data.mimiciv_hosp.patients` WHERE subject_id IN {str(tuple(aki_creat_uo_48_pats))} \"\"\"\n",
    ")"
   ]
  },
  {
   "cell_type": "code",
   "execution_count": 27,
   "id": "68a09e87",
   "metadata": {},
   "outputs": [],
   "source": [
    "demo_18 = demo[demo['anchor_age'] < 18]"
   ]
  },
  {
   "cell_type": "code",
   "execution_count": 28,
   "id": "c6d1ae75",
   "metadata": {},
   "outputs": [
    {
     "data": {
      "text/plain": [
       "0"
      ]
     },
     "execution_count": 28,
     "metadata": {},
     "output_type": "execute_result"
    }
   ],
   "source": [
    "# No patients match so we can ignore this criteria.\n",
    "demo_18.shape[0]"
   ]
  },
  {
   "cell_type": "markdown",
   "id": "a3b426a8",
   "metadata": {},
   "source": [
    "#### Filter to a single sample per patient.\n",
    "Idea: Max AKI stage in the 1st 48 hours of the stay.\n",
    "If duplicates, take the one closest to the intime."
   ]
  },
  {
   "cell_type": "code",
   "execution_count": 29,
   "id": "f950f429",
   "metadata": {},
   "outputs": [],
   "source": [
    "# Calculate delta days.\n",
    "aki_creat_uo_48['delta_hours_aki'] = (aki_creat_uo_48['charttime'] - aki_creat_uo_48['intime']) / np.timedelta64(1, 'h')"
   ]
  },
  {
   "cell_type": "code",
   "execution_count": 30,
   "id": "a592a4ba",
   "metadata": {},
   "outputs": [
    {
     "data": {
      "text/plain": [
       "count    555624.000000\n",
       "mean        112.719909\n",
       "std         170.999124\n",
       "min        -159.816944\n",
       "25%          23.550000\n",
       "50%          51.166667\n",
       "75%         127.562917\n",
       "max        2284.089722\n",
       "Name: delta_hours_aki, dtype: float64"
      ]
     },
     "execution_count": 30,
     "metadata": {},
     "output_type": "execute_result"
    }
   ],
   "source": [
    "aki_creat_uo_48['delta_hours_aki'].describe()"
   ]
  },
  {
   "cell_type": "code",
   "execution_count": 31,
   "id": "7a73642c",
   "metadata": {},
   "outputs": [],
   "source": [
    "cohort_48 = aki_creat_uo_48[(aki_creat_uo_48['delta_hours_aki'] >= 0) & (aki_creat_uo_48['delta_hours_aki'] <= 12)].reset_index(drop=True)"
   ]
  },
  {
   "cell_type": "code",
   "execution_count": 32,
   "id": "915a0f1d",
   "metadata": {},
   "outputs": [],
   "source": [
    "max_aki_48 = cohort_48.groupby(by='stay_id')['aki_stage'].max().reset_index().rename({'index' : 'stay_id'}, axis=1)"
   ]
  },
  {
   "cell_type": "code",
   "execution_count": 33,
   "id": "88fd9eb1",
   "metadata": {},
   "outputs": [],
   "source": [
    "cohort_max_aki = aki_creat_uo_48.merge(max_aki_48)"
   ]
  },
  {
   "cell_type": "code",
   "execution_count": 34,
   "id": "d8160f19",
   "metadata": {},
   "outputs": [],
   "source": [
    "# Select the min chart time.\n",
    "min_chart = cohort_max_aki.groupby('stay_id')['charttime'].min().reset_index().rename({'index' : 'stay_id'}, axis=1)"
   ]
  },
  {
   "cell_type": "code",
   "execution_count": 35,
   "id": "e10bef3f",
   "metadata": {},
   "outputs": [],
   "source": [
    "cohort = cohort_max_aki.merge(min_chart)"
   ]
  },
  {
   "cell_type": "code",
   "execution_count": 36,
   "id": "85e6d094",
   "metadata": {},
   "outputs": [
    {
     "data": {
      "text/plain": [
       "(12688, 19)"
      ]
     },
     "execution_count": 36,
     "metadata": {},
     "output_type": "execute_result"
    }
   ],
   "source": [
    "# Drop NaN on hadm_id as NaN hadm_id's represent outpatients.\n",
    "cohort = cohort.dropna(subset=['hadm_id'])\n",
    "cohort.shape"
   ]
  },
  {
   "cell_type": "markdown",
   "id": "e4e33c53",
   "metadata": {},
   "source": [
    "## Add Covariates"
   ]
  },
  {
   "cell_type": "markdown",
   "id": "e11131b5",
   "metadata": {},
   "source": [
    "#### Labs\n",
    "- K+\n",
    "- pH\n",
    "- BUN\n",
    "- HCO3"
   ]
  },
  {
   "cell_type": "code",
   "execution_count": 37,
   "id": "0bad3998",
   "metadata": {},
   "outputs": [],
   "source": [
    "cohort_enc = cohort['hadm_id'].unique()\n",
    "labs = run_query(\n",
    "    f\"\"\"SELECT * FROM (select l.*, d.label from `physionet-data.mimiciv_hosp.labevents` AS l\n",
    "        JOIN `physionet-data.mimiciv_hosp.d_labitems` d ON l.itemid = d.itemid WHERE \n",
    "        l.itemid IN (51006, 50822, 50971, 50810, 51221, 50912, 50862, 50820, 50882, 50803)\n",
    "        ) \n",
    "        WHERE hadm_id IN {str(tuple(cohort_enc))}\"\"\"\n",
    ")"
   ]
  },
  {
   "cell_type": "code",
   "execution_count": 38,
   "id": "4591705a",
   "metadata": {},
   "outputs": [
    {
     "data": {
      "text/plain": [
       "(1289950, 16)"
      ]
     },
     "execution_count": 38,
     "metadata": {},
     "output_type": "execute_result"
    }
   ],
   "source": [
    "labs.shape"
   ]
  },
  {
   "cell_type": "code",
   "execution_count": 39,
   "id": "99d4008a",
   "metadata": {},
   "outputs": [],
   "source": [
    "cohort_ts = cohort[['stay_id', 'hadm_id', 'intime', 'outtime']].drop_duplicates()"
   ]
  },
  {
   "cell_type": "code",
   "execution_count": 40,
   "id": "03a86da9",
   "metadata": {},
   "outputs": [],
   "source": [
    "# Convert dates to datetime.\n",
    "cohort_ts['intime'] = pd.to_datetime(cohort_ts['intime'])\n",
    "cohort_ts['outtime'] = pd.to_datetime(cohort_ts['outtime'])\n",
    "labs['charttime'] = pd.to_datetime(labs['charttime'])"
   ]
  },
  {
   "cell_type": "code",
   "execution_count": 41,
   "id": "c143040f",
   "metadata": {},
   "outputs": [
    {
     "data": {
      "text/plain": [
       "(710056, 19)"
      ]
     },
     "execution_count": 41,
     "metadata": {},
     "output_type": "execute_result"
    }
   ],
   "source": [
    "# Filter labs to only keep those whose charttime is between an admissions intime and outtime. \n",
    "labs_merged = labs.merge(cohort_ts, on='hadm_id')\n",
    "labs_filt = labs_merged[(labs_merged['charttime'] >= labs_merged['intime']) & (labs_merged['charttime'] <= labs_merged['outtime'])]\n",
    "labs_filt.shape"
   ]
  },
  {
   "cell_type": "code",
   "execution_count": 42,
   "id": "ef6baa4c",
   "metadata": {},
   "outputs": [],
   "source": [
    "# Pivot table to get the min and max values of labs. \n",
    "lab_description = pd.pivot_table(labs, values=['valuenum'], index=['hadm_id'], columns=['label'], aggfunc=[np.nanmin, np.nanmax])\n",
    "lab_description = lab_description.reset_index()\n",
    "# Restore correct columns.\n",
    "cols = [\"_\".join(x) for x in list(lab_description)]\n",
    "cols[0] = 'hadm_id'\n",
    "lab_description.columns = cols"
   ]
  },
  {
   "cell_type": "code",
   "execution_count": 43,
   "id": "fd3f7c63",
   "metadata": {},
   "outputs": [
    {
     "data": {
      "text/html": [
       "<div>\n",
       "<style scoped>\n",
       "    .dataframe tbody tr th:only-of-type {\n",
       "        vertical-align: middle;\n",
       "    }\n",
       "\n",
       "    .dataframe tbody tr th {\n",
       "        vertical-align: top;\n",
       "    }\n",
       "\n",
       "    .dataframe thead th {\n",
       "        text-align: right;\n",
       "    }\n",
       "</style>\n",
       "<table border=\"1\" class=\"dataframe\">\n",
       "  <thead>\n",
       "    <tr style=\"text-align: right;\">\n",
       "      <th></th>\n",
       "      <th>hadm_id</th>\n",
       "      <th>nanmin_valuenum_Albumin</th>\n",
       "      <th>nanmin_valuenum_Bicarbonate</th>\n",
       "      <th>nanmin_valuenum_Calculated Bicarbonate, Whole Blood</th>\n",
       "      <th>nanmin_valuenum_Creatinine</th>\n",
       "      <th>nanmin_valuenum_Hematocrit</th>\n",
       "      <th>nanmin_valuenum_Hematocrit, Calculated</th>\n",
       "      <th>nanmin_valuenum_Potassium</th>\n",
       "      <th>nanmin_valuenum_Potassium, Whole Blood</th>\n",
       "      <th>nanmin_valuenum_Urea Nitrogen</th>\n",
       "      <th>...</th>\n",
       "      <th>nanmax_valuenum_Albumin</th>\n",
       "      <th>nanmax_valuenum_Bicarbonate</th>\n",
       "      <th>nanmax_valuenum_Calculated Bicarbonate, Whole Blood</th>\n",
       "      <th>nanmax_valuenum_Creatinine</th>\n",
       "      <th>nanmax_valuenum_Hematocrit</th>\n",
       "      <th>nanmax_valuenum_Hematocrit, Calculated</th>\n",
       "      <th>nanmax_valuenum_Potassium</th>\n",
       "      <th>nanmax_valuenum_Potassium, Whole Blood</th>\n",
       "      <th>nanmax_valuenum_Urea Nitrogen</th>\n",
       "      <th>nanmax_valuenum_pH</th>\n",
       "    </tr>\n",
       "  </thead>\n",
       "  <tbody>\n",
       "    <tr>\n",
       "      <th>0</th>\n",
       "      <td>20000094</td>\n",
       "      <td>3.1</td>\n",
       "      <td>19.0</td>\n",
       "      <td>NaN</td>\n",
       "      <td>3.8</td>\n",
       "      <td>40.1</td>\n",
       "      <td>NaN</td>\n",
       "      <td>4.3</td>\n",
       "      <td>NaN</td>\n",
       "      <td>99.0</td>\n",
       "      <td>...</td>\n",
       "      <td>3.6</td>\n",
       "      <td>28.0</td>\n",
       "      <td>NaN</td>\n",
       "      <td>3.9</td>\n",
       "      <td>42.1</td>\n",
       "      <td>NaN</td>\n",
       "      <td>4.6</td>\n",
       "      <td>NaN</td>\n",
       "      <td>99.0</td>\n",
       "      <td>7.41</td>\n",
       "    </tr>\n",
       "    <tr>\n",
       "      <th>1</th>\n",
       "      <td>20001305</td>\n",
       "      <td>2.6</td>\n",
       "      <td>21.0</td>\n",
       "      <td>NaN</td>\n",
       "      <td>0.8</td>\n",
       "      <td>31.4</td>\n",
       "      <td>NaN</td>\n",
       "      <td>4.1</td>\n",
       "      <td>NaN</td>\n",
       "      <td>47.0</td>\n",
       "      <td>...</td>\n",
       "      <td>2.6</td>\n",
       "      <td>25.0</td>\n",
       "      <td>NaN</td>\n",
       "      <td>1.2</td>\n",
       "      <td>34.5</td>\n",
       "      <td>NaN</td>\n",
       "      <td>4.7</td>\n",
       "      <td>NaN</td>\n",
       "      <td>59.0</td>\n",
       "      <td>7.46</td>\n",
       "    </tr>\n",
       "    <tr>\n",
       "      <th>2</th>\n",
       "      <td>20001361</td>\n",
       "      <td>3.0</td>\n",
       "      <td>20.0</td>\n",
       "      <td>NaN</td>\n",
       "      <td>1.6</td>\n",
       "      <td>30.6</td>\n",
       "      <td>NaN</td>\n",
       "      <td>3.4</td>\n",
       "      <td>NaN</td>\n",
       "      <td>24.0</td>\n",
       "      <td>...</td>\n",
       "      <td>3.2</td>\n",
       "      <td>26.0</td>\n",
       "      <td>NaN</td>\n",
       "      <td>4.2</td>\n",
       "      <td>37.2</td>\n",
       "      <td>NaN</td>\n",
       "      <td>5.8</td>\n",
       "      <td>NaN</td>\n",
       "      <td>49.0</td>\n",
       "      <td>7.48</td>\n",
       "    </tr>\n",
       "    <tr>\n",
       "      <th>3</th>\n",
       "      <td>20001729</td>\n",
       "      <td>3.5</td>\n",
       "      <td>17.0</td>\n",
       "      <td>NaN</td>\n",
       "      <td>1.1</td>\n",
       "      <td>24.1</td>\n",
       "      <td>26.0</td>\n",
       "      <td>3.7</td>\n",
       "      <td>3.3</td>\n",
       "      <td>10.0</td>\n",
       "      <td>...</td>\n",
       "      <td>3.5</td>\n",
       "      <td>33.0</td>\n",
       "      <td>NaN</td>\n",
       "      <td>3.7</td>\n",
       "      <td>38.3</td>\n",
       "      <td>28.0</td>\n",
       "      <td>5.7</td>\n",
       "      <td>4.5</td>\n",
       "      <td>58.0</td>\n",
       "      <td>7.48</td>\n",
       "    </tr>\n",
       "    <tr>\n",
       "      <th>4</th>\n",
       "      <td>20001770</td>\n",
       "      <td>2.0</td>\n",
       "      <td>15.0</td>\n",
       "      <td>NaN</td>\n",
       "      <td>0.7</td>\n",
       "      <td>19.9</td>\n",
       "      <td>NaN</td>\n",
       "      <td>3.4</td>\n",
       "      <td>3.4</td>\n",
       "      <td>9.0</td>\n",
       "      <td>...</td>\n",
       "      <td>3.0</td>\n",
       "      <td>22.0</td>\n",
       "      <td>NaN</td>\n",
       "      <td>1.7</td>\n",
       "      <td>28.4</td>\n",
       "      <td>NaN</td>\n",
       "      <td>5.2</td>\n",
       "      <td>3.4</td>\n",
       "      <td>23.0</td>\n",
       "      <td>7.26</td>\n",
       "    </tr>\n",
       "  </tbody>\n",
       "</table>\n",
       "<p>5 rows × 21 columns</p>\n",
       "</div>"
      ],
      "text/plain": [
       "    hadm_id  nanmin_valuenum_Albumin  nanmin_valuenum_Bicarbonate  \\\n",
       "0  20000094                      3.1                         19.0   \n",
       "1  20001305                      2.6                         21.0   \n",
       "2  20001361                      3.0                         20.0   \n",
       "3  20001729                      3.5                         17.0   \n",
       "4  20001770                      2.0                         15.0   \n",
       "\n",
       "   nanmin_valuenum_Calculated Bicarbonate, Whole Blood  \\\n",
       "0                                                NaN     \n",
       "1                                                NaN     \n",
       "2                                                NaN     \n",
       "3                                                NaN     \n",
       "4                                                NaN     \n",
       "\n",
       "   nanmin_valuenum_Creatinine  nanmin_valuenum_Hematocrit  \\\n",
       "0                         3.8                        40.1   \n",
       "1                         0.8                        31.4   \n",
       "2                         1.6                        30.6   \n",
       "3                         1.1                        24.1   \n",
       "4                         0.7                        19.9   \n",
       "\n",
       "   nanmin_valuenum_Hematocrit, Calculated  nanmin_valuenum_Potassium  \\\n",
       "0                                     NaN                        4.3   \n",
       "1                                     NaN                        4.1   \n",
       "2                                     NaN                        3.4   \n",
       "3                                    26.0                        3.7   \n",
       "4                                     NaN                        3.4   \n",
       "\n",
       "   nanmin_valuenum_Potassium, Whole Blood  nanmin_valuenum_Urea Nitrogen  ...  \\\n",
       "0                                     NaN                           99.0  ...   \n",
       "1                                     NaN                           47.0  ...   \n",
       "2                                     NaN                           24.0  ...   \n",
       "3                                     3.3                           10.0  ...   \n",
       "4                                     3.4                            9.0  ...   \n",
       "\n",
       "   nanmax_valuenum_Albumin  nanmax_valuenum_Bicarbonate  \\\n",
       "0                      3.6                         28.0   \n",
       "1                      2.6                         25.0   \n",
       "2                      3.2                         26.0   \n",
       "3                      3.5                         33.0   \n",
       "4                      3.0                         22.0   \n",
       "\n",
       "   nanmax_valuenum_Calculated Bicarbonate, Whole Blood  \\\n",
       "0                                                NaN     \n",
       "1                                                NaN     \n",
       "2                                                NaN     \n",
       "3                                                NaN     \n",
       "4                                                NaN     \n",
       "\n",
       "   nanmax_valuenum_Creatinine  nanmax_valuenum_Hematocrit  \\\n",
       "0                         3.9                        42.1   \n",
       "1                         1.2                        34.5   \n",
       "2                         4.2                        37.2   \n",
       "3                         3.7                        38.3   \n",
       "4                         1.7                        28.4   \n",
       "\n",
       "   nanmax_valuenum_Hematocrit, Calculated  nanmax_valuenum_Potassium  \\\n",
       "0                                     NaN                        4.6   \n",
       "1                                     NaN                        4.7   \n",
       "2                                     NaN                        5.8   \n",
       "3                                    28.0                        5.7   \n",
       "4                                     NaN                        5.2   \n",
       "\n",
       "   nanmax_valuenum_Potassium, Whole Blood  nanmax_valuenum_Urea Nitrogen  \\\n",
       "0                                     NaN                           99.0   \n",
       "1                                     NaN                           59.0   \n",
       "2                                     NaN                           49.0   \n",
       "3                                     4.5                           58.0   \n",
       "4                                     3.4                           23.0   \n",
       "\n",
       "   nanmax_valuenum_pH  \n",
       "0                7.41  \n",
       "1                7.46  \n",
       "2                7.48  \n",
       "3                7.48  \n",
       "4                7.26  \n",
       "\n",
       "[5 rows x 21 columns]"
      ]
     },
     "execution_count": 43,
     "metadata": {},
     "output_type": "execute_result"
    }
   ],
   "source": [
    "lab_description.head()"
   ]
  },
  {
   "cell_type": "code",
   "execution_count": 44,
   "id": "7a223329",
   "metadata": {},
   "outputs": [],
   "source": [
    "cohort_icu_labs = cohort.merge(lab_description, on='hadm_id')"
   ]
  },
  {
   "cell_type": "code",
   "execution_count": 45,
   "id": "42ceab57",
   "metadata": {},
   "outputs": [
    {
     "data": {
      "text/plain": [
       "(12683, 39)"
      ]
     },
     "execution_count": 45,
     "metadata": {},
     "output_type": "execute_result"
    }
   ],
   "source": [
    "cohort_icu_labs.shape"
   ]
  },
  {
   "cell_type": "markdown",
   "id": "451175d5",
   "metadata": {},
   "source": [
    "#### SOFA Score\n",
    "Select SOFA closest to icu admission."
   ]
  },
  {
   "cell_type": "code",
   "execution_count": 46,
   "id": "c38314cb",
   "metadata": {},
   "outputs": [],
   "source": [
    "cohort_sid = cohort_icu_labs['stay_id'].unique()"
   ]
  },
  {
   "cell_type": "code",
   "execution_count": 47,
   "id": "1a62b07b",
   "metadata": {},
   "outputs": [],
   "source": [
    "# Query SOFA scores for the selected stays.\n",
    "sofa = run_query(\n",
    "    f\"\"\"SELECT stay_id, hr, starttime, endtime, sofa_24hours\n",
    "    FROM `physionet-data.mimiciv_derived.sofa` WHERE stay_id IN {str(tuple(cohort_sid))}\"\"\"\n",
    ")"
   ]
  },
  {
   "cell_type": "code",
   "execution_count": 48,
   "id": "613a4a92",
   "metadata": {},
   "outputs": [
    {
     "data": {
      "text/plain": [
       "(1377183, 5)"
      ]
     },
     "execution_count": 48,
     "metadata": {},
     "output_type": "execute_result"
    }
   ],
   "source": [
    "sofa.shape"
   ]
  },
  {
   "cell_type": "code",
   "execution_count": 49,
   "id": "5541ea68",
   "metadata": {},
   "outputs": [],
   "source": [
    "sofa_48 = sofa[sofa['hr'] <= 48]"
   ]
  },
  {
   "cell_type": "code",
   "execution_count": 50,
   "id": "b1c91890",
   "metadata": {},
   "outputs": [],
   "source": [
    "sofa_48_min = dict(sofa_48.groupby(by='stay_id')['hr'].min())"
   ]
  },
  {
   "cell_type": "code",
   "execution_count": 51,
   "id": "db40aac8",
   "metadata": {},
   "outputs": [],
   "source": [
    "sofa['min_hour'] = sofa['stay_id'].map(sofa_48_min)"
   ]
  },
  {
   "cell_type": "code",
   "execution_count": 52,
   "id": "84b3bf02",
   "metadata": {},
   "outputs": [
    {
     "data": {
      "text/plain": [
       "(12683, 6)"
      ]
     },
     "execution_count": 52,
     "metadata": {},
     "output_type": "execute_result"
    }
   ],
   "source": [
    "sofa = sofa[sofa['min_hour'] == sofa['hr']]\n",
    "sofa.shape"
   ]
  },
  {
   "cell_type": "code",
   "execution_count": 53,
   "id": "20c04ce3",
   "metadata": {},
   "outputs": [
    {
     "data": {
      "text/plain": [
       "(12683, 44)"
      ]
     },
     "execution_count": 53,
     "metadata": {},
     "output_type": "execute_result"
    }
   ],
   "source": [
    "cohort_sofa = cohort_icu_labs.merge(sofa, on='stay_id', how='left')\n",
    "cohort_sofa.shape"
   ]
  },
  {
   "cell_type": "markdown",
   "id": "fbf4c680",
   "metadata": {},
   "source": [
    "#### Antibiotics"
   ]
  },
  {
   "cell_type": "code",
   "execution_count": 54,
   "id": "f752cc91",
   "metadata": {},
   "outputs": [
    {
     "data": {
      "text/plain": [
       "(18244, 4)"
      ]
     },
     "execution_count": 54,
     "metadata": {},
     "output_type": "execute_result"
    }
   ],
   "source": [
    "antib = run_query(\n",
    "    f\"\"\"\n",
    "    SELECT a.stay_id, a.starttime, a.route, a.antibiotic FROM `physionet-data.mimiciv_derived.antibiotic` AS a\n",
    "    where (a.antibiotic like \"Vancomycin\" or a.antibiotic like \n",
    "    \"Gentamicin\" or a.antibiotic like \"Vancocin\" \n",
    "    or a.antibiotic like \"Gentamicin (Bulk)\" or a.antibiotic like 'NEO*IV*Gentamicin' \n",
    "    or a.antibiotic like 'NEO*IV*Vancomycin' or a.antibiotic like 'Gentamicin Sulfate') AND\n",
    "    a.stay_id IN {str(tuple(cohort_sid))}\n",
    "    \"\"\"\n",
    ")\n",
    "antib.shape"
   ]
  },
  {
   "cell_type": "code",
   "execution_count": 55,
   "id": "c0d59f74",
   "metadata": {},
   "outputs": [],
   "source": [
    "antib['antibiotic'] = 1"
   ]
  },
  {
   "cell_type": "code",
   "execution_count": 56,
   "id": "5cc6a287",
   "metadata": {},
   "outputs": [
    {
     "data": {
      "text/plain": [
       "(12683, 45)"
      ]
     },
     "execution_count": 56,
     "metadata": {},
     "output_type": "execute_result"
    }
   ],
   "source": [
    "cohort_stay_intime = cohort_sofa[['stay_id', 'intime']].drop_duplicates()\n",
    "antib['starttime'] = pd.to_datetime(antib['starttime'])\n",
    "antib = antib.dropna(subset='stay_id')\n",
    "antib_intime_stayid = cohort_stay_intime.merge(antib, on='stay_id')\n",
    "antib_intime_stayid['delta_days'] = (antib_intime_stayid['starttime'] - antib_intime_stayid['intime']) / np.timedelta64(1, 'D')\n",
    "antib_intime_stayid_48 = antib_intime_stayid[antib_intime_stayid['delta_days'] <= 2]\n",
    "antib_intime_stayid_48 = antib_intime_stayid_48.drop_duplicates(subset=['stay_id'])\n",
    "antib_intime_stayid_48 = antib_intime_stayid_48[['stay_id', 'antibiotic']]\n",
    "cohort_antib = cohort_sofa.merge(antib_intime_stayid_48, on='stay_id', how='left')\n",
    "cohort_antib['antibiotic'].fillna(0, inplace=True)\n",
    "cohort_antib.shape"
   ]
  },
  {
   "cell_type": "code",
   "execution_count": 57,
   "id": "c91bd38d",
   "metadata": {},
   "outputs": [
    {
     "data": {
      "text/plain": [
       "0.0    7416\n",
       "1.0    5267\n",
       "Name: antibiotic, dtype: int64"
      ]
     },
     "execution_count": 57,
     "metadata": {},
     "output_type": "execute_result"
    }
   ],
   "source": [
    "cohort_antib['antibiotic'].value_counts()"
   ]
  },
  {
   "cell_type": "markdown",
   "id": "1be963dc",
   "metadata": {},
   "source": [
    "#### Sepsis"
   ]
  },
  {
   "cell_type": "code",
   "execution_count": 58,
   "id": "4eaea2dd",
   "metadata": {},
   "outputs": [
    {
     "data": {
      "text/plain": [
       "(7643, 2)"
      ]
     },
     "execution_count": 58,
     "metadata": {},
     "output_type": "execute_result"
    }
   ],
   "source": [
    "sepsis = run_query(\n",
    "    f\"\"\"\n",
    "    SELECT stay_id, sepsis3 FROM `physionet-data.mimiciv_derived.sepsis3` WHERE\n",
    "    stay_id IN {str(tuple(cohort_sid))}\n",
    "    \"\"\"\n",
    ")\n",
    "sepsis.shape"
   ]
  },
  {
   "cell_type": "code",
   "execution_count": 59,
   "id": "96cd782d",
   "metadata": {},
   "outputs": [
    {
     "data": {
      "text/plain": [
       "(7643, 2)"
      ]
     },
     "execution_count": 59,
     "metadata": {},
     "output_type": "execute_result"
    }
   ],
   "source": [
    "sepsis.drop_duplicates(inplace=True)\n",
    "sepsis.shape"
   ]
  },
  {
   "cell_type": "code",
   "execution_count": 60,
   "id": "f28b4053",
   "metadata": {},
   "outputs": [
    {
     "data": {
      "text/plain": [
       "(12683, 46)"
      ]
     },
     "execution_count": 60,
     "metadata": {},
     "output_type": "execute_result"
    }
   ],
   "source": [
    "cohort_sepsis = cohort_antib.merge(sepsis, on='stay_id', how='left')\n",
    "cohort_sepsis['sepsis3'].value_counts(dropna=False)\n",
    "cohort_sepsis['sepsis3'].fillna(False, inplace=True)\n",
    "cohort_sepsis.shape"
   ]
  },
  {
   "cell_type": "markdown",
   "id": "eecbcaf2",
   "metadata": {},
   "source": [
    "#### Vitals\n",
    "- Heart Rate\n",
    "- MBP\n",
    "- MBP_NI\n",
    "- Resp Rate\n",
    "- SPo2"
   ]
  },
  {
   "cell_type": "code",
   "execution_count": 61,
   "id": "d0d54aff",
   "metadata": {},
   "outputs": [],
   "source": [
    "# Query requested vitals attributes for the cohort.\n",
    "cohort_sids = cohort_sepsis['stay_id'].unique()\n",
    "vitals = run_query(\n",
    "    f\"\"\"\n",
    "    SELECT stay_id, charttime, heart_rate, mbp, mbp_ni, resp_rate, spo2\n",
    "    FROM `physionet-data.mimiciv_derived.vitalsign` WHERE stay_id IN \n",
    "    {str(tuple(cohort_sids))}\n",
    "    \"\"\"\n",
    ")"
   ]
  },
  {
   "cell_type": "code",
   "execution_count": 62,
   "id": "74d5828c",
   "metadata": {},
   "outputs": [],
   "source": [
    "# Get min and max vitals.\n",
    "agg_cols = ['heart_rate', 'mbp', 'mbp_ni', 'resp_rate', 'spo2']\n",
    "vitals_min = vitals.groupby('stay_id')[agg_cols].min().reset_index()\n",
    "vitals_min.rename(dict(zip(agg_cols, ['min_' + x for x in agg_cols])), axis=1, inplace=True)\n",
    "vitals_max = vitals.groupby('stay_id')[agg_cols].max().reset_index()\n",
    "vitals_max.rename(dict(zip(agg_cols, ['max_' + x for x in agg_cols])), axis=1, inplace=True)"
   ]
  },
  {
   "cell_type": "code",
   "execution_count": 63,
   "id": "1b541ef8",
   "metadata": {},
   "outputs": [],
   "source": [
    "cohort_vitals = cohort_sepsis.merge(vitals_min, on='stay_id', how='left')\n",
    "cohort_vitals = cohort_vitals.merge(vitals_max, on='stay_id', how='left')"
   ]
  },
  {
   "cell_type": "code",
   "execution_count": 64,
   "id": "8e2e70e3",
   "metadata": {},
   "outputs": [
    {
     "data": {
      "text/plain": [
       "(12683, 56)"
      ]
     },
     "execution_count": 64,
     "metadata": {},
     "output_type": "execute_result"
    }
   ],
   "source": [
    "cohort_vitals.shape"
   ]
  },
  {
   "cell_type": "markdown",
   "id": "7867acf1",
   "metadata": {},
   "source": [
    "#### Comorbdities\n",
    "- CKD\n",
    "- Hypotension\n",
    "- Heart Failure\n",
    "- Diabetes"
   ]
  },
  {
   "cell_type": "code",
   "execution_count": 65,
   "id": "ec5d0964",
   "metadata": {},
   "outputs": [
    {
     "data": {
      "text/plain": [
       "(249363, 5)"
      ]
     },
     "execution_count": 65,
     "metadata": {},
     "output_type": "execute_result"
    }
   ],
   "source": [
    "# Query all icd codes for our cohort.\n",
    "cohort_enc = cohort_vitals['hadm_id'].unique()\n",
    "icdcodes = run_query(\n",
    "    f\"\"\"\n",
    "    SELECT * FROM `physionet-data.mimiciv_hosp.diagnoses_icd` WHERE \n",
    "    hadm_id IN {str(tuple(cohort_enc))}\n",
    "    \"\"\"\n",
    ")\n",
    "icdcodes.shape"
   ]
  },
  {
   "cell_type": "code",
   "execution_count": 66,
   "id": "e05f94e8",
   "metadata": {},
   "outputs": [],
   "source": [
    "\"\"\"\n",
    "Functions for calculating comorbidities based on ICD9/10 codes.\n",
    "\"\"\"\n",
    "def is_DM(row):\n",
    "    \n",
    "    if row.icd_version== 9:\n",
    "        if row.icd_code == 7751:\n",
    "            return 1 \n",
    "        if pd.to_numeric(row.icd_code, errors= \"coerce\") >= 25000 and pd.to_numeric(row.icd_code, errors= \"coerce\") <= 25033:\n",
    "            return 1      \n",
    "        if pd.to_numeric(row.icd_code, errors= \"coerce\") >= 64800 and pd.to_numeric(row.icd_code, errors= \"coerce\") <= 64804:\n",
    "            return 1\n",
    "        if pd.to_numeric(row.icd_code, errors= \"coerce\") >= 24900 and pd.to_numeric(row.icd_code, errors= \"coerce\") <= 24931:\n",
    "            return 1      \n",
    "        if pd.to_numeric(row.icd_code, errors= \"coerce\") >= 25040 and pd.to_numeric(row.icd_code, errors= \"coerce\") <= 25093:\n",
    "            return 1\n",
    "        if pd.to_numeric(row.icd_code, errors= \"coerce\") >= 24940 and pd.to_numeric(row.icd_code, errors= \"coerce\") <= 24991:\n",
    "            return 1\n",
    "        else:\n",
    "            return 0 \n",
    "        \n",
    "    if row.icd_version== 10:       \n",
    "        if row.icd_code.startswith('E08') or row.icd_code.startswith('E09') or row.icd_code.startswith('E10') or row.icd_code.startswith('E11') or row.icd_code.startswith('E12') or row.icd_code.startswith('E13'):\n",
    "            return 1      \n",
    "        else:\n",
    "            return 0\n",
    "\n",
    "def is_HF(row): #heart failure\n",
    "    if row.icd_version== 9:\n",
    "        if pd.to_numeric(row.icd_code, errors= \"coerce\") == 4280 or pd.to_numeric(row.icd_code, errors= \"coerce\") == 4281 or pd.to_numeric(row.icd_code, errors= \"coerce\") == 4289 or pd.to_numeric(row.icd_code, errors= \"coerce\")==39891:\n",
    "            return 1      \n",
    "        if pd.to_numeric(row.icd_code, errors= \"coerce\") >= 42820 and pd.to_numeric(row.icd_code, errors= \"coerce\") <= 42823:\n",
    "            return 1\n",
    "        if pd.to_numeric(row.icd_code, errors= \"coerce\") >= 42830 and pd.to_numeric(row.icd_code, errors= \"coerce\") <= 42832:\n",
    "            return 1      \n",
    "        if pd.to_numeric(row.icd_code, errors= \"coerce\") >= 42840 and pd.to_numeric(row.icd_code, errors= \"coerce\") <= 42843:\n",
    "            return 1\n",
    "        else:\n",
    "            return 0 \n",
    "        \n",
    "    if row.icd_version== 10:\n",
    "        if row.icd_code.startswith('I13') or row.icd_code.startswith('I11') or row.icd_code.startswith('I25') or row.icd_code.startswith('I46') or row.icd_code.startswith('I50') or row.icd_code.startswith('I42') or row.icd_code.startswith('I43')  or row.icd_code.startswith('I44'):\n",
    "            return 1      \n",
    "        else:\n",
    "            return 0\n",
    "\n",
    "# Hypertension -icd 9 and 10 \n",
    "def is_Hypert(row): \n",
    "    \n",
    "    l=[4010,4011,4019,4372,40200,40210,40290,40509,40519,40201,40211,40291,40310,40300,40390,40501,40511,\n",
    "       40591,40301,40311,40391,40400,40410,40490,40401,40411,40491,40402,40412,40492,40403,40413,40493]\n",
    "    \n",
    "    if row.icd_version== 9:\n",
    "\n",
    "        if pd.to_numeric(row.icd_code, errors= \"coerce\") in l:\n",
    "            return 1      \n",
    "        if pd.to_numeric(row.icd_code, errors= \"coerce\") >= 64200 and pd.to_numeric(row.icd_code, errors= \"coerce\") <= 64204:\n",
    "            return 1\n",
    "        if pd.to_numeric(row.icd_code, errors= \"coerce\") >= 64220 and pd.to_numeric(row.icd_code, errors= \"coerce\") <= 64224:\n",
    "            return 1      \n",
    "        if pd.to_numeric(row.icd_code, errors= \"coerce\") >= 64210 and pd.to_numeric(row.icd_code, errors= \"coerce\") <= 64214:\n",
    "            return 1\n",
    "        if pd.to_numeric(row.icd_code, errors= \"coerce\") >= 64270 and pd.to_numeric(row.icd_code, errors= \"coerce\") <= 64274:\n",
    "            return 1   \n",
    "        if pd.to_numeric(row.icd_code, errors= \"coerce\") >= 64290 and pd.to_numeric(row.icd_code, errors= \"coerce\") <= 64294:\n",
    "            return 1   \n",
    "        else:\n",
    "            return 0 \n",
    "        \n",
    "    if row.icd_version== 10:\n",
    "        if row.icd_code.startswith('I10') or row.icd_code.startswith('I15') or row.icd_code.startswith('I16'):\n",
    "            return 1      \n",
    "        else:\n",
    "            return 0\n",
    "\n",
    "def is_CKD(row):\n",
    "    if row.icd_version== 9:\n",
    "        \n",
    "        if pd.to_numeric(row.icd_code, errors= \"coerce\") >= 5851 and pd.to_numeric(row.icd_code, errors= \"coerce\") <= 5856:\n",
    "            return 1     \n",
    "        if pd.to_numeric(row.icd_code, errors= \"coerce\") == 5859:\n",
    "            return 1   \n",
    "        else:\n",
    "            return 0 \n",
    "        \n",
    "    if row.icd_version== 10:\n",
    "        if row.icd_code.startswith('I12') or row.icd_code.startswith('I12') or row.icd_code.startswith('N01') or row.icd_code.startswith('N02') or row.icd_code.startswith('N03') or row.icd_code.startswith('N04') or row.icd_code.startswith('N05') or row.icd_code.startswith('N06') or row.icd_code.startswith('N07') or row.icd_code.startswith('N08') or row.icd_code.startswith('N11') or row.icd_code.startswith('N13')     or row.icd_code.startswith('N14') or row.icd_code.startswith('N15') or row.icd_code.startswith('N18') or row.icd_code.startswith('N19') or row.icd_code.startswith('N25') or row.icd_code.startswith('N26') or row.icd_code.startswith('N27') or row.icd_code.startswith('N28') or row.icd_code.startswith('N29'):\n",
    "            return 1      \n",
    "        else:\n",
    "            return 0  "
   ]
  },
  {
   "cell_type": "code",
   "execution_count": 67,
   "id": "baac6ec7",
   "metadata": {},
   "outputs": [],
   "source": [
    "# Calculate binary labels on icd codes.\n",
    "icdcodes['dm'] = icdcodes.apply(is_DM, axis=1)\n",
    "icdcodes['heartfailure'] = icdcodes.apply(is_HF, axis=1)\n",
    "icdcodes['hypertension'] = icdcodes.apply(is_Hypert, axis=1)\n",
    "icdcodes['ckd'] = icdcodes.apply(is_CKD, axis=1)"
   ]
  },
  {
   "cell_type": "code",
   "execution_count": 68,
   "id": "e40a0dd4",
   "metadata": {},
   "outputs": [],
   "source": [
    "# Get one value for every stay ID.\n",
    "ckd   = icdcodes.groupby('hadm_id')['ckd'].max().reset_index()\n",
    "dm    = icdcodes.groupby('hadm_id')['dm'].max().reset_index()\n",
    "hyper = icdcodes.groupby('hadm_id')['hypertension'].max().reset_index()\n",
    "hf    = icdcodes.groupby('hadm_id')['heartfailure'].max().reset_index()"
   ]
  },
  {
   "cell_type": "code",
   "execution_count": 69,
   "id": "1f106da9",
   "metadata": {},
   "outputs": [],
   "source": [
    "# Construct comorbdities dataframe.\n",
    "comorbidities = ckd.merge(dm, on='hadm_id', how='left')\n",
    "comorbidities = comorbidities.merge(hyper, on='hadm_id', how='left')\n",
    "comorbidities = comorbidities.merge(hf, on='hadm_id', how='left')\n",
    "comorbidities = comorbidities.fillna(0)"
   ]
  },
  {
   "cell_type": "code",
   "execution_count": 70,
   "id": "a2f4ec5b",
   "metadata": {},
   "outputs": [],
   "source": [
    "cohort_covariates = cohort_vitals.merge(comorbidities, on='hadm_id', how='left')"
   ]
  },
  {
   "cell_type": "markdown",
   "id": "e08b9289",
   "metadata": {},
   "source": [
    "## Merge with CRRT Labels\n",
    "Criteria - Only consider patients that recieved CRRT after the first 12 hours and before the first 5 days of their ICU stay "
   ]
  },
  {
   "cell_type": "code",
   "execution_count": 71,
   "id": "a1b98c4e",
   "metadata": {},
   "outputs": [],
   "source": [
    "cohort_sid = cohort_covariates['stay_id'].unique()"
   ]
  },
  {
   "cell_type": "code",
   "execution_count": 72,
   "id": "b9adabed",
   "metadata": {},
   "outputs": [
    {
     "data": {
      "text/plain": [
       "(117037, 24)"
      ]
     },
     "execution_count": 72,
     "metadata": {},
     "output_type": "execute_result"
    }
   ],
   "source": [
    "crrt = run_query(\n",
    "    f\"\"\"\n",
    "    SELECT * FROM `physionet-data.mimiciv_derived.crrt` \n",
    "    WHERE stay_id IN {str(tuple(cohort_sid))}\n",
    "    \"\"\"\n",
    ")\n",
    "crrt.shape"
   ]
  },
  {
   "cell_type": "code",
   "execution_count": 73,
   "id": "0bf9a5fe",
   "metadata": {},
   "outputs": [],
   "source": [
    "cohort_ts = cohort_covariates[['stay_id', 'intime']].drop_duplicates()"
   ]
  },
  {
   "cell_type": "code",
   "execution_count": 74,
   "id": "89be727a",
   "metadata": {},
   "outputs": [
    {
     "data": {
      "text/plain": [
       "(964, 26)"
      ]
     },
     "execution_count": 74,
     "metadata": {},
     "output_type": "execute_result"
    }
   ],
   "source": [
    "crrt['charttime'] = pd.to_datetime(crrt['charttime'])\n",
    "crrt_icu = crrt.merge(cohort_ts, on='stay_id')\n",
    "crrt_icu['time_delta'] = (crrt_icu['charttime'] - crrt_icu['intime']) / np.timedelta64(1, 'h')\n",
    "crrt_icu = crrt_icu[crrt_icu['charttime'] > crrt_icu['intime']].reset_index(drop=True)\n",
    "min_crrt = crrt_icu.groupby('stay_id')['charttime'].min().reset_index()\n",
    "crrt_min = crrt_icu.merge(min_crrt)\n",
    "crrt_min.shape"
   ]
  },
  {
   "cell_type": "code",
   "execution_count": 75,
   "id": "27b1eacd",
   "metadata": {},
   "outputs": [
    {
     "data": {
      "text/plain": [
       "Text(0.5, 1.0, 'CRRT Incidence Distribution')"
      ]
     },
     "execution_count": 75,
     "metadata": {},
     "output_type": "execute_result"
    },
    {
     "data": {
      "image/png": "[encoded data removed]",
      "text/plain": [
       "<Figure size 432x288 with 1 Axes>"
      ]
     },
     "metadata": {
      "needs_background": "light"
     },
     "output_type": "display_data"
    }
   ],
   "source": [
    "b= np.linspace(0, 180, 100)\n",
    "plt.hist(crrt_min['time_delta'], bins=b)\n",
    "plt.xlabel('Hours')\n",
    "plt.ylabel('Number of Patients with CRRT')\n",
    "plt.title('CRRT Incidence Distribution')"
   ]
  },
  {
   "cell_type": "code",
   "execution_count": 76,
   "id": "09a1dcd2",
   "metadata": {},
   "outputs": [
    {
     "data": {
      "text/plain": [
       "(631, 26)"
      ]
     },
     "execution_count": 76,
     "metadata": {},
     "output_type": "execute_result"
    }
   ],
   "source": [
    "# Keep patients [0.5 days to 5 day window]\n",
    "crrt_filt = crrt_min[(crrt_min['time_delta'] >= 12) &  (crrt_min['time_delta'] <= 120)].reset_index(drop=True)\n",
    "crrt_filt.shape"
   ]
  },
  {
   "cell_type": "code",
   "execution_count": 77,
   "id": "0751887b",
   "metadata": {},
   "outputs": [],
   "source": [
    "# Merge with CRRT Labels\n",
    "crrt_filt['crrt'] = 1\n",
    "crrt_filt = crrt_filt[['stay_id', 'crrt', 'time_delta']].drop_duplicates()\n",
    "cohort_final = cohort_covariates.merge(crrt_filt, on='stay_id', how='left')\n",
    "cohort_final['crrt'].fillna(0, inplace=True)"
   ]
  },
  {
   "cell_type": "markdown",
   "id": "0b670a69",
   "metadata": {},
   "source": [
    "#### Merge with Demographics"
   ]
  },
  {
   "cell_type": "code",
   "execution_count": 78,
   "id": "a1ffdc60",
   "metadata": {},
   "outputs": [],
   "source": [
    "cohort_pats = cohort_final['subject_id'].unique()\n",
    "demo = run_query(\n",
    "    f\"\"\"\n",
    "        SELECT * from `physionet-data.mimiciv_hosp.patients` \n",
    "        WHERE subject_id IN {str(tuple(cohort_pats))}\n",
    "    \"\"\"\n",
    ")\n",
    "# Some demographic data is stored in admissions.\n",
    "admissions = run_query(\n",
    "    f\"\"\"\n",
    "        SELECT * from `physionet-data.mimiciv_hosp.admissions` \n",
    "        WHERE subject_id IN {str(tuple(cohort_pats))}\n",
    "    \"\"\"\n",
    ")"
   ]
  },
  {
   "cell_type": "code",
   "execution_count": 79,
   "id": "cb854d9b",
   "metadata": {},
   "outputs": [],
   "source": [
    "cohort_final = cohort_final.merge(demo, on='subject_id')\n",
    "cohort_final = cohort_final.merge(admissions, on=['subject_id', 'hadm_id'])"
   ]
  },
  {
   "cell_type": "code",
   "execution_count": 80,
   "id": "ff53fed2",
   "metadata": {},
   "outputs": [],
   "source": [
    "# Cluster Races\n",
    "targets = ['WHITE', 'BLACK', 'ASIAN', 'HISPANIC', 'OTHER']\n",
    "for group in cohort_final['race'].unique():\n",
    "    if 'WHITE' in group:\n",
    "        cohort_final['race'] = cohort_final['race'].replace(group, 'WHITE')\n",
    "    elif 'BLACK' in group:\n",
    "        cohort_final['race'] = cohort_final['race'].replace(group, 'BLACK')\n",
    "    elif 'ASIAN' in group:\n",
    "        cohort_final['race'] = cohort_final['race'].replace(group, 'ASIAN')\n",
    "    elif 'HISPANIC' in group:\n",
    "        cohort_final['race'] = cohort_final['race'].replace(group, 'HISPANIC')\n",
    "    elif 'UNKNOWN' in group:\n",
    "        continue\n",
    "    else:\n",
    "        cohort_final['race'] = cohort_final['race'].replace(group, 'OTHER')\n",
    "        "
   ]
  },
  {
   "cell_type": "code",
   "execution_count": 81,
   "id": "59cca71b",
   "metadata": {},
   "outputs": [
    {
     "data": {
      "text/plain": [
       "WHITE       8533\n",
       "UNKNOWN     1593\n",
       "BLACK       1157\n",
       "OTHER        767\n",
       "HISPANIC     364\n",
       "ASIAN        269\n",
       "Name: race, dtype: int64"
      ]
     },
     "execution_count": 81,
     "metadata": {},
     "output_type": "execute_result"
    }
   ],
   "source": [
    "cohort_final['race'].value_counts()"
   ]
  },
  {
   "cell_type": "code",
   "execution_count": 82,
   "id": "101e0550",
   "metadata": {},
   "outputs": [
    {
     "data": {
      "text/plain": [
       "(12683, 80)"
      ]
     },
     "execution_count": 82,
     "metadata": {},
     "output_type": "execute_result"
    }
   ],
   "source": [
    "cohort_final.shape"
   ]
  },
  {
   "cell_type": "code",
   "execution_count": 83,
   "id": "e70d3838",
   "metadata": {},
   "outputs": [],
   "source": [
    "cohort_final.to_csv('final_crrt_cohort.csv', index=False)"
   ]
  },
  {
   "cell_type": "markdown",
   "id": "f1d29311",
   "metadata": {},
   "source": [
    "## Table 1"
   ]
  },
  {
   "cell_type": "code",
   "execution_count": 84,
   "id": "910a1920",
   "metadata": {},
   "outputs": [
    {
     "name": "stderr",
     "output_type": "stream",
     "text": [
      "/home/jupyter-zaiman/.local/lib/python3.9/site-packages/tableone/tableone.py:991: FutureWarning: Using the level keyword in DataFrame and Series aggregations is deprecated and will be removed in a future version. Use groupby instead. df.sum(level=1) should use df.groupby(level=1).sum().\n",
      "  df['percent'] = df['freq'].div(df.freq.sum(level=0),\n",
      "/home/jupyter-zaiman/.local/lib/python3.9/site-packages/tableone/tableone.py:991: FutureWarning: Using the level keyword in DataFrame and Series aggregations is deprecated and will be removed in a future version. Use groupby instead. df.sum(level=1) should use df.groupby(level=1).sum().\n",
      "  df['percent'] = df['freq'].div(df.freq.sum(level=0),\n",
      "/home/jupyter-zaiman/.local/lib/python3.9/site-packages/tableone/tableone.py:991: FutureWarning: Using the level keyword in DataFrame and Series aggregations is deprecated and will be removed in a future version. Use groupby instead. df.sum(level=1) should use df.groupby(level=1).sum().\n",
      "  df['percent'] = df['freq'].div(df.freq.sum(level=0),\n"
     ]
    }
   ],
   "source": [
    "columns_all = ['first_careunit', 'creat_low_past_48hr', 'aki_stage', 'race','min_heart_rate',\n",
    " 'min_mbp',\n",
    " 'min_mbp_ni',\n",
    " 'min_resp_rate',\n",
    " 'min_spo2',\n",
    " 'max_heart_rate',\n",
    " 'max_mbp',\n",
    " 'max_mbp_ni',\n",
    " 'max_resp_rate',\n",
    " 'max_spo2',\n",
    " 'ckd',\n",
    " 'dm',\n",
    " 'hypertension',\n",
    " 'heartfailure',\n",
    "'nanmin_valuenum_Albumin',\n",
    " 'nanmin_valuenum_Bicarbonate',\n",
    " 'nanmin_valuenum_Calculated Bicarbonate, Whole Blood',\n",
    " 'nanmin_valuenum_Creatinine',\n",
    " 'nanmin_valuenum_Hematocrit',\n",
    " 'nanmin_valuenum_Hematocrit, Calculated',\n",
    " 'nanmin_valuenum_Potassium',\n",
    " 'nanmin_valuenum_Potassium, Whole Blood',\n",
    " 'nanmin_valuenum_Urea Nitrogen',\n",
    " 'nanmin_valuenum_pH',\n",
    " 'nanmax_valuenum_Albumin',\n",
    " 'nanmax_valuenum_Bicarbonate',\n",
    " 'nanmax_valuenum_Calculated Bicarbonate, Whole Blood',\n",
    " 'nanmax_valuenum_Creatinine',\n",
    " 'nanmax_valuenum_Hematocrit',\n",
    " 'nanmax_valuenum_Hematocrit, Calculated',\n",
    " 'nanmax_valuenum_Potassium',\n",
    " 'nanmax_valuenum_Potassium, Whole Blood',\n",
    " 'nanmax_valuenum_Urea Nitrogen',\n",
    " 'nanmax_valuenum_pH',\n",
    " 'sepsis3',\n",
    " 'sofa_24hours',\n",
    " 'antibiotic',\n",
    " 'gender']\n",
    "\n",
    "numerical_all =[\n",
    "    'creat_low_past_48hr',\n",
    "    'min_heart_rate',\n",
    "    'min_mbp',\n",
    " 'min_mbp_ni',\n",
    " 'min_resp_rate',\n",
    " 'min_spo2',\n",
    " 'max_heart_rate',\n",
    " 'max_mbp',\n",
    " 'max_mbp_ni',\n",
    " 'max_resp_rate',\n",
    " 'max_spo2','nanmin_valuenum_Albumin',\n",
    " 'nanmin_valuenum_Bicarbonate',\n",
    " 'nanmin_valuenum_Calculated Bicarbonate, Whole Blood',\n",
    " 'nanmin_valuenum_Creatinine',\n",
    " 'nanmin_valuenum_Hematocrit',\n",
    " 'nanmin_valuenum_Hematocrit, Calculated',\n",
    " 'nanmin_valuenum_Potassium',\n",
    " 'nanmin_valuenum_Potassium, Whole Blood',\n",
    " 'nanmin_valuenum_Urea Nitrogen',\n",
    " 'nanmin_valuenum_pH',\n",
    " 'nanmax_valuenum_Albumin',\n",
    " 'nanmax_valuenum_Bicarbonate',\n",
    " 'nanmax_valuenum_Calculated Bicarbonate, Whole Blood',\n",
    " 'nanmax_valuenum_Creatinine',\n",
    " 'nanmax_valuenum_Hematocrit',\n",
    " 'nanmax_valuenum_Hematocrit, Calculated',\n",
    " 'nanmax_valuenum_Potassium',\n",
    " 'nanmax_valuenum_Potassium, Whole Blood',\n",
    " 'nanmax_valuenum_Urea Nitrogen',\n",
    " 'nanmax_valuenum_pH',\n",
    "        'sofa_24hours',]\n",
    "\n",
    "for col in numerical_all:\n",
    "    cohort_final[col] = cohort_final[col].astype(np.float64)\n",
    "\n",
    "categorical_all = [x for x in columns_all if x not in numerical_all]\n",
    "\n",
    "tab = TableOne(cohort_final, columns=columns_all,categorical=categorical_all, groupby='crrt')"
   ]
  },
  {
   "cell_type": "code",
   "execution_count": 85,
   "id": "8d42b874",
   "metadata": {},
   "outputs": [],
   "source": [
    "# Display entire dataframe.\n",
    "pd.set_option('display.max_rows', None)\n",
    "pd.set_option('display.max_columns', None)\n",
    "pd.set_option('display.width', 100)\n",
    "pd.set_option('display.colheader_justify', 'left')\n",
    "pd.set_option('display.precision', 5)"
   ]
  },
  {
   "cell_type": "code",
   "execution_count": 86,
   "id": "f993426d",
   "metadata": {
    "scrolled": true
   },
   "outputs": [
    {
     "data": {
      "text/html": [
       "<div>\n",
       "<style scoped>\n",
       "    .dataframe tbody tr th:only-of-type {\n",
       "        vertical-align: middle;\n",
       "    }\n",
       "\n",
       "    .dataframe tbody tr th {\n",
       "        vertical-align: top;\n",
       "    }\n",
       "\n",
       "    .dataframe thead tr th {\n",
       "        text-align: left;\n",
       "    }\n",
       "</style>\n",
       "<table border=\"1\" class=\"dataframe\">\n",
       "  <thead>\n",
       "    <tr>\n",
       "      <th></th>\n",
       "      <th></th>\n",
       "      <th colspan=\"4\" halign=\"left\">Grouped by crrt</th>\n",
       "    </tr>\n",
       "    <tr>\n",
       "      <th></th>\n",
       "      <th></th>\n",
       "      <th>Missing</th>\n",
       "      <th>Overall</th>\n",
       "      <th>0.0</th>\n",
       "      <th>1.0</th>\n",
       "    </tr>\n",
       "  </thead>\n",
       "  <tbody>\n",
       "    <tr>\n",
       "      <th>n</th>\n",
       "      <th></th>\n",
       "      <td></td>\n",
       "      <td>12683</td>\n",
       "      <td>12052</td>\n",
       "      <td>631</td>\n",
       "    </tr>\n",
       "    <tr>\n",
       "      <th rowspan=\"9\" valign=\"top\">first_careunit, n (%)</th>\n",
       "      <th>Cardiac Vascular Intensive Care Unit (CVICU)</th>\n",
       "      <td>0</td>\n",
       "      <td>1845 (14.5)</td>\n",
       "      <td>1752 (14.5)</td>\n",
       "      <td>93 (14.7)</td>\n",
       "    </tr>\n",
       "    <tr>\n",
       "      <th>Coronary Care Unit (CCU)</th>\n",
       "      <td></td>\n",
       "      <td>1474 (11.6)</td>\n",
       "      <td>1393 (11.6)</td>\n",
       "      <td>81 (12.8)</td>\n",
       "    </tr>\n",
       "    <tr>\n",
       "      <th>Medical Intensive Care Unit (MICU)</th>\n",
       "      <td></td>\n",
       "      <td>2820 (22.2)</td>\n",
       "      <td>2612 (21.7)</td>\n",
       "      <td>208 (33.0)</td>\n",
       "    </tr>\n",
       "    <tr>\n",
       "      <th>Medical/Surgical Intensive Care Unit (MICU/SICU)</th>\n",
       "      <td></td>\n",
       "      <td>2257 (17.8)</td>\n",
       "      <td>2161 (17.9)</td>\n",
       "      <td>96 (15.2)</td>\n",
       "    </tr>\n",
       "    <tr>\n",
       "      <th>Neuro Intermediate</th>\n",
       "      <td></td>\n",
       "      <td>48 (0.4)</td>\n",
       "      <td>48 (0.4)</td>\n",
       "      <td></td>\n",
       "    </tr>\n",
       "    <tr>\n",
       "      <th>Neuro Stepdown</th>\n",
       "      <td></td>\n",
       "      <td>34 (0.3)</td>\n",
       "      <td>34 (0.3)</td>\n",
       "      <td></td>\n",
       "    </tr>\n",
       "    <tr>\n",
       "      <th>Neuro Surgical Intensive Care Unit (Neuro SICU)</th>\n",
       "      <td></td>\n",
       "      <td>256 (2.0)</td>\n",
       "      <td>250 (2.1)</td>\n",
       "      <td>6 (1.0)</td>\n",
       "    </tr>\n",
       "    <tr>\n",
       "      <th>Surgical Intensive Care Unit (SICU)</th>\n",
       "      <td></td>\n",
       "      <td>1988 (15.7)</td>\n",
       "      <td>1898 (15.7)</td>\n",
       "      <td>90 (14.3)</td>\n",
       "    </tr>\n",
       "    <tr>\n",
       "      <th>Trauma SICU (TSICU)</th>\n",
       "      <td></td>\n",
       "      <td>1961 (15.5)</td>\n",
       "      <td>1904 (15.8)</td>\n",
       "      <td>57 (9.0)</td>\n",
       "    </tr>\n",
       "    <tr>\n",
       "      <th>creat_low_past_48hr, mean (SD)</th>\n",
       "      <th></th>\n",
       "      <td>9466</td>\n",
       "      <td>1.9 (2.2)</td>\n",
       "      <td>1.8 (2.1)</td>\n",
       "      <td>2.9 (2.2)</td>\n",
       "    </tr>\n",
       "    <tr>\n",
       "      <th rowspan=\"3\" valign=\"top\">aki_stage, n (%)</th>\n",
       "      <th>1</th>\n",
       "      <td>0</td>\n",
       "      <td>5685 (44.8)</td>\n",
       "      <td>5526 (45.9)</td>\n",
       "      <td>159 (25.2)</td>\n",
       "    </tr>\n",
       "    <tr>\n",
       "      <th>2</th>\n",
       "      <td></td>\n",
       "      <td>6079 (47.9)</td>\n",
       "      <td>5745 (47.7)</td>\n",
       "      <td>334 (52.9)</td>\n",
       "    </tr>\n",
       "    <tr>\n",
       "      <th>3</th>\n",
       "      <td></td>\n",
       "      <td>919 (7.2)</td>\n",
       "      <td>781 (6.5)</td>\n",
       "      <td>138 (21.9)</td>\n",
       "    </tr>\n",
       "    <tr>\n",
       "      <th rowspan=\"6\" valign=\"top\">race, n (%)</th>\n",
       "      <th>ASIAN</th>\n",
       "      <td>0</td>\n",
       "      <td>269 (2.1)</td>\n",
       "      <td>258 (2.1)</td>\n",
       "      <td>11 (1.7)</td>\n",
       "    </tr>\n",
       "    <tr>\n",
       "      <th>BLACK</th>\n",
       "      <td></td>\n",
       "      <td>1157 (9.1)</td>\n",
       "      <td>1096 (9.1)</td>\n",
       "      <td>61 (9.7)</td>\n",
       "    </tr>\n",
       "    <tr>\n",
       "      <th>HISPANIC</th>\n",
       "      <td></td>\n",
       "      <td>364 (2.9)</td>\n",
       "      <td>340 (2.8)</td>\n",
       "      <td>24 (3.8)</td>\n",
       "    </tr>\n",
       "    <tr>\n",
       "      <th>OTHER</th>\n",
       "      <td></td>\n",
       "      <td>767 (6.0)</td>\n",
       "      <td>725 (6.0)</td>\n",
       "      <td>42 (6.7)</td>\n",
       "    </tr>\n",
       "    <tr>\n",
       "      <th>UNKNOWN</th>\n",
       "      <td></td>\n",
       "      <td>1593 (12.6)</td>\n",
       "      <td>1473 (12.2)</td>\n",
       "      <td>120 (19.0)</td>\n",
       "    </tr>\n",
       "    <tr>\n",
       "      <th>WHITE</th>\n",
       "      <td></td>\n",
       "      <td>8533 (67.3)</td>\n",
       "      <td>8160 (67.7)</td>\n",
       "      <td>373 (59.1)</td>\n",
       "    </tr>\n",
       "    <tr>\n",
       "      <th>min_heart_rate, mean (SD)</th>\n",
       "      <th></th>\n",
       "      <td>1</td>\n",
       "      <td>64.9 (15.3)</td>\n",
       "      <td>65.2 (15.3)</td>\n",
       "      <td>60.0 (16.0)</td>\n",
       "    </tr>\n",
       "    <tr>\n",
       "      <th>min_mbp, mean (SD)</th>\n",
       "      <th></th>\n",
       "      <td>2</td>\n",
       "      <td>50.7 (15.7)</td>\n",
       "      <td>51.3 (15.3)</td>\n",
       "      <td>37.8 (16.5)</td>\n",
       "    </tr>\n",
       "    <tr>\n",
       "      <th>min_mbp_ni, mean (SD)</th>\n",
       "      <th></th>\n",
       "      <td>191</td>\n",
       "      <td>54.9 (13.4)</td>\n",
       "      <td>55.2 (13.4)</td>\n",
       "      <td>48.3 (13.0)</td>\n",
       "    </tr>\n",
       "    <tr>\n",
       "      <th>min_resp_rate, mean (SD)</th>\n",
       "      <th></th>\n",
       "      <td>2</td>\n",
       "      <td>10.5 (3.7)</td>\n",
       "      <td>10.6 (3.7)</td>\n",
       "      <td>8.4 (3.9)</td>\n",
       "    </tr>\n",
       "    <tr>\n",
       "      <th>min_spo2, mean (SD)</th>\n",
       "      <th></th>\n",
       "      <td>1</td>\n",
       "      <td>86.4 (11.9)</td>\n",
       "      <td>86.8 (11.4)</td>\n",
       "      <td>78.5 (17.0)</td>\n",
       "    </tr>\n",
       "    <tr>\n",
       "      <th>max_heart_rate, mean (SD)</th>\n",
       "      <th></th>\n",
       "      <td>1</td>\n",
       "      <td>114.3 (24.3)</td>\n",
       "      <td>113.6 (23.9)</td>\n",
       "      <td>129.3 (25.5)</td>\n",
       "    </tr>\n",
       "    <tr>\n",
       "      <th>max_mbp, mean (SD)</th>\n",
       "      <th></th>\n",
       "      <td>2</td>\n",
       "      <td>122.4 (40.9)</td>\n",
       "      <td>121.2 (39.3)</td>\n",
       "      <td>146.1 (59.7)</td>\n",
       "    </tr>\n",
       "    <tr>\n",
       "      <th>max_mbp_ni, mean (SD)</th>\n",
       "      <th></th>\n",
       "      <td>191</td>\n",
       "      <td>107.8 (23.6)</td>\n",
       "      <td>107.8 (23.5)</td>\n",
       "      <td>108.2 (25.8)</td>\n",
       "    </tr>\n",
       "    <tr>\n",
       "      <th>max_resp_rate, mean (SD)</th>\n",
       "      <th></th>\n",
       "      <td>2</td>\n",
       "      <td>32.2 (8.2)</td>\n",
       "      <td>31.9 (8.1)</td>\n",
       "      <td>37.8 (8.9)</td>\n",
       "    </tr>\n",
       "    <tr>\n",
       "      <th>max_spo2, mean (SD)</th>\n",
       "      <th></th>\n",
       "      <td>1</td>\n",
       "      <td>99.7 (1.0)</td>\n",
       "      <td>99.7 (1.0)</td>\n",
       "      <td>99.9 (0.6)</td>\n",
       "    </tr>\n",
       "    <tr>\n",
       "      <th rowspan=\"2\" valign=\"top\">ckd, n (%)</th>\n",
       "      <th>0.0</th>\n",
       "      <td>4</td>\n",
       "      <td>9232 (72.8)</td>\n",
       "      <td>8883 (73.7)</td>\n",
       "      <td>349 (55.3)</td>\n",
       "    </tr>\n",
       "    <tr>\n",
       "      <th>1.0</th>\n",
       "      <td></td>\n",
       "      <td>3447 (27.2)</td>\n",
       "      <td>3165 (26.3)</td>\n",
       "      <td>282 (44.7)</td>\n",
       "    </tr>\n",
       "    <tr>\n",
       "      <th rowspan=\"2\" valign=\"top\">dm, n (%)</th>\n",
       "      <th>0.0</th>\n",
       "      <td>4</td>\n",
       "      <td>8351 (65.9)</td>\n",
       "      <td>7967 (66.1)</td>\n",
       "      <td>384 (60.9)</td>\n",
       "    </tr>\n",
       "    <tr>\n",
       "      <th>1.0</th>\n",
       "      <td></td>\n",
       "      <td>4328 (34.1)</td>\n",
       "      <td>4081 (33.9)</td>\n",
       "      <td>247 (39.1)</td>\n",
       "    </tr>\n",
       "    <tr>\n",
       "      <th rowspan=\"2\" valign=\"top\">hypertension, n (%)</th>\n",
       "      <th>0.0</th>\n",
       "      <td>4</td>\n",
       "      <td>5582 (44.0)</td>\n",
       "      <td>5259 (43.7)</td>\n",
       "      <td>323 (51.2)</td>\n",
       "    </tr>\n",
       "    <tr>\n",
       "      <th>1.0</th>\n",
       "      <td></td>\n",
       "      <td>7097 (56.0)</td>\n",
       "      <td>6789 (56.3)</td>\n",
       "      <td>308 (48.8)</td>\n",
       "    </tr>\n",
       "    <tr>\n",
       "      <th rowspan=\"2\" valign=\"top\">heartfailure, n (%)</th>\n",
       "      <th>0.0</th>\n",
       "      <td>4</td>\n",
       "      <td>7757 (61.2)</td>\n",
       "      <td>7413 (61.5)</td>\n",
       "      <td>344 (54.5)</td>\n",
       "    </tr>\n",
       "    <tr>\n",
       "      <th>1.0</th>\n",
       "      <td></td>\n",
       "      <td>4922 (38.8)</td>\n",
       "      <td>4635 (38.5)</td>\n",
       "      <td>287 (45.5)</td>\n",
       "    </tr>\n",
       "    <tr>\n",
       "      <th>nanmin_valuenum_Albumin, mean (SD)</th>\n",
       "      <th></th>\n",
       "      <td>4488</td>\n",
       "      <td>2.8 (0.7)</td>\n",
       "      <td>2.9 (0.7)</td>\n",
       "      <td>2.4 (0.6)</td>\n",
       "    </tr>\n",
       "    <tr>\n",
       "      <th>nanmin_valuenum_Bicarbonate, mean (SD)</th>\n",
       "      <th></th>\n",
       "      <td>2</td>\n",
       "      <td>19.5 (5.0)</td>\n",
       "      <td>19.7 (4.9)</td>\n",
       "      <td>14.4 (4.7)</td>\n",
       "    </tr>\n",
       "    <tr>\n",
       "      <th>nanmin_valuenum_Calculated Bicarbonate, Whole Blood, mean (SD)</th>\n",
       "      <th></th>\n",
       "      <td>11853</td>\n",
       "      <td>22.7 (6.2)</td>\n",
       "      <td>22.9 (6.1)</td>\n",
       "      <td>21.3 (6.9)</td>\n",
       "    </tr>\n",
       "    <tr>\n",
       "      <th>nanmin_valuenum_Creatinine, mean (SD)</th>\n",
       "      <th></th>\n",
       "      <td>1</td>\n",
       "      <td>1.2 (1.2)</td>\n",
       "      <td>1.2 (1.1)</td>\n",
       "      <td>1.7 (1.2)</td>\n",
       "    </tr>\n",
       "    <tr>\n",
       "      <th>nanmin_valuenum_Hematocrit, mean (SD)</th>\n",
       "      <th></th>\n",
       "      <td>13</td>\n",
       "      <td>26.9 (6.2)</td>\n",
       "      <td>27.1 (6.2)</td>\n",
       "      <td>22.5 (4.9)</td>\n",
       "    </tr>\n",
       "    <tr>\n",
       "      <th>nanmin_valuenum_Hematocrit, Calculated, mean (SD)</th>\n",
       "      <th></th>\n",
       "      <td>7712</td>\n",
       "      <td>28.0 (6.7)</td>\n",
       "      <td>28.3 (6.7)</td>\n",
       "      <td>25.0 (6.3)</td>\n",
       "    </tr>\n",
       "    <tr>\n",
       "      <th>nanmin_valuenum_Potassium, mean (SD)</th>\n",
       "      <th></th>\n",
       "      <td>2</td>\n",
       "      <td>3.5 (0.5)</td>\n",
       "      <td>3.5 (0.5)</td>\n",
       "      <td>3.4 (0.6)</td>\n",
       "    </tr>\n",
       "    <tr>\n",
       "      <th>nanmin_valuenum_Potassium, Whole Blood, mean (SD)</th>\n",
       "      <th></th>\n",
       "      <td>6135</td>\n",
       "      <td>3.8 (0.8)</td>\n",
       "      <td>3.8 (0.8)</td>\n",
       "      <td>3.7 (0.7)</td>\n",
       "    </tr>\n",
       "    <tr>\n",
       "      <th>nanmin_valuenum_Urea Nitrogen, mean (SD)</th>\n",
       "      <th></th>\n",
       "      <td>3</td>\n",
       "      <td>19.8 (16.4)</td>\n",
       "      <td>19.8 (16.6)</td>\n",
       "      <td>20.3 (13.9)</td>\n",
       "    </tr>\n",
       "    <tr>\n",
       "      <th>nanmin_valuenum_pH, mean (SD)</th>\n",
       "      <th></th>\n",
       "      <td>2186</td>\n",
       "      <td>7.3 (0.1)</td>\n",
       "      <td>7.3 (0.1)</td>\n",
       "      <td>7.2 (0.1)</td>\n",
       "    </tr>\n",
       "    <tr>\n",
       "      <th>nanmax_valuenum_Albumin, mean (SD)</th>\n",
       "      <th></th>\n",
       "      <td>4488</td>\n",
       "      <td>3.3 (0.7)</td>\n",
       "      <td>3.3 (0.7)</td>\n",
       "      <td>3.2 (0.7)</td>\n",
       "    </tr>\n",
       "    <tr>\n",
       "      <th>nanmax_valuenum_Bicarbonate, mean (SD)</th>\n",
       "      <th></th>\n",
       "      <td>2</td>\n",
       "      <td>28.5 (5.3)</td>\n",
       "      <td>28.5 (5.3)</td>\n",
       "      <td>28.0 (5.0)</td>\n",
       "    </tr>\n",
       "    <tr>\n",
       "      <th>nanmax_valuenum_Calculated Bicarbonate, Whole Blood, mean (SD)</th>\n",
       "      <th></th>\n",
       "      <td>11853</td>\n",
       "      <td>23.4 (6.2)</td>\n",
       "      <td>23.5 (6.1)</td>\n",
       "      <td>22.6 (6.8)</td>\n",
       "    </tr>\n",
       "    <tr>\n",
       "      <th>nanmax_valuenum_Creatinine, mean (SD)</th>\n",
       "      <th></th>\n",
       "      <td>1</td>\n",
       "      <td>2.4 (2.4)</td>\n",
       "      <td>2.3 (2.3)</td>\n",
       "      <td>5.6 (3.0)</td>\n",
       "    </tr>\n",
       "    <tr>\n",
       "      <th>nanmax_valuenum_Hematocrit, mean (SD)</th>\n",
       "      <th></th>\n",
       "      <td>13</td>\n",
       "      <td>36.1 (5.7)</td>\n",
       "      <td>36.2 (5.7)</td>\n",
       "      <td>35.4 (6.2)</td>\n",
       "    </tr>\n",
       "    <tr>\n",
       "      <th>nanmax_valuenum_Hematocrit, Calculated, mean (SD)</th>\n",
       "      <th></th>\n",
       "      <td>7712</td>\n",
       "      <td>34.0 (7.4)</td>\n",
       "      <td>34.1 (7.5)</td>\n",
       "      <td>32.5 (6.5)</td>\n",
       "    </tr>\n",
       "    <tr>\n",
       "      <th>nanmax_valuenum_Potassium, mean (SD)</th>\n",
       "      <th></th>\n",
       "      <td>2</td>\n",
       "      <td>5.1 (0.9)</td>\n",
       "      <td>5.0 (0.9)</td>\n",
       "      <td>5.9 (1.0)</td>\n",
       "    </tr>\n",
       "    <tr>\n",
       "      <th>nanmax_valuenum_Potassium, Whole Blood, mean (SD)</th>\n",
       "      <th></th>\n",
       "      <td>6135</td>\n",
       "      <td>4.8 (4.2)</td>\n",
       "      <td>4.7 (4.4)</td>\n",
       "      <td>5.2 (1.0)</td>\n",
       "    </tr>\n",
       "    <tr>\n",
       "      <th>nanmax_valuenum_Urea Nitrogen, mean (SD)</th>\n",
       "      <th></th>\n",
       "      <td>3</td>\n",
       "      <td>45.5 (33.2)</td>\n",
       "      <td>43.4 (31.6)</td>\n",
       "      <td>84.7 (38.6)</td>\n",
       "    </tr>\n",
       "    <tr>\n",
       "      <th>nanmax_valuenum_pH, mean (SD)</th>\n",
       "      <th></th>\n",
       "      <td>2186</td>\n",
       "      <td>7.4 (0.1)</td>\n",
       "      <td>7.4 (0.1)</td>\n",
       "      <td>7.5 (0.1)</td>\n",
       "    </tr>\n",
       "    <tr>\n",
       "      <th rowspan=\"2\" valign=\"top\">sepsis3, n (%)</th>\n",
       "      <th>False</th>\n",
       "      <td>0</td>\n",
       "      <td>5040 (39.7)</td>\n",
       "      <td>4986 (41.4)</td>\n",
       "      <td>54 (8.6)</td>\n",
       "    </tr>\n",
       "    <tr>\n",
       "      <th>True</th>\n",
       "      <td></td>\n",
       "      <td>7643 (60.3)</td>\n",
       "      <td>7066 (58.6)</td>\n",
       "      <td>577 (91.4)</td>\n",
       "    </tr>\n",
       "    <tr>\n",
       "      <th>sofa_24hours, mean (SD)</th>\n",
       "      <th></th>\n",
       "      <td>0</td>\n",
       "      <td>2.3 (2.5)</td>\n",
       "      <td>2.2 (2.4)</td>\n",
       "      <td>4.4 (3.4)</td>\n",
       "    </tr>\n",
       "    <tr>\n",
       "      <th rowspan=\"2\" valign=\"top\">antibiotic, n (%)</th>\n",
       "      <th>0.0</th>\n",
       "      <td>0</td>\n",
       "      <td>7416 (58.5)</td>\n",
       "      <td>7211 (59.8)</td>\n",
       "      <td>205 (32.5)</td>\n",
       "    </tr>\n",
       "    <tr>\n",
       "      <th>1.0</th>\n",
       "      <td></td>\n",
       "      <td>5267 (41.5)</td>\n",
       "      <td>4841 (40.2)</td>\n",
       "      <td>426 (67.5)</td>\n",
       "    </tr>\n",
       "    <tr>\n",
       "      <th rowspan=\"2\" valign=\"top\">gender, n (%)</th>\n",
       "      <th>F</th>\n",
       "      <td>0</td>\n",
       "      <td>5733 (45.2)</td>\n",
       "      <td>5495 (45.6)</td>\n",
       "      <td>238 (37.7)</td>\n",
       "    </tr>\n",
       "    <tr>\n",
       "      <th>M</th>\n",
       "      <td></td>\n",
       "      <td>6950 (54.8)</td>\n",
       "      <td>6557 (54.4)</td>\n",
       "      <td>393 (62.3)</td>\n",
       "    </tr>\n",
       "  </tbody>\n",
       "</table>\n",
       "</div><br />"
      ],
      "text/plain": [
       "                                                                                                                Grouped by crrt                                          \n",
       "                                                                                                                Missing         Overall       0.0           1.0          \n",
       "n                                                                                                                                       12683         12052           631\n",
       "first_careunit, n (%)                                          Cardiac Vascular Intensive Care Unit (CVICU)          0            1845 (14.5)   1752 (14.5)     93 (14.7)\n",
       "                                                               Coronary Care Unit (CCU)                                           1474 (11.6)   1393 (11.6)     81 (12.8)\n",
       "                                                               Medical Intensive Care Unit (MICU)                                 2820 (22.2)   2612 (21.7)    208 (33.0)\n",
       "                                                               Medical/Surgical Intensive Care Unit (MICU/SICU)                   2257 (17.8)   2161 (17.9)     96 (15.2)\n",
       "                                                               Neuro Intermediate                                                    48 (0.4)      48 (0.4)              \n",
       "                                                               Neuro Stepdown                                                        34 (0.3)      34 (0.3)              \n",
       "                                                               Neuro Surgical Intensive Care Unit (Neuro SICU)                      256 (2.0)     250 (2.1)       6 (1.0)\n",
       "                                                               Surgical Intensive Care Unit (SICU)                                1988 (15.7)   1898 (15.7)     90 (14.3)\n",
       "                                                               Trauma SICU (TSICU)                                                1961 (15.5)   1904 (15.8)      57 (9.0)\n",
       "creat_low_past_48hr, mean (SD)                                                                                    9466              1.9 (2.2)     1.8 (2.1)     2.9 (2.2)\n",
       "aki_stage, n (%)                                               1                                                     0            5685 (44.8)   5526 (45.9)    159 (25.2)\n",
       "                                                               2                                                                  6079 (47.9)   5745 (47.7)    334 (52.9)\n",
       "                                                               3                                                                    919 (7.2)     781 (6.5)    138 (21.9)\n",
       "race, n (%)                                                    ASIAN                                                 0              269 (2.1)     258 (2.1)      11 (1.7)\n",
       "                                                               BLACK                                                               1157 (9.1)    1096 (9.1)      61 (9.7)\n",
       "                                                               HISPANIC                                                             364 (2.9)     340 (2.8)      24 (3.8)\n",
       "                                                               OTHER                                                                767 (6.0)     725 (6.0)      42 (6.7)\n",
       "                                                               UNKNOWN                                                            1593 (12.6)   1473 (12.2)    120 (19.0)\n",
       "                                                               WHITE                                                              8533 (67.3)   8160 (67.7)    373 (59.1)\n",
       "min_heart_rate, mean (SD)                                                                                            1            64.9 (15.3)   65.2 (15.3)   60.0 (16.0)\n",
       "min_mbp, mean (SD)                                                                                                   2            50.7 (15.7)   51.3 (15.3)   37.8 (16.5)\n",
       "min_mbp_ni, mean (SD)                                                                                              191            54.9 (13.4)   55.2 (13.4)   48.3 (13.0)\n",
       "min_resp_rate, mean (SD)                                                                                             2             10.5 (3.7)    10.6 (3.7)     8.4 (3.9)\n",
       "min_spo2, mean (SD)                                                                                                  1            86.4 (11.9)   86.8 (11.4)   78.5 (17.0)\n",
       "max_heart_rate, mean (SD)                                                                                            1           114.3 (24.3)  113.6 (23.9)  129.3 (25.5)\n",
       "max_mbp, mean (SD)                                                                                                   2           122.4 (40.9)  121.2 (39.3)  146.1 (59.7)\n",
       "max_mbp_ni, mean (SD)                                                                                              191           107.8 (23.6)  107.8 (23.5)  108.2 (25.8)\n",
       "max_resp_rate, mean (SD)                                                                                             2             32.2 (8.2)    31.9 (8.1)    37.8 (8.9)\n",
       "max_spo2, mean (SD)                                                                                                  1             99.7 (1.0)    99.7 (1.0)    99.9 (0.6)\n",
       "ckd, n (%)                                                     0.0                                                   4            9232 (72.8)   8883 (73.7)    349 (55.3)\n",
       "                                                               1.0                                                                3447 (27.2)   3165 (26.3)    282 (44.7)\n",
       "dm, n (%)                                                      0.0                                                   4            8351 (65.9)   7967 (66.1)    384 (60.9)\n",
       "                                                               1.0                                                                4328 (34.1)   4081 (33.9)    247 (39.1)\n",
       "hypertension, n (%)                                            0.0                                                   4            5582 (44.0)   5259 (43.7)    323 (51.2)\n",
       "                                                               1.0                                                                7097 (56.0)   6789 (56.3)    308 (48.8)\n",
       "heartfailure, n (%)                                            0.0                                                   4            7757 (61.2)   7413 (61.5)    344 (54.5)\n",
       "                                                               1.0                                                                4922 (38.8)   4635 (38.5)    287 (45.5)\n",
       "nanmin_valuenum_Albumin, mean (SD)                                                                                4488              2.8 (0.7)     2.9 (0.7)     2.4 (0.6)\n",
       "nanmin_valuenum_Bicarbonate, mean (SD)                                                                               2             19.5 (5.0)    19.7 (4.9)    14.4 (4.7)\n",
       "nanmin_valuenum_Calculated Bicarbonate, Whole Blood, mean (SD)                                                   11853             22.7 (6.2)    22.9 (6.1)    21.3 (6.9)\n",
       "nanmin_valuenum_Creatinine, mean (SD)                                                                                1              1.2 (1.2)     1.2 (1.1)     1.7 (1.2)\n",
       "nanmin_valuenum_Hematocrit, mean (SD)                                                                               13             26.9 (6.2)    27.1 (6.2)    22.5 (4.9)\n",
       "nanmin_valuenum_Hematocrit, Calculated, mean (SD)                                                                 7712             28.0 (6.7)    28.3 (6.7)    25.0 (6.3)\n",
       "nanmin_valuenum_Potassium, mean (SD)                                                                                 2              3.5 (0.5)     3.5 (0.5)     3.4 (0.6)\n",
       "nanmin_valuenum_Potassium, Whole Blood, mean (SD)                                                                 6135              3.8 (0.8)     3.8 (0.8)     3.7 (0.7)\n",
       "nanmin_valuenum_Urea Nitrogen, mean (SD)                                                                             3            19.8 (16.4)   19.8 (16.6)   20.3 (13.9)\n",
       "nanmin_valuenum_pH, mean (SD)                                                                                     2186              7.3 (0.1)     7.3 (0.1)     7.2 (0.1)\n",
       "nanmax_valuenum_Albumin, mean (SD)                                                                                4488              3.3 (0.7)     3.3 (0.7)     3.2 (0.7)\n",
       "nanmax_valuenum_Bicarbonate, mean (SD)                                                                               2             28.5 (5.3)    28.5 (5.3)    28.0 (5.0)\n",
       "nanmax_valuenum_Calculated Bicarbonate, Whole Blood, mean (SD)                                                   11853             23.4 (6.2)    23.5 (6.1)    22.6 (6.8)\n",
       "nanmax_valuenum_Creatinine, mean (SD)                                                                                1              2.4 (2.4)     2.3 (2.3)     5.6 (3.0)\n",
       "nanmax_valuenum_Hematocrit, mean (SD)                                                                               13             36.1 (5.7)    36.2 (5.7)    35.4 (6.2)\n",
       "nanmax_valuenum_Hematocrit, Calculated, mean (SD)                                                                 7712             34.0 (7.4)    34.1 (7.5)    32.5 (6.5)\n",
       "nanmax_valuenum_Potassium, mean (SD)                                                                                 2              5.1 (0.9)     5.0 (0.9)     5.9 (1.0)\n",
       "nanmax_valuenum_Potassium, Whole Blood, mean (SD)                                                                 6135              4.8 (4.2)     4.7 (4.4)     5.2 (1.0)\n",
       "nanmax_valuenum_Urea Nitrogen, mean (SD)                                                                             3            45.5 (33.2)   43.4 (31.6)   84.7 (38.6)\n",
       "nanmax_valuenum_pH, mean (SD)                                                                                     2186              7.4 (0.1)     7.4 (0.1)     7.5 (0.1)\n",
       "sepsis3, n (%)                                                 False                                                 0            5040 (39.7)   4986 (41.4)      54 (8.6)\n",
       "                                                               True                                                               7643 (60.3)   7066 (58.6)    577 (91.4)\n",
       "sofa_24hours, mean (SD)                                                                                              0              2.3 (2.5)     2.2 (2.4)     4.4 (3.4)\n",
       "antibiotic, n (%)                                              0.0                                                   0            7416 (58.5)   7211 (59.8)    205 (32.5)\n",
       "                                                               1.0                                                                5267 (41.5)   4841 (40.2)    426 (67.5)\n",
       "gender, n (%)                                                  F                                                     0            5733 (45.2)   5495 (45.6)    238 (37.7)\n",
       "                                                               M                                                                  6950 (54.8)   6557 (54.4)    393 (62.3)"
      ]
     },
     "execution_count": 86,
     "metadata": {},
     "output_type": "execute_result"
    }
   ],
   "source": [
    "tab"
   ]
  },
  {
   "cell_type": "code",
   "execution_count": 87,
   "id": "cf4b53ed",
   "metadata": {},
   "outputs": [],
   "source": [
    "tab.to_csv('tableone.csv')"
   ]
  },
  {
   "cell_type": "markdown",
   "id": "4308f8e3",
   "metadata": {},
   "source": [
    "## Model Training"
   ]
  },
  {
   "cell_type": "markdown",
   "id": "49fffd10",
   "metadata": {},
   "source": [
    "#### Baseline model\n",
    "No strategy to handle class imbalance"
   ]
  },
  {
   "cell_type": "code",
   "execution_count": 88,
   "id": "d22375f0",
   "metadata": {},
   "outputs": [],
   "source": [
    "data = cohort_final.copy()"
   ]
  },
  {
   "cell_type": "code",
   "execution_count": 89,
   "id": "f28ecf2f",
   "metadata": {},
   "outputs": [],
   "source": [
    "# Select variables for the model.\n",
    "columns = [\n",
    " 'min_spo2',\n",
    " 'max_spo2',\n",
    "'nanmin_valuenum_Albumin',\n",
    " 'nanmin_valuenum_Creatinine',\n",
    " 'nanmin_valuenum_Hematocrit',\n",
    " 'nanmin_valuenum_Potassium',\n",
    " 'nanmin_valuenum_Potassium, Whole Blood',\n",
    " 'nanmin_valuenum_Urea Nitrogen',\n",
    " 'nanmin_valuenum_pH',\n",
    " 'nanmax_valuenum_Albumin',\n",
    " 'nanmax_valuenum_Creatinine',\n",
    " 'nanmax_valuenum_Hematocrit',\n",
    " 'nanmax_valuenum_Hematocrit, Calculated',\n",
    " 'nanmax_valuenum_Potassium',\n",
    " 'nanmax_valuenum_Potassium, Whole Blood',\n",
    " 'nanmax_valuenum_Urea Nitrogen',\n",
    " 'nanmax_valuenum_pH',\n",
    "'ckd' ,                                                     \n",
    "  'dm',                                                    \n",
    " 'hypertension',                                     \n",
    " 'heartfailure',\n",
    "]\n",
    "categorical = ['ckd' ,                                                     \n",
    "  'dm',                                                    \n",
    " 'hypertension',                                     \n",
    " 'heartfailure'\n",
    "]\n",
    "\n",
    "numerical = [x for x in columns if x not in categorical]"
   ]
  },
  {
   "cell_type": "code",
   "execution_count": 90,
   "id": "0451836a",
   "metadata": {},
   "outputs": [],
   "source": [
    "def train_predict_lr(data, columns, numerical, categorical):\n",
    "    sc = StandardScaler()\n",
    "    oh = OneHotEncoder()\n",
    "    \n",
    "    train, test = train_test_split(data, test_size=0.3, random_state=2022, stratify=data['crrt'].ravel())\n",
    "    \n",
    "    X_train = train[columns].fillna(-1)\n",
    "    X_test = test[columns].fillna(-1)\n",
    "    y_train = train['crrt'].ravel()\n",
    "    y_test = test['crrt'].ravel()\n",
    "    \n",
    "    \n",
    "    X_num_train = sc.fit_transform(X_train[numerical])\n",
    "    X_num_test = sc.transform(X_test[numerical])\n",
    "    X_cat_train = X_train[categorical]\n",
    "    X_cat_test = X_test[categorical]\n",
    "    \n",
    "    X_train_proc = np.hstack((X_num_train, X_cat_train))\n",
    "    X_test_proc = np.hstack((X_num_test, X_cat_test))\n",
    "    \n",
    "    clf = LogisticRegression(max_iter=1000, class_weight='balanced', random_state=2022)\n",
    "    clf.fit(X_train_proc, y_train)\n",
    "    print(dict(zip(columns, clf.coef_.ravel())))\n",
    "    yHat = clf.predict_proba(X_test_proc)\n",
    "    return test, y_test, yHat"
   ]
  },
  {
   "cell_type": "code",
   "execution_count": 91,
   "id": "f7be5501",
   "metadata": {},
   "outputs": [
    {
     "name": "stdout",
     "output_type": "stream",
     "text": [
      "{'min_spo2': -0.3965310930118912, 'max_spo2': 0.29339726983322406, 'nanmin_valuenum_Albumin': -0.5472233918209383, 'nanmin_valuenum_Creatinine': -0.09252512763967964, 'nanmin_valuenum_Hematocrit': -0.18041551538207612, 'nanmin_valuenum_Potassium': 0.23796372729321372, 'nanmin_valuenum_Potassium, Whole Blood': 0.16104691073596386, 'nanmin_valuenum_Urea Nitrogen': -0.46500890745743034, 'nanmin_valuenum_pH': -7.928814807353349, 'nanmax_valuenum_Albumin': 0.7203674664105558, 'nanmax_valuenum_Creatinine': 1.1400802690515417, 'nanmax_valuenum_Hematocrit': -0.057695580426575875, 'nanmax_valuenum_Hematocrit, Calculated': -0.013347800605931583, 'nanmax_valuenum_Potassium': 0.23076847972683737, 'nanmax_valuenum_Potassium, Whole Blood': 0.0422951376035275, 'nanmax_valuenum_Urea Nitrogen': 0.4023038022455908, 'nanmax_valuenum_pH': 8.517244742141342, 'ckd': 0.1989318617838049, 'dm': 0.09436731584963134, 'hypertension': -0.1070495906070621, 'heartfailure': 0.09325854823284759}\n"
     ]
    }
   ],
   "source": [
    "_, y_test, yHat = train_predict_lr(data, columns, numerical, categorical)"
   ]
  },
  {
   "cell_type": "code",
   "execution_count": 92,
   "id": "3bded892",
   "metadata": {},
   "outputs": [
    {
     "data": {
      "text/plain": [
       "(array([1657.,  728.,  333.,  225.,  161.,  115.,  117.,  118.,  137.,\n",
       "         214.]),\n",
       " array([8.94908723e-04, 1.00805326e-01, 2.00715743e-01, 3.00626160e-01,\n",
       "        4.00536577e-01, 5.00446994e-01, 6.00357411e-01, 7.00267828e-01,\n",
       "        8.00178245e-01, 9.00088662e-01, 9.99999079e-01]),\n",
       " <BarContainer object of 10 artists>)"
      ]
     },
     "execution_count": 92,
     "metadata": {},
     "output_type": "execute_result"
    },
    {
     "data": {
      "image/png": "[encoded data removed]",
      "text/plain": [
       "<Figure size 432x288 with 1 Axes>"
      ]
     },
     "metadata": {
      "needs_background": "light"
     },
     "output_type": "display_data"
    }
   ],
   "source": [
    "plt.hist(yHat[:, 1])"
   ]
  },
  {
   "cell_type": "code",
   "execution_count": 93,
   "id": "9e637683",
   "metadata": {},
   "outputs": [],
   "source": [
    "ypred = (yHat[:, 1] >= 0.5)"
   ]
  },
  {
   "cell_type": "code",
   "execution_count": 94,
   "id": "c7d8dfa3",
   "metadata": {},
   "outputs": [],
   "source": [
    "fpr, tpr, _ = roc_curve(y_test, yHat[:,1])\n",
    "rocauc = auc(fpr, tpr)"
   ]
  },
  {
   "cell_type": "code",
   "execution_count": 95,
   "id": "6a3fd270",
   "metadata": {},
   "outputs": [
    {
     "name": "stdout",
     "output_type": "stream",
     "text": [
      "              precision    recall  f1-score   support\n",
      "\n",
      "         0.0       0.99      0.85      0.92      3616\n",
      "         1.0       0.24      0.88      0.37       189\n",
      "\n",
      "    accuracy                           0.85      3805\n",
      "   macro avg       0.61      0.87      0.64      3805\n",
      "weighted avg       0.96      0.85      0.89      3805\n",
      "\n"
     ]
    },
    {
     "data": {
      "image/png": "[encoded data removed]",
      "text/plain": [
       "<Figure size 720x720 with 1 Axes>"
      ]
     },
     "metadata": {
      "needs_background": "light"
     },
     "output_type": "display_data"
    }
   ],
   "source": [
    "plt.figure(figsize=(10, 10))\n",
    "plt.title('ROC AUC Curve')\n",
    "plt.plot(fpr, tpr, label=f'auc={round(rocauc, 3)}')\n",
    "plt.legend(loc=4)\n",
    "\n",
    "print(classification_report(y_test, ypred))"
   ]
  },
  {
   "cell_type": "markdown",
   "id": "0ca84088",
   "metadata": {},
   "source": [
    "#### Majority Class Undersampling"
   ]
  },
  {
   "cell_type": "code",
   "execution_count": 96,
   "id": "e244c5a6",
   "metadata": {},
   "outputs": [
    {
     "data": {
      "text/plain": [
       "(12683, 80)"
      ]
     },
     "execution_count": 96,
     "metadata": {},
     "output_type": "execute_result"
    }
   ],
   "source": [
    "data.shape"
   ]
  },
  {
   "cell_type": "code",
   "execution_count": 97,
   "id": "831d6d11",
   "metadata": {},
   "outputs": [
    {
     "data": {
      "text/plain": [
       "0.0    12052\n",
       "1.0      631\n",
       "Name: crrt, dtype: int64"
      ]
     },
     "execution_count": 97,
     "metadata": {},
     "output_type": "execute_result"
    }
   ],
   "source": [
    "data['crrt'].value_counts(dropna=False)"
   ]
  },
  {
   "cell_type": "code",
   "execution_count": 98,
   "id": "bcc62788",
   "metadata": {},
   "outputs": [],
   "source": [
    "nocrrt, crrt = data['crrt'].value_counts()"
   ]
  },
  {
   "cell_type": "code",
   "execution_count": 99,
   "id": "d5e5c0b6",
   "metadata": {},
   "outputs": [],
   "source": [
    "nocrrt_df = data[data['crrt'] == 0].reset_index(drop=True)\n",
    "nocrrt_df_under = nocrrt_df.sample(n=crrt, random_state=2022)"
   ]
  },
  {
   "cell_type": "code",
   "execution_count": 100,
   "id": "ebadb310",
   "metadata": {},
   "outputs": [],
   "source": [
    "crrt_df = data[data['crrt'] == 1].reset_index(drop=True)"
   ]
  },
  {
   "cell_type": "code",
   "execution_count": 101,
   "id": "f6030d49",
   "metadata": {},
   "outputs": [],
   "source": [
    "under_sampled = pd.concat([crrt_df, nocrrt_df_under], axis=0).sample(frac=1)"
   ]
  },
  {
   "cell_type": "code",
   "execution_count": 102,
   "id": "2907c2cb",
   "metadata": {},
   "outputs": [
    {
     "data": {
      "text/plain": [
       "0.0    631\n",
       "1.0    631\n",
       "Name: crrt, dtype: int64"
      ]
     },
     "execution_count": 102,
     "metadata": {},
     "output_type": "execute_result"
    }
   ],
   "source": [
    "under_sampled['crrt'].value_counts()"
   ]
  },
  {
   "cell_type": "code",
   "execution_count": 103,
   "id": "53571ec2",
   "metadata": {},
   "outputs": [
    {
     "name": "stdout",
     "output_type": "stream",
     "text": [
      "{'min_spo2': -0.4852047853834246, 'max_spo2': 0.1275742150991979, 'nanmin_valuenum_Albumin': -0.20834890296303632, 'nanmin_valuenum_Creatinine': -0.27070791975477343, 'nanmin_valuenum_Hematocrit': -0.029813067747945267, 'nanmin_valuenum_Potassium': 0.12755607056666335, 'nanmin_valuenum_Potassium, Whole Blood': -0.6214020245588742, 'nanmin_valuenum_Urea Nitrogen': -0.2587734578499637, 'nanmin_valuenum_pH': -1.5201620121199284, 'nanmax_valuenum_Albumin': 0.31521468315400913, 'nanmax_valuenum_Creatinine': 1.524030435521787, 'nanmax_valuenum_Hematocrit': -0.17537377615311694, 'nanmax_valuenum_Hematocrit, Calculated': -0.07035163086763366, 'nanmax_valuenum_Potassium': 0.2538660824177118, 'nanmax_valuenum_Potassium, Whole Blood': 0.9666497534717178, 'nanmax_valuenum_Urea Nitrogen': 0.4160818026598768, 'nanmax_valuenum_pH': 2.0042514398732734, 'ckd': 0.08715115694850646, 'dm': 0.05534529373130768, 'hypertension': 0.06822913953444272, 'heartfailure': 0.02438402149205089}\n"
     ]
    }
   ],
   "source": [
    "test_under, under_ytest, under_yHat = train_predict_lr(under_sampled, columns, numerical, categorical)"
   ]
  },
  {
   "cell_type": "code",
   "execution_count": 104,
   "id": "e0feaf78",
   "metadata": {},
   "outputs": [
    {
     "data": {
      "text/plain": [
       "(array([77., 47., 32., 17., 16., 26., 26., 33., 40., 65.]),\n",
       " array([0.00605928, 0.10545334, 0.2048474 , 0.30424146, 0.40363552,\n",
       "        0.50302958, 0.60242364, 0.7018177 , 0.80121176, 0.90060582,\n",
       "        0.99999988]),\n",
       " <BarContainer object of 10 artists>)"
      ]
     },
     "execution_count": 104,
     "metadata": {},
     "output_type": "execute_result"
    },
    {
     "data": {
      "image/png": "[encoded data removed]",
      "text/plain": [
       "<Figure size 432x288 with 1 Axes>"
      ]
     },
     "metadata": {
      "needs_background": "light"
     },
     "output_type": "display_data"
    }
   ],
   "source": [
    "plt.hist(under_yHat[:, 1])"
   ]
  },
  {
   "cell_type": "code",
   "execution_count": 105,
   "id": "280ab20b",
   "metadata": {},
   "outputs": [],
   "source": [
    "fpr, tpr, _ = roc_curve(under_ytest, under_yHat[:,1])\n",
    "rocauc = auc(fpr, tpr)"
   ]
  },
  {
   "cell_type": "code",
   "execution_count": 106,
   "id": "185b19b1",
   "metadata": {},
   "outputs": [],
   "source": [
    "ypred_under = (under_yHat[:, 1] >= 0.5)"
   ]
  },
  {
   "cell_type": "code",
   "execution_count": 107,
   "id": "8ca7ef33",
   "metadata": {},
   "outputs": [
    {
     "name": "stdout",
     "output_type": "stream",
     "text": [
      "              precision    recall  f1-score   support\n",
      "\n",
      "         0.0       0.82      0.82      0.82       189\n",
      "         1.0       0.82      0.83      0.82       190\n",
      "\n",
      "    accuracy                           0.82       379\n",
      "   macro avg       0.82      0.82      0.82       379\n",
      "weighted avg       0.82      0.82      0.82       379\n",
      "\n"
     ]
    },
    {
     "data": {
      "image/png": "[encoded data removed]",
      "text/plain": [
       "<Figure size 720x720 with 1 Axes>"
      ]
     },
     "metadata": {
      "needs_background": "light"
     },
     "output_type": "display_data"
    }
   ],
   "source": [
    "plt.figure(figsize=(10, 10))\n",
    "plt.title('ROC AUC Curve')\n",
    "plt.plot(fpr, tpr, label=f'auc={round(rocauc, 3)}')\n",
    "plt.legend(loc=4)\n",
    "\n",
    "print(classification_report(under_ytest, ypred_under))"
   ]
  },
  {
   "cell_type": "code",
   "execution_count": 108,
   "id": "c7d94686",
   "metadata": {},
   "outputs": [
    {
     "name": "stderr",
     "output_type": "stream",
     "text": [
      "/tmp/ipykernel_27248/532204791.py:2: SettingWithCopyWarning: \n",
      "A value is trying to be set on a copy of a slice from a DataFrame.\n",
      "Try using .loc[row_indexer,col_indexer] = value instead\n",
      "\n",
      "See the caveats in the documentation: https://pandas.pydata.org/pandas-docs/stable/user_guide/indexing.html#returning-a-view-versus-a-copy\n",
      "  test_under['prediction'] = under_yHat[:, 1]\n"
     ]
    }
   ],
   "source": [
    "# Stratify by AKI stage.\n",
    "test_under['prediction'] = under_yHat[:, 1]"
   ]
  },
  {
   "cell_type": "code",
   "execution_count": 109,
   "id": "1bf2698f",
   "metadata": {},
   "outputs": [
    {
     "data": {
      "text/plain": [
       "Text(0.5, 1.0, 'Performance by AKI')"
      ]
     },
     "execution_count": 109,
     "metadata": {},
     "output_type": "execute_result"
    },
    {
     "data": {
      "image/png": "[encoded data removed]",
      "text/plain": [
       "<Figure size 432x288 with 1 Axes>"
      ]
     },
     "metadata": {
      "needs_background": "light"
     },
     "output_type": "display_data"
    }
   ],
   "source": [
    "# Plot ROC curves for AKI stratified by stage.\n",
    "for aki in test_under['aki_stage'].unique():\n",
    "    tmp = test_under[test_under['aki_stage'] == aki]\n",
    "    ytest = tmp['crrt'].ravel()\n",
    "    ypred = tmp['prediction'].values\n",
    "    fpr, tpr, _ = roc_curve(ytest, ypred)\n",
    "    rocauc = auc(fpr, tpr)\n",
    "    plt.plot(fpr, tpr, label=f'AKI Stage: {aki}, ROCAUC={round(rocauc, 3)}')\n",
    "plt.legend(loc=4)\n",
    "plt.title(\"Performance by AKI\")"
   ]
  },
  {
   "cell_type": "code",
   "execution_count": 110,
   "id": "d58ab159",
   "metadata": {},
   "outputs": [
    {
     "data": {
      "image/png": "[encoded data removed]",
      "text/plain": [
       "<Figure size 1440x360 with 6 Axes>"
      ]
     },
     "metadata": {
      "needs_background": "light"
     },
     "output_type": "display_data"
    }
   ],
   "source": [
    "# Confusion matrices.\n",
    "fig, ax = plt.subplots(1, 3, figsize=(20, 5))\n",
    "for i, aki in enumerate(test_under['aki_stage'].unique()):\n",
    "    tmp = test_under[test_under['aki_stage'] == aki]\n",
    "    ytest = tmp['crrt'].ravel()\n",
    "    ypred = tmp['prediction'].values\n",
    "    ypred = (ypred >= 0.5)\n",
    "    cm = confusion_matrix(ytest, ypred)\n",
    "    sns.heatmap(cm, annot=True, ax=ax[i], cmap='Blues')\n",
    "    ax[i].set_title(f'AKI Stage: {aki}')"
   ]
  },
  {
   "cell_type": "code",
   "execution_count": 111,
   "id": "45acc8c5",
   "metadata": {},
   "outputs": [
    {
     "data": {
      "text/plain": [
       "count    190.00000\n",
       "mean      45.17130\n",
       "std       28.30426\n",
       "min       12.80000\n",
       "25%       22.24896\n",
       "50%       33.69736\n",
       "75%       61.41250\n",
       "max      119.27611\n",
       "Name: time_delta, dtype: float64"
      ]
     },
     "execution_count": 111,
     "metadata": {},
     "output_type": "execute_result"
    }
   ],
   "source": [
    "test_under['time_delta'].describe()"
   ]
  },
  {
   "cell_type": "code",
   "execution_count": 112,
   "id": "b8360d69",
   "metadata": {},
   "outputs": [
    {
     "data": {
      "text/plain": [
       "Text(0.5, 1.0, 'Performance by Time')"
      ]
     },
     "execution_count": 112,
     "metadata": {},
     "output_type": "execute_result"
    },
    {
     "data": {
      "image/png": "[encoded data removed]",
      "text/plain": [
       "<Figure size 432x288 with 1 Axes>"
      ]
     },
     "metadata": {
      "needs_background": "light"
     },
     "output_type": "display_data"
    }
   ],
   "source": [
    "# Plot ROC curves for AKI stratified by stage.\n",
    "step = 36\n",
    "for i in range(12, 120, step):\n",
    "    lower_bound = i\n",
    "    upper_bound = i + step\n",
    "    tmp = test_under[((test_under['time_delta'] >= lower_bound) & (test_under['time_delta'] <= upper_bound)) | (test_under['crrt'] == 0)]\n",
    "    ytest = tmp['crrt'].ravel()\n",
    "    ypred = tmp['prediction'].values\n",
    "    fpr, tpr, _ = roc_curve(ytest, ypred)\n",
    "\n",
    "    rocauc = auc(fpr, tpr)\n",
    "    plt.plot(fpr, tpr, label=f'{i} hours-{i+step} hours, ROCAUC={round(rocauc, 3)}')\n",
    "plt.legend(loc=4)\n",
    "plt.title(\"Performance by Time\")"
   ]
  },
  {
   "cell_type": "code",
   "execution_count": 113,
   "id": "7b1c2136",
   "metadata": {},
   "outputs": [
    {
     "data": {
      "image/png": "[encoded data removed]",
      "text/plain": [
       "<Figure size 1440x360 with 6 Axes>"
      ]
     },
     "metadata": {
      "needs_background": "light"
     },
     "output_type": "display_data"
    }
   ],
   "source": [
    "# Confusion matrices.\n",
    "step = 36\n",
    "fig, ax = plt.subplots(1, 3, figsize=(20, 5))\n",
    "counter = 0\n",
    "for i in range(12, 120, step):\n",
    "    lower_bound = i\n",
    "    upper_bound = i + step\n",
    "    tmp = test_under[((test_under['time_delta'] >= lower_bound) & (test_under['time_delta'] <= upper_bound)) | (test_under['crrt'] == 0)]\n",
    "    ytest = tmp['crrt'].ravel()\n",
    "    ypred = tmp['prediction'].values\n",
    "    ypred = (ypred >= 0.5)\n",
    "    cm = confusion_matrix(ytest, ypred)\n",
    "    sns.heatmap(cm, annot=True, ax=ax[counter], cmap='Blues')\n",
    "    ax[counter].set_title(f'CRRT between {lower_bound} hours and {upper_bound} hours')\n",
    "    counter+=1"
   ]
  }
 ],
 "metadata": {
  "kernelspec": {
   "display_name": "hiti",
   "language": "python",
   "name": "hiti"
  },
  "language_info": {
   "codemirror_mode": {
    "name": "ipython",
    "version": 3
   },
   "file_extension": ".py",
   "mimetype": "text/x-python",
   "name": "python",
   "nbconvert_exporter": "python",
   "pygments_lexer": "ipython3",
   "version": "3.9.7"
  }
 },
 "nbformat": 4,
 "nbformat_minor": 5
}
