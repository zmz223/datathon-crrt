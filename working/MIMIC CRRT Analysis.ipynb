{
 "cells": [
  {
   "cell_type": "markdown",
   "id": "e35921b8",
   "metadata": {},
   "source": [
    "## Import Dependencies"
   ]
  },
  {
   "cell_type": "code",
   "execution_count": 120,
   "id": "3ef1826b",
   "metadata": {},
   "outputs": [],
   "source": [
    "import pandas as pd\n",
    "import numpy as np\n",
    "import matplotlib.pyplot as plt\n",
    "import seaborn as sns\n",
    "from tqdm import tqdm\n",
    "from tableone import TableOne\n",
    "from sklearn.model_selection import train_test_split\n",
    "from sklearn.linear_model import LogisticRegression\n",
    "from sklearn.model_selection import GridSearchCV, KFold\n",
    "from sklearn.preprocessing import LabelEncoder, OneHotEncoder, StandardScaler\n",
    "from sklearn.metrics import roc_curve, roc_auc_score, classification_report, confusion_matrix, auc\n",
    "import os\n",
    "import pydata_google_auth\n",
    "import pickle"
   ]
  },
  {
   "cell_type": "markdown",
   "id": "337dde35",
   "metadata": {},
   "source": [
    "## Authenticate with GCP to access MIMIC"
   ]
  },
  {
   "cell_type": "code",
   "execution_count": 2,
   "id": "8b683675",
   "metadata": {},
   "outputs": [],
   "source": [
    "project_id = 'authentic-light-375118'\n",
    "os.environ['GOOGLE_CLOUD_PROJECT'] = project_id\n",
    "\n",
    "credentials = pydata_google_auth.get_user_credentials(\n",
    "    ['https://www.googleapis.com/auth/bigquery'],\n",
    "    use_local_webserver=False\n",
    ")\n",
    "\n",
    "def run_query(query):\n",
    "    return pd.io.gbq.read_gbq(\n",
    "      query,\n",
    "      project_id=project_id,\n",
    "      credentials=credentials,\n",
    "      configuration={'query': {\n",
    "          'useLegacySql': False\n",
    "      }})"
   ]
  },
  {
   "cell_type": "markdown",
   "id": "c7de32d5",
   "metadata": {},
   "source": [
    "## Cohort Curation\n",
    "#### Inclusion/Exclusion Criteria\n",
    "1. Patients > 18\n",
    "2. 1st ICU stay\n",
    "3. Measurement of creatinine and urine ouput within 24 hours\n",
    "4. aki stage 2 \n",
    "5. not a CEER ICD 10-N18\n",
    "6. No DNR"
   ]
  },
  {
   "cell_type": "markdown",
   "id": "45182a4d",
   "metadata": {},
   "source": [
    "#### AKI Stage > 0"
   ]
  },
  {
   "cell_type": "code",
   "execution_count": 3,
   "id": "21fe40a4",
   "metadata": {},
   "outputs": [],
   "source": [
    "# Base the cohort off of patients with aki_stage > 0.\n",
    "aki = run_query(\n",
    "    \"\"\"SELECT * FROM `physionet-data.mimiciv_derived.kdigo_stages` WHERE aki_stage <> 0\"\"\"\n",
    ")"
   ]
  },
  {
   "cell_type": "code",
   "execution_count": 4,
   "id": "5aa02ea6",
   "metadata": {},
   "outputs": [
    {
     "data": {
      "text/plain": [
       "31511"
      ]
     },
     "execution_count": 4,
     "metadata": {},
     "output_type": "execute_result"
    }
   ],
   "source": [
    "aki_pats = aki['subject_id'].unique()\n",
    "len(aki_pats)"
   ]
  },
  {
   "cell_type": "markdown",
   "id": "8baa0501",
   "metadata": {},
   "source": [
    "#### First ICU Stay"
   ]
  },
  {
   "cell_type": "code",
   "execution_count": 5,
   "id": "dd4e7002",
   "metadata": {},
   "outputs": [
    {
     "data": {
      "text/plain": [
       "(50976, 8)"
      ]
     },
     "execution_count": 5,
     "metadata": {},
     "output_type": "execute_result"
    }
   ],
   "source": [
    "# Get the ICU stays of the AKI patients and select the first one.\n",
    "icustays = run_query(\n",
    "    f\"\"\"SELECT * FROM `physionet-data.mimiciv_icu.icustays` WHERE subject_id IN {str(tuple(aki_pats))}\"\"\"\n",
    ")\n",
    "icustays.shape"
   ]
  },
  {
   "cell_type": "code",
   "execution_count": 6,
   "id": "0e5859ec",
   "metadata": {},
   "outputs": [
    {
     "data": {
      "text/plain": [
       "(31511, 8)"
      ]
     },
     "execution_count": 6,
     "metadata": {},
     "output_type": "execute_result"
    }
   ],
   "source": [
    "# Returns the first ICU stay for each patient.\n",
    "def get_first_icu_stay(df):\n",
    "    min_stay = df.groupby(by='subject_id')['intime'].min().reset_index()\n",
    "    result = df.merge(min_stay)\n",
    "    return result\n",
    "\n",
    "icu_first = get_first_icu_stay(icustays)\n",
    "icu_first.shape"
   ]
  },
  {
   "cell_type": "code",
   "execution_count": 7,
   "id": "7d75a6ae",
   "metadata": {},
   "outputs": [
    {
     "data": {
      "text/plain": [
       "subject_id        31511\n",
       "hadm_id           31511\n",
       "stay_id           31511\n",
       "first_careunit        9\n",
       "last_careunit         9\n",
       "intime            31511\n",
       "outtime           31511\n",
       "los               30537\n",
       "dtype: int64"
      ]
     },
     "execution_count": 7,
     "metadata": {},
     "output_type": "execute_result"
    }
   ],
   "source": [
    "icu_first.nunique()"
   ]
  },
  {
   "cell_type": "code",
   "execution_count": 8,
   "id": "8072ae0a",
   "metadata": {},
   "outputs": [
    {
     "data": {
      "text/plain": [
       "(535087, 18)"
      ]
     },
     "execution_count": 8,
     "metadata": {},
     "output_type": "execute_result"
    }
   ],
   "source": [
    "aki_icu = aki.merge(icu_first, on=['subject_id', 'hadm_id', 'stay_id'])\n",
    "aki_icu.shape"
   ]
  },
  {
   "cell_type": "markdown",
   "id": "d374ebd2",
   "metadata": {},
   "source": [
    "aki_icu"
   ]
  },
  {
   "cell_type": "code",
   "execution_count": 9,
   "id": "11d56ba1",
   "metadata": {},
   "outputs": [
    {
     "data": {
      "text/plain": [
       "subject_id              28483\n",
       "hadm_id                 28483\n",
       "stay_id                 28483\n",
       "charttime              429889\n",
       "creat_low_past_7day       183\n",
       "creat_low_past_48hr       190\n",
       "creat                     219\n",
       "aki_stage_creat             4\n",
       "uo_rt_6hr               14254\n",
       "uo_rt_12hr              17234\n",
       "uo_rt_24hr              20086\n",
       "aki_stage_uo                4\n",
       "aki_stage                   3\n",
       "first_careunit              9\n",
       "last_careunit               9\n",
       "intime                  28483\n",
       "outtime                 28483\n",
       "los                     27710\n",
       "dtype: int64"
      ]
     },
     "execution_count": 9,
     "metadata": {},
     "output_type": "execute_result"
    }
   ],
   "source": [
    "aki_icu.nunique()"
   ]
  },
  {
   "cell_type": "markdown",
   "id": "83219e66",
   "metadata": {},
   "source": [
    "#### Filter out patients with DNR request"
   ]
  },
  {
   "cell_type": "code",
   "execution_count": 10,
   "id": "96954b21",
   "metadata": {},
   "outputs": [],
   "source": [
    "aki_icu_enc = aki_icu['hadm_id'].unique()"
   ]
  },
  {
   "cell_type": "code",
   "execution_count": 11,
   "id": "b15e623d",
   "metadata": {},
   "outputs": [
    {
     "data": {
      "text/plain": [
       "(2276, 1)"
      ]
     },
     "execution_count": 11,
     "metadata": {},
     "output_type": "execute_result"
    }
   ],
   "source": [
    "# Get patients with DNR in the current cohort.\n",
    "dnr = run_query(\n",
    "    f\"\"\"SELECT hadm_id from `physionet-data.mimiciv_icu.chartevents` WHERE itemid=22378 or itemid=228687 \n",
    "    AND hadm_id IN {str(tuple(aki_icu_enc))}\"\"\"\n",
    ")\n",
    "dnr.shape"
   ]
  },
  {
   "cell_type": "code",
   "execution_count": 12,
   "id": "956a6267",
   "metadata": {},
   "outputs": [
    {
     "data": {
      "text/plain": [
       "(535087, 18)"
      ]
     },
     "execution_count": 12,
     "metadata": {},
     "output_type": "execute_result"
    }
   ],
   "source": [
    "aki_no_dnr = aki_icu[~aki_icu.isin(dnr['hadm_id'].values)]\n",
    "aki_icu.shape"
   ]
  },
  {
   "cell_type": "markdown",
   "id": "50834c56",
   "metadata": {},
   "source": [
    "#### Creatinine and Urine Output within 24 hours of admission"
   ]
  },
  {
   "cell_type": "code",
   "execution_count": 13,
   "id": "4129d046",
   "metadata": {},
   "outputs": [],
   "source": [
    "aki_no_dnr_sid = aki_no_dnr['stay_id'].unique()"
   ]
  },
  {
   "cell_type": "code",
   "execution_count": 14,
   "id": "95f4e3ef",
   "metadata": {},
   "outputs": [],
   "source": [
    "# Get creatinine and urine output values for the current cohort.\n",
    "creatinine = run_query(\n",
    "    f\"\"\"SELECT * FROM `physionet-data.mimiciv_derived.kdigo_creatinine` WHERE stay_id IN \n",
    "    {str(tuple(aki_no_dnr_sid))}\"\"\"\n",
    ")\n",
    "uo = run_query(\n",
    "    f\"\"\"SELECT * FROM `physionet-data.mimiciv_derived.kdigo_uo` WHERE stay_id IN \n",
    "    {str(tuple(aki_no_dnr_sid))}\n",
    "    \"\"\"\n",
    ")"
   ]
  },
  {
   "cell_type": "code",
   "execution_count": 15,
   "id": "3a109ba4",
   "metadata": {},
   "outputs": [
    {
     "data": {
      "text/plain": [
       "(28483, 2)"
      ]
     },
     "execution_count": 15,
     "metadata": {},
     "output_type": "execute_result"
    }
   ],
   "source": [
    "# Find stay_ids that do not have a creatinine or uo value within 24 hours.\n",
    "cohort_sid_intime = aki_no_dnr[['stay_id', 'intime']].drop_duplicates()\n",
    "cohort_sid_intime.shape"
   ]
  },
  {
   "cell_type": "code",
   "execution_count": 16,
   "id": "55c43f1c",
   "metadata": {},
   "outputs": [
    {
     "data": {
      "text/plain": [
       "stay_id    28483\n",
       "intime     28483\n",
       "dtype: int64"
      ]
     },
     "execution_count": 16,
     "metadata": {},
     "output_type": "execute_result"
    }
   ],
   "source": [
    "cohort_sid_intime.nunique()"
   ]
  },
  {
   "cell_type": "code",
   "execution_count": 17,
   "id": "2a01c469",
   "metadata": {},
   "outputs": [
    {
     "name": "stdout",
     "output_type": "stream",
     "text": [
      "stay_id                 28483\n",
      "intime                  28483\n",
      "hadm_id                 28483\n",
      "charttime              279975\n",
      "creat                     287\n",
      "creat_low_past_48hr       251\n",
      "creat_low_past_7day       243\n",
      "dtype: int64\n",
      "stay_id              28483\n",
      "intime               28483\n",
      "charttime           857046\n",
      "weight                1691\n",
      "urineoutput_6hr       3022\n",
      "urineoutput_12hr      5026\n",
      "urineoutput_24hr      8713\n",
      "uo_rt_6hr            67105\n",
      "uo_rt_12hr           61054\n",
      "uo_rt_24hr           57369\n",
      "uo_tm_6hr              301\n",
      "uo_tm_12hr             661\n",
      "uo_tm_24hr            1381\n",
      "dtype: int64\n"
     ]
    }
   ],
   "source": [
    "# Merge with intime\n",
    "creatinine_icu = cohort_sid_intime.merge(creatinine, on='stay_id', how='left')\n",
    "uo_icu = cohort_sid_intime.merge(uo, on='stay_id', how='left')\n",
    "print(creatinine_icu.nunique())\n",
    "print(uo_icu.nunique())"
   ]
  },
  {
   "cell_type": "code",
   "execution_count": 18,
   "id": "7515e27f",
   "metadata": {},
   "outputs": [],
   "source": [
    "# Calculate delta between intime and charttime in days.\n",
    "creatinine_icu['delta_days'] = (creatinine_icu['charttime'] - creatinine_icu['intime']) / np.timedelta64(1, 'D')\n",
    "uo_icu['delta_days'] = (uo_icu['charttime'] - uo_icu['intime']) / np.timedelta64(1, 'D')"
   ]
  },
  {
   "cell_type": "code",
   "execution_count": 19,
   "id": "3c070d43",
   "metadata": {},
   "outputs": [
    {
     "data": {
      "text/plain": [
       "count    281687.000000\n",
       "mean          3.796357\n",
       "std           7.416167\n",
       "min          -6.999803\n",
       "25%           0.110550\n",
       "50%           1.495336\n",
       "75%           5.099560\n",
       "max         101.209722\n",
       "Name: delta_days, dtype: float64"
      ]
     },
     "execution_count": 19,
     "metadata": {},
     "output_type": "execute_result"
    }
   ],
   "source": [
    "creatinine_icu['delta_days'].describe()"
   ]
  },
  {
   "cell_type": "code",
   "execution_count": 20,
   "id": "cb745d64",
   "metadata": {},
   "outputs": [
    {
     "data": {
      "text/plain": [
       "count    1.905024e+06\n",
       "mean     5.427997e+00\n",
       "std      7.425071e+00\n",
       "min     -2.683958e+01\n",
       "25%      1.103403e+00\n",
       "50%      2.802778e+00\n",
       "75%      6.804745e+00\n",
       "max      1.015424e+02\n",
       "Name: delta_days, dtype: float64"
      ]
     },
     "execution_count": 20,
     "metadata": {},
     "output_type": "execute_result"
    }
   ],
   "source": [
    "uo_icu['delta_days'].describe()"
   ]
  },
  {
   "cell_type": "code",
   "execution_count": 21,
   "id": "5e0e91fb",
   "metadata": {},
   "outputs": [],
   "source": [
    "# Filter for measurements within 48 hours.\n",
    "creatinine_icu_48 = creatinine_icu[(creatinine_icu['delta_days'] >= 0) & (creatinine_icu['delta_days'] <= 2)]\n",
    "uo_icu_48 = uo_icu[(uo_icu['delta_days'] >= 0) & (uo_icu['delta_days'] <= 2)]"
   ]
  },
  {
   "cell_type": "code",
   "execution_count": 22,
   "id": "07e73f21",
   "metadata": {
    "scrolled": true
   },
   "outputs": [
    {
     "data": {
      "text/plain": [
       "27691"
      ]
     },
     "execution_count": 22,
     "metadata": {},
     "output_type": "execute_result"
    }
   ],
   "source": [
    "# Use set intersection to find ids that match by criterion. \n",
    "sids_48 = list(set(creatinine_icu_48['stay_id'].unique()).intersection(set(uo_icu_48['stay_id'].unique())))\n",
    "len(sids_48)"
   ]
  },
  {
   "cell_type": "code",
   "execution_count": 23,
   "id": "8ce32422",
   "metadata": {},
   "outputs": [
    {
     "data": {
      "text/plain": [
       "792"
      ]
     },
     "execution_count": 23,
     "metadata": {},
     "output_type": "execute_result"
    }
   ],
   "source": [
    "# Stays lost\n",
    "len(aki_no_dnr_sid) - len(sids_48)"
   ]
  },
  {
   "cell_type": "code",
   "execution_count": 24,
   "id": "905434ce",
   "metadata": {},
   "outputs": [
    {
     "data": {
      "text/plain": [
       "(528947, 18)"
      ]
     },
     "execution_count": 24,
     "metadata": {},
     "output_type": "execute_result"
    }
   ],
   "source": [
    "aki_creat_uo_48 = aki_no_dnr[aki_no_dnr['stay_id'].isin(sids_48)].reset_index(drop=True)\n",
    "aki_creat_uo_48.shape"
   ]
  },
  {
   "cell_type": "markdown",
   "id": "502e88e0",
   "metadata": {},
   "source": [
    "#### Patients greater than 18"
   ]
  },
  {
   "cell_type": "code",
   "execution_count": 25,
   "id": "13d0fc9b",
   "metadata": {},
   "outputs": [],
   "source": [
    "aki_creat_uo_48_pats = aki_creat_uo_48['subject_id'].unique()"
   ]
  },
  {
   "cell_type": "code",
   "execution_count": 26,
   "id": "60e65db1",
   "metadata": {},
   "outputs": [],
   "source": [
    "# Query patients in our current cohort under 18.\n",
    "demo = run_query(\n",
    "    f\"\"\"SELECT * FROM `physionet-data.mimiciv_hosp.patients` WHERE subject_id IN {str(tuple(aki_creat_uo_48_pats))} \"\"\"\n",
    ")"
   ]
  },
  {
   "cell_type": "code",
   "execution_count": 27,
   "id": "ae590e09",
   "metadata": {},
   "outputs": [],
   "source": [
    "demo_18 = demo[demo['anchor_age'] < 18]"
   ]
  },
  {
   "cell_type": "code",
   "execution_count": 28,
   "id": "92a08034",
   "metadata": {},
   "outputs": [
    {
     "data": {
      "text/plain": [
       "0"
      ]
     },
     "execution_count": 28,
     "metadata": {},
     "output_type": "execute_result"
    }
   ],
   "source": [
    "# No patients match so we can ignore this criteria.\n",
    "demo_18.shape[0]"
   ]
  },
  {
   "cell_type": "markdown",
   "id": "32aaee75",
   "metadata": {},
   "source": [
    "#### Filter to a single sample per patient.\n",
    "Idea: Max AKI stage in the 1st 48 hours of the stay.\n",
    "If duplicates, take the one closest to the intime."
   ]
  },
  {
   "cell_type": "code",
   "execution_count": 29,
   "id": "94359505",
   "metadata": {},
   "outputs": [],
   "source": [
    "# Calculate delta days.\n",
    "aki_creat_uo_48['delta_hours_aki'] = (aki_creat_uo_48['charttime'] - aki_creat_uo_48['intime']) / np.timedelta64(1, 'h')"
   ]
  },
  {
   "cell_type": "code",
   "execution_count": 30,
   "id": "d1d9d134",
   "metadata": {},
   "outputs": [
    {
     "data": {
      "text/plain": [
       "count    528947.000000\n",
       "mean        113.003071\n",
       "std         171.660065\n",
       "min        -159.816944\n",
       "25%          23.573750\n",
       "50%          51.182778\n",
       "75%         127.975833\n",
       "max        2284.089722\n",
       "Name: delta_hours_aki, dtype: float64"
      ]
     },
     "execution_count": 30,
     "metadata": {},
     "output_type": "execute_result"
    }
   ],
   "source": [
    "aki_creat_uo_48['delta_hours_aki'].describe()"
   ]
  },
  {
   "cell_type": "code",
   "execution_count": 31,
   "id": "d6755d9b",
   "metadata": {},
   "outputs": [],
   "source": [
    "cohort_48 = aki_creat_uo_48[(aki_creat_uo_48['delta_hours_aki'] >= 0) & (aki_creat_uo_48['delta_hours_aki'] <= 12)].reset_index(drop=True)"
   ]
  },
  {
   "cell_type": "code",
   "execution_count": 32,
   "id": "69ed6ac0",
   "metadata": {},
   "outputs": [],
   "source": [
    "max_aki_48 = cohort_48.groupby(by='stay_id')['aki_stage'].max().reset_index().rename({'index' : 'stay_id'}, axis=1)"
   ]
  },
  {
   "cell_type": "code",
   "execution_count": 33,
   "id": "11a3acc4",
   "metadata": {},
   "outputs": [],
   "source": [
    "cohort_max_aki = aki_creat_uo_48.merge(max_aki_48)"
   ]
  },
  {
   "cell_type": "code",
   "execution_count": 34,
   "id": "6d87423c",
   "metadata": {},
   "outputs": [],
   "source": [
    "# Select the min chart time.\n",
    "min_chart = cohort_max_aki.groupby('stay_id')['charttime'].min().reset_index().rename({'index' : 'stay_id'}, axis=1)"
   ]
  },
  {
   "cell_type": "code",
   "execution_count": 35,
   "id": "92f3b23d",
   "metadata": {},
   "outputs": [],
   "source": [
    "cohort = cohort_max_aki.merge(min_chart)"
   ]
  },
  {
   "cell_type": "code",
   "execution_count": 36,
   "id": "1cfa7c14",
   "metadata": {},
   "outputs": [
    {
     "data": {
      "text/plain": [
       "(12067, 19)"
      ]
     },
     "execution_count": 36,
     "metadata": {},
     "output_type": "execute_result"
    }
   ],
   "source": [
    "# Drop NaN on hadm_id as NaN hadm_id's represent outpatients.\n",
    "cohort = cohort.dropna(subset=['hadm_id'])\n",
    "cohort.shape"
   ]
  },
  {
   "cell_type": "markdown",
   "id": "38dd2047",
   "metadata": {},
   "source": [
    "## Add Covariates"
   ]
  },
  {
   "cell_type": "markdown",
   "id": "da6e07cd",
   "metadata": {},
   "source": [
    "#### Labs\n",
    "- K+\n",
    "- pH\n",
    "- BUN\n",
    "- HCO3"
   ]
  },
  {
   "cell_type": "code",
   "execution_count": 37,
   "id": "e3b481ed",
   "metadata": {},
   "outputs": [],
   "source": [
    "cohort_enc = cohort['hadm_id'].unique()\n",
    "labs = run_query(\n",
    "    f\"\"\"SELECT * FROM (select l.*, d.label from `physionet-data.mimiciv_hosp.labevents` AS l\n",
    "        JOIN `physionet-data.mimiciv_hosp.d_labitems` d ON l.itemid = d.itemid WHERE \n",
    "        l.itemid IN (51006, 50822, 50971, 50810, 51221, 50912, 50862, 50820, 50882, 50803)\n",
    "        ) \n",
    "        WHERE hadm_id IN {str(tuple(cohort_enc))}\"\"\"\n",
    ")"
   ]
  },
  {
   "cell_type": "code",
   "execution_count": 38,
   "id": "c74f0307",
   "metadata": {},
   "outputs": [
    {
     "data": {
      "text/plain": [
       "(1224530, 17)"
      ]
     },
     "execution_count": 38,
     "metadata": {},
     "output_type": "execute_result"
    }
   ],
   "source": [
    "labs.shape"
   ]
  },
  {
   "cell_type": "code",
   "execution_count": 39,
   "id": "11709c49",
   "metadata": {},
   "outputs": [],
   "source": [
    "cohort_ts = cohort[['stay_id', 'hadm_id', 'intime', 'outtime']].drop_duplicates()"
   ]
  },
  {
   "cell_type": "code",
   "execution_count": 40,
   "id": "b57e22a7",
   "metadata": {},
   "outputs": [],
   "source": [
    "# Convert dates to datetime.\n",
    "cohort_ts['intime'] = pd.to_datetime(cohort_ts['intime'])\n",
    "cohort_ts['outtime'] = pd.to_datetime(cohort_ts['outtime'])\n",
    "labs['charttime'] = pd.to_datetime(labs['charttime'])"
   ]
  },
  {
   "cell_type": "code",
   "execution_count": 41,
   "id": "be855ed2",
   "metadata": {},
   "outputs": [
    {
     "data": {
      "text/plain": [
       "(674265, 20)"
      ]
     },
     "execution_count": 41,
     "metadata": {},
     "output_type": "execute_result"
    }
   ],
   "source": [
    "# Filter labs to only keep those whose charttime is between an admissions intime and outtime. \n",
    "labs_merged = labs.merge(cohort_ts, on='hadm_id')\n",
    "labs_filt = labs_merged[(labs_merged['charttime'] >= labs_merged['intime']) & (labs_merged['charttime'] <= labs_merged['outtime'])]\n",
    "labs_filt.shape"
   ]
  },
  {
   "cell_type": "code",
   "execution_count": 42,
   "id": "a1170ce4",
   "metadata": {},
   "outputs": [],
   "source": [
    "# Pivot table to get the min and max values of labs. \n",
    "lab_description = pd.pivot_table(labs, values=['valuenum'], index=['hadm_id'], columns=['label'], aggfunc=[np.nanmin, np.nanmax])\n",
    "lab_description = lab_description.reset_index()\n",
    "# Restore correct columns.\n",
    "cols = [\"_\".join(x) for x in list(lab_description)]\n",
    "cols[0] = 'hadm_id'\n",
    "lab_description.columns = cols"
   ]
  },
  {
   "cell_type": "code",
   "execution_count": 43,
   "id": "a73e49cc",
   "metadata": {},
   "outputs": [
    {
     "data": {
      "text/html": [
       "<div>\n",
       "<style scoped>\n",
       "    .dataframe tbody tr th:only-of-type {\n",
       "        vertical-align: middle;\n",
       "    }\n",
       "\n",
       "    .dataframe tbody tr th {\n",
       "        vertical-align: top;\n",
       "    }\n",
       "\n",
       "    .dataframe thead th {\n",
       "        text-align: right;\n",
       "    }\n",
       "</style>\n",
       "<table border=\"1\" class=\"dataframe\">\n",
       "  <thead>\n",
       "    <tr style=\"text-align: right;\">\n",
       "      <th></th>\n",
       "      <th>hadm_id</th>\n",
       "      <th>nanmin_valuenum_Albumin</th>\n",
       "      <th>nanmin_valuenum_Bicarbonate</th>\n",
       "      <th>nanmin_valuenum_Calculated Bicarbonate, Whole Blood</th>\n",
       "      <th>nanmin_valuenum_Creatinine</th>\n",
       "      <th>nanmin_valuenum_Hematocrit</th>\n",
       "      <th>nanmin_valuenum_Hematocrit, Calculated</th>\n",
       "      <th>nanmin_valuenum_Potassium</th>\n",
       "      <th>nanmin_valuenum_Potassium, Whole Blood</th>\n",
       "      <th>nanmin_valuenum_Urea Nitrogen</th>\n",
       "      <th>...</th>\n",
       "      <th>nanmax_valuenum_Albumin</th>\n",
       "      <th>nanmax_valuenum_Bicarbonate</th>\n",
       "      <th>nanmax_valuenum_Calculated Bicarbonate, Whole Blood</th>\n",
       "      <th>nanmax_valuenum_Creatinine</th>\n",
       "      <th>nanmax_valuenum_Hematocrit</th>\n",
       "      <th>nanmax_valuenum_Hematocrit, Calculated</th>\n",
       "      <th>nanmax_valuenum_Potassium</th>\n",
       "      <th>nanmax_valuenum_Potassium, Whole Blood</th>\n",
       "      <th>nanmax_valuenum_Urea Nitrogen</th>\n",
       "      <th>nanmax_valuenum_pH</th>\n",
       "    </tr>\n",
       "  </thead>\n",
       "  <tbody>\n",
       "    <tr>\n",
       "      <th>0</th>\n",
       "      <td>20000094</td>\n",
       "      <td>3.1</td>\n",
       "      <td>19.0</td>\n",
       "      <td>NaN</td>\n",
       "      <td>3.8</td>\n",
       "      <td>40.1</td>\n",
       "      <td>NaN</td>\n",
       "      <td>4.3</td>\n",
       "      <td>NaN</td>\n",
       "      <td>99.0</td>\n",
       "      <td>...</td>\n",
       "      <td>3.6</td>\n",
       "      <td>28.0</td>\n",
       "      <td>NaN</td>\n",
       "      <td>3.9</td>\n",
       "      <td>42.1</td>\n",
       "      <td>NaN</td>\n",
       "      <td>4.6</td>\n",
       "      <td>NaN</td>\n",
       "      <td>99.0</td>\n",
       "      <td>7.41</td>\n",
       "    </tr>\n",
       "    <tr>\n",
       "      <th>1</th>\n",
       "      <td>20001305</td>\n",
       "      <td>2.6</td>\n",
       "      <td>21.0</td>\n",
       "      <td>NaN</td>\n",
       "      <td>0.8</td>\n",
       "      <td>31.4</td>\n",
       "      <td>NaN</td>\n",
       "      <td>4.1</td>\n",
       "      <td>NaN</td>\n",
       "      <td>47.0</td>\n",
       "      <td>...</td>\n",
       "      <td>2.6</td>\n",
       "      <td>25.0</td>\n",
       "      <td>NaN</td>\n",
       "      <td>1.2</td>\n",
       "      <td>34.5</td>\n",
       "      <td>NaN</td>\n",
       "      <td>4.7</td>\n",
       "      <td>NaN</td>\n",
       "      <td>59.0</td>\n",
       "      <td>7.46</td>\n",
       "    </tr>\n",
       "    <tr>\n",
       "      <th>2</th>\n",
       "      <td>20001361</td>\n",
       "      <td>3.0</td>\n",
       "      <td>20.0</td>\n",
       "      <td>NaN</td>\n",
       "      <td>1.6</td>\n",
       "      <td>30.6</td>\n",
       "      <td>NaN</td>\n",
       "      <td>3.4</td>\n",
       "      <td>NaN</td>\n",
       "      <td>24.0</td>\n",
       "      <td>...</td>\n",
       "      <td>3.2</td>\n",
       "      <td>26.0</td>\n",
       "      <td>NaN</td>\n",
       "      <td>4.2</td>\n",
       "      <td>37.2</td>\n",
       "      <td>NaN</td>\n",
       "      <td>5.8</td>\n",
       "      <td>NaN</td>\n",
       "      <td>49.0</td>\n",
       "      <td>7.48</td>\n",
       "    </tr>\n",
       "    <tr>\n",
       "      <th>3</th>\n",
       "      <td>20001770</td>\n",
       "      <td>2.0</td>\n",
       "      <td>15.0</td>\n",
       "      <td>NaN</td>\n",
       "      <td>0.7</td>\n",
       "      <td>19.9</td>\n",
       "      <td>NaN</td>\n",
       "      <td>3.4</td>\n",
       "      <td>3.4</td>\n",
       "      <td>9.0</td>\n",
       "      <td>...</td>\n",
       "      <td>3.0</td>\n",
       "      <td>22.0</td>\n",
       "      <td>NaN</td>\n",
       "      <td>1.7</td>\n",
       "      <td>28.4</td>\n",
       "      <td>NaN</td>\n",
       "      <td>5.2</td>\n",
       "      <td>3.4</td>\n",
       "      <td>23.0</td>\n",
       "      <td>7.26</td>\n",
       "    </tr>\n",
       "    <tr>\n",
       "      <th>4</th>\n",
       "      <td>20002506</td>\n",
       "      <td>4.9</td>\n",
       "      <td>22.0</td>\n",
       "      <td>NaN</td>\n",
       "      <td>0.6</td>\n",
       "      <td>33.7</td>\n",
       "      <td>NaN</td>\n",
       "      <td>3.4</td>\n",
       "      <td>NaN</td>\n",
       "      <td>6.0</td>\n",
       "      <td>...</td>\n",
       "      <td>4.9</td>\n",
       "      <td>26.0</td>\n",
       "      <td>NaN</td>\n",
       "      <td>0.7</td>\n",
       "      <td>40.0</td>\n",
       "      <td>NaN</td>\n",
       "      <td>4.1</td>\n",
       "      <td>NaN</td>\n",
       "      <td>13.0</td>\n",
       "      <td>NaN</td>\n",
       "    </tr>\n",
       "  </tbody>\n",
       "</table>\n",
       "<p>5 rows × 21 columns</p>\n",
       "</div>"
      ],
      "text/plain": [
       "    hadm_id  nanmin_valuenum_Albumin  nanmin_valuenum_Bicarbonate  \\\n",
       "0  20000094                      3.1                         19.0   \n",
       "1  20001305                      2.6                         21.0   \n",
       "2  20001361                      3.0                         20.0   \n",
       "3  20001770                      2.0                         15.0   \n",
       "4  20002506                      4.9                         22.0   \n",
       "\n",
       "   nanmin_valuenum_Calculated Bicarbonate, Whole Blood  \\\n",
       "0                                                NaN     \n",
       "1                                                NaN     \n",
       "2                                                NaN     \n",
       "3                                                NaN     \n",
       "4                                                NaN     \n",
       "\n",
       "   nanmin_valuenum_Creatinine  nanmin_valuenum_Hematocrit  \\\n",
       "0                         3.8                        40.1   \n",
       "1                         0.8                        31.4   \n",
       "2                         1.6                        30.6   \n",
       "3                         0.7                        19.9   \n",
       "4                         0.6                        33.7   \n",
       "\n",
       "   nanmin_valuenum_Hematocrit, Calculated  nanmin_valuenum_Potassium  \\\n",
       "0                                     NaN                        4.3   \n",
       "1                                     NaN                        4.1   \n",
       "2                                     NaN                        3.4   \n",
       "3                                     NaN                        3.4   \n",
       "4                                     NaN                        3.4   \n",
       "\n",
       "   nanmin_valuenum_Potassium, Whole Blood  nanmin_valuenum_Urea Nitrogen  ...  \\\n",
       "0                                     NaN                           99.0  ...   \n",
       "1                                     NaN                           47.0  ...   \n",
       "2                                     NaN                           24.0  ...   \n",
       "3                                     3.4                            9.0  ...   \n",
       "4                                     NaN                            6.0  ...   \n",
       "\n",
       "   nanmax_valuenum_Albumin  nanmax_valuenum_Bicarbonate  \\\n",
       "0                      3.6                         28.0   \n",
       "1                      2.6                         25.0   \n",
       "2                      3.2                         26.0   \n",
       "3                      3.0                         22.0   \n",
       "4                      4.9                         26.0   \n",
       "\n",
       "   nanmax_valuenum_Calculated Bicarbonate, Whole Blood  \\\n",
       "0                                                NaN     \n",
       "1                                                NaN     \n",
       "2                                                NaN     \n",
       "3                                                NaN     \n",
       "4                                                NaN     \n",
       "\n",
       "   nanmax_valuenum_Creatinine  nanmax_valuenum_Hematocrit  \\\n",
       "0                         3.9                        42.1   \n",
       "1                         1.2                        34.5   \n",
       "2                         4.2                        37.2   \n",
       "3                         1.7                        28.4   \n",
       "4                         0.7                        40.0   \n",
       "\n",
       "   nanmax_valuenum_Hematocrit, Calculated  nanmax_valuenum_Potassium  \\\n",
       "0                                     NaN                        4.6   \n",
       "1                                     NaN                        4.7   \n",
       "2                                     NaN                        5.8   \n",
       "3                                     NaN                        5.2   \n",
       "4                                     NaN                        4.1   \n",
       "\n",
       "   nanmax_valuenum_Potassium, Whole Blood  nanmax_valuenum_Urea Nitrogen  \\\n",
       "0                                     NaN                           99.0   \n",
       "1                                     NaN                           59.0   \n",
       "2                                     NaN                           49.0   \n",
       "3                                     3.4                           23.0   \n",
       "4                                     NaN                           13.0   \n",
       "\n",
       "   nanmax_valuenum_pH  \n",
       "0                7.41  \n",
       "1                7.46  \n",
       "2                7.48  \n",
       "3                7.26  \n",
       "4                 NaN  \n",
       "\n",
       "[5 rows x 21 columns]"
      ]
     },
     "execution_count": 43,
     "metadata": {},
     "output_type": "execute_result"
    }
   ],
   "source": [
    "lab_description.head()"
   ]
  },
  {
   "cell_type": "code",
   "execution_count": 44,
   "id": "315f2e4e",
   "metadata": {},
   "outputs": [],
   "source": [
    "cohort_icu_labs = cohort.merge(lab_description, on='hadm_id')"
   ]
  },
  {
   "cell_type": "code",
   "execution_count": 45,
   "id": "0d93db63",
   "metadata": {},
   "outputs": [
    {
     "data": {
      "text/plain": [
       "(12062, 39)"
      ]
     },
     "execution_count": 45,
     "metadata": {},
     "output_type": "execute_result"
    }
   ],
   "source": [
    "cohort_icu_labs.shape"
   ]
  },
  {
   "cell_type": "markdown",
   "id": "b4cb139d",
   "metadata": {},
   "source": [
    "#### SOFA Score\n",
    "Select SOFA closest to icu admission."
   ]
  },
  {
   "cell_type": "code",
   "execution_count": 46,
   "id": "19b670a8",
   "metadata": {},
   "outputs": [],
   "source": [
    "cohort_sid = cohort_icu_labs['stay_id'].unique()"
   ]
  },
  {
   "cell_type": "code",
   "execution_count": 47,
   "id": "3aaabfad",
   "metadata": {},
   "outputs": [],
   "source": [
    "# Query SOFA scores for the selected stays.\n",
    "sofa = run_query(\n",
    "    f\"\"\"SELECT stay_id, hr, starttime, endtime, sofa_24hours\n",
    "    FROM `physionet-data.mimiciv_derived.sofa` WHERE stay_id IN {str(tuple(cohort_sid))}\"\"\"\n",
    ")"
   ]
  },
  {
   "cell_type": "code",
   "execution_count": 48,
   "id": "7c5f1f41",
   "metadata": {},
   "outputs": [
    {
     "data": {
      "text/plain": [
       "(1307703, 5)"
      ]
     },
     "execution_count": 48,
     "metadata": {},
     "output_type": "execute_result"
    }
   ],
   "source": [
    "sofa.shape"
   ]
  },
  {
   "cell_type": "code",
   "execution_count": 49,
   "id": "d58d6a88",
   "metadata": {},
   "outputs": [],
   "source": [
    "sofa_48 = sofa[sofa['hr'] <= 48]"
   ]
  },
  {
   "cell_type": "code",
   "execution_count": 50,
   "id": "78556d71",
   "metadata": {},
   "outputs": [],
   "source": [
    "sofa_48_min = dict(sofa_48.groupby(by='stay_id')['hr'].min())"
   ]
  },
  {
   "cell_type": "code",
   "execution_count": 51,
   "id": "df91378f",
   "metadata": {},
   "outputs": [],
   "source": [
    "sofa['min_hour'] = sofa['stay_id'].map(sofa_48_min)"
   ]
  },
  {
   "cell_type": "code",
   "execution_count": 52,
   "id": "acd02e45",
   "metadata": {},
   "outputs": [
    {
     "data": {
      "text/plain": [
       "(12062, 6)"
      ]
     },
     "execution_count": 52,
     "metadata": {},
     "output_type": "execute_result"
    }
   ],
   "source": [
    "sofa = sofa[sofa['min_hour'] == sofa['hr']]\n",
    "sofa.shape"
   ]
  },
  {
   "cell_type": "code",
   "execution_count": 53,
   "id": "0ad51d76",
   "metadata": {},
   "outputs": [
    {
     "data": {
      "text/plain": [
       "(12062, 44)"
      ]
     },
     "execution_count": 53,
     "metadata": {},
     "output_type": "execute_result"
    }
   ],
   "source": [
    "cohort_sofa = cohort_icu_labs.merge(sofa, on='stay_id', how='left')\n",
    "cohort_sofa.shape"
   ]
  },
  {
   "cell_type": "markdown",
   "id": "8b3dc6d7",
   "metadata": {},
   "source": [
    "#### Antibiotics"
   ]
  },
  {
   "cell_type": "code",
   "execution_count": 54,
   "id": "34d1f9e7",
   "metadata": {},
   "outputs": [],
   "source": [
    "## Use lowercase first\n",
    "# modify quesry to with % % "
   ]
  },
  {
   "cell_type": "code",
   "execution_count": 55,
   "id": "1cc9779d",
   "metadata": {},
   "outputs": [
    {
     "data": {
      "text/plain": [
       "(17361, 4)"
      ]
     },
     "execution_count": 55,
     "metadata": {},
     "output_type": "execute_result"
    }
   ],
   "source": [
    "antib = run_query(\n",
    "    f\"\"\"\n",
    "    SELECT a.stay_id, a.starttime, a.route, a.antibiotic FROM `physionet-data.mimiciv_derived.antibiotic` AS a\n",
    "    where (lower(a.antibiotic) like \"vancomycin\" or a.antibiotic like \n",
    "    \"Gentamicin\" or a.antibiotic like \"vancocin\" \n",
    "    or a.antibiotic like \"Gentamicin (Bulk)\" or a.antibiotic like 'NEO*IV*Gentamicin' \n",
    "    or a.antibiotic like 'NEO*IV*Vancomycin' or a.antibiotic like 'Gentamicin Sulfate') AND\n",
    "    a.stay_id IN {str(tuple(cohort_sid))}\n",
    "    \"\"\"\n",
    ")\n",
    "antib.shape"
   ]
  },
  {
   "cell_type": "code",
   "execution_count": 56,
   "id": "9c36fe2d",
   "metadata": {},
   "outputs": [],
   "source": [
    "antib['antibiotic'] = 1"
   ]
  },
  {
   "cell_type": "code",
   "execution_count": 57,
   "id": "845b99cb",
   "metadata": {},
   "outputs": [
    {
     "data": {
      "text/plain": [
       "(12062, 45)"
      ]
     },
     "execution_count": 57,
     "metadata": {},
     "output_type": "execute_result"
    }
   ],
   "source": [
    "cohort_stay_intime = cohort_sofa[['stay_id', 'intime']].drop_duplicates()\n",
    "antib['starttime'] = pd.to_datetime(antib['starttime'])\n",
    "antib = antib.dropna(subset='stay_id')\n",
    "antib_intime_stayid = cohort_stay_intime.merge(antib, on='stay_id')\n",
    "antib_intime_stayid['delta_days'] = (antib_intime_stayid['starttime'] - antib_intime_stayid['intime']) / np.timedelta64(1, 'D')\n",
    "antib_intime_stayid_48 = antib_intime_stayid[antib_intime_stayid['delta_days'] <= 2]\n",
    "antib_intime_stayid_48 = antib_intime_stayid_48.drop_duplicates(subset=['stay_id'])\n",
    "antib_intime_stayid_48 = antib_intime_stayid_48[['stay_id', 'antibiotic']]\n",
    "cohort_antib = cohort_sofa.merge(antib_intime_stayid_48, on='stay_id', how='left')\n",
    "cohort_antib['antibiotic'].fillna(0, inplace=True)\n",
    "cohort_antib.shape"
   ]
  },
  {
   "cell_type": "code",
   "execution_count": 58,
   "id": "de0d9d2b",
   "metadata": {},
   "outputs": [
    {
     "data": {
      "text/plain": [
       "0.0    7050\n",
       "1.0    5012\n",
       "Name: antibiotic, dtype: int64"
      ]
     },
     "execution_count": 58,
     "metadata": {},
     "output_type": "execute_result"
    }
   ],
   "source": [
    "cohort_antib['antibiotic'].value_counts()"
   ]
  },
  {
   "cell_type": "markdown",
   "id": "0efae40e",
   "metadata": {},
   "source": [
    "#### Sepsis"
   ]
  },
  {
   "cell_type": "code",
   "execution_count": 59,
   "id": "3858461c",
   "metadata": {},
   "outputs": [
    {
     "data": {
      "text/plain": [
       "(7258, 2)"
      ]
     },
     "execution_count": 59,
     "metadata": {},
     "output_type": "execute_result"
    }
   ],
   "source": [
    "sepsis = run_query(\n",
    "    f\"\"\"\n",
    "    SELECT stay_id, sepsis3 FROM `physionet-data.mimiciv_derived.sepsis3` WHERE\n",
    "    stay_id IN {str(tuple(cohort_sid))}\n",
    "    \"\"\"\n",
    ")\n",
    "sepsis.shape"
   ]
  },
  {
   "cell_type": "code",
   "execution_count": 60,
   "id": "974bc4e9",
   "metadata": {},
   "outputs": [
    {
     "data": {
      "text/plain": [
       "(7258, 2)"
      ]
     },
     "execution_count": 60,
     "metadata": {},
     "output_type": "execute_result"
    }
   ],
   "source": [
    "sepsis.drop_duplicates(inplace=True)\n",
    "sepsis.shape"
   ]
  },
  {
   "cell_type": "code",
   "execution_count": 61,
   "id": "a33840c5",
   "metadata": {},
   "outputs": [
    {
     "data": {
      "text/plain": [
       "(12062, 46)"
      ]
     },
     "execution_count": 61,
     "metadata": {},
     "output_type": "execute_result"
    }
   ],
   "source": [
    "cohort_sepsis = cohort_antib.merge(sepsis, on='stay_id', how='left')\n",
    "cohort_sepsis['sepsis3'].value_counts(dropna=False)\n",
    "cohort_sepsis['sepsis3'].fillna(False, inplace=True)\n",
    "cohort_sepsis.shape"
   ]
  },
  {
   "cell_type": "markdown",
   "id": "77016946",
   "metadata": {},
   "source": [
    "#### Vitals\n",
    "- Heart Rate\n",
    "- MBP\n",
    "- MBP_NI\n",
    "- Resp Rate\n",
    "- SPo2"
   ]
  },
  {
   "cell_type": "code",
   "execution_count": 62,
   "id": "d2c6978d",
   "metadata": {},
   "outputs": [],
   "source": [
    "# Query requested vitals attributes for the cohort.\n",
    "cohort_sids = cohort_sepsis['stay_id'].unique()\n",
    "vitals = run_query(\n",
    "    f\"\"\"\n",
    "    SELECT stay_id, charttime, heart_rate, mbp, mbp_ni, resp_rate, spo2\n",
    "    FROM `physionet-data.mimiciv_derived.vitalsign` WHERE stay_id IN \n",
    "    {str(tuple(cohort_sids))}\n",
    "    \"\"\"\n",
    ")"
   ]
  },
  {
   "cell_type": "code",
   "execution_count": 63,
   "id": "83287548",
   "metadata": {},
   "outputs": [],
   "source": [
    "# Get min and max vitals.\n",
    "agg_cols = ['heart_rate', 'mbp', 'mbp_ni', 'resp_rate', 'spo2']\n",
    "vitals_min = vitals.groupby('stay_id')[agg_cols].min().reset_index()\n",
    "vitals_min.rename(dict(zip(agg_cols, ['min_' + x for x in agg_cols])), axis=1, inplace=True)\n",
    "vitals_max = vitals.groupby('stay_id')[agg_cols].max().reset_index()\n",
    "vitals_max.rename(dict(zip(agg_cols, ['max_' + x for x in agg_cols])), axis=1, inplace=True)"
   ]
  },
  {
   "cell_type": "code",
   "execution_count": 64,
   "id": "bee6357e",
   "metadata": {},
   "outputs": [],
   "source": [
    "cohort_vitals = cohort_sepsis.merge(vitals_min, on='stay_id', how='left')\n",
    "cohort_vitals = cohort_vitals.merge(vitals_max, on='stay_id', how='left')"
   ]
  },
  {
   "cell_type": "code",
   "execution_count": 65,
   "id": "22b858a0",
   "metadata": {},
   "outputs": [
    {
     "data": {
      "text/plain": [
       "(12062, 56)"
      ]
     },
     "execution_count": 65,
     "metadata": {},
     "output_type": "execute_result"
    }
   ],
   "source": [
    "cohort_vitals.shape"
   ]
  },
  {
   "cell_type": "markdown",
   "id": "11deb16a",
   "metadata": {},
   "source": [
    "#### Comorbdities\n",
    "- CKD\n",
    "- Hypotension\n",
    "- Heart Failure\n",
    "- Diabetes"
   ]
  },
  {
   "cell_type": "code",
   "execution_count": 66,
   "id": "26b49c1a",
   "metadata": {},
   "outputs": [
    {
     "data": {
      "text/plain": [
       "(237052, 5)"
      ]
     },
     "execution_count": 66,
     "metadata": {},
     "output_type": "execute_result"
    }
   ],
   "source": [
    "# Query all icd codes for our cohort.\n",
    "cohort_enc = cohort_vitals['hadm_id'].unique()\n",
    "icdcodes = run_query(\n",
    "    f\"\"\"\n",
    "    SELECT * FROM `physionet-data.mimiciv_hosp.diagnoses_icd` WHERE \n",
    "    hadm_id IN {str(tuple(cohort_enc))}\n",
    "    \"\"\"\n",
    ")\n",
    "icdcodes.shape"
   ]
  },
  {
   "cell_type": "code",
   "execution_count": 67,
   "id": "fcf21a82",
   "metadata": {},
   "outputs": [],
   "source": [
    "\"\"\"\n",
    "Functions for calculating comorbidities based on ICD9/10 codes.\n",
    "\"\"\"\n",
    "def is_DM(row):\n",
    "    \n",
    "    if row.icd_version== 9:\n",
    "        if row.icd_code == 7751:\n",
    "            return 1 \n",
    "        if pd.to_numeric(row.icd_code, errors= \"coerce\") >= 25000 and pd.to_numeric(row.icd_code, errors= \"coerce\") <= 25033:\n",
    "            return 1      \n",
    "        if pd.to_numeric(row.icd_code, errors= \"coerce\") >= 64800 and pd.to_numeric(row.icd_code, errors= \"coerce\") <= 64804:\n",
    "            return 1\n",
    "        if pd.to_numeric(row.icd_code, errors= \"coerce\") >= 24900 and pd.to_numeric(row.icd_code, errors= \"coerce\") <= 24931:\n",
    "            return 1      \n",
    "        if pd.to_numeric(row.icd_code, errors= \"coerce\") >= 25040 and pd.to_numeric(row.icd_code, errors= \"coerce\") <= 25093:\n",
    "            return 1\n",
    "        if pd.to_numeric(row.icd_code, errors= \"coerce\") >= 24940 and pd.to_numeric(row.icd_code, errors= \"coerce\") <= 24991:\n",
    "            return 1\n",
    "        else:\n",
    "            return 0 \n",
    "        \n",
    "    if row.icd_version== 10:       \n",
    "        if row.icd_code.startswith('E08') or row.icd_code.startswith('E09') or row.icd_code.startswith('E10') or row.icd_code.startswith('E11') or row.icd_code.startswith('E12') or row.icd_code.startswith('E13'):\n",
    "            return 1      \n",
    "        else:\n",
    "            return 0\n",
    "\n",
    "def is_HF(row): #heart failure\n",
    "    if row.icd_version== 9:\n",
    "        if pd.to_numeric(row.icd_code, errors= \"coerce\") == 4280 or pd.to_numeric(row.icd_code, errors= \"coerce\") == 4281 or pd.to_numeric(row.icd_code, errors= \"coerce\") == 4289 or pd.to_numeric(row.icd_code, errors= \"coerce\")==39891:\n",
    "            return 1      \n",
    "        if pd.to_numeric(row.icd_code, errors= \"coerce\") >= 42820 and pd.to_numeric(row.icd_code, errors= \"coerce\") <= 42823:\n",
    "            return 1\n",
    "        if pd.to_numeric(row.icd_code, errors= \"coerce\") >= 42830 and pd.to_numeric(row.icd_code, errors= \"coerce\") <= 42832:\n",
    "            return 1      \n",
    "        if pd.to_numeric(row.icd_code, errors= \"coerce\") >= 42840 and pd.to_numeric(row.icd_code, errors= \"coerce\") <= 42843:\n",
    "            return 1\n",
    "        else:\n",
    "            return 0 \n",
    "        \n",
    "    if row.icd_version== 10:\n",
    "        if row.icd_code.startswith('I13') or row.icd_code.startswith('I11') or row.icd_code.startswith('I25') or row.icd_code.startswith('I46') or row.icd_code.startswith('I50') or row.icd_code.startswith('I42') or row.icd_code.startswith('I43')  or row.icd_code.startswith('I44'):\n",
    "            return 1      \n",
    "        else:\n",
    "            return 0\n",
    "\n",
    "# Hypertension -icd 9 and 10 \n",
    "def is_Hypert(row): \n",
    "    \n",
    "    l=[4010,4011,4019,4372,40200,40210,40290,40509,40519,40201,40211,40291,40310,40300,40390,40501,40511,\n",
    "       40591,40301,40311,40391,40400,40410,40490,40401,40411,40491,40402,40412,40492,40403,40413,40493]\n",
    "    \n",
    "    if row.icd_version== 9:\n",
    "\n",
    "        if pd.to_numeric(row.icd_code, errors= \"coerce\") in l:\n",
    "            return 1      \n",
    "        if pd.to_numeric(row.icd_code, errors= \"coerce\") >= 64200 and pd.to_numeric(row.icd_code, errors= \"coerce\") <= 64204:\n",
    "            return 1\n",
    "        if pd.to_numeric(row.icd_code, errors= \"coerce\") >= 64220 and pd.to_numeric(row.icd_code, errors= \"coerce\") <= 64224:\n",
    "            return 1      \n",
    "        if pd.to_numeric(row.icd_code, errors= \"coerce\") >= 64210 and pd.to_numeric(row.icd_code, errors= \"coerce\") <= 64214:\n",
    "            return 1\n",
    "        if pd.to_numeric(row.icd_code, errors= \"coerce\") >= 64270 and pd.to_numeric(row.icd_code, errors= \"coerce\") <= 64274:\n",
    "            return 1   \n",
    "        if pd.to_numeric(row.icd_code, errors= \"coerce\") >= 64290 and pd.to_numeric(row.icd_code, errors= \"coerce\") <= 64294:\n",
    "            return 1   \n",
    "        else:\n",
    "            return 0 \n",
    "        \n",
    "    if row.icd_version== 10:\n",
    "        if row.icd_code.startswith('I10') or row.icd_code.startswith('I15') or row.icd_code.startswith('I16'):\n",
    "            return 1      \n",
    "        else:\n",
    "            return 0\n",
    "\n",
    "def is_CKD(row):\n",
    "    if row.icd_version== 9:\n",
    "        \n",
    "        if pd.to_numeric(row.icd_code, errors= \"coerce\") >= 5851 and pd.to_numeric(row.icd_code, errors= \"coerce\") <= 5856:\n",
    "            return 1     \n",
    "        if pd.to_numeric(row.icd_code, errors= \"coerce\") == 5859:\n",
    "            return 1   \n",
    "        else:\n",
    "            return 0 \n",
    "        \n",
    "    if row.icd_version== 10:\n",
    "        if row.icd_code.startswith('I12') or row.icd_code.startswith('I12') or row.icd_code.startswith('N01') or row.icd_code.startswith('N02') or row.icd_code.startswith('N03') or row.icd_code.startswith('N04') or row.icd_code.startswith('N05') or row.icd_code.startswith('N06') or row.icd_code.startswith('N07') or row.icd_code.startswith('N08') or row.icd_code.startswith('N11') or row.icd_code.startswith('N13')     or row.icd_code.startswith('N14') or row.icd_code.startswith('N15') or row.icd_code.startswith('N18') or row.icd_code.startswith('N19') or row.icd_code.startswith('N25') or row.icd_code.startswith('N26') or row.icd_code.startswith('N27') or row.icd_code.startswith('N28') or row.icd_code.startswith('N29'):\n",
    "            return 1      \n",
    "        else:\n",
    "            return 0  "
   ]
  },
  {
   "cell_type": "code",
   "execution_count": 68,
   "id": "097cd548",
   "metadata": {},
   "outputs": [],
   "source": [
    "# Calculate binary labels on icd codes.\n",
    "icdcodes['dm'] = icdcodes.apply(is_DM, axis=1)\n",
    "icdcodes['heartfailure'] = icdcodes.apply(is_HF, axis=1)\n",
    "icdcodes['hypertension'] = icdcodes.apply(is_Hypert, axis=1)\n",
    "icdcodes['ckd'] = icdcodes.apply(is_CKD, axis=1)"
   ]
  },
  {
   "cell_type": "code",
   "execution_count": 69,
   "id": "f240855b",
   "metadata": {},
   "outputs": [],
   "source": [
    "# Get one value for every stay ID.\n",
    "ckd   = icdcodes.groupby('hadm_id')['ckd'].max().reset_index()\n",
    "dm    = icdcodes.groupby('hadm_id')['dm'].max().reset_index()\n",
    "hyper = icdcodes.groupby('hadm_id')['hypertension'].max().reset_index()\n",
    "hf    = icdcodes.groupby('hadm_id')['heartfailure'].max().reset_index()"
   ]
  },
  {
   "cell_type": "code",
   "execution_count": 70,
   "id": "5e39a8a4",
   "metadata": {},
   "outputs": [],
   "source": [
    "# Construct comorbdities dataframe.\n",
    "comorbidities = ckd.merge(dm, on='hadm_id', how='left')\n",
    "comorbidities = comorbidities.merge(hyper, on='hadm_id', how='left')\n",
    "comorbidities = comorbidities.merge(hf, on='hadm_id', how='left')\n",
    "comorbidities = comorbidities.fillna(0)"
   ]
  },
  {
   "cell_type": "code",
   "execution_count": 71,
   "id": "0c24f84b",
   "metadata": {},
   "outputs": [],
   "source": [
    "cohort_covariates = cohort_vitals.merge(comorbidities, on='hadm_id', how='left')"
   ]
  },
  {
   "cell_type": "markdown",
   "id": "db90d660",
   "metadata": {},
   "source": [
    "## Merge with CRRT Labels\n",
    "Criteria - Only consider patients that recieved CRRT after the first 12 hours and before the first 5 days of their ICU stay "
   ]
  },
  {
   "cell_type": "code",
   "execution_count": 72,
   "id": "97dbd194",
   "metadata": {},
   "outputs": [],
   "source": [
    "cohort_sid = cohort_covariates['stay_id'].unique()"
   ]
  },
  {
   "cell_type": "code",
   "execution_count": 73,
   "id": "bd6dbf38",
   "metadata": {},
   "outputs": [
    {
     "data": {
      "text/plain": [
       "(110498, 24)"
      ]
     },
     "execution_count": 73,
     "metadata": {},
     "output_type": "execute_result"
    }
   ],
   "source": [
    "crrt = run_query(\n",
    "    f\"\"\"\n",
    "    SELECT * FROM `physionet-data.mimiciv_derived.crrt` \n",
    "    WHERE stay_id IN {str(tuple(cohort_sid))}\n",
    "    \"\"\"\n",
    ")\n",
    "crrt.shape"
   ]
  },
  {
   "cell_type": "code",
   "execution_count": 74,
   "id": "751cd1a2",
   "metadata": {},
   "outputs": [],
   "source": [
    "cohort_ts = cohort_covariates[['stay_id', 'intime']].drop_duplicates()"
   ]
  },
  {
   "cell_type": "code",
   "execution_count": 75,
   "id": "c87f3d16",
   "metadata": {},
   "outputs": [
    {
     "data": {
      "text/plain": [
       "(913, 26)"
      ]
     },
     "execution_count": 75,
     "metadata": {},
     "output_type": "execute_result"
    }
   ],
   "source": [
    "crrt['charttime'] = pd.to_datetime(crrt['charttime'])\n",
    "crrt_icu = crrt.merge(cohort_ts, on='stay_id')\n",
    "crrt_icu['time_delta'] = (crrt_icu['charttime'] - crrt_icu['intime']) / np.timedelta64(1, 'h')\n",
    "crrt_icu = crrt_icu[crrt_icu['charttime'] > crrt_icu['intime']].reset_index(drop=True)\n",
    "min_crrt = crrt_icu.groupby('stay_id')['charttime'].min().reset_index()\n",
    "crrt_min = crrt_icu.merge(min_crrt)\n",
    "crrt_min.shape"
   ]
  },
  {
   "cell_type": "code",
   "execution_count": 76,
   "id": "6f549cb1",
   "metadata": {},
   "outputs": [
    {
     "data": {
      "text/plain": [
       "Text(0.5, 1.0, 'CRRT Incidence Distribution')"
      ]
     },
     "execution_count": 76,
     "metadata": {},
     "output_type": "execute_result"
    },
    {
     "data": {
      "image/png": "[encoded data removed]",
      "text/plain": [
       "<Figure size 432x288 with 1 Axes>"
      ]
     },
     "metadata": {
      "needs_background": "light"
     },
     "output_type": "display_data"
    }
   ],
   "source": [
    "b= np.linspace(0, 180, 100)\n",
    "plt.hist(crrt_min['time_delta'], bins=b)\n",
    "plt.xlabel('Hours')\n",
    "plt.ylabel('Number of Patients with CRRT')\n",
    "plt.title('CRRT Incidence Distribution')"
   ]
  },
  {
   "cell_type": "code",
   "execution_count": 77,
   "id": "0ec138a8",
   "metadata": {},
   "outputs": [
    {
     "data": {
      "text/plain": [
       "(456, 26)"
      ]
     },
     "execution_count": 77,
     "metadata": {},
     "output_type": "execute_result"
    }
   ],
   "source": [
    "# Keep patients [0.5 days to 5 day window]\n",
    "crrt_filt = crrt_min[(crrt_min['time_delta'] >= 24) &  (crrt_min['time_delta'] <= 144)].reset_index(drop=True)\n",
    "crrt_filt.shape"
   ]
  },
  {
   "cell_type": "code",
   "execution_count": 78,
   "id": "17067de8",
   "metadata": {},
   "outputs": [],
   "source": [
    "# Merge with CRRT Labels\n",
    "crrt_filt['crrt'] = 1\n",
    "crrt_filt = crrt_filt[['stay_id', 'crrt', 'time_delta']].drop_duplicates()\n",
    "cohort_final = cohort_covariates.merge(crrt_filt, on='stay_id', how='left')\n",
    "cohort_final['crrt'].fillna(0, inplace=True)"
   ]
  },
  {
   "cell_type": "markdown",
   "id": "6ed9fa9f",
   "metadata": {},
   "source": [
    "#### Merge with Demographics"
   ]
  },
  {
   "cell_type": "code",
   "execution_count": 79,
   "id": "527e7723",
   "metadata": {},
   "outputs": [],
   "source": [
    "cohort_pats = cohort_final['subject_id'].unique()\n",
    "demo = run_query(\n",
    "    f\"\"\"\n",
    "        SELECT * from `physionet-data.mimiciv_hosp.patients` \n",
    "        WHERE subject_id IN {str(tuple(cohort_pats))}\n",
    "    \"\"\"\n",
    ")\n",
    "# Some demographic data is stored in admissions.\n",
    "admissions = run_query(\n",
    "    f\"\"\"\n",
    "        SELECT * from `physionet-data.mimiciv_hosp.admissions` \n",
    "        WHERE subject_id IN {str(tuple(cohort_pats))}\n",
    "    \"\"\"\n",
    ")"
   ]
  },
  {
   "cell_type": "code",
   "execution_count": 80,
   "id": "19a3d453",
   "metadata": {},
   "outputs": [],
   "source": [
    "cohort_final = cohort_final.merge(demo, on='subject_id')\n",
    "cohort_final = cohort_final.merge(admissions, on=['subject_id', 'hadm_id'])"
   ]
  },
  {
   "cell_type": "code",
   "execution_count": 81,
   "id": "93b2f4e4",
   "metadata": {},
   "outputs": [],
   "source": [
    "# Cluster Races\n",
    "targets = ['WHITE', 'BLACK', 'ASIAN', 'HISPANIC', 'OTHER']\n",
    "for group in cohort_final['race'].unique():\n",
    "    if 'WHITE' in group:\n",
    "        cohort_final['race'] = cohort_final['race'].replace(group, 'WHITE')\n",
    "    elif 'BLACK' in group:\n",
    "        cohort_final['race'] = cohort_final['race'].replace(group, 'BLACK')\n",
    "    elif 'ASIAN' in group:\n",
    "        cohort_final['race'] = cohort_final['race'].replace(group, 'ASIAN')\n",
    "    elif 'HISPANIC' in group:\n",
    "        cohort_final['race'] = cohort_final['race'].replace(group, 'HISPANIC')\n",
    "    elif 'UNKNOWN' in group:\n",
    "        continue\n",
    "    else:\n",
    "        cohort_final['race'] = cohort_final['race'].replace(group, 'OTHER')\n",
    "        "
   ]
  },
  {
   "cell_type": "code",
   "execution_count": 82,
   "id": "e209ac03",
   "metadata": {},
   "outputs": [
    {
     "data": {
      "text/plain": [
       "WHITE       8127\n",
       "UNKNOWN     1507\n",
       "BLACK       1095\n",
       "OTHER        726\n",
       "HISPANIC     349\n",
       "ASIAN        258\n",
       "Name: race, dtype: int64"
      ]
     },
     "execution_count": 82,
     "metadata": {},
     "output_type": "execute_result"
    }
   ],
   "source": [
    "cohort_final['race'].value_counts()"
   ]
  },
  {
   "cell_type": "code",
   "execution_count": 83,
   "id": "9ea9cc61",
   "metadata": {},
   "outputs": [
    {
     "data": {
      "text/plain": [
       "(12062, 81)"
      ]
     },
     "execution_count": 83,
     "metadata": {},
     "output_type": "execute_result"
    }
   ],
   "source": [
    "cohort_final.shape"
   ]
  },
  {
   "cell_type": "code",
   "execution_count": 84,
   "id": "008b03de",
   "metadata": {},
   "outputs": [],
   "source": [
    "cohort_final.to_csv('final_crrt_cohort.csv', index=False)"
   ]
  },
  {
   "cell_type": "markdown",
   "id": "cb263284",
   "metadata": {},
   "source": [
    "## Table 1"
   ]
  },
  {
   "cell_type": "code",
   "execution_count": 85,
   "id": "5717db20",
   "metadata": {},
   "outputs": [
    {
     "name": "stderr",
     "output_type": "stream",
     "text": [
      "/home/jupyter-zaiman/.local/lib/python3.9/site-packages/tableone/tableone.py:991: FutureWarning: Using the level keyword in DataFrame and Series aggregations is deprecated and will be removed in a future version. Use groupby instead. df.sum(level=1) should use df.groupby(level=1).sum().\n",
      "  df['percent'] = df['freq'].div(df.freq.sum(level=0),\n",
      "/home/jupyter-zaiman/.local/lib/python3.9/site-packages/tableone/tableone.py:991: FutureWarning: Using the level keyword in DataFrame and Series aggregations is deprecated and will be removed in a future version. Use groupby instead. df.sum(level=1) should use df.groupby(level=1).sum().\n",
      "  df['percent'] = df['freq'].div(df.freq.sum(level=0),\n",
      "/home/jupyter-zaiman/.local/lib/python3.9/site-packages/tableone/tableone.py:991: FutureWarning: Using the level keyword in DataFrame and Series aggregations is deprecated and will be removed in a future version. Use groupby instead. df.sum(level=1) should use df.groupby(level=1).sum().\n",
      "  df['percent'] = df['freq'].div(df.freq.sum(level=0),\n"
     ]
    }
   ],
   "source": [
    "columns_all = ['first_careunit', 'creat_low_past_48hr', 'aki_stage', 'race','min_heart_rate',\n",
    " 'min_mbp',\n",
    " 'min_mbp_ni',\n",
    " 'min_resp_rate',\n",
    " 'min_spo2',\n",
    " 'max_heart_rate',\n",
    " 'max_mbp',\n",
    " 'max_mbp_ni',\n",
    " 'max_resp_rate',\n",
    " 'max_spo2',\n",
    " 'ckd',\n",
    " 'dm',\n",
    " 'hypertension',\n",
    " 'heartfailure',\n",
    "'nanmin_valuenum_Albumin',\n",
    " 'nanmin_valuenum_Bicarbonate',\n",
    " 'nanmin_valuenum_Calculated Bicarbonate, Whole Blood',\n",
    " 'nanmin_valuenum_Creatinine',\n",
    " 'nanmin_valuenum_Hematocrit',\n",
    " 'nanmin_valuenum_Hematocrit, Calculated',\n",
    " 'nanmin_valuenum_Potassium',\n",
    " 'nanmin_valuenum_Potassium, Whole Blood',\n",
    " 'nanmin_valuenum_Urea Nitrogen',\n",
    " 'nanmin_valuenum_pH',\n",
    " 'nanmax_valuenum_Albumin',\n",
    " 'nanmax_valuenum_Bicarbonate',\n",
    " 'nanmax_valuenum_Calculated Bicarbonate, Whole Blood',\n",
    " 'nanmax_valuenum_Creatinine',\n",
    " 'nanmax_valuenum_Hematocrit',\n",
    " 'nanmax_valuenum_Hematocrit, Calculated',\n",
    " 'nanmax_valuenum_Potassium',\n",
    " 'nanmax_valuenum_Potassium, Whole Blood',\n",
    " 'nanmax_valuenum_Urea Nitrogen',\n",
    " 'nanmax_valuenum_pH',\n",
    " 'sepsis3',\n",
    " 'sofa_24hours',\n",
    " 'antibiotic',\n",
    " 'gender']\n",
    "\n",
    "numerical_all =[\n",
    "    'creat_low_past_48hr',\n",
    "    'min_heart_rate',\n",
    "    'min_mbp',\n",
    " 'min_mbp_ni',\n",
    " 'min_resp_rate',\n",
    " 'min_spo2',\n",
    " 'max_heart_rate',\n",
    " 'max_mbp',\n",
    " 'max_mbp_ni',\n",
    " 'max_resp_rate',\n",
    " 'max_spo2','nanmin_valuenum_Albumin',\n",
    " 'nanmin_valuenum_Bicarbonate',\n",
    " 'nanmin_valuenum_Calculated Bicarbonate, Whole Blood',\n",
    " 'nanmin_valuenum_Creatinine',\n",
    " 'nanmin_valuenum_Hematocrit',\n",
    " 'nanmin_valuenum_Hematocrit, Calculated',\n",
    " 'nanmin_valuenum_Potassium',\n",
    " 'nanmin_valuenum_Potassium, Whole Blood',\n",
    " 'nanmin_valuenum_Urea Nitrogen',\n",
    " 'nanmin_valuenum_pH',\n",
    " 'nanmax_valuenum_Albumin',\n",
    " 'nanmax_valuenum_Bicarbonate',\n",
    " 'nanmax_valuenum_Calculated Bicarbonate, Whole Blood',\n",
    " 'nanmax_valuenum_Creatinine',\n",
    " 'nanmax_valuenum_Hematocrit',\n",
    " 'nanmax_valuenum_Hematocrit, Calculated',\n",
    " 'nanmax_valuenum_Potassium',\n",
    " 'nanmax_valuenum_Potassium, Whole Blood',\n",
    " 'nanmax_valuenum_Urea Nitrogen',\n",
    " 'nanmax_valuenum_pH',\n",
    "        'sofa_24hours',]\n",
    "\n",
    "for col in numerical_all:\n",
    "    cohort_final[col] = cohort_final[col].astype(np.float64)\n",
    "\n",
    "categorical_all = [x for x in columns_all if x not in numerical_all]\n",
    "\n",
    "tab = TableOne(cohort_final, columns=columns_all,categorical=categorical_all, groupby='crrt')"
   ]
  },
  {
   "cell_type": "code",
   "execution_count": 86,
   "id": "23ef4bf9",
   "metadata": {},
   "outputs": [],
   "source": [
    "# Display entire dataframe.\n",
    "pd.set_option('display.max_rows', None)\n",
    "pd.set_option('display.max_columns', None)\n",
    "pd.set_option('display.width', 100)\n",
    "pd.set_option('display.colheader_justify', 'left')\n",
    "pd.set_option('display.precision', 5)"
   ]
  },
  {
   "cell_type": "code",
   "execution_count": 87,
   "id": "7c499b68",
   "metadata": {
    "scrolled": true
   },
   "outputs": [
    {
     "data": {
      "text/html": [
       "<div>\n",
       "<style scoped>\n",
       "    .dataframe tbody tr th:only-of-type {\n",
       "        vertical-align: middle;\n",
       "    }\n",
       "\n",
       "    .dataframe tbody tr th {\n",
       "        vertical-align: top;\n",
       "    }\n",
       "\n",
       "    .dataframe thead tr th {\n",
       "        text-align: left;\n",
       "    }\n",
       "</style>\n",
       "<table border=\"1\" class=\"dataframe\">\n",
       "  <thead>\n",
       "    <tr>\n",
       "      <th></th>\n",
       "      <th></th>\n",
       "      <th colspan=\"4\" halign=\"left\">Grouped by crrt</th>\n",
       "    </tr>\n",
       "    <tr>\n",
       "      <th></th>\n",
       "      <th></th>\n",
       "      <th>Missing</th>\n",
       "      <th>Overall</th>\n",
       "      <th>0.0</th>\n",
       "      <th>1.0</th>\n",
       "    </tr>\n",
       "  </thead>\n",
       "  <tbody>\n",
       "    <tr>\n",
       "      <th>n</th>\n",
       "      <th></th>\n",
       "      <td></td>\n",
       "      <td>12062</td>\n",
       "      <td>11606</td>\n",
       "      <td>456</td>\n",
       "    </tr>\n",
       "    <tr>\n",
       "      <th rowspan=\"9\" valign=\"top\">first_careunit, n (%)</th>\n",
       "      <th>Cardiac Vascular Intensive Care Unit (CVICU)</th>\n",
       "      <td>0</td>\n",
       "      <td>1757 (14.6)</td>\n",
       "      <td>1674 (14.4)</td>\n",
       "      <td>83 (18.2)</td>\n",
       "    </tr>\n",
       "    <tr>\n",
       "      <th>Coronary Care Unit (CCU)</th>\n",
       "      <td></td>\n",
       "      <td>1383 (11.5)</td>\n",
       "      <td>1331 (11.5)</td>\n",
       "      <td>52 (11.4)</td>\n",
       "    </tr>\n",
       "    <tr>\n",
       "      <th>Medical Intensive Care Unit (MICU)</th>\n",
       "      <td></td>\n",
       "      <td>2693 (22.3)</td>\n",
       "      <td>2553 (22.0)</td>\n",
       "      <td>140 (30.7)</td>\n",
       "    </tr>\n",
       "    <tr>\n",
       "      <th>Medical/Surgical Intensive Care Unit (MICU/SICU)</th>\n",
       "      <td></td>\n",
       "      <td>2144 (17.8)</td>\n",
       "      <td>2071 (17.8)</td>\n",
       "      <td>73 (16.0)</td>\n",
       "    </tr>\n",
       "    <tr>\n",
       "      <th>Neuro Intermediate</th>\n",
       "      <td></td>\n",
       "      <td>48 (0.4)</td>\n",
       "      <td>48 (0.4)</td>\n",
       "      <td></td>\n",
       "    </tr>\n",
       "    <tr>\n",
       "      <th>Neuro Stepdown</th>\n",
       "      <td></td>\n",
       "      <td>30 (0.2)</td>\n",
       "      <td>30 (0.3)</td>\n",
       "      <td></td>\n",
       "    </tr>\n",
       "    <tr>\n",
       "      <th>Neuro Surgical Intensive Care Unit (Neuro SICU)</th>\n",
       "      <td></td>\n",
       "      <td>250 (2.1)</td>\n",
       "      <td>246 (2.1)</td>\n",
       "      <td>4 (0.9)</td>\n",
       "    </tr>\n",
       "    <tr>\n",
       "      <th>Surgical Intensive Care Unit (SICU)</th>\n",
       "      <td></td>\n",
       "      <td>1900 (15.8)</td>\n",
       "      <td>1836 (15.8)</td>\n",
       "      <td>64 (14.0)</td>\n",
       "    </tr>\n",
       "    <tr>\n",
       "      <th>Trauma SICU (TSICU)</th>\n",
       "      <td></td>\n",
       "      <td>1857 (15.4)</td>\n",
       "      <td>1817 (15.7)</td>\n",
       "      <td>40 (8.8)</td>\n",
       "    </tr>\n",
       "    <tr>\n",
       "      <th>creat_low_past_48hr, mean (SD)</th>\n",
       "      <th></th>\n",
       "      <td>9007</td>\n",
       "      <td>1.9 (2.2)</td>\n",
       "      <td>1.9 (2.2)</td>\n",
       "      <td>2.8 (2.2)</td>\n",
       "    </tr>\n",
       "    <tr>\n",
       "      <th rowspan=\"3\" valign=\"top\">aki_stage, n (%)</th>\n",
       "      <th>1</th>\n",
       "      <td>0</td>\n",
       "      <td>5401 (44.8)</td>\n",
       "      <td>5275 (45.5)</td>\n",
       "      <td>126 (27.6)</td>\n",
       "    </tr>\n",
       "    <tr>\n",
       "      <th>2</th>\n",
       "      <td></td>\n",
       "      <td>5790 (48.0)</td>\n",
       "      <td>5553 (47.8)</td>\n",
       "      <td>237 (52.0)</td>\n",
       "    </tr>\n",
       "    <tr>\n",
       "      <th>3</th>\n",
       "      <td></td>\n",
       "      <td>871 (7.2)</td>\n",
       "      <td>778 (6.7)</td>\n",
       "      <td>93 (20.4)</td>\n",
       "    </tr>\n",
       "    <tr>\n",
       "      <th rowspan=\"6\" valign=\"top\">race, n (%)</th>\n",
       "      <th>ASIAN</th>\n",
       "      <td>0</td>\n",
       "      <td>258 (2.1)</td>\n",
       "      <td>248 (2.1)</td>\n",
       "      <td>10 (2.2)</td>\n",
       "    </tr>\n",
       "    <tr>\n",
       "      <th>BLACK</th>\n",
       "      <td></td>\n",
       "      <td>1095 (9.1)</td>\n",
       "      <td>1052 (9.1)</td>\n",
       "      <td>43 (9.4)</td>\n",
       "    </tr>\n",
       "    <tr>\n",
       "      <th>HISPANIC</th>\n",
       "      <td></td>\n",
       "      <td>349 (2.9)</td>\n",
       "      <td>331 (2.9)</td>\n",
       "      <td>18 (3.9)</td>\n",
       "    </tr>\n",
       "    <tr>\n",
       "      <th>OTHER</th>\n",
       "      <td></td>\n",
       "      <td>726 (6.0)</td>\n",
       "      <td>692 (6.0)</td>\n",
       "      <td>34 (7.5)</td>\n",
       "    </tr>\n",
       "    <tr>\n",
       "      <th>UNKNOWN</th>\n",
       "      <td></td>\n",
       "      <td>1507 (12.5)</td>\n",
       "      <td>1431 (12.3)</td>\n",
       "      <td>76 (16.7)</td>\n",
       "    </tr>\n",
       "    <tr>\n",
       "      <th>WHITE</th>\n",
       "      <td></td>\n",
       "      <td>8127 (67.4)</td>\n",
       "      <td>7852 (67.7)</td>\n",
       "      <td>275 (60.3)</td>\n",
       "    </tr>\n",
       "    <tr>\n",
       "      <th>min_heart_rate, mean (SD)</th>\n",
       "      <th></th>\n",
       "      <td>1</td>\n",
       "      <td>64.9 (15.3)</td>\n",
       "      <td>65.1 (15.2)</td>\n",
       "      <td>59.7 (15.6)</td>\n",
       "    </tr>\n",
       "    <tr>\n",
       "      <th>min_mbp, mean (SD)</th>\n",
       "      <th></th>\n",
       "      <td>2</td>\n",
       "      <td>50.7 (15.7)</td>\n",
       "      <td>51.2 (15.4)</td>\n",
       "      <td>37.7 (16.3)</td>\n",
       "    </tr>\n",
       "    <tr>\n",
       "      <th>min_mbp_ni, mean (SD)</th>\n",
       "      <th></th>\n",
       "      <td>180</td>\n",
       "      <td>55.0 (13.4)</td>\n",
       "      <td>55.2 (13.4)</td>\n",
       "      <td>48.4 (12.6)</td>\n",
       "    </tr>\n",
       "    <tr>\n",
       "      <th>min_resp_rate, mean (SD)</th>\n",
       "      <th></th>\n",
       "      <td>2</td>\n",
       "      <td>10.5 (3.7)</td>\n",
       "      <td>10.6 (3.7)</td>\n",
       "      <td>8.1 (3.5)</td>\n",
       "    </tr>\n",
       "    <tr>\n",
       "      <th>min_spo2, mean (SD)</th>\n",
       "      <th></th>\n",
       "      <td>1</td>\n",
       "      <td>86.4 (12.0)</td>\n",
       "      <td>86.7 (11.7)</td>\n",
       "      <td>79.0 (16.3)</td>\n",
       "    </tr>\n",
       "    <tr>\n",
       "      <th>max_heart_rate, mean (SD)</th>\n",
       "      <th></th>\n",
       "      <td>1</td>\n",
       "      <td>114.4 (24.3)</td>\n",
       "      <td>113.7 (24.0)</td>\n",
       "      <td>131.4 (24.6)</td>\n",
       "    </tr>\n",
       "    <tr>\n",
       "      <th>max_mbp, mean (SD)</th>\n",
       "      <th></th>\n",
       "      <td>2</td>\n",
       "      <td>122.5 (41.0)</td>\n",
       "      <td>121.6 (40.0)</td>\n",
       "      <td>145.6 (57.6)</td>\n",
       "    </tr>\n",
       "    <tr>\n",
       "      <th>max_mbp_ni, mean (SD)</th>\n",
       "      <th></th>\n",
       "      <td>180</td>\n",
       "      <td>107.9 (23.6)</td>\n",
       "      <td>107.9 (23.6)</td>\n",
       "      <td>108.0 (24.8)</td>\n",
       "    </tr>\n",
       "    <tr>\n",
       "      <th>max_resp_rate, mean (SD)</th>\n",
       "      <th></th>\n",
       "      <td>2</td>\n",
       "      <td>32.2 (8.2)</td>\n",
       "      <td>31.9 (8.1)</td>\n",
       "      <td>38.4 (9.1)</td>\n",
       "    </tr>\n",
       "    <tr>\n",
       "      <th>max_spo2, mean (SD)</th>\n",
       "      <th></th>\n",
       "      <td>1</td>\n",
       "      <td>99.7 (1.0)</td>\n",
       "      <td>99.7 (1.0)</td>\n",
       "      <td>100.0 (0.3)</td>\n",
       "    </tr>\n",
       "    <tr>\n",
       "      <th rowspan=\"2\" valign=\"top\">ckd, n (%)</th>\n",
       "      <th>0.0</th>\n",
       "      <td>4</td>\n",
       "      <td>8795 (72.9)</td>\n",
       "      <td>8542 (73.6)</td>\n",
       "      <td>253 (55.5)</td>\n",
       "    </tr>\n",
       "    <tr>\n",
       "      <th>1.0</th>\n",
       "      <td></td>\n",
       "      <td>3263 (27.1)</td>\n",
       "      <td>3060 (26.4)</td>\n",
       "      <td>203 (44.5)</td>\n",
       "    </tr>\n",
       "    <tr>\n",
       "      <th rowspan=\"2\" valign=\"top\">dm, n (%)</th>\n",
       "      <th>0.0</th>\n",
       "      <td>4</td>\n",
       "      <td>7941 (65.9)</td>\n",
       "      <td>7665 (66.1)</td>\n",
       "      <td>276 (60.5)</td>\n",
       "    </tr>\n",
       "    <tr>\n",
       "      <th>1.0</th>\n",
       "      <td></td>\n",
       "      <td>4117 (34.1)</td>\n",
       "      <td>3937 (33.9)</td>\n",
       "      <td>180 (39.5)</td>\n",
       "    </tr>\n",
       "    <tr>\n",
       "      <th rowspan=\"2\" valign=\"top\">hypertension, n (%)</th>\n",
       "      <th>0.0</th>\n",
       "      <td>4</td>\n",
       "      <td>5287 (43.8)</td>\n",
       "      <td>5072 (43.7)</td>\n",
       "      <td>215 (47.1)</td>\n",
       "    </tr>\n",
       "    <tr>\n",
       "      <th>1.0</th>\n",
       "      <td></td>\n",
       "      <td>6771 (56.2)</td>\n",
       "      <td>6530 (56.3)</td>\n",
       "      <td>241 (52.9)</td>\n",
       "    </tr>\n",
       "    <tr>\n",
       "      <th rowspan=\"2\" valign=\"top\">heartfailure, n (%)</th>\n",
       "      <th>0.0</th>\n",
       "      <td>4</td>\n",
       "      <td>7405 (61.4)</td>\n",
       "      <td>7166 (61.8)</td>\n",
       "      <td>239 (52.4)</td>\n",
       "    </tr>\n",
       "    <tr>\n",
       "      <th>1.0</th>\n",
       "      <td></td>\n",
       "      <td>4653 (38.6)</td>\n",
       "      <td>4436 (38.2)</td>\n",
       "      <td>217 (47.6)</td>\n",
       "    </tr>\n",
       "    <tr>\n",
       "      <th>nanmin_valuenum_Albumin, mean (SD)</th>\n",
       "      <th></th>\n",
       "      <td>4275</td>\n",
       "      <td>2.8 (0.7)</td>\n",
       "      <td>2.9 (0.7)</td>\n",
       "      <td>2.4 (0.6)</td>\n",
       "    </tr>\n",
       "    <tr>\n",
       "      <th>nanmin_valuenum_Bicarbonate, mean (SD)</th>\n",
       "      <th></th>\n",
       "      <td>2</td>\n",
       "      <td>19.5 (5.0)</td>\n",
       "      <td>19.7 (5.0)</td>\n",
       "      <td>14.6 (4.6)</td>\n",
       "    </tr>\n",
       "    <tr>\n",
       "      <th>nanmin_valuenum_Calculated Bicarbonate, Whole Blood, mean (SD)</th>\n",
       "      <th></th>\n",
       "      <td>11279</td>\n",
       "      <td>22.6 (6.1)</td>\n",
       "      <td>22.7 (6.1)</td>\n",
       "      <td>21.4 (6.8)</td>\n",
       "    </tr>\n",
       "    <tr>\n",
       "      <th>nanmin_valuenum_Creatinine, mean (SD)</th>\n",
       "      <th></th>\n",
       "      <td>1</td>\n",
       "      <td>1.2 (1.2)</td>\n",
       "      <td>1.2 (1.2)</td>\n",
       "      <td>1.6 (1.2)</td>\n",
       "    </tr>\n",
       "    <tr>\n",
       "      <th>nanmin_valuenum_Hematocrit, mean (SD)</th>\n",
       "      <th></th>\n",
       "      <td>13</td>\n",
       "      <td>26.9 (6.2)</td>\n",
       "      <td>27.1 (6.2)</td>\n",
       "      <td>22.3 (4.7)</td>\n",
       "    </tr>\n",
       "    <tr>\n",
       "      <th>nanmin_valuenum_Hematocrit, Calculated, mean (SD)</th>\n",
       "      <th></th>\n",
       "      <td>7327</td>\n",
       "      <td>28.1 (6.7)</td>\n",
       "      <td>28.2 (6.7)</td>\n",
       "      <td>24.9 (6.2)</td>\n",
       "    </tr>\n",
       "    <tr>\n",
       "      <th>nanmin_valuenum_Potassium, mean (SD)</th>\n",
       "      <th></th>\n",
       "      <td>2</td>\n",
       "      <td>3.5 (0.5)</td>\n",
       "      <td>3.5 (0.5)</td>\n",
       "      <td>3.4 (0.5)</td>\n",
       "    </tr>\n",
       "    <tr>\n",
       "      <th>nanmin_valuenum_Potassium, Whole Blood, mean (SD)</th>\n",
       "      <th></th>\n",
       "      <td>5823</td>\n",
       "      <td>3.8 (0.8)</td>\n",
       "      <td>3.8 (0.8)</td>\n",
       "      <td>3.6 (0.7)</td>\n",
       "    </tr>\n",
       "    <tr>\n",
       "      <th>nanmin_valuenum_Urea Nitrogen, mean (SD)</th>\n",
       "      <th></th>\n",
       "      <td>3</td>\n",
       "      <td>19.8 (16.3)</td>\n",
       "      <td>19.8 (16.4)</td>\n",
       "      <td>20.1 (13.1)</td>\n",
       "    </tr>\n",
       "    <tr>\n",
       "      <th>nanmin_valuenum_pH, mean (SD)</th>\n",
       "      <th></th>\n",
       "      <td>2078</td>\n",
       "      <td>7.3 (0.1)</td>\n",
       "      <td>7.3 (0.1)</td>\n",
       "      <td>7.2 (0.1)</td>\n",
       "    </tr>\n",
       "    <tr>\n",
       "      <th>nanmax_valuenum_Albumin, mean (SD)</th>\n",
       "      <th></th>\n",
       "      <td>4275</td>\n",
       "      <td>3.3 (0.7)</td>\n",
       "      <td>3.3 (0.7)</td>\n",
       "      <td>3.2 (0.7)</td>\n",
       "    </tr>\n",
       "    <tr>\n",
       "      <th>nanmax_valuenum_Bicarbonate, mean (SD)</th>\n",
       "      <th></th>\n",
       "      <td>2</td>\n",
       "      <td>28.5 (5.3)</td>\n",
       "      <td>28.5 (5.3)</td>\n",
       "      <td>28.3 (4.5)</td>\n",
       "    </tr>\n",
       "    <tr>\n",
       "      <th>nanmax_valuenum_Calculated Bicarbonate, Whole Blood, mean (SD)</th>\n",
       "      <th></th>\n",
       "      <td>11279</td>\n",
       "      <td>23.3 (6.1)</td>\n",
       "      <td>23.4 (6.1)</td>\n",
       "      <td>22.7 (6.9)</td>\n",
       "    </tr>\n",
       "    <tr>\n",
       "      <th>nanmax_valuenum_Creatinine, mean (SD)</th>\n",
       "      <th></th>\n",
       "      <td>1</td>\n",
       "      <td>2.4 (2.4)</td>\n",
       "      <td>2.3 (2.3)</td>\n",
       "      <td>5.8 (2.8)</td>\n",
       "    </tr>\n",
       "    <tr>\n",
       "      <th>nanmax_valuenum_Hematocrit, mean (SD)</th>\n",
       "      <th></th>\n",
       "      <td>13</td>\n",
       "      <td>36.1 (5.7)</td>\n",
       "      <td>36.1 (5.7)</td>\n",
       "      <td>35.5 (6.2)</td>\n",
       "    </tr>\n",
       "    <tr>\n",
       "      <th>nanmax_valuenum_Hematocrit, Calculated, mean (SD)</th>\n",
       "      <th></th>\n",
       "      <td>7327</td>\n",
       "      <td>34.0 (7.5)</td>\n",
       "      <td>34.0 (7.5)</td>\n",
       "      <td>32.6 (6.2)</td>\n",
       "    </tr>\n",
       "    <tr>\n",
       "      <th>nanmax_valuenum_Potassium, mean (SD)</th>\n",
       "      <th></th>\n",
       "      <td>2</td>\n",
       "      <td>5.1 (0.9)</td>\n",
       "      <td>5.0 (0.9)</td>\n",
       "      <td>5.9 (1.0)</td>\n",
       "    </tr>\n",
       "    <tr>\n",
       "      <th>nanmax_valuenum_Potassium, Whole Blood, mean (SD)</th>\n",
       "      <th></th>\n",
       "      <td>5823</td>\n",
       "      <td>4.8 (4.3)</td>\n",
       "      <td>4.7 (4.4)</td>\n",
       "      <td>5.2 (1.0)</td>\n",
       "    </tr>\n",
       "    <tr>\n",
       "      <th>nanmax_valuenum_Urea Nitrogen, mean (SD)</th>\n",
       "      <th></th>\n",
       "      <td>3</td>\n",
       "      <td>45.5 (33.2)</td>\n",
       "      <td>43.8 (31.9)</td>\n",
       "      <td>87.4 (38.3)</td>\n",
       "    </tr>\n",
       "    <tr>\n",
       "      <th>nanmax_valuenum_pH, mean (SD)</th>\n",
       "      <th></th>\n",
       "      <td>2078</td>\n",
       "      <td>7.4 (0.1)</td>\n",
       "      <td>7.4 (0.1)</td>\n",
       "      <td>7.5 (0.1)</td>\n",
       "    </tr>\n",
       "    <tr>\n",
       "      <th rowspan=\"2\" valign=\"top\">sepsis3, n (%)</th>\n",
       "      <th>False</th>\n",
       "      <td>0</td>\n",
       "      <td>4804 (39.8)</td>\n",
       "      <td>4768 (41.1)</td>\n",
       "      <td>36 (7.9)</td>\n",
       "    </tr>\n",
       "    <tr>\n",
       "      <th>True</th>\n",
       "      <td></td>\n",
       "      <td>7258 (60.2)</td>\n",
       "      <td>6838 (58.9)</td>\n",
       "      <td>420 (92.1)</td>\n",
       "    </tr>\n",
       "    <tr>\n",
       "      <th>sofa_24hours, mean (SD)</th>\n",
       "      <th></th>\n",
       "      <td>0</td>\n",
       "      <td>2.3 (2.5)</td>\n",
       "      <td>2.3 (2.5)</td>\n",
       "      <td>4.2 (3.3)</td>\n",
       "    </tr>\n",
       "    <tr>\n",
       "      <th rowspan=\"2\" valign=\"top\">antibiotic, n (%)</th>\n",
       "      <th>0.0</th>\n",
       "      <td>0</td>\n",
       "      <td>7050 (58.4)</td>\n",
       "      <td>6890 (59.4)</td>\n",
       "      <td>160 (35.1)</td>\n",
       "    </tr>\n",
       "    <tr>\n",
       "      <th>1.0</th>\n",
       "      <td></td>\n",
       "      <td>5012 (41.6)</td>\n",
       "      <td>4716 (40.6)</td>\n",
       "      <td>296 (64.9)</td>\n",
       "    </tr>\n",
       "    <tr>\n",
       "      <th rowspan=\"2\" valign=\"top\">gender, n (%)</th>\n",
       "      <th>F</th>\n",
       "      <td>0</td>\n",
       "      <td>5440 (45.1)</td>\n",
       "      <td>5270 (45.4)</td>\n",
       "      <td>170 (37.3)</td>\n",
       "    </tr>\n",
       "    <tr>\n",
       "      <th>M</th>\n",
       "      <td></td>\n",
       "      <td>6622 (54.9)</td>\n",
       "      <td>6336 (54.6)</td>\n",
       "      <td>286 (62.7)</td>\n",
       "    </tr>\n",
       "  </tbody>\n",
       "</table>\n",
       "</div><br />"
      ],
      "text/plain": [
       "                                                                                                                Grouped by crrt                                          \n",
       "                                                                                                                Missing         Overall       0.0           1.0          \n",
       "n                                                                                                                                       12062         11606           456\n",
       "first_careunit, n (%)                                          Cardiac Vascular Intensive Care Unit (CVICU)          0            1757 (14.6)   1674 (14.4)     83 (18.2)\n",
       "                                                               Coronary Care Unit (CCU)                                           1383 (11.5)   1331 (11.5)     52 (11.4)\n",
       "                                                               Medical Intensive Care Unit (MICU)                                 2693 (22.3)   2553 (22.0)    140 (30.7)\n",
       "                                                               Medical/Surgical Intensive Care Unit (MICU/SICU)                   2144 (17.8)   2071 (17.8)     73 (16.0)\n",
       "                                                               Neuro Intermediate                                                    48 (0.4)      48 (0.4)              \n",
       "                                                               Neuro Stepdown                                                        30 (0.2)      30 (0.3)              \n",
       "                                                               Neuro Surgical Intensive Care Unit (Neuro SICU)                      250 (2.1)     246 (2.1)       4 (0.9)\n",
       "                                                               Surgical Intensive Care Unit (SICU)                                1900 (15.8)   1836 (15.8)     64 (14.0)\n",
       "                                                               Trauma SICU (TSICU)                                                1857 (15.4)   1817 (15.7)      40 (8.8)\n",
       "creat_low_past_48hr, mean (SD)                                                                                    9007              1.9 (2.2)     1.9 (2.2)     2.8 (2.2)\n",
       "aki_stage, n (%)                                               1                                                     0            5401 (44.8)   5275 (45.5)    126 (27.6)\n",
       "                                                               2                                                                  5790 (48.0)   5553 (47.8)    237 (52.0)\n",
       "                                                               3                                                                    871 (7.2)     778 (6.7)     93 (20.4)\n",
       "race, n (%)                                                    ASIAN                                                 0              258 (2.1)     248 (2.1)      10 (2.2)\n",
       "                                                               BLACK                                                               1095 (9.1)    1052 (9.1)      43 (9.4)\n",
       "                                                               HISPANIC                                                             349 (2.9)     331 (2.9)      18 (3.9)\n",
       "                                                               OTHER                                                                726 (6.0)     692 (6.0)      34 (7.5)\n",
       "                                                               UNKNOWN                                                            1507 (12.5)   1431 (12.3)     76 (16.7)\n",
       "                                                               WHITE                                                              8127 (67.4)   7852 (67.7)    275 (60.3)\n",
       "min_heart_rate, mean (SD)                                                                                            1            64.9 (15.3)   65.1 (15.2)   59.7 (15.6)\n",
       "min_mbp, mean (SD)                                                                                                   2            50.7 (15.7)   51.2 (15.4)   37.7 (16.3)\n",
       "min_mbp_ni, mean (SD)                                                                                              180            55.0 (13.4)   55.2 (13.4)   48.4 (12.6)\n",
       "min_resp_rate, mean (SD)                                                                                             2             10.5 (3.7)    10.6 (3.7)     8.1 (3.5)\n",
       "min_spo2, mean (SD)                                                                                                  1            86.4 (12.0)   86.7 (11.7)   79.0 (16.3)\n",
       "max_heart_rate, mean (SD)                                                                                            1           114.4 (24.3)  113.7 (24.0)  131.4 (24.6)\n",
       "max_mbp, mean (SD)                                                                                                   2           122.5 (41.0)  121.6 (40.0)  145.6 (57.6)\n",
       "max_mbp_ni, mean (SD)                                                                                              180           107.9 (23.6)  107.9 (23.6)  108.0 (24.8)\n",
       "max_resp_rate, mean (SD)                                                                                             2             32.2 (8.2)    31.9 (8.1)    38.4 (9.1)\n",
       "max_spo2, mean (SD)                                                                                                  1             99.7 (1.0)    99.7 (1.0)   100.0 (0.3)\n",
       "ckd, n (%)                                                     0.0                                                   4            8795 (72.9)   8542 (73.6)    253 (55.5)\n",
       "                                                               1.0                                                                3263 (27.1)   3060 (26.4)    203 (44.5)\n",
       "dm, n (%)                                                      0.0                                                   4            7941 (65.9)   7665 (66.1)    276 (60.5)\n",
       "                                                               1.0                                                                4117 (34.1)   3937 (33.9)    180 (39.5)\n",
       "hypertension, n (%)                                            0.0                                                   4            5287 (43.8)   5072 (43.7)    215 (47.1)\n",
       "                                                               1.0                                                                6771 (56.2)   6530 (56.3)    241 (52.9)\n",
       "heartfailure, n (%)                                            0.0                                                   4            7405 (61.4)   7166 (61.8)    239 (52.4)\n",
       "                                                               1.0                                                                4653 (38.6)   4436 (38.2)    217 (47.6)\n",
       "nanmin_valuenum_Albumin, mean (SD)                                                                                4275              2.8 (0.7)     2.9 (0.7)     2.4 (0.6)\n",
       "nanmin_valuenum_Bicarbonate, mean (SD)                                                                               2             19.5 (5.0)    19.7 (5.0)    14.6 (4.6)\n",
       "nanmin_valuenum_Calculated Bicarbonate, Whole Blood, mean (SD)                                                   11279             22.6 (6.1)    22.7 (6.1)    21.4 (6.8)\n",
       "nanmin_valuenum_Creatinine, mean (SD)                                                                                1              1.2 (1.2)     1.2 (1.2)     1.6 (1.2)\n",
       "nanmin_valuenum_Hematocrit, mean (SD)                                                                               13             26.9 (6.2)    27.1 (6.2)    22.3 (4.7)\n",
       "nanmin_valuenum_Hematocrit, Calculated, mean (SD)                                                                 7327             28.1 (6.7)    28.2 (6.7)    24.9 (6.2)\n",
       "nanmin_valuenum_Potassium, mean (SD)                                                                                 2              3.5 (0.5)     3.5 (0.5)     3.4 (0.5)\n",
       "nanmin_valuenum_Potassium, Whole Blood, mean (SD)                                                                 5823              3.8 (0.8)     3.8 (0.8)     3.6 (0.7)\n",
       "nanmin_valuenum_Urea Nitrogen, mean (SD)                                                                             3            19.8 (16.3)   19.8 (16.4)   20.1 (13.1)\n",
       "nanmin_valuenum_pH, mean (SD)                                                                                     2078              7.3 (0.1)     7.3 (0.1)     7.2 (0.1)\n",
       "nanmax_valuenum_Albumin, mean (SD)                                                                                4275              3.3 (0.7)     3.3 (0.7)     3.2 (0.7)\n",
       "nanmax_valuenum_Bicarbonate, mean (SD)                                                                               2             28.5 (5.3)    28.5 (5.3)    28.3 (4.5)\n",
       "nanmax_valuenum_Calculated Bicarbonate, Whole Blood, mean (SD)                                                   11279             23.3 (6.1)    23.4 (6.1)    22.7 (6.9)\n",
       "nanmax_valuenum_Creatinine, mean (SD)                                                                                1              2.4 (2.4)     2.3 (2.3)     5.8 (2.8)\n",
       "nanmax_valuenum_Hematocrit, mean (SD)                                                                               13             36.1 (5.7)    36.1 (5.7)    35.5 (6.2)\n",
       "nanmax_valuenum_Hematocrit, Calculated, mean (SD)                                                                 7327             34.0 (7.5)    34.0 (7.5)    32.6 (6.2)\n",
       "nanmax_valuenum_Potassium, mean (SD)                                                                                 2              5.1 (0.9)     5.0 (0.9)     5.9 (1.0)\n",
       "nanmax_valuenum_Potassium, Whole Blood, mean (SD)                                                                 5823              4.8 (4.3)     4.7 (4.4)     5.2 (1.0)\n",
       "nanmax_valuenum_Urea Nitrogen, mean (SD)                                                                             3            45.5 (33.2)   43.8 (31.9)   87.4 (38.3)\n",
       "nanmax_valuenum_pH, mean (SD)                                                                                     2078              7.4 (0.1)     7.4 (0.1)     7.5 (0.1)\n",
       "sepsis3, n (%)                                                 False                                                 0            4804 (39.8)   4768 (41.1)      36 (7.9)\n",
       "                                                               True                                                               7258 (60.2)   6838 (58.9)    420 (92.1)\n",
       "sofa_24hours, mean (SD)                                                                                              0              2.3 (2.5)     2.3 (2.5)     4.2 (3.3)\n",
       "antibiotic, n (%)                                              0.0                                                   0            7050 (58.4)   6890 (59.4)    160 (35.1)\n",
       "                                                               1.0                                                                5012 (41.6)   4716 (40.6)    296 (64.9)\n",
       "gender, n (%)                                                  F                                                     0            5440 (45.1)   5270 (45.4)    170 (37.3)\n",
       "                                                               M                                                                  6622 (54.9)   6336 (54.6)    286 (62.7)"
      ]
     },
     "execution_count": 87,
     "metadata": {},
     "output_type": "execute_result"
    }
   ],
   "source": [
    "tab"
   ]
  },
  {
   "cell_type": "code",
   "execution_count": 88,
   "id": "9f66a804",
   "metadata": {},
   "outputs": [],
   "source": [
    "tab.to_csv('tableone.csv')"
   ]
  },
  {
   "cell_type": "markdown",
   "id": "1080b82b",
   "metadata": {},
   "source": [
    "## Model Training"
   ]
  },
  {
   "cell_type": "markdown",
   "id": "58dc1343",
   "metadata": {},
   "source": [
    "#### Baseline model\n",
    "No strategy to handle class imbalance"
   ]
  },
  {
   "cell_type": "code",
   "execution_count": 89,
   "id": "35a5b95f",
   "metadata": {},
   "outputs": [],
   "source": [
    "data = cohort_final.copy()"
   ]
  },
  {
   "cell_type": "code",
   "execution_count": 90,
   "id": "4066f6a4",
   "metadata": {},
   "outputs": [],
   "source": [
    "# Select variables for the model.\n",
    "columns = [\n",
    " 'min_spo2',\n",
    " 'max_spo2',\n",
    "'nanmin_valuenum_Albumin',\n",
    " 'nanmin_valuenum_Creatinine',\n",
    " 'nanmin_valuenum_Hematocrit',\n",
    " 'nanmin_valuenum_Potassium',\n",
    " 'nanmin_valuenum_Potassium, Whole Blood',\n",
    " 'nanmin_valuenum_Urea Nitrogen',\n",
    " 'nanmin_valuenum_pH',\n",
    " 'nanmax_valuenum_Albumin',\n",
    " 'nanmax_valuenum_Creatinine',\n",
    " 'nanmax_valuenum_Hematocrit',\n",
    " 'nanmax_valuenum_Hematocrit, Calculated',\n",
    " 'nanmax_valuenum_Potassium',\n",
    " 'nanmax_valuenum_Potassium, Whole Blood',\n",
    " 'nanmax_valuenum_Urea Nitrogen',\n",
    " 'nanmax_valuenum_pH',\n",
    "'ckd' ,                                                     \n",
    "  'dm',                                                    \n",
    " 'hypertension',                                     \n",
    " 'heartfailure',\n",
    "]\n",
    "categorical = ['ckd' ,                                                     \n",
    "  'dm',                                                    \n",
    " 'hypertension',                                     \n",
    " 'heartfailure'\n",
    "]\n",
    "\n",
    "numerical = [x for x in columns if x not in categorical]"
   ]
  },
  {
   "cell_type": "code",
   "execution_count": 91,
   "id": "2a9fdc19",
   "metadata": {},
   "outputs": [
    {
     "data": {
      "text/plain": [
       "21"
      ]
     },
     "execution_count": 91,
     "metadata": {},
     "output_type": "execute_result"
    }
   ],
   "source": [
    "len(columns)"
   ]
  },
  {
   "cell_type": "code",
   "execution_count": 121,
   "id": "bea28eb7",
   "metadata": {},
   "outputs": [],
   "source": [
    "def train_predict_lr(data, columns, numerical, categorical):\n",
    "    sc = StandardScaler()\n",
    "    oh = OneHotEncoder()\n",
    "    \n",
    "    train, test = train_test_split(data, test_size=0.3, random_state=2022, stratify=data['crrt'].ravel())\n",
    "    \n",
    "    X_train = train[columns].fillna(-1)\n",
    "    X_test = test[columns].fillna(-1)\n",
    "    y_train = train['crrt'].ravel()\n",
    "    y_test = test['crrt'].ravel()\n",
    "    \n",
    "    \n",
    "    X_num_train = sc.fit_transform(X_train[numerical])\n",
    "    X_num_test = sc.transform(X_test[numerical])\n",
    "    X_cat_train = X_train[categorical]\n",
    "    X_cat_test = X_test[categorical]\n",
    "    \n",
    "    X_train_proc = np.hstack((X_num_train, X_cat_train))\n",
    "    X_test_proc = np.hstack((X_num_test, X_cat_test))\n",
    "    \n",
    "    clf = LogisticRegression(max_iter=1000, class_weight='balanced', random_state=2022)\n",
    "    clf.fit(X_train_proc, y_train)\n",
    "    with open('crr_model.pkl', 'wb') as f:\n",
    "        pickle.dump(clf, f)\n",
    "    print(dict(zip(columns, clf.coef_.ravel())))\n",
    "    yHat = clf.predict_proba(X_test_proc)\n",
    "    return test, y_test, yHat"
   ]
  },
  {
   "cell_type": "code",
   "execution_count": 122,
   "id": "95e38d1b",
   "metadata": {},
   "outputs": [
    {
     "name": "stdout",
     "output_type": "stream",
     "text": [
      "{'min_spo2': -0.3409307932974685, 'max_spo2': 0.7395470035036227, 'nanmin_valuenum_Albumin': -0.5178304573456446, 'nanmin_valuenum_Creatinine': -0.041873392286260414, 'nanmin_valuenum_Hematocrit': -0.26987244301378904, 'nanmin_valuenum_Potassium': 0.16139494478691288, 'nanmin_valuenum_Potassium, Whole Blood': 0.18402284976782093, 'nanmin_valuenum_Urea Nitrogen': -0.41983295846613555, 'nanmin_valuenum_pH': -6.621519866381543, 'nanmax_valuenum_Albumin': 0.8661119435425264, 'nanmax_valuenum_Creatinine': 0.9974494659926937, 'nanmax_valuenum_Hematocrit': -0.023133194326009132, 'nanmax_valuenum_Hematocrit, Calculated': -0.0018737417013144, 'nanmax_valuenum_Potassium': 0.2516316274393708, 'nanmax_valuenum_Potassium, Whole Blood': 0.020086527151805377, 'nanmax_valuenum_Urea Nitrogen': 0.4431039080140683, 'nanmax_valuenum_pH': 7.222575692644382, 'ckd': 0.15804215630706667, 'dm': 0.17068507154010928, 'hypertension': 0.1961333557086964, 'heartfailure': 0.12985212249515274}\n"
     ]
    }
   ],
   "source": [
    "_, y_test, yHat = train_predict_lr(data, columns, numerical, categorical)"
   ]
  },
  {
   "cell_type": "code",
   "execution_count": 123,
   "id": "ec145358",
   "metadata": {},
   "outputs": [
    {
     "data": {
      "text/plain": [
       "(array([1604.,  667.,  323.,  186.,  181.,  111.,  109.,  122.,  120.,\n",
       "         196.]),\n",
       " array([4.29705383e-04, 1.00370401e-01, 2.00311096e-01, 3.00251791e-01,\n",
       "        4.00192486e-01, 5.00133181e-01, 6.00073876e-01, 7.00014572e-01,\n",
       "        7.99955267e-01, 8.99895962e-01, 9.99836657e-01]),\n",
       " <BarContainer object of 10 artists>)"
      ]
     },
     "execution_count": 123,
     "metadata": {},
     "output_type": "execute_result"
    },
    {
     "data": {
      "image/png": "[encoded data removed]",
      "text/plain": [
       "<Figure size 432x288 with 1 Axes>"
      ]
     },
     "metadata": {
      "needs_background": "light"
     },
     "output_type": "display_data"
    }
   ],
   "source": [
    "plt.hist(yHat[:, 1])"
   ]
  },
  {
   "cell_type": "code",
   "execution_count": 124,
   "id": "c20c6231",
   "metadata": {},
   "outputs": [],
   "source": [
    "ypred = (yHat[:, 1] >= 0.5)"
   ]
  },
  {
   "cell_type": "code",
   "execution_count": 125,
   "id": "323a9d87",
   "metadata": {},
   "outputs": [],
   "source": [
    "fpr, tpr, _ = roc_curve(y_test, yHat[:,1])\n",
    "rocauc = auc(fpr, tpr)"
   ]
  },
  {
   "cell_type": "code",
   "execution_count": 126,
   "id": "8240641b",
   "metadata": {},
   "outputs": [
    {
     "name": "stdout",
     "output_type": "stream",
     "text": [
      "              precision    recall  f1-score   support\n",
      "\n",
      "         0.0       0.99      0.84      0.91      3482\n",
      "         1.0       0.18      0.86      0.30       137\n",
      "\n",
      "    accuracy                           0.85      3619\n",
      "   macro avg       0.59      0.85      0.61      3619\n",
      "weighted avg       0.96      0.85      0.89      3619\n",
      "\n"
     ]
    },
    {
     "data": {
      "image/png": "[encoded data removed]",
      "text/plain": [
       "<Figure size 720x720 with 1 Axes>"
      ]
     },
     "metadata": {
      "needs_background": "light"
     },
     "output_type": "display_data"
    }
   ],
   "source": [
    "plt.figure(figsize=(10, 10))\n",
    "plt.title('ROC AUC Curve')\n",
    "plt.plot(fpr, tpr, label=f'auc={round(rocauc, 3)}')\n",
    "plt.legend(loc=4)\n",
    "\n",
    "print(classification_report(y_test, ypred))"
   ]
  },
  {
   "cell_type": "markdown",
   "id": "367a5c12",
   "metadata": {},
   "source": [
    "#### Majority Class Undersampling"
   ]
  },
  {
   "cell_type": "code",
   "execution_count": 127,
   "id": "0f7ace51",
   "metadata": {},
   "outputs": [
    {
     "data": {
      "text/plain": [
       "(12062, 81)"
      ]
     },
     "execution_count": 127,
     "metadata": {},
     "output_type": "execute_result"
    }
   ],
   "source": [
    "data.shape"
   ]
  },
  {
   "cell_type": "code",
   "execution_count": 128,
   "id": "91ae790a",
   "metadata": {},
   "outputs": [
    {
     "data": {
      "text/plain": [
       "0.0    11606\n",
       "1.0      456\n",
       "Name: crrt, dtype: int64"
      ]
     },
     "execution_count": 128,
     "metadata": {},
     "output_type": "execute_result"
    }
   ],
   "source": [
    "data['crrt'].value_counts(dropna=False)"
   ]
  },
  {
   "cell_type": "code",
   "execution_count": 129,
   "id": "f880fbda",
   "metadata": {},
   "outputs": [],
   "source": [
    "nocrrt, crrt = data['crrt'].value_counts()"
   ]
  },
  {
   "cell_type": "code",
   "execution_count": 130,
   "id": "f7e84fbd",
   "metadata": {},
   "outputs": [],
   "source": [
    "nocrrt_df = data[data['crrt'] == 0].reset_index(drop=True)\n",
    "nocrrt_df_under = nocrrt_df.sample(n=crrt, random_state=2022)"
   ]
  },
  {
   "cell_type": "code",
   "execution_count": 131,
   "id": "37235466",
   "metadata": {},
   "outputs": [],
   "source": [
    "crrt_df = data[data['crrt'] == 1].reset_index(drop=True)"
   ]
  },
  {
   "cell_type": "code",
   "execution_count": 132,
   "id": "633691b3",
   "metadata": {},
   "outputs": [],
   "source": [
    "under_sampled = pd.concat([crrt_df, nocrrt_df_under], axis=0).sample(frac=1)"
   ]
  },
  {
   "cell_type": "code",
   "execution_count": 133,
   "id": "252c6088",
   "metadata": {},
   "outputs": [
    {
     "data": {
      "text/plain": [
       "1.0    456\n",
       "0.0    456\n",
       "Name: crrt, dtype: int64"
      ]
     },
     "execution_count": 133,
     "metadata": {},
     "output_type": "execute_result"
    }
   ],
   "source": [
    "under_sampled['crrt'].value_counts()"
   ]
  },
  {
   "cell_type": "code",
   "execution_count": 134,
   "id": "2ab480b7",
   "metadata": {},
   "outputs": [
    {
     "name": "stdout",
     "output_type": "stream",
     "text": [
      "{'min_spo2': -0.5177114078815763, 'max_spo2': 0.3573705749015604, 'nanmin_valuenum_Albumin': -0.6486465057720572, 'nanmin_valuenum_Creatinine': -0.10310897915408088, 'nanmin_valuenum_Hematocrit': -0.17560858676208627, 'nanmin_valuenum_Potassium': 0.04789729872326484, 'nanmin_valuenum_Potassium, Whole Blood': -0.0880256585707224, 'nanmin_valuenum_Urea Nitrogen': -0.2399094696771764, 'nanmin_valuenum_pH': -0.46438015771462815, 'nanmax_valuenum_Albumin': 0.9857891664760285, 'nanmax_valuenum_Creatinine': 1.6410374160216252, 'nanmax_valuenum_Hematocrit': -0.07329205441247331, 'nanmax_valuenum_Hematocrit, Calculated': -0.0905863801780888, 'nanmax_valuenum_Potassium': 0.2613865475128808, 'nanmax_valuenum_Potassium, Whole Blood': 0.5157341484582846, 'nanmax_valuenum_Urea Nitrogen': 0.33909730954233797, 'nanmax_valuenum_pH': 0.9350919063218283, 'ckd': -0.13115727735266391, 'dm': -0.1092192589940377, 'hypertension': 0.3072158678997322, 'heartfailure': 0.09799779496726797}\n"
     ]
    }
   ],
   "source": [
    "test_under, under_ytest, under_yHat = train_predict_lr(under_sampled, columns, numerical, categorical)"
   ]
  },
  {
   "cell_type": "code",
   "execution_count": 135,
   "id": "af427b28",
   "metadata": {},
   "outputs": [],
   "source": [
    "coef = {'min_spo2': -0.4852047853834246, 'max_spo2': 0.1275742150991979, 'nanmin_valuenum_Albumin': -0.20834890296303632, 'nanmin_valuenum_Creatinine': -0.27070791975477343, 'nanmin_valuenum_Hematocrit': -0.029813067747945267, 'nanmin_valuenum_Potassium': 0.12755607056666335, 'nanmin_valuenum_Potassium, Whole Blood': -0.6214020245588742, 'nanmin_valuenum_Urea Nitrogen': -0.2587734578499637, 'nanmin_valuenum_pH': -1.5201620121199284, 'nanmax_valuenum_Albumin': 0.31521468315400913, 'nanmax_valuenum_Creatinine': 1.524030435521787, 'nanmax_valuenum_Hematocrit': -0.17537377615311694, 'nanmax_valuenum_Hematocrit, Calculated': -0.07035163086763366, 'nanmax_valuenum_Potassium': 0.2538660824177118, 'nanmax_valuenum_Potassium, Whole Blood': 0.9666497534717178, 'nanmax_valuenum_Urea Nitrogen': 0.4160818026598768, 'nanmax_valuenum_pH': 2.0042514398732734, 'ckd': 0.08715115694850646, 'dm': 0.05534529373130768, 'hypertension': 0.06822913953444272, 'heartfailure': 0.02438402149205089}\n"
   ]
  },
  {
   "cell_type": "code",
   "execution_count": 136,
   "id": "c36aebb3",
   "metadata": {},
   "outputs": [
    {
     "data": {
      "text/plain": [
       "{'min_spo2': -0.4852047853834246,\n",
       " 'max_spo2': 0.1275742150991979,\n",
       " 'nanmin_valuenum_Albumin': -0.20834890296303632,\n",
       " 'nanmin_valuenum_Creatinine': -0.27070791975477343,\n",
       " 'nanmin_valuenum_Hematocrit': -0.029813067747945267,\n",
       " 'nanmin_valuenum_Potassium': 0.12755607056666335,\n",
       " 'nanmin_valuenum_Potassium, Whole Blood': -0.6214020245588742,\n",
       " 'nanmin_valuenum_Urea Nitrogen': -0.2587734578499637,\n",
       " 'nanmin_valuenum_pH': -1.5201620121199284,\n",
       " 'nanmax_valuenum_Albumin': 0.31521468315400913,\n",
       " 'nanmax_valuenum_Creatinine': 1.524030435521787,\n",
       " 'nanmax_valuenum_Hematocrit': -0.17537377615311694,\n",
       " 'nanmax_valuenum_Hematocrit, Calculated': -0.07035163086763366,\n",
       " 'nanmax_valuenum_Potassium': 0.2538660824177118,\n",
       " 'nanmax_valuenum_Potassium, Whole Blood': 0.9666497534717178,\n",
       " 'nanmax_valuenum_Urea Nitrogen': 0.4160818026598768,\n",
       " 'nanmax_valuenum_pH': 2.0042514398732734,\n",
       " 'ckd': 0.08715115694850646,\n",
       " 'dm': 0.05534529373130768,\n",
       " 'hypertension': 0.06822913953444272,\n",
       " 'heartfailure': 0.02438402149205089}"
      ]
     },
     "execution_count": 136,
     "metadata": {},
     "output_type": "execute_result"
    }
   ],
   "source": [
    "coef"
   ]
  },
  {
   "cell_type": "code",
   "execution_count": 137,
   "id": "eb90f863",
   "metadata": {},
   "outputs": [],
   "source": [
    "# ['a_patientid', 'albumine_min', 'albumine_max', 'potassium_min',\n",
    "#        'potassium_max', 'spo2_min', 'spo2_max', 'haematocrit_min',\n",
    "#        'haematocrit_max', 'ph_min', 'ph_max', 'bun_min', 'bun_max', 'diabetes',\n",
    "#        'heart failure', 'hypertension', 'chronic kidney disease', 'RRT',\n",
    "#        'crrt_time', 'aki_stage']"
   ]
  },
  {
   "cell_type": "code",
   "execution_count": 138,
   "id": "b3df3648",
   "metadata": {},
   "outputs": [
    {
     "data": {
      "text/plain": [
       "(array([57., 40., 16., 12., 19., 14., 15., 18., 19., 64.]),\n",
       " array([8.81024048e-09, 9.99154644e-02, 1.99830920e-01, 2.99746376e-01,\n",
       "        3.99661831e-01, 4.99577287e-01, 5.99492742e-01, 6.99408198e-01,\n",
       "        7.99323654e-01, 8.99239109e-01, 9.99154565e-01]),\n",
       " <BarContainer object of 10 artists>)"
      ]
     },
     "execution_count": 138,
     "metadata": {},
     "output_type": "execute_result"
    },
    {
     "data": {
      "image/png": "[encoded data removed]",
      "text/plain": [
       "<Figure size 432x288 with 1 Axes>"
      ]
     },
     "metadata": {
      "needs_background": "light"
     },
     "output_type": "display_data"
    }
   ],
   "source": [
    "plt.hist(under_yHat[:, 1])"
   ]
  },
  {
   "cell_type": "code",
   "execution_count": 139,
   "id": "b3f8a3aa",
   "metadata": {},
   "outputs": [],
   "source": [
    "fpr, tpr, _ = roc_curve(under_ytest, under_yHat[:,1])\n",
    "rocauc = auc(fpr, tpr)"
   ]
  },
  {
   "cell_type": "code",
   "execution_count": 140,
   "id": "9ed97000",
   "metadata": {},
   "outputs": [],
   "source": [
    "ypred_under = (under_yHat[:, 1] >= 0.5)"
   ]
  },
  {
   "cell_type": "code",
   "execution_count": 141,
   "id": "43d5c311",
   "metadata": {},
   "outputs": [
    {
     "name": "stdout",
     "output_type": "stream",
     "text": [
      "              precision    recall  f1-score   support\n",
      "\n",
      "         0.0       0.81      0.85      0.83       137\n",
      "         1.0       0.84      0.80      0.82       137\n",
      "\n",
      "    accuracy                           0.82       274\n",
      "   macro avg       0.82      0.82      0.82       274\n",
      "weighted avg       0.82      0.82      0.82       274\n",
      "\n"
     ]
    },
    {
     "data": {
      "image/png": "[encoded data removed]",
      "text/plain": [
       "<Figure size 720x720 with 1 Axes>"
      ]
     },
     "metadata": {
      "needs_background": "light"
     },
     "output_type": "display_data"
    }
   ],
   "source": [
    "plt.figure(figsize=(10, 10))\n",
    "plt.title('ROC AUC Curve')\n",
    "plt.plot(fpr, tpr, label=f'auc={round(rocauc, 3)}')\n",
    "plt.legend(loc=4)\n",
    "\n",
    "print(classification_report(under_ytest, ypred_under))"
   ]
  },
  {
   "cell_type": "code",
   "execution_count": 142,
   "id": "dbde0661",
   "metadata": {},
   "outputs": [
    {
     "name": "stderr",
     "output_type": "stream",
     "text": [
      "/tmp/ipykernel_1412/532204791.py:2: SettingWithCopyWarning: \n",
      "A value is trying to be set on a copy of a slice from a DataFrame.\n",
      "Try using .loc[row_indexer,col_indexer] = value instead\n",
      "\n",
      "See the caveats in the documentation: https://pandas.pydata.org/pandas-docs/stable/user_guide/indexing.html#returning-a-view-versus-a-copy\n",
      "  test_under['prediction'] = under_yHat[:, 1]\n"
     ]
    }
   ],
   "source": [
    "# Stratify by AKI stage.\n",
    "test_under['prediction'] = under_yHat[:, 1]"
   ]
  },
  {
   "cell_type": "code",
   "execution_count": 143,
   "id": "dcb2ebd1",
   "metadata": {},
   "outputs": [
    {
     "data": {
      "text/plain": [
       "Text(0.5, 1.0, 'Performance by AKI')"
      ]
     },
     "execution_count": 143,
     "metadata": {},
     "output_type": "execute_result"
    },
    {
     "data": {
      "image/png": "[encoded data removed]",
      "text/plain": [
       "<Figure size 432x288 with 1 Axes>"
      ]
     },
     "metadata": {
      "needs_background": "light"
     },
     "output_type": "display_data"
    }
   ],
   "source": [
    "# Plot ROC curves for AKI stratified by stage.\n",
    "for aki in test_under['aki_stage'].unique():\n",
    "    tmp = test_under[test_under['aki_stage'] == aki]\n",
    "    ytest = tmp['crrt'].ravel()\n",
    "    ypred = tmp['prediction'].values\n",
    "    fpr, tpr, _ = roc_curve(ytest, ypred)\n",
    "    rocauc = auc(fpr, tpr)\n",
    "    plt.plot(fpr, tpr, label=f'AKI Stage: {aki}, ROCAUC={round(rocauc, 3)}')\n",
    "plt.legend(loc=4)\n",
    "plt.title(\"Performance by AKI\")"
   ]
  },
  {
   "cell_type": "code",
   "execution_count": 144,
   "id": "9222b7bf",
   "metadata": {},
   "outputs": [
    {
     "data": {
      "image/png": "[encoded data removed]",
      "text/plain": [
       "<Figure size 1440x360 with 6 Axes>"
      ]
     },
     "metadata": {
      "needs_background": "light"
     },
     "output_type": "display_data"
    }
   ],
   "source": [
    "# Confusion matrices.\n",
    "fig, ax = plt.subplots(1, 3, figsize=(20, 5))\n",
    "for i, aki in enumerate(test_under['aki_stage'].unique()):\n",
    "    tmp = test_under[test_under['aki_stage'] == aki]\n",
    "    ytest = tmp['crrt'].ravel()\n",
    "    ypred = tmp['prediction'].values\n",
    "    ypred = (ypred >= 0.5)\n",
    "    cm = confusion_matrix(ytest, ypred)\n",
    "    sns.heatmap(cm, annot=True, ax=ax[i], cmap='Blues')\n",
    "    ax[i].set_title(f'AKI Stage: {aki}')"
   ]
  },
  {
   "cell_type": "code",
   "execution_count": 145,
   "id": "a0b5fa3b",
   "metadata": {},
   "outputs": [
    {
     "data": {
      "text/plain": [
       "count    137.00000\n",
       "mean      62.22185\n",
       "std       32.41006\n",
       "min       24.38472\n",
       "25%       33.11667\n",
       "50%       50.31444\n",
       "75%       80.11667\n",
       "max      139.66944\n",
       "Name: time_delta, dtype: float64"
      ]
     },
     "execution_count": 145,
     "metadata": {},
     "output_type": "execute_result"
    }
   ],
   "source": [
    "test_under['time_delta'].describe()"
   ]
  },
  {
   "cell_type": "code",
   "execution_count": 146,
   "id": "dd34276d",
   "metadata": {},
   "outputs": [
    {
     "data": {
      "text/plain": [
       "Text(0.5, 1.0, 'Performance by Time')"
      ]
     },
     "execution_count": 146,
     "metadata": {},
     "output_type": "execute_result"
    },
    {
     "data": {
      "image/png": "[encoded data removed]",
      "text/plain": [
       "<Figure size 432x288 with 1 Axes>"
      ]
     },
     "metadata": {
      "needs_background": "light"
     },
     "output_type": "display_data"
    }
   ],
   "source": [
    "# Plot ROC curves for AKI stratified by stage.\n",
    "step = 36\n",
    "for i in range(12, 120, step):\n",
    "    lower_bound = i\n",
    "    upper_bound = i + step\n",
    "    tmp = test_under[((test_under['time_delta'] >= lower_bound) & (test_under['time_delta'] <= upper_bound)) | (test_under['crrt'] == 0)]\n",
    "    ytest = tmp['crrt'].ravel()\n",
    "    ypred = tmp['prediction'].values\n",
    "    fpr, tpr, _ = roc_curve(ytest, ypred)\n",
    "\n",
    "    rocauc = auc(fpr, tpr)\n",
    "    plt.plot(fpr, tpr, label=f'{i} hours-{i+step} hours, ROCAUC={round(rocauc, 3)}')\n",
    "plt.legend(loc=4)\n",
    "plt.title(\"Performance by Time\")"
   ]
  },
  {
   "cell_type": "code",
   "execution_count": 147,
   "id": "c5ead06c",
   "metadata": {},
   "outputs": [
    {
     "data": {
      "image/png": "[encoded data removed]",
      "text/plain": [
       "<Figure size 1440x360 with 6 Axes>"
      ]
     },
     "metadata": {
      "needs_background": "light"
     },
     "output_type": "display_data"
    }
   ],
   "source": [
    "# Confusion matrices.\n",
    "step = 36\n",
    "fig, ax = plt.subplots(1, 3, figsize=(20, 5))\n",
    "counter = 0\n",
    "for i in range(12, 120, step):\n",
    "    lower_bound = i\n",
    "    upper_bound = i + step\n",
    "    tmp = test_under[((test_under['time_delta'] >= lower_bound) & (test_under['time_delta'] <= upper_bound)) | (test_under['crrt'] == 0)]\n",
    "    ytest = tmp['crrt'].ravel()\n",
    "    ypred = tmp['prediction'].values\n",
    "    ypred = (ypred >= 0.5)\n",
    "    cm = confusion_matrix(ytest, ypred)\n",
    "    sns.heatmap(cm, annot=True, ax=ax[counter], cmap='Blues')\n",
    "    ax[counter].set_title(f'CRRT between {lower_bound} hours and {upper_bound} hours')\n",
    "    counter+=1"
   ]
  }
 ],
 "metadata": {
  "kernelspec": {
   "display_name": "hiti",
   "language": "python",
   "name": "hiti"
  },
  "language_info": {
   "codemirror_mode": {
    "name": "ipython",
    "version": 3
   },
   "file_extension": ".py",
   "mimetype": "text/x-python",
   "name": "python",
   "nbconvert_exporter": "python",
   "pygments_lexer": "ipython3",
   "version": "3.9.7"
  }
 },
 "nbformat": 4,
 "nbformat_minor": 5
}
