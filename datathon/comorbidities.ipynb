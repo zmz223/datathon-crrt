{
 "cells": [
  {
   "cell_type": "code",
   "execution_count": 19,
   "id": "6ddcf921",
   "metadata": {},
   "outputs": [],
   "source": [
    "import awswrangler as wr\n",
    "import pandas as pd\n",
    "import numpy as np\n",
    "import matplotlib.pyplot as plt\n",
    "import seaborn as sns\n",
    "from tqdm import tqdm\n",
    "from tableone import TableOne"
   ]
  },
  {
   "cell_type": "code",
   "execution_count": 20,
   "id": "8c2cb0ee",
   "metadata": {},
   "outputs": [],
   "source": [
    "import os"
   ]
  },
  {
   "cell_type": "code",
   "execution_count": 21,
   "id": "b5389e94",
   "metadata": {},
   "outputs": [
    {
     "data": {
      "text/plain": [
       "'/home/ec2-user/SageMaker/mimic-iv-datathon'"
      ]
     },
     "execution_count": 21,
     "metadata": {},
     "output_type": "execute_result"
    }
   ],
   "source": [
    "os.getcwd()"
   ]
  },
  {
   "cell_type": "code",
   "execution_count": 136,
   "id": "d59aaa7a",
   "metadata": {},
   "outputs": [],
   "source": [
    "patients= pd.read_csv(\"/home/ec2-user/SageMaker/initial_cohort_no_covariates.csv\")"
   ]
  },
  {
   "cell_type": "code",
   "execution_count": 188,
   "id": "5244e9fc",
   "metadata": {
    "scrolled": true
   },
   "outputs": [
    {
     "data": {
      "text/html": [
       "<div>\n",
       "<style scoped>\n",
       "    .dataframe tbody tr th:only-of-type {\n",
       "        vertical-align: middle;\n",
       "    }\n",
       "\n",
       "    .dataframe tbody tr th {\n",
       "        vertical-align: top;\n",
       "    }\n",
       "\n",
       "    .dataframe thead th {\n",
       "        text-align: right;\n",
       "    }\n",
       "</style>\n",
       "<table border=\"1\" class=\"dataframe\">\n",
       "  <thead>\n",
       "    <tr style=\"text-align: right;\">\n",
       "      <th></th>\n",
       "      <th>subject_id</th>\n",
       "      <th>hadm_id</th>\n",
       "      <th>stay_id</th>\n",
       "      <th>charttime</th>\n",
       "      <th>creat_low_past_7day</th>\n",
       "      <th>creat_low_past_48hr</th>\n",
       "      <th>creat</th>\n",
       "      <th>aki_stage_creat</th>\n",
       "      <th>uo_rt_6hr</th>\n",
       "      <th>uo_rt_12hr</th>\n",
       "      <th>...</th>\n",
       "      <th>edouttime</th>\n",
       "      <th>hospital_expire_flag</th>\n",
       "      <th>gender</th>\n",
       "      <th>anchor_age</th>\n",
       "      <th>anchor_year</th>\n",
       "      <th>anchor_year_group</th>\n",
       "      <th>dod</th>\n",
       "      <th>creat_24</th>\n",
       "      <th>urine_24</th>\n",
       "      <th>first_careunit</th>\n",
       "    </tr>\n",
       "  </thead>\n",
       "  <tbody>\n",
       "    <tr>\n",
       "      <th>0</th>\n",
       "      <td>10002155</td>\n",
       "      <td>23822395</td>\n",
       "      <td>33685454</td>\n",
       "      <td>2129-08-05 05:01:00</td>\n",
       "      <td>0.9</td>\n",
       "      <td>0.9</td>\n",
       "      <td>1.2</td>\n",
       "      <td>1</td>\n",
       "      <td>NaN</td>\n",
       "      <td>NaN</td>\n",
       "      <td>...</td>\n",
       "      <td>2129-08-04 12:35:00</td>\n",
       "      <td>0</td>\n",
       "      <td>F</td>\n",
       "      <td>80</td>\n",
       "      <td>2128</td>\n",
       "      <td>2008 - 2010</td>\n",
       "      <td>2131-03-10</td>\n",
       "      <td>1</td>\n",
       "      <td>1</td>\n",
       "      <td>Coronary Care Unit (CCU)</td>\n",
       "    </tr>\n",
       "    <tr>\n",
       "      <th>1</th>\n",
       "      <td>10002155</td>\n",
       "      <td>23822395</td>\n",
       "      <td>33685454</td>\n",
       "      <td>2129-08-06 06:05:00</td>\n",
       "      <td>0.9</td>\n",
       "      <td>0.9</td>\n",
       "      <td>1.2</td>\n",
       "      <td>1</td>\n",
       "      <td>NaN</td>\n",
       "      <td>NaN</td>\n",
       "      <td>...</td>\n",
       "      <td>2129-08-04 12:35:00</td>\n",
       "      <td>0</td>\n",
       "      <td>F</td>\n",
       "      <td>80</td>\n",
       "      <td>2128</td>\n",
       "      <td>2008 - 2010</td>\n",
       "      <td>2131-03-10</td>\n",
       "      <td>1</td>\n",
       "      <td>1</td>\n",
       "      <td>Coronary Care Unit (CCU)</td>\n",
       "    </tr>\n",
       "    <tr>\n",
       "      <th>2</th>\n",
       "      <td>13774492</td>\n",
       "      <td>21066890</td>\n",
       "      <td>30073242</td>\n",
       "      <td>2125-05-20 03:01:00</td>\n",
       "      <td>0.3</td>\n",
       "      <td>0.3</td>\n",
       "      <td>0.5</td>\n",
       "      <td>1</td>\n",
       "      <td>NaN</td>\n",
       "      <td>NaN</td>\n",
       "      <td>...</td>\n",
       "      <td>2125-05-10 10:01:00</td>\n",
       "      <td>0</td>\n",
       "      <td>F</td>\n",
       "      <td>57</td>\n",
       "      <td>2123</td>\n",
       "      <td>2014 - 2016</td>\n",
       "      <td>NaN</td>\n",
       "      <td>1</td>\n",
       "      <td>1</td>\n",
       "      <td>Medical/Surgical Intensive Care Unit (MICU/SICU)</td>\n",
       "    </tr>\n",
       "    <tr>\n",
       "      <th>3</th>\n",
       "      <td>13774492</td>\n",
       "      <td>21066890</td>\n",
       "      <td>30073242</td>\n",
       "      <td>2125-05-21 04:36:00</td>\n",
       "      <td>0.3</td>\n",
       "      <td>0.5</td>\n",
       "      <td>0.5</td>\n",
       "      <td>1</td>\n",
       "      <td>NaN</td>\n",
       "      <td>NaN</td>\n",
       "      <td>...</td>\n",
       "      <td>2125-05-10 10:01:00</td>\n",
       "      <td>0</td>\n",
       "      <td>F</td>\n",
       "      <td>57</td>\n",
       "      <td>2123</td>\n",
       "      <td>2014 - 2016</td>\n",
       "      <td>NaN</td>\n",
       "      <td>1</td>\n",
       "      <td>1</td>\n",
       "      <td>Medical/Surgical Intensive Care Unit (MICU/SICU)</td>\n",
       "    </tr>\n",
       "    <tr>\n",
       "      <th>4</th>\n",
       "      <td>13774492</td>\n",
       "      <td>21066890</td>\n",
       "      <td>30073242</td>\n",
       "      <td>2125-05-19 05:46:00</td>\n",
       "      <td>0.3</td>\n",
       "      <td>0.3</td>\n",
       "      <td>0.5</td>\n",
       "      <td>1</td>\n",
       "      <td>NaN</td>\n",
       "      <td>NaN</td>\n",
       "      <td>...</td>\n",
       "      <td>2125-05-10 10:01:00</td>\n",
       "      <td>0</td>\n",
       "      <td>F</td>\n",
       "      <td>57</td>\n",
       "      <td>2123</td>\n",
       "      <td>2014 - 2016</td>\n",
       "      <td>NaN</td>\n",
       "      <td>1</td>\n",
       "      <td>1</td>\n",
       "      <td>Medical/Surgical Intensive Care Unit (MICU/SICU)</td>\n",
       "    </tr>\n",
       "  </tbody>\n",
       "</table>\n",
       "<p>5 rows × 34 columns</p>\n",
       "</div>"
      ],
      "text/plain": [
       "   subject_id   hadm_id   stay_id            charttime  creat_low_past_7day  \\\n",
       "0    10002155  23822395  33685454  2129-08-05 05:01:00                  0.9   \n",
       "1    10002155  23822395  33685454  2129-08-06 06:05:00                  0.9   \n",
       "2    13774492  21066890  30073242  2125-05-20 03:01:00                  0.3   \n",
       "3    13774492  21066890  30073242  2125-05-21 04:36:00                  0.3   \n",
       "4    13774492  21066890  30073242  2125-05-19 05:46:00                  0.3   \n",
       "\n",
       "   creat_low_past_48hr  creat  aki_stage_creat  uo_rt_6hr  uo_rt_12hr  ...  \\\n",
       "0                  0.9    1.2                1        NaN         NaN  ...   \n",
       "1                  0.9    1.2                1        NaN         NaN  ...   \n",
       "2                  0.3    0.5                1        NaN         NaN  ...   \n",
       "3                  0.5    0.5                1        NaN         NaN  ...   \n",
       "4                  0.3    0.5                1        NaN         NaN  ...   \n",
       "\n",
       "             edouttime  hospital_expire_flag  gender anchor_age anchor_year  \\\n",
       "0  2129-08-04 12:35:00                     0       F         80        2128   \n",
       "1  2129-08-04 12:35:00                     0       F         80        2128   \n",
       "2  2125-05-10 10:01:00                     0       F         57        2123   \n",
       "3  2125-05-10 10:01:00                     0       F         57        2123   \n",
       "4  2125-05-10 10:01:00                     0       F         57        2123   \n",
       "\n",
       "  anchor_year_group         dod creat_24 urine_24  \\\n",
       "0       2008 - 2010  2131-03-10        1        1   \n",
       "1       2008 - 2010  2131-03-10        1        1   \n",
       "2       2014 - 2016         NaN        1        1   \n",
       "3       2014 - 2016         NaN        1        1   \n",
       "4       2014 - 2016         NaN        1        1   \n",
       "\n",
       "                                     first_careunit  \n",
       "0                          Coronary Care Unit (CCU)  \n",
       "1                          Coronary Care Unit (CCU)  \n",
       "2  Medical/Surgical Intensive Care Unit (MICU/SICU)  \n",
       "3  Medical/Surgical Intensive Care Unit (MICU/SICU)  \n",
       "4  Medical/Surgical Intensive Care Unit (MICU/SICU)  \n",
       "\n",
       "[5 rows x 34 columns]"
      ]
     },
     "execution_count": 188,
     "metadata": {},
     "output_type": "execute_result"
    }
   ],
   "source": [
    "patients.head()"
   ]
  },
  {
   "cell_type": "code",
   "execution_count": 131,
   "id": "d3a6e000",
   "metadata": {},
   "outputs": [],
   "source": [
    "icd9codes = wr.athena.read_sql_query(\"SELECT * from diagnoses_icd\", database=\"mimiciv\")"
   ]
  },
  {
   "cell_type": "code",
   "execution_count": 132,
   "id": "b5352c95",
   "metadata": {},
   "outputs": [],
   "source": [
    "icustay= wr.athena.read_sql_query(\"SELECT * from icustays\", database=\"mimiciv\")"
   ]
  },
  {
   "cell_type": "code",
   "execution_count": 137,
   "id": "17c037e3",
   "metadata": {},
   "outputs": [],
   "source": [
    "# ADD ICU ADMISSION UNIT\n",
    "patients = patients.join(icustay[[\"first_careunit\", \"stay_id\"]].set_index(\"stay_id\"), on=['stay_id'])"
   ]
  },
  {
   "cell_type": "code",
   "execution_count": 138,
   "id": "55227003",
   "metadata": {},
   "outputs": [
    {
     "data": {
      "text/html": [
       "<div>\n",
       "<style scoped>\n",
       "    .dataframe tbody tr th:only-of-type {\n",
       "        vertical-align: middle;\n",
       "    }\n",
       "\n",
       "    .dataframe tbody tr th {\n",
       "        vertical-align: top;\n",
       "    }\n",
       "\n",
       "    .dataframe thead th {\n",
       "        text-align: right;\n",
       "    }\n",
       "</style>\n",
       "<table border=\"1\" class=\"dataframe\">\n",
       "  <thead>\n",
       "    <tr style=\"text-align: right;\">\n",
       "      <th></th>\n",
       "      <th>subject_id</th>\n",
       "      <th>hadm_id</th>\n",
       "      <th>seq_num</th>\n",
       "      <th>icd_code</th>\n",
       "      <th>icd_version</th>\n",
       "    </tr>\n",
       "  </thead>\n",
       "  <tbody>\n",
       "    <tr>\n",
       "      <th>0</th>\n",
       "      <td>10002013</td>\n",
       "      <td>23581541</td>\n",
       "      <td>17</td>\n",
       "      <td>311</td>\n",
       "      <td>9</td>\n",
       "    </tr>\n",
       "    <tr>\n",
       "      <th>1</th>\n",
       "      <td>10002013</td>\n",
       "      <td>23581541</td>\n",
       "      <td>18</td>\n",
       "      <td>30000</td>\n",
       "      <td>9</td>\n",
       "    </tr>\n",
       "    <tr>\n",
       "      <th>2</th>\n",
       "      <td>10002013</td>\n",
       "      <td>23581541</td>\n",
       "      <td>19</td>\n",
       "      <td>412</td>\n",
       "      <td>9</td>\n",
       "    </tr>\n",
       "    <tr>\n",
       "      <th>3</th>\n",
       "      <td>10002013</td>\n",
       "      <td>23581541</td>\n",
       "      <td>20</td>\n",
       "      <td>V4582</td>\n",
       "      <td>9</td>\n",
       "    </tr>\n",
       "    <tr>\n",
       "      <th>4</th>\n",
       "      <td>10002013</td>\n",
       "      <td>23581541</td>\n",
       "      <td>21</td>\n",
       "      <td>V1582</td>\n",
       "      <td>9</td>\n",
       "    </tr>\n",
       "  </tbody>\n",
       "</table>\n",
       "</div>"
      ],
      "text/plain": [
       "   subject_id   hadm_id  seq_num icd_code  icd_version\n",
       "0    10002013  23581541       17      311            9\n",
       "1    10002013  23581541       18    30000            9\n",
       "2    10002013  23581541       19      412            9\n",
       "3    10002013  23581541       20    V4582            9\n",
       "4    10002013  23581541       21    V1582            9"
      ]
     },
     "execution_count": 138,
     "metadata": {},
     "output_type": "execute_result"
    }
   ],
   "source": [
    "icd9codes.head(5)"
   ]
  },
  {
   "cell_type": "code",
   "execution_count": 139,
   "id": "7f2bc23b",
   "metadata": {},
   "outputs": [
    {
     "data": {
      "text/plain": [
       "Index(['subject_id', 'hadm_id', 'stay_id', 'first_careunit', 'last_careunit',\n",
       "       'intime', 'outtime', 'los'],\n",
       "      dtype='object')"
      ]
     },
     "execution_count": 139,
     "metadata": {},
     "output_type": "execute_result"
    }
   ],
   "source": [
    "# add comorbidities per stay = \"stay_id\"\n",
    "icustay.columns"
   ]
  },
  {
   "cell_type": "code",
   "execution_count": 140,
   "id": "a9859d82",
   "metadata": {},
   "outputs": [
    {
     "name": "stdout",
     "output_type": "stream",
     "text": [
      "rows before adding icustay id: 5006884\n",
      "n° subjects: 190179\n",
      "rows after adding icustay id 5182587\n",
      "n° subjects 190179\n"
     ]
    }
   ],
   "source": [
    "# merge with icustays\n",
    "print(\"rows before adding icustay id: %s\"%icd9codes.shape[0])\n",
    "print(\"n° subjects: %s\"%icd9codes.subject_id.nunique())\n",
    "\n",
    "icd9codes_1 = icd9codes.join(icustay[['subject_id','hadm_id',\"stay_id\"]].set_index(['subject_id','hadm_id']), on=['subject_id','hadm_id'])\n",
    "\n",
    "print(\"rows after adding icustay id %s\"%icd9codes_1.shape[0])\n",
    "print(\"n° subjects %s\"%icd9codes_1.subject_id.nunique())\n"
   ]
  },
  {
   "cell_type": "code",
   "execution_count": 142,
   "id": "22a8c718",
   "metadata": {
    "scrolled": true
   },
   "outputs": [],
   "source": [
    "# FILTER POPULATIONS taking only those who are in the aki choort\n",
    "icd9codes_1=icd9codes_1[icd9codes_1.stay_id.isin(patients.stay_id.unique().tolist())]\n"
   ]
  },
  {
   "cell_type": "code",
   "execution_count": 143,
   "id": "5448d143",
   "metadata": {},
   "outputs": [
    {
     "name": "stdout",
     "output_type": "stream",
     "text": [
      "n° subjects after filtering population for the ones in AKI choort 12232\n"
     ]
    }
   ],
   "source": [
    "print(\"n° subjects after filtering population for the ones in AKI choort %s\"%icd9codes_1.subject_id.nunique())"
   ]
  },
  {
   "cell_type": "code",
   "execution_count": 144,
   "id": "74a3e13b",
   "metadata": {},
   "outputs": [
    {
     "name": "stdout",
     "output_type": "stream",
     "text": [
      "n° subjects 12232\n",
      "n° stays 13354\n"
     ]
    }
   ],
   "source": [
    "print(\"n° subjects %s\"%icd9codes_1.subject_id.nunique())\n",
    "print(\"n° stays %s\"%icd9codes_1.stay_id.nunique())\n"
   ]
  },
  {
   "cell_type": "code",
   "execution_count": 145,
   "id": "f327c3ad",
   "metadata": {},
   "outputs": [
    {
     "data": {
      "text/plain": [
       "9     174167\n",
       "10    103938\n",
       "Name: icd_version, dtype: Int64"
      ]
     },
     "execution_count": 145,
     "metadata": {},
     "output_type": "execute_result"
    }
   ],
   "source": [
    "# extract comorbidities \n",
    "icd9codes_1.icd_version.value_counts()"
   ]
  },
  {
   "cell_type": "code",
   "execution_count": 146,
   "id": "60f457f2",
   "metadata": {},
   "outputs": [
    {
     "data": {
      "text/html": [
       "<div>\n",
       "<style scoped>\n",
       "    .dataframe tbody tr th:only-of-type {\n",
       "        vertical-align: middle;\n",
       "    }\n",
       "\n",
       "    .dataframe tbody tr th {\n",
       "        vertical-align: top;\n",
       "    }\n",
       "\n",
       "    .dataframe thead th {\n",
       "        text-align: right;\n",
       "    }\n",
       "</style>\n",
       "<table border=\"1\" class=\"dataframe\">\n",
       "  <thead>\n",
       "    <tr style=\"text-align: right;\">\n",
       "      <th></th>\n",
       "      <th>subject_id</th>\n",
       "      <th>hadm_id</th>\n",
       "      <th>seq_num</th>\n",
       "      <th>icd_code</th>\n",
       "      <th>icd_version</th>\n",
       "      <th>stay_id</th>\n",
       "    </tr>\n",
       "  </thead>\n",
       "  <tbody>\n",
       "    <tr>\n",
       "      <th>193</th>\n",
       "      <td>10002155</td>\n",
       "      <td>23822395</td>\n",
       "      <td>1</td>\n",
       "      <td>41011</td>\n",
       "      <td>9</td>\n",
       "      <td>33685454</td>\n",
       "    </tr>\n",
       "    <tr>\n",
       "      <th>2974558</th>\n",
       "      <td>18227591</td>\n",
       "      <td>29010365</td>\n",
       "      <td>11</td>\n",
       "      <td>1974</td>\n",
       "      <td>9</td>\n",
       "      <td>31443543</td>\n",
       "    </tr>\n",
       "    <tr>\n",
       "      <th>2974558</th>\n",
       "      <td>18227591</td>\n",
       "      <td>29010365</td>\n",
       "      <td>11</td>\n",
       "      <td>1974</td>\n",
       "      <td>9</td>\n",
       "      <td>35277072</td>\n",
       "    </tr>\n",
       "    <tr>\n",
       "      <th>2974559</th>\n",
       "      <td>18227591</td>\n",
       "      <td>29010365</td>\n",
       "      <td>12</td>\n",
       "      <td>5373</td>\n",
       "      <td>9</td>\n",
       "      <td>31443543</td>\n",
       "    </tr>\n",
       "    <tr>\n",
       "      <th>2974559</th>\n",
       "      <td>18227591</td>\n",
       "      <td>29010365</td>\n",
       "      <td>12</td>\n",
       "      <td>5373</td>\n",
       "      <td>9</td>\n",
       "      <td>35277072</td>\n",
       "    </tr>\n",
       "  </tbody>\n",
       "</table>\n",
       "</div>"
      ],
      "text/plain": [
       "        subject_id   hadm_id  seq_num icd_code  icd_version   stay_id\n",
       "193       10002155  23822395        1    41011            9  33685454\n",
       "2974558   18227591  29010365       11     1974            9  31443543\n",
       "2974558   18227591  29010365       11     1974            9  35277072\n",
       "2974559   18227591  29010365       12     5373            9  31443543\n",
       "2974559   18227591  29010365       12     5373            9  35277072"
      ]
     },
     "execution_count": 146,
     "metadata": {},
     "output_type": "execute_result"
    }
   ],
   "source": [
    "icd9codes_1.sort_values(by=\"icd_version\").head()"
   ]
  },
  {
   "cell_type": "code",
   "execution_count": 147,
   "id": "2e1a25bb",
   "metadata": {},
   "outputs": [
    {
     "data": {
      "text/plain": [
       "8802"
      ]
     },
     "execution_count": 147,
     "metadata": {},
     "output_type": "execute_result"
    }
   ],
   "source": [
    "icd9codes_1[icd9codes_1.icd_version==9].stay_id.nunique()"
   ]
  },
  {
   "cell_type": "code",
   "execution_count": 148,
   "id": "9ce22588",
   "metadata": {},
   "outputs": [
    {
     "data": {
      "text/plain": [
       "4552"
      ]
     },
     "execution_count": 148,
     "metadata": {},
     "output_type": "execute_result"
    }
   ],
   "source": [
    "icd9codes_1[icd9codes_1.icd_version==10].stay_id.nunique()"
   ]
  },
  {
   "cell_type": "code",
   "execution_count": 149,
   "id": "4ecb244a",
   "metadata": {},
   "outputs": [],
   "source": [
    "# DAIBETES"
   ]
  },
  {
   "cell_type": "code",
   "execution_count": 150,
   "id": "8e424a1b",
   "metadata": {},
   "outputs": [],
   "source": [
    "#icd 9\n",
    "def is_DM(row):\n",
    "    \n",
    "    if row.icd_version== 9:\n",
    "        if row.icd_code == 7751:\n",
    "            return 1 \n",
    "        if pd.to_numeric(row.icd_code, errors= \"coerce\") >= 25000 and pd.to_numeric(row.icd_code, errors= \"coerce\") <= 25033:\n",
    "            return 1      \n",
    "        if pd.to_numeric(row.icd_code, errors= \"coerce\") >= 64800 and pd.to_numeric(row.icd_code, errors= \"coerce\") <= 64804:\n",
    "            return 1\n",
    "        if pd.to_numeric(row.icd_code, errors= \"coerce\") >= 24900 and pd.to_numeric(row.icd_code, errors= \"coerce\") <= 24931:\n",
    "            return 1      \n",
    "        if pd.to_numeric(row.icd_code, errors= \"coerce\") >= 25040 and pd.to_numeric(row.icd_code, errors= \"coerce\") <= 25093:\n",
    "            return 1\n",
    "        if pd.to_numeric(row.icd_code, errors= \"coerce\") >= 24940 and pd.to_numeric(row.icd_code, errors= \"coerce\") <= 24991:\n",
    "            return 1\n",
    "        else:\n",
    "            return 0 \n",
    "        \n",
    "    if row.icd_version== 10:       \n",
    "        if row.icd_code.startswith('E08') or row.icd_code.startswith('E09') or row.icd_code.startswith('E10') or row.icd_code.startswith('E11') or row.icd_code.startswith('E12') or row.icd_code.startswith('E13'):\n",
    "            return 1      \n",
    "        else:\n",
    "            return 0 \n",
    "        \n",
    "icd9codes_1['DM']=icd9codes_1.apply (lambda row:is_DM(row), axis=1)"
   ]
  },
  {
   "cell_type": "code",
   "execution_count": 151,
   "id": "4fefc64b",
   "metadata": {},
   "outputs": [
    {
     "data": {
      "text/plain": [
       "5057"
      ]
     },
     "execution_count": 151,
     "metadata": {},
     "output_type": "execute_result"
    }
   ],
   "source": [
    "icd9codes_1[icd9codes_1['DM']==1].DM.sum()"
   ]
  },
  {
   "cell_type": "code",
   "execution_count": 152,
   "id": "bfaaff54",
   "metadata": {},
   "outputs": [
    {
     "name": "stdout",
     "output_type": "stream",
     "text": [
      "n° of stays with DM\n"
     ]
    },
    {
     "data": {
      "text/plain": [
       "4263"
      ]
     },
     "execution_count": 152,
     "metadata": {},
     "output_type": "execute_result"
    }
   ],
   "source": [
    "print(\"n° of stays with DM\")\n",
    "icd9codes_1[icd9codes_1['DM']==1].groupby(\"stay_id\").max().DM.sum()"
   ]
  },
  {
   "cell_type": "code",
   "execution_count": 153,
   "id": "bd175603",
   "metadata": {},
   "outputs": [
    {
     "data": {
      "text/plain": [
       "0.3192301932005392"
      ]
     },
     "execution_count": 153,
     "metadata": {},
     "output_type": "execute_result"
    }
   ],
   "source": [
    "icd9codes_1[icd9codes_1['DM']==1].groupby(\"stay_id\").max().DM.sum()/icd9codes_1.stay_id.nunique()"
   ]
  },
  {
   "cell_type": "code",
   "execution_count": 154,
   "id": "b7362482",
   "metadata": {},
   "outputs": [],
   "source": [
    "def is_HF(row): #heart failure\n",
    "    if row.icd_version== 9:\n",
    "        if pd.to_numeric(row.icd_code, errors= \"coerce\") == 4280 or pd.to_numeric(row.icd_code, errors= \"coerce\") == 4281 or pd.to_numeric(row.icd_code, errors= \"coerce\") == 4289 or pd.to_numeric(row.icd_code, errors= \"coerce\")==39891:\n",
    "            return 1      \n",
    "        if pd.to_numeric(row.icd_code, errors= \"coerce\") >= 42820 and pd.to_numeric(row.icd_code, errors= \"coerce\") <= 42823:\n",
    "            return 1\n",
    "        if pd.to_numeric(row.icd_code, errors= \"coerce\") >= 42830 and pd.to_numeric(row.icd_code, errors= \"coerce\") <= 42832:\n",
    "            return 1      \n",
    "        if pd.to_numeric(row.icd_code, errors= \"coerce\") >= 42840 and pd.to_numeric(row.icd_code, errors= \"coerce\") <= 42843:\n",
    "            return 1\n",
    "        else:\n",
    "            return 0 \n",
    "        \n",
    "    if row.icd_version== 10:\n",
    "        if row.icd_code.startswith('I13') or row.icd_code.startswith('I11') or row.icd_code.startswith('I25') or row.icd_code.startswith('I46') or row.icd_code.startswith('I50') or row.icd_code.startswith('I42') or row.icd_code.startswith('I43')  or row.icd_code.startswith('I44'):\n",
    "            return 1      \n",
    "        else:\n",
    "            return 0         \n",
    "        \n",
    "        \n",
    "icd9codes_1['Heart Failure']=icd9codes_1.apply (lambda row:is_HF(row), axis=1)"
   ]
  },
  {
   "cell_type": "code",
   "execution_count": 155,
   "id": "3a7b85db",
   "metadata": {},
   "outputs": [
    {
     "data": {
      "text/plain": [
       "9797"
      ]
     },
     "execution_count": 155,
     "metadata": {},
     "output_type": "execute_result"
    }
   ],
   "source": [
    "icd9codes_1[icd9codes_1['Heart Failure']==1]['Heart Failure'].sum()"
   ]
  },
  {
   "cell_type": "code",
   "execution_count": 156,
   "id": "f5040fee",
   "metadata": {},
   "outputs": [
    {
     "name": "stdout",
     "output_type": "stream",
     "text": [
      "n° of stays with Heart Failure\n"
     ]
    },
    {
     "data": {
      "text/plain": [
       "5346"
      ]
     },
     "execution_count": 156,
     "metadata": {},
     "output_type": "execute_result"
    }
   ],
   "source": [
    "print(\"n° of stays with Heart Failure\")\n",
    "icd9codes_1[icd9codes_1['Heart Failure']==1].groupby(\"stay_id\").max()['Heart Failure'].sum()"
   ]
  },
  {
   "cell_type": "code",
   "execution_count": 157,
   "id": "9f61a273",
   "metadata": {},
   "outputs": [
    {
     "data": {
      "text/plain": [
       "0.400329489291598"
      ]
     },
     "execution_count": 157,
     "metadata": {},
     "output_type": "execute_result"
    }
   ],
   "source": [
    "icd9codes_1[icd9codes_1['Heart Failure']==1].groupby(\"stay_id\").max()['Heart Failure'].sum()/icd9codes_1.stay_id.nunique()"
   ]
  },
  {
   "cell_type": "code",
   "execution_count": 173,
   "id": "810cd8ba",
   "metadata": {},
   "outputs": [],
   "source": [
    "# Hypertension -icd 9 and 10 \n",
    "def is_Hypert(row): \n",
    "    \n",
    "    l=[4010,4011,4019,4372,40200,40210,40290,40509,40519,40201,40211,40291,40310,40300,40390,40501,40511,\n",
    "       40591,40301,40311,40391,40400,40410,40490,40401,40411,40491,40402,40412,40492,40403,40413,40493]\n",
    "    \n",
    "    if row.icd_version== 9:\n",
    "\n",
    "        if pd.to_numeric(row.icd_code, errors= \"coerce\") in l:\n",
    "            return 1      \n",
    "        if pd.to_numeric(row.icd_code, errors= \"coerce\") >= 64200 and pd.to_numeric(row.icd_code, errors= \"coerce\") <= 64204:\n",
    "            return 1\n",
    "        if pd.to_numeric(row.icd_code, errors= \"coerce\") >= 64220 and pd.to_numeric(row.icd_code, errors= \"coerce\") <= 64224:\n",
    "            return 1      \n",
    "        if pd.to_numeric(row.icd_code, errors= \"coerce\") >= 64210 and pd.to_numeric(row.icd_code, errors= \"coerce\") <= 64214:\n",
    "            return 1\n",
    "        if pd.to_numeric(row.icd_code, errors= \"coerce\") >= 64270 and pd.to_numeric(row.icd_code, errors= \"coerce\") <= 64274:\n",
    "            return 1   \n",
    "        if pd.to_numeric(row.icd_code, errors= \"coerce\") >= 64290 and pd.to_numeric(row.icd_code, errors= \"coerce\") <= 64294:\n",
    "            return 1   \n",
    "        else:\n",
    "            return 0 \n",
    "        \n",
    "    if row.icd_version== 10:\n",
    "        if row.icd_code.startswith('I10') or row.icd_code.startswith('I15') or row.icd_code.startswith('I16'):\n",
    "            return 1      \n",
    "        else:\n",
    "            return 0  \n",
    "icd9codes_1['Hypertension']=icd9codes_1.apply (lambda row:is_Hypert(row), axis=1)"
   ]
  },
  {
   "cell_type": "code",
   "execution_count": 174,
   "id": "dc71d872",
   "metadata": {},
   "outputs": [
    {
     "data": {
      "text/plain": [
       "8105"
      ]
     },
     "execution_count": 174,
     "metadata": {},
     "output_type": "execute_result"
    }
   ],
   "source": [
    "icd9codes_1[icd9codes_1['Hypertension']==1]['Hypertension'].sum()"
   ]
  },
  {
   "cell_type": "code",
   "execution_count": 176,
   "id": "5f16293f",
   "metadata": {},
   "outputs": [
    {
     "name": "stdout",
     "output_type": "stream",
     "text": [
      "n° of stays with Hypertension\n"
     ]
    },
    {
     "data": {
      "text/plain": [
       "8038"
      ]
     },
     "execution_count": 176,
     "metadata": {},
     "output_type": "execute_result"
    }
   ],
   "source": [
    "print(\"n° of stays with Hypertension\")\n",
    "icd9codes_1[icd9codes_1['Hypertension']==1].groupby(\"stay_id\").max()['Hypertension'].sum()"
   ]
  },
  {
   "cell_type": "code",
   "execution_count": 177,
   "id": "417c69f0",
   "metadata": {},
   "outputs": [
    {
     "data": {
      "text/html": [
       "<div>\n",
       "<style scoped>\n",
       "    .dataframe tbody tr th:only-of-type {\n",
       "        vertical-align: middle;\n",
       "    }\n",
       "\n",
       "    .dataframe tbody tr th {\n",
       "        vertical-align: top;\n",
       "    }\n",
       "\n",
       "    .dataframe thead th {\n",
       "        text-align: right;\n",
       "    }\n",
       "</style>\n",
       "<table border=\"1\" class=\"dataframe\">\n",
       "  <thead>\n",
       "    <tr style=\"text-align: right;\">\n",
       "      <th></th>\n",
       "      <th>subject_id</th>\n",
       "      <th>hadm_id</th>\n",
       "      <th>seq_num</th>\n",
       "      <th>icd_code</th>\n",
       "      <th>icd_version</th>\n",
       "      <th>stay_id</th>\n",
       "      <th>DM</th>\n",
       "      <th>Heart Failure</th>\n",
       "      <th>Hypertension</th>\n",
       "      <th>CKD</th>\n",
       "    </tr>\n",
       "  </thead>\n",
       "  <tbody>\n",
       "  </tbody>\n",
       "</table>\n",
       "</div>"
      ],
      "text/plain": [
       "Empty DataFrame\n",
       "Columns: [subject_id, hadm_id, seq_num, icd_code, icd_version, stay_id, DM, Heart Failure, Hypertension, CKD]\n",
       "Index: []"
      ]
     },
     "execution_count": 177,
     "metadata": {},
     "output_type": "execute_result"
    }
   ],
   "source": [
    "icd9codes_1[icd9codes_1['Hypertension']==-1].head()"
   ]
  },
  {
   "cell_type": "code",
   "execution_count": 178,
   "id": "a01d7437",
   "metadata": {},
   "outputs": [
    {
     "data": {
      "text/plain": [
       "0.6019170286056612"
      ]
     },
     "execution_count": 178,
     "metadata": {},
     "output_type": "execute_result"
    }
   ],
   "source": [
    "icd9codes_1[icd9codes_1['Hypertension']==1].groupby(\"stay_id\").max()['Hypertension'].sum()/icd9codes_1.stay_id.nunique()"
   ]
  },
  {
   "cell_type": "code",
   "execution_count": 162,
   "id": "b7fe731d",
   "metadata": {},
   "outputs": [],
   "source": [
    "def is_CKD(row):\n",
    "    if row.icd_version== 9:\n",
    "        \n",
    "        if pd.to_numeric(row.icd_code, errors= \"coerce\") >= 5851 and pd.to_numeric(row.icd_code, errors= \"coerce\") <= 5856:\n",
    "            return 1     \n",
    "        if pd.to_numeric(row.icd_code, errors= \"coerce\") == 5859:\n",
    "            return 1   \n",
    "        else:\n",
    "            return 0 \n",
    "        \n",
    "    if row.icd_version== 10:\n",
    "        if row.icd_code.startswith('I12') or row.icd_code.startswith('I12') or row.icd_code.startswith('N01') or row.icd_code.startswith('N02') or row.icd_code.startswith('N03') or row.icd_code.startswith('N04') or row.icd_code.startswith('N05') or row.icd_code.startswith('N06') or row.icd_code.startswith('N07') or row.icd_code.startswith('N08') or row.icd_code.startswith('N11') or row.icd_code.startswith('N13')     or row.icd_code.startswith('N14') or row.icd_code.startswith('N15') or row.icd_code.startswith('N18') or row.icd_code.startswith('N19') or row.icd_code.startswith('N25') or row.icd_code.startswith('N26') or row.icd_code.startswith('N27') or row.icd_code.startswith('N28') or row.icd_code.startswith('N29'):\n",
    "            return 1      \n",
    "        else:\n",
    "            return 0  \n",
    "icd9codes_1['CKD']=icd9codes_1.apply (lambda row:is_CKD(row), axis=1)"
   ]
  },
  {
   "cell_type": "code",
   "execution_count": 163,
   "id": "abe474ef",
   "metadata": {
    "scrolled": true
   },
   "outputs": [
    {
     "name": "stdout",
     "output_type": "stream",
     "text": [
      "n° of stays with CKD\n",
      "2608\n"
     ]
    }
   ],
   "source": [
    "print(\"n° of stays with CKD\")\n",
    "print(icd9codes_1[icd9codes_1['CKD']==1].groupby(\"stay_id\").max()['CKD'].sum())\n"
   ]
  },
  {
   "cell_type": "code",
   "execution_count": 164,
   "id": "399de871",
   "metadata": {},
   "outputs": [
    {
     "data": {
      "text/plain": [
       "0.1952972892017373"
      ]
     },
     "execution_count": 164,
     "metadata": {},
     "output_type": "execute_result"
    }
   ],
   "source": [
    "icd9codes_1[icd9codes_1['CKD']==1].groupby(\"stay_id\").max()['CKD'].sum()/icd9codes_1.stay_id.nunique()"
   ]
  },
  {
   "cell_type": "code",
   "execution_count": 183,
   "id": "581d2a8a",
   "metadata": {},
   "outputs": [],
   "source": [
    "ckd   = icd9codes_1.groupby('stay_id')['CKD'].max().reset_index()\n",
    "dm    = icd9codes_1.groupby('stay_id')['DM'].max().reset_index()\n",
    "hyper = icd9codes_1.groupby('stay_id')['Hypertension'].max().reset_index()\n",
    "hf    = icd9codes_1.groupby('stay_id')['Heart Failure'].max().reset_index()"
   ]
  },
  {
   "cell_type": "code",
   "execution_count": 184,
   "id": "88a9939b",
   "metadata": {},
   "outputs": [
    {
     "data": {
      "text/plain": [
       "13354"
      ]
     },
     "execution_count": 184,
     "metadata": {},
     "output_type": "execute_result"
    }
   ],
   "source": [
    "total_cmor= ckd.merge(dm, on=['stay_id'])\n",
    "total_cmor.shape[0]"
   ]
  },
  {
   "cell_type": "code",
   "execution_count": 185,
   "id": "d4f7ef4b",
   "metadata": {},
   "outputs": [
    {
     "data": {
      "text/plain": [
       "13354"
      ]
     },
     "execution_count": 185,
     "metadata": {},
     "output_type": "execute_result"
    }
   ],
   "source": [
    "total_cmor= total_cmor.merge(hyper, on=['stay_id'])\n",
    "total_cmor.shape[0]"
   ]
  },
  {
   "cell_type": "code",
   "execution_count": 186,
   "id": "52ca9ea1",
   "metadata": {},
   "outputs": [
    {
     "data": {
      "text/plain": [
       "13354"
      ]
     },
     "execution_count": 186,
     "metadata": {},
     "output_type": "execute_result"
    }
   ],
   "source": [
    "total_cmor= total_cmor.merge(hf, on=['stay_id'])\n",
    "total_cmor.shape[0]"
   ]
  },
  {
   "cell_type": "code",
   "execution_count": 187,
   "id": "620225ab",
   "metadata": {},
   "outputs": [
    {
     "data": {
      "text/html": [
       "<div>\n",
       "<style scoped>\n",
       "    .dataframe tbody tr th:only-of-type {\n",
       "        vertical-align: middle;\n",
       "    }\n",
       "\n",
       "    .dataframe tbody tr th {\n",
       "        vertical-align: top;\n",
       "    }\n",
       "\n",
       "    .dataframe thead th {\n",
       "        text-align: right;\n",
       "    }\n",
       "</style>\n",
       "<table border=\"1\" class=\"dataframe\">\n",
       "  <thead>\n",
       "    <tr style=\"text-align: right;\">\n",
       "      <th></th>\n",
       "      <th>stay_id</th>\n",
       "      <th>CKD</th>\n",
       "      <th>DM</th>\n",
       "      <th>Hypertension</th>\n",
       "      <th>Heart Failure</th>\n",
       "    </tr>\n",
       "  </thead>\n",
       "  <tbody>\n",
       "    <tr>\n",
       "      <th>0</th>\n",
       "      <td>30001396</td>\n",
       "      <td>1</td>\n",
       "      <td>0</td>\n",
       "      <td>1</td>\n",
       "      <td>0</td>\n",
       "    </tr>\n",
       "    <tr>\n",
       "      <th>1</th>\n",
       "      <td>30001446</td>\n",
       "      <td>0</td>\n",
       "      <td>0</td>\n",
       "      <td>0</td>\n",
       "      <td>0</td>\n",
       "    </tr>\n",
       "    <tr>\n",
       "      <th>2</th>\n",
       "      <td>30001555</td>\n",
       "      <td>0</td>\n",
       "      <td>0</td>\n",
       "      <td>0</td>\n",
       "      <td>0</td>\n",
       "    </tr>\n",
       "    <tr>\n",
       "      <th>3</th>\n",
       "      <td>30004018</td>\n",
       "      <td>0</td>\n",
       "      <td>0</td>\n",
       "      <td>1</td>\n",
       "      <td>0</td>\n",
       "    </tr>\n",
       "    <tr>\n",
       "      <th>4</th>\n",
       "      <td>30005366</td>\n",
       "      <td>1</td>\n",
       "      <td>1</td>\n",
       "      <td>1</td>\n",
       "      <td>1</td>\n",
       "    </tr>\n",
       "    <tr>\n",
       "      <th>5</th>\n",
       "      <td>30006565</td>\n",
       "      <td>0</td>\n",
       "      <td>0</td>\n",
       "      <td>0</td>\n",
       "      <td>0</td>\n",
       "    </tr>\n",
       "    <tr>\n",
       "      <th>6</th>\n",
       "      <td>30006874</td>\n",
       "      <td>1</td>\n",
       "      <td>0</td>\n",
       "      <td>1</td>\n",
       "      <td>0</td>\n",
       "    </tr>\n",
       "    <tr>\n",
       "      <th>7</th>\n",
       "      <td>30006983</td>\n",
       "      <td>0</td>\n",
       "      <td>0</td>\n",
       "      <td>0</td>\n",
       "      <td>0</td>\n",
       "    </tr>\n",
       "    <tr>\n",
       "      <th>8</th>\n",
       "      <td>30007175</td>\n",
       "      <td>0</td>\n",
       "      <td>0</td>\n",
       "      <td>0</td>\n",
       "      <td>1</td>\n",
       "    </tr>\n",
       "    <tr>\n",
       "      <th>9</th>\n",
       "      <td>30008785</td>\n",
       "      <td>1</td>\n",
       "      <td>1</td>\n",
       "      <td>0</td>\n",
       "      <td>0</td>\n",
       "    </tr>\n",
       "    <tr>\n",
       "      <th>10</th>\n",
       "      <td>30009339</td>\n",
       "      <td>0</td>\n",
       "      <td>0</td>\n",
       "      <td>1</td>\n",
       "      <td>0</td>\n",
       "    </tr>\n",
       "    <tr>\n",
       "      <th>11</th>\n",
       "      <td>30009753</td>\n",
       "      <td>0</td>\n",
       "      <td>1</td>\n",
       "      <td>1</td>\n",
       "      <td>1</td>\n",
       "    </tr>\n",
       "    <tr>\n",
       "      <th>12</th>\n",
       "      <td>30010785</td>\n",
       "      <td>0</td>\n",
       "      <td>0</td>\n",
       "      <td>0</td>\n",
       "      <td>1</td>\n",
       "    </tr>\n",
       "    <tr>\n",
       "      <th>13</th>\n",
       "      <td>30014019</td>\n",
       "      <td>1</td>\n",
       "      <td>1</td>\n",
       "      <td>1</td>\n",
       "      <td>1</td>\n",
       "    </tr>\n",
       "    <tr>\n",
       "      <th>14</th>\n",
       "      <td>30014984</td>\n",
       "      <td>0</td>\n",
       "      <td>0</td>\n",
       "      <td>1</td>\n",
       "      <td>0</td>\n",
       "    </tr>\n",
       "    <tr>\n",
       "      <th>15</th>\n",
       "      <td>30015010</td>\n",
       "      <td>0</td>\n",
       "      <td>0</td>\n",
       "      <td>1</td>\n",
       "      <td>0</td>\n",
       "    </tr>\n",
       "    <tr>\n",
       "      <th>16</th>\n",
       "      <td>30015933</td>\n",
       "      <td>0</td>\n",
       "      <td>0</td>\n",
       "      <td>1</td>\n",
       "      <td>1</td>\n",
       "    </tr>\n",
       "    <tr>\n",
       "      <th>17</th>\n",
       "      <td>30016009</td>\n",
       "      <td>1</td>\n",
       "      <td>0</td>\n",
       "      <td>1</td>\n",
       "      <td>0</td>\n",
       "    </tr>\n",
       "    <tr>\n",
       "      <th>18</th>\n",
       "      <td>30016026</td>\n",
       "      <td>0</td>\n",
       "      <td>0</td>\n",
       "      <td>1</td>\n",
       "      <td>0</td>\n",
       "    </tr>\n",
       "    <tr>\n",
       "      <th>19</th>\n",
       "      <td>30016432</td>\n",
       "      <td>0</td>\n",
       "      <td>0</td>\n",
       "      <td>0</td>\n",
       "      <td>0</td>\n",
       "    </tr>\n",
       "    <tr>\n",
       "      <th>20</th>\n",
       "      <td>30017518</td>\n",
       "      <td>0</td>\n",
       "      <td>1</td>\n",
       "      <td>0</td>\n",
       "      <td>0</td>\n",
       "    </tr>\n",
       "    <tr>\n",
       "      <th>21</th>\n",
       "      <td>30018043</td>\n",
       "      <td>0</td>\n",
       "      <td>1</td>\n",
       "      <td>1</td>\n",
       "      <td>1</td>\n",
       "    </tr>\n",
       "    <tr>\n",
       "      <th>22</th>\n",
       "      <td>30019763</td>\n",
       "      <td>0</td>\n",
       "      <td>1</td>\n",
       "      <td>0</td>\n",
       "      <td>1</td>\n",
       "    </tr>\n",
       "    <tr>\n",
       "      <th>23</th>\n",
       "      <td>30020307</td>\n",
       "      <td>0</td>\n",
       "      <td>0</td>\n",
       "      <td>1</td>\n",
       "      <td>0</td>\n",
       "    </tr>\n",
       "    <tr>\n",
       "      <th>24</th>\n",
       "      <td>30020739</td>\n",
       "      <td>0</td>\n",
       "      <td>0</td>\n",
       "      <td>0</td>\n",
       "      <td>0</td>\n",
       "    </tr>\n",
       "    <tr>\n",
       "      <th>25</th>\n",
       "      <td>30025200</td>\n",
       "      <td>1</td>\n",
       "      <td>0</td>\n",
       "      <td>1</td>\n",
       "      <td>1</td>\n",
       "    </tr>\n",
       "    <tr>\n",
       "      <th>26</th>\n",
       "      <td>30025720</td>\n",
       "      <td>0</td>\n",
       "      <td>0</td>\n",
       "      <td>1</td>\n",
       "      <td>0</td>\n",
       "    </tr>\n",
       "    <tr>\n",
       "      <th>27</th>\n",
       "      <td>30026588</td>\n",
       "      <td>0</td>\n",
       "      <td>1</td>\n",
       "      <td>1</td>\n",
       "      <td>0</td>\n",
       "    </tr>\n",
       "    <tr>\n",
       "      <th>28</th>\n",
       "      <td>30028237</td>\n",
       "      <td>0</td>\n",
       "      <td>0</td>\n",
       "      <td>0</td>\n",
       "      <td>1</td>\n",
       "    </tr>\n",
       "    <tr>\n",
       "      <th>29</th>\n",
       "      <td>30029192</td>\n",
       "      <td>0</td>\n",
       "      <td>0</td>\n",
       "      <td>1</td>\n",
       "      <td>0</td>\n",
       "    </tr>\n",
       "  </tbody>\n",
       "</table>\n",
       "</div>"
      ],
      "text/plain": [
       "     stay_id  CKD  DM  Hypertension  Heart Failure\n",
       "0   30001396    1   0             1              0\n",
       "1   30001446    0   0             0              0\n",
       "2   30001555    0   0             0              0\n",
       "3   30004018    0   0             1              0\n",
       "4   30005366    1   1             1              1\n",
       "5   30006565    0   0             0              0\n",
       "6   30006874    1   0             1              0\n",
       "7   30006983    0   0             0              0\n",
       "8   30007175    0   0             0              1\n",
       "9   30008785    1   1             0              0\n",
       "10  30009339    0   0             1              0\n",
       "11  30009753    0   1             1              1\n",
       "12  30010785    0   0             0              1\n",
       "13  30014019    1   1             1              1\n",
       "14  30014984    0   0             1              0\n",
       "15  30015010    0   0             1              0\n",
       "16  30015933    0   0             1              1\n",
       "17  30016009    1   0             1              0\n",
       "18  30016026    0   0             1              0\n",
       "19  30016432    0   0             0              0\n",
       "20  30017518    0   1             0              0\n",
       "21  30018043    0   1             1              1\n",
       "22  30019763    0   1             0              1\n",
       "23  30020307    0   0             1              0\n",
       "24  30020739    0   0             0              0\n",
       "25  30025200    1   0             1              1\n",
       "26  30025720    0   0             1              0\n",
       "27  30026588    0   1             1              0\n",
       "28  30028237    0   0             0              1\n",
       "29  30029192    0   0             1              0"
      ]
     },
     "execution_count": 187,
     "metadata": {},
     "output_type": "execute_result"
    }
   ],
   "source": [
    "total_cmor.head(30)"
   ]
  },
  {
   "cell_type": "code",
   "execution_count": 190,
   "id": "1715bb65",
   "metadata": {},
   "outputs": [],
   "source": [
    "total_cmor.to_csv(\"/home/ec2-user/SageMaker/covariates.csv\")"
   ]
  },
  {
   "cell_type": "code",
   "execution_count": 189,
   "id": "33d5c39c",
   "metadata": {},
   "outputs": [],
   "source": [
    "patients.to_csv(\"/home/ec2-user/SageMaker/initial_cohort_no_covariates_icutypes.csv\")"
   ]
  },
  {
   "cell_type": "code",
   "execution_count": null,
   "id": "f03e455a",
   "metadata": {},
   "outputs": [],
   "source": []
  }
 ],
 "metadata": {
  "kernelspec": {
   "display_name": "hiti",
   "language": "python",
   "name": "hiti"
  },
  "language_info": {
   "codemirror_mode": {
    "name": "ipython",
    "version": 3
   },
   "file_extension": ".py",
   "mimetype": "text/x-python",
   "name": "python",
   "nbconvert_exporter": "python",
   "pygments_lexer": "ipython3",
   "version": "3.9.7"
  }
 },
 "nbformat": 4,
 "nbformat_minor": 5
}
