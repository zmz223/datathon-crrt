{
 "cells": [
  {
   "cell_type": "markdown",
   "id": "c02051c3",
   "metadata": {},
   "source": [
    "## Install Packages"
   ]
  },
  {
   "cell_type": "code",
   "execution_count": 93,
   "id": "93f577cf",
   "metadata": {},
   "outputs": [],
   "source": [
    "# !pip install awswrangler\n",
    "# !pip install tableone\n",
    "# !pip install tqdm"
   ]
  },
  {
   "cell_type": "code",
   "execution_count": 99,
   "id": "73398267",
   "metadata": {},
   "outputs": [
    {
     "name": "stderr",
     "output_type": "stream",
     "text": [
      "/home/jupyter-zaiman/.conda/envs/hiti/lib/python3.9/site-packages/google/auth/_default.py:79: UserWarning: Your application has authenticated using end user credentials from Google Cloud SDK without a quota project. You might receive a \"quota exceeded\" or \"API not enabled\" error. We recommend you rerun `gcloud auth application-default login` and make sure a quota project is added. Or you can use service accounts instead. For more information about service accounts, see https://cloud.google.com/docs/authentication/\n",
      "  warnings.warn(_CLOUD_SDK_CREDENTIALS_WARNING)\n"
     ]
    }
   ],
   "source": [
    "#Set environment variables for your notebook\n",
    "import os \n",
    "project_id = 'mimic-369422'\n",
    "os.environ['GOOGLE_CLOUD_PROJECT'] = project_id\n",
    "\n",
    "import pydata_google_auth\n",
    "credentials = pydata_google_auth.get_user_credentials(\n",
    "    ['https://www.googleapis.com/auth/bigquery'],use_local_webserver=False\n",
    ")\n",
    "\n",
    "from google.cloud import bigquery\n",
    "\n",
    "bigquery_client = bigquery.Client()#Write Query on BQ\n",
    "\n",
    "def run_query(query):\n",
    "    return pd.io.gbq.read_gbq(\n",
    "      query,\n",
    "      project_id=project_id,\n",
    "      credentials=credentials,\n",
    "      configuration={'query': {\n",
    "          'useLegacySql': False\n",
    "}})"
   ]
  },
  {
   "cell_type": "markdown",
   "id": "01b013bb",
   "metadata": {},
   "source": [
    "## Import Packages"
   ]
  },
  {
   "cell_type": "code",
   "execution_count": 18,
   "id": "f98210c5",
   "metadata": {},
   "outputs": [],
   "source": [
    "import pandas as pd\n",
    "import numpy as np\n",
    "import os\n",
    "import matplotlib.pyplot as plt\n",
    "import seaborn as sns\n",
    "from tqdm import tqdm\n",
    "from tableone import TableOne"
   ]
  },
  {
   "cell_type": "code",
   "execution_count": 19,
   "id": "497b19cd",
   "metadata": {},
   "outputs": [],
   "source": [
    "# Load cohort created in the cohort notebook.\n",
    "cohort = pd.read_csv('initial_cohort_no_covariates.csv')\n",
    "cohort_pats = cohort['subject_id'].unique()"
   ]
  },
  {
   "cell_type": "code",
   "execution_count": 20,
   "id": "32ff38fe",
   "metadata": {},
   "outputs": [
    {
     "data": {
      "text/plain": [
       "(475839, 38)"
      ]
     },
     "execution_count": 20,
     "metadata": {},
     "output_type": "execute_result"
    }
   ],
   "source": [
    "cohort.shape"
   ]
  },
  {
   "cell_type": "code",
   "execution_count": 21,
   "id": "f8915b5e",
   "metadata": {},
   "outputs": [
    {
     "data": {
      "text/html": [
       "<div>\n",
       "<style scoped>\n",
       "    .dataframe tbody tr th:only-of-type {\n",
       "        vertical-align: middle;\n",
       "    }\n",
       "\n",
       "    .dataframe tbody tr th {\n",
       "        vertical-align: top;\n",
       "    }\n",
       "\n",
       "    .dataframe thead th {\n",
       "        text-align: right;\n",
       "    }\n",
       "</style>\n",
       "<table border=\"1\" class=\"dataframe\">\n",
       "  <thead>\n",
       "    <tr style=\"text-align: right;\">\n",
       "      <th></th>\n",
       "      <th>subject_id</th>\n",
       "      <th>hadm_id</th>\n",
       "      <th>stay_id</th>\n",
       "      <th>charttime</th>\n",
       "      <th>creat_low_past_7day</th>\n",
       "      <th>creat_low_past_48hr</th>\n",
       "      <th>creat</th>\n",
       "      <th>aki_stage_creat</th>\n",
       "      <th>uo_rt_6hr</th>\n",
       "      <th>uo_rt_12hr</th>\n",
       "      <th>...</th>\n",
       "      <th>intime</th>\n",
       "      <th>outtime</th>\n",
       "      <th>los</th>\n",
       "      <th>gender</th>\n",
       "      <th>anchor_age</th>\n",
       "      <th>anchor_year</th>\n",
       "      <th>anchor_year_group</th>\n",
       "      <th>dod</th>\n",
       "      <th>creat_24</th>\n",
       "      <th>urine_24</th>\n",
       "    </tr>\n",
       "  </thead>\n",
       "  <tbody>\n",
       "    <tr>\n",
       "      <th>0</th>\n",
       "      <td>17159168</td>\n",
       "      <td>20979477</td>\n",
       "      <td>32985479</td>\n",
       "      <td>2121-01-19 17:00:00</td>\n",
       "      <td>NaN</td>\n",
       "      <td>NaN</td>\n",
       "      <td>NaN</td>\n",
       "      <td>NaN</td>\n",
       "      <td>0.4820</td>\n",
       "      <td>0.7369</td>\n",
       "      <td>...</td>\n",
       "      <td>2121-01-18 04:21:27</td>\n",
       "      <td>2121-01-22 15:44:50</td>\n",
       "      <td>4.474572</td>\n",
       "      <td>M</td>\n",
       "      <td>57.0</td>\n",
       "      <td>2121</td>\n",
       "      <td>2008 - 2010</td>\n",
       "      <td>2121-08-22</td>\n",
       "      <td>1</td>\n",
       "      <td>1</td>\n",
       "    </tr>\n",
       "    <tr>\n",
       "      <th>1</th>\n",
       "      <td>17159168</td>\n",
       "      <td>20979477</td>\n",
       "      <td>32985479</td>\n",
       "      <td>2121-01-20 13:00:00</td>\n",
       "      <td>NaN</td>\n",
       "      <td>NaN</td>\n",
       "      <td>NaN</td>\n",
       "      <td>NaN</td>\n",
       "      <td>0.4959</td>\n",
       "      <td>0.8138</td>\n",
       "      <td>...</td>\n",
       "      <td>2121-01-18 04:21:27</td>\n",
       "      <td>2121-01-22 15:44:50</td>\n",
       "      <td>4.474572</td>\n",
       "      <td>M</td>\n",
       "      <td>57.0</td>\n",
       "      <td>2121</td>\n",
       "      <td>2008 - 2010</td>\n",
       "      <td>2121-08-22</td>\n",
       "      <td>1</td>\n",
       "      <td>1</td>\n",
       "    </tr>\n",
       "    <tr>\n",
       "      <th>2</th>\n",
       "      <td>17159168</td>\n",
       "      <td>20979477</td>\n",
       "      <td>32985479</td>\n",
       "      <td>2121-01-19 23:00:00</td>\n",
       "      <td>NaN</td>\n",
       "      <td>NaN</td>\n",
       "      <td>NaN</td>\n",
       "      <td>NaN</td>\n",
       "      <td>0.4401</td>\n",
       "      <td>0.4610</td>\n",
       "      <td>...</td>\n",
       "      <td>2121-01-18 04:21:27</td>\n",
       "      <td>2121-01-22 15:44:50</td>\n",
       "      <td>4.474572</td>\n",
       "      <td>M</td>\n",
       "      <td>57.0</td>\n",
       "      <td>2121</td>\n",
       "      <td>2008 - 2010</td>\n",
       "      <td>2121-08-22</td>\n",
       "      <td>1</td>\n",
       "      <td>1</td>\n",
       "    </tr>\n",
       "    <tr>\n",
       "      <th>3</th>\n",
       "      <td>17159168</td>\n",
       "      <td>20979477</td>\n",
       "      <td>32985479</td>\n",
       "      <td>2121-01-20 20:00:00</td>\n",
       "      <td>NaN</td>\n",
       "      <td>NaN</td>\n",
       "      <td>NaN</td>\n",
       "      <td>NaN</td>\n",
       "      <td>0.4540</td>\n",
       "      <td>0.4139</td>\n",
       "      <td>...</td>\n",
       "      <td>2121-01-18 04:21:27</td>\n",
       "      <td>2121-01-22 15:44:50</td>\n",
       "      <td>4.474572</td>\n",
       "      <td>M</td>\n",
       "      <td>57.0</td>\n",
       "      <td>2121</td>\n",
       "      <td>2008 - 2010</td>\n",
       "      <td>2121-08-22</td>\n",
       "      <td>1</td>\n",
       "      <td>1</td>\n",
       "    </tr>\n",
       "    <tr>\n",
       "      <th>4</th>\n",
       "      <td>17159168</td>\n",
       "      <td>20979477</td>\n",
       "      <td>32985479</td>\n",
       "      <td>2121-01-20 23:00:00</td>\n",
       "      <td>NaN</td>\n",
       "      <td>NaN</td>\n",
       "      <td>NaN</td>\n",
       "      <td>NaN</td>\n",
       "      <td>0.5414</td>\n",
       "      <td>0.4401</td>\n",
       "      <td>...</td>\n",
       "      <td>2121-01-18 04:21:27</td>\n",
       "      <td>2121-01-22 15:44:50</td>\n",
       "      <td>4.474572</td>\n",
       "      <td>M</td>\n",
       "      <td>57.0</td>\n",
       "      <td>2121</td>\n",
       "      <td>2008 - 2010</td>\n",
       "      <td>2121-08-22</td>\n",
       "      <td>1</td>\n",
       "      <td>1</td>\n",
       "    </tr>\n",
       "  </tbody>\n",
       "</table>\n",
       "<p>5 rows × 38 columns</p>\n",
       "</div>"
      ],
      "text/plain": [
       "   subject_id   hadm_id   stay_id            charttime  creat_low_past_7day  \\\n",
       "0    17159168  20979477  32985479  2121-01-19 17:00:00                  NaN   \n",
       "1    17159168  20979477  32985479  2121-01-20 13:00:00                  NaN   \n",
       "2    17159168  20979477  32985479  2121-01-19 23:00:00                  NaN   \n",
       "3    17159168  20979477  32985479  2121-01-20 20:00:00                  NaN   \n",
       "4    17159168  20979477  32985479  2121-01-20 23:00:00                  NaN   \n",
       "\n",
       "   creat_low_past_48hr  creat  aki_stage_creat  uo_rt_6hr  uo_rt_12hr  ...  \\\n",
       "0                  NaN    NaN              NaN     0.4820      0.7369  ...   \n",
       "1                  NaN    NaN              NaN     0.4959      0.8138  ...   \n",
       "2                  NaN    NaN              NaN     0.4401      0.4610  ...   \n",
       "3                  NaN    NaN              NaN     0.4540      0.4139  ...   \n",
       "4                  NaN    NaN              NaN     0.5414      0.4401  ...   \n",
       "\n",
       "                intime              outtime       los gender anchor_age  \\\n",
       "0  2121-01-18 04:21:27  2121-01-22 15:44:50  4.474572      M       57.0   \n",
       "1  2121-01-18 04:21:27  2121-01-22 15:44:50  4.474572      M       57.0   \n",
       "2  2121-01-18 04:21:27  2121-01-22 15:44:50  4.474572      M       57.0   \n",
       "3  2121-01-18 04:21:27  2121-01-22 15:44:50  4.474572      M       57.0   \n",
       "4  2121-01-18 04:21:27  2121-01-22 15:44:50  4.474572      M       57.0   \n",
       "\n",
       "  anchor_year anchor_year_group         dod creat_24 urine_24  \n",
       "0        2121       2008 - 2010  2121-08-22        1        1  \n",
       "1        2121       2008 - 2010  2121-08-22        1        1  \n",
       "2        2121       2008 - 2010  2121-08-22        1        1  \n",
       "3        2121       2008 - 2010  2121-08-22        1        1  \n",
       "4        2121       2008 - 2010  2121-08-22        1        1  \n",
       "\n",
       "[5 rows x 38 columns]"
      ]
     },
     "execution_count": 21,
     "metadata": {},
     "output_type": "execute_result"
    }
   ],
   "source": [
    "cohort.head()"
   ]
  },
  {
   "cell_type": "code",
   "execution_count": 22,
   "id": "1faa7bf8",
   "metadata": {},
   "outputs": [
    {
     "data": {
      "text/plain": [
       "['subject_id',\n",
       " 'hadm_id',\n",
       " 'stay_id',\n",
       " 'charttime',\n",
       " 'creat_low_past_7day',\n",
       " 'creat_low_past_48hr',\n",
       " 'creat',\n",
       " 'aki_stage_creat',\n",
       " 'uo_rt_6hr',\n",
       " 'uo_rt_12hr',\n",
       " 'uo_rt_24hr',\n",
       " 'aki_stage_uo',\n",
       " 'aki_stage',\n",
       " 'admittime',\n",
       " 'dischtime',\n",
       " 'deathtime',\n",
       " 'admission_type',\n",
       " 'admission_location',\n",
       " 'discharge_location',\n",
       " 'insurance',\n",
       " 'language',\n",
       " 'marital_status',\n",
       " 'race',\n",
       " 'edregtime',\n",
       " 'edouttime',\n",
       " 'hospital_expire_flag',\n",
       " 'first_careunit',\n",
       " 'last_careunit',\n",
       " 'intime',\n",
       " 'outtime',\n",
       " 'los',\n",
       " 'gender',\n",
       " 'anchor_age',\n",
       " 'anchor_year',\n",
       " 'anchor_year_group',\n",
       " 'dod',\n",
       " 'creat_24',\n",
       " 'urine_24']"
      ]
     },
     "execution_count": 22,
     "metadata": {},
     "output_type": "execute_result"
    }
   ],
   "source": [
    "list(cohort)"
   ]
  },
  {
   "cell_type": "code",
   "execution_count": 23,
   "id": "1013bd1b",
   "metadata": {},
   "outputs": [],
   "source": [
    "cohort['charttime'] = pd.to_datetime(cohort['charttime'])\n",
    "cohort['intime'] = pd.to_datetime(cohort['intime'])\n",
    "cohort['outtime'] = pd.to_datetime(cohort['outtime'])"
   ]
  },
  {
   "cell_type": "code",
   "execution_count": 24,
   "id": "a8957304",
   "metadata": {},
   "outputs": [],
   "source": [
    "cohort_icu_48 = cohort[(cohort['charttime'] >= cohort['intime']) & (cohort['charttime'] <= (cohort['intime'] + np.timedelta64(2, 'D')))]"
   ]
  },
  {
   "cell_type": "code",
   "execution_count": 25,
   "id": "972119a0",
   "metadata": {},
   "outputs": [
    {
     "data": {
      "text/plain": [
       "(225392, 38)"
      ]
     },
     "execution_count": 25,
     "metadata": {},
     "output_type": "execute_result"
    }
   ],
   "source": [
    "cohort_icu_48.shape"
   ]
  },
  {
   "cell_type": "code",
   "execution_count": 26,
   "id": "56174c0f",
   "metadata": {},
   "outputs": [],
   "source": [
    "min_stay = cohort_icu_48.groupby('stay_id')['intime'].min()\n",
    "cohort_icu_48_first_aki = cohort_icu_48.merge(min_stay)"
   ]
  },
  {
   "cell_type": "code",
   "execution_count": 29,
   "id": "9eb5dd25",
   "metadata": {},
   "outputs": [],
   "source": [
    "labs_q = f\"\"\"SELECT * \n",
    "FROM (select l.*, d.label from `physionet-data.mimiciv_hosp.labevents` AS l\n",
    "JOIN `physionet-data.mimiciv_hosp.d_labitems` d \n",
    "ON l.itemid = d.itemid\n",
    "WHERE l.itemid\n",
    "IN (51006, 50822, 50971, 50810, 51221, 50912, 50862, 50820, 50882, 50803)) WHERE subject_id IN {str(tuple(cohort_pats))}\"\"\"\n",
    "labs = run_query(labs_q)"
   ]
  },
  {
   "cell_type": "code",
   "execution_count": 30,
   "id": "dd46c89c",
   "metadata": {},
   "outputs": [
    {
     "data": {
      "text/plain": [
       "(5116722, 16)"
      ]
     },
     "execution_count": 30,
     "metadata": {},
     "output_type": "execute_result"
    }
   ],
   "source": [
    "labs.shape"
   ]
  },
  {
   "cell_type": "code",
   "execution_count": 31,
   "id": "5fe2ca53",
   "metadata": {},
   "outputs": [],
   "source": [
    "# Drop outpatient labs with null hadm ids. \n",
    "# Iterate to avoid memory error\n",
    "cohort_icu_stay = cohort_icu_48_first_aki[['hadm_id', 'intime', 'outtime']]"
   ]
  },
  {
   "cell_type": "code",
   "execution_count": 32,
   "id": "6f73f93d",
   "metadata": {},
   "outputs": [],
   "source": [
    "labs = labs.dropna(subset=['hadm_id'])"
   ]
  },
  {
   "cell_type": "code",
   "execution_count": 33,
   "id": "b83c1ea1",
   "metadata": {},
   "outputs": [],
   "source": [
    "labs_merged = labs.merge(cohort_icu_48_first_aki, on=['hadm_id', 'subject_id'])"
   ]
  },
  {
   "cell_type": "code",
   "execution_count": 34,
   "id": "3a1ed9b1",
   "metadata": {},
   "outputs": [],
   "source": [
    "labs_merged['charttime'] = pd.to_datetime(labs_merged['charttime_x'])\n",
    "labs_merged['intime'] = pd.to_datetime(labs_merged['intime'])\n",
    "labs_merged['outtime'] = pd.to_datetime(labs_merged['outtime'])"
   ]
  },
  {
   "cell_type": "code",
   "execution_count": 35,
   "id": "96693367",
   "metadata": {},
   "outputs": [],
   "source": [
    "labs_filt = labs_merged[(labs_merged['charttime'] >= labs_merged['intime']) & (labs_merged['charttime'] <= labs_merged['outtime'])]"
   ]
  },
  {
   "cell_type": "code",
   "execution_count": 52,
   "id": "e3378869",
   "metadata": {},
   "outputs": [
    {
     "data": {
      "text/plain": [
       "(16086252, 53)"
      ]
     },
     "execution_count": 52,
     "metadata": {},
     "output_type": "execute_result"
    }
   ],
   "source": [
    "labs_filt.shape"
   ]
  },
  {
   "cell_type": "code",
   "execution_count": 53,
   "id": "d55ad52c",
   "metadata": {},
   "outputs": [
    {
     "data": {
      "text/plain": [
       "['labevent_id',\n",
       " 'subject_id',\n",
       " 'hadm_id',\n",
       " 'specimen_id',\n",
       " 'itemid',\n",
       " 'charttime_x',\n",
       " 'storetime',\n",
       " 'value',\n",
       " 'valuenum',\n",
       " 'valueuom',\n",
       " 'ref_range_lower',\n",
       " 'ref_range_upper',\n",
       " 'flag',\n",
       " 'priority',\n",
       " 'comments',\n",
       " 'label',\n",
       " 'stay_id',\n",
       " 'charttime_y',\n",
       " 'creat_low_past_7day',\n",
       " 'creat_low_past_48hr',\n",
       " 'creat',\n",
       " 'aki_stage_creat',\n",
       " 'uo_rt_6hr',\n",
       " 'uo_rt_12hr',\n",
       " 'uo_rt_24hr',\n",
       " 'aki_stage_uo',\n",
       " 'aki_stage',\n",
       " 'admittime',\n",
       " 'dischtime',\n",
       " 'deathtime',\n",
       " 'admission_type',\n",
       " 'admission_location',\n",
       " 'discharge_location',\n",
       " 'insurance',\n",
       " 'language',\n",
       " 'marital_status',\n",
       " 'race',\n",
       " 'edregtime',\n",
       " 'edouttime',\n",
       " 'hospital_expire_flag',\n",
       " 'first_careunit',\n",
       " 'last_careunit',\n",
       " 'intime',\n",
       " 'outtime',\n",
       " 'los',\n",
       " 'gender',\n",
       " 'anchor_age',\n",
       " 'anchor_year',\n",
       " 'anchor_year_group',\n",
       " 'dod',\n",
       " 'creat_24',\n",
       " 'urine_24',\n",
       " 'charttime']"
      ]
     },
     "execution_count": 53,
     "metadata": {},
     "output_type": "execute_result"
    }
   ],
   "source": [
    "list(labs_merged)"
   ]
  },
  {
   "cell_type": "code",
   "execution_count": 54,
   "id": "28df2933",
   "metadata": {},
   "outputs": [],
   "source": [
    "lab_description = pd.pivot_table(labs, values=['valuenum'], index=['hadm_id'], columns=['label'], aggfunc=[np.nanmin, np.nanmax])"
   ]
  },
  {
   "cell_type": "code",
   "execution_count": 55,
   "id": "58ba7886",
   "metadata": {},
   "outputs": [],
   "source": [
    "lab_description = lab_description.reset_index()"
   ]
  },
  {
   "cell_type": "code",
   "execution_count": 56,
   "id": "cfbc00a5",
   "metadata": {},
   "outputs": [],
   "source": [
    "cols = [\"_\".join(x) for x in list(lab_description)]\n",
    "cols[0] = 'hadm_id'\n",
    "lab_description.columns = cols"
   ]
  },
  {
   "cell_type": "code",
   "execution_count": 57,
   "id": "8ba40b4e",
   "metadata": {},
   "outputs": [],
   "source": [
    "cohort_icu_labs = cohort_icu_48_first_aki.merge(lab_description, on='hadm_id')"
   ]
  },
  {
   "cell_type": "code",
   "execution_count": 58,
   "id": "ce22a672",
   "metadata": {},
   "outputs": [
    {
     "data": {
      "text/html": [
       "<div>\n",
       "<style scoped>\n",
       "    .dataframe tbody tr th:only-of-type {\n",
       "        vertical-align: middle;\n",
       "    }\n",
       "\n",
       "    .dataframe tbody tr th {\n",
       "        vertical-align: top;\n",
       "    }\n",
       "\n",
       "    .dataframe thead th {\n",
       "        text-align: right;\n",
       "    }\n",
       "</style>\n",
       "<table border=\"1\" class=\"dataframe\">\n",
       "  <thead>\n",
       "    <tr style=\"text-align: right;\">\n",
       "      <th></th>\n",
       "      <th>subject_id</th>\n",
       "      <th>hadm_id</th>\n",
       "      <th>stay_id</th>\n",
       "      <th>charttime</th>\n",
       "      <th>creat_low_past_7day</th>\n",
       "      <th>creat_low_past_48hr</th>\n",
       "      <th>creat</th>\n",
       "      <th>aki_stage_creat</th>\n",
       "      <th>uo_rt_6hr</th>\n",
       "      <th>uo_rt_12hr</th>\n",
       "      <th>...</th>\n",
       "      <th>nanmax_valuenum_Albumin</th>\n",
       "      <th>nanmax_valuenum_Bicarbonate</th>\n",
       "      <th>nanmax_valuenum_Calculated Bicarbonate, Whole Blood</th>\n",
       "      <th>nanmax_valuenum_Creatinine</th>\n",
       "      <th>nanmax_valuenum_Hematocrit</th>\n",
       "      <th>nanmax_valuenum_Hematocrit, Calculated</th>\n",
       "      <th>nanmax_valuenum_Potassium</th>\n",
       "      <th>nanmax_valuenum_Potassium, Whole Blood</th>\n",
       "      <th>nanmax_valuenum_Urea Nitrogen</th>\n",
       "      <th>nanmax_valuenum_pH</th>\n",
       "    </tr>\n",
       "  </thead>\n",
       "  <tbody>\n",
       "    <tr>\n",
       "      <th>0</th>\n",
       "      <td>17159168</td>\n",
       "      <td>20979477</td>\n",
       "      <td>32985479</td>\n",
       "      <td>2121-01-19 17:00:00</td>\n",
       "      <td>NaN</td>\n",
       "      <td>NaN</td>\n",
       "      <td>NaN</td>\n",
       "      <td>NaN</td>\n",
       "      <td>0.4820</td>\n",
       "      <td>0.7369</td>\n",
       "      <td>...</td>\n",
       "      <td>2.4</td>\n",
       "      <td>34.0</td>\n",
       "      <td>NaN</td>\n",
       "      <td>2.0</td>\n",
       "      <td>30.1</td>\n",
       "      <td>29.0</td>\n",
       "      <td>5.3</td>\n",
       "      <td>4.4</td>\n",
       "      <td>72.0</td>\n",
       "      <td>7.47</td>\n",
       "    </tr>\n",
       "    <tr>\n",
       "      <th>1</th>\n",
       "      <td>17159168</td>\n",
       "      <td>20979477</td>\n",
       "      <td>32985479</td>\n",
       "      <td>2121-01-19 23:00:00</td>\n",
       "      <td>NaN</td>\n",
       "      <td>NaN</td>\n",
       "      <td>NaN</td>\n",
       "      <td>NaN</td>\n",
       "      <td>0.4401</td>\n",
       "      <td>0.4610</td>\n",
       "      <td>...</td>\n",
       "      <td>2.4</td>\n",
       "      <td>34.0</td>\n",
       "      <td>NaN</td>\n",
       "      <td>2.0</td>\n",
       "      <td>30.1</td>\n",
       "      <td>29.0</td>\n",
       "      <td>5.3</td>\n",
       "      <td>4.4</td>\n",
       "      <td>72.0</td>\n",
       "      <td>7.47</td>\n",
       "    </tr>\n",
       "    <tr>\n",
       "      <th>2</th>\n",
       "      <td>17159168</td>\n",
       "      <td>20979477</td>\n",
       "      <td>32985479</td>\n",
       "      <td>2121-01-19 20:00:00</td>\n",
       "      <td>NaN</td>\n",
       "      <td>NaN</td>\n",
       "      <td>NaN</td>\n",
       "      <td>NaN</td>\n",
       "      <td>0.4610</td>\n",
       "      <td>0.5728</td>\n",
       "      <td>...</td>\n",
       "      <td>2.4</td>\n",
       "      <td>34.0</td>\n",
       "      <td>NaN</td>\n",
       "      <td>2.0</td>\n",
       "      <td>30.1</td>\n",
       "      <td>29.0</td>\n",
       "      <td>5.3</td>\n",
       "      <td>4.4</td>\n",
       "      <td>72.0</td>\n",
       "      <td>7.47</td>\n",
       "    </tr>\n",
       "    <tr>\n",
       "      <th>3</th>\n",
       "      <td>17159168</td>\n",
       "      <td>20979477</td>\n",
       "      <td>32985479</td>\n",
       "      <td>2121-01-19 18:00:00</td>\n",
       "      <td>NaN</td>\n",
       "      <td>NaN</td>\n",
       "      <td>NaN</td>\n",
       "      <td>NaN</td>\n",
       "      <td>0.4401</td>\n",
       "      <td>0.6601</td>\n",
       "      <td>...</td>\n",
       "      <td>2.4</td>\n",
       "      <td>34.0</td>\n",
       "      <td>NaN</td>\n",
       "      <td>2.0</td>\n",
       "      <td>30.1</td>\n",
       "      <td>29.0</td>\n",
       "      <td>5.3</td>\n",
       "      <td>4.4</td>\n",
       "      <td>72.0</td>\n",
       "      <td>7.47</td>\n",
       "    </tr>\n",
       "    <tr>\n",
       "      <th>4</th>\n",
       "      <td>17159168</td>\n",
       "      <td>20979477</td>\n",
       "      <td>32985479</td>\n",
       "      <td>2121-01-18 12:00:00</td>\n",
       "      <td>NaN</td>\n",
       "      <td>NaN</td>\n",
       "      <td>NaN</td>\n",
       "      <td>NaN</td>\n",
       "      <td>0.4890</td>\n",
       "      <td>0.5508</td>\n",
       "      <td>...</td>\n",
       "      <td>2.4</td>\n",
       "      <td>34.0</td>\n",
       "      <td>NaN</td>\n",
       "      <td>2.0</td>\n",
       "      <td>30.1</td>\n",
       "      <td>29.0</td>\n",
       "      <td>5.3</td>\n",
       "      <td>4.4</td>\n",
       "      <td>72.0</td>\n",
       "      <td>7.47</td>\n",
       "    </tr>\n",
       "  </tbody>\n",
       "</table>\n",
       "<p>5 rows × 58 columns</p>\n",
       "</div>"
      ],
      "text/plain": [
       "   subject_id   hadm_id   stay_id           charttime  creat_low_past_7day  \\\n",
       "0    17159168  20979477  32985479 2121-01-19 17:00:00                  NaN   \n",
       "1    17159168  20979477  32985479 2121-01-19 23:00:00                  NaN   \n",
       "2    17159168  20979477  32985479 2121-01-19 20:00:00                  NaN   \n",
       "3    17159168  20979477  32985479 2121-01-19 18:00:00                  NaN   \n",
       "4    17159168  20979477  32985479 2121-01-18 12:00:00                  NaN   \n",
       "\n",
       "   creat_low_past_48hr  creat  aki_stage_creat  uo_rt_6hr  uo_rt_12hr  ...  \\\n",
       "0                  NaN    NaN              NaN     0.4820      0.7369  ...   \n",
       "1                  NaN    NaN              NaN     0.4401      0.4610  ...   \n",
       "2                  NaN    NaN              NaN     0.4610      0.5728  ...   \n",
       "3                  NaN    NaN              NaN     0.4401      0.6601  ...   \n",
       "4                  NaN    NaN              NaN     0.4890      0.5508  ...   \n",
       "\n",
       "   nanmax_valuenum_Albumin  nanmax_valuenum_Bicarbonate  \\\n",
       "0                      2.4                         34.0   \n",
       "1                      2.4                         34.0   \n",
       "2                      2.4                         34.0   \n",
       "3                      2.4                         34.0   \n",
       "4                      2.4                         34.0   \n",
       "\n",
       "   nanmax_valuenum_Calculated Bicarbonate, Whole Blood  \\\n",
       "0                                                NaN     \n",
       "1                                                NaN     \n",
       "2                                                NaN     \n",
       "3                                                NaN     \n",
       "4                                                NaN     \n",
       "\n",
       "  nanmax_valuenum_Creatinine nanmax_valuenum_Hematocrit  \\\n",
       "0                        2.0                       30.1   \n",
       "1                        2.0                       30.1   \n",
       "2                        2.0                       30.1   \n",
       "3                        2.0                       30.1   \n",
       "4                        2.0                       30.1   \n",
       "\n",
       "  nanmax_valuenum_Hematocrit, Calculated nanmax_valuenum_Potassium  \\\n",
       "0                                   29.0                       5.3   \n",
       "1                                   29.0                       5.3   \n",
       "2                                   29.0                       5.3   \n",
       "3                                   29.0                       5.3   \n",
       "4                                   29.0                       5.3   \n",
       "\n",
       "  nanmax_valuenum_Potassium, Whole Blood nanmax_valuenum_Urea Nitrogen  \\\n",
       "0                                    4.4                          72.0   \n",
       "1                                    4.4                          72.0   \n",
       "2                                    4.4                          72.0   \n",
       "3                                    4.4                          72.0   \n",
       "4                                    4.4                          72.0   \n",
       "\n",
       "  nanmax_valuenum_pH  \n",
       "0               7.47  \n",
       "1               7.47  \n",
       "2               7.47  \n",
       "3               7.47  \n",
       "4               7.47  \n",
       "\n",
       "[5 rows x 58 columns]"
      ]
     },
     "execution_count": 58,
     "metadata": {},
     "output_type": "execute_result"
    }
   ],
   "source": [
    "cohort_icu_labs.head()"
   ]
  },
  {
   "cell_type": "code",
   "execution_count": 59,
   "id": "4955617e",
   "metadata": {},
   "outputs": [
    {
     "data": {
      "text/plain": [
       "(225340, 58)"
      ]
     },
     "execution_count": 59,
     "metadata": {},
     "output_type": "execute_result"
    }
   ],
   "source": [
    "cohort_icu_labs.shape"
   ]
  },
  {
   "cell_type": "code",
   "execution_count": 60,
   "id": "c2eaee54",
   "metadata": {},
   "outputs": [],
   "source": [
    "sofa = run_query(\"\"\"SELECT * FROM `physionet-data.mimiciv_derived.sofa`\"\"\")\n",
    "antib = run_query(\n",
    "    \"\"\"SELECT a.stay_id, a.starttime, a.route, a.antibiotic FROM `physionet-data.mimiciv_derived.antibiotic` as a\n",
    "where a.antibiotic like \"Vancomycin\" or a.antibiotic like \"Gentamicin\" or a.antibiotic like \"Vancocin\" or a.antibiotic like \"Gentamicin (Bulk)\" or a.antibiotic like 'NEO*IV*Gentamicin' or a.antibiotic like 'NEO*IV*Vancomycin' or a.antibiotic like 'Gentamicin Sulfate'\n",
    "\"\"\")\n",
    "sepsis = run_query(\"\"\"SELECT * FROM `physionet-data.mimiciv_derived.sepsis3`\"\"\")"
   ]
  },
  {
   "cell_type": "code",
   "execution_count": 61,
   "id": "4d7a49ee",
   "metadata": {},
   "outputs": [],
   "source": [
    "cohort_sepsis = cohort_icu_labs.merge(sepsis, on='stay_id', how='left')"
   ]
  },
  {
   "cell_type": "code",
   "execution_count": 62,
   "id": "f0d675f2",
   "metadata": {},
   "outputs": [
    {
     "data": {
      "text/plain": [
       "True    150389\n",
       "<NA>     74951\n",
       "Name: sepsis3, dtype: Int64"
      ]
     },
     "execution_count": 62,
     "metadata": {},
     "output_type": "execute_result"
    }
   ],
   "source": [
    "cohort_sepsis['sepsis3'].value_counts(dropna=False)"
   ]
  },
  {
   "cell_type": "code",
   "execution_count": 63,
   "id": "c158e565",
   "metadata": {},
   "outputs": [],
   "source": [
    "cohort_sepsis['sepsis3'].fillna(False, inplace=True)"
   ]
  },
  {
   "cell_type": "code",
   "execution_count": 64,
   "id": "5cc47946",
   "metadata": {},
   "outputs": [
    {
     "data": {
      "text/plain": [
       "(225340, 71)"
      ]
     },
     "execution_count": 64,
     "metadata": {},
     "output_type": "execute_result"
    }
   ],
   "source": [
    "cohort_sepsis.shape"
   ]
  },
  {
   "cell_type": "code",
   "execution_count": 65,
   "id": "f9943089",
   "metadata": {},
   "outputs": [],
   "source": [
    "sofa_48 = sofa[sofa['hr'] <= 48]"
   ]
  },
  {
   "cell_type": "code",
   "execution_count": 66,
   "id": "9a73aab4",
   "metadata": {},
   "outputs": [],
   "source": [
    "sofa_48_min = dict(sofa_48.groupby(by='stay_id')['hr'].min())"
   ]
  },
  {
   "cell_type": "code",
   "execution_count": 67,
   "id": "0779c061",
   "metadata": {},
   "outputs": [],
   "source": [
    "sofa['min_hour'] = sofa['stay_id'].map(sofa_48_min)"
   ]
  },
  {
   "cell_type": "code",
   "execution_count": 68,
   "id": "032c07ff",
   "metadata": {},
   "outputs": [],
   "source": [
    "sofa = sofa[sofa['min_hour'] == sofa['hr']]"
   ]
  },
  {
   "cell_type": "code",
   "execution_count": 69,
   "id": "e289de36",
   "metadata": {},
   "outputs": [
    {
     "data": {
      "text/plain": [
       "(76922, 30)"
      ]
     },
     "execution_count": 69,
     "metadata": {},
     "output_type": "execute_result"
    }
   ],
   "source": [
    "sofa.shape"
   ]
  },
  {
   "cell_type": "code",
   "execution_count": 70,
   "id": "b7285954",
   "metadata": {},
   "outputs": [],
   "source": [
    "cohort_sofa = cohort_sepsis.merge(sofa, on='stay_id', how='left')"
   ]
  },
  {
   "cell_type": "code",
   "execution_count": 71,
   "id": "4f6ce55e",
   "metadata": {},
   "outputs": [
    {
     "data": {
      "text/plain": [
       "(225340, 100)"
      ]
     },
     "execution_count": 71,
     "metadata": {},
     "output_type": "execute_result"
    }
   ],
   "source": [
    "cohort_sofa.shape"
   ]
  },
  {
   "cell_type": "code",
   "execution_count": 72,
   "id": "1ccfbab0",
   "metadata": {},
   "outputs": [
    {
     "data": {
      "text/plain": [
       "subject_id_x               23639\n",
       "hadm_id                    23639\n",
       "stay_id                    23639\n",
       "charttime                 202968\n",
       "creat_low_past_7day          134\n",
       "                           ...  \n",
       "cardiovascular_24hours         5\n",
       "cns_24hours                    5\n",
       "renal_24hours                  5\n",
       "sofa_24hours                  17\n",
       "min_hour                       1\n",
       "Length: 100, dtype: int64"
      ]
     },
     "execution_count": 72,
     "metadata": {},
     "output_type": "execute_result"
    }
   ],
   "source": [
    "cohort_sofa.nunique()"
   ]
  },
  {
   "cell_type": "code",
   "execution_count": 73,
   "id": "69269c99",
   "metadata": {},
   "outputs": [
    {
     "data": {
      "text/html": [
       "<div>\n",
       "<style scoped>\n",
       "    .dataframe tbody tr th:only-of-type {\n",
       "        vertical-align: middle;\n",
       "    }\n",
       "\n",
       "    .dataframe tbody tr th {\n",
       "        vertical-align: top;\n",
       "    }\n",
       "\n",
       "    .dataframe thead th {\n",
       "        text-align: right;\n",
       "    }\n",
       "</style>\n",
       "<table border=\"1\" class=\"dataframe\">\n",
       "  <thead>\n",
       "    <tr style=\"text-align: right;\">\n",
       "      <th></th>\n",
       "      <th>stay_id</th>\n",
       "      <th>starttime</th>\n",
       "      <th>route</th>\n",
       "      <th>antibiotic</th>\n",
       "    </tr>\n",
       "  </thead>\n",
       "  <tbody>\n",
       "    <tr>\n",
       "      <th>0</th>\n",
       "      <td>&lt;NA&gt;</td>\n",
       "      <td>2137-08-28 20:00:00</td>\n",
       "      <td>ORAL</td>\n",
       "      <td>Vancocin</td>\n",
       "    </tr>\n",
       "    <tr>\n",
       "      <th>1</th>\n",
       "      <td>&lt;NA&gt;</td>\n",
       "      <td>2151-10-18 17:00:00</td>\n",
       "      <td>ORAL</td>\n",
       "      <td>Vancocin</td>\n",
       "    </tr>\n",
       "    <tr>\n",
       "      <th>2</th>\n",
       "      <td>&lt;NA&gt;</td>\n",
       "      <td>2116-07-10 18:00:00</td>\n",
       "      <td>PO</td>\n",
       "      <td>Vancocin</td>\n",
       "    </tr>\n",
       "    <tr>\n",
       "      <th>3</th>\n",
       "      <td>&lt;NA&gt;</td>\n",
       "      <td>2151-10-25 20:00:00</td>\n",
       "      <td>PO</td>\n",
       "      <td>Vancocin</td>\n",
       "    </tr>\n",
       "    <tr>\n",
       "      <th>4</th>\n",
       "      <td>&lt;NA&gt;</td>\n",
       "      <td>2147-11-23 18:00:00</td>\n",
       "      <td>ORAL</td>\n",
       "      <td>Vancocin</td>\n",
       "    </tr>\n",
       "  </tbody>\n",
       "</table>\n",
       "</div>"
      ],
      "text/plain": [
       "   stay_id           starttime route antibiotic\n",
       "0     <NA> 2137-08-28 20:00:00  ORAL   Vancocin\n",
       "1     <NA> 2151-10-18 17:00:00  ORAL   Vancocin\n",
       "2     <NA> 2116-07-10 18:00:00    PO   Vancocin\n",
       "3     <NA> 2151-10-25 20:00:00    PO   Vancocin\n",
       "4     <NA> 2147-11-23 18:00:00  ORAL   Vancocin"
      ]
     },
     "execution_count": 73,
     "metadata": {},
     "output_type": "execute_result"
    }
   ],
   "source": [
    "antib.head()"
   ]
  },
  {
   "cell_type": "code",
   "execution_count": 74,
   "id": "bf0016c5",
   "metadata": {},
   "outputs": [],
   "source": [
    "antib['antibiotic'] = 1"
   ]
  },
  {
   "cell_type": "code",
   "execution_count": 75,
   "id": "9e182dc7",
   "metadata": {},
   "outputs": [],
   "source": [
    "cohort_stay_intime = cohort_sofa[['stay_id', 'intime']]"
   ]
  },
  {
   "cell_type": "code",
   "execution_count": 76,
   "id": "8946afd2",
   "metadata": {},
   "outputs": [],
   "source": [
    "antib['starttime'] = pd.to_datetime(antib['starttime'])"
   ]
  },
  {
   "cell_type": "code",
   "execution_count": 79,
   "id": "06f065c0",
   "metadata": {},
   "outputs": [],
   "source": [
    "antib = antib.dropna(subset='stay_id')"
   ]
  },
  {
   "cell_type": "code",
   "execution_count": 80,
   "id": "722d9d90",
   "metadata": {},
   "outputs": [],
   "source": [
    "antib_intime_stayid = cohort_stay_intime.merge(antib, on='stay_id')"
   ]
  },
  {
   "cell_type": "code",
   "execution_count": 81,
   "id": "bc630660",
   "metadata": {},
   "outputs": [],
   "source": [
    "antib_intime_stayid['delta_days'] = (antib_intime_stayid['starttime'] - antib_intime_stayid['intime']) / np.timedelta64(1, 'D')"
   ]
  },
  {
   "cell_type": "code",
   "execution_count": 82,
   "id": "b4b80952",
   "metadata": {},
   "outputs": [],
   "source": [
    "antib_intime_stayid_48 = antib_intime_stayid[antib_intime_stayid['delta_days'] <= 2]"
   ]
  },
  {
   "cell_type": "code",
   "execution_count": 83,
   "id": "531866bd",
   "metadata": {},
   "outputs": [],
   "source": [
    "antib_intime_stayid_48 = antib_intime_stayid_48.drop_duplicates(subset=['stay_id'])"
   ]
  },
  {
   "cell_type": "code",
   "execution_count": 84,
   "id": "9198886e",
   "metadata": {},
   "outputs": [],
   "source": [
    "cohort_antib = cohort_sofa.merge(antib_intime_stayid_48, on='stay_id', how='left')"
   ]
  },
  {
   "cell_type": "code",
   "execution_count": 85,
   "id": "2e2e1818",
   "metadata": {},
   "outputs": [],
   "source": [
    "cohort_antib['antibiotic'].fillna(0, inplace=True)"
   ]
  },
  {
   "cell_type": "code",
   "execution_count": 86,
   "id": "202d2ad2",
   "metadata": {},
   "outputs": [
    {
     "data": {
      "text/plain": [
       "(225340, 105)"
      ]
     },
     "execution_count": 86,
     "metadata": {},
     "output_type": "execute_result"
    }
   ],
   "source": [
    "cohort_antib.shape"
   ]
  },
  {
   "cell_type": "code",
   "execution_count": 103,
   "id": "64ca9160",
   "metadata": {},
   "outputs": [],
   "source": [
    "vitals_q = \"\"\"\n",
    "SELECT * FROM `physionet-data.mimiciv_derived.vitalsign`\n",
    "\"\"\"\n",
    "vitals = run_query(vitals_q)"
   ]
  },
  {
   "cell_type": "code",
   "execution_count": 104,
   "id": "f410fca5",
   "metadata": {},
   "outputs": [
    {
     "data": {
      "text/plain": [
       "(10244724, 15)"
      ]
     },
     "execution_count": 104,
     "metadata": {},
     "output_type": "execute_result"
    }
   ],
   "source": [
    "vitals.shape"
   ]
  },
  {
   "cell_type": "code",
   "execution_count": 105,
   "id": "a7ed7017",
   "metadata": {},
   "outputs": [
    {
     "data": {
      "text/html": [
       "<div>\n",
       "<style scoped>\n",
       "    .dataframe tbody tr th:only-of-type {\n",
       "        vertical-align: middle;\n",
       "    }\n",
       "\n",
       "    .dataframe tbody tr th {\n",
       "        vertical-align: top;\n",
       "    }\n",
       "\n",
       "    .dataframe thead th {\n",
       "        text-align: right;\n",
       "    }\n",
       "</style>\n",
       "<table border=\"1\" class=\"dataframe\">\n",
       "  <thead>\n",
       "    <tr style=\"text-align: right;\">\n",
       "      <th></th>\n",
       "      <th>subject_id</th>\n",
       "      <th>stay_id</th>\n",
       "      <th>charttime</th>\n",
       "      <th>heart_rate</th>\n",
       "      <th>sbp</th>\n",
       "      <th>dbp</th>\n",
       "      <th>mbp</th>\n",
       "      <th>sbp_ni</th>\n",
       "      <th>dbp_ni</th>\n",
       "      <th>mbp_ni</th>\n",
       "      <th>resp_rate</th>\n",
       "      <th>temperature</th>\n",
       "      <th>temperature_site</th>\n",
       "      <th>spo2</th>\n",
       "      <th>glucose</th>\n",
       "    </tr>\n",
       "  </thead>\n",
       "  <tbody>\n",
       "    <tr>\n",
       "      <th>0</th>\n",
       "      <td>13470745</td>\n",
       "      <td>33125931</td>\n",
       "      <td>2118-12-26 02:00:00</td>\n",
       "      <td>95.0</td>\n",
       "      <td>136.0</td>\n",
       "      <td>51.0</td>\n",
       "      <td>76.0</td>\n",
       "      <td>NaN</td>\n",
       "      <td>NaN</td>\n",
       "      <td>NaN</td>\n",
       "      <td>29.0</td>\n",
       "      <td>NaN</td>\n",
       "      <td>None</td>\n",
       "      <td>98.0</td>\n",
       "      <td>NaN</td>\n",
       "    </tr>\n",
       "    <tr>\n",
       "      <th>1</th>\n",
       "      <td>17355488</td>\n",
       "      <td>38398763</td>\n",
       "      <td>2152-04-12 21:00:00</td>\n",
       "      <td>99.0</td>\n",
       "      <td>93.0</td>\n",
       "      <td>51.0</td>\n",
       "      <td>59.0</td>\n",
       "      <td>93.0</td>\n",
       "      <td>51.0</td>\n",
       "      <td>59.0</td>\n",
       "      <td>29.0</td>\n",
       "      <td>36.94</td>\n",
       "      <td>Oral</td>\n",
       "      <td>97.0</td>\n",
       "      <td>NaN</td>\n",
       "    </tr>\n",
       "    <tr>\n",
       "      <th>2</th>\n",
       "      <td>10361825</td>\n",
       "      <td>32232273</td>\n",
       "      <td>2112-11-07 10:00:00</td>\n",
       "      <td>86.0</td>\n",
       "      <td>84.0</td>\n",
       "      <td>51.0</td>\n",
       "      <td>58.0</td>\n",
       "      <td>84.0</td>\n",
       "      <td>51.0</td>\n",
       "      <td>58.0</td>\n",
       "      <td>29.0</td>\n",
       "      <td>NaN</td>\n",
       "      <td>None</td>\n",
       "      <td>96.0</td>\n",
       "      <td>NaN</td>\n",
       "    </tr>\n",
       "    <tr>\n",
       "      <th>3</th>\n",
       "      <td>15032392</td>\n",
       "      <td>31662749</td>\n",
       "      <td>2182-10-25 14:00:00</td>\n",
       "      <td>91.0</td>\n",
       "      <td>107.0</td>\n",
       "      <td>51.0</td>\n",
       "      <td>68.0</td>\n",
       "      <td>NaN</td>\n",
       "      <td>NaN</td>\n",
       "      <td>NaN</td>\n",
       "      <td>29.0</td>\n",
       "      <td>NaN</td>\n",
       "      <td>None</td>\n",
       "      <td>98.0</td>\n",
       "      <td>NaN</td>\n",
       "    </tr>\n",
       "    <tr>\n",
       "      <th>4</th>\n",
       "      <td>15761754</td>\n",
       "      <td>36866282</td>\n",
       "      <td>2135-05-07 10:00:00</td>\n",
       "      <td>91.0</td>\n",
       "      <td>129.0</td>\n",
       "      <td>51.0</td>\n",
       "      <td>72.0</td>\n",
       "      <td>NaN</td>\n",
       "      <td>NaN</td>\n",
       "      <td>NaN</td>\n",
       "      <td>29.0</td>\n",
       "      <td>NaN</td>\n",
       "      <td>None</td>\n",
       "      <td>95.0</td>\n",
       "      <td>144.0</td>\n",
       "    </tr>\n",
       "  </tbody>\n",
       "</table>\n",
       "</div>"
      ],
      "text/plain": [
       "   subject_id   stay_id           charttime  heart_rate    sbp   dbp   mbp  \\\n",
       "0    13470745  33125931 2118-12-26 02:00:00        95.0  136.0  51.0  76.0   \n",
       "1    17355488  38398763 2152-04-12 21:00:00        99.0   93.0  51.0  59.0   \n",
       "2    10361825  32232273 2112-11-07 10:00:00        86.0   84.0  51.0  58.0   \n",
       "3    15032392  31662749 2182-10-25 14:00:00        91.0  107.0  51.0  68.0   \n",
       "4    15761754  36866282 2135-05-07 10:00:00        91.0  129.0  51.0  72.0   \n",
       "\n",
       "   sbp_ni  dbp_ni  mbp_ni  resp_rate  temperature temperature_site  spo2  \\\n",
       "0     NaN     NaN     NaN       29.0          NaN             None  98.0   \n",
       "1    93.0    51.0    59.0       29.0        36.94             Oral  97.0   \n",
       "2    84.0    51.0    58.0       29.0          NaN             None  96.0   \n",
       "3     NaN     NaN     NaN       29.0          NaN             None  98.0   \n",
       "4     NaN     NaN     NaN       29.0          NaN             None  95.0   \n",
       "\n",
       "   glucose  \n",
       "0      NaN  \n",
       "1      NaN  \n",
       "2      NaN  \n",
       "3      NaN  \n",
       "4    144.0  "
      ]
     },
     "execution_count": 105,
     "metadata": {},
     "output_type": "execute_result"
    }
   ],
   "source": [
    "vitals.head()"
   ]
  },
  {
   "cell_type": "code",
   "execution_count": 106,
   "id": "2e802bd2",
   "metadata": {},
   "outputs": [],
   "source": [
    "agg_cols = ['heart_rate', 'mbp', 'mbp_ni', 'resp_rate', 'spo2']\n",
    "vitals_min = vitals.groupby('stay_id')[agg_cols].min().reset_index()\n",
    "vitals_min.rename(dict(zip(agg_cols, ['min_' + x for x in agg_cols])), axis=1, inplace=True)\n",
    "vitals_max = vitals.groupby('stay_id')[agg_cols].max().reset_index()\n",
    "vitals_max.rename(dict(zip(agg_cols, ['max_' + x for x in agg_cols])), axis=1, inplace=True)"
   ]
  },
  {
   "cell_type": "code",
   "execution_count": 107,
   "id": "016099f4",
   "metadata": {},
   "outputs": [],
   "source": [
    "cohort_vitals = cohort_antib.merge(vitals_min, on='stay_id', how='left')\n",
    "cohort_vitals = cohort_vitals.merge(vitals_max, on='stay_id', how='left')"
   ]
  },
  {
   "cell_type": "code",
   "execution_count": 108,
   "id": "6d6eccd3",
   "metadata": {},
   "outputs": [
    {
     "data": {
      "text/plain": [
       "subject_id_x            23639\n",
       "hadm_id                 23639\n",
       "stay_id                 23639\n",
       "charttime              202968\n",
       "creat_low_past_7day       134\n",
       "                        ...  \n",
       "max_heart_rate            185\n",
       "max_mbp                   353\n",
       "max_mbp_ni                190\n",
       "max_resp_rate              91\n",
       "max_spo2                   19\n",
       "Length: 115, dtype: int64"
      ]
     },
     "execution_count": 108,
     "metadata": {},
     "output_type": "execute_result"
    }
   ],
   "source": [
    "cohort_vitals.nunique()"
   ]
  },
  {
   "cell_type": "code",
   "execution_count": 109,
   "id": "49287689",
   "metadata": {},
   "outputs": [],
   "source": [
    "cohort_vitals = cohort_vitals.drop_duplicates()"
   ]
  },
  {
   "cell_type": "code",
   "execution_count": 110,
   "id": "5ede9493",
   "metadata": {},
   "outputs": [
    {
     "data": {
      "text/plain": [
       "(225340, 115)"
      ]
     },
     "execution_count": 110,
     "metadata": {},
     "output_type": "execute_result"
    }
   ],
   "source": [
    "cohort_vitals.shape"
   ]
  },
  {
   "cell_type": "code",
   "execution_count": 87,
   "id": "c722e00d",
   "metadata": {},
   "outputs": [],
   "source": [
    "diagnosis = pd.read_csv('covariates.csv')\n",
    "diagnosis = diagnosis.drop([x for x in list(diagnosis) if 'Unnamed' in x], axis=1)"
   ]
  },
  {
   "cell_type": "code",
   "execution_count": 111,
   "id": "473fff81",
   "metadata": {},
   "outputs": [],
   "source": [
    "cohort_diag = cohort_vitals.merge(diagnosis, on='stay_id', how='left')"
   ]
  },
  {
   "cell_type": "code",
   "execution_count": 112,
   "id": "6235683e",
   "metadata": {},
   "outputs": [
    {
     "data": {
      "text/plain": [
       "(225340, 119)"
      ]
     },
     "execution_count": 112,
     "metadata": {},
     "output_type": "execute_result"
    }
   ],
   "source": [
    "cohort_diag.shape"
   ]
  },
  {
   "cell_type": "code",
   "execution_count": 113,
   "id": "cdf7043c",
   "metadata": {},
   "outputs": [
    {
     "data": {
      "text/plain": [
       "subject_id_x            23639\n",
       "hadm_id                 23639\n",
       "stay_id                 23639\n",
       "charttime              202968\n",
       "creat_low_past_7day       134\n",
       "                        ...  \n",
       "max_spo2                   19\n",
       "CKD                         2\n",
       "DM                          2\n",
       "Hypertension                2\n",
       "Heart Failure               2\n",
       "Length: 119, dtype: int64"
      ]
     },
     "execution_count": 113,
     "metadata": {},
     "output_type": "execute_result"
    }
   ],
   "source": [
    "cohort_diag.nunique()"
   ]
  },
  {
   "cell_type": "code",
   "execution_count": 114,
   "id": "bcd6df53",
   "metadata": {},
   "outputs": [
    {
     "data": {
      "text/plain": [
       "(225340, 119)"
      ]
     },
     "execution_count": 114,
     "metadata": {},
     "output_type": "execute_result"
    }
   ],
   "source": [
    "cohort_diag.shape"
   ]
  },
  {
   "cell_type": "code",
   "execution_count": 115,
   "id": "072a1336",
   "metadata": {},
   "outputs": [
    {
     "data": {
      "text/plain": [
       "['subject_id_x',\n",
       " 'hadm_id',\n",
       " 'stay_id',\n",
       " 'charttime',\n",
       " 'creat_low_past_7day',\n",
       " 'creat_low_past_48hr',\n",
       " 'creat',\n",
       " 'aki_stage_creat',\n",
       " 'uo_rt_6hr',\n",
       " 'uo_rt_12hr',\n",
       " 'uo_rt_24hr',\n",
       " 'aki_stage_uo',\n",
       " 'aki_stage',\n",
       " 'admittime',\n",
       " 'dischtime',\n",
       " 'deathtime',\n",
       " 'admission_type',\n",
       " 'admission_location',\n",
       " 'discharge_location',\n",
       " 'insurance',\n",
       " 'language',\n",
       " 'marital_status',\n",
       " 'race',\n",
       " 'edregtime',\n",
       " 'edouttime',\n",
       " 'hospital_expire_flag',\n",
       " 'first_careunit',\n",
       " 'last_careunit',\n",
       " 'intime_x',\n",
       " 'outtime',\n",
       " 'los',\n",
       " 'gender',\n",
       " 'anchor_age',\n",
       " 'anchor_year',\n",
       " 'anchor_year_group',\n",
       " 'dod',\n",
       " 'creat_24',\n",
       " 'urine_24',\n",
       " 'nanmin_valuenum_Albumin',\n",
       " 'nanmin_valuenum_Bicarbonate',\n",
       " 'nanmin_valuenum_Calculated Bicarbonate, Whole Blood',\n",
       " 'nanmin_valuenum_Creatinine',\n",
       " 'nanmin_valuenum_Hematocrit',\n",
       " 'nanmin_valuenum_Hematocrit, Calculated',\n",
       " 'nanmin_valuenum_Potassium',\n",
       " 'nanmin_valuenum_Potassium, Whole Blood',\n",
       " 'nanmin_valuenum_Urea Nitrogen',\n",
       " 'nanmin_valuenum_pH',\n",
       " 'nanmax_valuenum_Albumin',\n",
       " 'nanmax_valuenum_Bicarbonate',\n",
       " 'nanmax_valuenum_Calculated Bicarbonate, Whole Blood',\n",
       " 'nanmax_valuenum_Creatinine',\n",
       " 'nanmax_valuenum_Hematocrit',\n",
       " 'nanmax_valuenum_Hematocrit, Calculated',\n",
       " 'nanmax_valuenum_Potassium',\n",
       " 'nanmax_valuenum_Potassium, Whole Blood',\n",
       " 'nanmax_valuenum_Urea Nitrogen',\n",
       " 'nanmax_valuenum_pH',\n",
       " 'subject_id_y',\n",
       " 'antibiotic_time',\n",
       " 'culture_time',\n",
       " 'suspected_infection_time',\n",
       " 'sofa_time',\n",
       " 'sofa_score',\n",
       " 'respiration_x',\n",
       " 'coagulation_x',\n",
       " 'liver_x',\n",
       " 'cardiovascular_x',\n",
       " 'cns_x',\n",
       " 'renal_x',\n",
       " 'sepsis3',\n",
       " 'hr',\n",
       " 'starttime_x',\n",
       " 'endtime',\n",
       " 'pao2fio2ratio_novent',\n",
       " 'pao2fio2ratio_vent',\n",
       " 'rate_epinephrine',\n",
       " 'rate_norepinephrine',\n",
       " 'rate_dopamine',\n",
       " 'rate_dobutamine',\n",
       " 'meanbp_min',\n",
       " 'gcs_min',\n",
       " 'uo_24hr',\n",
       " 'bilirubin_max',\n",
       " 'creatinine_max',\n",
       " 'platelet_min',\n",
       " 'respiration_y',\n",
       " 'coagulation_y',\n",
       " 'liver_y',\n",
       " 'cardiovascular_y',\n",
       " 'cns_y',\n",
       " 'renal_y',\n",
       " 'respiration_24hours',\n",
       " 'coagulation_24hours',\n",
       " 'liver_24hours',\n",
       " 'cardiovascular_24hours',\n",
       " 'cns_24hours',\n",
       " 'renal_24hours',\n",
       " 'sofa_24hours',\n",
       " 'min_hour',\n",
       " 'intime_y',\n",
       " 'starttime_y',\n",
       " 'route',\n",
       " 'antibiotic',\n",
       " 'delta_days',\n",
       " 'min_heart_rate',\n",
       " 'min_mbp',\n",
       " 'min_mbp_ni',\n",
       " 'min_resp_rate',\n",
       " 'min_spo2',\n",
       " 'max_heart_rate',\n",
       " 'max_mbp',\n",
       " 'max_mbp_ni',\n",
       " 'max_resp_rate',\n",
       " 'max_spo2',\n",
       " 'CKD',\n",
       " 'DM',\n",
       " 'Hypertension',\n",
       " 'Heart Failure']"
      ]
     },
     "execution_count": 115,
     "metadata": {},
     "output_type": "execute_result"
    }
   ],
   "source": [
    "list(cohort_diag)"
   ]
  },
  {
   "cell_type": "code",
   "execution_count": 116,
   "id": "b34128a3",
   "metadata": {},
   "outputs": [],
   "source": [
    "cohort_diag.to_csv('cohort_with_covariates.csv', index=False)"
   ]
  },
  {
   "cell_type": "code",
   "execution_count": 117,
   "id": "14b69df3",
   "metadata": {},
   "outputs": [],
   "source": [
    "crrt = pd.read_csv('crrt_positive_cohort.csv')"
   ]
  },
  {
   "cell_type": "code",
   "execution_count": 118,
   "id": "e7935700",
   "metadata": {},
   "outputs": [
    {
     "data": {
      "text/plain": [
       "['stay_id',\n",
       " 'charttime',\n",
       " 'crrt_mode',\n",
       " 'access_pressure',\n",
       " 'blood_flow',\n",
       " 'citrate',\n",
       " 'current_goal',\n",
       " 'dialysate_fluid',\n",
       " 'dialysate_rate',\n",
       " 'effluent_pressure',\n",
       " 'filter_pressure',\n",
       " 'heparin_concentration',\n",
       " 'heparin_dose',\n",
       " 'hourly_patient_fluid_removal',\n",
       " 'prefilter_replacement_rate',\n",
       " 'postfilter_replacement_rate',\n",
       " 'replacement_fluid',\n",
       " 'replacement_rate',\n",
       " 'return_pressure',\n",
       " 'ultrafiltrate_output',\n",
       " 'system_active',\n",
       " 'clots',\n",
       " 'clots_increasing',\n",
       " 'clotted',\n",
       " 'subject_id',\n",
       " 'hadm_id',\n",
       " 'first_careunit',\n",
       " 'last_careunit',\n",
       " 'intime',\n",
       " 'outtime',\n",
       " 'los',\n",
       " 'time_delta']"
      ]
     },
     "execution_count": 118,
     "metadata": {},
     "output_type": "execute_result"
    }
   ],
   "source": [
    "list(crrt)"
   ]
  },
  {
   "cell_type": "code",
   "execution_count": 119,
   "id": "9643c5f7",
   "metadata": {},
   "outputs": [],
   "source": [
    "crrt['crrt'] = 1"
   ]
  },
  {
   "cell_type": "code",
   "execution_count": 120,
   "id": "c58861cb",
   "metadata": {},
   "outputs": [],
   "source": [
    "crrt = crrt[['stay_id', 'crrt']]"
   ]
  },
  {
   "cell_type": "code",
   "execution_count": 121,
   "id": "57ddfa13",
   "metadata": {},
   "outputs": [],
   "source": [
    "cohort_diag_crrt = cohort_diag.merge(crrt, on='stay_id', how='left')"
   ]
  },
  {
   "cell_type": "code",
   "execution_count": 122,
   "id": "84c68c7e",
   "metadata": {},
   "outputs": [],
   "source": [
    "cohort_diag_crrt['crrt'].fillna(0, inplace=True)"
   ]
  },
  {
   "cell_type": "code",
   "execution_count": 123,
   "id": "5da63aeb",
   "metadata": {},
   "outputs": [
    {
     "name": "stderr",
     "output_type": "stream",
     "text": [
      "/home/jupyter-zaiman/.local/lib/python3.9/site-packages/tableone/tableone.py:991: FutureWarning: Using the level keyword in DataFrame and Series aggregations is deprecated and will be removed in a future version. Use groupby instead. df.sum(level=1) should use df.groupby(level=1).sum().\n",
      "  df['percent'] = df['freq'].div(df.freq.sum(level=0),\n",
      "/home/jupyter-zaiman/.local/lib/python3.9/site-packages/tableone/tableone.py:991: FutureWarning: Using the level keyword in DataFrame and Series aggregations is deprecated and will be removed in a future version. Use groupby instead. df.sum(level=1) should use df.groupby(level=1).sum().\n",
      "  df['percent'] = df['freq'].div(df.freq.sum(level=0),\n",
      "/home/jupyter-zaiman/.local/lib/python3.9/site-packages/tableone/tableone.py:991: FutureWarning: Using the level keyword in DataFrame and Series aggregations is deprecated and will be removed in a future version. Use groupby instead. df.sum(level=1) should use df.groupby(level=1).sum().\n",
      "  df['percent'] = df['freq'].div(df.freq.sum(level=0),\n"
     ]
    }
   ],
   "source": [
    "columns = ['first_careunit', 'creat_low_past_48hr', 'aki_stage', 'race','min_heart_rate',\n",
    " 'min_mbp',\n",
    " 'min_mbp_ni',\n",
    " 'min_resp_rate',\n",
    " 'min_spo2',\n",
    " 'max_heart_rate',\n",
    " 'max_mbp',\n",
    " 'max_mbp_ni',\n",
    " 'max_resp_rate',\n",
    " 'max_spo2',\n",
    " 'CKD',\n",
    " 'DM',\n",
    " 'Hypertension',\n",
    " 'Heart Failure',\n",
    "'nanmin_valuenum_Albumin',\n",
    " 'nanmin_valuenum_Bicarbonate',\n",
    " 'nanmin_valuenum_Calculated Bicarbonate, Whole Blood',\n",
    " 'nanmin_valuenum_Creatinine',\n",
    " 'nanmin_valuenum_Hematocrit',\n",
    " 'nanmin_valuenum_Hematocrit, Calculated',\n",
    " 'nanmin_valuenum_Potassium',\n",
    " 'nanmin_valuenum_Potassium, Whole Blood',\n",
    " 'nanmin_valuenum_Urea Nitrogen',\n",
    " 'nanmin_valuenum_pH',\n",
    " 'nanmax_valuenum_Albumin',\n",
    " 'nanmax_valuenum_Bicarbonate',\n",
    " 'nanmax_valuenum_Calculated Bicarbonate, Whole Blood',\n",
    " 'nanmax_valuenum_Creatinine',\n",
    " 'nanmax_valuenum_Hematocrit',\n",
    " 'nanmax_valuenum_Hematocrit, Calculated',\n",
    " 'nanmax_valuenum_Potassium',\n",
    " 'nanmax_valuenum_Potassium, Whole Blood',\n",
    " 'nanmax_valuenum_Urea Nitrogen',\n",
    " 'nanmax_valuenum_pH',\n",
    " 'sepsis3',\n",
    " 'sofa_24hours',\n",
    " 'antibiotic',\n",
    " 'gender']\n",
    "\n",
    "numerical=[\n",
    "    'creat_low_past_48hr',\n",
    "    'min_heart_rate',\n",
    "    'min_mbp',\n",
    " 'min_mbp_ni',\n",
    " 'min_resp_rate',\n",
    " 'min_spo2',\n",
    " 'max_heart_rate',\n",
    " 'max_mbp',\n",
    " 'max_mbp_ni',\n",
    " 'max_resp_rate',\n",
    " 'max_spo2','nanmin_valuenum_Albumin',\n",
    " 'nanmin_valuenum_Bicarbonate',\n",
    " 'nanmin_valuenum_Calculated Bicarbonate, Whole Blood',\n",
    " 'nanmin_valuenum_Creatinine',\n",
    " 'nanmin_valuenum_Hematocrit',\n",
    " 'nanmin_valuenum_Hematocrit, Calculated',\n",
    " 'nanmin_valuenum_Potassium',\n",
    " 'nanmin_valuenum_Potassium, Whole Blood',\n",
    " 'nanmin_valuenum_Urea Nitrogen',\n",
    " 'nanmin_valuenum_pH',\n",
    " 'nanmax_valuenum_Albumin',\n",
    " 'nanmax_valuenum_Bicarbonate',\n",
    " 'nanmax_valuenum_Calculated Bicarbonate, Whole Blood',\n",
    " 'nanmax_valuenum_Creatinine',\n",
    " 'nanmax_valuenum_Hematocrit',\n",
    " 'nanmax_valuenum_Hematocrit, Calculated',\n",
    " 'nanmax_valuenum_Potassium',\n",
    " 'nanmax_valuenum_Potassium, Whole Blood',\n",
    " 'nanmax_valuenum_Urea Nitrogen',\n",
    " 'nanmax_valuenum_pH',\n",
    "        'sofa_24hours',]\n",
    "\n",
    "for col in numerical:\n",
    "    cohort_diag_crrt[col] = cohort_diag_crrt[col].astype(np.float64)\n",
    "\n",
    "categorical = [x for x in columns if x not in numerical]\n",
    "\n",
    "tab = TableOne(cohort_diag_crrt, columns=columns,categorical=categorical, groupby='crrt')"
   ]
  },
  {
   "cell_type": "code",
   "execution_count": 114,
   "id": "91efb135",
   "metadata": {},
   "outputs": [],
   "source": [
    "tab.to_csv('tableone.csv')"
   ]
  },
  {
   "cell_type": "code",
   "execution_count": 124,
   "id": "8fa46991",
   "metadata": {},
   "outputs": [
    {
     "name": "stdout",
     "output_type": "stream",
     "text": [
      "<class 'pandas.core.frame.DataFrame'>\n",
      "Int64Index: 225340 entries, 0 to 225339\n",
      "Columns: 120 entries, subject_id_x to crrt\n",
      "dtypes: Int64(21), boolean(1), datetime64[ns](11), float64(61), int64(8), object(18)\n",
      "memory usage: 219.3+ MB\n"
     ]
    }
   ],
   "source": [
    "cohort_diag_crrt.info()"
   ]
  },
  {
   "cell_type": "code",
   "execution_count": 125,
   "id": "fca51b3a",
   "metadata": {},
   "outputs": [
    {
     "data": {
      "text/html": [
       "<div>\n",
       "<style scoped>\n",
       "    .dataframe tbody tr th:only-of-type {\n",
       "        vertical-align: middle;\n",
       "    }\n",
       "\n",
       "    .dataframe tbody tr th {\n",
       "        vertical-align: top;\n",
       "    }\n",
       "\n",
       "    .dataframe thead tr th {\n",
       "        text-align: left;\n",
       "    }\n",
       "</style>\n",
       "<table border=\"1\" class=\"dataframe\">\n",
       "  <thead>\n",
       "    <tr>\n",
       "      <th></th>\n",
       "      <th></th>\n",
       "      <th colspan=\"4\" halign=\"left\">Grouped by crrt</th>\n",
       "    </tr>\n",
       "    <tr>\n",
       "      <th></th>\n",
       "      <th></th>\n",
       "      <th>Missing</th>\n",
       "      <th>Overall</th>\n",
       "      <th>0.0</th>\n",
       "      <th>1.0</th>\n",
       "    </tr>\n",
       "  </thead>\n",
       "  <tbody>\n",
       "    <tr>\n",
       "      <th>n</th>\n",
       "      <th></th>\n",
       "      <td></td>\n",
       "      <td>225340</td>\n",
       "      <td>212314</td>\n",
       "      <td>13026</td>\n",
       "    </tr>\n",
       "    <tr>\n",
       "      <th rowspan=\"4\" valign=\"top\">first_careunit, n (%)</th>\n",
       "      <th>Cardiac Vascular Intensive Care Unit (CVICU)</th>\n",
       "      <td>0</td>\n",
       "      <td>55128 (24.5)</td>\n",
       "      <td>52656 (24.8)</td>\n",
       "      <td>2472 (19.0)</td>\n",
       "    </tr>\n",
       "    <tr>\n",
       "      <th>Coronary Care Unit (CCU)</th>\n",
       "      <td></td>\n",
       "      <td>22482 (10.0)</td>\n",
       "      <td>20919 (9.9)</td>\n",
       "      <td>1563 (12.0)</td>\n",
       "    </tr>\n",
       "    <tr>\n",
       "      <th>Medical Intensive Care Unit (MICU)</th>\n",
       "      <td></td>\n",
       "      <td>44021 (19.5)</td>\n",
       "      <td>40066 (18.9)</td>\n",
       "      <td>3955 (30.4)</td>\n",
       "    </tr>\n",
       "    <tr>\n",
       "      <th>Medical/Surgical Intensive Care Unit (MICU/SICU)</th>\n",
       "      <td></td>\n",
       "      <td>29158 (12.9)</td>\n",
       "      <td>27427 (12.9)</td>\n",
       "      <td>1731 (13.3)</td>\n",
       "    </tr>\n",
       "    <tr>\n",
       "      <th>...</th>\n",
       "      <th>...</th>\n",
       "      <td>...</td>\n",
       "      <td>...</td>\n",
       "      <td>...</td>\n",
       "      <td>...</td>\n",
       "    </tr>\n",
       "    <tr>\n",
       "      <th>sofa_24hours, mean (SD)</th>\n",
       "      <th></th>\n",
       "      <td>3</td>\n",
       "      <td>2.3 (2.4)</td>\n",
       "      <td>2.2 (2.3)</td>\n",
       "      <td>4.0 (3.2)</td>\n",
       "    </tr>\n",
       "    <tr>\n",
       "      <th rowspan=\"2\" valign=\"top\">antibiotic, n (%)</th>\n",
       "      <th>0.0</th>\n",
       "      <td>0</td>\n",
       "      <td>123575 (54.8)</td>\n",
       "      <td>119603 (56.3)</td>\n",
       "      <td>3972 (30.5)</td>\n",
       "    </tr>\n",
       "    <tr>\n",
       "      <th>1.0</th>\n",
       "      <td></td>\n",
       "      <td>101765 (45.2)</td>\n",
       "      <td>92711 (43.7)</td>\n",
       "      <td>9054 (69.5)</td>\n",
       "    </tr>\n",
       "    <tr>\n",
       "      <th rowspan=\"2\" valign=\"top\">gender, n (%)</th>\n",
       "      <th>F</th>\n",
       "      <td>0</td>\n",
       "      <td>101060 (44.8)</td>\n",
       "      <td>96105 (45.3)</td>\n",
       "      <td>4955 (38.0)</td>\n",
       "    </tr>\n",
       "    <tr>\n",
       "      <th>M</th>\n",
       "      <td></td>\n",
       "      <td>124280 (55.2)</td>\n",
       "      <td>116209 (54.7)</td>\n",
       "      <td>8071 (62.0)</td>\n",
       "    </tr>\n",
       "  </tbody>\n",
       "</table>\n",
       "<p>92 rows × 4 columns</p>\n",
       "</div>"
      ],
      "text/plain": [
       "                                                                         Grouped by crrt  \\\n",
       "                                                                                 Missing   \n",
       "n                                                                                          \n",
       "first_careunit, n (%)   Cardiac Vascular Intensive Care Unit (CVICU)                   0   \n",
       "                        Coronary Care Unit (CCU)                                           \n",
       "                        Medical Intensive Care Unit (MICU)                                 \n",
       "                        Medical/Surgical Intensive Care Unit (MICU/SICU)                   \n",
       "...                                                                                  ...   \n",
       "sofa_24hours, mean (SD)                                                                3   \n",
       "antibiotic, n (%)       0.0                                                            0   \n",
       "                        1.0                                                                \n",
       "gender, n (%)           F                                                              0   \n",
       "                        M                                                                  \n",
       "\n",
       "                                                                                         \\\n",
       "                                                                                Overall   \n",
       "n                                                                                225340   \n",
       "first_careunit, n (%)   Cardiac Vascular Intensive Care Unit (CVICU)       55128 (24.5)   \n",
       "                        Coronary Care Unit (CCU)                           22482 (10.0)   \n",
       "                        Medical Intensive Care Unit (MICU)                 44021 (19.5)   \n",
       "                        Medical/Surgical Intensive Care Unit (MICU/SICU)   29158 (12.9)   \n",
       "...                                                                                 ...   \n",
       "sofa_24hours, mean (SD)                                                       2.3 (2.4)   \n",
       "antibiotic, n (%)       0.0                                               123575 (54.8)   \n",
       "                        1.0                                               101765 (45.2)   \n",
       "gender, n (%)           F                                                 101060 (44.8)   \n",
       "                        M                                                 124280 (55.2)   \n",
       "\n",
       "                                                                                         \\\n",
       "                                                                                    0.0   \n",
       "n                                                                                212314   \n",
       "first_careunit, n (%)   Cardiac Vascular Intensive Care Unit (CVICU)       52656 (24.8)   \n",
       "                        Coronary Care Unit (CCU)                            20919 (9.9)   \n",
       "                        Medical Intensive Care Unit (MICU)                 40066 (18.9)   \n",
       "                        Medical/Surgical Intensive Care Unit (MICU/SICU)   27427 (12.9)   \n",
       "...                                                                                 ...   \n",
       "sofa_24hours, mean (SD)                                                       2.2 (2.3)   \n",
       "antibiotic, n (%)       0.0                                               119603 (56.3)   \n",
       "                        1.0                                                92711 (43.7)   \n",
       "gender, n (%)           F                                                  96105 (45.3)   \n",
       "                        M                                                 116209 (54.7)   \n",
       "\n",
       "                                                                                       \n",
       "                                                                                  1.0  \n",
       "n                                                                               13026  \n",
       "first_careunit, n (%)   Cardiac Vascular Intensive Care Unit (CVICU)      2472 (19.0)  \n",
       "                        Coronary Care Unit (CCU)                          1563 (12.0)  \n",
       "                        Medical Intensive Care Unit (MICU)                3955 (30.4)  \n",
       "                        Medical/Surgical Intensive Care Unit (MICU/SICU)  1731 (13.3)  \n",
       "...                                                                               ...  \n",
       "sofa_24hours, mean (SD)                                                     4.0 (3.2)  \n",
       "antibiotic, n (%)       0.0                                               3972 (30.5)  \n",
       "                        1.0                                               9054 (69.5)  \n",
       "gender, n (%)           F                                                 4955 (38.0)  \n",
       "                        M                                                 8071 (62.0)  \n",
       "\n",
       "[92 rows x 4 columns]"
      ]
     },
     "execution_count": 125,
     "metadata": {},
     "output_type": "execute_result"
    }
   ],
   "source": [
    "tab.head(100)"
   ]
  },
  {
   "cell_type": "code",
   "execution_count": 126,
   "id": "8d92cf88",
   "metadata": {},
   "outputs": [
    {
     "data": {
      "text/plain": [
       "subject_id_x            23639\n",
       "hadm_id                 23639\n",
       "stay_id                 23639\n",
       "charttime              202968\n",
       "creat_low_past_7day       134\n",
       "                        ...  \n",
       "CKD                         2\n",
       "DM                          2\n",
       "Hypertension                2\n",
       "Heart Failure               2\n",
       "crrt                        2\n",
       "Length: 120, dtype: int64"
      ]
     },
     "execution_count": 126,
     "metadata": {},
     "output_type": "execute_result"
    }
   ],
   "source": [
    "cohort_diag_crrt.nunique()"
   ]
  },
  {
   "cell_type": "code",
   "execution_count": null,
   "id": "d7fcc514",
   "metadata": {},
   "outputs": [],
   "source": [
    "cohort_diag_crrt"
   ]
  },
  {
   "cell_type": "code",
   "execution_count": 132,
   "id": "9b977916",
   "metadata": {},
   "outputs": [],
   "source": [
    "first = cohort_diag_crrt.groupby('stay_id')['intime_x'].min()\n",
    "cohort_diag_crrt = cohort_diag_crrt.merge(first)"
   ]
  },
  {
   "cell_type": "code",
   "execution_count": 133,
   "id": "1eea6243",
   "metadata": {},
   "outputs": [
    {
     "data": {
      "text/plain": [
       "(29093, 120)"
      ]
     },
     "execution_count": 133,
     "metadata": {},
     "output_type": "execute_result"
    }
   ],
   "source": [
    "cohort_diag_crrt.shape"
   ]
  },
  {
   "cell_type": "code",
   "execution_count": 129,
   "id": "b18bf142",
   "metadata": {},
   "outputs": [],
   "source": [
    "cohort_diag_crrt.to_csv('final_cohort.csv', index=False)"
   ]
  },
  {
   "cell_type": "code",
   "execution_count": null,
   "id": "3e1a8917",
   "metadata": {},
   "outputs": [],
   "source": []
  }
 ],
 "metadata": {
  "kernelspec": {
   "display_name": "hiti",
   "language": "python",
   "name": "hiti"
  },
  "language_info": {
   "codemirror_mode": {
    "name": "ipython",
    "version": 3
   },
   "file_extension": ".py",
   "mimetype": "text/x-python",
   "name": "python",
   "nbconvert_exporter": "python",
   "pygments_lexer": "ipython3",
   "version": "3.9.7"
  }
 },
 "nbformat": 4,
 "nbformat_minor": 5
}
