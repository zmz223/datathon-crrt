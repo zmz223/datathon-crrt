{
 "cells": [
  {
   "cell_type": "code",
   "execution_count": 4,
   "id": "2f1fe4b7",
   "metadata": {},
   "outputs": [],
   "source": [
    "import pandas as pd\n",
    "import numpy as np\n",
    "import matplotlib.pyplot as plt\n",
    "from tqdm import tqdm"
   ]
  },
  {
   "cell_type": "code",
   "execution_count": 5,
   "id": "ad38bb11",
   "metadata": {},
   "outputs": [
    {
     "name": "stderr",
     "output_type": "stream",
     "text": [
      "/home/jupyter-zaiman/.conda/envs/hiti/lib/python3.9/site-packages/google/auth/_default.py:79: UserWarning: Your application has authenticated using end user credentials from Google Cloud SDK without a quota project. You might receive a \"quota exceeded\" or \"API not enabled\" error. We recommend you rerun `gcloud auth application-default login` and make sure a quota project is added. Or you can use service accounts instead. For more information about service accounts, see https://cloud.google.com/docs/authentication/\n",
      "  warnings.warn(_CLOUD_SDK_CREDENTIALS_WARNING)\n"
     ]
    }
   ],
   "source": [
    "#Set environment variables for your notebook\n",
    "import os \n",
    "project_id = 'mimic-369422'\n",
    "os.environ['GOOGLE_CLOUD_PROJECT'] = project_id\n",
    "\n",
    "import pydata_google_auth\n",
    "credentials = pydata_google_auth.get_user_credentials(\n",
    "    ['https://www.googleapis.com/auth/bigquery'],use_local_webserver=False\n",
    ")\n",
    "\n",
    "from google.cloud import bigquery\n",
    "\n",
    "bigquery_client = bigquery.Client()#Write Query on BQ\n",
    "\n",
    "def run_query(query):\n",
    "    return pd.io.gbq.read_gbq(\n",
    "      query,\n",
    "      project_id=project_id,\n",
    "      credentials=credentials,\n",
    "      configuration={'query': {\n",
    "          'useLegacySql': False\n",
    "      }})"
   ]
  },
  {
   "cell_type": "code",
   "execution_count": 6,
   "id": "d6ef56c6",
   "metadata": {},
   "outputs": [],
   "source": [
    "crrt = run_query(\"\"\"SELECT * FROM `physionet-data.mimiciv_derived.crrt`\"\"\")\n",
    "icustays = run_query(\"\"\"SELECT * FROM `physionet-data.mimiciv_icu.icustays`\"\"\")"
   ]
  },
  {
   "cell_type": "code",
   "execution_count": 9,
   "id": "8537f898",
   "metadata": {},
   "outputs": [],
   "source": [
    "crrt['charttime'] = pd.to_datetime(crrt['charttime'])\n",
    "icustays['intime'] = pd.to_datetime(icustays['intime'])"
   ]
  },
  {
   "cell_type": "code",
   "execution_count": 10,
   "id": "bc5bc8d7",
   "metadata": {},
   "outputs": [],
   "source": [
    "crrt_icu = crrt.merge(icustays, on='stay_id')"
   ]
  },
  {
   "cell_type": "code",
   "execution_count": 11,
   "id": "277ceb54",
   "metadata": {},
   "outputs": [],
   "source": [
    "crrt_icu['time_delta'] = (crrt_icu['charttime'] - crrt_icu['intime']) / np.timedelta64(1, 'h')"
   ]
  },
  {
   "cell_type": "code",
   "execution_count": 12,
   "id": "66bf8cd4",
   "metadata": {},
   "outputs": [],
   "source": [
    "crrt_icu = crrt_icu[crrt_icu['charttime'] > crrt_icu['intime']].reset_index(drop=True)"
   ]
  },
  {
   "cell_type": "code",
   "execution_count": 13,
   "id": "f0ca6148",
   "metadata": {},
   "outputs": [],
   "source": [
    "min_crrt = crrt_icu.groupby('stay_id')['charttime'].min().reset_index()"
   ]
  },
  {
   "cell_type": "code",
   "execution_count": 14,
   "id": "fc0e1df0",
   "metadata": {},
   "outputs": [],
   "source": [
    "crrt_min = crrt_icu.merge(min_crrt)"
   ]
  },
  {
   "cell_type": "code",
   "execution_count": 15,
   "id": "11638511",
   "metadata": {},
   "outputs": [
    {
     "data": {
      "text/plain": [
       "(2580, 32)"
      ]
     },
     "execution_count": 15,
     "metadata": {},
     "output_type": "execute_result"
    }
   ],
   "source": [
    "crrt_min.shape"
   ]
  },
  {
   "cell_type": "code",
   "execution_count": 16,
   "id": "67e4def0",
   "metadata": {},
   "outputs": [
    {
     "data": {
      "text/plain": [
       "Text(0.5, 1.0, 'CRRT Incidence Distribution')"
      ]
     },
     "execution_count": 16,
     "metadata": {},
     "output_type": "execute_result"
    },
    {
     "data": {
      "image/png": "[encoded data removed]",
      "text/plain": [
       "<Figure size 432x288 with 1 Axes>"
      ]
     },
     "metadata": {
      "needs_background": "light"
     },
     "output_type": "display_data"
    }
   ],
   "source": [
    "b= np.linspace(0, 180, 100)\n",
    "plt.hist(crrt_min['time_delta'], bins=b)\n",
    "plt.xlabel('Hours')\n",
    "plt.ylabel('Number of Patients with CRRT')\n",
    "plt.title('CRRT Incidence Distribution')"
   ]
  },
  {
   "cell_type": "code",
   "execution_count": 17,
   "id": "d3f06d0f",
   "metadata": {},
   "outputs": [],
   "source": [
    "# Keep patients [0.5 days to 5 day window]\n",
    "crrt_filt = crrt_min[(crrt_min['time_delta'] >= 12) &  (crrt_min['time_delta'] <= 120)]"
   ]
  },
  {
   "cell_type": "code",
   "execution_count": 18,
   "id": "5d1e22af",
   "metadata": {},
   "outputs": [
    {
     "data": {
      "text/plain": [
       "(1605, 32)"
      ]
     },
     "execution_count": 18,
     "metadata": {},
     "output_type": "execute_result"
    }
   ],
   "source": [
    "crrt_filt.shape"
   ]
  },
  {
   "cell_type": "code",
   "execution_count": 19,
   "id": "66f0d030",
   "metadata": {},
   "outputs": [],
   "source": [
    "crrt_filt.to_csv('crrt_positive_cohort.csv', index=False)"
   ]
  },
  {
   "cell_type": "code",
   "execution_count": null,
   "id": "f7243364",
   "metadata": {},
   "outputs": [],
   "source": []
  }
 ],
 "metadata": {
  "kernelspec": {
   "display_name": "hiti",
   "language": "python",
   "name": "hiti"
  },
  "language_info": {
   "codemirror_mode": {
    "name": "ipython",
    "version": 3
   },
   "file_extension": ".py",
   "mimetype": "text/x-python",
   "name": "python",
   "nbconvert_exporter": "python",
   "pygments_lexer": "ipython3",
   "version": "3.9.7"
  }
 },
 "nbformat": 4,
 "nbformat_minor": 5
}
