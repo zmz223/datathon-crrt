{
 "cells": [
  {
   "cell_type": "code",
   "execution_count": 7,
   "id": "4330eca8",
   "metadata": {},
   "outputs": [],
   "source": [
    "from sklearn.model_selection import train_test_split\n",
    "from sklearn.linear_model import LogisticRegression\n",
    "from sklearn.model_selection import GridSearchCV\n",
    "from sklearn.preprocessing import LabelEncoder, OneHotEncoder, StandardScaler\n",
    "from sklearn.metrics import roc_curve, roc_auc_score, classification_report, confusion_matrix, auc\n",
    "import seaborn as sns\n",
    "import matplotlib.pyplot as plt\n",
    "import pandas as pd\n",
    "import numpy as np\n",
    "\n"
   ]
  },
  {
   "cell_type": "code",
   "execution_count": null,
   "id": "2ebf13ec",
   "metadata": {},
   "outputs": [],
   "source": []
  },
  {
   "cell_type": "code",
   "execution_count": 8,
   "id": "8467be0d",
   "metadata": {},
   "outputs": [],
   "source": [
    "# Load Data\n",
    "data = pd.read_csv('final_cohort.csv')"
   ]
  },
  {
   "cell_type": "code",
   "execution_count": 28,
   "id": "71f26b41",
   "metadata": {},
   "outputs": [
    {
     "data": {
      "text/plain": [
       "(28017, 120)"
      ]
     },
     "execution_count": 28,
     "metadata": {},
     "output_type": "execute_result"
    }
   ],
   "source": [
    "data.shape"
   ]
  },
  {
   "cell_type": "code",
   "execution_count": 30,
   "id": "beabdfa1",
   "metadata": {},
   "outputs": [
    {
     "data": {
      "text/plain": [
       "subject_id_x           23639\n",
       "hadm_id                23639\n",
       "stay_id                23639\n",
       "charttime              23418\n",
       "creat_low_past_7day      119\n",
       "                       ...  \n",
       "CKD                        2\n",
       "DM                         2\n",
       "Hypertension               2\n",
       "Heart Failure              2\n",
       "crrt                       2\n",
       "Length: 120, dtype: int64"
      ]
     },
     "execution_count": 30,
     "metadata": {},
     "output_type": "execute_result"
    }
   ],
   "source": [
    "data.nunique()"
   ]
  },
  {
   "cell_type": "code",
   "execution_count": 9,
   "id": "012c5b91",
   "metadata": {},
   "outputs": [],
   "source": [
    "# data = data.dropna()"
   ]
  },
  {
   "cell_type": "code",
   "execution_count": 10,
   "id": "4d962a53",
   "metadata": {},
   "outputs": [
    {
     "data": {
      "text/plain": [
       "['subject_id_x',\n",
       " 'hadm_id',\n",
       " 'stay_id',\n",
       " 'charttime',\n",
       " 'creat_low_past_7day',\n",
       " 'creat_low_past_48hr',\n",
       " 'creat',\n",
       " 'aki_stage_creat',\n",
       " 'uo_rt_6hr',\n",
       " 'uo_rt_12hr',\n",
       " 'uo_rt_24hr',\n",
       " 'aki_stage_uo',\n",
       " 'aki_stage',\n",
       " 'admittime',\n",
       " 'dischtime',\n",
       " 'deathtime',\n",
       " 'admission_type',\n",
       " 'admission_location',\n",
       " 'discharge_location',\n",
       " 'insurance',\n",
       " 'language',\n",
       " 'marital_status',\n",
       " 'race',\n",
       " 'edregtime',\n",
       " 'edouttime',\n",
       " 'hospital_expire_flag',\n",
       " 'first_careunit',\n",
       " 'last_careunit',\n",
       " 'intime_x',\n",
       " 'outtime',\n",
       " 'los',\n",
       " 'gender',\n",
       " 'anchor_age',\n",
       " 'anchor_year',\n",
       " 'anchor_year_group',\n",
       " 'dod',\n",
       " 'creat_24',\n",
       " 'urine_24',\n",
       " 'nanmin_valuenum_Albumin',\n",
       " 'nanmin_valuenum_Bicarbonate',\n",
       " 'nanmin_valuenum_Calculated Bicarbonate, Whole Blood',\n",
       " 'nanmin_valuenum_Creatinine',\n",
       " 'nanmin_valuenum_Hematocrit',\n",
       " 'nanmin_valuenum_Hematocrit, Calculated',\n",
       " 'nanmin_valuenum_Potassium',\n",
       " 'nanmin_valuenum_Potassium, Whole Blood',\n",
       " 'nanmin_valuenum_Urea Nitrogen',\n",
       " 'nanmin_valuenum_pH',\n",
       " 'nanmax_valuenum_Albumin',\n",
       " 'nanmax_valuenum_Bicarbonate',\n",
       " 'nanmax_valuenum_Calculated Bicarbonate, Whole Blood',\n",
       " 'nanmax_valuenum_Creatinine',\n",
       " 'nanmax_valuenum_Hematocrit',\n",
       " 'nanmax_valuenum_Hematocrit, Calculated',\n",
       " 'nanmax_valuenum_Potassium',\n",
       " 'nanmax_valuenum_Potassium, Whole Blood',\n",
       " 'nanmax_valuenum_Urea Nitrogen',\n",
       " 'nanmax_valuenum_pH',\n",
       " 'subject_id_y',\n",
       " 'antibiotic_time',\n",
       " 'culture_time',\n",
       " 'suspected_infection_time',\n",
       " 'sofa_time',\n",
       " 'sofa_score',\n",
       " 'respiration_x',\n",
       " 'coagulation_x',\n",
       " 'liver_x',\n",
       " 'cardiovascular_x',\n",
       " 'cns_x',\n",
       " 'renal_x',\n",
       " 'sepsis3',\n",
       " 'hr',\n",
       " 'starttime_x',\n",
       " 'endtime',\n",
       " 'pao2fio2ratio_novent',\n",
       " 'pao2fio2ratio_vent',\n",
       " 'rate_epinephrine',\n",
       " 'rate_norepinephrine',\n",
       " 'rate_dopamine',\n",
       " 'rate_dobutamine',\n",
       " 'meanbp_min',\n",
       " 'gcs_min',\n",
       " 'uo_24hr',\n",
       " 'bilirubin_max',\n",
       " 'creatinine_max',\n",
       " 'platelet_min',\n",
       " 'respiration_y',\n",
       " 'coagulation_y',\n",
       " 'liver_y',\n",
       " 'cardiovascular_y',\n",
       " 'cns_y',\n",
       " 'renal_y',\n",
       " 'respiration_24hours',\n",
       " 'coagulation_24hours',\n",
       " 'liver_24hours',\n",
       " 'cardiovascular_24hours',\n",
       " 'cns_24hours',\n",
       " 'renal_24hours',\n",
       " 'sofa_24hours',\n",
       " 'min_hour',\n",
       " 'intime_y',\n",
       " 'starttime_y',\n",
       " 'route',\n",
       " 'antibiotic',\n",
       " 'delta_days',\n",
       " 'min_heart_rate',\n",
       " 'min_mbp',\n",
       " 'min_mbp_ni',\n",
       " 'min_resp_rate',\n",
       " 'min_spo2',\n",
       " 'max_heart_rate',\n",
       " 'max_mbp',\n",
       " 'max_mbp_ni',\n",
       " 'max_resp_rate',\n",
       " 'max_spo2',\n",
       " 'CKD',\n",
       " 'DM',\n",
       " 'Hypertension',\n",
       " 'Heart Failure',\n",
       " 'crrt']"
      ]
     },
     "execution_count": 10,
     "metadata": {},
     "output_type": "execute_result"
    }
   ],
   "source": [
    "list(data)"
   ]
  },
  {
   "cell_type": "code",
   "execution_count": 11,
   "id": "ca53f85a",
   "metadata": {},
   "outputs": [
    {
     "data": {
      "text/plain": [
       "(28017, 120)"
      ]
     },
     "execution_count": 11,
     "metadata": {},
     "output_type": "execute_result"
    }
   ],
   "source": [
    "data.shape"
   ]
  },
  {
   "cell_type": "code",
   "execution_count": 12,
   "id": "ebab8fba",
   "metadata": {},
   "outputs": [],
   "source": [
    "columns = [\n",
    " 'min_spo2',\n",
    " 'max_spo2',\n",
    "'nanmin_valuenum_Albumin',\n",
    " 'nanmin_valuenum_Creatinine',\n",
    " 'nanmin_valuenum_Hematocrit',\n",
    " 'nanmin_valuenum_Potassium',\n",
    " 'nanmin_valuenum_Potassium, Whole Blood',\n",
    " 'nanmin_valuenum_Urea Nitrogen',\n",
    " 'nanmin_valuenum_pH',\n",
    " 'nanmax_valuenum_Albumin',\n",
    " 'nanmax_valuenum_Creatinine',\n",
    " 'nanmax_valuenum_Hematocrit',\n",
    " 'nanmax_valuenum_Hematocrit, Calculated',\n",
    " 'nanmax_valuenum_Potassium',\n",
    " 'nanmax_valuenum_Potassium, Whole Blood',\n",
    " 'nanmax_valuenum_Urea Nitrogen',\n",
    " 'nanmax_valuenum_pH',\n",
    "'CKD' ,                                                     \n",
    "  'DM',                                                    \n",
    " 'Hypertension',                                     \n",
    " 'Heart Failure'\n",
    "\n",
    "]\n",
    "categorical = ['CKD' ,                                                     \n",
    "  'DM',                                                    \n",
    " 'Hypertension',                                     \n",
    " 'Heart Failure'\n",
    "]\n",
    "\n",
    "numerical = [x for x in columns if x not in categorical]"
   ]
  },
  {
   "cell_type": "code",
   "execution_count": 13,
   "id": "75ee4b22",
   "metadata": {},
   "outputs": [],
   "source": [
    "sc = StandardScaler()\n",
    "oh = OneHotEncoder()"
   ]
  },
  {
   "cell_type": "code",
   "execution_count": 14,
   "id": "62e88c13",
   "metadata": {},
   "outputs": [],
   "source": [
    "X = data[columns]\n",
    "y = np.array(data[['crrt']]).ravel()"
   ]
  },
  {
   "cell_type": "code",
   "execution_count": 15,
   "id": "0df68590",
   "metadata": {},
   "outputs": [],
   "source": [
    "X = X.fillna(-1)"
   ]
  },
  {
   "cell_type": "code",
   "execution_count": 16,
   "id": "5f2b227d",
   "metadata": {},
   "outputs": [],
   "source": [
    "X_train, X_test, y_train, y_test = train_test_split(X, y, test_size=0.3, random_state=2022, stratify=y)"
   ]
  },
  {
   "cell_type": "code",
   "execution_count": 17,
   "id": "6b719e0c",
   "metadata": {},
   "outputs": [],
   "source": [
    "X_num_train = sc.fit_transform(X_train[numerical])\n",
    "X_num_test = sc.transform(X_test[numerical])\n",
    "X_cat_train = X_train[categorical]\n",
    "X_cat_test = X_test[categorical]"
   ]
  },
  {
   "cell_type": "code",
   "execution_count": 18,
   "id": "ecdebe31",
   "metadata": {},
   "outputs": [
    {
     "data": {
      "text/plain": [
       "(8406, 17)"
      ]
     },
     "execution_count": 18,
     "metadata": {},
     "output_type": "execute_result"
    }
   ],
   "source": [
    "X_num_test.shape"
   ]
  },
  {
   "cell_type": "code",
   "execution_count": 19,
   "id": "7bce6535",
   "metadata": {},
   "outputs": [],
   "source": [
    "X_train_proc = np.hstack((X_num_train, X_cat_train))\n",
    "X_test_proc = np.hstack((X_num_test, X_cat_test))"
   ]
  },
  {
   "cell_type": "code",
   "execution_count": 20,
   "id": "81560346",
   "metadata": {},
   "outputs": [],
   "source": [
    "clf = LogisticRegression(max_iter=1000, class_weight='balanced')"
   ]
  },
  {
   "cell_type": "code",
   "execution_count": 21,
   "id": "09019947",
   "metadata": {},
   "outputs": [
    {
     "data": {
      "text/plain": [
       "LogisticRegression(class_weight='balanced', max_iter=1000)"
      ]
     },
     "execution_count": 21,
     "metadata": {},
     "output_type": "execute_result"
    }
   ],
   "source": [
    "clf.fit(X_train_proc, y_train)"
   ]
  },
  {
   "cell_type": "code",
   "execution_count": 22,
   "id": "b71bed90",
   "metadata": {},
   "outputs": [],
   "source": [
    "yHat = clf.predict_proba(X_test_proc)"
   ]
  },
  {
   "cell_type": "code",
   "execution_count": 23,
   "id": "8b0ce929",
   "metadata": {},
   "outputs": [
    {
     "data": {
      "text/plain": [
       "(array([5196.,  943.,  511.,  327.,  232.,  194.,  162.,  192.,  214.,\n",
       "         435.]),\n",
       " array([6.60171065e-04, 1.00594153e-01, 2.00528135e-01, 3.00462117e-01,\n",
       "        4.00396100e-01, 5.00330082e-01, 6.00264064e-01, 7.00198046e-01,\n",
       "        8.00132028e-01, 9.00066010e-01, 9.99999992e-01]),\n",
       " <BarContainer object of 10 artists>)"
      ]
     },
     "execution_count": 23,
     "metadata": {},
     "output_type": "execute_result"
    },
    {
     "data": {
      "image/png": "[encoded data removed]",
      "text/plain": [
       "<Figure size 432x288 with 1 Axes>"
      ]
     },
     "metadata": {
      "needs_background": "light"
     },
     "output_type": "display_data"
    }
   ],
   "source": [
    "plt.hist(yHat[:, 1])"
   ]
  },
  {
   "cell_type": "code",
   "execution_count": 24,
   "id": "0a43f2aa",
   "metadata": {},
   "outputs": [],
   "source": [
    "ypred = (yHat[:, 1] >= 0.5)"
   ]
  },
  {
   "cell_type": "code",
   "execution_count": 25,
   "id": "d8b126b6",
   "metadata": {},
   "outputs": [],
   "source": [
    "fpr, tpr, _ = roc_curve(y_test, yHat[:,1])\n",
    "rocauc = auc(fpr, tpr)"
   ]
  },
  {
   "cell_type": "code",
   "execution_count": 26,
   "id": "a3e837d3",
   "metadata": {},
   "outputs": [
    {
     "data": {
      "text/plain": [
       "<matplotlib.legend.Legend at 0x7f456dcb6e50>"
      ]
     },
     "execution_count": 26,
     "metadata": {},
     "output_type": "execute_result"
    },
    {
     "data": {
      "image/png": "[encoded data removed]",
      "text/plain": [
       "<Figure size 720x720 with 1 Axes>"
      ]
     },
     "metadata": {
      "needs_background": "light"
     },
     "output_type": "display_data"
    }
   ],
   "source": [
    "\n",
    "plt.figure(figsize=(10, 10))\n",
    "plt.title('ROC AUC Curve')\n",
    "plt.plot(fpr, tpr, label=f'auc={round(rocauc, 3)}')\n",
    "plt.legend(loc=4)"
   ]
  },
  {
   "cell_type": "code",
   "execution_count": 27,
   "id": "ce4af5eb",
   "metadata": {},
   "outputs": [
    {
     "name": "stdout",
     "output_type": "stream",
     "text": [
      "              precision    recall  f1-score   support\n",
      "\n",
      "         0.0       1.00      0.88      0.94      8151\n",
      "         1.0       0.20      0.96      0.34       255\n",
      "\n",
      "    accuracy                           0.89      8406\n",
      "   macro avg       0.60      0.92      0.64      8406\n",
      "weighted avg       0.97      0.89      0.92      8406\n",
      "\n"
     ]
    }
   ],
   "source": [
    "print(classification_report(y_test, ypred))"
   ]
  },
  {
   "cell_type": "code",
   "execution_count": null,
   "id": "3ffc189b",
   "metadata": {},
   "outputs": [],
   "source": []
  }
 ],
 "metadata": {
  "kernelspec": {
   "display_name": "hiti",
   "language": "python",
   "name": "hiti"
  },
  "language_info": {
   "codemirror_mode": {
    "name": "ipython",
    "version": 3
   },
   "file_extension": ".py",
   "mimetype": "text/x-python",
   "name": "python",
   "nbconvert_exporter": "python",
   "pygments_lexer": "ipython3",
   "version": "3.9.7"
  }
 },
 "nbformat": 4,
 "nbformat_minor": 5
}
