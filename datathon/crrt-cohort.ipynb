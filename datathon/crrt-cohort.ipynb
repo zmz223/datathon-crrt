{
 "cells": [
  {
   "cell_type": "code",
   "execution_count": 1,
   "id": "207d555e",
   "metadata": {},
   "outputs": [],
   "source": [
    "# !pip install awswrangler\n",
    "# !pip install tableone\n",
    "# !pip install tqdm"
   ]
  },
  {
   "cell_type": "code",
   "execution_count": 2,
   "id": "b7f2f515",
   "metadata": {},
   "outputs": [
    {
     "name": "stderr",
     "output_type": "stream",
     "text": [
      "/home/jupyter-zaiman/.conda/envs/hiti/lib/python3.9/site-packages/google/auth/_default.py:79: UserWarning: Your application has authenticated using end user credentials from Google Cloud SDK without a quota project. You might receive a \"quota exceeded\" or \"API not enabled\" error. We recommend you rerun `gcloud auth application-default login` and make sure a quota project is added. Or you can use service accounts instead. For more information about service accounts, see https://cloud.google.com/docs/authentication/\n",
      "  warnings.warn(_CLOUD_SDK_CREDENTIALS_WARNING)\n"
     ]
    }
   ],
   "source": [
    "#Set environment variables for your notebook\n",
    "import os \n",
    "project_id = 'mimic-369422'\n",
    "os.environ['GOOGLE_CLOUD_PROJECT'] = project_id\n",
    "\n",
    "import pydata_google_auth\n",
    "credentials = pydata_google_auth.get_user_credentials(\n",
    "    ['https://www.googleapis.com/auth/bigquery'],use_local_webserver=False\n",
    ")\n",
    "\n",
    "from google.cloud import bigquery\n",
    "\n",
    "bigquery_client = bigquery.Client()#Write Query on BQ"
   ]
  },
  {
   "cell_type": "code",
   "execution_count": 3,
   "id": "abb6c1e9",
   "metadata": {},
   "outputs": [],
   "source": [
    "import pandas as pd\n",
    "import numpy as np\n",
    "import matplotlib.pyplot as plt\n",
    "import seaborn as sns\n",
    "from tqdm import tqdm\n",
    "from tableone import TableOne"
   ]
  },
  {
   "cell_type": "code",
   "execution_count": 4,
   "id": "f59dfbc1",
   "metadata": {},
   "outputs": [],
   "source": [
    "def run_query(query):\n",
    "    return pd.io.gbq.read_gbq(\n",
    "      query,\n",
    "      project_id=project_id,\n",
    "      credentials=credentials,\n",
    "      configuration={'query': {\n",
    "          'useLegacySql': False\n",
    "      }})"
   ]
  },
  {
   "cell_type": "code",
   "execution_count": 5,
   "id": "bd5ad317",
   "metadata": {},
   "outputs": [],
   "source": [
    "creatinine = run_query(\"\"\"SELECT * FROM `physionet-data.mimiciv_derived.kdigo_creatinine`\"\"\")\n",
    "crrt = run_query(\"\"\"SELECT * FROM `physionet-data.mimiciv_derived.crrt`\"\"\")\n",
    "uo = run_query(\"\"\"SELECT * FROM `physionet-data.mimiciv_derived.kdigo_uo`\"\"\")\n",
    "aki = run_query(\"\"\"SELECT * FROM `physionet-data.mimiciv_derived.kdigo_stages`\"\"\")"
   ]
  },
  {
   "cell_type": "code",
   "execution_count": 6,
   "id": "dfb8c1fb",
   "metadata": {},
   "outputs": [],
   "source": [
    "icustays = run_query(\"\"\"SELECT * FROM `physionet-data.mimiciv_icu.icustays`\"\"\")\n",
    "demo = run_query(\"\"\"SELECT * FROM `physionet-data.mimiciv_hosp.patients`\"\"\")\n",
    "admissions = run_query(\"\"\"SELECT * FROM `physionet-data.mimiciv_hosp.admissions`\"\"\")\n",
    "diag = run_query(\"\"\"SELECT * FROM `physionet-data.mimiciv_hosp.diagnoses_icd`\"\"\")\n",
    "dnr = run_query(\"\"\"SELECT hadm_id from `physionet-data.mimiciv_icu.chartevents` where itemid=22378 or itemid=228687\"\"\")"
   ]
  },
  {
   "cell_type": "code",
   "execution_count": 7,
   "id": "8dd190d0",
   "metadata": {},
   "outputs": [
    {
     "data": {
      "text/plain": [
       "(4103559, 13)"
      ]
     },
     "execution_count": 7,
     "metadata": {},
     "output_type": "execute_result"
    }
   ],
   "source": [
    "aki.shape"
   ]
  },
  {
   "cell_type": "code",
   "execution_count": 8,
   "id": "343b6885",
   "metadata": {},
   "outputs": [
    {
     "data": {
      "text/plain": [
       "subject_id               53569\n",
       "hadm_id                  69639\n",
       "stay_id                  76943\n",
       "charttime              1684027\n",
       "creat_low_past_7day        282\n",
       "creat_low_past_48hr        291\n",
       "creat                      321\n",
       "aki_stage_creat              4\n",
       "uo_rt_6hr                83659\n",
       "uo_rt_12hr               77383\n",
       "uo_rt_24hr               73792\n",
       "aki_stage_uo                 4\n",
       "aki_stage                    4\n",
       "dtype: int64"
      ]
     },
     "execution_count": 8,
     "metadata": {},
     "output_type": "execute_result"
    }
   ],
   "source": [
    "aki.nunique()"
   ]
  },
  {
   "cell_type": "code",
   "execution_count": 9,
   "id": "6a8e1018",
   "metadata": {},
   "outputs": [
    {
     "data": {
      "text/plain": [
       "0    3251195\n",
       "2     400254\n",
       "3     230228\n",
       "1     221882\n",
       "Name: aki_stage, dtype: Int64"
      ]
     },
     "execution_count": 9,
     "metadata": {},
     "output_type": "execute_result"
    }
   ],
   "source": [
    "aki['aki_stage'].value_counts()"
   ]
  },
  {
   "cell_type": "code",
   "execution_count": 10,
   "id": "7c9cc611",
   "metadata": {},
   "outputs": [],
   "source": [
    "# Merge on hadm_id and not subject_id to get the exact encounters.\n",
    "aki = aki.merge(admissions, on=['hadm_id', 'subject_id'])\n",
    "aki = aki.merge(icustays, on=['hadm_id', 'subject_id', 'stay_id'])\n",
    "aki = aki.merge(demo)"
   ]
  },
  {
   "cell_type": "code",
   "execution_count": 11,
   "id": "1666d650",
   "metadata": {},
   "outputs": [
    {
     "data": {
      "text/plain": [
       "(4103559, 36)"
      ]
     },
     "execution_count": 11,
     "metadata": {},
     "output_type": "execute_result"
    }
   ],
   "source": [
    "aki.shape"
   ]
  },
  {
   "cell_type": "code",
   "execution_count": 12,
   "id": "36d29ce0",
   "metadata": {},
   "outputs": [
    {
     "data": {
      "text/html": [
       "<div>\n",
       "<style scoped>\n",
       "    .dataframe tbody tr th:only-of-type {\n",
       "        vertical-align: middle;\n",
       "    }\n",
       "\n",
       "    .dataframe tbody tr th {\n",
       "        vertical-align: top;\n",
       "    }\n",
       "\n",
       "    .dataframe thead th {\n",
       "        text-align: right;\n",
       "    }\n",
       "</style>\n",
       "<table border=\"1\" class=\"dataframe\">\n",
       "  <thead>\n",
       "    <tr style=\"text-align: right;\">\n",
       "      <th></th>\n",
       "      <th>subject_id</th>\n",
       "      <th>hadm_id</th>\n",
       "      <th>stay_id</th>\n",
       "      <th>charttime</th>\n",
       "      <th>creat_low_past_7day</th>\n",
       "      <th>creat_low_past_48hr</th>\n",
       "      <th>creat</th>\n",
       "      <th>aki_stage_creat</th>\n",
       "      <th>uo_rt_6hr</th>\n",
       "      <th>uo_rt_12hr</th>\n",
       "      <th>...</th>\n",
       "      <th>first_careunit</th>\n",
       "      <th>last_careunit</th>\n",
       "      <th>intime</th>\n",
       "      <th>outtime</th>\n",
       "      <th>los</th>\n",
       "      <th>gender</th>\n",
       "      <th>anchor_age</th>\n",
       "      <th>anchor_year</th>\n",
       "      <th>anchor_year_group</th>\n",
       "      <th>dod</th>\n",
       "    </tr>\n",
       "  </thead>\n",
       "  <tbody>\n",
       "    <tr>\n",
       "      <th>0</th>\n",
       "      <td>17275599</td>\n",
       "      <td>29372610</td>\n",
       "      <td>30633205</td>\n",
       "      <td>2158-11-11 14:23:00</td>\n",
       "      <td>1.3</td>\n",
       "      <td>1.8</td>\n",
       "      <td>2.8</td>\n",
       "      <td>2</td>\n",
       "      <td>None</td>\n",
       "      <td>None</td>\n",
       "      <td>...</td>\n",
       "      <td>Surgical Intensive Care Unit (SICU)</td>\n",
       "      <td>Medical Intensive Care Unit (MICU)</td>\n",
       "      <td>2158-11-07 07:40:55</td>\n",
       "      <td>2158-11-15 09:38:12</td>\n",
       "      <td>8.081447</td>\n",
       "      <td>M</td>\n",
       "      <td>65</td>\n",
       "      <td>2158</td>\n",
       "      <td>2017 - 2019</td>\n",
       "      <td>2158-11-15</td>\n",
       "    </tr>\n",
       "    <tr>\n",
       "      <th>1</th>\n",
       "      <td>17275599</td>\n",
       "      <td>29372610</td>\n",
       "      <td>30633205</td>\n",
       "      <td>2158-11-09 02:14:00</td>\n",
       "      <td>1.3</td>\n",
       "      <td>1.3</td>\n",
       "      <td>1.3</td>\n",
       "      <td>0</td>\n",
       "      <td>None</td>\n",
       "      <td>None</td>\n",
       "      <td>...</td>\n",
       "      <td>Surgical Intensive Care Unit (SICU)</td>\n",
       "      <td>Medical Intensive Care Unit (MICU)</td>\n",
       "      <td>2158-11-07 07:40:55</td>\n",
       "      <td>2158-11-15 09:38:12</td>\n",
       "      <td>8.081447</td>\n",
       "      <td>M</td>\n",
       "      <td>65</td>\n",
       "      <td>2158</td>\n",
       "      <td>2017 - 2019</td>\n",
       "      <td>2158-11-15</td>\n",
       "    </tr>\n",
       "    <tr>\n",
       "      <th>2</th>\n",
       "      <td>17275599</td>\n",
       "      <td>29372610</td>\n",
       "      <td>30633205</td>\n",
       "      <td>2158-11-09 02:00:00</td>\n",
       "      <td>NaN</td>\n",
       "      <td>NaN</td>\n",
       "      <td>NaN</td>\n",
       "      <td>&lt;NA&gt;</td>\n",
       "      <td>0.549700000</td>\n",
       "      <td>0.537400000</td>\n",
       "      <td>...</td>\n",
       "      <td>Surgical Intensive Care Unit (SICU)</td>\n",
       "      <td>Medical Intensive Care Unit (MICU)</td>\n",
       "      <td>2158-11-07 07:40:55</td>\n",
       "      <td>2158-11-15 09:38:12</td>\n",
       "      <td>8.081447</td>\n",
       "      <td>M</td>\n",
       "      <td>65</td>\n",
       "      <td>2158</td>\n",
       "      <td>2017 - 2019</td>\n",
       "      <td>2158-11-15</td>\n",
       "    </tr>\n",
       "    <tr>\n",
       "      <th>3</th>\n",
       "      <td>17275599</td>\n",
       "      <td>29372610</td>\n",
       "      <td>30633205</td>\n",
       "      <td>2158-11-07 13:00:00</td>\n",
       "      <td>NaN</td>\n",
       "      <td>NaN</td>\n",
       "      <td>NaN</td>\n",
       "      <td>&lt;NA&gt;</td>\n",
       "      <td>0.704700000</td>\n",
       "      <td>0.704700000</td>\n",
       "      <td>...</td>\n",
       "      <td>Surgical Intensive Care Unit (SICU)</td>\n",
       "      <td>Medical Intensive Care Unit (MICU)</td>\n",
       "      <td>2158-11-07 07:40:55</td>\n",
       "      <td>2158-11-15 09:38:12</td>\n",
       "      <td>8.081447</td>\n",
       "      <td>M</td>\n",
       "      <td>65</td>\n",
       "      <td>2158</td>\n",
       "      <td>2017 - 2019</td>\n",
       "      <td>2158-11-15</td>\n",
       "    </tr>\n",
       "    <tr>\n",
       "      <th>4</th>\n",
       "      <td>17275599</td>\n",
       "      <td>29372610</td>\n",
       "      <td>30633205</td>\n",
       "      <td>2158-11-15 04:00:00</td>\n",
       "      <td>NaN</td>\n",
       "      <td>NaN</td>\n",
       "      <td>NaN</td>\n",
       "      <td>&lt;NA&gt;</td>\n",
       "      <td>3.012000000</td>\n",
       "      <td>0.690300000</td>\n",
       "      <td>...</td>\n",
       "      <td>Surgical Intensive Care Unit (SICU)</td>\n",
       "      <td>Medical Intensive Care Unit (MICU)</td>\n",
       "      <td>2158-11-07 07:40:55</td>\n",
       "      <td>2158-11-15 09:38:12</td>\n",
       "      <td>8.081447</td>\n",
       "      <td>M</td>\n",
       "      <td>65</td>\n",
       "      <td>2158</td>\n",
       "      <td>2017 - 2019</td>\n",
       "      <td>2158-11-15</td>\n",
       "    </tr>\n",
       "  </tbody>\n",
       "</table>\n",
       "<p>5 rows × 36 columns</p>\n",
       "</div>"
      ],
      "text/plain": [
       "   subject_id   hadm_id   stay_id           charttime  creat_low_past_7day  \\\n",
       "0    17275599  29372610  30633205 2158-11-11 14:23:00                  1.3   \n",
       "1    17275599  29372610  30633205 2158-11-09 02:14:00                  1.3   \n",
       "2    17275599  29372610  30633205 2158-11-09 02:00:00                  NaN   \n",
       "3    17275599  29372610  30633205 2158-11-07 13:00:00                  NaN   \n",
       "4    17275599  29372610  30633205 2158-11-15 04:00:00                  NaN   \n",
       "\n",
       "   creat_low_past_48hr  creat  aki_stage_creat    uo_rt_6hr   uo_rt_12hr  ...  \\\n",
       "0                  1.8    2.8                2         None         None  ...   \n",
       "1                  1.3    1.3                0         None         None  ...   \n",
       "2                  NaN    NaN             <NA>  0.549700000  0.537400000  ...   \n",
       "3                  NaN    NaN             <NA>  0.704700000  0.704700000  ...   \n",
       "4                  NaN    NaN             <NA>  3.012000000  0.690300000  ...   \n",
       "\n",
       "                        first_careunit                       last_careunit  \\\n",
       "0  Surgical Intensive Care Unit (SICU)  Medical Intensive Care Unit (MICU)   \n",
       "1  Surgical Intensive Care Unit (SICU)  Medical Intensive Care Unit (MICU)   \n",
       "2  Surgical Intensive Care Unit (SICU)  Medical Intensive Care Unit (MICU)   \n",
       "3  Surgical Intensive Care Unit (SICU)  Medical Intensive Care Unit (MICU)   \n",
       "4  Surgical Intensive Care Unit (SICU)  Medical Intensive Care Unit (MICU)   \n",
       "\n",
       "               intime             outtime       los gender anchor_age  \\\n",
       "0 2158-11-07 07:40:55 2158-11-15 09:38:12  8.081447      M         65   \n",
       "1 2158-11-07 07:40:55 2158-11-15 09:38:12  8.081447      M         65   \n",
       "2 2158-11-07 07:40:55 2158-11-15 09:38:12  8.081447      M         65   \n",
       "3 2158-11-07 07:40:55 2158-11-15 09:38:12  8.081447      M         65   \n",
       "4 2158-11-07 07:40:55 2158-11-15 09:38:12  8.081447      M         65   \n",
       "\n",
       "  anchor_year anchor_year_group         dod  \n",
       "0        2158       2017 - 2019  2158-11-15  \n",
       "1        2158       2017 - 2019  2158-11-15  \n",
       "2        2158       2017 - 2019  2158-11-15  \n",
       "3        2158       2017 - 2019  2158-11-15  \n",
       "4        2158       2017 - 2019  2158-11-15  \n",
       "\n",
       "[5 rows x 36 columns]"
      ]
     },
     "execution_count": 12,
     "metadata": {},
     "output_type": "execute_result"
    }
   ],
   "source": [
    "aki.head()"
   ]
  },
  {
   "cell_type": "markdown",
   "id": "4edc424a",
   "metadata": {},
   "source": [
    "## Inclusion / Exclusion Criteria \n",
    "1. Patients > 18\n",
    "2. 1st ICU stay\n",
    "3. Measurement of creatinine and urine ouput within 24 hours\n",
    "4. aki stage 2 \n",
    "5. not a CEER ICD 10-N18\n",
    "6. No DNR"
   ]
  },
  {
   "cell_type": "code",
   "execution_count": 13,
   "id": "a3c8d690",
   "metadata": {},
   "outputs": [],
   "source": [
    "# Filter aki for stage 2\n",
    "aki2 = aki[aki['aki_stage'] != 0].reset_index(drop=True)"
   ]
  },
  {
   "cell_type": "code",
   "execution_count": 14,
   "id": "212a842a",
   "metadata": {},
   "outputs": [
    {
     "data": {
      "text/plain": [
       "(852364, 36)"
      ]
     },
     "execution_count": 14,
     "metadata": {},
     "output_type": "execute_result"
    }
   ],
   "source": [
    "aki2.shape"
   ]
  },
  {
   "cell_type": "code",
   "execution_count": 15,
   "id": "38ff13c8",
   "metadata": {},
   "outputs": [],
   "source": [
    "# Patients > 18\n",
    "aki_18 = aki2[aki2['anchor_age'] >= 18]"
   ]
  },
  {
   "cell_type": "code",
   "execution_count": 16,
   "id": "0414d514",
   "metadata": {},
   "outputs": [
    {
     "data": {
      "text/plain": [
       "(852364, 36)"
      ]
     },
     "execution_count": 16,
     "metadata": {},
     "output_type": "execute_result"
    }
   ],
   "source": [
    "aki_18.shape"
   ]
  },
  {
   "cell_type": "code",
   "execution_count": 19,
   "id": "2e0cc65d",
   "metadata": {},
   "outputs": [],
   "source": [
    "# Get the first ICU stay.\n",
    "def get_first_icu_stay(df):\n",
    "    min_stay = df.groupby(by='subject_id')['intime'].min().reset_index()\n",
    "    result = df.merge(min_stay)\n",
    "    return result"
   ]
  },
  {
   "cell_type": "code",
   "execution_count": 20,
   "id": "18ffb03b",
   "metadata": {},
   "outputs": [],
   "source": [
    "aki_first = get_first_icu_stay(aki_18)"
   ]
  },
  {
   "cell_type": "code",
   "execution_count": 21,
   "id": "286add1b",
   "metadata": {},
   "outputs": [
    {
     "data": {
      "text/plain": [
       "(615481, 36)"
      ]
     },
     "execution_count": 21,
     "metadata": {},
     "output_type": "execute_result"
    }
   ],
   "source": [
    "aki_first.shape"
   ]
  },
  {
   "cell_type": "code",
   "execution_count": 24,
   "id": "d21a310c",
   "metadata": {},
   "outputs": [
    {
     "data": {
      "text/html": [
       "<div>\n",
       "<style scoped>\n",
       "    .dataframe tbody tr th:only-of-type {\n",
       "        vertical-align: middle;\n",
       "    }\n",
       "\n",
       "    .dataframe tbody tr th {\n",
       "        vertical-align: top;\n",
       "    }\n",
       "\n",
       "    .dataframe thead th {\n",
       "        text-align: right;\n",
       "    }\n",
       "</style>\n",
       "<table border=\"1\" class=\"dataframe\">\n",
       "  <thead>\n",
       "    <tr style=\"text-align: right;\">\n",
       "      <th></th>\n",
       "      <th>subject_id</th>\n",
       "      <th>hadm_id</th>\n",
       "      <th>ca_admittime</th>\n",
       "    </tr>\n",
       "  </thead>\n",
       "  <tbody>\n",
       "    <tr>\n",
       "      <th>0</th>\n",
       "      <td>10079700</td>\n",
       "      <td>24239751</td>\n",
       "      <td>2115-09-14 22:01:00</td>\n",
       "    </tr>\n",
       "    <tr>\n",
       "      <th>1</th>\n",
       "      <td>10108435</td>\n",
       "      <td>24349938</td>\n",
       "      <td>2192-04-12 00:07:00</td>\n",
       "    </tr>\n",
       "    <tr>\n",
       "      <th>2</th>\n",
       "      <td>10109956</td>\n",
       "      <td>26022059</td>\n",
       "      <td>2184-05-05 00:00:00</td>\n",
       "    </tr>\n",
       "    <tr>\n",
       "      <th>3</th>\n",
       "      <td>10131638</td>\n",
       "      <td>23938729</td>\n",
       "      <td>2165-02-21 23:03:00</td>\n",
       "    </tr>\n",
       "    <tr>\n",
       "      <th>4</th>\n",
       "      <td>10155734</td>\n",
       "      <td>20778459</td>\n",
       "      <td>2133-12-23 21:34:00</td>\n",
       "    </tr>\n",
       "  </tbody>\n",
       "</table>\n",
       "</div>"
      ],
      "text/plain": [
       "   subject_id   hadm_id        ca_admittime\n",
       "0    10079700  24239751 2115-09-14 22:01:00\n",
       "1    10108435  24349938 2192-04-12 00:07:00\n",
       "2    10109956  26022059 2184-05-05 00:00:00\n",
       "3    10131638  23938729 2165-02-21 23:03:00\n",
       "4    10155734  20778459 2133-12-23 21:34:00"
      ]
     },
     "execution_count": 24,
     "metadata": {},
     "output_type": "execute_result"
    }
   ],
   "source": [
    "# Find people with chronic kidney diease. \n",
    "# Drop all encounters after the diagnosis\n",
    "chronic_kidney = diag[diag['icd_code'].str.contains('n18', case=False)]\n",
    "chronic_kidney_time = chronic_kidney.merge(admissions)\n",
    "chronic_kidney_time = chronic_kidney_time[['subject_id', 'hadm_id', 'admittime']]\n",
    "chronic_kidney_time.rename({'admittime' : 'ca_admittime'}, axis=1, inplace=True)\n",
    "chronic_kidney_time.head()"
   ]
  },
  {
   "cell_type": "code",
   "execution_count": 25,
   "id": "ba7df2a4",
   "metadata": {},
   "outputs": [],
   "source": [
    "# Check this.\n",
    "to_drop = aki_first.merge(chronic_kidney_time, on=['subject_id'])\n",
    "to_drop = to_drop[to_drop['ca_admittime'] >= to_drop['admittime']]"
   ]
  },
  {
   "cell_type": "code",
   "execution_count": 29,
   "id": "79f6bbb4",
   "metadata": {},
   "outputs": [
    {
     "data": {
      "text/plain": [
       "(519251, 36)"
      ]
     },
     "execution_count": 29,
     "metadata": {},
     "output_type": "execute_result"
    }
   ],
   "source": [
    "aki_no_ck = aki_first[~aki_first['hadm_id'].isin(to_drop['hadm_id_x'].values)]\n",
    "aki_no_ck.shape"
   ]
  },
  {
   "cell_type": "code",
   "execution_count": 30,
   "id": "14018f11",
   "metadata": {},
   "outputs": [],
   "source": [
    "# DNR/DNI Item ID 22378 and 228687 in chart events."
   ]
  },
  {
   "cell_type": "code",
   "execution_count": 31,
   "id": "8c627378",
   "metadata": {},
   "outputs": [
    {
     "data": {
      "text/plain": [
       "(519251, 36)"
      ]
     },
     "execution_count": 31,
     "metadata": {},
     "output_type": "execute_result"
    }
   ],
   "source": [
    "aki_no_ck.shape"
   ]
  },
  {
   "cell_type": "code",
   "execution_count": 32,
   "id": "b26e4d96",
   "metadata": {},
   "outputs": [
    {
     "data": {
      "text/plain": [
       "(519251, 36)"
      ]
     },
     "execution_count": 32,
     "metadata": {},
     "output_type": "execute_result"
    }
   ],
   "source": [
    "aki_no_dnr = aki_no_ck[~aki_no_ck.isin(dnr['hadm_id'].values)]\n",
    "aki_no_dnr.shape"
   ]
  },
  {
   "cell_type": "code",
   "execution_count": 33,
   "id": "9d3f6e7c",
   "metadata": {},
   "outputs": [
    {
     "data": {
      "text/plain": [
       "(519251, 36)"
      ]
     },
     "execution_count": 33,
     "metadata": {},
     "output_type": "execute_result"
    }
   ],
   "source": [
    "aki_no_dnr.shape"
   ]
  },
  {
   "cell_type": "code",
   "execution_count": 34,
   "id": "d052e7dc",
   "metadata": {},
   "outputs": [],
   "source": [
    "creatinine.rename({'charttime' : 'creattime'}, axis=1, inplace=True)"
   ]
  },
  {
   "cell_type": "code",
   "execution_count": 39,
   "id": "cacadb4a",
   "metadata": {},
   "outputs": [],
   "source": [
    "def creat_24(y):\n",
    "    tmp = creatinine[creatinine['hadm_id'] == y['hadm_id']]\n",
    "    if tmp.shape[0] == 0:\n",
    "        return 0\n",
    "    tmp['48'] = tmp.apply(lambda x: 1 if x['creattime'] >= y['admittime'] and x['creattime'] <= (y['admittime'] + np.timedelta64(2, 'D')) else 0, axis=1)\n",
    "    if max(tmp['48']) == 1:\n",
    "        return 1\n",
    "    else: \n",
    "        return 0\n",
    "    \n",
    "def uo_24(y):\n",
    "    tmp = uo[uo['stay_id'] == y['stay_id']]\n",
    "    if tmp.shape[0] == 0:\n",
    "        return 0\n",
    "    \n",
    "    if max(pd.isnull(tmp['urineoutput_24hr'])) == 1:\n",
    "        return 0\n",
    "    else:\n",
    "        return 1"
   ]
  },
  {
   "cell_type": "code",
   "execution_count": 37,
   "id": "f7f97019",
   "metadata": {},
   "outputs": [
    {
     "ename": "KeyError",
     "evalue": "'urineoutput_48hr'",
     "output_type": "error",
     "traceback": [
      "\u001b[0;31m---------------------------------------------------------------------------\u001b[0m",
      "\u001b[0;31mKeyError\u001b[0m                                  Traceback (most recent call last)",
      "\u001b[0;32m~/.conda/envs/hiti/lib/python3.9/site-packages/pandas/core/indexes/base.py\u001b[0m in \u001b[0;36mget_loc\u001b[0;34m(self, key, method, tolerance)\u001b[0m\n\u001b[1;32m   3628\u001b[0m             \u001b[0;32mtry\u001b[0m\u001b[0;34m:\u001b[0m\u001b[0;34m\u001b[0m\u001b[0;34m\u001b[0m\u001b[0m\n\u001b[0;32m-> 3629\u001b[0;31m                 \u001b[0;32mreturn\u001b[0m \u001b[0mself\u001b[0m\u001b[0;34m.\u001b[0m\u001b[0m_engine\u001b[0m\u001b[0;34m.\u001b[0m\u001b[0mget_loc\u001b[0m\u001b[0;34m(\u001b[0m\u001b[0mcasted_key\u001b[0m\u001b[0;34m)\u001b[0m\u001b[0;34m\u001b[0m\u001b[0;34m\u001b[0m\u001b[0m\n\u001b[0m\u001b[1;32m   3630\u001b[0m             \u001b[0;32mexcept\u001b[0m \u001b[0mKeyError\u001b[0m \u001b[0;32mas\u001b[0m \u001b[0merr\u001b[0m\u001b[0;34m:\u001b[0m\u001b[0;34m\u001b[0m\u001b[0;34m\u001b[0m\u001b[0m\n",
      "\u001b[0;32m~/.conda/envs/hiti/lib/python3.9/site-packages/pandas/_libs/index.pyx\u001b[0m in \u001b[0;36mpandas._libs.index.IndexEngine.get_loc\u001b[0;34m()\u001b[0m\n",
      "\u001b[0;32m~/.conda/envs/hiti/lib/python3.9/site-packages/pandas/_libs/index.pyx\u001b[0m in \u001b[0;36mpandas._libs.index.IndexEngine.get_loc\u001b[0;34m()\u001b[0m\n",
      "\u001b[0;32mpandas/_libs/hashtable_class_helper.pxi\u001b[0m in \u001b[0;36mpandas._libs.hashtable.PyObjectHashTable.get_item\u001b[0;34m()\u001b[0m\n",
      "\u001b[0;32mpandas/_libs/hashtable_class_helper.pxi\u001b[0m in \u001b[0;36mpandas._libs.hashtable.PyObjectHashTable.get_item\u001b[0;34m()\u001b[0m\n",
      "\u001b[0;31mKeyError\u001b[0m: 'urineoutput_48hr'",
      "\nThe above exception was the direct cause of the following exception:\n",
      "\u001b[0;31mKeyError\u001b[0m                                  Traceback (most recent call last)",
      "\u001b[0;32m/tmp/ipykernel_52148/432413648.py\u001b[0m in \u001b[0;36m<module>\u001b[0;34m\u001b[0m\n\u001b[1;32m      1\u001b[0m \u001b[0;31m# 24 hour urine output and model.\u001b[0m\u001b[0;34m\u001b[0m\u001b[0;34m\u001b[0m\u001b[0m\n\u001b[1;32m      2\u001b[0m \u001b[0maki_no_dnr\u001b[0m\u001b[0;34m[\u001b[0m\u001b[0;34m'creat_24'\u001b[0m\u001b[0;34m]\u001b[0m \u001b[0;34m=\u001b[0m \u001b[0maki_no_dnr\u001b[0m\u001b[0;34m.\u001b[0m\u001b[0mapply\u001b[0m\u001b[0;34m(\u001b[0m\u001b[0mcreat_24\u001b[0m\u001b[0;34m,\u001b[0m \u001b[0maxis\u001b[0m\u001b[0;34m=\u001b[0m\u001b[0;36m1\u001b[0m\u001b[0;34m)\u001b[0m\u001b[0;34m\u001b[0m\u001b[0;34m\u001b[0m\u001b[0m\n\u001b[0;32m----> 3\u001b[0;31m \u001b[0maki_no_dnr\u001b[0m\u001b[0;34m[\u001b[0m\u001b[0;34m'urine_24'\u001b[0m\u001b[0;34m]\u001b[0m \u001b[0;34m=\u001b[0m \u001b[0maki_no_dnr\u001b[0m\u001b[0;34m.\u001b[0m\u001b[0mapply\u001b[0m\u001b[0;34m(\u001b[0m\u001b[0muo_24\u001b[0m\u001b[0;34m,\u001b[0m \u001b[0maxis\u001b[0m\u001b[0;34m=\u001b[0m\u001b[0;36m1\u001b[0m\u001b[0;34m)\u001b[0m\u001b[0;34m\u001b[0m\u001b[0;34m\u001b[0m\u001b[0m\n\u001b[0m",
      "\u001b[0;32m~/.conda/envs/hiti/lib/python3.9/site-packages/pandas/core/frame.py\u001b[0m in \u001b[0;36mapply\u001b[0;34m(self, func, axis, raw, result_type, args, **kwargs)\u001b[0m\n\u001b[1;32m   8846\u001b[0m             \u001b[0mkwargs\u001b[0m\u001b[0;34m=\u001b[0m\u001b[0mkwargs\u001b[0m\u001b[0;34m,\u001b[0m\u001b[0;34m\u001b[0m\u001b[0;34m\u001b[0m\u001b[0m\n\u001b[1;32m   8847\u001b[0m         )\n\u001b[0;32m-> 8848\u001b[0;31m         \u001b[0;32mreturn\u001b[0m \u001b[0mop\u001b[0m\u001b[0;34m.\u001b[0m\u001b[0mapply\u001b[0m\u001b[0;34m(\u001b[0m\u001b[0;34m)\u001b[0m\u001b[0;34m.\u001b[0m\u001b[0m__finalize__\u001b[0m\u001b[0;34m(\u001b[0m\u001b[0mself\u001b[0m\u001b[0;34m,\u001b[0m \u001b[0mmethod\u001b[0m\u001b[0;34m=\u001b[0m\u001b[0;34m\"apply\"\u001b[0m\u001b[0;34m)\u001b[0m\u001b[0;34m\u001b[0m\u001b[0;34m\u001b[0m\u001b[0m\n\u001b[0m\u001b[1;32m   8849\u001b[0m \u001b[0;34m\u001b[0m\u001b[0m\n\u001b[1;32m   8850\u001b[0m     def applymap(\n",
      "\u001b[0;32m~/.conda/envs/hiti/lib/python3.9/site-packages/pandas/core/apply.py\u001b[0m in \u001b[0;36mapply\u001b[0;34m(self)\u001b[0m\n\u001b[1;32m    731\u001b[0m             \u001b[0;32mreturn\u001b[0m \u001b[0mself\u001b[0m\u001b[0;34m.\u001b[0m\u001b[0mapply_raw\u001b[0m\u001b[0;34m(\u001b[0m\u001b[0;34m)\u001b[0m\u001b[0;34m\u001b[0m\u001b[0;34m\u001b[0m\u001b[0m\n\u001b[1;32m    732\u001b[0m \u001b[0;34m\u001b[0m\u001b[0m\n\u001b[0;32m--> 733\u001b[0;31m         \u001b[0;32mreturn\u001b[0m \u001b[0mself\u001b[0m\u001b[0;34m.\u001b[0m\u001b[0mapply_standard\u001b[0m\u001b[0;34m(\u001b[0m\u001b[0;34m)\u001b[0m\u001b[0;34m\u001b[0m\u001b[0;34m\u001b[0m\u001b[0m\n\u001b[0m\u001b[1;32m    734\u001b[0m \u001b[0;34m\u001b[0m\u001b[0m\n\u001b[1;32m    735\u001b[0m     \u001b[0;32mdef\u001b[0m \u001b[0magg\u001b[0m\u001b[0;34m(\u001b[0m\u001b[0mself\u001b[0m\u001b[0;34m)\u001b[0m\u001b[0;34m:\u001b[0m\u001b[0;34m\u001b[0m\u001b[0;34m\u001b[0m\u001b[0m\n",
      "\u001b[0;32m~/.conda/envs/hiti/lib/python3.9/site-packages/pandas/core/apply.py\u001b[0m in \u001b[0;36mapply_standard\u001b[0;34m(self)\u001b[0m\n\u001b[1;32m    855\u001b[0m \u001b[0;34m\u001b[0m\u001b[0m\n\u001b[1;32m    856\u001b[0m     \u001b[0;32mdef\u001b[0m \u001b[0mapply_standard\u001b[0m\u001b[0;34m(\u001b[0m\u001b[0mself\u001b[0m\u001b[0;34m)\u001b[0m\u001b[0;34m:\u001b[0m\u001b[0;34m\u001b[0m\u001b[0;34m\u001b[0m\u001b[0m\n\u001b[0;32m--> 857\u001b[0;31m         \u001b[0mresults\u001b[0m\u001b[0;34m,\u001b[0m \u001b[0mres_index\u001b[0m \u001b[0;34m=\u001b[0m \u001b[0mself\u001b[0m\u001b[0;34m.\u001b[0m\u001b[0mapply_series_generator\u001b[0m\u001b[0;34m(\u001b[0m\u001b[0;34m)\u001b[0m\u001b[0;34m\u001b[0m\u001b[0;34m\u001b[0m\u001b[0m\n\u001b[0m\u001b[1;32m    858\u001b[0m \u001b[0;34m\u001b[0m\u001b[0m\n\u001b[1;32m    859\u001b[0m         \u001b[0;31m# wrap results\u001b[0m\u001b[0;34m\u001b[0m\u001b[0;34m\u001b[0m\u001b[0m\n",
      "\u001b[0;32m~/.conda/envs/hiti/lib/python3.9/site-packages/pandas/core/apply.py\u001b[0m in \u001b[0;36mapply_series_generator\u001b[0;34m(self)\u001b[0m\n\u001b[1;32m    871\u001b[0m             \u001b[0;32mfor\u001b[0m \u001b[0mi\u001b[0m\u001b[0;34m,\u001b[0m \u001b[0mv\u001b[0m \u001b[0;32min\u001b[0m \u001b[0menumerate\u001b[0m\u001b[0;34m(\u001b[0m\u001b[0mseries_gen\u001b[0m\u001b[0;34m)\u001b[0m\u001b[0;34m:\u001b[0m\u001b[0;34m\u001b[0m\u001b[0;34m\u001b[0m\u001b[0m\n\u001b[1;32m    872\u001b[0m                 \u001b[0;31m# ignore SettingWithCopy here in case the user mutates\u001b[0m\u001b[0;34m\u001b[0m\u001b[0;34m\u001b[0m\u001b[0m\n\u001b[0;32m--> 873\u001b[0;31m                 \u001b[0mresults\u001b[0m\u001b[0;34m[\u001b[0m\u001b[0mi\u001b[0m\u001b[0;34m]\u001b[0m \u001b[0;34m=\u001b[0m \u001b[0mself\u001b[0m\u001b[0;34m.\u001b[0m\u001b[0mf\u001b[0m\u001b[0;34m(\u001b[0m\u001b[0mv\u001b[0m\u001b[0;34m)\u001b[0m\u001b[0;34m\u001b[0m\u001b[0;34m\u001b[0m\u001b[0m\n\u001b[0m\u001b[1;32m    874\u001b[0m                 \u001b[0;32mif\u001b[0m \u001b[0misinstance\u001b[0m\u001b[0;34m(\u001b[0m\u001b[0mresults\u001b[0m\u001b[0;34m[\u001b[0m\u001b[0mi\u001b[0m\u001b[0;34m]\u001b[0m\u001b[0;34m,\u001b[0m \u001b[0mABCSeries\u001b[0m\u001b[0;34m)\u001b[0m\u001b[0;34m:\u001b[0m\u001b[0;34m\u001b[0m\u001b[0;34m\u001b[0m\u001b[0m\n\u001b[1;32m    875\u001b[0m                     \u001b[0;31m# If we have a view on v, we need to make a copy because\u001b[0m\u001b[0;34m\u001b[0m\u001b[0;34m\u001b[0m\u001b[0m\n",
      "\u001b[0;32m/tmp/ipykernel_52148/2385963199.py\u001b[0m in \u001b[0;36muo_24\u001b[0;34m(y)\u001b[0m\n\u001b[1;32m     14\u001b[0m         \u001b[0;32mreturn\u001b[0m \u001b[0;36m0\u001b[0m\u001b[0;34m\u001b[0m\u001b[0;34m\u001b[0m\u001b[0m\n\u001b[1;32m     15\u001b[0m \u001b[0;34m\u001b[0m\u001b[0m\n\u001b[0;32m---> 16\u001b[0;31m     \u001b[0;32mif\u001b[0m \u001b[0mmax\u001b[0m\u001b[0;34m(\u001b[0m\u001b[0mpd\u001b[0m\u001b[0;34m.\u001b[0m\u001b[0misnull\u001b[0m\u001b[0;34m(\u001b[0m\u001b[0mtmp\u001b[0m\u001b[0;34m[\u001b[0m\u001b[0;34m'urineoutput_48hr'\u001b[0m\u001b[0;34m]\u001b[0m\u001b[0;34m)\u001b[0m\u001b[0;34m)\u001b[0m \u001b[0;34m==\u001b[0m \u001b[0;36m1\u001b[0m\u001b[0;34m:\u001b[0m\u001b[0;34m\u001b[0m\u001b[0;34m\u001b[0m\u001b[0m\n\u001b[0m\u001b[1;32m     17\u001b[0m         \u001b[0;32mreturn\u001b[0m \u001b[0;36m0\u001b[0m\u001b[0;34m\u001b[0m\u001b[0;34m\u001b[0m\u001b[0m\n\u001b[1;32m     18\u001b[0m     \u001b[0;32melse\u001b[0m\u001b[0;34m:\u001b[0m\u001b[0;34m\u001b[0m\u001b[0;34m\u001b[0m\u001b[0m\n",
      "\u001b[0;32m~/.conda/envs/hiti/lib/python3.9/site-packages/pandas/core/frame.py\u001b[0m in \u001b[0;36m__getitem__\u001b[0;34m(self, key)\u001b[0m\n\u001b[1;32m   3503\u001b[0m             \u001b[0;32mif\u001b[0m \u001b[0mself\u001b[0m\u001b[0;34m.\u001b[0m\u001b[0mcolumns\u001b[0m\u001b[0;34m.\u001b[0m\u001b[0mnlevels\u001b[0m \u001b[0;34m>\u001b[0m \u001b[0;36m1\u001b[0m\u001b[0;34m:\u001b[0m\u001b[0;34m\u001b[0m\u001b[0;34m\u001b[0m\u001b[0m\n\u001b[1;32m   3504\u001b[0m                 \u001b[0;32mreturn\u001b[0m \u001b[0mself\u001b[0m\u001b[0;34m.\u001b[0m\u001b[0m_getitem_multilevel\u001b[0m\u001b[0;34m(\u001b[0m\u001b[0mkey\u001b[0m\u001b[0;34m)\u001b[0m\u001b[0;34m\u001b[0m\u001b[0;34m\u001b[0m\u001b[0m\n\u001b[0;32m-> 3505\u001b[0;31m             \u001b[0mindexer\u001b[0m \u001b[0;34m=\u001b[0m \u001b[0mself\u001b[0m\u001b[0;34m.\u001b[0m\u001b[0mcolumns\u001b[0m\u001b[0;34m.\u001b[0m\u001b[0mget_loc\u001b[0m\u001b[0;34m(\u001b[0m\u001b[0mkey\u001b[0m\u001b[0;34m)\u001b[0m\u001b[0;34m\u001b[0m\u001b[0;34m\u001b[0m\u001b[0m\n\u001b[0m\u001b[1;32m   3506\u001b[0m             \u001b[0;32mif\u001b[0m \u001b[0mis_integer\u001b[0m\u001b[0;34m(\u001b[0m\u001b[0mindexer\u001b[0m\u001b[0;34m)\u001b[0m\u001b[0;34m:\u001b[0m\u001b[0;34m\u001b[0m\u001b[0;34m\u001b[0m\u001b[0m\n\u001b[1;32m   3507\u001b[0m                 \u001b[0mindexer\u001b[0m \u001b[0;34m=\u001b[0m \u001b[0;34m[\u001b[0m\u001b[0mindexer\u001b[0m\u001b[0;34m]\u001b[0m\u001b[0;34m\u001b[0m\u001b[0;34m\u001b[0m\u001b[0m\n",
      "\u001b[0;32m~/.conda/envs/hiti/lib/python3.9/site-packages/pandas/core/indexes/base.py\u001b[0m in \u001b[0;36mget_loc\u001b[0;34m(self, key, method, tolerance)\u001b[0m\n\u001b[1;32m   3629\u001b[0m                 \u001b[0;32mreturn\u001b[0m \u001b[0mself\u001b[0m\u001b[0;34m.\u001b[0m\u001b[0m_engine\u001b[0m\u001b[0;34m.\u001b[0m\u001b[0mget_loc\u001b[0m\u001b[0;34m(\u001b[0m\u001b[0mcasted_key\u001b[0m\u001b[0;34m)\u001b[0m\u001b[0;34m\u001b[0m\u001b[0;34m\u001b[0m\u001b[0m\n\u001b[1;32m   3630\u001b[0m             \u001b[0;32mexcept\u001b[0m \u001b[0mKeyError\u001b[0m \u001b[0;32mas\u001b[0m \u001b[0merr\u001b[0m\u001b[0;34m:\u001b[0m\u001b[0;34m\u001b[0m\u001b[0;34m\u001b[0m\u001b[0m\n\u001b[0;32m-> 3631\u001b[0;31m                 \u001b[0;32mraise\u001b[0m \u001b[0mKeyError\u001b[0m\u001b[0;34m(\u001b[0m\u001b[0mkey\u001b[0m\u001b[0;34m)\u001b[0m \u001b[0;32mfrom\u001b[0m \u001b[0merr\u001b[0m\u001b[0;34m\u001b[0m\u001b[0;34m\u001b[0m\u001b[0m\n\u001b[0m\u001b[1;32m   3632\u001b[0m             \u001b[0;32mexcept\u001b[0m \u001b[0mTypeError\u001b[0m\u001b[0;34m:\u001b[0m\u001b[0;34m\u001b[0m\u001b[0;34m\u001b[0m\u001b[0m\n\u001b[1;32m   3633\u001b[0m                 \u001b[0;31m# If we have a listlike key, _check_indexing_error will raise\u001b[0m\u001b[0;34m\u001b[0m\u001b[0;34m\u001b[0m\u001b[0m\n",
      "\u001b[0;31mKeyError\u001b[0m: 'urineoutput_48hr'"
     ]
    }
   ],
   "source": [
    "# 24 hour urine output and model.\n",
    "aki_no_dnr['creat_24'] = aki_no_dnr.apply(creat_24, axis=1)"
   ]
  },
  {
   "cell_type": "code",
   "execution_count": 40,
   "id": "8c425667",
   "metadata": {},
   "outputs": [],
   "source": [
    "aki_no_dnr['urine_24'] = aki_no_dnr.apply(uo_24, axis=1)"
   ]
  },
  {
   "cell_type": "code",
   "execution_count": 41,
   "id": "f70fbb59",
   "metadata": {},
   "outputs": [
    {
     "data": {
      "text/plain": [
       "1    476673\n",
       "0     42578\n",
       "Name: creat_24, dtype: int64"
      ]
     },
     "execution_count": 41,
     "metadata": {},
     "output_type": "execute_result"
    }
   ],
   "source": [
    "aki_no_dnr['creat_24'].value_counts()"
   ]
  },
  {
   "cell_type": "code",
   "execution_count": 42,
   "id": "76d11e29",
   "metadata": {},
   "outputs": [
    {
     "data": {
      "text/plain": [
       "1    518245\n",
       "0      1006\n",
       "Name: urine_24, dtype: int64"
      ]
     },
     "execution_count": 42,
     "metadata": {},
     "output_type": "execute_result"
    }
   ],
   "source": [
    "aki_no_dnr['urine_24'].value_counts()"
   ]
  },
  {
   "cell_type": "code",
   "execution_count": 43,
   "id": "0b3ca722",
   "metadata": {},
   "outputs": [],
   "source": [
    "aki_creat_uo_24 = aki_no_dnr[(aki_no_dnr['urine_24'] == 1) & (aki_no_dnr['creat_24'] == 1)]"
   ]
  },
  {
   "cell_type": "code",
   "execution_count": 44,
   "id": "a57e9b8e",
   "metadata": {},
   "outputs": [
    {
     "data": {
      "text/plain": [
       "(475839, 38)"
      ]
     },
     "execution_count": 44,
     "metadata": {},
     "output_type": "execute_result"
    }
   ],
   "source": [
    "aki_creat_uo_24 = aki_creat_uo_24.reset_index(drop=True)\n",
    "aki_creat_uo_24.shape"
   ]
  },
  {
   "cell_type": "code",
   "execution_count": 45,
   "id": "601a9468",
   "metadata": {},
   "outputs": [
    {
     "name": "stdout",
     "output_type": "stream",
     "text": [
      "<class 'pandas.core.frame.DataFrame'>\n",
      "RangeIndex: 475839 entries, 0 to 475838\n",
      "Data columns (total 38 columns):\n",
      " #   Column                Non-Null Count   Dtype         \n",
      "---  ------                --------------   -----         \n",
      " 0   subject_id            475839 non-null  Int64         \n",
      " 1   hadm_id               475839 non-null  Int64         \n",
      " 2   stay_id               475839 non-null  Int64         \n",
      " 3   charttime             475839 non-null  datetime64[ns]\n",
      " 4   creat_low_past_7day   57525 non-null   float64       \n",
      " 5   creat_low_past_48hr   57074 non-null   float64       \n",
      " 6   creat                 57527 non-null   float64       \n",
      " 7   aki_stage_creat       57527 non-null   Int64         \n",
      " 8   uo_rt_6hr             421908 non-null  object        \n",
      " 9   uo_rt_12hr            421908 non-null  object        \n",
      " 10  uo_rt_24hr            421908 non-null  object        \n",
      " 11  aki_stage_uo          421908 non-null  Int64         \n",
      " 12  aki_stage             475839 non-null  Int64         \n",
      " 13  admittime             475839 non-null  datetime64[ns]\n",
      " 14  dischtime             475839 non-null  datetime64[ns]\n",
      " 15  deathtime             119899 non-null  datetime64[ns]\n",
      " 16  admission_type        475839 non-null  object        \n",
      " 17  admission_location    475839 non-null  object        \n",
      " 18  discharge_location    474991 non-null  object        \n",
      " 19  insurance             475839 non-null  object        \n",
      " 20  language              475839 non-null  object        \n",
      " 21  marital_status        422285 non-null  object        \n",
      " 22  race                  475839 non-null  object        \n",
      " 23  edregtime             277669 non-null  datetime64[ns]\n",
      " 24  edouttime             277669 non-null  datetime64[ns]\n",
      " 25  hospital_expire_flag  475839 non-null  Int64         \n",
      " 26  first_careunit        475839 non-null  object        \n",
      " 27  last_careunit         475839 non-null  object        \n",
      " 28  intime                475839 non-null  datetime64[ns]\n",
      " 29  outtime               475839 non-null  datetime64[ns]\n",
      " 30  los                   475839 non-null  float64       \n",
      " 31  gender                475839 non-null  object        \n",
      " 32  anchor_age            475839 non-null  Int64         \n",
      " 33  anchor_year           475839 non-null  Int64         \n",
      " 34  anchor_year_group     475839 non-null  object        \n",
      " 35  dod                   238941 non-null  dbdate        \n",
      " 36  creat_24              475839 non-null  int64         \n",
      " 37  urine_24              475839 non-null  int64         \n",
      "dtypes: Int64(9), datetime64[ns](8), dbdate(1), float64(4), int64(2), object(14)\n",
      "memory usage: 142.0+ MB\n"
     ]
    }
   ],
   "source": [
    "aki_creat_uo_24.info()"
   ]
  },
  {
   "cell_type": "code",
   "execution_count": 46,
   "id": "03ae288f",
   "metadata": {},
   "outputs": [],
   "source": [
    "aki_creat_uo_24['anchor_age'] = aki_creat_uo_24['anchor_age'].astype(float)"
   ]
  },
  {
   "cell_type": "code",
   "execution_count": 47,
   "id": "9d3ce619",
   "metadata": {},
   "outputs": [
    {
     "name": "stderr",
     "output_type": "stream",
     "text": [
      "/home/jupyter-zaiman/.local/lib/python3.9/site-packages/tableone/tableone.py:991: FutureWarning: Using the level keyword in DataFrame and Series aggregations is deprecated and will be removed in a future version. Use groupby instead. df.sum(level=1) should use df.groupby(level=1).sum().\n",
      "  df['percent'] = df['freq'].div(df.freq.sum(level=0),\n",
      "/home/jupyter-zaiman/.local/lib/python3.9/site-packages/tableone/tableone.py:991: FutureWarning: Using the level keyword in DataFrame and Series aggregations is deprecated and will be removed in a future version. Use groupby instead. df.sum(level=1) should use df.groupby(level=1).sum().\n",
      "  df['percent'] = df['freq'].div(df.freq.sum(level=0),\n",
      "/home/jupyter-zaiman/.local/lib/python3.9/site-packages/tableone/tableone.py:991: FutureWarning: Using the level keyword in DataFrame and Series aggregations is deprecated and will be removed in a future version. Use groupby instead. df.sum(level=1) should use df.groupby(level=1).sum().\n",
      "  df['percent'] = df['freq'].div(df.freq.sum(level=0),\n",
      "/home/jupyter-zaiman/.local/lib/python3.9/site-packages/tableone/tableone.py:991: FutureWarning: Using the level keyword in DataFrame and Series aggregations is deprecated and will be removed in a future version. Use groupby instead. df.sum(level=1) should use df.groupby(level=1).sum().\n",
      "  df['percent'] = df['freq'].div(df.freq.sum(level=0),\n"
     ]
    }
   ],
   "source": [
    "cols = ['gender', 'anchor_age', 'race', 'hospital_expire_flag']\n",
    "categorical = ['gender', 'race', 'hospital_expire_flag']\n",
    "tab = TableOne(aki_creat_uo_24, columns=cols, categorical=categorical, groupby='aki_stage', pval=True)"
   ]
  },
  {
   "cell_type": "code",
   "execution_count": 50,
   "id": "e2c0b980",
   "metadata": {},
   "outputs": [
    {
     "data": {
      "text/html": [
       "<div>\n",
       "<style scoped>\n",
       "    .dataframe tbody tr th:only-of-type {\n",
       "        vertical-align: middle;\n",
       "    }\n",
       "\n",
       "    .dataframe tbody tr th {\n",
       "        vertical-align: top;\n",
       "    }\n",
       "\n",
       "    .dataframe thead tr th {\n",
       "        text-align: left;\n",
       "    }\n",
       "</style>\n",
       "<table border=\"1\" class=\"dataframe\">\n",
       "  <thead>\n",
       "    <tr>\n",
       "      <th></th>\n",
       "      <th></th>\n",
       "      <th colspan=\"6\" halign=\"left\">Grouped by aki_stage</th>\n",
       "    </tr>\n",
       "    <tr>\n",
       "      <th></th>\n",
       "      <th></th>\n",
       "      <th>Missing</th>\n",
       "      <th>Overall</th>\n",
       "      <th>1</th>\n",
       "      <th>2</th>\n",
       "      <th>3</th>\n",
       "      <th>P-Value</th>\n",
       "    </tr>\n",
       "  </thead>\n",
       "  <tbody>\n",
       "    <tr>\n",
       "      <th>n</th>\n",
       "      <th></th>\n",
       "      <td></td>\n",
       "      <td>475839</td>\n",
       "      <td>125858</td>\n",
       "      <td>236924</td>\n",
       "      <td>113057</td>\n",
       "      <td></td>\n",
       "    </tr>\n",
       "    <tr>\n",
       "      <th rowspan=\"2\" valign=\"top\">gender, n (%)</th>\n",
       "      <th>F</th>\n",
       "      <td>0</td>\n",
       "      <td>214664 (45.1)</td>\n",
       "      <td>53401 (42.4)</td>\n",
       "      <td>109325 (46.1)</td>\n",
       "      <td>51938 (45.9)</td>\n",
       "      <td>&lt;0.001</td>\n",
       "    </tr>\n",
       "    <tr>\n",
       "      <th>M</th>\n",
       "      <td></td>\n",
       "      <td>261175 (54.9)</td>\n",
       "      <td>72457 (57.6)</td>\n",
       "      <td>127599 (53.9)</td>\n",
       "      <td>61119 (54.1)</td>\n",
       "      <td></td>\n",
       "    </tr>\n",
       "    <tr>\n",
       "      <th>anchor_age, mean (SD)</th>\n",
       "      <th></th>\n",
       "      <td>0</td>\n",
       "      <td>65.7 (15.7)</td>\n",
       "      <td>65.8 (15.6)</td>\n",
       "      <td>66.5 (15.6)</td>\n",
       "      <td>63.9 (16.1)</td>\n",
       "      <td>&lt;0.001</td>\n",
       "    </tr>\n",
       "    <tr>\n",
       "      <th rowspan=\"33\" valign=\"top\">race, n (%)</th>\n",
       "      <th>AMERICAN INDIAN/ALASKA NATIVE</th>\n",
       "      <td>0</td>\n",
       "      <td>685 (0.1)</td>\n",
       "      <td>173 (0.1)</td>\n",
       "      <td>436 (0.2)</td>\n",
       "      <td>76 (0.1)</td>\n",
       "      <td>&lt;0.001</td>\n",
       "    </tr>\n",
       "    <tr>\n",
       "      <th>ASIAN</th>\n",
       "      <td></td>\n",
       "      <td>3618 (0.8)</td>\n",
       "      <td>1125 (0.9)</td>\n",
       "      <td>1678 (0.7)</td>\n",
       "      <td>815 (0.7)</td>\n",
       "      <td></td>\n",
       "    </tr>\n",
       "    <tr>\n",
       "      <th>ASIAN - ASIAN INDIAN</th>\n",
       "      <td></td>\n",
       "      <td>1267 (0.3)</td>\n",
       "      <td>204 (0.2)</td>\n",
       "      <td>393 (0.2)</td>\n",
       "      <td>670 (0.6)</td>\n",
       "      <td></td>\n",
       "    </tr>\n",
       "    <tr>\n",
       "      <th>ASIAN - CHINESE</th>\n",
       "      <td></td>\n",
       "      <td>2013 (0.4)</td>\n",
       "      <td>773 (0.6)</td>\n",
       "      <td>899 (0.4)</td>\n",
       "      <td>341 (0.3)</td>\n",
       "      <td></td>\n",
       "    </tr>\n",
       "    <tr>\n",
       "      <th>ASIAN - KOREAN</th>\n",
       "      <td></td>\n",
       "      <td>263 (0.1)</td>\n",
       "      <td>90 (0.1)</td>\n",
       "      <td>116 (0.0)</td>\n",
       "      <td>57 (0.1)</td>\n",
       "      <td></td>\n",
       "    </tr>\n",
       "    <tr>\n",
       "      <th>ASIAN - SOUTH EAST ASIAN</th>\n",
       "      <td></td>\n",
       "      <td>600 (0.1)</td>\n",
       "      <td>252 (0.2)</td>\n",
       "      <td>251 (0.1)</td>\n",
       "      <td>97 (0.1)</td>\n",
       "      <td></td>\n",
       "    </tr>\n",
       "    <tr>\n",
       "      <th>BLACK/AFRICAN</th>\n",
       "      <td></td>\n",
       "      <td>1112 (0.2)</td>\n",
       "      <td>295 (0.2)</td>\n",
       "      <td>554 (0.2)</td>\n",
       "      <td>263 (0.2)</td>\n",
       "      <td></td>\n",
       "    </tr>\n",
       "    <tr>\n",
       "      <th>BLACK/AFRICAN AMERICAN</th>\n",
       "      <td></td>\n",
       "      <td>31973 (6.7)</td>\n",
       "      <td>7528 (6.0)</td>\n",
       "      <td>14438 (6.1)</td>\n",
       "      <td>10007 (8.9)</td>\n",
       "      <td></td>\n",
       "    </tr>\n",
       "    <tr>\n",
       "      <th>BLACK/CAPE VERDEAN</th>\n",
       "      <td></td>\n",
       "      <td>2325 (0.5)</td>\n",
       "      <td>705 (0.6)</td>\n",
       "      <td>1203 (0.5)</td>\n",
       "      <td>417 (0.4)</td>\n",
       "      <td></td>\n",
       "    </tr>\n",
       "    <tr>\n",
       "      <th>BLACK/CARIBBEAN ISLAND</th>\n",
       "      <td></td>\n",
       "      <td>2012 (0.4)</td>\n",
       "      <td>546 (0.4)</td>\n",
       "      <td>996 (0.4)</td>\n",
       "      <td>470 (0.4)</td>\n",
       "      <td></td>\n",
       "    </tr>\n",
       "    <tr>\n",
       "      <th>HISPANIC OR LATINO</th>\n",
       "      <td></td>\n",
       "      <td>3099 (0.7)</td>\n",
       "      <td>889 (0.7)</td>\n",
       "      <td>1498 (0.6)</td>\n",
       "      <td>712 (0.6)</td>\n",
       "      <td></td>\n",
       "    </tr>\n",
       "    <tr>\n",
       "      <th>HISPANIC/LATINO - CENTRAL AMERICAN</th>\n",
       "      <td></td>\n",
       "      <td>282 (0.1)</td>\n",
       "      <td>60 (0.0)</td>\n",
       "      <td>153 (0.1)</td>\n",
       "      <td>69 (0.1)</td>\n",
       "      <td></td>\n",
       "    </tr>\n",
       "    <tr>\n",
       "      <th>HISPANIC/LATINO - COLUMBIAN</th>\n",
       "      <td></td>\n",
       "      <td>168 (0.0)</td>\n",
       "      <td>51 (0.0)</td>\n",
       "      <td>113 (0.0)</td>\n",
       "      <td>4 (0.0)</td>\n",
       "      <td></td>\n",
       "    </tr>\n",
       "    <tr>\n",
       "      <th>HISPANIC/LATINO - CUBAN</th>\n",
       "      <td></td>\n",
       "      <td>92 (0.0)</td>\n",
       "      <td>33 (0.0)</td>\n",
       "      <td>51 (0.0)</td>\n",
       "      <td>8 (0.0)</td>\n",
       "      <td></td>\n",
       "    </tr>\n",
       "    <tr>\n",
       "      <th>HISPANIC/LATINO - DOMINICAN</th>\n",
       "      <td></td>\n",
       "      <td>3005 (0.6)</td>\n",
       "      <td>861 (0.7)</td>\n",
       "      <td>1629 (0.7)</td>\n",
       "      <td>515 (0.5)</td>\n",
       "      <td></td>\n",
       "    </tr>\n",
       "    <tr>\n",
       "      <th>HISPANIC/LATINO - GUATEMALAN</th>\n",
       "      <td></td>\n",
       "      <td>198 (0.0)</td>\n",
       "      <td>91 (0.1)</td>\n",
       "      <td>99 (0.0)</td>\n",
       "      <td>8 (0.0)</td>\n",
       "      <td></td>\n",
       "    </tr>\n",
       "    <tr>\n",
       "      <th>HISPANIC/LATINO - HONDURAN</th>\n",
       "      <td></td>\n",
       "      <td>319 (0.1)</td>\n",
       "      <td>52 (0.0)</td>\n",
       "      <td>114 (0.0)</td>\n",
       "      <td>153 (0.1)</td>\n",
       "      <td></td>\n",
       "    </tr>\n",
       "    <tr>\n",
       "      <th>HISPANIC/LATINO - MEXICAN</th>\n",
       "      <td></td>\n",
       "      <td>370 (0.1)</td>\n",
       "      <td>85 (0.1)</td>\n",
       "      <td>236 (0.1)</td>\n",
       "      <td>49 (0.0)</td>\n",
       "      <td></td>\n",
       "    </tr>\n",
       "    <tr>\n",
       "      <th>HISPANIC/LATINO - PUERTO RICAN</th>\n",
       "      <td></td>\n",
       "      <td>4135 (0.9)</td>\n",
       "      <td>1118 (0.9)</td>\n",
       "      <td>1779 (0.8)</td>\n",
       "      <td>1238 (1.1)</td>\n",
       "      <td></td>\n",
       "    </tr>\n",
       "    <tr>\n",
       "      <th>HISPANIC/LATINO - SALVADORAN</th>\n",
       "      <td></td>\n",
       "      <td>289 (0.1)</td>\n",
       "      <td>85 (0.1)</td>\n",
       "      <td>200 (0.1)</td>\n",
       "      <td>4 (0.0)</td>\n",
       "      <td></td>\n",
       "    </tr>\n",
       "    <tr>\n",
       "      <th>MULTIPLE RACE/ETHNICITY</th>\n",
       "      <td></td>\n",
       "      <td>748 (0.2)</td>\n",
       "      <td>157 (0.1)</td>\n",
       "      <td>276 (0.1)</td>\n",
       "      <td>315 (0.3)</td>\n",
       "      <td></td>\n",
       "    </tr>\n",
       "    <tr>\n",
       "      <th>NATIVE HAWAIIAN OR OTHER PACIFIC ISLANDER</th>\n",
       "      <td></td>\n",
       "      <td>508 (0.1)</td>\n",
       "      <td>154 (0.1)</td>\n",
       "      <td>261 (0.1)</td>\n",
       "      <td>93 (0.1)</td>\n",
       "      <td></td>\n",
       "    </tr>\n",
       "    <tr>\n",
       "      <th>OTHER</th>\n",
       "      <td></td>\n",
       "      <td>15001 (3.2)</td>\n",
       "      <td>4058 (3.2)</td>\n",
       "      <td>7456 (3.1)</td>\n",
       "      <td>3487 (3.1)</td>\n",
       "      <td></td>\n",
       "    </tr>\n",
       "    <tr>\n",
       "      <th>PATIENT DECLINED TO ANSWER</th>\n",
       "      <td></td>\n",
       "      <td>3962 (0.8)</td>\n",
       "      <td>1058 (0.8)</td>\n",
       "      <td>1824 (0.8)</td>\n",
       "      <td>1080 (1.0)</td>\n",
       "      <td></td>\n",
       "    </tr>\n",
       "    <tr>\n",
       "      <th>PORTUGUESE</th>\n",
       "      <td></td>\n",
       "      <td>1044 (0.2)</td>\n",
       "      <td>326 (0.3)</td>\n",
       "      <td>580 (0.2)</td>\n",
       "      <td>138 (0.1)</td>\n",
       "      <td></td>\n",
       "    </tr>\n",
       "    <tr>\n",
       "      <th>SOUTH AMERICAN</th>\n",
       "      <td></td>\n",
       "      <td>81 (0.0)</td>\n",
       "      <td>49 (0.0)</td>\n",
       "      <td>30 (0.0)</td>\n",
       "      <td>2 (0.0)</td>\n",
       "      <td></td>\n",
       "    </tr>\n",
       "    <tr>\n",
       "      <th>UNABLE TO OBTAIN</th>\n",
       "      <td></td>\n",
       "      <td>12355 (2.6)</td>\n",
       "      <td>2913 (2.3)</td>\n",
       "      <td>5296 (2.2)</td>\n",
       "      <td>4146 (3.7)</td>\n",
       "      <td></td>\n",
       "    </tr>\n",
       "    <tr>\n",
       "      <th>UNKNOWN</th>\n",
       "      <td></td>\n",
       "      <td>61098 (12.8)</td>\n",
       "      <td>16433 (13.1)</td>\n",
       "      <td>30123 (12.7)</td>\n",
       "      <td>14542 (12.9)</td>\n",
       "      <td></td>\n",
       "    </tr>\n",
       "    <tr>\n",
       "      <th>WHITE</th>\n",
       "      <td></td>\n",
       "      <td>313090 (65.8)</td>\n",
       "      <td>82519 (65.6)</td>\n",
       "      <td>158689 (67.0)</td>\n",
       "      <td>71882 (63.6)</td>\n",
       "      <td></td>\n",
       "    </tr>\n",
       "    <tr>\n",
       "      <th>WHITE - BRAZILIAN</th>\n",
       "      <td></td>\n",
       "      <td>278 (0.1)</td>\n",
       "      <td>103 (0.1)</td>\n",
       "      <td>124 (0.1)</td>\n",
       "      <td>51 (0.0)</td>\n",
       "      <td></td>\n",
       "    </tr>\n",
       "    <tr>\n",
       "      <th>WHITE - EASTERN EUROPEAN</th>\n",
       "      <td></td>\n",
       "      <td>706 (0.1)</td>\n",
       "      <td>194 (0.2)</td>\n",
       "      <td>434 (0.2)</td>\n",
       "      <td>78 (0.1)</td>\n",
       "      <td></td>\n",
       "    </tr>\n",
       "    <tr>\n",
       "      <th>WHITE - OTHER EUROPEAN</th>\n",
       "      <td></td>\n",
       "      <td>6969 (1.5)</td>\n",
       "      <td>2123 (1.7)</td>\n",
       "      <td>3912 (1.7)</td>\n",
       "      <td>934 (0.8)</td>\n",
       "      <td></td>\n",
       "    </tr>\n",
       "    <tr>\n",
       "      <th>WHITE - RUSSIAN</th>\n",
       "      <td></td>\n",
       "      <td>2174 (0.5)</td>\n",
       "      <td>755 (0.6)</td>\n",
       "      <td>1083 (0.5)</td>\n",
       "      <td>336 (0.3)</td>\n",
       "      <td></td>\n",
       "    </tr>\n",
       "    <tr>\n",
       "      <th rowspan=\"2\" valign=\"top\">hospital_expire_flag, n (%)</th>\n",
       "      <th>0</th>\n",
       "      <td>0</td>\n",
       "      <td>355875 (74.8)</td>\n",
       "      <td>102756 (81.6)</td>\n",
       "      <td>184828 (78.0)</td>\n",
       "      <td>68291 (60.4)</td>\n",
       "      <td>&lt;0.001</td>\n",
       "    </tr>\n",
       "    <tr>\n",
       "      <th>1</th>\n",
       "      <td></td>\n",
       "      <td>119964 (25.2)</td>\n",
       "      <td>23102 (18.4)</td>\n",
       "      <td>52096 (22.0)</td>\n",
       "      <td>44766 (39.6)</td>\n",
       "      <td></td>\n",
       "    </tr>\n",
       "  </tbody>\n",
       "</table>\n",
       "</div><br />"
      ],
      "text/plain": [
       "                                                                      Grouped by aki_stage                                                                   \n",
       "                                                                                   Missing        Overall              1              2             3 P-Value\n",
       "n                                                                                                  475839         125858         236924        113057        \n",
       "gender, n (%)               F                                                            0  214664 (45.1)   53401 (42.4)  109325 (46.1)  51938 (45.9)  <0.001\n",
       "                            M                                                               261175 (54.9)   72457 (57.6)  127599 (53.9)  61119 (54.1)        \n",
       "anchor_age, mean (SD)                                                                    0    65.7 (15.7)    65.8 (15.6)    66.5 (15.6)   63.9 (16.1)  <0.001\n",
       "race, n (%)                 AMERICAN INDIAN/ALASKA NATIVE                                0      685 (0.1)      173 (0.1)      436 (0.2)      76 (0.1)  <0.001\n",
       "                            ASIAN                                                              3618 (0.8)     1125 (0.9)     1678 (0.7)     815 (0.7)        \n",
       "                            ASIAN - ASIAN INDIAN                                               1267 (0.3)      204 (0.2)      393 (0.2)     670 (0.6)        \n",
       "                            ASIAN - CHINESE                                                    2013 (0.4)      773 (0.6)      899 (0.4)     341 (0.3)        \n",
       "                            ASIAN - KOREAN                                                      263 (0.1)       90 (0.1)      116 (0.0)      57 (0.1)        \n",
       "                            ASIAN - SOUTH EAST ASIAN                                            600 (0.1)      252 (0.2)      251 (0.1)      97 (0.1)        \n",
       "                            BLACK/AFRICAN                                                      1112 (0.2)      295 (0.2)      554 (0.2)     263 (0.2)        \n",
       "                            BLACK/AFRICAN AMERICAN                                            31973 (6.7)     7528 (6.0)    14438 (6.1)   10007 (8.9)        \n",
       "                            BLACK/CAPE VERDEAN                                                 2325 (0.5)      705 (0.6)     1203 (0.5)     417 (0.4)        \n",
       "                            BLACK/CARIBBEAN ISLAND                                             2012 (0.4)      546 (0.4)      996 (0.4)     470 (0.4)        \n",
       "                            HISPANIC OR LATINO                                                 3099 (0.7)      889 (0.7)     1498 (0.6)     712 (0.6)        \n",
       "                            HISPANIC/LATINO - CENTRAL AMERICAN                                  282 (0.1)       60 (0.0)      153 (0.1)      69 (0.1)        \n",
       "                            HISPANIC/LATINO - COLUMBIAN                                         168 (0.0)       51 (0.0)      113 (0.0)       4 (0.0)        \n",
       "                            HISPANIC/LATINO - CUBAN                                              92 (0.0)       33 (0.0)       51 (0.0)       8 (0.0)        \n",
       "                            HISPANIC/LATINO - DOMINICAN                                        3005 (0.6)      861 (0.7)     1629 (0.7)     515 (0.5)        \n",
       "                            HISPANIC/LATINO - GUATEMALAN                                        198 (0.0)       91 (0.1)       99 (0.0)       8 (0.0)        \n",
       "                            HISPANIC/LATINO - HONDURAN                                          319 (0.1)       52 (0.0)      114 (0.0)     153 (0.1)        \n",
       "                            HISPANIC/LATINO - MEXICAN                                           370 (0.1)       85 (0.1)      236 (0.1)      49 (0.0)        \n",
       "                            HISPANIC/LATINO - PUERTO RICAN                                     4135 (0.9)     1118 (0.9)     1779 (0.8)    1238 (1.1)        \n",
       "                            HISPANIC/LATINO - SALVADORAN                                        289 (0.1)       85 (0.1)      200 (0.1)       4 (0.0)        \n",
       "                            MULTIPLE RACE/ETHNICITY                                             748 (0.2)      157 (0.1)      276 (0.1)     315 (0.3)        \n",
       "                            NATIVE HAWAIIAN OR OTHER PACIFIC ISLANDER                           508 (0.1)      154 (0.1)      261 (0.1)      93 (0.1)        \n",
       "                            OTHER                                                             15001 (3.2)     4058 (3.2)     7456 (3.1)    3487 (3.1)        \n",
       "                            PATIENT DECLINED TO ANSWER                                         3962 (0.8)     1058 (0.8)     1824 (0.8)    1080 (1.0)        \n",
       "                            PORTUGUESE                                                         1044 (0.2)      326 (0.3)      580 (0.2)     138 (0.1)        \n",
       "                            SOUTH AMERICAN                                                       81 (0.0)       49 (0.0)       30 (0.0)       2 (0.0)        \n",
       "                            UNABLE TO OBTAIN                                                  12355 (2.6)     2913 (2.3)     5296 (2.2)    4146 (3.7)        \n",
       "                            UNKNOWN                                                          61098 (12.8)   16433 (13.1)   30123 (12.7)  14542 (12.9)        \n",
       "                            WHITE                                                           313090 (65.8)   82519 (65.6)  158689 (67.0)  71882 (63.6)        \n",
       "                            WHITE - BRAZILIAN                                                   278 (0.1)      103 (0.1)      124 (0.1)      51 (0.0)        \n",
       "                            WHITE - EASTERN EUROPEAN                                            706 (0.1)      194 (0.2)      434 (0.2)      78 (0.1)        \n",
       "                            WHITE - OTHER EUROPEAN                                             6969 (1.5)     2123 (1.7)     3912 (1.7)     934 (0.8)        \n",
       "                            WHITE - RUSSIAN                                                    2174 (0.5)      755 (0.6)     1083 (0.5)     336 (0.3)        \n",
       "hospital_expire_flag, n (%) 0                                                            0  355875 (74.8)  102756 (81.6)  184828 (78.0)  68291 (60.4)  <0.001\n",
       "                            1                                                               119964 (25.2)   23102 (18.4)   52096 (22.0)  44766 (39.6)        "
      ]
     },
     "execution_count": 50,
     "metadata": {},
     "output_type": "execute_result"
    }
   ],
   "source": [
    "tab"
   ]
  },
  {
   "cell_type": "code",
   "execution_count": 49,
   "id": "0bb78a9a",
   "metadata": {},
   "outputs": [],
   "source": [
    "aki_creat_uo_24.to_csv('initial_cohort_no_covariates.csv', index=False)"
   ]
  },
  {
   "cell_type": "code",
   "execution_count": null,
   "id": "3c31b942",
   "metadata": {},
   "outputs": [],
   "source": []
  },
  {
   "cell_type": "code",
   "execution_count": null,
   "id": "f05ad143",
   "metadata": {},
   "outputs": [],
   "source": []
  },
  {
   "cell_type": "code",
   "execution_count": null,
   "id": "f3c9ea2e",
   "metadata": {},
   "outputs": [],
   "source": []
  },
  {
   "cell_type": "code",
   "execution_count": null,
   "id": "163abc5e",
   "metadata": {},
   "outputs": [],
   "source": []
  },
  {
   "cell_type": "code",
   "execution_count": null,
   "id": "f6541cd8",
   "metadata": {},
   "outputs": [],
   "source": []
  }
 ],
 "metadata": {
  "kernelspec": {
   "display_name": "hiti",
   "language": "python",
   "name": "hiti"
  },
  "language_info": {
   "codemirror_mode": {
    "name": "ipython",
    "version": 3
   },
   "file_extension": ".py",
   "mimetype": "text/x-python",
   "name": "python",
   "nbconvert_exporter": "python",
   "pygments_lexer": "ipython3",
   "version": "3.9.7"
  },
  "vscode": {
   "interpreter": {
    "hash": "8dd4a9027f561a0023857f4640bc54d91ed591d3caf9c5743307b8f6a9989ef9"
   }
  }
 },
 "nbformat": 4,
 "nbformat_minor": 5
}
