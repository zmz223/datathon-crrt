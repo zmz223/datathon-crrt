{
 "cells": [
  {
   "cell_type": "markdown",
   "id": "59c9d5c6",
   "metadata": {},
   "source": [
    "## Install Packages"
   ]
  },
  {
   "cell_type": "code",
   "execution_count": 1,
   "id": "db0433b1",
   "metadata": {},
   "outputs": [],
   "source": [
    "# !pip install awswrangler\n",
    "# !pip install tableone\n",
    "# !pip install tqdm"
   ]
  },
  {
   "cell_type": "markdown",
   "id": "e1502a3d",
   "metadata": {},
   "source": [
    "## Import Packages"
   ]
  },
  {
   "cell_type": "code",
   "execution_count": 2,
   "id": "1b1049fc",
   "metadata": {},
   "outputs": [],
   "source": [
    "import pandas as pd\n",
    "import numpy as np\n",
    "import os\n",
    "import matplotlib.pyplot as plt\n",
    "import seaborn as sns\n",
    "import awswrangler as wr\n",
    "from tqdm import tqdm\n",
    "from tableone import TableOne"
   ]
  },
  {
   "cell_type": "code",
   "execution_count": 3,
   "id": "4518195c",
   "metadata": {},
   "outputs": [],
   "source": [
    "# Load cohort created in the cohort notebook.\n",
    "cohort = pd.read_csv('initial_cohort_no_covariates.csv')\n",
    "cohort_pats = cohort['subject_id'].unique()"
   ]
  },
  {
   "cell_type": "code",
   "execution_count": 4,
   "id": "12b6c443",
   "metadata": {},
   "outputs": [
    {
     "data": {
      "text/plain": [
       "(70278, 38)"
      ]
     },
     "execution_count": 4,
     "metadata": {},
     "output_type": "execute_result"
    }
   ],
   "source": [
    "cohort.shape"
   ]
  },
  {
   "cell_type": "code",
   "execution_count": 5,
   "id": "8abdb3fa",
   "metadata": {},
   "outputs": [
    {
     "data": {
      "text/html": [
       "<div>\n",
       "<style scoped>\n",
       "    .dataframe tbody tr th:only-of-type {\n",
       "        vertical-align: middle;\n",
       "    }\n",
       "\n",
       "    .dataframe tbody tr th {\n",
       "        vertical-align: top;\n",
       "    }\n",
       "\n",
       "    .dataframe thead th {\n",
       "        text-align: right;\n",
       "    }\n",
       "</style>\n",
       "<table border=\"1\" class=\"dataframe\">\n",
       "  <thead>\n",
       "    <tr style=\"text-align: right;\">\n",
       "      <th></th>\n",
       "      <th>subject_id</th>\n",
       "      <th>hadm_id</th>\n",
       "      <th>stay_id</th>\n",
       "      <th>charttime</th>\n",
       "      <th>creat_low_past_7day</th>\n",
       "      <th>creat_low_past_48hr</th>\n",
       "      <th>creat</th>\n",
       "      <th>aki_stage_creat</th>\n",
       "      <th>uo_rt_6hr</th>\n",
       "      <th>uo_rt_12hr</th>\n",
       "      <th>...</th>\n",
       "      <th>anchor_year</th>\n",
       "      <th>anchor_year_group</th>\n",
       "      <th>dod</th>\n",
       "      <th>first_careunit</th>\n",
       "      <th>last_careunit</th>\n",
       "      <th>intime</th>\n",
       "      <th>outtime</th>\n",
       "      <th>los</th>\n",
       "      <th>creat_24</th>\n",
       "      <th>urine_24</th>\n",
       "    </tr>\n",
       "  </thead>\n",
       "  <tbody>\n",
       "    <tr>\n",
       "      <th>0</th>\n",
       "      <td>10004401</td>\n",
       "      <td>29988601</td>\n",
       "      <td>32773003</td>\n",
       "      <td>2144-01-27 22:51:00</td>\n",
       "      <td>1.3</td>\n",
       "      <td>1.4</td>\n",
       "      <td>2.3</td>\n",
       "      <td>1</td>\n",
       "      <td>NaN</td>\n",
       "      <td>NaN</td>\n",
       "      <td>...</td>\n",
       "      <td>2141</td>\n",
       "      <td>2008 - 2010</td>\n",
       "      <td>2144-06-18</td>\n",
       "      <td>Medical Intensive Care Unit (MICU)</td>\n",
       "      <td>Trauma SICU (TSICU)</td>\n",
       "      <td>2144-01-26 22:28:04</td>\n",
       "      <td>2144-02-06 13:44:15</td>\n",
       "      <td>10.636238</td>\n",
       "      <td>1</td>\n",
       "      <td>1</td>\n",
       "    </tr>\n",
       "    <tr>\n",
       "      <th>1</th>\n",
       "      <td>10004401</td>\n",
       "      <td>29988601</td>\n",
       "      <td>32773003</td>\n",
       "      <td>2144-01-27 01:39:00</td>\n",
       "      <td>1.3</td>\n",
       "      <td>1.3</td>\n",
       "      <td>2.1</td>\n",
       "      <td>1</td>\n",
       "      <td>NaN</td>\n",
       "      <td>NaN</td>\n",
       "      <td>...</td>\n",
       "      <td>2141</td>\n",
       "      <td>2008 - 2010</td>\n",
       "      <td>2144-06-18</td>\n",
       "      <td>Medical Intensive Care Unit (MICU)</td>\n",
       "      <td>Trauma SICU (TSICU)</td>\n",
       "      <td>2144-01-26 22:28:04</td>\n",
       "      <td>2144-02-06 13:44:15</td>\n",
       "      <td>10.636238</td>\n",
       "      <td>1</td>\n",
       "      <td>1</td>\n",
       "    </tr>\n",
       "    <tr>\n",
       "      <th>2</th>\n",
       "      <td>10004401</td>\n",
       "      <td>29988601</td>\n",
       "      <td>32773003</td>\n",
       "      <td>2144-01-27 10:36:00</td>\n",
       "      <td>1.3</td>\n",
       "      <td>1.3</td>\n",
       "      <td>2.3</td>\n",
       "      <td>1</td>\n",
       "      <td>NaN</td>\n",
       "      <td>NaN</td>\n",
       "      <td>...</td>\n",
       "      <td>2141</td>\n",
       "      <td>2008 - 2010</td>\n",
       "      <td>2144-06-18</td>\n",
       "      <td>Medical Intensive Care Unit (MICU)</td>\n",
       "      <td>Trauma SICU (TSICU)</td>\n",
       "      <td>2144-01-26 22:28:04</td>\n",
       "      <td>2144-02-06 13:44:15</td>\n",
       "      <td>10.636238</td>\n",
       "      <td>1</td>\n",
       "      <td>1</td>\n",
       "    </tr>\n",
       "    <tr>\n",
       "      <th>3</th>\n",
       "      <td>10004401</td>\n",
       "      <td>29988601</td>\n",
       "      <td>32773003</td>\n",
       "      <td>2144-02-05 02:18:00</td>\n",
       "      <td>1.0</td>\n",
       "      <td>1.5</td>\n",
       "      <td>1.6</td>\n",
       "      <td>1</td>\n",
       "      <td>NaN</td>\n",
       "      <td>NaN</td>\n",
       "      <td>...</td>\n",
       "      <td>2141</td>\n",
       "      <td>2008 - 2010</td>\n",
       "      <td>2144-06-18</td>\n",
       "      <td>Medical Intensive Care Unit (MICU)</td>\n",
       "      <td>Trauma SICU (TSICU)</td>\n",
       "      <td>2144-01-26 22:28:04</td>\n",
       "      <td>2144-02-06 13:44:15</td>\n",
       "      <td>10.636238</td>\n",
       "      <td>1</td>\n",
       "      <td>1</td>\n",
       "    </tr>\n",
       "    <tr>\n",
       "      <th>4</th>\n",
       "      <td>10004401</td>\n",
       "      <td>29988601</td>\n",
       "      <td>32773003</td>\n",
       "      <td>2144-01-28 02:33:00</td>\n",
       "      <td>1.3</td>\n",
       "      <td>1.4</td>\n",
       "      <td>2.3</td>\n",
       "      <td>1</td>\n",
       "      <td>NaN</td>\n",
       "      <td>NaN</td>\n",
       "      <td>...</td>\n",
       "      <td>2141</td>\n",
       "      <td>2008 - 2010</td>\n",
       "      <td>2144-06-18</td>\n",
       "      <td>Medical Intensive Care Unit (MICU)</td>\n",
       "      <td>Trauma SICU (TSICU)</td>\n",
       "      <td>2144-01-26 22:28:04</td>\n",
       "      <td>2144-02-06 13:44:15</td>\n",
       "      <td>10.636238</td>\n",
       "      <td>1</td>\n",
       "      <td>1</td>\n",
       "    </tr>\n",
       "  </tbody>\n",
       "</table>\n",
       "<p>5 rows × 38 columns</p>\n",
       "</div>"
      ],
      "text/plain": [
       "   subject_id   hadm_id   stay_id            charttime  creat_low_past_7day  \\\n",
       "0    10004401  29988601  32773003  2144-01-27 22:51:00                  1.3   \n",
       "1    10004401  29988601  32773003  2144-01-27 01:39:00                  1.3   \n",
       "2    10004401  29988601  32773003  2144-01-27 10:36:00                  1.3   \n",
       "3    10004401  29988601  32773003  2144-02-05 02:18:00                  1.0   \n",
       "4    10004401  29988601  32773003  2144-01-28 02:33:00                  1.3   \n",
       "\n",
       "   creat_low_past_48hr  creat  aki_stage_creat  uo_rt_6hr  uo_rt_12hr  ...  \\\n",
       "0                  1.4    2.3                1        NaN         NaN  ...   \n",
       "1                  1.3    2.1                1        NaN         NaN  ...   \n",
       "2                  1.3    2.3                1        NaN         NaN  ...   \n",
       "3                  1.5    1.6                1        NaN         NaN  ...   \n",
       "4                  1.4    2.3                1        NaN         NaN  ...   \n",
       "\n",
       "   anchor_year  anchor_year_group         dod  \\\n",
       "0         2141        2008 - 2010  2144-06-18   \n",
       "1         2141        2008 - 2010  2144-06-18   \n",
       "2         2141        2008 - 2010  2144-06-18   \n",
       "3         2141        2008 - 2010  2144-06-18   \n",
       "4         2141        2008 - 2010  2144-06-18   \n",
       "\n",
       "                       first_careunit        last_careunit  \\\n",
       "0  Medical Intensive Care Unit (MICU)  Trauma SICU (TSICU)   \n",
       "1  Medical Intensive Care Unit (MICU)  Trauma SICU (TSICU)   \n",
       "2  Medical Intensive Care Unit (MICU)  Trauma SICU (TSICU)   \n",
       "3  Medical Intensive Care Unit (MICU)  Trauma SICU (TSICU)   \n",
       "4  Medical Intensive Care Unit (MICU)  Trauma SICU (TSICU)   \n",
       "\n",
       "                intime              outtime        los creat_24 urine_24  \n",
       "0  2144-01-26 22:28:04  2144-02-06 13:44:15  10.636238        1        1  \n",
       "1  2144-01-26 22:28:04  2144-02-06 13:44:15  10.636238        1        1  \n",
       "2  2144-01-26 22:28:04  2144-02-06 13:44:15  10.636238        1        1  \n",
       "3  2144-01-26 22:28:04  2144-02-06 13:44:15  10.636238        1        1  \n",
       "4  2144-01-26 22:28:04  2144-02-06 13:44:15  10.636238        1        1  \n",
       "\n",
       "[5 rows x 38 columns]"
      ]
     },
     "execution_count": 5,
     "metadata": {},
     "output_type": "execute_result"
    }
   ],
   "source": [
    "cohort.head()"
   ]
  },
  {
   "cell_type": "code",
   "execution_count": 6,
   "id": "9143f52d",
   "metadata": {},
   "outputs": [
    {
     "data": {
      "text/plain": [
       "['subject_id',\n",
       " 'hadm_id',\n",
       " 'stay_id',\n",
       " 'charttime',\n",
       " 'creat_low_past_7day',\n",
       " 'creat_low_past_48hr',\n",
       " 'creat',\n",
       " 'aki_stage_creat',\n",
       " 'uo_rt_6hr',\n",
       " 'uo_rt_12hr',\n",
       " 'uo_rt_24hr',\n",
       " 'aki_stage_uo',\n",
       " 'aki_stage',\n",
       " 'admittime',\n",
       " 'dischtime',\n",
       " 'deathtime',\n",
       " 'admission_type',\n",
       " 'admission_location',\n",
       " 'discharge_location',\n",
       " 'insurance',\n",
       " 'language',\n",
       " 'marital_status',\n",
       " 'race',\n",
       " 'edregtime',\n",
       " 'edouttime',\n",
       " 'hospital_expire_flag',\n",
       " 'gender',\n",
       " 'anchor_age',\n",
       " 'anchor_year',\n",
       " 'anchor_year_group',\n",
       " 'dod',\n",
       " 'first_careunit',\n",
       " 'last_careunit',\n",
       " 'intime',\n",
       " 'outtime',\n",
       " 'los',\n",
       " 'creat_24',\n",
       " 'urine_24']"
      ]
     },
     "execution_count": 6,
     "metadata": {},
     "output_type": "execute_result"
    }
   ],
   "source": [
    "list(cohort)"
   ]
  },
  {
   "cell_type": "code",
   "execution_count": 7,
   "id": "f74e1f99",
   "metadata": {},
   "outputs": [],
   "source": [
    "cohort['charttime'] = pd.to_datetime(cohort['charttime'])\n",
    "cohort['intime'] = pd.to_datetime(cohort['intime'])\n",
    "cohort['outtime'] = pd.to_datetime(cohort['outtime'])"
   ]
  },
  {
   "cell_type": "code",
   "execution_count": 8,
   "id": "c5c7b741",
   "metadata": {},
   "outputs": [],
   "source": [
    "cohort_icu_48 = cohort[(cohort['charttime'] >= cohort['intime']) & (cohort['charttime'] <= (cohort['intime'] + np.timedelta64(2, 'D')))]"
   ]
  },
  {
   "cell_type": "code",
   "execution_count": 9,
   "id": "c852a128",
   "metadata": {},
   "outputs": [
    {
     "data": {
      "text/plain": [
       "(25516, 38)"
      ]
     },
     "execution_count": 9,
     "metadata": {},
     "output_type": "execute_result"
    }
   ],
   "source": [
    "cohort_icu_48.shape"
   ]
  },
  {
   "cell_type": "code",
   "execution_count": 10,
   "id": "4d85e948",
   "metadata": {},
   "outputs": [],
   "source": [
    "min_stay = cohort_icu_48.groupby('stay_id')['intime'].min()\n",
    "cohort_icu_48_first_aki = cohort_icu_48.merge(min_stay)"
   ]
  },
  {
   "cell_type": "code",
   "execution_count": 11,
   "id": "9a86d400",
   "metadata": {},
   "outputs": [],
   "source": [
    "labs = wr.athena.read_sql_query(f\"SELECT * from crrt_cov_labs where subject_id IN {str(tuple(cohort_pats))}\", database=\"mimiciv\")"
   ]
  },
  {
   "cell_type": "code",
   "execution_count": 12,
   "id": "b6d1741b",
   "metadata": {},
   "outputs": [
    {
     "data": {
      "text/plain": [
       "(3821379, 16)"
      ]
     },
     "execution_count": 12,
     "metadata": {},
     "output_type": "execute_result"
    }
   ],
   "source": [
    "labs.shape"
   ]
  },
  {
   "cell_type": "code",
   "execution_count": 19,
   "id": "211fceed",
   "metadata": {},
   "outputs": [],
   "source": [
    "# Drop outpatient labs with null hadm ids. \n",
    "# Iterate to avoid memory error\n",
    "cohort_icu_stay = cohort_icu_48_first_aki[['hadm_id', 'intime', 'outtime']]"
   ]
  },
  {
   "cell_type": "code",
   "execution_count": 20,
   "id": "558b9e54",
   "metadata": {},
   "outputs": [],
   "source": [
    "labs = labs.dropna(subset=['hadm_id'])"
   ]
  },
  {
   "cell_type": "code",
   "execution_count": 24,
   "id": "d52b12c1",
   "metadata": {},
   "outputs": [],
   "source": [
    "labs_merged = labs.merge(cohort_icu_48_first_aki, on=['hadm_id', 'subject_id'])"
   ]
  },
  {
   "cell_type": "code",
   "execution_count": 26,
   "id": "b429a881",
   "metadata": {},
   "outputs": [],
   "source": [
    "labs_merged['charttime'] = pd.to_datetime(labs_merged['charttime_x'])\n",
    "labs_merged['intime'] = pd.to_datetime(labs_merged['intime'])\n",
    "labs_merged['outtime'] = pd.to_datetime(labs_merged['outtime'])"
   ]
  },
  {
   "cell_type": "code",
   "execution_count": 27,
   "id": "e6c10540",
   "metadata": {},
   "outputs": [],
   "source": [
    "labs_filt = labs_merged[(labs_merged['charttime'] >= labs_merged['intime']) & (labs_merged['charttime'] <= labs_merged['outtime'])]"
   ]
  },
  {
   "cell_type": "code",
   "execution_count": 28,
   "id": "4d1c15f6",
   "metadata": {},
   "outputs": [
    {
     "data": {
      "text/plain": [
       "(2361999, 53)"
      ]
     },
     "execution_count": 28,
     "metadata": {},
     "output_type": "execute_result"
    }
   ],
   "source": [
    "labs_filt.shape"
   ]
  },
  {
   "cell_type": "code",
   "execution_count": 29,
   "id": "b83bd7ef",
   "metadata": {},
   "outputs": [
    {
     "data": {
      "text/plain": [
       "['labevent_id',\n",
       " 'subject_id',\n",
       " 'hadm_id',\n",
       " 'specimen_id',\n",
       " 'itemid',\n",
       " 'charttime_x',\n",
       " 'storetime',\n",
       " 'value',\n",
       " 'valuenum',\n",
       " 'valueuom',\n",
       " 'ref_range_lower',\n",
       " 'ref_range_upper',\n",
       " 'flag',\n",
       " 'priority',\n",
       " 'comments',\n",
       " 'label',\n",
       " 'stay_id',\n",
       " 'charttime_y',\n",
       " 'creat_low_past_7day',\n",
       " 'creat_low_past_48hr',\n",
       " 'creat',\n",
       " 'aki_stage_creat',\n",
       " 'uo_rt_6hr',\n",
       " 'uo_rt_12hr',\n",
       " 'uo_rt_24hr',\n",
       " 'aki_stage_uo',\n",
       " 'aki_stage',\n",
       " 'admittime',\n",
       " 'dischtime',\n",
       " 'deathtime',\n",
       " 'admission_type',\n",
       " 'admission_location',\n",
       " 'discharge_location',\n",
       " 'insurance',\n",
       " 'language',\n",
       " 'marital_status',\n",
       " 'race',\n",
       " 'edregtime',\n",
       " 'edouttime',\n",
       " 'hospital_expire_flag',\n",
       " 'gender',\n",
       " 'anchor_age',\n",
       " 'anchor_year',\n",
       " 'anchor_year_group',\n",
       " 'dod',\n",
       " 'first_careunit',\n",
       " 'last_careunit',\n",
       " 'intime',\n",
       " 'outtime',\n",
       " 'los',\n",
       " 'creat_24',\n",
       " 'urine_24',\n",
       " 'charttime']"
      ]
     },
     "execution_count": 29,
     "metadata": {},
     "output_type": "execute_result"
    }
   ],
   "source": [
    "list(labs_merged)"
   ]
  },
  {
   "cell_type": "code",
   "execution_count": 30,
   "id": "9a8c709a",
   "metadata": {},
   "outputs": [],
   "source": [
    "lab_description = pd.pivot_table(labs, values=['valuenum'], index=['hadm_id'], columns=['label'], aggfunc=[np.nanmin, np.nanmax])"
   ]
  },
  {
   "cell_type": "code",
   "execution_count": 31,
   "id": "dff85480",
   "metadata": {},
   "outputs": [],
   "source": [
    "lab_description = lab_description.reset_index()"
   ]
  },
  {
   "cell_type": "code",
   "execution_count": 32,
   "id": "8701d260",
   "metadata": {},
   "outputs": [],
   "source": [
    "cols = [\"_\".join(x) for x in list(lab_description)]\n",
    "cols[0] = 'hadm_id'\n",
    "lab_description.columns = cols"
   ]
  },
  {
   "cell_type": "code",
   "execution_count": 47,
   "id": "11e098a6",
   "metadata": {},
   "outputs": [],
   "source": [
    "cohort_icu_labs = cohort_icu_48_first_aki.merge(lab_description, on='hadm_id')"
   ]
  },
  {
   "cell_type": "code",
   "execution_count": 48,
   "id": "2f5308f2",
   "metadata": {},
   "outputs": [
    {
     "data": {
      "text/html": [
       "<div>\n",
       "<style scoped>\n",
       "    .dataframe tbody tr th:only-of-type {\n",
       "        vertical-align: middle;\n",
       "    }\n",
       "\n",
       "    .dataframe tbody tr th {\n",
       "        vertical-align: top;\n",
       "    }\n",
       "\n",
       "    .dataframe thead th {\n",
       "        text-align: right;\n",
       "    }\n",
       "</style>\n",
       "<table border=\"1\" class=\"dataframe\">\n",
       "  <thead>\n",
       "    <tr style=\"text-align: right;\">\n",
       "      <th></th>\n",
       "      <th>subject_id</th>\n",
       "      <th>hadm_id</th>\n",
       "      <th>stay_id</th>\n",
       "      <th>charttime</th>\n",
       "      <th>creat_low_past_7day</th>\n",
       "      <th>creat_low_past_48hr</th>\n",
       "      <th>creat</th>\n",
       "      <th>aki_stage_creat</th>\n",
       "      <th>uo_rt_6hr</th>\n",
       "      <th>uo_rt_12hr</th>\n",
       "      <th>...</th>\n",
       "      <th>nanmax_valuenum_Albumin</th>\n",
       "      <th>nanmax_valuenum_Bicarbonate</th>\n",
       "      <th>nanmax_valuenum_Calculated Bicarbonate, Whole Blood</th>\n",
       "      <th>nanmax_valuenum_Creatinine</th>\n",
       "      <th>nanmax_valuenum_Hematocrit</th>\n",
       "      <th>nanmax_valuenum_Hematocrit, Calculated</th>\n",
       "      <th>nanmax_valuenum_Potassium</th>\n",
       "      <th>nanmax_valuenum_Potassium, Whole Blood</th>\n",
       "      <th>nanmax_valuenum_Urea Nitrogen</th>\n",
       "      <th>nanmax_valuenum_pH</th>\n",
       "    </tr>\n",
       "  </thead>\n",
       "  <tbody>\n",
       "    <tr>\n",
       "      <th>0</th>\n",
       "      <td>10004401</td>\n",
       "      <td>29988601</td>\n",
       "      <td>32773003</td>\n",
       "      <td>2144-01-27 22:51:00</td>\n",
       "      <td>1.3</td>\n",
       "      <td>1.4</td>\n",
       "      <td>2.3</td>\n",
       "      <td>1</td>\n",
       "      <td>NaN</td>\n",
       "      <td>NaN</td>\n",
       "      <td>...</td>\n",
       "      <td>3.0</td>\n",
       "      <td>27.0</td>\n",
       "      <td>23.0</td>\n",
       "      <td>2.3</td>\n",
       "      <td>28.700001</td>\n",
       "      <td>NaN</td>\n",
       "      <td>5.5</td>\n",
       "      <td>5.1</td>\n",
       "      <td>107.0</td>\n",
       "      <td>7.45</td>\n",
       "    </tr>\n",
       "    <tr>\n",
       "      <th>1</th>\n",
       "      <td>10004401</td>\n",
       "      <td>29988601</td>\n",
       "      <td>32773003</td>\n",
       "      <td>2144-01-27 01:39:00</td>\n",
       "      <td>1.3</td>\n",
       "      <td>1.3</td>\n",
       "      <td>2.1</td>\n",
       "      <td>1</td>\n",
       "      <td>NaN</td>\n",
       "      <td>NaN</td>\n",
       "      <td>...</td>\n",
       "      <td>3.0</td>\n",
       "      <td>27.0</td>\n",
       "      <td>23.0</td>\n",
       "      <td>2.3</td>\n",
       "      <td>28.700001</td>\n",
       "      <td>NaN</td>\n",
       "      <td>5.5</td>\n",
       "      <td>5.1</td>\n",
       "      <td>107.0</td>\n",
       "      <td>7.45</td>\n",
       "    </tr>\n",
       "    <tr>\n",
       "      <th>2</th>\n",
       "      <td>10004401</td>\n",
       "      <td>29988601</td>\n",
       "      <td>32773003</td>\n",
       "      <td>2144-01-27 10:36:00</td>\n",
       "      <td>1.3</td>\n",
       "      <td>1.3</td>\n",
       "      <td>2.3</td>\n",
       "      <td>1</td>\n",
       "      <td>NaN</td>\n",
       "      <td>NaN</td>\n",
       "      <td>...</td>\n",
       "      <td>3.0</td>\n",
       "      <td>27.0</td>\n",
       "      <td>23.0</td>\n",
       "      <td>2.3</td>\n",
       "      <td>28.700001</td>\n",
       "      <td>NaN</td>\n",
       "      <td>5.5</td>\n",
       "      <td>5.1</td>\n",
       "      <td>107.0</td>\n",
       "      <td>7.45</td>\n",
       "    </tr>\n",
       "    <tr>\n",
       "      <th>3</th>\n",
       "      <td>10004401</td>\n",
       "      <td>29988601</td>\n",
       "      <td>32773003</td>\n",
       "      <td>2144-01-28 02:33:00</td>\n",
       "      <td>1.3</td>\n",
       "      <td>1.4</td>\n",
       "      <td>2.3</td>\n",
       "      <td>1</td>\n",
       "      <td>NaN</td>\n",
       "      <td>NaN</td>\n",
       "      <td>...</td>\n",
       "      <td>3.0</td>\n",
       "      <td>27.0</td>\n",
       "      <td>23.0</td>\n",
       "      <td>2.3</td>\n",
       "      <td>28.700001</td>\n",
       "      <td>NaN</td>\n",
       "      <td>5.5</td>\n",
       "      <td>5.1</td>\n",
       "      <td>107.0</td>\n",
       "      <td>7.45</td>\n",
       "    </tr>\n",
       "    <tr>\n",
       "      <th>4</th>\n",
       "      <td>10004401</td>\n",
       "      <td>29988601</td>\n",
       "      <td>32773003</td>\n",
       "      <td>2144-01-27 03:26:00</td>\n",
       "      <td>1.3</td>\n",
       "      <td>1.3</td>\n",
       "      <td>2.1</td>\n",
       "      <td>1</td>\n",
       "      <td>NaN</td>\n",
       "      <td>NaN</td>\n",
       "      <td>...</td>\n",
       "      <td>3.0</td>\n",
       "      <td>27.0</td>\n",
       "      <td>23.0</td>\n",
       "      <td>2.3</td>\n",
       "      <td>28.700001</td>\n",
       "      <td>NaN</td>\n",
       "      <td>5.5</td>\n",
       "      <td>5.1</td>\n",
       "      <td>107.0</td>\n",
       "      <td>7.45</td>\n",
       "    </tr>\n",
       "  </tbody>\n",
       "</table>\n",
       "<p>5 rows × 58 columns</p>\n",
       "</div>"
      ],
      "text/plain": [
       "   subject_id   hadm_id   stay_id           charttime  creat_low_past_7day  \\\n",
       "0    10004401  29988601  32773003 2144-01-27 22:51:00                  1.3   \n",
       "1    10004401  29988601  32773003 2144-01-27 01:39:00                  1.3   \n",
       "2    10004401  29988601  32773003 2144-01-27 10:36:00                  1.3   \n",
       "3    10004401  29988601  32773003 2144-01-28 02:33:00                  1.3   \n",
       "4    10004401  29988601  32773003 2144-01-27 03:26:00                  1.3   \n",
       "\n",
       "   creat_low_past_48hr  creat  aki_stage_creat  uo_rt_6hr  uo_rt_12hr  ...  \\\n",
       "0                  1.4    2.3                1        NaN         NaN  ...   \n",
       "1                  1.3    2.1                1        NaN         NaN  ...   \n",
       "2                  1.3    2.3                1        NaN         NaN  ...   \n",
       "3                  1.4    2.3                1        NaN         NaN  ...   \n",
       "4                  1.3    2.1                1        NaN         NaN  ...   \n",
       "\n",
       "   nanmax_valuenum_Albumin  nanmax_valuenum_Bicarbonate  \\\n",
       "0                      3.0                         27.0   \n",
       "1                      3.0                         27.0   \n",
       "2                      3.0                         27.0   \n",
       "3                      3.0                         27.0   \n",
       "4                      3.0                         27.0   \n",
       "\n",
       "   nanmax_valuenum_Calculated Bicarbonate, Whole Blood  \\\n",
       "0                                               23.0     \n",
       "1                                               23.0     \n",
       "2                                               23.0     \n",
       "3                                               23.0     \n",
       "4                                               23.0     \n",
       "\n",
       "  nanmax_valuenum_Creatinine nanmax_valuenum_Hematocrit  \\\n",
       "0                        2.3                  28.700001   \n",
       "1                        2.3                  28.700001   \n",
       "2                        2.3                  28.700001   \n",
       "3                        2.3                  28.700001   \n",
       "4                        2.3                  28.700001   \n",
       "\n",
       "  nanmax_valuenum_Hematocrit, Calculated nanmax_valuenum_Potassium  \\\n",
       "0                                    NaN                       5.5   \n",
       "1                                    NaN                       5.5   \n",
       "2                                    NaN                       5.5   \n",
       "3                                    NaN                       5.5   \n",
       "4                                    NaN                       5.5   \n",
       "\n",
       "  nanmax_valuenum_Potassium, Whole Blood nanmax_valuenum_Urea Nitrogen  \\\n",
       "0                                    5.1                         107.0   \n",
       "1                                    5.1                         107.0   \n",
       "2                                    5.1                         107.0   \n",
       "3                                    5.1                         107.0   \n",
       "4                                    5.1                         107.0   \n",
       "\n",
       "  nanmax_valuenum_pH  \n",
       "0               7.45  \n",
       "1               7.45  \n",
       "2               7.45  \n",
       "3               7.45  \n",
       "4               7.45  \n",
       "\n",
       "[5 rows x 58 columns]"
      ]
     },
     "execution_count": 48,
     "metadata": {},
     "output_type": "execute_result"
    }
   ],
   "source": [
    "cohort_icu_labs.head()"
   ]
  },
  {
   "cell_type": "code",
   "execution_count": 49,
   "id": "381945bf",
   "metadata": {},
   "outputs": [
    {
     "data": {
      "text/plain": [
       "(25500, 58)"
      ]
     },
     "execution_count": 49,
     "metadata": {},
     "output_type": "execute_result"
    }
   ],
   "source": [
    "cohort_icu_labs.shape"
   ]
  },
  {
   "cell_type": "code",
   "execution_count": 50,
   "id": "b0ca200b",
   "metadata": {},
   "outputs": [],
   "source": [
    "sofa = pd.read_csv('bq-results-20221113-103506-1668335764380.csv')\n",
    "antib = pd.read_csv('Antibiotics.csv')\n",
    "sepsis = pd.read_csv('sepsisIII.csv')"
   ]
  },
  {
   "cell_type": "code",
   "execution_count": 51,
   "id": "9b34c576",
   "metadata": {},
   "outputs": [],
   "source": [
    "cohort_sepsis = cohort_icu_labs.merge(sepsis, on='stay_id', how='left')"
   ]
  },
  {
   "cell_type": "code",
   "execution_count": 52,
   "id": "9199bfab",
   "metadata": {},
   "outputs": [
    {
     "data": {
      "text/plain": [
       "True    18248\n",
       "NaN      7252\n",
       "Name: sepsis3, dtype: int64"
      ]
     },
     "execution_count": 52,
     "metadata": {},
     "output_type": "execute_result"
    }
   ],
   "source": [
    "cohort_sepsis['sepsis3'].value_counts(dropna=False)"
   ]
  },
  {
   "cell_type": "code",
   "execution_count": 53,
   "id": "0604b401",
   "metadata": {},
   "outputs": [],
   "source": [
    "cohort_sepsis['sepsis3'].fillna(False, inplace=True)"
   ]
  },
  {
   "cell_type": "code",
   "execution_count": 54,
   "id": "747cec52",
   "metadata": {},
   "outputs": [
    {
     "data": {
      "text/plain": [
       "(25500, 60)"
      ]
     },
     "execution_count": 54,
     "metadata": {},
     "output_type": "execute_result"
    }
   ],
   "source": [
    "cohort_sepsis.shape"
   ]
  },
  {
   "cell_type": "code",
   "execution_count": 55,
   "id": "5133cc87",
   "metadata": {},
   "outputs": [],
   "source": [
    "sofa_48 = sofa[sofa['hr'] <= 48]"
   ]
  },
  {
   "cell_type": "code",
   "execution_count": 56,
   "id": "1ac5e7c3",
   "metadata": {},
   "outputs": [],
   "source": [
    "sofa_48_min = dict(sofa_48.groupby(by='stay_id')['hr'].min())"
   ]
  },
  {
   "cell_type": "code",
   "execution_count": 57,
   "id": "7a37f08e",
   "metadata": {},
   "outputs": [],
   "source": [
    "sofa['min_hour'] = sofa['stay_id'].map(sofa_48_min)"
   ]
  },
  {
   "cell_type": "code",
   "execution_count": 58,
   "id": "cc1d29b4",
   "metadata": {},
   "outputs": [],
   "source": [
    "sofa = sofa[sofa['min_hour'] == sofa['hr']]"
   ]
  },
  {
   "cell_type": "code",
   "execution_count": 59,
   "id": "3832d4d3",
   "metadata": {},
   "outputs": [
    {
     "data": {
      "text/plain": [
       "(76519, 4)"
      ]
     },
     "execution_count": 59,
     "metadata": {},
     "output_type": "execute_result"
    }
   ],
   "source": [
    "sofa.shape"
   ]
  },
  {
   "cell_type": "code",
   "execution_count": 60,
   "id": "149fc893",
   "metadata": {},
   "outputs": [],
   "source": [
    "cohort_sofa = cohort_sepsis.merge(sofa, on='stay_id', how='left')"
   ]
  },
  {
   "cell_type": "code",
   "execution_count": 61,
   "id": "3a42bf2a",
   "metadata": {},
   "outputs": [
    {
     "data": {
      "text/plain": [
       "(25500, 63)"
      ]
     },
     "execution_count": 61,
     "metadata": {},
     "output_type": "execute_result"
    }
   ],
   "source": [
    "cohort_sofa.shape"
   ]
  },
  {
   "cell_type": "code",
   "execution_count": 62,
   "id": "f556d1f9",
   "metadata": {},
   "outputs": [
    {
     "data": {
      "text/plain": [
       "subject_id                  10184\n",
       "hadm_id                     10184\n",
       "stay_id                     10184\n",
       "charttime                   25486\n",
       "creat_low_past_7day           143\n",
       "                            ...  \n",
       "suspected_infection_time     6634\n",
       "sepsis3                         2\n",
       "hr                              1\n",
       "sofa_24hours                   17\n",
       "min_hour                        1\n",
       "Length: 63, dtype: int64"
      ]
     },
     "execution_count": 62,
     "metadata": {},
     "output_type": "execute_result"
    }
   ],
   "source": [
    "cohort_sofa.nunique()"
   ]
  },
  {
   "cell_type": "code",
   "execution_count": 63,
   "id": "655a1f68",
   "metadata": {},
   "outputs": [
    {
     "data": {
      "text/html": [
       "<div>\n",
       "<style scoped>\n",
       "    .dataframe tbody tr th:only-of-type {\n",
       "        vertical-align: middle;\n",
       "    }\n",
       "\n",
       "    .dataframe tbody tr th {\n",
       "        vertical-align: top;\n",
       "    }\n",
       "\n",
       "    .dataframe thead th {\n",
       "        text-align: right;\n",
       "    }\n",
       "</style>\n",
       "<table border=\"1\" class=\"dataframe\">\n",
       "  <thead>\n",
       "    <tr style=\"text-align: right;\">\n",
       "      <th></th>\n",
       "      <th>antibiotic</th>\n",
       "      <th>stay_id</th>\n",
       "      <th>starttime</th>\n",
       "    </tr>\n",
       "  </thead>\n",
       "  <tbody>\n",
       "    <tr>\n",
       "      <th>0</th>\n",
       "      <td>Vancomycin</td>\n",
       "      <td>31326208</td>\n",
       "      <td>2135-06-21T08:00:00</td>\n",
       "    </tr>\n",
       "    <tr>\n",
       "      <th>1</th>\n",
       "      <td>Vancomycin</td>\n",
       "      <td>31195904</td>\n",
       "      <td>2152-08-28T20:00:00</td>\n",
       "    </tr>\n",
       "    <tr>\n",
       "      <th>2</th>\n",
       "      <td>Vancomycin</td>\n",
       "      <td>38407168</td>\n",
       "      <td>2175-08-25T18:00:00</td>\n",
       "    </tr>\n",
       "    <tr>\n",
       "      <th>3</th>\n",
       "      <td>Vancomycin</td>\n",
       "      <td>38407168</td>\n",
       "      <td>2175-08-25T10:00:00</td>\n",
       "    </tr>\n",
       "    <tr>\n",
       "      <th>4</th>\n",
       "      <td>Vancomycin</td>\n",
       "      <td>36179968</td>\n",
       "      <td>2111-05-27T20:00:00</td>\n",
       "    </tr>\n",
       "  </tbody>\n",
       "</table>\n",
       "</div>"
      ],
      "text/plain": [
       "   antibiotic   stay_id            starttime\n",
       "0  Vancomycin  31326208  2135-06-21T08:00:00\n",
       "1  Vancomycin  31195904  2152-08-28T20:00:00\n",
       "2  Vancomycin  38407168  2175-08-25T18:00:00\n",
       "3  Vancomycin  38407168  2175-08-25T10:00:00\n",
       "4  Vancomycin  36179968  2111-05-27T20:00:00"
      ]
     },
     "execution_count": 63,
     "metadata": {},
     "output_type": "execute_result"
    }
   ],
   "source": [
    "antib.head()"
   ]
  },
  {
   "cell_type": "code",
   "execution_count": 64,
   "id": "966fb8a3",
   "metadata": {},
   "outputs": [],
   "source": [
    "antib['antibiotic'] = 1"
   ]
  },
  {
   "cell_type": "code",
   "execution_count": 65,
   "id": "f544116f",
   "metadata": {},
   "outputs": [],
   "source": [
    "cohort_stay_intime = cohort_sofa[['stay_id', 'intime']]"
   ]
  },
  {
   "cell_type": "code",
   "execution_count": 66,
   "id": "06c9b162",
   "metadata": {},
   "outputs": [],
   "source": [
    "antib['starttime'] = pd.to_datetime(antib['starttime'])"
   ]
  },
  {
   "cell_type": "code",
   "execution_count": 67,
   "id": "92f4e32b",
   "metadata": {},
   "outputs": [],
   "source": [
    "antib_intime_stayid = cohort_stay_intime.merge(antib, on='stay_id')"
   ]
  },
  {
   "cell_type": "code",
   "execution_count": 68,
   "id": "cf94688f",
   "metadata": {},
   "outputs": [],
   "source": [
    "antib_intime_stayid['delta_days'] = (antib_intime_stayid['starttime'] - antib_intime_stayid['intime']) / np.timedelta64(1, 'D')"
   ]
  },
  {
   "cell_type": "code",
   "execution_count": 69,
   "id": "f1f31c46",
   "metadata": {},
   "outputs": [],
   "source": [
    "antib_intime_stayid_48 = antib_intime_stayid[antib_intime_stayid['delta_days'] <= 2]"
   ]
  },
  {
   "cell_type": "code",
   "execution_count": 70,
   "id": "1373d3c9",
   "metadata": {},
   "outputs": [],
   "source": [
    "antib_intime_stayid_48 = antib_intime_stayid_48.drop_duplicates(subset=['stay_id'])"
   ]
  },
  {
   "cell_type": "code",
   "execution_count": 71,
   "id": "75e88f89",
   "metadata": {},
   "outputs": [],
   "source": [
    "cohort_antib = cohort_sofa.merge(antib_intime_stayid_48, on='stay_id', how='left')"
   ]
  },
  {
   "cell_type": "code",
   "execution_count": 72,
   "id": "e31b02b5",
   "metadata": {},
   "outputs": [],
   "source": [
    "cohort_antib['antibiotic'].fillna(0, inplace=True)"
   ]
  },
  {
   "cell_type": "code",
   "execution_count": 73,
   "id": "39e878ac",
   "metadata": {},
   "outputs": [
    {
     "data": {
      "text/plain": [
       "(25500, 67)"
      ]
     },
     "execution_count": 73,
     "metadata": {},
     "output_type": "execute_result"
    }
   ],
   "source": [
    "cohort_antib.shape"
   ]
  },
  {
   "cell_type": "code",
   "execution_count": 74,
   "id": "ff04e92e",
   "metadata": {},
   "outputs": [],
   "source": [
    "vitals = pd.read_csv('bq-results-20221113-100919-1668334483927.csv')"
   ]
  },
  {
   "cell_type": "code",
   "execution_count": 75,
   "id": "bca0bc87",
   "metadata": {},
   "outputs": [
    {
     "data": {
      "text/plain": [
       "(10249430, 8)"
      ]
     },
     "execution_count": 75,
     "metadata": {},
     "output_type": "execute_result"
    }
   ],
   "source": [
    "vitals.shape"
   ]
  },
  {
   "cell_type": "code",
   "execution_count": 76,
   "id": "b6980869",
   "metadata": {},
   "outputs": [
    {
     "data": {
      "text/html": [
       "<div>\n",
       "<style scoped>\n",
       "    .dataframe tbody tr th:only-of-type {\n",
       "        vertical-align: middle;\n",
       "    }\n",
       "\n",
       "    .dataframe tbody tr th {\n",
       "        vertical-align: top;\n",
       "    }\n",
       "\n",
       "    .dataframe thead th {\n",
       "        text-align: right;\n",
       "    }\n",
       "</style>\n",
       "<table border=\"1\" class=\"dataframe\">\n",
       "  <thead>\n",
       "    <tr style=\"text-align: right;\">\n",
       "      <th></th>\n",
       "      <th>stay_id</th>\n",
       "      <th>charttime</th>\n",
       "      <th>heart_rate</th>\n",
       "      <th>mbp</th>\n",
       "      <th>mbp_ni</th>\n",
       "      <th>temperature</th>\n",
       "      <th>resp_rate</th>\n",
       "      <th>spo2</th>\n",
       "    </tr>\n",
       "  </thead>\n",
       "  <tbody>\n",
       "    <tr>\n",
       "      <th>0</th>\n",
       "      <td>38576832</td>\n",
       "      <td>2162-04-11 15:00:00</td>\n",
       "      <td>75.0</td>\n",
       "      <td>86.5</td>\n",
       "      <td>81.0</td>\n",
       "      <td>NaN</td>\n",
       "      <td>7.0</td>\n",
       "      <td>100.0</td>\n",
       "    </tr>\n",
       "    <tr>\n",
       "      <th>1</th>\n",
       "      <td>35962636</td>\n",
       "      <td>2159-09-27 12:00:00</td>\n",
       "      <td>94.0</td>\n",
       "      <td>127.0</td>\n",
       "      <td>127.0</td>\n",
       "      <td>36.67</td>\n",
       "      <td>9.0</td>\n",
       "      <td>100.0</td>\n",
       "    </tr>\n",
       "    <tr>\n",
       "      <th>2</th>\n",
       "      <td>31984002</td>\n",
       "      <td>2128-11-25 08:00:00</td>\n",
       "      <td>106.0</td>\n",
       "      <td>104.0</td>\n",
       "      <td>104.0</td>\n",
       "      <td>36.33</td>\n",
       "      <td>17.5</td>\n",
       "      <td>100.0</td>\n",
       "    </tr>\n",
       "    <tr>\n",
       "      <th>3</th>\n",
       "      <td>32421099</td>\n",
       "      <td>2156-08-04 20:45:00</td>\n",
       "      <td>122.0</td>\n",
       "      <td>110.0</td>\n",
       "      <td>110.0</td>\n",
       "      <td>NaN</td>\n",
       "      <td>33.0</td>\n",
       "      <td>94.0</td>\n",
       "    </tr>\n",
       "    <tr>\n",
       "      <th>4</th>\n",
       "      <td>30682249</td>\n",
       "      <td>2170-03-17 20:00:00</td>\n",
       "      <td>118.0</td>\n",
       "      <td>55.0</td>\n",
       "      <td>NaN</td>\n",
       "      <td>36.56</td>\n",
       "      <td>37.0</td>\n",
       "      <td>95.0</td>\n",
       "    </tr>\n",
       "  </tbody>\n",
       "</table>\n",
       "</div>"
      ],
      "text/plain": [
       "    stay_id            charttime  heart_rate    mbp  mbp_ni  temperature  \\\n",
       "0  38576832  2162-04-11 15:00:00        75.0   86.5    81.0          NaN   \n",
       "1  35962636  2159-09-27 12:00:00        94.0  127.0   127.0        36.67   \n",
       "2  31984002  2128-11-25 08:00:00       106.0  104.0   104.0        36.33   \n",
       "3  32421099  2156-08-04 20:45:00       122.0  110.0   110.0          NaN   \n",
       "4  30682249  2170-03-17 20:00:00       118.0   55.0     NaN        36.56   \n",
       "\n",
       "   resp_rate   spo2  \n",
       "0        7.0  100.0  \n",
       "1        9.0  100.0  \n",
       "2       17.5  100.0  \n",
       "3       33.0   94.0  \n",
       "4       37.0   95.0  "
      ]
     },
     "execution_count": 76,
     "metadata": {},
     "output_type": "execute_result"
    }
   ],
   "source": [
    "vitals.head()"
   ]
  },
  {
   "cell_type": "code",
   "execution_count": 77,
   "id": "27892028",
   "metadata": {},
   "outputs": [],
   "source": [
    "agg_cols = ['heart_rate', 'mbp', 'mbp_ni', 'resp_rate', 'spo2']\n",
    "vitals_min = vitals.groupby('stay_id')[agg_cols].min().reset_index()\n",
    "vitals_min.rename(dict(zip(agg_cols, ['min_' + x for x in agg_cols])), axis=1, inplace=True)\n",
    "vitals_max = vitals.groupby('stay_id')[agg_cols].max().reset_index()\n",
    "vitals_max.rename(dict(zip(agg_cols, ['max_' + x for x in agg_cols])), axis=1, inplace=True)"
   ]
  },
  {
   "cell_type": "code",
   "execution_count": 78,
   "id": "3a9396f6",
   "metadata": {},
   "outputs": [],
   "source": [
    "cohort_vitals = cohort_antib.merge(vitals_min, on='stay_id', how='left')\n",
    "cohort_vitals = cohort_vitals.merge(vitals_max, on='stay_id', how='left')"
   ]
  },
  {
   "cell_type": "code",
   "execution_count": 79,
   "id": "1cf8f0d2",
   "metadata": {},
   "outputs": [
    {
     "data": {
      "text/plain": [
       "subject_id             10184\n",
       "hadm_id                10184\n",
       "stay_id                10184\n",
       "charttime              25486\n",
       "creat_low_past_7day      143\n",
       "                       ...  \n",
       "max_heart_rate           172\n",
       "max_mbp                  327\n",
       "max_mbp_ni               180\n",
       "max_resp_rate             85\n",
       "max_spo2                  18\n",
       "Length: 77, dtype: int64"
      ]
     },
     "execution_count": 79,
     "metadata": {},
     "output_type": "execute_result"
    }
   ],
   "source": [
    "cohort_vitals.nunique()"
   ]
  },
  {
   "cell_type": "code",
   "execution_count": 80,
   "id": "02dfbc30",
   "metadata": {},
   "outputs": [],
   "source": [
    "cohort_vitals = cohort_vitals.drop_duplicates()"
   ]
  },
  {
   "cell_type": "code",
   "execution_count": 81,
   "id": "e14471b5",
   "metadata": {},
   "outputs": [
    {
     "data": {
      "text/plain": [
       "(25500, 77)"
      ]
     },
     "execution_count": 81,
     "metadata": {},
     "output_type": "execute_result"
    }
   ],
   "source": [
    "cohort_vitals.shape"
   ]
  },
  {
   "cell_type": "code",
   "execution_count": 82,
   "id": "80664d6e",
   "metadata": {},
   "outputs": [],
   "source": [
    "diagnosis = pd.read_csv('covariates.csv')\n",
    "diagnosis = diagnosis.drop([x for x in list(diagnosis) if 'Unnamed' in x], axis=1)"
   ]
  },
  {
   "cell_type": "code",
   "execution_count": 83,
   "id": "f11eedef",
   "metadata": {},
   "outputs": [],
   "source": [
    "cohort_diag = cohort_vitals.merge(diagnosis, on='stay_id', how='left')"
   ]
  },
  {
   "cell_type": "code",
   "execution_count": 84,
   "id": "a04dd371",
   "metadata": {},
   "outputs": [
    {
     "data": {
      "text/plain": [
       "(25500, 81)"
      ]
     },
     "execution_count": 84,
     "metadata": {},
     "output_type": "execute_result"
    }
   ],
   "source": [
    "cohort_diag.shape"
   ]
  },
  {
   "cell_type": "code",
   "execution_count": 85,
   "id": "080e0e99",
   "metadata": {},
   "outputs": [
    {
     "data": {
      "text/plain": [
       "subject_id             10184\n",
       "hadm_id                10184\n",
       "stay_id                10184\n",
       "charttime              25486\n",
       "creat_low_past_7day      143\n",
       "                       ...  \n",
       "max_spo2                  18\n",
       "CKD                        2\n",
       "DM                         2\n",
       "Hypertension               2\n",
       "Heart Failure              2\n",
       "Length: 81, dtype: int64"
      ]
     },
     "execution_count": 85,
     "metadata": {},
     "output_type": "execute_result"
    }
   ],
   "source": [
    "cohort_diag.nunique()"
   ]
  },
  {
   "cell_type": "code",
   "execution_count": 86,
   "id": "a554de93",
   "metadata": {},
   "outputs": [
    {
     "data": {
      "text/plain": [
       "(25500, 81)"
      ]
     },
     "execution_count": 86,
     "metadata": {},
     "output_type": "execute_result"
    }
   ],
   "source": [
    "cohort_diag.shape"
   ]
  },
  {
   "cell_type": "code",
   "execution_count": 87,
   "id": "dc6d016e",
   "metadata": {},
   "outputs": [
    {
     "data": {
      "text/plain": [
       "['subject_id',\n",
       " 'hadm_id',\n",
       " 'stay_id',\n",
       " 'charttime',\n",
       " 'creat_low_past_7day',\n",
       " 'creat_low_past_48hr',\n",
       " 'creat',\n",
       " 'aki_stage_creat',\n",
       " 'uo_rt_6hr',\n",
       " 'uo_rt_12hr',\n",
       " 'uo_rt_24hr',\n",
       " 'aki_stage_uo',\n",
       " 'aki_stage',\n",
       " 'admittime',\n",
       " 'dischtime',\n",
       " 'deathtime',\n",
       " 'admission_type',\n",
       " 'admission_location',\n",
       " 'discharge_location',\n",
       " 'insurance',\n",
       " 'language',\n",
       " 'marital_status',\n",
       " 'race',\n",
       " 'edregtime',\n",
       " 'edouttime',\n",
       " 'hospital_expire_flag',\n",
       " 'gender',\n",
       " 'anchor_age',\n",
       " 'anchor_year',\n",
       " 'anchor_year_group',\n",
       " 'dod',\n",
       " 'first_careunit',\n",
       " 'last_careunit',\n",
       " 'intime_x',\n",
       " 'outtime',\n",
       " 'los',\n",
       " 'creat_24',\n",
       " 'urine_24',\n",
       " 'nanmin_valuenum_Albumin',\n",
       " 'nanmin_valuenum_Bicarbonate',\n",
       " 'nanmin_valuenum_Calculated Bicarbonate, Whole Blood',\n",
       " 'nanmin_valuenum_Creatinine',\n",
       " 'nanmin_valuenum_Hematocrit',\n",
       " 'nanmin_valuenum_Hematocrit, Calculated',\n",
       " 'nanmin_valuenum_Potassium',\n",
       " 'nanmin_valuenum_Potassium, Whole Blood',\n",
       " 'nanmin_valuenum_Urea Nitrogen',\n",
       " 'nanmin_valuenum_pH',\n",
       " 'nanmax_valuenum_Albumin',\n",
       " 'nanmax_valuenum_Bicarbonate',\n",
       " 'nanmax_valuenum_Calculated Bicarbonate, Whole Blood',\n",
       " 'nanmax_valuenum_Creatinine',\n",
       " 'nanmax_valuenum_Hematocrit',\n",
       " 'nanmax_valuenum_Hematocrit, Calculated',\n",
       " 'nanmax_valuenum_Potassium',\n",
       " 'nanmax_valuenum_Potassium, Whole Blood',\n",
       " 'nanmax_valuenum_Urea Nitrogen',\n",
       " 'nanmax_valuenum_pH',\n",
       " 'suspected_infection_time',\n",
       " 'sepsis3',\n",
       " 'hr',\n",
       " 'sofa_24hours',\n",
       " 'min_hour',\n",
       " 'intime_y',\n",
       " 'antibiotic',\n",
       " 'starttime',\n",
       " 'delta_days',\n",
       " 'min_heart_rate',\n",
       " 'min_mbp',\n",
       " 'min_mbp_ni',\n",
       " 'min_resp_rate',\n",
       " 'min_spo2',\n",
       " 'max_heart_rate',\n",
       " 'max_mbp',\n",
       " 'max_mbp_ni',\n",
       " 'max_resp_rate',\n",
       " 'max_spo2',\n",
       " 'CKD',\n",
       " 'DM',\n",
       " 'Hypertension',\n",
       " 'Heart Failure']"
      ]
     },
     "execution_count": 87,
     "metadata": {},
     "output_type": "execute_result"
    }
   ],
   "source": [
    "list(cohort_diag)"
   ]
  },
  {
   "cell_type": "code",
   "execution_count": 88,
   "id": "6ecffc14",
   "metadata": {},
   "outputs": [],
   "source": [
    "cohort_diag.to_csv('cohort_with_covariates.csv', index=False)"
   ]
  },
  {
   "cell_type": "code",
   "execution_count": 89,
   "id": "d94c80ab",
   "metadata": {},
   "outputs": [],
   "source": [
    "crrt = pd.read_csv('crrt_positive_cohort.csv')"
   ]
  },
  {
   "cell_type": "code",
   "execution_count": 90,
   "id": "be91ffd9",
   "metadata": {},
   "outputs": [
    {
     "data": {
      "text/plain": [
       "['stay_id',\n",
       " 'charttime',\n",
       " 'crrt_mode',\n",
       " 'access_pressure',\n",
       " 'blood_flow',\n",
       " 'citrate',\n",
       " 'current_goal',\n",
       " 'dialysate_fluid',\n",
       " 'dialysate_rate',\n",
       " 'effluent_pressure',\n",
       " 'filter_pressure',\n",
       " 'heparin_concentration',\n",
       " 'heparin_dose',\n",
       " 'hourly_patient_fluid_removal',\n",
       " 'prefilter_replacement_rate',\n",
       " 'postfilter_replacement_rate',\n",
       " 'replacement_fluid',\n",
       " 'replacement_rate',\n",
       " 'return_pressure',\n",
       " 'ultrafiltrate_output',\n",
       " 'system_active',\n",
       " 'clots',\n",
       " 'clots_increasing',\n",
       " 'clotted',\n",
       " 'subject_id',\n",
       " 'hadm_id',\n",
       " 'first_careunit',\n",
       " 'last_careunit',\n",
       " 'intime',\n",
       " 'outtime',\n",
       " 'los',\n",
       " 'time_delta']"
      ]
     },
     "execution_count": 90,
     "metadata": {},
     "output_type": "execute_result"
    }
   ],
   "source": [
    "list(crrt)"
   ]
  },
  {
   "cell_type": "code",
   "execution_count": 91,
   "id": "42bb99ab",
   "metadata": {},
   "outputs": [],
   "source": [
    "crrt['crrt'] = 1"
   ]
  },
  {
   "cell_type": "code",
   "execution_count": 92,
   "id": "9bded63a",
   "metadata": {},
   "outputs": [],
   "source": [
    "crrt = crrt[['stay_id', 'crrt']]"
   ]
  },
  {
   "cell_type": "code",
   "execution_count": 93,
   "id": "58313610",
   "metadata": {},
   "outputs": [],
   "source": [
    "cohort_diag_crrt = cohort_diag.merge(crrt, on='stay_id', how='left')"
   ]
  },
  {
   "cell_type": "code",
   "execution_count": 94,
   "id": "5518ea8d",
   "metadata": {},
   "outputs": [],
   "source": [
    "cohort_diag_crrt['crrt'].fillna(0, inplace=True)"
   ]
  },
  {
   "cell_type": "code",
   "execution_count": 110,
   "id": "31c43ca4",
   "metadata": {},
   "outputs": [],
   "source": [
    "columns = ['first_careunit', 'creat_low_past_48hr', 'aki_stage', 'race','min_heart_rate',\n",
    " 'min_mbp',\n",
    " 'min_mbp_ni',\n",
    " 'min_resp_rate',\n",
    " 'min_spo2',\n",
    " 'max_heart_rate',\n",
    " 'max_mbp',\n",
    " 'max_mbp_ni',\n",
    " 'max_resp_rate',\n",
    " 'max_spo2',\n",
    " 'CKD',\n",
    " 'DM',\n",
    " 'Hypertension',\n",
    " 'Heart Failure',\n",
    "'nanmin_valuenum_Albumin',\n",
    " 'nanmin_valuenum_Bicarbonate',\n",
    " 'nanmin_valuenum_Calculated Bicarbonate, Whole Blood',\n",
    " 'nanmin_valuenum_Creatinine',\n",
    " 'nanmin_valuenum_Hematocrit',\n",
    " 'nanmin_valuenum_Hematocrit, Calculated',\n",
    " 'nanmin_valuenum_Potassium',\n",
    " 'nanmin_valuenum_Potassium, Whole Blood',\n",
    " 'nanmin_valuenum_Urea Nitrogen',\n",
    " 'nanmin_valuenum_pH',\n",
    " 'nanmax_valuenum_Albumin',\n",
    " 'nanmax_valuenum_Bicarbonate',\n",
    " 'nanmax_valuenum_Calculated Bicarbonate, Whole Blood',\n",
    " 'nanmax_valuenum_Creatinine',\n",
    " 'nanmax_valuenum_Hematocrit',\n",
    " 'nanmax_valuenum_Hematocrit, Calculated',\n",
    " 'nanmax_valuenum_Potassium',\n",
    " 'nanmax_valuenum_Potassium, Whole Blood',\n",
    " 'nanmax_valuenum_Urea Nitrogen',\n",
    " 'nanmax_valuenum_pH',\n",
    " 'sepsis3',\n",
    " 'sofa_24hours',\n",
    " 'antibiotic',\n",
    " 'gender']\n",
    "\n",
    "numerical=[\n",
    "    'creat_low_past_48hr',\n",
    "    'min_heart_rate',\n",
    "    'min_mbp',\n",
    " 'min_mbp_ni',\n",
    " 'min_resp_rate',\n",
    " 'min_spo2',\n",
    " 'max_heart_rate',\n",
    " 'max_mbp',\n",
    " 'max_mbp_ni',\n",
    " 'max_resp_rate',\n",
    " 'max_spo2','nanmin_valuenum_Albumin',\n",
    " 'nanmin_valuenum_Bicarbonate',\n",
    " 'nanmin_valuenum_Calculated Bicarbonate, Whole Blood',\n",
    " 'nanmin_valuenum_Creatinine',\n",
    " 'nanmin_valuenum_Hematocrit',\n",
    " 'nanmin_valuenum_Hematocrit, Calculated',\n",
    " 'nanmin_valuenum_Potassium',\n",
    " 'nanmin_valuenum_Potassium, Whole Blood',\n",
    " 'nanmin_valuenum_Urea Nitrogen',\n",
    " 'nanmin_valuenum_pH',\n",
    " 'nanmax_valuenum_Albumin',\n",
    " 'nanmax_valuenum_Bicarbonate',\n",
    " 'nanmax_valuenum_Calculated Bicarbonate, Whole Blood',\n",
    " 'nanmax_valuenum_Creatinine',\n",
    " 'nanmax_valuenum_Hematocrit',\n",
    " 'nanmax_valuenum_Hematocrit, Calculated',\n",
    " 'nanmax_valuenum_Potassium',\n",
    " 'nanmax_valuenum_Potassium, Whole Blood',\n",
    " 'nanmax_valuenum_Urea Nitrogen',\n",
    " 'nanmax_valuenum_pH',\n",
    "        'sofa_24hours',]\n",
    "\n",
    "for col in numerical:\n",
    "    cohort_diag_crrt[col] = cohort_diag_crrt[col].astype(np.float64)\n",
    "\n",
    "categorical = [x for x in columns if x not in numerical]\n",
    "\n",
    "tab = TableOne(cohort_diag_crrt, columns=columns,categorical=categorical, groupby='crrt')"
   ]
  },
  {
   "cell_type": "code",
   "execution_count": 114,
   "id": "337dd62b",
   "metadata": {},
   "outputs": [],
   "source": [
    "tab.to_csv('tableone.csv')"
   ]
  },
  {
   "cell_type": "code",
   "execution_count": 96,
   "id": "a487acd3",
   "metadata": {},
   "outputs": [
    {
     "name": "stdout",
     "output_type": "stream",
     "text": [
      "<class 'pandas.core.frame.DataFrame'>\n",
      "Int64Index: 25500 entries, 0 to 25499\n",
      "Data columns (total 82 columns):\n",
      " #   Column                                               Non-Null Count  Dtype         \n",
      "---  ------                                               --------------  -----         \n",
      " 0   subject_id                                           25500 non-null  int64         \n",
      " 1   hadm_id                                              25500 non-null  int64         \n",
      " 2   stay_id                                              25500 non-null  int64         \n",
      " 3   charttime                                            25500 non-null  datetime64[ns]\n",
      " 4   creat_low_past_7day                                  25500 non-null  float64       \n",
      " 5   creat_low_past_48hr                                  25447 non-null  float64       \n",
      " 6   creat                                                25500 non-null  float64       \n",
      " 7   aki_stage_creat                                      25500 non-null  int64         \n",
      " 8   uo_rt_6hr                                            1167 non-null   float64       \n",
      " 9   uo_rt_12hr                                           1168 non-null   float64       \n",
      " 10  uo_rt_24hr                                           1168 non-null   float64       \n",
      " 11  aki_stage_uo                                         1168 non-null   float64       \n",
      " 12  aki_stage                                            25500 non-null  int64         \n",
      " 13  admittime                                            25500 non-null  object        \n",
      " 14  dischtime                                            25500 non-null  object        \n",
      " 15  deathtime                                            7901 non-null   object        \n",
      " 16  admission_type                                       25500 non-null  object        \n",
      " 17  admission_location                                   25500 non-null  object        \n",
      " 18  discharge_location                                   25446 non-null  object        \n",
      " 19  insurance                                            25500 non-null  object        \n",
      " 20  language                                             25500 non-null  object        \n",
      " 21  marital_status                                       22859 non-null  object        \n",
      " 22  race                                                 25500 non-null  object        \n",
      " 23  edregtime                                            15250 non-null  object        \n",
      " 24  edouttime                                            15250 non-null  object        \n",
      " 25  hospital_expire_flag                                 25500 non-null  int64         \n",
      " 26  gender                                               25500 non-null  object        \n",
      " 27  anchor_age                                           25500 non-null  float64       \n",
      " 28  anchor_year                                          25500 non-null  int64         \n",
      " 29  anchor_year_group                                    25500 non-null  object        \n",
      " 30  dod                                                  13511 non-null  object        \n",
      " 31  first_careunit                                       25500 non-null  object        \n",
      " 32  last_careunit                                        25500 non-null  object        \n",
      " 33  intime_x                                             25500 non-null  datetime64[ns]\n",
      " 34  outtime                                              25500 non-null  datetime64[ns]\n",
      " 35  los                                                  25500 non-null  float64       \n",
      " 36  creat_24                                             25500 non-null  int64         \n",
      " 37  urine_24                                             25500 non-null  int64         \n",
      " 38  nanmin_valuenum_Albumin                              19754 non-null  float64       \n",
      " 39  nanmin_valuenum_Bicarbonate                          25497 non-null  float64       \n",
      " 40  nanmin_valuenum_Calculated Bicarbonate, Whole Blood  2302 non-null   float64       \n",
      " 41  nanmin_valuenum_Creatinine                           25498 non-null  float64       \n",
      " 42  nanmin_valuenum_Hematocrit                           25487 non-null  float64       \n",
      " 43  nanmin_valuenum_Hematocrit, Calculated               13080 non-null  float64       \n",
      " 44  nanmin_valuenum_Potassium                            25497 non-null  float64       \n",
      " 45  nanmin_valuenum_Potassium, Whole Blood               17097 non-null  float64       \n",
      " 46  nanmin_valuenum_Urea Nitrogen                        25494 non-null  float64       \n",
      " 47  nanmin_valuenum_pH                                   23824 non-null  float64       \n",
      " 48  nanmax_valuenum_Albumin                              19754 non-null  float64       \n",
      " 49  nanmax_valuenum_Bicarbonate                          25497 non-null  float64       \n",
      " 50  nanmax_valuenum_Calculated Bicarbonate, Whole Blood  2302 non-null   float64       \n",
      " 51  nanmax_valuenum_Creatinine                           25498 non-null  float64       \n",
      " 52  nanmax_valuenum_Hematocrit                           25487 non-null  float64       \n",
      " 53  nanmax_valuenum_Hematocrit, Calculated               13080 non-null  float64       \n",
      " 54  nanmax_valuenum_Potassium                            25497 non-null  float64       \n",
      " 55  nanmax_valuenum_Potassium, Whole Blood               17097 non-null  float64       \n",
      " 56  nanmax_valuenum_Urea Nitrogen                        25494 non-null  float64       \n",
      " 57  nanmax_valuenum_pH                                   23824 non-null  float64       \n",
      " 58  suspected_infection_time                             18248 non-null  object        \n",
      " 59  sepsis3                                              25500 non-null  bool          \n",
      " 60  hr                                                   25494 non-null  float64       \n",
      " 61  sofa_24hours                                         25494 non-null  float64       \n",
      " 62  min_hour                                             25494 non-null  float64       \n",
      " 63  intime_y                                             13599 non-null  datetime64[ns]\n",
      " 64  antibiotic                                           25500 non-null  float64       \n",
      " 65  starttime                                            13599 non-null  datetime64[ns]\n",
      " 66  delta_days                                           13599 non-null  float64       \n",
      " 67  min_heart_rate                                       25493 non-null  float64       \n",
      " 68  min_mbp                                              25494 non-null  float64       \n",
      " 69  min_mbp_ni                                           25007 non-null  float64       \n",
      " 70  min_resp_rate                                        25495 non-null  float64       \n",
      " 71  min_spo2                                             25494 non-null  float64       \n",
      " 72  max_heart_rate                                       25493 non-null  float64       \n",
      " 73  max_mbp                                              25494 non-null  float64       \n",
      " 74  max_mbp_ni                                           25007 non-null  float64       \n",
      " 75  max_resp_rate                                        25495 non-null  float64       \n",
      " 76  max_spo2                                             25494 non-null  float64       \n",
      " 77  CKD                                                  20545 non-null  float64       \n",
      " 78  DM                                                   20545 non-null  float64       \n",
      " 79  Hypertension                                         20545 non-null  float64       \n",
      " 80  Heart Failure                                        20545 non-null  float64       \n",
      " 81  crrt                                                 25500 non-null  float64       \n",
      "dtypes: bool(1), datetime64[ns](5), float64(49), int64(9), object(18)\n",
      "memory usage: 17.2+ MB\n"
     ]
    }
   ],
   "source": [
    "cohort_diag_crrt.info()"
   ]
  },
  {
   "cell_type": "code",
   "execution_count": 97,
   "id": "7058e59f",
   "metadata": {},
   "outputs": [
    {
     "data": {
      "text/html": [
       "<div>\n",
       "<style scoped>\n",
       "    .dataframe tbody tr th:only-of-type {\n",
       "        vertical-align: middle;\n",
       "    }\n",
       "\n",
       "    .dataframe tbody tr th {\n",
       "        vertical-align: top;\n",
       "    }\n",
       "\n",
       "    .dataframe thead tr th {\n",
       "        text-align: left;\n",
       "    }\n",
       "</style>\n",
       "<table border=\"1\" class=\"dataframe\">\n",
       "  <thead>\n",
       "    <tr>\n",
       "      <th></th>\n",
       "      <th></th>\n",
       "      <th colspan=\"4\" halign=\"left\">Grouped by crrt</th>\n",
       "    </tr>\n",
       "    <tr>\n",
       "      <th></th>\n",
       "      <th></th>\n",
       "      <th>Missing</th>\n",
       "      <th>Overall</th>\n",
       "      <th>0.0</th>\n",
       "      <th>1.0</th>\n",
       "    </tr>\n",
       "  </thead>\n",
       "  <tbody>\n",
       "    <tr>\n",
       "      <th>n</th>\n",
       "      <th></th>\n",
       "      <td></td>\n",
       "      <td>25500</td>\n",
       "      <td>22449</td>\n",
       "      <td>3051</td>\n",
       "    </tr>\n",
       "    <tr>\n",
       "      <th rowspan=\"4\" valign=\"top\">first_careunit, n (%)</th>\n",
       "      <th>Cardiac Vascular Intensive Care Unit (CVICU)</th>\n",
       "      <td>0</td>\n",
       "      <td>4966 (19.5)</td>\n",
       "      <td>4492 (20.0)</td>\n",
       "      <td>474 (15.5)</td>\n",
       "    </tr>\n",
       "    <tr>\n",
       "      <th>Coronary Care Unit (CCU)</th>\n",
       "      <td></td>\n",
       "      <td>3514 (13.8)</td>\n",
       "      <td>3082 (13.7)</td>\n",
       "      <td>432 (14.2)</td>\n",
       "    </tr>\n",
       "    <tr>\n",
       "      <th>Medical Intensive Care Unit (MICU)</th>\n",
       "      <td></td>\n",
       "      <td>5676 (22.3)</td>\n",
       "      <td>4826 (21.5)</td>\n",
       "      <td>850 (27.9)</td>\n",
       "    </tr>\n",
       "    <tr>\n",
       "      <th>Medical/Surgical Intensive Care Unit (MICU/SICU)</th>\n",
       "      <td></td>\n",
       "      <td>4498 (17.6)</td>\n",
       "      <td>4016 (17.9)</td>\n",
       "      <td>482 (15.8)</td>\n",
       "    </tr>\n",
       "    <tr>\n",
       "      <th>...</th>\n",
       "      <th>...</th>\n",
       "      <td>...</td>\n",
       "      <td>...</td>\n",
       "      <td>...</td>\n",
       "      <td>...</td>\n",
       "    </tr>\n",
       "    <tr>\n",
       "      <th rowspan=\"5\" valign=\"top\">creat_low_past_48hr, n (%)</th>\n",
       "      <th>3.6</th>\n",
       "      <td></td>\n",
       "      <td>167 (0.7)</td>\n",
       "      <td>125 (0.6)</td>\n",
       "      <td>42 (1.4)</td>\n",
       "    </tr>\n",
       "    <tr>\n",
       "      <th>3.7</th>\n",
       "      <td></td>\n",
       "      <td>96 (0.4)</td>\n",
       "      <td>76 (0.3)</td>\n",
       "      <td>20 (0.7)</td>\n",
       "    </tr>\n",
       "    <tr>\n",
       "      <th>3.8</th>\n",
       "      <td></td>\n",
       "      <td>90 (0.4)</td>\n",
       "      <td>64 (0.3)</td>\n",
       "      <td>26 (0.9)</td>\n",
       "    </tr>\n",
       "    <tr>\n",
       "      <th>3.9</th>\n",
       "      <td></td>\n",
       "      <td>93 (0.4)</td>\n",
       "      <td>70 (0.3)</td>\n",
       "      <td>23 (0.8)</td>\n",
       "    </tr>\n",
       "    <tr>\n",
       "      <th>4.0</th>\n",
       "      <td></td>\n",
       "      <td>75 (0.3)</td>\n",
       "      <td>57 (0.3)</td>\n",
       "      <td>18 (0.6)</td>\n",
       "    </tr>\n",
       "  </tbody>\n",
       "</table>\n",
       "<p>100 rows × 4 columns</p>\n",
       "</div>"
      ],
      "text/plain": [
       "                                                                            Grouped by crrt  \\\n",
       "                                                                                    Missing   \n",
       "n                                                                                             \n",
       "first_careunit, n (%)      Cardiac Vascular Intensive Care Unit (CVICU)                   0   \n",
       "                           Coronary Care Unit (CCU)                                           \n",
       "                           Medical Intensive Care Unit (MICU)                                 \n",
       "                           Medical/Surgical Intensive Care Unit (MICU/SICU)                   \n",
       "...                                                                                     ...   \n",
       "creat_low_past_48hr, n (%) 3.6                                                                \n",
       "                           3.7                                                                \n",
       "                           3.8                                                                \n",
       "                           3.9                                                                \n",
       "                           4.0                                                                \n",
       "\n",
       "                                                                                          \\\n",
       "                                                                                 Overall   \n",
       "n                                                                                  25500   \n",
       "first_careunit, n (%)      Cardiac Vascular Intensive Care Unit (CVICU)      4966 (19.5)   \n",
       "                           Coronary Care Unit (CCU)                          3514 (13.8)   \n",
       "                           Medical Intensive Care Unit (MICU)                5676 (22.3)   \n",
       "                           Medical/Surgical Intensive Care Unit (MICU/SICU)  4498 (17.6)   \n",
       "...                                                                                  ...   \n",
       "creat_low_past_48hr, n (%) 3.6                                                 167 (0.7)   \n",
       "                           3.7                                                  96 (0.4)   \n",
       "                           3.8                                                  90 (0.4)   \n",
       "                           3.9                                                  93 (0.4)   \n",
       "                           4.0                                                  75 (0.3)   \n",
       "\n",
       "                                                                                          \\\n",
       "                                                                                     0.0   \n",
       "n                                                                                  22449   \n",
       "first_careunit, n (%)      Cardiac Vascular Intensive Care Unit (CVICU)      4492 (20.0)   \n",
       "                           Coronary Care Unit (CCU)                          3082 (13.7)   \n",
       "                           Medical Intensive Care Unit (MICU)                4826 (21.5)   \n",
       "                           Medical/Surgical Intensive Care Unit (MICU/SICU)  4016 (17.9)   \n",
       "...                                                                                  ...   \n",
       "creat_low_past_48hr, n (%) 3.6                                                 125 (0.6)   \n",
       "                           3.7                                                  76 (0.3)   \n",
       "                           3.8                                                  64 (0.3)   \n",
       "                           3.9                                                  70 (0.3)   \n",
       "                           4.0                                                  57 (0.3)   \n",
       "\n",
       "                                                                                         \n",
       "                                                                                    1.0  \n",
       "n                                                                                  3051  \n",
       "first_careunit, n (%)      Cardiac Vascular Intensive Care Unit (CVICU)      474 (15.5)  \n",
       "                           Coronary Care Unit (CCU)                          432 (14.2)  \n",
       "                           Medical Intensive Care Unit (MICU)                850 (27.9)  \n",
       "                           Medical/Surgical Intensive Care Unit (MICU/SICU)  482 (15.8)  \n",
       "...                                                                                 ...  \n",
       "creat_low_past_48hr, n (%) 3.6                                                 42 (1.4)  \n",
       "                           3.7                                                 20 (0.7)  \n",
       "                           3.8                                                 26 (0.9)  \n",
       "                           3.9                                                 23 (0.8)  \n",
       "                           4.0                                                 18 (0.6)  \n",
       "\n",
       "[100 rows x 4 columns]"
      ]
     },
     "execution_count": 97,
     "metadata": {},
     "output_type": "execute_result"
    }
   ],
   "source": [
    "tab.head(100)"
   ]
  },
  {
   "cell_type": "code",
   "execution_count": 98,
   "id": "2bdc15c8",
   "metadata": {},
   "outputs": [
    {
     "data": {
      "text/plain": [
       "subject_id             10184\n",
       "hadm_id                10184\n",
       "stay_id                10184\n",
       "charttime              25486\n",
       "creat_low_past_7day      143\n",
       "                       ...  \n",
       "CKD                        2\n",
       "DM                         2\n",
       "Hypertension               2\n",
       "Heart Failure              2\n",
       "crrt                       2\n",
       "Length: 82, dtype: int64"
      ]
     },
     "execution_count": 98,
     "metadata": {},
     "output_type": "execute_result"
    }
   ],
   "source": [
    "cohort_diag_crrt.nunique()"
   ]
  },
  {
   "cell_type": "code",
   "execution_count": 99,
   "id": "f91d6c8b",
   "metadata": {},
   "outputs": [],
   "source": [
    "first = cohort_diag_crrt.groupby('stay_id')['charttime'].min()\n",
    "cohort_diag_crrt = cohort_diag_crrt.merge(first)"
   ]
  },
  {
   "cell_type": "code",
   "execution_count": 101,
   "id": "b498e70c",
   "metadata": {},
   "outputs": [
    {
     "data": {
      "text/plain": [
       "(10192, 82)"
      ]
     },
     "execution_count": 101,
     "metadata": {},
     "output_type": "execute_result"
    }
   ],
   "source": [
    "cohort_diag_crrt.shape"
   ]
  },
  {
   "cell_type": "code",
   "execution_count": 102,
   "id": "6353fc95",
   "metadata": {},
   "outputs": [],
   "source": [
    "cohort_diag_crrt.to_csv('final_cohort.csv', index=False)"
   ]
  },
  {
   "cell_type": "code",
   "execution_count": null,
   "id": "6951bdc8",
   "metadata": {},
   "outputs": [],
   "source": []
  }
 ],
 "metadata": {
  "kernelspec": {
   "display_name": "conda_python3",
   "language": "python",
   "name": "conda_python3"
  },
  "language_info": {
   "codemirror_mode": {
    "name": "ipython",
    "version": 3
   },
   "file_extension": ".py",
   "mimetype": "text/x-python",
   "name": "python",
   "nbconvert_exporter": "python",
   "pygments_lexer": "ipython3",
   "version": "3.6.13"
  }
 },
 "nbformat": 4,
 "nbformat_minor": 5
}
