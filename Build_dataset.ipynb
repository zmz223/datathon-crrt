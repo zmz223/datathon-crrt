{
 "cells": [
  {
   "cell_type": "code",
   "execution_count": null,
   "id": "fed187e3-8dc2-4e5a-b0da-b16f03e2cf29",
   "metadata": {
    "tags": []
   },
   "outputs": [],
   "source": [
    "!pip install awswrangler"
   ]
  },
  {
   "cell_type": "code",
   "execution_count": 2,
   "id": "181c476e-146b-4303-8959-134d1d5442ba",
   "metadata": {},
   "outputs": [],
   "source": [
    "import awswrangler as wr\n",
    "import boto3\n",
    "import pandas as pd\n",
    "import numpy as np\n",
    "import re\n",
    "from sagemaker import get_execution_role\n",
    "import matplotlib.pyplot as plt\n",
    "from tqdm import tqdm \n",
    "\n",
    "role = get_execution_role()\n",
    "s3 = boto3.resource('s3')"
   ]
  },
  {
   "cell_type": "code",
   "execution_count": 3,
   "id": "ce46724f-ab17-47f5-88da-7bbab8e36d1d",
   "metadata": {},
   "outputs": [],
   "source": [
    "s3 = boto3.resource('s3')\n",
    "my_bucket = s3.Bucket('icusics-db')\n",
    "\n",
    "tables = []\n",
    "for my_bucket_object in my_bucket.objects.all():\n",
    "    tables.append(my_bucket_object.key)\n",
    "tables = pd.Series(tables)"
   ]
  },
  {
   "cell_type": "code",
   "execution_count": 4,
   "id": "c240dbac-6ef3-4c38-89af-4d3008223658",
   "metadata": {},
   "outputs": [],
   "source": [
    "variables = wr.s3.read_parquet(path=\"s3://icusics-db/d_variables/d_variables.parquet\")\n",
    "variables_h4 = variables[variables.hospital_coded==4]\n",
    "diagnoses = wr.s3.read_parquet(path=\"s3://icusics-db/diagnoses/diagnoses_h4.parquet\")\n",
    "labresults_numeric = wr.s3.read_parquet(path=\"s3://icusics-db/labresults_numeric/labresults_numeric_h4.parquet\")"
   ]
  },
  {
   "cell_type": "markdown",
   "id": "4203a3d1-67e5-4be4-a4ed-443a03ab5e09",
   "metadata": {},
   "source": [
    "# Check for predictors variable_id\n",
    "\n",
    "Predictors:\n",
    " - Albumine\n",
    " - Potassium\n",
    " - SpO2\n",
    " - Haematocrit\n",
    " - Ph\n",
    " - Blood Urine Nitrate / Urea * 0.357\n",
    " - Diabetes\n",
    " - Chronic Kidney Disease\n",
    " - Hyper tension\n",
    " - Heart failure\n",
    "\n",
    "Outcome:\n",
    " - CRRT"
   ]
  },
  {
   "cell_type": "code",
   "execution_count": 9,
   "id": "284d5a42-fa32-43c6-b462-6099fe23a0b4",
   "metadata": {},
   "outputs": [
    {
     "name": "stderr",
     "output_type": "stream",
     "text": [
      "  0%|          | 0/6 [00:00<?, ?it/s]/opt/conda/lib/python3.7/site-packages/pandas/core/indexing.py:1773: SettingWithCopyWarning: \n",
      "A value is trying to be set on a copy of a slice from a DataFrame.\n",
      "Try using .loc[row_indexer,col_indexer] = value instead\n",
      "\n",
      "See the caveats in the documentation: https://pandas.pydata.org/pandas-docs/stable/user_guide/indexing.html#returning-a-view-versus-a-copy\n",
      "  self._setitem_single_column(ilocs[0], value, pi)\n",
      "100%|██████████| 6/6 [00:02<00:00,  2.75it/s]\n"
     ]
    },
    {
     "data": {
      "text/html": [
       "<div>\n",
       "<style scoped>\n",
       "    .dataframe tbody tr th:only-of-type {\n",
       "        vertical-align: middle;\n",
       "    }\n",
       "\n",
       "    .dataframe tbody tr th {\n",
       "        vertical-align: top;\n",
       "    }\n",
       "\n",
       "    .dataframe thead tr th {\n",
       "        text-align: left;\n",
       "    }\n",
       "\n",
       "    .dataframe thead tr:last-of-type th {\n",
       "        text-align: right;\n",
       "    }\n",
       "</style>\n",
       "<table border=\"1\" class=\"dataframe\">\n",
       "  <thead>\n",
       "    <tr>\n",
       "      <th></th>\n",
       "      <th colspan=\"2\" halign=\"left\">value</th>\n",
       "    </tr>\n",
       "    <tr>\n",
       "      <th></th>\n",
       "      <th>amin</th>\n",
       "      <th>amax</th>\n",
       "    </tr>\n",
       "    <tr>\n",
       "      <th>a_patientid</th>\n",
       "      <th></th>\n",
       "      <th></th>\n",
       "    </tr>\n",
       "  </thead>\n",
       "  <tbody>\n",
       "    <tr>\n",
       "      <th>1000091</th>\n",
       "      <td>2.43</td>\n",
       "      <td>2.43</td>\n",
       "    </tr>\n",
       "    <tr>\n",
       "      <th>1000109</th>\n",
       "      <td>2.68</td>\n",
       "      <td>3.01</td>\n",
       "    </tr>\n",
       "    <tr>\n",
       "      <th>1002069</th>\n",
       "      <td>1.86</td>\n",
       "      <td>2.16</td>\n",
       "    </tr>\n",
       "    <tr>\n",
       "      <th>1002635</th>\n",
       "      <td>3.32</td>\n",
       "      <td>3.32</td>\n",
       "    </tr>\n",
       "    <tr>\n",
       "      <th>1002875</th>\n",
       "      <td>2.15</td>\n",
       "      <td>2.15</td>\n",
       "    </tr>\n",
       "    <tr>\n",
       "      <th>...</th>\n",
       "      <td>...</td>\n",
       "      <td>...</td>\n",
       "    </tr>\n",
       "    <tr>\n",
       "      <th>6997183</th>\n",
       "      <td>3.30</td>\n",
       "      <td>4.40</td>\n",
       "    </tr>\n",
       "    <tr>\n",
       "      <th>6998109</th>\n",
       "      <td>3.80</td>\n",
       "      <td>3.80</td>\n",
       "    </tr>\n",
       "    <tr>\n",
       "      <th>6998565</th>\n",
       "      <td>3.50</td>\n",
       "      <td>3.50</td>\n",
       "    </tr>\n",
       "    <tr>\n",
       "      <th>6998846</th>\n",
       "      <td>3.50</td>\n",
       "      <td>3.50</td>\n",
       "    </tr>\n",
       "    <tr>\n",
       "      <th>6999255</th>\n",
       "      <td>3.00</td>\n",
       "      <td>3.00</td>\n",
       "    </tr>\n",
       "  </tbody>\n",
       "</table>\n",
       "<p>9720 rows × 2 columns</p>\n",
       "</div>"
      ],
      "text/plain": [
       "            value      \n",
       "             amin  amax\n",
       "a_patientid            \n",
       "1000091      2.43  2.43\n",
       "1000109      2.68  3.01\n",
       "1002069      1.86  2.16\n",
       "1002635      3.32  3.32\n",
       "1002875      2.15  2.15\n",
       "...           ...   ...\n",
       "6997183      3.30  4.40\n",
       "6998109      3.80  3.80\n",
       "6998565      3.50  3.50\n",
       "6998846      3.50  3.50\n",
       "6999255      3.00  3.00\n",
       "\n",
       "[9720 rows x 2 columns]"
      ]
     },
     "execution_count": 9,
     "metadata": {},
     "output_type": "execute_result"
    }
   ],
   "source": [
    "# Albumine\n",
    "\n",
    "alb_idx = [\n",
    "    1024000512,2024000340,3024001802,\n",
    "    4024002341,5024001802,6024002862\n",
    "]\n",
    "\n",
    "albumine = []\n",
    "tot = []\n",
    "for i in tqdm(range(1,7)):\n",
    "    labresults_numeric = wr.s3.read_parquet(f's3://icusics-db/labresults_numeric/labresults_numeric_h{i}.parquet')\n",
    "    ith = labresults_numeric[labresults_numeric.a_variableid.isin(alb_idx)]\n",
    "    tot.append(ith)\n",
    "    ith = ith[ith.time<=24*60]\n",
    "    if i == 1:\n",
    "        ith.loc[:,'value'] = ith.loc[:,'value'] / 10\n",
    "    ith = ith.groupby('a_patientid').agg({'value':[np.min, np.max]})\n",
    "    albumine.append(ith)\n",
    "    \n",
    "albumine = pd.concat(albumine)\n",
    "\n",
    "#albumine.to_csv('./tmp/tmp_table.csv')\n",
    "#albumine = pd.read_csv('./tmp/tmp_table.csv', index_col=0)\n",
    "\n",
    "albumine"
   ]
  },
  {
   "cell_type": "code",
   "execution_count": 25,
   "id": "021fe411-835a-4745-8cd4-de5f12eaf517",
   "metadata": {},
   "outputs": [
    {
     "ename": "TypeError",
     "evalue": "first argument must be an iterable of pandas objects, you passed an object of type \"DataFrame\"",
     "output_type": "error",
     "traceback": [
      "\u001b[0;31m---------------------------------------------------------------------------\u001b[0m",
      "\u001b[0;31mTypeError\u001b[0m                                 Traceback (most recent call last)",
      "\u001b[0;32m<ipython-input-25-625b4f4b0f5c>\u001b[0m in \u001b[0;36m<module>\u001b[0;34m\u001b[0m\n\u001b[0;32m----> 1\u001b[0;31m \u001b[0mtot\u001b[0m \u001b[0;34m=\u001b[0m \u001b[0mpd\u001b[0m\u001b[0;34m.\u001b[0m\u001b[0mconcat\u001b[0m\u001b[0;34m(\u001b[0m\u001b[0mtot\u001b[0m\u001b[0;34m)\u001b[0m\u001b[0;34m\u001b[0m\u001b[0;34m\u001b[0m\u001b[0m\n\u001b[0m\u001b[1;32m      2\u001b[0m \u001b[0;34m\u001b[0m\u001b[0m\n\u001b[1;32m      3\u001b[0m \u001b[0mm0\u001b[0m \u001b[0;34m=\u001b[0m \u001b[0mtot\u001b[0m\u001b[0;34m[\u001b[0m\u001b[0mtot\u001b[0m\u001b[0;34m.\u001b[0m\u001b[0mtime\u001b[0m\u001b[0;34m>=\u001b[0m\u001b[0;36m0\u001b[0m\u001b[0;34m]\u001b[0m\u001b[0;34m\u001b[0m\u001b[0;34m\u001b[0m\u001b[0m\n\u001b[1;32m      4\u001b[0m \u001b[0mn_days\u001b[0m \u001b[0;34m=\u001b[0m \u001b[0;36m2\u001b[0m\u001b[0;34m\u001b[0m\u001b[0;34m\u001b[0m\u001b[0m\n\u001b[1;32m      5\u001b[0m \u001b[0mb\u001b[0m \u001b[0;34m=\u001b[0m \u001b[0mnp\u001b[0m\u001b[0;34m.\u001b[0m\u001b[0mlinspace\u001b[0m\u001b[0;34m(\u001b[0m\u001b[0;36m0\u001b[0m\u001b[0;34m,\u001b[0m\u001b[0mn_days\u001b[0m\u001b[0;34m*\u001b[0m\u001b[0;36m24\u001b[0m\u001b[0;34m*\u001b[0m\u001b[0;36m60\u001b[0m\u001b[0;34m,\u001b[0m\u001b[0;36m100\u001b[0m\u001b[0;34m)\u001b[0m\u001b[0;34m\u001b[0m\u001b[0;34m\u001b[0m\u001b[0m\n",
      "\u001b[0;32m/opt/conda/lib/python3.7/site-packages/pandas/util/_decorators.py\u001b[0m in \u001b[0;36mwrapper\u001b[0;34m(*args, **kwargs)\u001b[0m\n\u001b[1;32m    309\u001b[0m                     \u001b[0mstacklevel\u001b[0m\u001b[0;34m=\u001b[0m\u001b[0mstacklevel\u001b[0m\u001b[0;34m,\u001b[0m\u001b[0;34m\u001b[0m\u001b[0;34m\u001b[0m\u001b[0m\n\u001b[1;32m    310\u001b[0m                 )\n\u001b[0;32m--> 311\u001b[0;31m             \u001b[0;32mreturn\u001b[0m \u001b[0mfunc\u001b[0m\u001b[0;34m(\u001b[0m\u001b[0;34m*\u001b[0m\u001b[0margs\u001b[0m\u001b[0;34m,\u001b[0m \u001b[0;34m**\u001b[0m\u001b[0mkwargs\u001b[0m\u001b[0;34m)\u001b[0m\u001b[0;34m\u001b[0m\u001b[0;34m\u001b[0m\u001b[0m\n\u001b[0m\u001b[1;32m    312\u001b[0m \u001b[0;34m\u001b[0m\u001b[0m\n\u001b[1;32m    313\u001b[0m         \u001b[0;32mreturn\u001b[0m \u001b[0mwrapper\u001b[0m\u001b[0;34m\u001b[0m\u001b[0;34m\u001b[0m\u001b[0m\n",
      "\u001b[0;32m/opt/conda/lib/python3.7/site-packages/pandas/core/reshape/concat.py\u001b[0m in \u001b[0;36mconcat\u001b[0;34m(objs, axis, join, ignore_index, keys, levels, names, verify_integrity, sort, copy)\u001b[0m\n\u001b[1;32m    302\u001b[0m         \u001b[0mverify_integrity\u001b[0m\u001b[0;34m=\u001b[0m\u001b[0mverify_integrity\u001b[0m\u001b[0;34m,\u001b[0m\u001b[0;34m\u001b[0m\u001b[0;34m\u001b[0m\u001b[0m\n\u001b[1;32m    303\u001b[0m         \u001b[0mcopy\u001b[0m\u001b[0;34m=\u001b[0m\u001b[0mcopy\u001b[0m\u001b[0;34m,\u001b[0m\u001b[0;34m\u001b[0m\u001b[0;34m\u001b[0m\u001b[0m\n\u001b[0;32m--> 304\u001b[0;31m         \u001b[0msort\u001b[0m\u001b[0;34m=\u001b[0m\u001b[0msort\u001b[0m\u001b[0;34m,\u001b[0m\u001b[0;34m\u001b[0m\u001b[0;34m\u001b[0m\u001b[0m\n\u001b[0m\u001b[1;32m    305\u001b[0m     )\n\u001b[1;32m    306\u001b[0m \u001b[0;34m\u001b[0m\u001b[0m\n",
      "\u001b[0;32m/opt/conda/lib/python3.7/site-packages/pandas/core/reshape/concat.py\u001b[0m in \u001b[0;36m__init__\u001b[0;34m(self, objs, axis, join, keys, levels, names, ignore_index, verify_integrity, copy, sort)\u001b[0m\n\u001b[1;32m    328\u001b[0m         \u001b[0;32mif\u001b[0m \u001b[0misinstance\u001b[0m\u001b[0;34m(\u001b[0m\u001b[0mobjs\u001b[0m\u001b[0;34m,\u001b[0m \u001b[0;34m(\u001b[0m\u001b[0mABCSeries\u001b[0m\u001b[0;34m,\u001b[0m \u001b[0mABCDataFrame\u001b[0m\u001b[0;34m,\u001b[0m \u001b[0mstr\u001b[0m\u001b[0;34m)\u001b[0m\u001b[0;34m)\u001b[0m\u001b[0;34m:\u001b[0m\u001b[0;34m\u001b[0m\u001b[0;34m\u001b[0m\u001b[0m\n\u001b[1;32m    329\u001b[0m             raise TypeError(\n\u001b[0;32m--> 330\u001b[0;31m                 \u001b[0;34m\"first argument must be an iterable of pandas \"\u001b[0m\u001b[0;34m\u001b[0m\u001b[0;34m\u001b[0m\u001b[0m\n\u001b[0m\u001b[1;32m    331\u001b[0m                 \u001b[0;34mf'objects, you passed an object of type \"{type(objs).__name__}\"'\u001b[0m\u001b[0;34m\u001b[0m\u001b[0;34m\u001b[0m\u001b[0m\n\u001b[1;32m    332\u001b[0m             )\n",
      "\u001b[0;31mTypeError\u001b[0m: first argument must be an iterable of pandas objects, you passed an object of type \"DataFrame\""
     ]
    }
   ],
   "source": [
    "tot = pd.concat(tot)\n",
    "\n",
    "m0 = tot[tot.time>=0]\n",
    "n_days = 2\n",
    "b = np.linspace(0,n_days*24*60,100)\n",
    "ax = m0.groupby('a_patientid').time.min().hist(bins=b)\n",
    "_ = ax.set_title('First Albumine exam time distribution')\n",
    "_ = ax.set_xticks([i*60*6 for i in range(n_days*4)])\n",
    "_ = ax.set_xticklabels([i*6 for i in range(n_days*4)])\n",
    "_ = ax.set_xlabel('Time [hours]')\n",
    "plt.show()"
   ]
  },
  {
   "cell_type": "code",
   "execution_count": 21,
   "id": "9b0a9146-f2c1-443b-8840-79000be213bb",
   "metadata": {},
   "outputs": [
    {
     "name": "stderr",
     "output_type": "stream",
     "text": [
      "100%|██████████| 6/6 [00:02<00:00,  2.23it/s]\n"
     ]
    },
    {
     "data": {
      "text/html": [
       "<div>\n",
       "<style scoped>\n",
       "    .dataframe tbody tr th:only-of-type {\n",
       "        vertical-align: middle;\n",
       "    }\n",
       "\n",
       "    .dataframe tbody tr th {\n",
       "        vertical-align: top;\n",
       "    }\n",
       "\n",
       "    .dataframe thead th {\n",
       "        text-align: right;\n",
       "    }\n",
       "</style>\n",
       "<table border=\"1\" class=\"dataframe\">\n",
       "  <thead>\n",
       "    <tr style=\"text-align: right;\">\n",
       "      <th></th>\n",
       "      <th>value</th>\n",
       "      <th>value.1</th>\n",
       "    </tr>\n",
       "  </thead>\n",
       "  <tbody>\n",
       "    <tr>\n",
       "      <th>NaN</th>\n",
       "      <td>amin</td>\n",
       "      <td>amax</td>\n",
       "    </tr>\n",
       "    <tr>\n",
       "      <th>a_patientid</th>\n",
       "      <td>NaN</td>\n",
       "      <td>NaN</td>\n",
       "    </tr>\n",
       "    <tr>\n",
       "      <th>1000091</th>\n",
       "      <td>2.99</td>\n",
       "      <td>2.99</td>\n",
       "    </tr>\n",
       "    <tr>\n",
       "      <th>1000109</th>\n",
       "      <td>2.5</td>\n",
       "      <td>3.9</td>\n",
       "    </tr>\n",
       "    <tr>\n",
       "      <th>1000211</th>\n",
       "      <td>4.47</td>\n",
       "      <td>4.47</td>\n",
       "    </tr>\n",
       "    <tr>\n",
       "      <th>...</th>\n",
       "      <td>...</td>\n",
       "      <td>...</td>\n",
       "    </tr>\n",
       "    <tr>\n",
       "      <th>6998109</th>\n",
       "      <td>3.8</td>\n",
       "      <td>3.8</td>\n",
       "    </tr>\n",
       "    <tr>\n",
       "      <th>6998382</th>\n",
       "      <td>3.68</td>\n",
       "      <td>4.63</td>\n",
       "    </tr>\n",
       "    <tr>\n",
       "      <th>6998565</th>\n",
       "      <td>3.79</td>\n",
       "      <td>3.81</td>\n",
       "    </tr>\n",
       "    <tr>\n",
       "      <th>6998846</th>\n",
       "      <td>4.06</td>\n",
       "      <td>4.57</td>\n",
       "    </tr>\n",
       "    <tr>\n",
       "      <th>6999255</th>\n",
       "      <td>5.28</td>\n",
       "      <td>5.28</td>\n",
       "    </tr>\n",
       "  </tbody>\n",
       "</table>\n",
       "<p>16455 rows × 2 columns</p>\n",
       "</div>"
      ],
      "text/plain": [
       "            value value.1\n",
       "NaN          amin    amax\n",
       "a_patientid   NaN     NaN\n",
       "1000091      2.99    2.99\n",
       "1000109       2.5     3.9\n",
       "1000211      4.47    4.47\n",
       "...           ...     ...\n",
       "6998109       3.8     3.8\n",
       "6998382      3.68    4.63\n",
       "6998565      3.79    3.81\n",
       "6998846      4.06    4.57\n",
       "6999255      5.28    5.28\n",
       "\n",
       "[16455 rows x 2 columns]"
      ]
     },
     "execution_count": 21,
     "metadata": {},
     "output_type": "execute_result"
    }
   ],
   "source": [
    "# Potassium\n",
    "\n",
    "potassium_idx = [\n",
    "    1020000500,2020000500,3020000500,\n",
    "    4020000500,5020000500,6020000500\n",
    "]\n",
    "\n",
    "potassium = []\n",
    "tot = []\n",
    "for i in tqdm(range(1,7)):\n",
    "    labresults_numeric = wr.s3.read_parquet(f's3://icusics-db/labresults_numeric/labresults_numeric_h{i}.parquet')\n",
    "    ith = labresults_numeric[labresults_numeric.a_variableid.isin(potassium_idx)]\n",
    "    tot.append(ith)\n",
    "    ith = ith[ith.time<24*60]\n",
    "    ith = ith.groupby('a_patientid').agg({'value':[np.min, np.max]})\n",
    "    potassium.append(ith)\n",
    "    \n",
    "potassium = pd.concat(potassium)\n",
    "\n",
    "potassium.to_csv('./tmp/tmp_table.csv')\n",
    "potassium = pd.read_csv('./tmp/tmp_table.csv', index_col=0)\n",
    "\n",
    "potassium"
   ]
  },
  {
   "cell_type": "code",
   "execution_count": 22,
   "id": "82184c1b-21a4-4d35-9625-b1b09d2935b8",
   "metadata": {},
   "outputs": [
    {
     "data": {
      "image/png": "[encoded data removed]",
      "text/plain": [
       "<Figure size 640x480 with 1 Axes>"
      ]
     },
     "metadata": {},
     "output_type": "display_data"
    }
   ],
   "source": [
    "tot = pd.concat(tot)\n",
    "\n",
    "m0 = tot[tot.time>=0]\n",
    "n_days = 2\n",
    "b = np.linspace(0,n_days*24*60,100)\n",
    "ax = m0.groupby('a_patientid').time.min().hist(bins=b)\n",
    "_ = ax.set_title('First Potassium exam distribution')\n",
    "_ = ax.set_xticks([i*60*6 for i in range(n_days*4)])\n",
    "_ = ax.set_xticklabels([i*6 for i in range(n_days*4)])\n",
    "_ = ax.set_xlabel('Time [hours]')\n",
    "plt.show()"
   ]
  },
  {
   "cell_type": "code",
   "execution_count": 24,
   "id": "f701165b-439d-4fba-844d-a71259d858c1",
   "metadata": {},
   "outputs": [
    {
     "name": "stderr",
     "output_type": "stream",
     "text": [
      "100%|██████████| 600/600 [04:47<00:00,  2.09it/s]\n"
     ]
    },
    {
     "data": {
      "text/html": [
       "<div>\n",
       "<style scoped>\n",
       "    .dataframe tbody tr th:only-of-type {\n",
       "        vertical-align: middle;\n",
       "    }\n",
       "\n",
       "    .dataframe tbody tr th {\n",
       "        vertical-align: top;\n",
       "    }\n",
       "\n",
       "    .dataframe thead th {\n",
       "        text-align: right;\n",
       "    }\n",
       "</style>\n",
       "<table border=\"1\" class=\"dataframe\">\n",
       "  <thead>\n",
       "    <tr style=\"text-align: right;\">\n",
       "      <th></th>\n",
       "      <th>value</th>\n",
       "      <th>value.1</th>\n",
       "    </tr>\n",
       "  </thead>\n",
       "  <tbody>\n",
       "    <tr>\n",
       "      <th>NaN</th>\n",
       "      <td>amin</td>\n",
       "      <td>amax</td>\n",
       "    </tr>\n",
       "    <tr>\n",
       "      <th>a_patientid</th>\n",
       "      <td>NaN</td>\n",
       "      <td>NaN</td>\n",
       "    </tr>\n",
       "    <tr>\n",
       "      <th>1000091</th>\n",
       "      <td>76.0</td>\n",
       "      <td>100.0</td>\n",
       "    </tr>\n",
       "    <tr>\n",
       "      <th>1000109</th>\n",
       "      <td>90.0</td>\n",
       "      <td>100.0</td>\n",
       "    </tr>\n",
       "    <tr>\n",
       "      <th>1000211</th>\n",
       "      <td>96.0</td>\n",
       "      <td>100.0</td>\n",
       "    </tr>\n",
       "    <tr>\n",
       "      <th>...</th>\n",
       "      <td>...</td>\n",
       "      <td>...</td>\n",
       "    </tr>\n",
       "    <tr>\n",
       "      <th>6998109</th>\n",
       "      <td>97.0</td>\n",
       "      <td>100.0</td>\n",
       "    </tr>\n",
       "    <tr>\n",
       "      <th>6998382</th>\n",
       "      <td>91.0</td>\n",
       "      <td>100.0</td>\n",
       "    </tr>\n",
       "    <tr>\n",
       "      <th>6998565</th>\n",
       "      <td>87.0</td>\n",
       "      <td>100.0</td>\n",
       "    </tr>\n",
       "    <tr>\n",
       "      <th>6998846</th>\n",
       "      <td>85.0</td>\n",
       "      <td>100.0</td>\n",
       "    </tr>\n",
       "    <tr>\n",
       "      <th>6999255</th>\n",
       "      <td>81.0</td>\n",
       "      <td>98.0</td>\n",
       "    </tr>\n",
       "  </tbody>\n",
       "</table>\n",
       "<p>18205 rows × 2 columns</p>\n",
       "</div>"
      ],
      "text/plain": [
       "            value value.1\n",
       "NaN          amin    amax\n",
       "a_patientid   NaN     NaN\n",
       "1000091      76.0   100.0\n",
       "1000109      90.0   100.0\n",
       "1000211      96.0   100.0\n",
       "...           ...     ...\n",
       "6998109      97.0   100.0\n",
       "6998382      91.0   100.0\n",
       "6998565      87.0   100.0\n",
       "6998846      85.0   100.0\n",
       "6999255      81.0    98.0\n",
       "\n",
       "[18205 rows x 2 columns]"
      ]
     },
     "execution_count": 24,
     "metadata": {},
     "output_type": "execute_result"
    }
   ],
   "source": [
    "# SpO2\n",
    "\n",
    "idx = [\n",
    "    1000004000,2000004000,3000004000,\n",
    "    4000004000,5000004000,6000004000, # SpO2\n",
    "]\n",
    "\n",
    "spo2 = []\n",
    "for tbl_name in tqdm(tables.str.extract('(.*monitored_numeric.*)').dropna()[0]):\n",
    "    ith_monitored = wr.s3.read_parquet(f's3://icusics-db/{tbl_name}')\n",
    "    ith = ith_monitored[ith_monitored.a_variableid.isin(idx)]\n",
    "    ith = ith[ith.time<12*60]\n",
    "    ith = ith.groupby('a_patientid').agg({'value':[np.min, np.max]})\n",
    "    spo2.append(ith)\n",
    "\n",
    "spo2 = pd.concat(spo2)\n",
    "\n",
    "spo2.to_csv('./tmp/tmp_table.csv')\n",
    "spo2 = pd.read_csv('./tmp/tmp_table.csv', index_col=0)\n",
    "\n",
    "spo2"
   ]
  },
  {
   "cell_type": "code",
   "execution_count": null,
   "id": "70b743ec-df89-475f-b445-7a0dd7069488",
   "metadata": {},
   "outputs": [],
   "source": [
    "ith.to_csv('./tmp/asd.csv')\n",
    "ith = pd.read_csv('./tmp/asd.csv', index_col=0)\n",
    "\n",
    "ith.groupby('a_patientid').agg({'value':[np.min, np.max]})"
   ]
  },
  {
   "cell_type": "code",
   "execution_count": null,
   "id": "3be94f01-86ca-42b7-8931-2dbcb89dd3ac",
   "metadata": {},
   "outputs": [],
   "source": [
    "tables.str.extract('(.*monitored_numeric.*)').dropna().values[0]"
   ]
  },
  {
   "cell_type": "code",
   "execution_count": null,
   "id": "5ab3ab9f-3c4d-498d-b522-0e8961ba99c3",
   "metadata": {},
   "outputs": [],
   "source": [
    "# SpO2\n",
    "idx = variables_h4.name.str.lower().str.extract(r'(.*(\\bspo2\\b|\\bsatura\\w+).*)')[0].dropna().index.tolist()\n",
    "variables_h4.loc[idx]"
   ]
  },
  {
   "cell_type": "code",
   "execution_count": null,
   "id": "6bffc6cb-32cb-4cc3-a885-137fefd58e5b",
   "metadata": {},
   "outputs": [],
   "source": [
    "# Haematocrit\n",
    "idx = variables_h4.name.str.lower().str.extract(r'(.*ha?emat\\w+.*)')[0].dropna().index.tolist()\n",
    "variables_h4.loc[idx]"
   ]
  },
  {
   "cell_type": "code",
   "execution_count": null,
   "id": "475147e0-9b28-4376-a005-cedfcfa761d7",
   "metadata": {},
   "outputs": [],
   "source": [
    "# Ph\n",
    "idx = variables_h4.name.str.lower().str.extract(r'(.*ph.*)')[0].dropna().index.tolist()\n",
    "variables_h4.loc[idx]"
   ]
  },
  {
   "cell_type": "code",
   "execution_count": null,
   "id": "d7eb13a6-2daf-430b-9f11-a7daecb42428",
   "metadata": {},
   "outputs": [],
   "source": [
    "# Blood Urine Nitrate\n",
    "# urea * 0.357\n",
    "idx = variables_h4.name.str.lower().str.extract(r'(.*urea.*)')[0].dropna().index.tolist()\n",
    "variables_h4.loc[idx]"
   ]
  },
  {
   "cell_type": "code",
   "execution_count": null,
   "id": "7d8c6225-579a-48c4-90c7-1f0191ac63b5",
   "metadata": {},
   "outputs": [],
   "source": [
    "# Diabetes\n",
    "idx = diagnoses.referencecodename.str.extract(r'(.*[Dd]iabe.*)').dropna().index.tolist()\n",
    "diabetes_codes = diagnoses.loc[idx, ['referencecode','referencecodename']].drop_duplicates().referencecode\n",
    "diagnoses.loc[idx, ['referencecode','referencecodename']].drop_duplicates()"
   ]
  },
  {
   "cell_type": "code",
   "execution_count": null,
   "id": "99215c8f-d330-424b-a50f-21619281acb8",
   "metadata": {},
   "outputs": [],
   "source": [
    "# Chronic Kidney Disease\n",
    "idx = diagnoses.referencecodename.str.lower().str.extract(r'(.*renal cr\\wnica.*)').dropna().index.tolist()\n",
    "ckd_codes = diagnoses.loc[idx, ['referencecode','referencecodename']].drop_duplicates().referencecode\n",
    "diagnoses.loc[idx, ['referencecode','referencecodename']].drop_duplicates()"
   ]
  },
  {
   "cell_type": "code",
   "execution_count": null,
   "id": "0baa97fd-58c0-425f-b69c-dca60f51531d",
   "metadata": {},
   "outputs": [],
   "source": [
    "# Hyper tension\n",
    "idx = diagnoses.referencecodename.str.lower().str.extract(r'(.*hipertens.*)').dropna().index.tolist()\n",
    "diagnoses.loc[idx, ['referencecode','referencecodename']].drop_duplicates()#.referencecodename.value_counts()"
   ]
  },
  {
   "cell_type": "code",
   "execution_count": null,
   "id": "beb8fbc1-5ba7-4391-b9fc-aa22dea20905",
   "metadata": {},
   "outputs": [],
   "source": [
    "# Heart failure\n",
    "idx = diagnoses.referencecodename.str.lower().str.extract(r'(.*insufici\\wncia card\\waca.*)').dropna().index.tolist()\n",
    "diagnoses.loc[idx, ['referencecode','referencecodename']].drop_duplicates()#.referencecodename.value_counts()"
   ]
  },
  {
   "cell_type": "code",
   "execution_count": null,
   "id": "bbced3cd-364d-427e-a080-a3ac3d4b2c43",
   "metadata": {},
   "outputs": [],
   "source": [
    "diagnosis_codes = [\n",
    "    # diabetes_codes\n",
    "    # ckd_codes\n",
    "    'I10','401.1','402.11','I15.8','I15.0','I11','I15','I13.1','I11.9','I15.1','I11.0','I11.0','401.9' # hyptertension\n",
    "    'I50','I50.9','428.0','402.11','I50.2','I50.9','I11.0' # heart failure\n",
    "] + list(diabetes_codes) + list(ckd_codes)\n",
    "\n",
    "comorbidities = diagnoses[diagnoses.referencecode.isin(diagnosis_codes)]\n",
    "comorbidities"
   ]
  },
  {
   "cell_type": "code",
   "execution_count": null,
   "id": "3e727588-3064-4891-93da-764060d09e92",
   "metadata": {},
   "outputs": [],
   "source": [
    "# CRRT\n",
    "idx = variables_h4.name.str.lower().str.extract(r'(.*\\bfl\\wx.*)')[0].dropna().index.tolist()\n",
    "variables_h4.loc[idx]"
   ]
  },
  {
   "cell_type": "code",
   "execution_count": null,
   "id": "b044d15f-9554-4ca9-900c-f6e66dbb4ae0",
   "metadata": {},
   "outputs": [],
   "source": [
    "lab_items = [\n",
    "    4024002341, # Albumine\n",
    "    4020000500, # Potassium\n",
    "    4020000100, # Haematocrit\n",
    "    4024001491, # Ph\n",
    "    4020004100, # BUN\n",
    "]\n",
    "\n",
    "lab_predictors = labresults_numeric[labresults_numeric.a_variableid.isin(lab_items)]\n",
    "lab_predictors = lab_predictors.merge(variables.loc[:, ['a_variableid','abbreviation']], how='left', on='a_variableid')\n",
    "lab_predictors"
   ]
  },
  {
   "cell_type": "code",
   "execution_count": null,
   "id": "9da069dd-4a69-4b4a-b3bf-40b7e1a7e56c",
   "metadata": {},
   "outputs": [],
   "source": [
    "tmp_path = './tmp/labs.csv'\n",
    "#lab_predictors.to_csv(tmp_path)\n",
    "lab_predictors = pd.read_csv(tmp_path, index_col=0)\n",
    "lab_predictors"
   ]
  },
  {
   "cell_type": "code",
   "execution_count": null,
   "id": "3d83cb03-9371-4dc1-aa9d-0d0594920d49",
   "metadata": {},
   "outputs": [],
   "source": [
    "vital_items = [\n",
    "    4000004000, # SpO2\n",
    "]\n",
    "\n",
    "outcome_items = [\n",
    "    4000001380, # Flux Sang\n",
    "    4000005666, # Flux Efluent\n",
    "]\n",
    "\n",
    "monitored_predictors = []\n",
    "outcomes = []\n",
    "\n",
    "monitored_tables = tables[tables.str.match(r'monitored_numeric/monitored_numeric_4')]\n",
    "for table in tqdm(monitored_tables):\n",
    "    t_ith = wr.s3.read_parquet(path=f\"s3://icusics-db/{table}\")\n",
    "    v_ith = t_ith[t_ith.a_variableid.isin(vital_items)]\n",
    "    o_th = t_ith[t_ith.a_variableid.isin(outcome_items)]\n",
    "    monitored_predictors.append(v_ith)\n",
    "    outcomes.append(o_th)\n",
    "    \n",
    "monitored_predictors = pd.concat(monitored_predictors, ignore_index=True)\n",
    "outcomes = pd.concat(outcomes, ignore_index=True)\n",
    "outcomes"
   ]
  },
  {
   "cell_type": "code",
   "execution_count": null,
   "id": "8dea6243-ca4c-4dbd-a3c0-9e28c6cacd68",
   "metadata": {},
   "outputs": [],
   "source": [
    "outcomes = outcomes.merge(variables.loc[:, ['a_variableid','abbreviation']], how='left', on='a_variableid')\n",
    "tmp_path = './tmp/outcomes.csv'\n",
    "outcomes.to_csv(tmp_path)\n",
    "outcomes = pd.read_csv(tmp_path, index_col=0)\n",
    "outcomes"
   ]
  },
  {
   "cell_type": "code",
   "execution_count": null,
   "id": "c752131d-09d5-445c-be31-47548dad2d75",
   "metadata": {},
   "outputs": [],
   "source": [
    "#monitored_predictors = monitored_predictors.merge(variables.loc[:, ['a_variableid','abbreviation']], how='left', on='a_variableid')\n",
    "tmp_path = './tmp/vitals.csv'\n",
    "#monitored_predictors.to_csv(tmp_path)\n",
    "monitored_predictors = pd.read_csv(tmp_path, index_col=0)\n",
    "monitored_predictors"
   ]
  },
  {
   "cell_type": "code",
   "execution_count": null,
   "id": "65c4989d-6770-43e1-bb8b-2c65f81c9665",
   "metadata": {},
   "outputs": [],
   "source": [
    "lower_bound = 12 * 60\n",
    "upper_bound = 5 * 24 * 60\n",
    "\n",
    "labs = lab_predictors.query(f\"time<={lower_bound}\")\n",
    "vitals = monitored_predictors.query(f\"time<={lower_bound}\")\n",
    "\n",
    "vitals = pd.pivot_table(\n",
    "    vitals,\n",
    "    index='a_patientid',\n",
    "    columns='abbreviation',\n",
    "    values='value',\n",
    "    aggfunc=[min,max]\n",
    ").reset_index()\n",
    "\n",
    "labs = pd.pivot_table(\n",
    "    labs,\n",
    "    index='a_patientid',\n",
    "    columns='abbreviation',\n",
    "    values='value',\n",
    "    aggfunc=[min,max]\n",
    ").reset_index()\n",
    "\n",
    "labs\n",
    "\n",
    "# features = vitals.merge(labs, how='inner', on='a_patientid')"
   ]
  },
  {
   "cell_type": "code",
   "execution_count": null,
   "id": "1abba9d0-6a07-481b-8fd5-d54d7de34acb",
   "metadata": {},
   "outputs": [],
   "source": [
    "vitals"
   ]
  },
  {
   "cell_type": "code",
   "execution_count": null,
   "id": "ebbdf95a-1a38-4959-b4e0-06336ddb03cd",
   "metadata": {},
   "outputs": [],
   "source": [
    "labs.columns = list(map(lambda t: t[0] + '_' + t[1], labs.columns))\n",
    "vitals.columns = list(map(lambda t: t[0] + '_' + t[1], vitals.columns))\n",
    "\n",
    "features = vitals.merge(labs, how='inner', on='a_patientid_').rename(columns={'a_patientid_': 'a_patientid'})\n",
    "features"
   ]
  },
  {
   "cell_type": "code",
   "execution_count": null,
   "id": "0c5fe684-40f3-477e-9aa7-dde3583dab77",
   "metadata": {},
   "outputs": [],
   "source": [
    "comorbidities['diabetis_flag'] = comorbidities.referencecodename.str.lower().str.match(r'.*diabet.*').astype(int)\n",
    "comorbidities['ckd_flag'] = comorbidities.referencecodename.str.lower().str.match(r'.*renal cr.nica.*').astype(int)\n",
    "comorbidities['hyperTension_flag'] = comorbidities.referencecodename.str.lower().str.match(r'.*hipertens.*').astype(int)\n",
    "comorbidities['heartFailure_flag'] = comorbidities.referencecodename.str.lower().str.match(r'.*insufici\\wncia card\\waca.*').astype(int)\n",
    "\n",
    "df_comorb = comorbidities.groupby('a_patientid').agg(dict.fromkeys(comorbidities.columns[-4:], 'max')).reset_index()\n",
    "df_comorb"
   ]
  },
  {
   "cell_type": "code",
   "execution_count": null,
   "id": "0107e62a-6be8-44c1-a709-a414e00fb557",
   "metadata": {},
   "outputs": [],
   "source": [
    "features_v2 = features.merge(df_comorb, how='left', on='a_patientid')\n",
    "\n",
    "for col in df_comorb.columns[1:]:\n",
    "    features_v2[col] = features_v2[col].fillna(0)\n",
    "    \n",
    "features_v2"
   ]
  },
  {
   "cell_type": "code",
   "execution_count": null,
   "id": "3e9e0588-3e42-4e88-9f5a-9a00fcf66362",
   "metadata": {},
   "outputs": [],
   "source": [
    "target = pd.pivot_table(\n",
    "    outcomes,\n",
    "    index=['a_patientid','time'],\n",
    "    columns=['a_variableid'],\n",
    "    values='value'\n",
    ").reset_index()\n",
    "\n",
    "target = target.rename(columns={4000001380:'flux_sang', 4000005666:'flux_efluent'})\n",
    "#tmp_path = './tmp/target.csv'\n",
    "#target.to_csv(tmp_path)\n",
    "#target = pd.read_csv(tmp_path, index_col=0)\n",
    "target"
   ]
  },
  {
   "cell_type": "code",
   "execution_count": null,
   "id": "ee503062-38d5-4564-b534-19b593179d59",
   "metadata": {},
   "outputs": [],
   "source": [
    "target['Y'] = list(map(lambda x,y: 1 if x>=0 and y>=0 else 0, target.flux_sang.fillna(-1), target.flux_efluent.fillna(-1)))  \n",
    "first_crrt = target.query('Y==1').groupby('a_patientid').time.min().reset_index()\n",
    "u_target = target.merge(first_crrt, how='inner', on=['a_patientid','time'])\n",
    "\n",
    "dataset = features_v2.merge(u_target.loc[:, ['a_patientid','time','Y']], how='left', on='a_patientid')\n",
    "\n",
    "dataset.time = dataset.time.fillna(-1)\n",
    "dataset.Y = dataset.Y.fillna(0)\n",
    "\n",
    "#dataset_v2 = dataset.query(\"time<0 or time>=820\")#.drop(columns=['time'])\n",
    "dataset"
   ]
  },
  {
   "cell_type": "code",
   "execution_count": null,
   "id": "1f3b86a7-e7a9-4d5b-9d92-4bf39de47f0c",
   "metadata": {},
   "outputs": [],
   "source": [
    "dataset.isna().sum() / dataset.shape[0]"
   ]
  }
 ],
 "metadata": {
  "instance_type": "ml.t3.medium",
  "kernelspec": {
   "display_name": "Python 3 (Data Science)",
   "language": "python",
   "name": "python3__SAGEMAKER_INTERNAL__arn:aws:sagemaker:eu-west-1:470317259841:image/datascience-1.0"
  },
  "language_info": {
   "codemirror_mode": {
    "name": "ipython",
    "version": 3
   },
   "file_extension": ".py",
   "mimetype": "text/x-python",
   "name": "python",
   "nbconvert_exporter": "python",
   "pygments_lexer": "ipython3",
   "version": "3.7.10"
  }
 },
 "nbformat": 4,
 "nbformat_minor": 5
}
